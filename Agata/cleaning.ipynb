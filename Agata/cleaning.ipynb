{
 "metadata": {
  "language_info": {
   "codemirror_mode": {
    "name": "ipython",
    "version": 3
   },
   "file_extension": ".py",
   "mimetype": "text/x-python",
   "name": "python",
   "nbconvert_exporter": "python",
   "pygments_lexer": "ipython3",
   "version": "3.8.8"
  },
  "orig_nbformat": 2,
  "kernelspec": {
   "name": "python388jvsc74a57bd058acd5bd797a08523d99af27523988877810b63fdf22f32c0dba9d8273224907",
   "display_name": "Python 3.8.8 64-bit"
  }
 },
 "nbformat": 4,
 "nbformat_minor": 2,
 "cells": [
  {
   "cell_type": "code",
   "execution_count": 1,
   "metadata": {},
   "outputs": [],
   "source": [
    "import pandas as pd \n",
    "import numpy as np \n",
    "import seaborn as sns\n",
    "from sklearn.impute import SimpleImputer"
   ]
  },
  {
   "cell_type": "code",
   "execution_count": 2,
   "metadata": {},
   "outputs": [],
   "source": [
    "readers = pd.read_csv('C:\\\\Users\\\\a814810\\\\OneDrive - Atos\\\\Documents\\\\readers.csv')"
   ]
  },
  {
   "cell_type": "code",
   "execution_count": 3,
   "metadata": {},
   "outputs": [
    {
     "output_type": "execute_result",
     "data": {
      "text/plain": [
       "   id      art_id\n",
       "0   1   ld.154103\n",
       "1   1   ld.142559\n",
       "2   1  1.18331199\n",
       "3   1   ld.144819\n",
       "4   1  ld.1293110"
      ],
      "text/html": "<div>\n<style scoped>\n    .dataframe tbody tr th:only-of-type {\n        vertical-align: middle;\n    }\n\n    .dataframe tbody tr th {\n        vertical-align: top;\n    }\n\n    .dataframe thead th {\n        text-align: right;\n    }\n</style>\n<table border=\"1\" class=\"dataframe\">\n  <thead>\n    <tr style=\"text-align: right;\">\n      <th></th>\n      <th>id</th>\n      <th>art_id</th>\n    </tr>\n  </thead>\n  <tbody>\n    <tr>\n      <th>0</th>\n      <td>1</td>\n      <td>ld.154103</td>\n    </tr>\n    <tr>\n      <th>1</th>\n      <td>1</td>\n      <td>ld.142559</td>\n    </tr>\n    <tr>\n      <th>2</th>\n      <td>1</td>\n      <td>1.18331199</td>\n    </tr>\n    <tr>\n      <th>3</th>\n      <td>1</td>\n      <td>ld.144819</td>\n    </tr>\n    <tr>\n      <th>4</th>\n      <td>1</td>\n      <td>ld.1293110</td>\n    </tr>\n  </tbody>\n</table>\n</div>"
     },
     "metadata": {},
     "execution_count": 3
    }
   ],
   "source": [
    "readers.head()"
   ]
  },
  {
   "cell_type": "code",
   "execution_count": 4,
   "metadata": {},
   "outputs": [
    {
     "output_type": "stream",
     "name": "stdout",
     "text": [
      "<class 'pandas.core.frame.DataFrame'>\nRangeIndex: 27855 entries, 0 to 27854\nData columns (total 2 columns):\n #   Column  Non-Null Count  Dtype \n---  ------  --------------  ----- \n 0   id      27855 non-null  int64 \n 1   art_id  27855 non-null  object\ndtypes: int64(1), object(1)\nmemory usage: 435.4+ KB\n"
     ]
    }
   ],
   "source": [
    "readers.info()"
   ]
  },
  {
   "cell_type": "code",
   "execution_count": 5,
   "metadata": {},
   "outputs": [
    {
     "output_type": "execute_result",
     "data": {
      "text/plain": [
       "       nzz_id           author                             catchline  \\\n",
       "0   ld.149648  Claudia Gabriel  Obligationenfonds mit fixer Laufzeit   \n",
       "1  1.18145900              NaN                                   NaN   \n",
       "2   ld.138769              NaN                     E-Banking-Ausfall   \n",
       "3   ld.143700              NaN                  Terror in Frankreich   \n",
       "4   ld.149385              NaN                     Unglück in Panama   \n",
       "\n",
       "                                             content  content_length  \\\n",
       "0  <div data-component=\"subtitle\" class=\"subtitle...             704   \n",
       "1                                                                  0   \n",
       "2  <div data-component=\"subtitle\" class=\"subtitle...             523   \n",
       "3  <div data-component=\"subtitle\" class=\"subtitle...             180   \n",
       "4  <div data-component=\"subtitle\" class=\"subtitle...             117   \n",
       "\n",
       "      department                                          lead_text  \\\n",
       "0       Finanzen  Die Idee ist gut: Statt einer einzigen Obligat...   \n",
       "1       Panorama  Zum Auftakt der Fashion Week in New York zeige...   \n",
       "2       Finanzen  Seit Sonntag funktioniert das E-Banking der Po...   \n",
       "3  International  Einen Tag nach dem Angriff auf Soldaten beim P...   \n",
       "4       Panorama  Bei einem Busunglück in Panama sind 17 Persone...   \n",
       "\n",
       "                  pub_date                                            title  \\\n",
       "0    2017-03-09 08:01:21.0              Es gibt noch interessante Varianten   \n",
       "1  2017-04-11 14:00:29.473                            Fashion Week New York   \n",
       "2    2017-01-09 13:55:00.0                Postfinance kämpft mit dem System   \n",
       "3    2017-02-04 12:50:25.0     Louvre nach Macheten-Angriff wieder geöffnet   \n",
       "4    2017-03-06 07:31:21.0  Bus prallt gegen eine Mauer und stürzt in Fluss   \n",
       "\n",
       "  flag  \n",
       "0  NaN  \n",
       "1       \n",
       "2  NaN  \n",
       "3  NaN  \n",
       "4  NaN  "
      ],
      "text/html": "<div>\n<style scoped>\n    .dataframe tbody tr th:only-of-type {\n        vertical-align: middle;\n    }\n\n    .dataframe tbody tr th {\n        vertical-align: top;\n    }\n\n    .dataframe thead th {\n        text-align: right;\n    }\n</style>\n<table border=\"1\" class=\"dataframe\">\n  <thead>\n    <tr style=\"text-align: right;\">\n      <th></th>\n      <th>nzz_id</th>\n      <th>author</th>\n      <th>catchline</th>\n      <th>content</th>\n      <th>content_length</th>\n      <th>department</th>\n      <th>lead_text</th>\n      <th>pub_date</th>\n      <th>title</th>\n      <th>flag</th>\n    </tr>\n  </thead>\n  <tbody>\n    <tr>\n      <th>0</th>\n      <td>ld.149648</td>\n      <td>Claudia Gabriel</td>\n      <td>Obligationenfonds mit fixer Laufzeit</td>\n      <td>&lt;div data-component=\"subtitle\" class=\"subtitle...</td>\n      <td>704</td>\n      <td>Finanzen</td>\n      <td>Die Idee ist gut: Statt einer einzigen Obligat...</td>\n      <td>2017-03-09 08:01:21.0</td>\n      <td>Es gibt noch interessante Varianten</td>\n      <td>NaN</td>\n    </tr>\n    <tr>\n      <th>1</th>\n      <td>1.18145900</td>\n      <td>NaN</td>\n      <td>NaN</td>\n      <td></td>\n      <td>0</td>\n      <td>Panorama</td>\n      <td>Zum Auftakt der Fashion Week in New York zeige...</td>\n      <td>2017-04-11 14:00:29.473</td>\n      <td>Fashion Week New York</td>\n      <td></td>\n    </tr>\n    <tr>\n      <th>2</th>\n      <td>ld.138769</td>\n      <td>NaN</td>\n      <td>E-Banking-Ausfall</td>\n      <td>&lt;div data-component=\"subtitle\" class=\"subtitle...</td>\n      <td>523</td>\n      <td>Finanzen</td>\n      <td>Seit Sonntag funktioniert das E-Banking der Po...</td>\n      <td>2017-01-09 13:55:00.0</td>\n      <td>Postfinance kämpft mit dem System</td>\n      <td>NaN</td>\n    </tr>\n    <tr>\n      <th>3</th>\n      <td>ld.143700</td>\n      <td>NaN</td>\n      <td>Terror in Frankreich</td>\n      <td>&lt;div data-component=\"subtitle\" class=\"subtitle...</td>\n      <td>180</td>\n      <td>International</td>\n      <td>Einen Tag nach dem Angriff auf Soldaten beim P...</td>\n      <td>2017-02-04 12:50:25.0</td>\n      <td>Louvre nach Macheten-Angriff wieder geöffnet</td>\n      <td>NaN</td>\n    </tr>\n    <tr>\n      <th>4</th>\n      <td>ld.149385</td>\n      <td>NaN</td>\n      <td>Unglück in Panama</td>\n      <td>&lt;div data-component=\"subtitle\" class=\"subtitle...</td>\n      <td>117</td>\n      <td>Panorama</td>\n      <td>Bei einem Busunglück in Panama sind 17 Persone...</td>\n      <td>2017-03-06 07:31:21.0</td>\n      <td>Bus prallt gegen eine Mauer und stürzt in Fluss</td>\n      <td>NaN</td>\n    </tr>\n  </tbody>\n</table>\n</div>"
     },
     "metadata": {},
     "execution_count": 5
    }
   ],
   "source": [
    "articles = pd.read_json('C:\\\\Users\\\\a814810\\\\OneDrive - Atos\\\\Documents\\\\articles.json', encoding=\"utf-8\", lines=True)\n",
    "articles.head()"
   ]
  },
  {
   "cell_type": "code",
   "execution_count": 6,
   "metadata": {},
   "outputs": [
    {
     "output_type": "execute_result",
     "data": {
      "text/plain": [
       "(22025, 10)"
      ]
     },
     "metadata": {},
     "execution_count": 6
    }
   ],
   "source": [
    "articles.shape"
   ]
  },
  {
   "cell_type": "code",
   "execution_count": 7,
   "metadata": {},
   "outputs": [
    {
     "output_type": "stream",
     "name": "stdout",
     "text": [
      "<class 'pandas.core.frame.DataFrame'>\nRangeIndex: 22025 entries, 0 to 22024\nData columns (total 10 columns):\n #   Column          Non-Null Count  Dtype \n---  ------          --------------  ----- \n 0   nzz_id          22025 non-null  object\n 1   author          11453 non-null  object\n 2   catchline       17872 non-null  object\n 3   content         21950 non-null  object\n 4   content_length  22025 non-null  int64 \n 5   department      20389 non-null  object\n 6   lead_text       20410 non-null  object\n 7   pub_date        22025 non-null  object\n 8   title           22019 non-null  object\n 9   flag            6675 non-null   object\ndtypes: int64(1), object(9)\nmemory usage: 1.7+ MB\n"
     ]
    }
   ],
   "source": [
    "articles.info()"
   ]
  },
  {
   "cell_type": "code",
   "execution_count": 8,
   "metadata": {},
   "outputs": [],
   "source": [
    "# missing values\n",
    "articles = articles.replace(\"\", np.nan)"
   ]
  },
  {
   "cell_type": "code",
   "execution_count": 9,
   "metadata": {},
   "outputs": [
    {
     "output_type": "execute_result",
     "data": {
      "text/plain": [
       "                Total  Percent\n",
       "flag            19125   0.8683\n",
       "author          10802   0.4904\n",
       "content          7120   0.3233\n",
       "catchline        4154   0.1886\n",
       "department       3241   0.1472\n",
       "lead_text        2334   0.1060\n",
       "title               6   0.0003\n",
       "nzz_id              0   0.0000\n",
       "content_length      0   0.0000\n",
       "pub_date            0   0.0000"
      ],
      "text/html": "<div>\n<style scoped>\n    .dataframe tbody tr th:only-of-type {\n        vertical-align: middle;\n    }\n\n    .dataframe tbody tr th {\n        vertical-align: top;\n    }\n\n    .dataframe thead th {\n        text-align: right;\n    }\n</style>\n<table border=\"1\" class=\"dataframe\">\n  <thead>\n    <tr style=\"text-align: right;\">\n      <th></th>\n      <th>Total</th>\n      <th>Percent</th>\n    </tr>\n  </thead>\n  <tbody>\n    <tr>\n      <th>flag</th>\n      <td>19125</td>\n      <td>0.8683</td>\n    </tr>\n    <tr>\n      <th>author</th>\n      <td>10802</td>\n      <td>0.4904</td>\n    </tr>\n    <tr>\n      <th>content</th>\n      <td>7120</td>\n      <td>0.3233</td>\n    </tr>\n    <tr>\n      <th>catchline</th>\n      <td>4154</td>\n      <td>0.1886</td>\n    </tr>\n    <tr>\n      <th>department</th>\n      <td>3241</td>\n      <td>0.1472</td>\n    </tr>\n    <tr>\n      <th>lead_text</th>\n      <td>2334</td>\n      <td>0.1060</td>\n    </tr>\n    <tr>\n      <th>title</th>\n      <td>6</td>\n      <td>0.0003</td>\n    </tr>\n    <tr>\n      <th>nzz_id</th>\n      <td>0</td>\n      <td>0.0000</td>\n    </tr>\n    <tr>\n      <th>content_length</th>\n      <td>0</td>\n      <td>0.0000</td>\n    </tr>\n    <tr>\n      <th>pub_date</th>\n      <td>0</td>\n      <td>0.0000</td>\n    </tr>\n  </tbody>\n</table>\n</div>"
     },
     "metadata": {},
     "execution_count": 9
    }
   ],
   "source": [
    "total = articles.isna().sum().sort_values(ascending=False)\n",
    "percent = (articles.isna().sum()/articles.isna().count()).round(4).sort_values(ascending=False)\n",
    "missing_data = pd.concat([total,percent], axis=1, keys=['Total','Percent'])\n",
    "missing_data"
   ]
  },
  {
   "cell_type": "code",
   "execution_count": 10,
   "metadata": {},
   "outputs": [],
   "source": [
    "# usunięcie niepotrzebnych kolumn\n",
    "articles = articles.drop(['flag','content','content_length'], axis=1)"
   ]
  },
  {
   "cell_type": "code",
   "execution_count": 11,
   "metadata": {},
   "outputs": [],
   "source": [
    "# zmiana typu\n",
    "articles.pub_date = pd.to_datetime(articles[\"pub_date\"])"
   ]
  },
  {
   "cell_type": "code",
   "execution_count": 12,
   "metadata": {},
   "outputs": [
    {
     "output_type": "execute_result",
     "data": {
      "text/plain": [
       "       nzz_id           author                             catchline  \\\n",
       "0   ld.149648  Claudia Gabriel  Obligationenfonds mit fixer Laufzeit   \n",
       "1  1.18145900              NaN                                   NaN   \n",
       "2   ld.138769              NaN                     E-Banking-Ausfall   \n",
       "3   ld.143700              NaN                  Terror in Frankreich   \n",
       "4   ld.149385              NaN                     Unglück in Panama   \n",
       "\n",
       "      department                                          lead_text  \\\n",
       "0       Finanzen  Die Idee ist gut: Statt einer einzigen Obligat...   \n",
       "1       Panorama  Zum Auftakt der Fashion Week in New York zeige...   \n",
       "2       Finanzen  Seit Sonntag funktioniert das E-Banking der Po...   \n",
       "3  International  Einen Tag nach dem Angriff auf Soldaten beim P...   \n",
       "4       Panorama  Bei einem Busunglück in Panama sind 17 Persone...   \n",
       "\n",
       "                 pub_date                                            title  \n",
       "0 2017-03-09 08:01:21.000              Es gibt noch interessante Varianten  \n",
       "1 2017-04-11 14:00:29.473                            Fashion Week New York  \n",
       "2 2017-01-09 13:55:00.000                Postfinance kämpft mit dem System  \n",
       "3 2017-02-04 12:50:25.000     Louvre nach Macheten-Angriff wieder geöffnet  \n",
       "4 2017-03-06 07:31:21.000  Bus prallt gegen eine Mauer und stürzt in Fluss  "
      ],
      "text/html": "<div>\n<style scoped>\n    .dataframe tbody tr th:only-of-type {\n        vertical-align: middle;\n    }\n\n    .dataframe tbody tr th {\n        vertical-align: top;\n    }\n\n    .dataframe thead th {\n        text-align: right;\n    }\n</style>\n<table border=\"1\" class=\"dataframe\">\n  <thead>\n    <tr style=\"text-align: right;\">\n      <th></th>\n      <th>nzz_id</th>\n      <th>author</th>\n      <th>catchline</th>\n      <th>department</th>\n      <th>lead_text</th>\n      <th>pub_date</th>\n      <th>title</th>\n    </tr>\n  </thead>\n  <tbody>\n    <tr>\n      <th>0</th>\n      <td>ld.149648</td>\n      <td>Claudia Gabriel</td>\n      <td>Obligationenfonds mit fixer Laufzeit</td>\n      <td>Finanzen</td>\n      <td>Die Idee ist gut: Statt einer einzigen Obligat...</td>\n      <td>2017-03-09 08:01:21.000</td>\n      <td>Es gibt noch interessante Varianten</td>\n    </tr>\n    <tr>\n      <th>1</th>\n      <td>1.18145900</td>\n      <td>NaN</td>\n      <td>NaN</td>\n      <td>Panorama</td>\n      <td>Zum Auftakt der Fashion Week in New York zeige...</td>\n      <td>2017-04-11 14:00:29.473</td>\n      <td>Fashion Week New York</td>\n    </tr>\n    <tr>\n      <th>2</th>\n      <td>ld.138769</td>\n      <td>NaN</td>\n      <td>E-Banking-Ausfall</td>\n      <td>Finanzen</td>\n      <td>Seit Sonntag funktioniert das E-Banking der Po...</td>\n      <td>2017-01-09 13:55:00.000</td>\n      <td>Postfinance kämpft mit dem System</td>\n    </tr>\n    <tr>\n      <th>3</th>\n      <td>ld.143700</td>\n      <td>NaN</td>\n      <td>Terror in Frankreich</td>\n      <td>International</td>\n      <td>Einen Tag nach dem Angriff auf Soldaten beim P...</td>\n      <td>2017-02-04 12:50:25.000</td>\n      <td>Louvre nach Macheten-Angriff wieder geöffnet</td>\n    </tr>\n    <tr>\n      <th>4</th>\n      <td>ld.149385</td>\n      <td>NaN</td>\n      <td>Unglück in Panama</td>\n      <td>Panorama</td>\n      <td>Bei einem Busunglück in Panama sind 17 Persone...</td>\n      <td>2017-03-06 07:31:21.000</td>\n      <td>Bus prallt gegen eine Mauer und stürzt in Fluss</td>\n    </tr>\n  </tbody>\n</table>\n</div>"
     },
     "metadata": {},
     "execution_count": 12
    }
   ],
   "source": [
    "articles.head()"
   ]
  },
  {
   "cell_type": "code",
   "execution_count": 13,
   "metadata": {},
   "outputs": [
    {
     "output_type": "execute_result",
     "data": {
      "text/plain": [
       "(22025, 7)"
      ]
     },
     "metadata": {},
     "execution_count": 13
    }
   ],
   "source": [
    "articles.shape"
   ]
  },
  {
   "cell_type": "code",
   "execution_count": 14,
   "metadata": {},
   "outputs": [
    {
     "output_type": "execute_result",
     "data": {
      "text/plain": [
       "           nzz_id              author                      catchline  \\\n",
       "3385   ld.1287664                 NaN                  Vor 50 Jahren   \n",
       "3764   ld.1289145       Alan Niederer                     Astronomie   \n",
       "7440    ld.154164  Susanna Rusterholz  Bundesratssitzung extra muros   \n",
       "12943  ld.1085897          Andi Maerz                            NaN   \n",
       "14855  ld.1086020                 NaN                   Donald Trump   \n",
       "19178  ld.1294531       Andrea Hutter                            NaN   \n",
       "\n",
       "          department                                          lead_text  \\\n",
       "3385        Panorama  Eine Frau an einem Marathon? Vor 50 Jahren noc...   \n",
       "3764    Wissenschaft                                                NaN   \n",
       "7440         Schweiz  Zum zwölften Mal seit 2010 trifft sich der Bun...   \n",
       "12943  International                                                NaN   \n",
       "14855          Sport                                                NaN   \n",
       "19178            NaN                                                NaN   \n",
       "\n",
       "                     pub_date title  \n",
       "3385  2017-04-19 12:45:25.280   NaN  \n",
       "3764  2017-04-27 12:42:15.251   NaN  \n",
       "7440  2017-03-29 13:07:41.963   NaN  \n",
       "12943 2017-04-12 13:49:45.074   NaN  \n",
       "14855 2017-04-13 06:36:28.852   NaN  \n",
       "19178 2017-05-18 10:19:08.107   NaN  "
      ],
      "text/html": "<div>\n<style scoped>\n    .dataframe tbody tr th:only-of-type {\n        vertical-align: middle;\n    }\n\n    .dataframe tbody tr th {\n        vertical-align: top;\n    }\n\n    .dataframe thead th {\n        text-align: right;\n    }\n</style>\n<table border=\"1\" class=\"dataframe\">\n  <thead>\n    <tr style=\"text-align: right;\">\n      <th></th>\n      <th>nzz_id</th>\n      <th>author</th>\n      <th>catchline</th>\n      <th>department</th>\n      <th>lead_text</th>\n      <th>pub_date</th>\n      <th>title</th>\n    </tr>\n  </thead>\n  <tbody>\n    <tr>\n      <th>3385</th>\n      <td>ld.1287664</td>\n      <td>NaN</td>\n      <td>Vor 50 Jahren</td>\n      <td>Panorama</td>\n      <td>Eine Frau an einem Marathon? Vor 50 Jahren noc...</td>\n      <td>2017-04-19 12:45:25.280</td>\n      <td>NaN</td>\n    </tr>\n    <tr>\n      <th>3764</th>\n      <td>ld.1289145</td>\n      <td>Alan Niederer</td>\n      <td>Astronomie</td>\n      <td>Wissenschaft</td>\n      <td>NaN</td>\n      <td>2017-04-27 12:42:15.251</td>\n      <td>NaN</td>\n    </tr>\n    <tr>\n      <th>7440</th>\n      <td>ld.154164</td>\n      <td>Susanna Rusterholz</td>\n      <td>Bundesratssitzung extra muros</td>\n      <td>Schweiz</td>\n      <td>Zum zwölften Mal seit 2010 trifft sich der Bun...</td>\n      <td>2017-03-29 13:07:41.963</td>\n      <td>NaN</td>\n    </tr>\n    <tr>\n      <th>12943</th>\n      <td>ld.1085897</td>\n      <td>Andi Maerz</td>\n      <td>NaN</td>\n      <td>International</td>\n      <td>NaN</td>\n      <td>2017-04-12 13:49:45.074</td>\n      <td>NaN</td>\n    </tr>\n    <tr>\n      <th>14855</th>\n      <td>ld.1086020</td>\n      <td>NaN</td>\n      <td>Donald Trump</td>\n      <td>Sport</td>\n      <td>NaN</td>\n      <td>2017-04-13 06:36:28.852</td>\n      <td>NaN</td>\n    </tr>\n    <tr>\n      <th>19178</th>\n      <td>ld.1294531</td>\n      <td>Andrea Hutter</td>\n      <td>NaN</td>\n      <td>NaN</td>\n      <td>NaN</td>\n      <td>2017-05-18 10:19:08.107</td>\n      <td>NaN</td>\n    </tr>\n  </tbody>\n</table>\n</div>"
     },
     "metadata": {},
     "execution_count": 14
    }
   ],
   "source": [
    "# uzupełnianie/usuwanie braków\n",
    "# title \n",
    "articles.query('title.isna()') # w większości brak catchline i lead_text, można usunąć"
   ]
  },
  {
   "cell_type": "code",
   "execution_count": 15,
   "metadata": {},
   "outputs": [],
   "source": [
    "articles = articles[articles.title.notna()]"
   ]
  },
  {
   "cell_type": "code",
   "execution_count": 16,
   "metadata": {},
   "outputs": [],
   "source": [
    "colnames = articles.columns # zachowanie nazw kolumn"
   ]
  },
  {
   "cell_type": "code",
   "execution_count": 17,
   "metadata": {},
   "outputs": [],
   "source": [
    "imputer  = SimpleImputer(strategy='constant',fill_value='Unknown')\n",
    "articles = pd.DataFrame(imputer.fit_transform(articles))\n",
    "articles.columns = colnames"
   ]
  },
  {
   "cell_type": "code",
   "execution_count": 18,
   "metadata": {},
   "outputs": [
    {
     "output_type": "execute_result",
     "data": {
      "text/plain": [
       "       nzz_id           author                             catchline  \\\n",
       "0   ld.149648  Claudia Gabriel  Obligationenfonds mit fixer Laufzeit   \n",
       "1  1.18145900          Unknown                               Unknown   \n",
       "2   ld.138769          Unknown                     E-Banking-Ausfall   \n",
       "3   ld.143700          Unknown                  Terror in Frankreich   \n",
       "4   ld.149385          Unknown                     Unglück in Panama   \n",
       "\n",
       "      department                                          lead_text  \\\n",
       "0       Finanzen  Die Idee ist gut: Statt einer einzigen Obligat...   \n",
       "1       Panorama  Zum Auftakt der Fashion Week in New York zeige...   \n",
       "2       Finanzen  Seit Sonntag funktioniert das E-Banking der Po...   \n",
       "3  International  Einen Tag nach dem Angriff auf Soldaten beim P...   \n",
       "4       Panorama  Bei einem Busunglück in Panama sind 17 Persone...   \n",
       "\n",
       "                 pub_date                                            title  \n",
       "0 2017-03-09 08:01:21.000              Es gibt noch interessante Varianten  \n",
       "1 2017-04-11 14:00:29.473                            Fashion Week New York  \n",
       "2 2017-01-09 13:55:00.000                Postfinance kämpft mit dem System  \n",
       "3 2017-02-04 12:50:25.000     Louvre nach Macheten-Angriff wieder geöffnet  \n",
       "4 2017-03-06 07:31:21.000  Bus prallt gegen eine Mauer und stürzt in Fluss  "
      ],
      "text/html": "<div>\n<style scoped>\n    .dataframe tbody tr th:only-of-type {\n        vertical-align: middle;\n    }\n\n    .dataframe tbody tr th {\n        vertical-align: top;\n    }\n\n    .dataframe thead th {\n        text-align: right;\n    }\n</style>\n<table border=\"1\" class=\"dataframe\">\n  <thead>\n    <tr style=\"text-align: right;\">\n      <th></th>\n      <th>nzz_id</th>\n      <th>author</th>\n      <th>catchline</th>\n      <th>department</th>\n      <th>lead_text</th>\n      <th>pub_date</th>\n      <th>title</th>\n    </tr>\n  </thead>\n  <tbody>\n    <tr>\n      <th>0</th>\n      <td>ld.149648</td>\n      <td>Claudia Gabriel</td>\n      <td>Obligationenfonds mit fixer Laufzeit</td>\n      <td>Finanzen</td>\n      <td>Die Idee ist gut: Statt einer einzigen Obligat...</td>\n      <td>2017-03-09 08:01:21.000</td>\n      <td>Es gibt noch interessante Varianten</td>\n    </tr>\n    <tr>\n      <th>1</th>\n      <td>1.18145900</td>\n      <td>Unknown</td>\n      <td>Unknown</td>\n      <td>Panorama</td>\n      <td>Zum Auftakt der Fashion Week in New York zeige...</td>\n      <td>2017-04-11 14:00:29.473</td>\n      <td>Fashion Week New York</td>\n    </tr>\n    <tr>\n      <th>2</th>\n      <td>ld.138769</td>\n      <td>Unknown</td>\n      <td>E-Banking-Ausfall</td>\n      <td>Finanzen</td>\n      <td>Seit Sonntag funktioniert das E-Banking der Po...</td>\n      <td>2017-01-09 13:55:00.000</td>\n      <td>Postfinance kämpft mit dem System</td>\n    </tr>\n    <tr>\n      <th>3</th>\n      <td>ld.143700</td>\n      <td>Unknown</td>\n      <td>Terror in Frankreich</td>\n      <td>International</td>\n      <td>Einen Tag nach dem Angriff auf Soldaten beim P...</td>\n      <td>2017-02-04 12:50:25.000</td>\n      <td>Louvre nach Macheten-Angriff wieder geöffnet</td>\n    </tr>\n    <tr>\n      <th>4</th>\n      <td>ld.149385</td>\n      <td>Unknown</td>\n      <td>Unglück in Panama</td>\n      <td>Panorama</td>\n      <td>Bei einem Busunglück in Panama sind 17 Persone...</td>\n      <td>2017-03-06 07:31:21.000</td>\n      <td>Bus prallt gegen eine Mauer und stürzt in Fluss</td>\n    </tr>\n  </tbody>\n</table>\n</div>"
     },
     "metadata": {},
     "execution_count": 18
    }
   ],
   "source": [
    "articles.head()"
   ]
  },
  {
   "cell_type": "code",
   "execution_count": 19,
   "metadata": {},
   "outputs": [
    {
     "output_type": "execute_result",
     "data": {
      "text/plain": [
       "nzz_id        0\n",
       "author        0\n",
       "catchline     0\n",
       "department    0\n",
       "lead_text     0\n",
       "pub_date      0\n",
       "title         0\n",
       "dtype: int64"
      ]
     },
     "metadata": {},
     "execution_count": 19
    }
   ],
   "source": [
    "articles.isna().sum()"
   ]
  },
  {
   "cell_type": "code",
   "execution_count": 20,
   "metadata": {},
   "outputs": [
    {
     "output_type": "execute_result",
     "data": {
      "text/plain": [
       "(22019, 7)"
      ]
     },
     "metadata": {},
     "execution_count": 20
    }
   ],
   "source": [
    "articles.shape"
   ]
  },
  {
   "cell_type": "code",
   "execution_count": 21,
   "metadata": {},
   "outputs": [],
   "source": [
    "articles.to_csv(\"articles_clean.csv\", encoding=\"utf-8\", index=False)"
   ]
  }
 ]
}