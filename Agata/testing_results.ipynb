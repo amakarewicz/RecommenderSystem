{
 "metadata": {
  "language_info": {
   "codemirror_mode": {
    "name": "ipython",
    "version": 3
   },
   "file_extension": ".py",
   "mimetype": "text/x-python",
   "name": "python",
   "nbconvert_exporter": "python",
   "pygments_lexer": "ipython3",
   "version": "3.8.8"
  },
  "orig_nbformat": 2,
  "kernelspec": {
   "name": "python388jvsc74a57bd058acd5bd797a08523d99af27523988877810b63fdf22f32c0dba9d8273224907",
   "display_name": "Python 3.8.8 64-bit"
  }
 },
 "nbformat": 4,
 "nbformat_minor": 2,
 "cells": [
  {
   "cell_type": "code",
   "execution_count": 32,
   "metadata": {},
   "outputs": [],
   "source": [
    "import pandas as pd\n",
    "import numpy as np \n",
    "import seaborn as sns\n",
    "import matplotlib.pyplot as plt\n",
    "from sklearn.metrics.pairwise import cosine_similarity\n",
    "from scipy import sparse"
   ]
  },
  {
   "cell_type": "code",
   "execution_count": 4,
   "metadata": {},
   "outputs": [],
   "source": [
    "results = pd.read_csv(r'C:\\Users\\a814810\\OneDrive - Atos\\Documents\\RecommenderSystem\\Agata\\test_results_long')"
   ]
  },
  {
   "cell_type": "code",
   "execution_count": 20,
   "metadata": {},
   "outputs": [],
   "source": [
    "pd.set_option('display.max_rows', 120)\n",
    "good_results = results.query('f1score>0')\n",
    "#good_results"
   ]
  },
  {
   "cell_type": "code",
   "execution_count": 21,
   "metadata": {},
   "outputs": [],
   "source": [
    "#results[results.train_articles+results.test_articles > 45]"
   ]
  },
  {
   "cell_type": "code",
   "execution_count": 78,
   "metadata": {},
   "outputs": [
    {
     "output_type": "execute_result",
     "data": {
      "text/plain": [
       "array([ 18,  31,  37,  51,  57,  62,  75,  79, 102, 106, 137, 153, 170,\n",
       "       185, 199, 208, 266, 313, 325, 386, 387, 393, 421, 504, 521, 532,\n",
       "       598, 601, 604, 608, 638, 647, 648, 681, 706, 707, 709, 719, 749,\n",
       "       759, 810, 847, 853, 874, 887, 920, 921, 950, 968, 970, 991],\n",
       "      dtype=int64)"
      ]
     },
     "metadata": {},
     "execution_count": 78
    }
   ],
   "source": [
    "good_users = good_results.user.unique()\n",
    "good_users"
   ]
  },
  {
   "cell_type": "code",
   "execution_count": 7,
   "metadata": {},
   "outputs": [],
   "source": [
    "readers = pd.read_csv('./../readers.csv')"
   ]
  },
  {
   "cell_type": "code",
   "execution_count": 22,
   "metadata": {},
   "outputs": [
    {
     "output_type": "stream",
     "name": "stdout",
     "text": [
      "# users: 1000\n# users with at least 5 interactions: 135\n"
     ]
    }
   ],
   "source": [
    "users_interactions_count_df = readers.groupby(['user_id', 'nzz_id']).size().groupby('user_id').size()\n",
    "print('# users: %d' % len(users_interactions_count_df))\n",
    "users_with_enough_interactions_df = users_interactions_count_df[users_interactions_count_df >= 45].reset_index()[['user_id']]\n",
    "print('# users with at least 5 interactions: %d' % len(users_with_enough_interactions_df))\n",
    "# users_interactions_count_df.loc[good_users]"
   ]
  },
  {
   "cell_type": "code",
   "execution_count": 51,
   "metadata": {},
   "outputs": [],
   "source": [
    "results_lemma = pd.read_csv(r'C:\\Users\\a814810\\OneDrive - Atos\\Documents\\RecommenderSystem\\Agata\\test_results_long_lemma')"
   ]
  },
  {
   "cell_type": "code",
   "execution_count": 52,
   "metadata": {},
   "outputs": [
    {
     "output_type": "execute_result",
     "data": {
      "text/plain": [
       "              model  user  number_of_recomm  train_articles  test_articles  \\\n",
       "51    Content-Based    18                 5               4              3   \n",
       "52    Content-Based    18                10               4              3   \n",
       "53    Content-Based    18                15               4              3   \n",
       "70    Content-Based    24                10              22             18   \n",
       "71    Content-Based    24                15              22             18   \n",
       "...             ...   ...               ...             ...            ...   \n",
       "2903  Content-Based   970                15              20             20   \n",
       "2959  Content-Based   989                10              26             20   \n",
       "2960  Content-Based   989                15              26             20   \n",
       "2965  Content-Based   991                10              31             17   \n",
       "2966  Content-Based   991                15              31             17   \n",
       "\n",
       "      precision    recall   f1score  \n",
       "51     0.200000  0.333333  0.250000  \n",
       "52     0.100000  0.333333  0.153846  \n",
       "53     0.066667  0.333333  0.111111  \n",
       "70     0.100000  0.055556  0.071429  \n",
       "71     0.066667  0.055556  0.060606  \n",
       "...         ...       ...       ...  \n",
       "2903   0.066667  0.050000  0.057143  \n",
       "2959   0.100000  0.050000  0.066667  \n",
       "2960   0.066667  0.050000  0.057143  \n",
       "2965   0.100000  0.058824  0.074074  \n",
       "2966   0.066667  0.058824  0.062500  \n",
       "\n",
       "[95 rows x 8 columns]"
      ],
      "text/html": "<div>\n<style scoped>\n    .dataframe tbody tr th:only-of-type {\n        vertical-align: middle;\n    }\n\n    .dataframe tbody tr th {\n        vertical-align: top;\n    }\n\n    .dataframe thead th {\n        text-align: right;\n    }\n</style>\n<table border=\"1\" class=\"dataframe\">\n  <thead>\n    <tr style=\"text-align: right;\">\n      <th></th>\n      <th>model</th>\n      <th>user</th>\n      <th>number_of_recomm</th>\n      <th>train_articles</th>\n      <th>test_articles</th>\n      <th>precision</th>\n      <th>recall</th>\n      <th>f1score</th>\n    </tr>\n  </thead>\n  <tbody>\n    <tr>\n      <th>51</th>\n      <td>Content-Based</td>\n      <td>18</td>\n      <td>5</td>\n      <td>4</td>\n      <td>3</td>\n      <td>0.200000</td>\n      <td>0.333333</td>\n      <td>0.250000</td>\n    </tr>\n    <tr>\n      <th>52</th>\n      <td>Content-Based</td>\n      <td>18</td>\n      <td>10</td>\n      <td>4</td>\n      <td>3</td>\n      <td>0.100000</td>\n      <td>0.333333</td>\n      <td>0.153846</td>\n    </tr>\n    <tr>\n      <th>53</th>\n      <td>Content-Based</td>\n      <td>18</td>\n      <td>15</td>\n      <td>4</td>\n      <td>3</td>\n      <td>0.066667</td>\n      <td>0.333333</td>\n      <td>0.111111</td>\n    </tr>\n    <tr>\n      <th>70</th>\n      <td>Content-Based</td>\n      <td>24</td>\n      <td>10</td>\n      <td>22</td>\n      <td>18</td>\n      <td>0.100000</td>\n      <td>0.055556</td>\n      <td>0.071429</td>\n    </tr>\n    <tr>\n      <th>71</th>\n      <td>Content-Based</td>\n      <td>24</td>\n      <td>15</td>\n      <td>22</td>\n      <td>18</td>\n      <td>0.066667</td>\n      <td>0.055556</td>\n      <td>0.060606</td>\n    </tr>\n    <tr>\n      <th>...</th>\n      <td>...</td>\n      <td>...</td>\n      <td>...</td>\n      <td>...</td>\n      <td>...</td>\n      <td>...</td>\n      <td>...</td>\n      <td>...</td>\n    </tr>\n    <tr>\n      <th>2903</th>\n      <td>Content-Based</td>\n      <td>970</td>\n      <td>15</td>\n      <td>20</td>\n      <td>20</td>\n      <td>0.066667</td>\n      <td>0.050000</td>\n      <td>0.057143</td>\n    </tr>\n    <tr>\n      <th>2959</th>\n      <td>Content-Based</td>\n      <td>989</td>\n      <td>10</td>\n      <td>26</td>\n      <td>20</td>\n      <td>0.100000</td>\n      <td>0.050000</td>\n      <td>0.066667</td>\n    </tr>\n    <tr>\n      <th>2960</th>\n      <td>Content-Based</td>\n      <td>989</td>\n      <td>15</td>\n      <td>26</td>\n      <td>20</td>\n      <td>0.066667</td>\n      <td>0.050000</td>\n      <td>0.057143</td>\n    </tr>\n    <tr>\n      <th>2965</th>\n      <td>Content-Based</td>\n      <td>991</td>\n      <td>10</td>\n      <td>31</td>\n      <td>17</td>\n      <td>0.100000</td>\n      <td>0.058824</td>\n      <td>0.074074</td>\n    </tr>\n    <tr>\n      <th>2966</th>\n      <td>Content-Based</td>\n      <td>991</td>\n      <td>15</td>\n      <td>31</td>\n      <td>17</td>\n      <td>0.066667</td>\n      <td>0.058824</td>\n      <td>0.062500</td>\n    </tr>\n  </tbody>\n</table>\n<p>95 rows × 8 columns</p>\n</div>"
     },
     "metadata": {},
     "execution_count": 52
    }
   ],
   "source": [
    "good_results_lemma = results_lemma.query('f1score>0')\n",
    "good_results_lemma"
   ]
  },
  {
   "cell_type": "code",
   "execution_count": 23,
   "metadata": {},
   "outputs": [],
   "source": [
    "\n",
    "# art_db = pd.read_csv('./data/articles_clean.csv')\n",
    "\n",
    "# plt.figure(figsize=(10, 6))\n",
    "# sns.histplot(art_db.loc[art_db.content_len >0, 'content_len'])"
   ]
  },
  {
   "cell_type": "code",
   "execution_count": null,
   "metadata": {},
   "outputs": [],
   "source": [
    "plt.figure(figsize=(10, 6))\n",
    "sns.histplot(art_db.loc[art_db.content_len >0, 'content_len'])"
   ]
  },
  {
   "cell_type": "code",
   "execution_count": 33,
   "metadata": {},
   "outputs": [],
   "source": [
    "art_db = pd.read_csv(r'C:\\Users\\a814810\\OneDrive - Atos\\Documents\\RecommenderSystem\\final_model\\articles_final.csv')\n",
    "matrix = sparse.load_npz(\"./vectorized/vec_matrix.npz\")\n"
   ]
  },
  {
   "cell_type": "code",
   "execution_count": 153,
   "metadata": {},
   "outputs": [],
   "source": [
    "df_test = readers[readers.user_id==421]"
   ]
  },
  {
   "cell_type": "code",
   "execution_count": 154,
   "metadata": {},
   "outputs": [],
   "source": [
    "id_list = list(df_test['nzz_id']) \n",
    "# extracting indices of those articles (in articles_db)\n",
    "indices = art_db[art_db.nzz_id.isin(id_list)].index.tolist()\n",
    "\n",
    "# extracting pairs of similar articles based on cosine similarities between vectors\n",
    "matrix_lower = np.tril(cosine_similarity(matrix[indices]))\n",
    "np.fill_diagonal(matrix_lower, 0)\n",
    "similar_pairs = np.where(matrix_lower>=0.3)\n",
    "similar_df = pd.DataFrame(np.column_stack(similar_pairs),columns=['first_art','second_art'])"
   ]
  },
  {
   "cell_type": "code",
   "execution_count": 155,
   "metadata": {},
   "outputs": [
    {
     "output_type": "execute_result",
     "data": {
      "text/plain": [
       "   first_art  second_art\n",
       "0         44          27"
      ],
      "text/html": "<div>\n<style scoped>\n    .dataframe tbody tr th:only-of-type {\n        vertical-align: middle;\n    }\n\n    .dataframe tbody tr th {\n        vertical-align: top;\n    }\n\n    .dataframe thead th {\n        text-align: right;\n    }\n</style>\n<table border=\"1\" class=\"dataframe\">\n  <thead>\n    <tr style=\"text-align: right;\">\n      <th></th>\n      <th>first_art</th>\n      <th>second_art</th>\n    </tr>\n  </thead>\n  <tbody>\n    <tr>\n      <th>0</th>\n      <td>44</td>\n      <td>27</td>\n    </tr>\n  </tbody>\n</table>\n</div>"
     },
     "metadata": {},
     "execution_count": 155
    }
   ],
   "source": [
    "similar_df"
   ]
  },
  {
   "cell_type": "code",
   "execution_count": 168,
   "metadata": {},
   "outputs": [
    {
     "output_type": "stream",
     "name": "stdout",
     "text": [
      "12 - 25\n",
      "good user next\n",
      "37 - 25\n",
      "54 - 28\n",
      "73 - 25\n",
      "146 - 27\n",
      "good user next\n",
      "153 - 25\n",
      "184 - 25\n",
      "189 - 26\n",
      "good user next\n",
      "199 - 27\n",
      "248 - 25\n",
      "273 - 28\n",
      "328 - 30\n",
      "374 - 25\n",
      "good user next\n",
      "387 - 28\n",
      "good user next\n",
      "421 - 27\n",
      "441 - 31\n",
      "465 - 27\n",
      "541 - 27\n",
      "588 - 26\n",
      "good user next\n",
      "598 - 26\n",
      "good user next\n",
      "601 - 27\n",
      "641 - 25\n",
      "655 - 25\n",
      "690 - 30\n",
      "good user next\n",
      "719 - 28\n",
      "733 - 25\n",
      "743 - 25\n",
      "823 - 30\n",
      "826 - 26\n",
      "859 - 27\n",
      "870 - 25\n",
      "897 - 26\n",
      "901 - 25\n",
      "908 - 31\n",
      "914 - 25\n",
      "good user next\n",
      "970 - 26\n"
     ]
    }
   ],
   "source": [
    "\n",
    "for us_id in readers.user_id.unique():\n",
    "    df_test = readers[readers.user_id==us_id]\n",
    "    id_list = list(df_test['nzz_id']) \n",
    "    deps = art_db[art_db.nzz_id.isin(id_list)]['department'].value_counts()\n",
    "    if us_id in good_users and deps[0] >=25 : print('good user next')\n",
    "    if deps[0] >=25:\n",
    "        print(us_id,\"-\", deps[0])"
   ]
  },
  {
   "cell_type": "code",
   "execution_count": null,
   "metadata": {},
   "outputs": [],
   "source": []
  },
  {
   "cell_type": "code",
   "execution_count": null,
   "metadata": {},
   "outputs": [],
   "source": []
  }
 ]
}