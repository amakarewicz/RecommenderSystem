{
 "metadata": {
  "language_info": {
   "codemirror_mode": {
    "name": "ipython",
    "version": 3
   },
   "file_extension": ".py",
   "mimetype": "text/x-python",
   "name": "python",
   "nbconvert_exporter": "python",
   "pygments_lexer": "ipython3",
   "version": "3.8.8"
  },
  "orig_nbformat": 2,
  "kernelspec": {
   "name": "python388jvsc74a57bd058acd5bd797a08523d99af27523988877810b63fdf22f32c0dba9d8273224907",
   "display_name": "Python 3.8.8 64-bit"
  }
 },
 "nbformat": 4,
 "nbformat_minor": 2,
 "cells": [
  {
   "cell_type": "code",
   "execution_count": 148,
   "metadata": {},
   "outputs": [],
   "source": [
    "import numpy as np\n",
    "import scipy\n",
    "import pandas as pd\n",
    "import math\n",
    "import matplotlib.pyplot as plt\n",
    "import random\n",
    "import sklearn\n",
    "import spacy\n",
    "nlp = spacy.load('de_core_news_md')\n",
    "# import fasttext\n",
    "\n",
    "import re\n",
    "from bs4 import BeautifulSoup\n",
    "import nltk\n",
    "from nltk import word_tokenize\n",
    "from nltk.corpus import stopwords\n",
    "\n",
    "from sklearn.impute import SimpleImputer\n",
    "from sklearn.model_selection import train_test_split\n",
    "from sklearn.feature_extraction.text import CountVectorizer, TfidfVectorizer\n",
    "from sklearn.metrics.pairwise import cosine_similarity\n",
    "from sklearn.preprocessing import MinMaxScaler\n",
    "\n",
    "from scipy.sparse.linalg import svds\n",
    "from scipy.sparse import csr_matrix"
   ]
  },
  {
   "cell_type": "code",
   "execution_count": 149,
   "metadata": {},
   "outputs": [],
   "source": [
    "articles = pd.read_csv('./data/articles_clean.csv')"
   ]
  },
  {
   "cell_type": "code",
   "execution_count": 150,
   "metadata": {},
   "outputs": [
    {
     "output_type": "execute_result",
     "data": {
      "text/plain": [
       "       nzz_id           author                             catchline  \\\n",
       "0   ld.149648  Claudia Gabriel  Obligationenfonds mit fixer Laufzeit   \n",
       "1  1.18145900          Unknown                               Unknown   \n",
       "2   ld.138769          Unknown                     E-Banking-Ausfall   \n",
       "3   ld.143700          Unknown                  Terror in Frankreich   \n",
       "4   ld.149385          Unknown                     Unglück in Panama   \n",
       "\n",
       "                                             content     department  \\\n",
       "0     obligationenfonds mit fixer laufzeit  es gi...       Finanzen   \n",
       "1                                                          Panorama   \n",
       "2     e banking ausfall  postfinance kämpft mit d...       Finanzen   \n",
       "3     terror in frankreich  louvre nach macheten ...  International   \n",
       "4     unglück in panama  bus prallt gegen eine ma...       Panorama   \n",
       "\n",
       "                                           lead_text                 pub_date  \\\n",
       "0  Die Idee ist gut: Statt einer einzigen Obligat...  2017-03-09 08:01:21.000   \n",
       "1  Zum Auftakt der Fashion Week in New York zeige...  2017-04-11 14:00:29.473   \n",
       "2  Seit Sonntag funktioniert das E-Banking der Po...  2017-01-09 13:55:00.000   \n",
       "3  Einen Tag nach dem Angriff auf Soldaten beim P...  2017-02-04 12:50:25.000   \n",
       "4  Bei einem Busunglück in Panama sind 17 Persone...  2017-03-06 07:31:21.000   \n",
       "\n",
       "                                             title  content_len  \n",
       "0              Es gibt noch interessante Varianten          718  \n",
       "1                            Fashion Week New York            0  \n",
       "2                Postfinance kämpft mit dem System          525  \n",
       "3     Louvre nach Macheten-Angriff wieder geöffnet          181  \n",
       "4  Bus prallt gegen eine Mauer und stürzt in Fluss          110  "
      ],
      "text/html": "<div>\n<style scoped>\n    .dataframe tbody tr th:only-of-type {\n        vertical-align: middle;\n    }\n\n    .dataframe tbody tr th {\n        vertical-align: top;\n    }\n\n    .dataframe thead th {\n        text-align: right;\n    }\n</style>\n<table border=\"1\" class=\"dataframe\">\n  <thead>\n    <tr style=\"text-align: right;\">\n      <th></th>\n      <th>nzz_id</th>\n      <th>author</th>\n      <th>catchline</th>\n      <th>content</th>\n      <th>department</th>\n      <th>lead_text</th>\n      <th>pub_date</th>\n      <th>title</th>\n      <th>content_len</th>\n    </tr>\n  </thead>\n  <tbody>\n    <tr>\n      <th>0</th>\n      <td>ld.149648</td>\n      <td>Claudia Gabriel</td>\n      <td>Obligationenfonds mit fixer Laufzeit</td>\n      <td>obligationenfonds mit fixer laufzeit  es gi...</td>\n      <td>Finanzen</td>\n      <td>Die Idee ist gut: Statt einer einzigen Obligat...</td>\n      <td>2017-03-09 08:01:21.000</td>\n      <td>Es gibt noch interessante Varianten</td>\n      <td>718</td>\n    </tr>\n    <tr>\n      <th>1</th>\n      <td>1.18145900</td>\n      <td>Unknown</td>\n      <td>Unknown</td>\n      <td></td>\n      <td>Panorama</td>\n      <td>Zum Auftakt der Fashion Week in New York zeige...</td>\n      <td>2017-04-11 14:00:29.473</td>\n      <td>Fashion Week New York</td>\n      <td>0</td>\n    </tr>\n    <tr>\n      <th>2</th>\n      <td>ld.138769</td>\n      <td>Unknown</td>\n      <td>E-Banking-Ausfall</td>\n      <td>e banking ausfall  postfinance kämpft mit d...</td>\n      <td>Finanzen</td>\n      <td>Seit Sonntag funktioniert das E-Banking der Po...</td>\n      <td>2017-01-09 13:55:00.000</td>\n      <td>Postfinance kämpft mit dem System</td>\n      <td>525</td>\n    </tr>\n    <tr>\n      <th>3</th>\n      <td>ld.143700</td>\n      <td>Unknown</td>\n      <td>Terror in Frankreich</td>\n      <td>terror in frankreich  louvre nach macheten ...</td>\n      <td>International</td>\n      <td>Einen Tag nach dem Angriff auf Soldaten beim P...</td>\n      <td>2017-02-04 12:50:25.000</td>\n      <td>Louvre nach Macheten-Angriff wieder geöffnet</td>\n      <td>181</td>\n    </tr>\n    <tr>\n      <th>4</th>\n      <td>ld.149385</td>\n      <td>Unknown</td>\n      <td>Unglück in Panama</td>\n      <td>unglück in panama  bus prallt gegen eine ma...</td>\n      <td>Panorama</td>\n      <td>Bei einem Busunglück in Panama sind 17 Persone...</td>\n      <td>2017-03-06 07:31:21.000</td>\n      <td>Bus prallt gegen eine Mauer und stürzt in Fluss</td>\n      <td>110</td>\n    </tr>\n  </tbody>\n</table>\n</div>"
     },
     "metadata": {},
     "execution_count": 150
    }
   ],
   "source": [
    "articles.head()"
   ]
  },
  {
   "source": [
    "### Lematyzacja"
   ],
   "cell_type": "markdown",
   "metadata": {}
  },
  {
   "cell_type": "code",
   "execution_count": 111,
   "metadata": {},
   "outputs": [],
   "source": [
    "def lemmatizer(data): \n",
    "    doc = nlp(data)\n",
    "    result = ' '.join([x.lemma_ for x in doc]) \n",
    "    return result"
   ]
  },
  {
   "cell_type": "code",
   "execution_count": 117,
   "metadata": {},
   "outputs": [
    {
     "output_type": "stream",
     "name": "stdout",
     "text": [
      "Wall time: 40min 48s\n"
     ]
    }
   ],
   "source": [
    "%%time\n",
    "content_lemmatized = articles['content'].apply(lemmatizer)"
   ]
  },
  {
   "cell_type": "code",
   "execution_count": 121,
   "metadata": {},
   "outputs": [
    {
     "output_type": "execute_result",
     "data": {
      "text/plain": [
       "                                             content\n",
       "0      obligationenfonds mit fixer laufzeit   ich...\n",
       "1                                                   \n",
       "2      e banking ausfall   postfinance kämpfen mi...\n",
       "3      terror in frankreich   louvre nach machete...\n",
       "4      unglück in panama   bus prallen gegen eine..."
      ],
      "text/html": "<div>\n<style scoped>\n    .dataframe tbody tr th:only-of-type {\n        vertical-align: middle;\n    }\n\n    .dataframe tbody tr th {\n        vertical-align: top;\n    }\n\n    .dataframe thead th {\n        text-align: right;\n    }\n</style>\n<table border=\"1\" class=\"dataframe\">\n  <thead>\n    <tr style=\"text-align: right;\">\n      <th></th>\n      <th>content</th>\n    </tr>\n  </thead>\n  <tbody>\n    <tr>\n      <th>0</th>\n      <td>obligationenfonds mit fixer laufzeit   ich...</td>\n    </tr>\n    <tr>\n      <th>1</th>\n      <td></td>\n    </tr>\n    <tr>\n      <th>2</th>\n      <td>e banking ausfall   postfinance kämpfen mi...</td>\n    </tr>\n    <tr>\n      <th>3</th>\n      <td>terror in frankreich   louvre nach machete...</td>\n    </tr>\n    <tr>\n      <th>4</th>\n      <td>unglück in panama   bus prallen gegen eine...</td>\n    </tr>\n  </tbody>\n</table>\n</div>"
     },
     "metadata": {},
     "execution_count": 121
    }
   ],
   "source": [
    "pd.DataFrame(content_lemmatized).head()"
   ]
  },
  {
   "cell_type": "code",
   "execution_count": 123,
   "metadata": {},
   "outputs": [],
   "source": [
    "articles_lemma = articles.copy()"
   ]
  },
  {
   "cell_type": "code",
   "execution_count": 127,
   "metadata": {},
   "outputs": [],
   "source": [
    "articles_lemma['content'] = content_lemmatized"
   ]
  },
  {
   "cell_type": "code",
   "execution_count": 128,
   "metadata": {},
   "outputs": [
    {
     "output_type": "execute_result",
     "data": {
      "text/plain": [
       "       nzz_id           author                             catchline  \\\n",
       "0   ld.149648  Claudia Gabriel  Obligationenfonds mit fixer Laufzeit   \n",
       "1  1.18145900          Unknown                               Unknown   \n",
       "2   ld.138769          Unknown                     E-Banking-Ausfall   \n",
       "3   ld.143700          Unknown                  Terror in Frankreich   \n",
       "4   ld.149385          Unknown                     Unglück in Panama   \n",
       "\n",
       "                                             content     department  \\\n",
       "0      obligationenfonds mit fixer laufzeit   ich...       Finanzen   \n",
       "1                                                          Panorama   \n",
       "2      e banking ausfall   postfinance kämpfen mi...       Finanzen   \n",
       "3      terror in frankreich   louvre nach machete...  International   \n",
       "4      unglück in panama   bus prallen gegen eine...       Panorama   \n",
       "\n",
       "                                           lead_text                 pub_date  \\\n",
       "0  Die Idee ist gut: Statt einer einzigen Obligat...  2017-03-09 08:01:21.000   \n",
       "1  Zum Auftakt der Fashion Week in New York zeige...  2017-04-11 14:00:29.473   \n",
       "2  Seit Sonntag funktioniert das E-Banking der Po...  2017-01-09 13:55:00.000   \n",
       "3  Einen Tag nach dem Angriff auf Soldaten beim P...  2017-02-04 12:50:25.000   \n",
       "4  Bei einem Busunglück in Panama sind 17 Persone...  2017-03-06 07:31:21.000   \n",
       "\n",
       "                                             title  content_len  \n",
       "0              Es gibt noch interessante Varianten          718  \n",
       "1                            Fashion Week New York            0  \n",
       "2                Postfinance kämpft mit dem System          525  \n",
       "3     Louvre nach Macheten-Angriff wieder geöffnet          181  \n",
       "4  Bus prallt gegen eine Mauer und stürzt in Fluss          110  "
      ],
      "text/html": "<div>\n<style scoped>\n    .dataframe tbody tr th:only-of-type {\n        vertical-align: middle;\n    }\n\n    .dataframe tbody tr th {\n        vertical-align: top;\n    }\n\n    .dataframe thead th {\n        text-align: right;\n    }\n</style>\n<table border=\"1\" class=\"dataframe\">\n  <thead>\n    <tr style=\"text-align: right;\">\n      <th></th>\n      <th>nzz_id</th>\n      <th>author</th>\n      <th>catchline</th>\n      <th>content</th>\n      <th>department</th>\n      <th>lead_text</th>\n      <th>pub_date</th>\n      <th>title</th>\n      <th>content_len</th>\n    </tr>\n  </thead>\n  <tbody>\n    <tr>\n      <th>0</th>\n      <td>ld.149648</td>\n      <td>Claudia Gabriel</td>\n      <td>Obligationenfonds mit fixer Laufzeit</td>\n      <td>obligationenfonds mit fixer laufzeit   ich...</td>\n      <td>Finanzen</td>\n      <td>Die Idee ist gut: Statt einer einzigen Obligat...</td>\n      <td>2017-03-09 08:01:21.000</td>\n      <td>Es gibt noch interessante Varianten</td>\n      <td>718</td>\n    </tr>\n    <tr>\n      <th>1</th>\n      <td>1.18145900</td>\n      <td>Unknown</td>\n      <td>Unknown</td>\n      <td></td>\n      <td>Panorama</td>\n      <td>Zum Auftakt der Fashion Week in New York zeige...</td>\n      <td>2017-04-11 14:00:29.473</td>\n      <td>Fashion Week New York</td>\n      <td>0</td>\n    </tr>\n    <tr>\n      <th>2</th>\n      <td>ld.138769</td>\n      <td>Unknown</td>\n      <td>E-Banking-Ausfall</td>\n      <td>e banking ausfall   postfinance kämpfen mi...</td>\n      <td>Finanzen</td>\n      <td>Seit Sonntag funktioniert das E-Banking der Po...</td>\n      <td>2017-01-09 13:55:00.000</td>\n      <td>Postfinance kämpft mit dem System</td>\n      <td>525</td>\n    </tr>\n    <tr>\n      <th>3</th>\n      <td>ld.143700</td>\n      <td>Unknown</td>\n      <td>Terror in Frankreich</td>\n      <td>terror in frankreich   louvre nach machete...</td>\n      <td>International</td>\n      <td>Einen Tag nach dem Angriff auf Soldaten beim P...</td>\n      <td>2017-02-04 12:50:25.000</td>\n      <td>Louvre nach Macheten-Angriff wieder geöffnet</td>\n      <td>181</td>\n    </tr>\n    <tr>\n      <th>4</th>\n      <td>ld.149385</td>\n      <td>Unknown</td>\n      <td>Unglück in Panama</td>\n      <td>unglück in panama   bus prallen gegen eine...</td>\n      <td>Panorama</td>\n      <td>Bei einem Busunglück in Panama sind 17 Persone...</td>\n      <td>2017-03-06 07:31:21.000</td>\n      <td>Bus prallt gegen eine Mauer und stürzt in Fluss</td>\n      <td>110</td>\n    </tr>\n  </tbody>\n</table>\n</div>"
     },
     "metadata": {},
     "execution_count": 128
    }
   ],
   "source": [
    "articles_lemma.head()"
   ]
  },
  {
   "cell_type": "code",
   "execution_count": 146,
   "metadata": {},
   "outputs": [],
   "source": [
    "articles_lemma.to_csv('./data/articles_lemmatized.csv', index=False, encoding='utf-8')"
   ]
  }
 ]
}