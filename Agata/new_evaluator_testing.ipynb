{
 "metadata": {
  "language_info": {
   "codemirror_mode": {
    "name": "ipython",
    "version": 3
   },
   "file_extension": ".py",
   "mimetype": "text/x-python",
   "name": "python",
   "nbconvert_exporter": "python",
   "pygments_lexer": "ipython3",
   "version": "3.8.8"
  },
  "orig_nbformat": 2,
  "kernelspec": {
   "name": "python388jvsc74a57bd058acd5bd797a08523d99af27523988877810b63fdf22f32c0dba9d8273224907",
   "display_name": "Python 3.8.8 64-bit"
  }
 },
 "nbformat": 4,
 "nbformat_minor": 2,
 "cells": [
  {
   "cell_type": "code",
   "execution_count": 1,
   "metadata": {},
   "outputs": [],
   "source": [
    "import numpy as np\n",
    "import scipy\n",
    "import pandas as pd\n",
    "import math\n",
    "import matplotlib.pyplot as plt\n",
    "\n",
    "import fasttext\n",
    "from sklearn.metrics.pairwise import cosine_similarity\n",
    "\n",
    "from scipy import sparse"
   ]
  },
  {
   "cell_type": "code",
   "execution_count": 2,
   "metadata": {},
   "outputs": [],
   "source": [
    "from content_based_model_testing import ContentBasedRecommender"
   ]
  },
  {
   "cell_type": "code",
   "execution_count": 3,
   "metadata": {},
   "outputs": [],
   "source": [
    "articles = pd.read_csv('./data/articles_clean.csv')\n",
    "articles_lemma = pd.read_csv('./data/articles_lemmatized.csv')"
   ]
  },
  {
   "cell_type": "code",
   "execution_count": 4,
   "metadata": {},
   "outputs": [],
   "source": [
    "matrix = sparse.load_npz(\"./vectorized/vec_matrix.npz\")\n",
    "matrix_lemma = sparse.load_npz(\"./vectorized/vec_matrix_lemma.npz\")"
   ]
  },
  {
   "cell_type": "code",
   "execution_count": 5,
   "metadata": {},
   "outputs": [],
   "source": [
    "feature_names = np.load('./vectorized/vec_names.npy') \n",
    "feature_names_lemma = np.load('./vectorized/vec_names_lemma.npy')"
   ]
  },
  {
   "cell_type": "code",
   "execution_count": 6,
   "metadata": {},
   "outputs": [],
   "source": [
    "readers = pd.read_csv('./../readers.csv')"
   ]
  },
  {
   "cell_type": "code",
   "execution_count": 7,
   "metadata": {},
   "outputs": [
    {
     "output_type": "stream",
     "name": "stderr",
     "text": [
      "Warning : `load_model` does not return WordVectorModel or SupervisedModel any more, but a `FastText` object which is very similar.\n"
     ]
    }
   ],
   "source": [
    "fasttext_model = fasttext.load_model(r'C:\\Users\\a814810\\Downloads\\wiki.de\\wiki.de.bin')"
   ]
  },
  {
   "cell_type": "code",
   "execution_count": 8,
   "metadata": {},
   "outputs": [],
   "source": [
    "content_based_recommender_model = ContentBasedRecommender(articles_db=articles, user_db= readers)#, matrix= matrix)\n",
    "# model_evaluator = ModelEvaluator([5,10], filter_similar=True, vec_matrix=matrix, vec_names=feat_names, articles=articles, model=fasttext_model)  "
   ]
  },
  {
   "cell_type": "code",
   "execution_count": 9,
   "metadata": {
    "tags": []
   },
   "outputs": [
    {
     "output_type": "stream",
     "name": "stdout",
     "text": [
      "user id\n",
      " 300\n",
      "Wall time: 1min 27s\n"
     ]
    }
   ],
   "source": [
    "%%time\n",
    "person_recs = content_based_recommender_model.recommend(300, ignored=True, limit=10, return_list=False)"
   ]
  },
  {
   "cell_type": "code",
   "execution_count": 10,
   "metadata": {},
   "outputs": [
    {
     "output_type": "execute_result",
     "data": {
      "text/plain": [
       "       nzz_id  recStrength\n",
       "0   ld.143344     0.358350\n",
       "1   ld.142230     0.353695\n",
       "2   ld.146325     0.330961\n",
       "3   ld.151224     0.329285\n",
       "4   ld.141346     0.328803\n",
       "5   ld.151729     0.321342\n",
       "6   ld.139971     0.316963\n",
       "7   ld.138296     0.315328\n",
       "8  ld.1294359     0.314695\n",
       "9   ld.149419     0.314287"
      ],
      "text/html": "<div>\n<style scoped>\n    .dataframe tbody tr th:only-of-type {\n        vertical-align: middle;\n    }\n\n    .dataframe tbody tr th {\n        vertical-align: top;\n    }\n\n    .dataframe thead th {\n        text-align: right;\n    }\n</style>\n<table border=\"1\" class=\"dataframe\">\n  <thead>\n    <tr style=\"text-align: right;\">\n      <th></th>\n      <th>nzz_id</th>\n      <th>recStrength</th>\n    </tr>\n  </thead>\n  <tbody>\n    <tr>\n      <th>0</th>\n      <td>ld.143344</td>\n      <td>0.358350</td>\n    </tr>\n    <tr>\n      <th>1</th>\n      <td>ld.142230</td>\n      <td>0.353695</td>\n    </tr>\n    <tr>\n      <th>2</th>\n      <td>ld.146325</td>\n      <td>0.330961</td>\n    </tr>\n    <tr>\n      <th>3</th>\n      <td>ld.151224</td>\n      <td>0.329285</td>\n    </tr>\n    <tr>\n      <th>4</th>\n      <td>ld.141346</td>\n      <td>0.328803</td>\n    </tr>\n    <tr>\n      <th>5</th>\n      <td>ld.151729</td>\n      <td>0.321342</td>\n    </tr>\n    <tr>\n      <th>6</th>\n      <td>ld.139971</td>\n      <td>0.316963</td>\n    </tr>\n    <tr>\n      <th>7</th>\n      <td>ld.138296</td>\n      <td>0.315328</td>\n    </tr>\n    <tr>\n      <th>8</th>\n      <td>ld.1294359</td>\n      <td>0.314695</td>\n    </tr>\n    <tr>\n      <th>9</th>\n      <td>ld.149419</td>\n      <td>0.314287</td>\n    </tr>\n  </tbody>\n</table>\n</div>"
     },
     "metadata": {},
     "execution_count": 10
    }
   ],
   "source": [
    "person_recs"
   ]
  },
  {
   "cell_type": "code",
   "execution_count": 12,
   "metadata": {},
   "outputs": [
    {
     "output_type": "execute_result",
     "data": {
      "text/plain": [
       "['ld.143344',\n",
       " 'ld.142230',\n",
       " 'ld.146325',\n",
       " 'ld.151224',\n",
       " 'ld.141346',\n",
       " 'ld.151729',\n",
       " 'ld.139971',\n",
       " 'ld.138296',\n",
       " 'ld.1294359',\n",
       " 'ld.149419']"
      ]
     },
     "metadata": {},
     "execution_count": 12
    }
   ],
   "source": [
    "list(person_recs['nzz_id'])"
   ]
  },
  {
   "cell_type": "code",
   "execution_count": 13,
   "metadata": {},
   "outputs": [
    {
     "output_type": "execute_result",
     "data": {
      "text/plain": [
       "[0.3583498594433194,\n",
       " 0.35369474748062035,\n",
       " 0.33096129112481837,\n",
       " 0.3292851082697844,\n",
       " 0.3288033113770856,\n",
       " 0.3213423180378651,\n",
       " 0.31696257127634486,\n",
       " 0.3153275679955797,\n",
       " 0.3146951130418842,\n",
       " 0.3142870032570457]"
      ]
     },
     "metadata": {},
     "execution_count": 13
    }
   ],
   "source": [
    "list(person_recs['recStrength'])"
   ]
  },
  {
   "cell_type": "code",
   "execution_count": 10,
   "metadata": {},
   "outputs": [
    {
     "output_type": "execute_result",
     "data": {
      "text/plain": [
       "       nzz_id  recStrength\n",
       "0   ld.143344     0.358350\n",
       "1   ld.142230     0.353695\n",
       "2   ld.146325     0.330961\n",
       "3   ld.151224     0.329285\n",
       "4   ld.141346     0.328803\n",
       "5   ld.151729     0.321342\n",
       "6   ld.139971     0.316963\n",
       "7   ld.138296     0.315328\n",
       "8  ld.1294359     0.314695\n",
       "9   ld.149419     0.314287"
      ],
      "text/html": "<div>\n<style scoped>\n    .dataframe tbody tr th:only-of-type {\n        vertical-align: middle;\n    }\n\n    .dataframe tbody tr th {\n        vertical-align: top;\n    }\n\n    .dataframe thead th {\n        text-align: right;\n    }\n</style>\n<table border=\"1\" class=\"dataframe\">\n  <thead>\n    <tr style=\"text-align: right;\">\n      <th></th>\n      <th>nzz_id</th>\n      <th>recStrength</th>\n    </tr>\n  </thead>\n  <tbody>\n    <tr>\n      <th>0</th>\n      <td>ld.143344</td>\n      <td>0.358350</td>\n    </tr>\n    <tr>\n      <th>1</th>\n      <td>ld.142230</td>\n      <td>0.353695</td>\n    </tr>\n    <tr>\n      <th>2</th>\n      <td>ld.146325</td>\n      <td>0.330961</td>\n    </tr>\n    <tr>\n      <th>3</th>\n      <td>ld.151224</td>\n      <td>0.329285</td>\n    </tr>\n    <tr>\n      <th>4</th>\n      <td>ld.141346</td>\n      <td>0.328803</td>\n    </tr>\n    <tr>\n      <th>5</th>\n      <td>ld.151729</td>\n      <td>0.321342</td>\n    </tr>\n    <tr>\n      <th>6</th>\n      <td>ld.139971</td>\n      <td>0.316963</td>\n    </tr>\n    <tr>\n      <th>7</th>\n      <td>ld.138296</td>\n      <td>0.315328</td>\n    </tr>\n    <tr>\n      <th>8</th>\n      <td>ld.1294359</td>\n      <td>0.314695</td>\n    </tr>\n    <tr>\n      <th>9</th>\n      <td>ld.149419</td>\n      <td>0.314287</td>\n    </tr>\n  </tbody>\n</table>\n</div>"
     },
     "metadata": {},
     "execution_count": 10
    }
   ],
   "source": [
    "person_recs # 300"
   ]
  },
  {
   "cell_type": "code",
   "execution_count": 13,
   "metadata": {},
   "outputs": [
    {
     "output_type": "execute_result",
     "data": {
      "text/plain": [
       "       nzz_id  recStrength\n",
       "0   ld.143344     0.358350\n",
       "1   ld.142230     0.353695\n",
       "2   ld.146325     0.330961\n",
       "3   ld.151224     0.329285\n",
       "4   ld.141346     0.328803\n",
       "5   ld.151729     0.321342\n",
       "6   ld.139971     0.316963\n",
       "7   ld.138296     0.315328\n",
       "8  ld.1294359     0.314695\n",
       "9   ld.149419     0.314287"
      ],
      "text/html": "<div>\n<style scoped>\n    .dataframe tbody tr th:only-of-type {\n        vertical-align: middle;\n    }\n\n    .dataframe tbody tr th {\n        vertical-align: top;\n    }\n\n    .dataframe thead th {\n        text-align: right;\n    }\n</style>\n<table border=\"1\" class=\"dataframe\">\n  <thead>\n    <tr style=\"text-align: right;\">\n      <th></th>\n      <th>nzz_id</th>\n      <th>recStrength</th>\n    </tr>\n  </thead>\n  <tbody>\n    <tr>\n      <th>0</th>\n      <td>ld.143344</td>\n      <td>0.358350</td>\n    </tr>\n    <tr>\n      <th>1</th>\n      <td>ld.142230</td>\n      <td>0.353695</td>\n    </tr>\n    <tr>\n      <th>2</th>\n      <td>ld.146325</td>\n      <td>0.330961</td>\n    </tr>\n    <tr>\n      <th>3</th>\n      <td>ld.151224</td>\n      <td>0.329285</td>\n    </tr>\n    <tr>\n      <th>4</th>\n      <td>ld.141346</td>\n      <td>0.328803</td>\n    </tr>\n    <tr>\n      <th>5</th>\n      <td>ld.151729</td>\n      <td>0.321342</td>\n    </tr>\n    <tr>\n      <th>6</th>\n      <td>ld.139971</td>\n      <td>0.316963</td>\n    </tr>\n    <tr>\n      <th>7</th>\n      <td>ld.138296</td>\n      <td>0.315328</td>\n    </tr>\n    <tr>\n      <th>8</th>\n      <td>ld.1294359</td>\n      <td>0.314695</td>\n    </tr>\n    <tr>\n      <th>9</th>\n      <td>ld.149419</td>\n      <td>0.314287</td>\n    </tr>\n  </tbody>\n</table>\n</div>"
     },
     "metadata": {},
     "execution_count": 13
    }
   ],
   "source": [
    "person_recs # 300"
   ]
  },
  {
   "cell_type": "code",
   "execution_count": 11,
   "metadata": {},
   "outputs": [
    {
     "output_type": "execute_result",
     "data": {
      "text/plain": [
       "      nzz_id  recStrength\n",
       "0  ld.138364     0.442184\n",
       "1  ld.139822     0.426568\n",
       "2  ld.137099     0.401655\n",
       "3  ld.141993     0.396713\n",
       "4  ld.141102     0.393410\n",
       "5  ld.144162     0.391064\n",
       "6  ld.143746     0.391000\n",
       "7  ld.146206     0.390971\n",
       "8  ld.140381     0.390264\n",
       "9  ld.139143     0.387521"
      ],
      "text/html": "<div>\n<style scoped>\n    .dataframe tbody tr th:only-of-type {\n        vertical-align: middle;\n    }\n\n    .dataframe tbody tr th {\n        vertical-align: top;\n    }\n\n    .dataframe thead th {\n        text-align: right;\n    }\n</style>\n<table border=\"1\" class=\"dataframe\">\n  <thead>\n    <tr style=\"text-align: right;\">\n      <th></th>\n      <th>nzz_id</th>\n      <th>recStrength</th>\n    </tr>\n  </thead>\n  <tbody>\n    <tr>\n      <th>0</th>\n      <td>ld.138364</td>\n      <td>0.442184</td>\n    </tr>\n    <tr>\n      <th>1</th>\n      <td>ld.139822</td>\n      <td>0.426568</td>\n    </tr>\n    <tr>\n      <th>2</th>\n      <td>ld.137099</td>\n      <td>0.401655</td>\n    </tr>\n    <tr>\n      <th>3</th>\n      <td>ld.141993</td>\n      <td>0.396713</td>\n    </tr>\n    <tr>\n      <th>4</th>\n      <td>ld.141102</td>\n      <td>0.393410</td>\n    </tr>\n    <tr>\n      <th>5</th>\n      <td>ld.144162</td>\n      <td>0.391064</td>\n    </tr>\n    <tr>\n      <th>6</th>\n      <td>ld.143746</td>\n      <td>0.391000</td>\n    </tr>\n    <tr>\n      <th>7</th>\n      <td>ld.146206</td>\n      <td>0.390971</td>\n    </tr>\n    <tr>\n      <th>8</th>\n      <td>ld.140381</td>\n      <td>0.390264</td>\n    </tr>\n    <tr>\n      <th>9</th>\n      <td>ld.139143</td>\n      <td>0.387521</td>\n    </tr>\n  </tbody>\n</table>\n</div>"
     },
     "metadata": {},
     "execution_count": 11
    }
   ],
   "source": [
    "person_recs"
   ]
  },
  {
   "cell_type": "code",
   "execution_count": 10,
   "metadata": {},
   "outputs": [
    {
     "output_type": "execute_result",
     "data": {
      "text/plain": [
       "       nzz_id  recStrength\n",
       "0  ld.1292982     0.443032\n",
       "1  ld.1293234     0.434010\n",
       "2  ld.1292986     0.430789\n",
       "3  ld.1294555     0.430447\n",
       "4  ld.1292913     0.418571\n",
       "5  ld.1293549     0.411674\n",
       "6  ld.1293186     0.294282\n",
       "7  ld.1293199     0.293256\n",
       "8  ld.1292834     0.291460\n",
       "9  ld.1288599     0.288053"
      ],
      "text/html": "<div>\n<style scoped>\n    .dataframe tbody tr th:only-of-type {\n        vertical-align: middle;\n    }\n\n    .dataframe tbody tr th {\n        vertical-align: top;\n    }\n\n    .dataframe thead th {\n        text-align: right;\n    }\n</style>\n<table border=\"1\" class=\"dataframe\">\n  <thead>\n    <tr style=\"text-align: right;\">\n      <th></th>\n      <th>nzz_id</th>\n      <th>recStrength</th>\n    </tr>\n  </thead>\n  <tbody>\n    <tr>\n      <th>0</th>\n      <td>ld.1292982</td>\n      <td>0.443032</td>\n    </tr>\n    <tr>\n      <th>1</th>\n      <td>ld.1293234</td>\n      <td>0.434010</td>\n    </tr>\n    <tr>\n      <th>2</th>\n      <td>ld.1292986</td>\n      <td>0.430789</td>\n    </tr>\n    <tr>\n      <th>3</th>\n      <td>ld.1294555</td>\n      <td>0.430447</td>\n    </tr>\n    <tr>\n      <th>4</th>\n      <td>ld.1292913</td>\n      <td>0.418571</td>\n    </tr>\n    <tr>\n      <th>5</th>\n      <td>ld.1293549</td>\n      <td>0.411674</td>\n    </tr>\n    <tr>\n      <th>6</th>\n      <td>ld.1293186</td>\n      <td>0.294282</td>\n    </tr>\n    <tr>\n      <th>7</th>\n      <td>ld.1293199</td>\n      <td>0.293256</td>\n    </tr>\n    <tr>\n      <th>8</th>\n      <td>ld.1292834</td>\n      <td>0.291460</td>\n    </tr>\n    <tr>\n      <th>9</th>\n      <td>ld.1288599</td>\n      <td>0.288053</td>\n    </tr>\n  </tbody>\n</table>\n</div>"
     },
     "metadata": {},
     "execution_count": 10
    }
   ],
   "source": [
    "person_recs"
   ]
  },
  {
   "cell_type": "code",
   "execution_count": 23,
   "metadata": {},
   "outputs": [
    {
     "output_type": "stream",
     "name": "stdout",
     "text": [
      "[]\n",
      "['museum' 'angriff' 'soldaten' 'verletzte' 'täter']\n",
      "5\n",
      "300\n",
      "[[0.]]\n",
      "   first_art  second_art  similarity\n",
      "0          7           3         0.0\n",
      "1          7           4         NaN\n",
      "2          8           7         NaN\n",
      "3          9           3         NaN\n",
      "4          9           4         NaN\n",
      "5          9           7         NaN\n",
      "[]\n",
      "['personen' 'ums leben gekommen' 'leben gekommen' 'familien'\n",
      " 'unterstützen']\n",
      "5\n",
      "300\n",
      "[[0.]]\n",
      "   first_art  second_art  similarity\n",
      "0          7           3         0.0\n",
      "1          7           4         0.0\n",
      "2          8           7         NaN\n",
      "3          9           3         NaN\n",
      "4          9           4         NaN\n",
      "5          9           7         NaN\n",
      "['islamischen' 'nals' 'aufmerksamkeit' 'organisation' 'steht']\n",
      "[]\n",
      "5\n",
      "300\n",
      "[[0.]]\n",
      "   first_art  second_art  similarity\n",
      "0          7           3         0.0\n",
      "1          7           4         0.0\n",
      "2          8           7         0.0\n",
      "3          9           3         NaN\n",
      "4          9           4         NaN\n",
      "5          9           7         NaN\n",
      "['us präsident' 'präsident donald trump' 'präsident donald' 'vorerst'\n",
      " 'usa']\n",
      "['museum' 'angriff' 'soldaten' 'verletzte' 'täter']\n",
      "5\n",
      "300\n",
      "[[0.41055056]]\n",
      "   first_art  second_art  similarity\n",
      "0          7           3    0.000000\n",
      "1          7           4    0.000000\n",
      "2          8           7    0.000000\n",
      "3          9           3    0.410551\n",
      "4          9           4         NaN\n",
      "5          9           7         NaN\n",
      "['us präsident' 'präsident donald trump' 'präsident donald' 'vorerst'\n",
      " 'usa']\n",
      "['personen' 'ums leben gekommen' 'leben gekommen' 'familien'\n",
      " 'unterstützen']\n",
      "5\n",
      "300\n",
      "[[0.40131394]]\n",
      "   first_art  second_art  similarity\n",
      "0          7           3    0.000000\n",
      "1          7           4    0.000000\n",
      "2          8           7    0.000000\n",
      "3          9           3    0.410551\n",
      "4          9           4    0.401314\n",
      "5          9           7         NaN\n",
      "['us präsident' 'präsident donald trump' 'präsident donald' 'vorerst'\n",
      " 'usa']\n",
      "[]\n",
      "5\n",
      "300\n",
      "[[0.]]\n",
      "   first_art  second_art  similarity\n",
      "0          7           3    0.000000\n",
      "1          7           4    0.000000\n",
      "2          8           7    0.000000\n",
      "3          9           3    0.410551\n",
      "4          9           4    0.401314\n",
      "5          9           7    0.000000\n"
     ]
    },
    {
     "output_type": "execute_result",
     "data": {
      "text/plain": [
       "      nzz_id  recStrength\n",
       "0  ld.138364     0.442184\n",
       "1  ld.139822     0.426568\n",
       "2  ld.137099     0.401655\n",
       "3  ld.141993     0.396713\n",
       "4  ld.141102     0.393410\n",
       "5  ld.144162     0.391064\n",
       "6  ld.143746     0.391000\n",
       "7  ld.146206     0.390971\n",
       "8  ld.140381     0.390264"
      ],
      "text/html": "<div>\n<style scoped>\n    .dataframe tbody tr th:only-of-type {\n        vertical-align: middle;\n    }\n\n    .dataframe tbody tr th {\n        vertical-align: top;\n    }\n\n    .dataframe thead th {\n        text-align: right;\n    }\n</style>\n<table border=\"1\" class=\"dataframe\">\n  <thead>\n    <tr style=\"text-align: right;\">\n      <th></th>\n      <th>nzz_id</th>\n      <th>recStrength</th>\n    </tr>\n  </thead>\n  <tbody>\n    <tr>\n      <th>0</th>\n      <td>ld.138364</td>\n      <td>0.442184</td>\n    </tr>\n    <tr>\n      <th>1</th>\n      <td>ld.139822</td>\n      <td>0.426568</td>\n    </tr>\n    <tr>\n      <th>2</th>\n      <td>ld.137099</td>\n      <td>0.401655</td>\n    </tr>\n    <tr>\n      <th>3</th>\n      <td>ld.141993</td>\n      <td>0.396713</td>\n    </tr>\n    <tr>\n      <th>4</th>\n      <td>ld.141102</td>\n      <td>0.393410</td>\n    </tr>\n    <tr>\n      <th>5</th>\n      <td>ld.144162</td>\n      <td>0.391064</td>\n    </tr>\n    <tr>\n      <th>6</th>\n      <td>ld.143746</td>\n      <td>0.391000</td>\n    </tr>\n    <tr>\n      <th>7</th>\n      <td>ld.146206</td>\n      <td>0.390971</td>\n    </tr>\n    <tr>\n      <th>8</th>\n      <td>ld.140381</td>\n      <td>0.390264</td>\n    </tr>\n  </tbody>\n</table>\n</div>"
     },
     "metadata": {},
     "execution_count": 23
    }
   ],
   "source": [
    "id_list = list(person_recs['nzz_id']) \n",
    "# extracting indices of those articles (in articles_db)\n",
    "indices = articles[articles.nzz_id.isin(id_list)].index.tolist()\n",
    "\n",
    "# extracting pairs of similar articles based on cosine similarities between vectors\n",
    "matrix_lower = np.tril(cosine_similarity(matrix[indices]))\n",
    "np.fill_diagonal(matrix_lower, 0)\n",
    "similar_pairs = np.where(matrix_lower>=0.5)\n",
    "similar_df = pd.DataFrame(np.column_stack(similar_pairs),columns=['first_art','second_art'])\n",
    "\n",
    "# extracting keywords for each pair and computing similrity between them \n",
    "for i in range(len(similar_df)):\n",
    "    id_1 = similar_df.loc[i,'first_art']\n",
    "    sorted_1 = np.argsort(matrix[id_1].data)[:-(5+1):-1]\n",
    "    key_1 = np.array(feature_names)[matrix[id_1].indices[sorted_1]]\n",
    "    id_2 = similar_df.loc[i,'second_art']\n",
    "    sorted_2 = np.argsort(matrix[id_2].data)[:-(5+1):-1]\n",
    "    key_2 = np.array(feature_names)[matrix[id_2].indices[sorted_2]]\n",
    "    print(key_1)\n",
    "    print(key_2)\n",
    "    # vectorization of keywords\n",
    "    key_vec_1 = [fasttext_model.get_word_vector(x) for x in key_1]\n",
    "    key_vec_2 = [fasttext_model.get_word_vector(x) for x in key_2]\n",
    "    \n",
    "    # handling occurences of empty articles\n",
    "    if not key_vec_1: key_vec_1 = [fasttext_model.get_word_vector('') for i in range(5)]\n",
    "    if not key_vec_2: key_vec_2 = [fasttext_model.get_word_vector('') for i in range(5)]\n",
    "\n",
    "    print(len(key_vec_1))\n",
    "    key_vec_1_sum = [0]*300\n",
    "    key_vec_2_sum = [0]*300\n",
    "    for j in range(5):\n",
    "        key_vec_1_sum += key_vec_1[j]\n",
    "        key_vec_2_sum += key_vec_2[j]\n",
    "    print(len(key_vec_1_sum))\n",
    "    \n",
    "    # computing similarity\n",
    "    #cos_matrix = [[cosine_similarity(x.reshape(1,-1),y.reshape(1,-1)) for x in key_vec_1] for y in key_vec_2]\n",
    "    similarity = cosine_similarity(key_vec_1_sum.reshape(1,-1), key_vec_2_sum.reshape(1,-1))\n",
    "    print(similarity)\n",
    "    similar_df.loc[i,'similarity'] = similarity[0][0]\n",
    "    print(similar_df)\n",
    "        # filtering the recommendations\n",
    "new_indices = [x for i, x in enumerate(indices) if i not in list(similar_df.loc[similar_df.similarity >= 0.4, 'first_art'])]\n",
    "filtered_recs_ind = articles.loc[new_indices, 'nzz_id']\n",
    "\n",
    "new_recs = person_recs.loc[person_recs.nzz_id.isin(list(filtered_recs_ind))]\n",
    "new_recs"
   ]
  },
  {
   "cell_type": "code",
   "execution_count": null,
   "metadata": {},
   "outputs": [],
   "source": [
    "# 9 - ['us präsident' 'präsident donald trump' 'präsident donald' 'vorerst' 'usa']\n",
    "# 4 - ['personen' 'ums leben gekommen' 'leben gekommen' 'familien' 'unterstützen']\n",
    "# 3 - ['museum' 'angriff' 'soldaten' 'verletzte' 'täter']"
   ]
  },
  {
   "cell_type": "code",
   "execution_count": 31,
   "metadata": {},
   "outputs": [
    {
     "output_type": "execute_result",
     "data": {
      "text/plain": [
       "         nzz_id               author catchline  \\\n",
       "1455  ld.141993  Alain Zucker, Davos  WEF 2017   \n",
       "\n",
       "                                                content department  \\\n",
       "1455     wef        die welt hat keine führung mehr ...      NZZaS   \n",
       "\n",
       "                                              lead_text  \\\n",
       "1455  Ian Bremmer, Experte für Geopolitik, hält es e...   \n",
       "\n",
       "                     pub_date                              title  content_len  \n",
       "1455  2017-01-26 12:22:34.000  «Die Welt hat keine Führung mehr»         1505  "
      ],
      "text/html": "<div>\n<style scoped>\n    .dataframe tbody tr th:only-of-type {\n        vertical-align: middle;\n    }\n\n    .dataframe tbody tr th {\n        vertical-align: top;\n    }\n\n    .dataframe thead th {\n        text-align: right;\n    }\n</style>\n<table border=\"1\" class=\"dataframe\">\n  <thead>\n    <tr style=\"text-align: right;\">\n      <th></th>\n      <th>nzz_id</th>\n      <th>author</th>\n      <th>catchline</th>\n      <th>content</th>\n      <th>department</th>\n      <th>lead_text</th>\n      <th>pub_date</th>\n      <th>title</th>\n      <th>content_len</th>\n    </tr>\n  </thead>\n  <tbody>\n    <tr>\n      <th>1455</th>\n      <td>ld.141993</td>\n      <td>Alain Zucker, Davos</td>\n      <td>WEF 2017</td>\n      <td>wef        die welt hat keine führung mehr ...</td>\n      <td>NZZaS</td>\n      <td>Ian Bremmer, Experte für Geopolitik, hält es e...</td>\n      <td>2017-01-26 12:22:34.000</td>\n      <td>«Die Welt hat keine Führung mehr»</td>\n      <td>1505</td>\n    </tr>\n  </tbody>\n</table>\n</div>"
     },
     "metadata": {},
     "execution_count": 31
    }
   ],
   "source": [
    "articles.loc[articles['nzz_id'] =='ld.141993'] "
   ]
  },
  {
   "cell_type": "code",
   "execution_count": 32,
   "metadata": {},
   "outputs": [
    {
     "output_type": "execute_result",
     "data": {
      "text/plain": [
       "          nzz_id                 author                     catchline  \\\n",
       "13708  ld.141102  syc./ela. / Agenturen  Donald Trumps erste Amtstage   \n",
       "\n",
       "                                                 content     department  \\\n",
       "13708     donald trumps erste amtstage  us präsident ...  International   \n",
       "\n",
       "                                               lead_text  \\\n",
       "13708  Während Hunderttausende von Frauen in ganz Ame...   \n",
       "\n",
       "                      pub_date  \\\n",
       "13708  2017-01-22 14:08:00.000   \n",
       "\n",
       "                                                   title  content_len  \n",
       "13708  US-Präsident sieht sich «im Krieg mit den Medien»         2619  "
      ],
      "text/html": "<div>\n<style scoped>\n    .dataframe tbody tr th:only-of-type {\n        vertical-align: middle;\n    }\n\n    .dataframe tbody tr th {\n        vertical-align: top;\n    }\n\n    .dataframe thead th {\n        text-align: right;\n    }\n</style>\n<table border=\"1\" class=\"dataframe\">\n  <thead>\n    <tr style=\"text-align: right;\">\n      <th></th>\n      <th>nzz_id</th>\n      <th>author</th>\n      <th>catchline</th>\n      <th>content</th>\n      <th>department</th>\n      <th>lead_text</th>\n      <th>pub_date</th>\n      <th>title</th>\n      <th>content_len</th>\n    </tr>\n  </thead>\n  <tbody>\n    <tr>\n      <th>13708</th>\n      <td>ld.141102</td>\n      <td>syc./ela. / Agenturen</td>\n      <td>Donald Trumps erste Amtstage</td>\n      <td>donald trumps erste amtstage  us präsident ...</td>\n      <td>International</td>\n      <td>Während Hunderttausende von Frauen in ganz Ame...</td>\n      <td>2017-01-22 14:08:00.000</td>\n      <td>US-Präsident sieht sich «im Krieg mit den Medien»</td>\n      <td>2619</td>\n    </tr>\n  </tbody>\n</table>\n</div>"
     },
     "metadata": {},
     "execution_count": 32
    }
   ],
   "source": [
    "articles.loc[articles['nzz_id']== 'ld.141102']"
   ]
  },
  {
   "cell_type": "code",
   "execution_count": 33,
   "metadata": {},
   "outputs": [
    {
     "output_type": "execute_result",
     "data": {
      "text/plain": [
       "          nzz_id   author                               catchline  \\\n",
       "20763  ld.139143  Unknown  Der neue Präsident und seine Geschäfte   \n",
       "\n",
       "                                                 content  department  \\\n",
       "20763     der neue präsident und seine geschäfte   tr...  Wirtschaft   \n",
       "\n",
       "                                               lead_text  \\\n",
       "20763  Donald Trump und sein Firmenimperium sind eng ...   \n",
       "\n",
       "                      pub_date                                     title  \\\n",
       "20763  2017-01-11 12:35:00.000  Trump wird Interessenkonflikte nicht los   \n",
       "\n",
       "       content_len  \n",
       "20763         1312  "
      ],
      "text/html": "<div>\n<style scoped>\n    .dataframe tbody tr th:only-of-type {\n        vertical-align: middle;\n    }\n\n    .dataframe tbody tr th {\n        vertical-align: top;\n    }\n\n    .dataframe thead th {\n        text-align: right;\n    }\n</style>\n<table border=\"1\" class=\"dataframe\">\n  <thead>\n    <tr style=\"text-align: right;\">\n      <th></th>\n      <th>nzz_id</th>\n      <th>author</th>\n      <th>catchline</th>\n      <th>content</th>\n      <th>department</th>\n      <th>lead_text</th>\n      <th>pub_date</th>\n      <th>title</th>\n      <th>content_len</th>\n    </tr>\n  </thead>\n  <tbody>\n    <tr>\n      <th>20763</th>\n      <td>ld.139143</td>\n      <td>Unknown</td>\n      <td>Der neue Präsident und seine Geschäfte</td>\n      <td>der neue präsident und seine geschäfte   tr...</td>\n      <td>Wirtschaft</td>\n      <td>Donald Trump und sein Firmenimperium sind eng ...</td>\n      <td>2017-01-11 12:35:00.000</td>\n      <td>Trump wird Interessenkonflikte nicht los</td>\n      <td>1312</td>\n    </tr>\n  </tbody>\n</table>\n</div>"
     },
     "metadata": {},
     "execution_count": 33
    }
   ],
   "source": [
    "articles.loc[articles['nzz_id']== 'ld.139143']"
   ]
  },
  {
   "cell_type": "code",
   "execution_count": 11,
   "metadata": {},
   "outputs": [
    {
     "output_type": "stream",
     "name": "stdout",
     "text": [
      "list as input\n",
      "list_returned\n"
     ]
    },
    {
     "output_type": "execute_result",
     "data": {
      "text/plain": [
       "['ld.138364',\n",
       " 'ld.139822',\n",
       " 'ld.137099',\n",
       " 'ld.141993',\n",
       " 'ld.141102',\n",
       " 'ld.144162',\n",
       " 'ld.143746',\n",
       " 'ld.146206',\n",
       " 'ld.140381']"
      ]
     },
     "metadata": {},
     "execution_count": 11
    }
   ],
   "source": [
    "content_based_recommender_model.filter_out_similar(person_recs, feature_names = feature_names, model=fasttext_model, article_similarity=0.5, \n",
    "                                                    keyword_similarity=0.3)"
   ]
  },
  {
   "cell_type": "code",
   "execution_count": 45,
   "metadata": {},
   "outputs": [],
   "source": [
    "recs = build_profiles(readers, matrix, articles)"
   ]
  },
  {
   "cell_type": "code",
   "execution_count": 41,
   "metadata": {},
   "outputs": [
    {
     "output_type": "execute_result",
     "data": {
      "text/plain": [
       "1000"
      ]
     },
     "metadata": {},
     "execution_count": 41
    }
   ],
   "source": [
    "len(recs)"
   ]
  },
  {
   "cell_type": "code",
   "execution_count": 42,
   "metadata": {},
   "outputs": [
    {
     "output_type": "execute_result",
     "data": {
      "text/plain": [
       "array([[0.01371982, 0.        , 0.        , ..., 0.        , 0.        ,\n",
       "        0.        ]])"
      ]
     },
     "metadata": {},
     "execution_count": 42
    }
   ],
   "source": [
    "recs[154]"
   ]
  },
  {
   "cell_type": "code",
   "execution_count": null,
   "metadata": {},
   "outputs": [],
   "source": []
  }
 ]
}