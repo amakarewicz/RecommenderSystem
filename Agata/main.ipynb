{
 "metadata": {
  "language_info": {
   "codemirror_mode": {
    "name": "ipython",
    "version": 3
   },
   "file_extension": ".py",
   "mimetype": "text/x-python",
   "name": "python",
   "nbconvert_exporter": "python",
   "pygments_lexer": "ipython3",
   "version": "3.8.8"
  },
  "orig_nbformat": 2,
  "kernelspec": {
   "name": "python388jvsc74a57bd058acd5bd797a08523d99af27523988877810b63fdf22f32c0dba9d8273224907",
   "display_name": "Python 3.8.8 64-bit"
  }
 },
 "nbformat": 4,
 "nbformat_minor": 2,
 "cells": [
  {
   "cell_type": "code",
   "execution_count": 1,
   "metadata": {},
   "outputs": [],
   "source": [
    "import numpy as np\n",
    "import pandas as pd\n",
    "import fasttext\n",
    "from scipy import sparse\n",
    "\n",
    "from content_based_model import ContentBasedRecommender\n",
    "from model_evaluator import ModelEvaluator"
   ]
  },
  {
   "source": [
    "### Loading data"
   ],
   "cell_type": "markdown",
   "metadata": {}
  },
  {
   "cell_type": "code",
   "execution_count": 2,
   "metadata": {},
   "outputs": [],
   "source": [
    "articles = pd.read_csv('./data/articles_clean.csv')\n",
    "articles_lemma = pd.read_csv('./data/articles_lemmatized.csv')"
   ]
  },
  {
   "cell_type": "code",
   "execution_count": 3,
   "metadata": {},
   "outputs": [],
   "source": [
    "matrix = sparse.load_npz(\"./vectorized/vec_matrix.npz\")\n",
    "matrix_lemma = sparse.load_npz(\"./vectorized/vec_matrix_lemma.npz\")"
   ]
  },
  {
   "cell_type": "code",
   "execution_count": 4,
   "metadata": {},
   "outputs": [],
   "source": [
    "feature_names = np.load('./vectorized/vec_names.npy') \n",
    "feature_names_lemma = np.load('./vectorized/vec_names_lemma.npy')"
   ]
  },
  {
   "cell_type": "code",
   "execution_count": 5,
   "metadata": {},
   "outputs": [],
   "source": [
    "readers = pd.read_csv('./../readers.csv')"
   ]
  },
  {
   "cell_type": "code",
   "execution_count": 6,
   "metadata": {},
   "outputs": [
    {
     "output_type": "stream",
     "name": "stderr",
     "text": [
      "Warning : `load_model` does not return WordVectorModel or SupervisedModel any more, but a `FastText` object which is very similar.\n"
     ]
    }
   ],
   "source": [
    "fasttext_model = fasttext.load_model(r'C:\\Users\\a814810\\Downloads\\wiki.de\\wiki.de.bin')"
   ]
  },
  {
   "source": [
    "### Modeling/evaluation"
   ],
   "cell_type": "markdown",
   "metadata": {}
  },
  {
   "cell_type": "code",
   "execution_count": 7,
   "metadata": {},
   "outputs": [],
   "source": [
    "cb_model = ContentBasedRecommender(articles_db=articles, user_db= readers, matrix= matrix)"
   ]
  },
  {
   "cell_type": "code",
   "execution_count": 8,
   "metadata": {},
   "outputs": [],
   "source": [
    "recs = cb_model.recommend(411, ignored=True, limit=10, return_list=False)"
   ]
  },
  {
   "cell_type": "code",
   "execution_count": 9,
   "metadata": {},
   "outputs": [
    {
     "output_type": "execute_result",
     "data": {
      "text/plain": [
       "      nzz_id  recStrength\n",
       "0  ld.138364     0.442184\n",
       "1  ld.139822     0.426568\n",
       "2  ld.137099     0.401655\n",
       "3  ld.141993     0.396713\n",
       "4  ld.141102     0.393410\n",
       "5  ld.144162     0.391064\n",
       "6  ld.143746     0.391000\n",
       "7  ld.146206     0.390971\n",
       "8  ld.140381     0.390264"
      ],
      "text/html": "<div>\n<style scoped>\n    .dataframe tbody tr th:only-of-type {\n        vertical-align: middle;\n    }\n\n    .dataframe tbody tr th {\n        vertical-align: top;\n    }\n\n    .dataframe thead th {\n        text-align: right;\n    }\n</style>\n<table border=\"1\" class=\"dataframe\">\n  <thead>\n    <tr style=\"text-align: right;\">\n      <th></th>\n      <th>nzz_id</th>\n      <th>recStrength</th>\n    </tr>\n  </thead>\n  <tbody>\n    <tr>\n      <th>0</th>\n      <td>ld.138364</td>\n      <td>0.442184</td>\n    </tr>\n    <tr>\n      <th>1</th>\n      <td>ld.139822</td>\n      <td>0.426568</td>\n    </tr>\n    <tr>\n      <th>2</th>\n      <td>ld.137099</td>\n      <td>0.401655</td>\n    </tr>\n    <tr>\n      <th>3</th>\n      <td>ld.141993</td>\n      <td>0.396713</td>\n    </tr>\n    <tr>\n      <th>4</th>\n      <td>ld.141102</td>\n      <td>0.393410</td>\n    </tr>\n    <tr>\n      <th>5</th>\n      <td>ld.144162</td>\n      <td>0.391064</td>\n    </tr>\n    <tr>\n      <th>6</th>\n      <td>ld.143746</td>\n      <td>0.391000</td>\n    </tr>\n    <tr>\n      <th>7</th>\n      <td>ld.146206</td>\n      <td>0.390971</td>\n    </tr>\n    <tr>\n      <th>8</th>\n      <td>ld.140381</td>\n      <td>0.390264</td>\n    </tr>\n  </tbody>\n</table>\n</div>"
     },
     "metadata": {},
     "execution_count": 9
    }
   ],
   "source": [
    "cb_model.filter_out_similar(recs, feature_names = feature_names, model=fasttext_model, article_similarity=0.5, keyword_similarity=0.3)"
   ]
  },
  {
   "cell_type": "code",
   "execution_count": null,
   "metadata": {},
   "outputs": [],
   "source": []
  }
 ]
}