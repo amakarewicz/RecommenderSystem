{
 "metadata": {
  "language_info": {
   "codemirror_mode": {
    "name": "ipython",
    "version": 3
   },
   "file_extension": ".py",
   "mimetype": "text/x-python",
   "name": "python",
   "nbconvert_exporter": "python",
   "pygments_lexer": "ipython3",
   "version": "3.8.8"
  },
  "orig_nbformat": 2,
  "kernelspec": {
   "name": "python388jvsc74a57bd058acd5bd797a08523d99af27523988877810b63fdf22f32c0dba9d8273224907",
   "display_name": "Python 3.8.8 64-bit"
  }
 },
 "nbformat": 4,
 "nbformat_minor": 2,
 "cells": [
  {
   "cell_type": "code",
   "execution_count": 1,
   "metadata": {},
   "outputs": [],
   "source": [
    "import numpy as np\n",
    "import scipy\n",
    "import pandas as pd\n",
    "import math\n",
    "import matplotlib.pyplot as plt\n",
    "\n",
    "import fasttext\n",
    "from sklearn.metrics.pairwise import cosine_similarity\n",
    "\n",
    "from scipy import sparse"
   ]
  },
  {
   "cell_type": "code",
   "execution_count": 2,
   "metadata": {},
   "outputs": [],
   "source": [
    "from content_based_model_testing import ContentBasedRecommender"
   ]
  },
  {
   "cell_type": "code",
   "execution_count": 3,
   "metadata": {},
   "outputs": [],
   "source": [
    "articles = pd.read_csv('./data/articles_clean.csv')\n",
    "articles_lemma = pd.read_csv('./data/articles_lemmatized.csv')"
   ]
  },
  {
   "cell_type": "code",
   "execution_count": 4,
   "metadata": {},
   "outputs": [],
   "source": [
    "matrix = sparse.load_npz(\"./vectorized/vec_matrix.npz\")\n",
    "matrix_lemma = sparse.load_npz(\"./vectorized/vec_matrix_lemma.npz\")"
   ]
  },
  {
   "cell_type": "code",
   "execution_count": 5,
   "metadata": {},
   "outputs": [],
   "source": [
    "feature_names = np.load('./vectorized/vec_names.npy') \n",
    "feature_names_lemma = np.load('./vectorized/vec_names_lemma.npy')"
   ]
  },
  {
   "cell_type": "code",
   "execution_count": 6,
   "metadata": {},
   "outputs": [],
   "source": [
    "readers = pd.read_csv('./../readers.csv')"
   ]
  },
  {
   "cell_type": "code",
   "execution_count": 7,
   "metadata": {},
   "outputs": [
    {
     "output_type": "stream",
     "name": "stderr",
     "text": [
      "Warning : `load_model` does not return WordVectorModel or SupervisedModel any more, but a `FastText` object which is very similar.\n"
     ]
    }
   ],
   "source": [
    "fasttext_model = fasttext.load_model(r'C:\\Users\\a814810\\Downloads\\wiki.de\\wiki.de.bin')"
   ]
  },
  {
   "cell_type": "code",
   "execution_count": 8,
   "metadata": {},
   "outputs": [],
   "source": [
    "from user_profiles_function import build_profiles"
   ]
  },
  {
   "cell_type": "code",
   "execution_count": 10,
   "metadata": {},
   "outputs": [
    {
     "output_type": "stream",
     "name": "stdout",
     "text": [
      "Wall time: 23.5 s\n"
     ]
    }
   ],
   "source": [
    "%%time\n",
    "prof1 = build_profiles(readers, matrix, articles)"
   ]
  },
  {
   "cell_type": "code",
   "execution_count": 11,
   "metadata": {},
   "outputs": [],
   "source": [
    "from user_profiles_function_testing import build_profiles"
   ]
  },
  {
   "cell_type": "code",
   "execution_count": 12,
   "metadata": {},
   "outputs": [
    {
     "output_type": "stream",
     "name": "stdout",
     "text": [
      "Wall time: 44.7 ms\n"
     ]
    }
   ],
   "source": [
    "%%time\n",
    "prof1 = build_profiles(readers, matrix, articles, 300)"
   ]
  },
  {
   "cell_type": "code",
   "execution_count": 8,
   "metadata": {},
   "outputs": [],
   "source": [
    "content_based_recommender_model = ContentBasedRecommender(articles_db=articles, user_db= readers)#, matrix= matrix)\n",
    "# model_evaluator = ModelEvaluator([5,10], filter_similar=True, vec_matrix=matrix, vec_names=feat_names, articles=articles, model=fasttext_model)  "
   ]
  },
  {
   "cell_type": "code",
   "execution_count": 9,
   "metadata": {
    "tags": [
     "outputPrepend"
    ]
   },
   "outputs": [
    {
     "output_type": "stream",
     "name": "stdout",
     "text": [
      "'erfahrung', 'erfahrungen', 'erfolg', 'erfolge', 'erfolgreich', 'erfüllen', 'erfüllt', 'ergeben', 'ergebnis', 'ergebnisse', 'erhalten', 'erhielt', 'erhält', 'erhöhen', 'erhöht', 'erhöhung', 'erinnern', 'erinnert', 'erinnerung', 'erkennen', 'erklären', 'erklärt', 'erklärte', 'erklärung', 'erlaubt', 'erlebt', 'ermittelt', 'ermittler', 'ermittlungen', 'ermöglichen', 'ermöglicht', 'erneut', 'ernst', 'erreichen', 'erreicht', 'erreichte', 'erscheinen', 'erscheint', 'ersetzt', 'erst', 'erstaunlich', 'erste', 'ersten', 'ersten mal', 'erstens', 'erster', 'erster linie', 'erstes', 'erstmals', 'erwarten', 'erwartet', 'erwartungen', 'erzielen', 'erzielt', 'erzielte', 'erzählt', 'eröffnet', 'essen', 'etwa', 'eu', 'euro', 'europa', 'europas', 'europäische', 'europäischen', 'ex', 'experten', 'extrem', 'facebook', 'fahren', 'fahrer', 'fahrt', 'fahrzeuge', 'faktoren', 'fall', 'falle', 'fallen', 'falls', 'falsch', 'falsche', 'familie', 'familien', 'fand', 'fanden', 'fans', 'fast', 'fc', 'fdp', 'februar', 'feedback', 'feedback startseite', 'fehlen', 'fehler', 'fehlt', 'feiern', 'feiert', 'feld', 'ferner', 'fernsehen', 'fest', 'festgenommen', 'feuer', 'fiel', 'film', 'final', 'finanzielle', 'finanziellen', 'finanzierung', 'finanzkrise', 'finanzminister', 'finden', 'findet', 'firma', 'firmen', 'fischer', 'flucht', 'flughafen', 'flüchtlinge', 'fokus', 'folge', 'folgen', 'folgt', 'folgte', 'fonds', 'fordern', 'fordert', 'forderte', 'forderung', 'forderungen', 'form', 'forscher', 'forschung', 'fort', 'fr', 'frage', 'fragen', 'fragt', 'franken', 'frankfurt', 'frankreich', 'frankreichs', 'franzosen', 'französische', 'französischen', 'françois', 'frau', 'frauen', 'frei', 'freie', 'freien', 'freiheit', 'freilich', 'freitag', 'freude', 'freund', 'freunde', 'frieden', 'front', 'früh', 'frühen', 'früher', 'frühere', 'früheren', 'frühling', 'funktion', 'funktioniert', 'fuss', 'fussball', 'fährt', 'fälle', 'fällen', 'fällt', 'fühlen', 'fühlt', 'führen', 'führt', 'führte', 'führung', 'fünf', 'fünf jahren', 'fürs', 'gab', 'gaben', 'gallen', 'galt', 'gang', 'ganz', 'ganze', 'ganzen', 'gar', 'gearbeitet', 'gebaut', 'gebe', 'geben', 'gebiet', 'geblieben', 'geboren', 'gebracht', 'gebäude', 'gedacht', 'gedanken', 'gefahr', 'gefahren', 'gefallen', 'gefordert', 'gefragt', 'gefunden', 'gefährdet', 'gefährlich', 'gefängnis', 'gefühl', 'geführt', 'gegangen', 'gegeben', 'gegensatz', 'gegenteil', 'gegenüber', 'gegner', 'gegründet', 'gehabt', 'gehalten', 'gehandelt', 'gehe', 'gehen', 'geht', 'gehören', 'gehört', 'gehörte', 'gekommen', 'gelang', 'gelangen', 'geld', 'gelegenheit', 'gelegt', 'gelingt', 'gelte', 'gelten', 'gelungen', 'gemacht', 'gemeinde', 'gemeinden', 'gemeinsam', 'gemeinsame', 'gemeinsamen', 'gemessen', 'gemäss', 'genannt', 'genau', 'genauso', 'generation', 'generell', 'genf', 'genfer', 'genommen', 'genug', 'genutzt', 'genügend', 'geplant', 'geplante', 'geplanten', 'geprägt', 'gerade', 'geradezu', 'geraten', 'gerechnet', 'gericht', 'gern', 'gerne', 'gerät', 'gesagt', 'gesamte', 'gesamten', 'geschaffen', 'geschafft', 'geschehen', 'gescheitert', 'geschichte', 'geschickt', 'geschlagen', 'geschlossen', 'geschrieben', 'geschäft', 'geschäfte', 'gesehen', 'gesellschaft', 'gesetz', 'gesetzt', 'gesicht', 'gesorgt', 'gesperrt', 'gespielt', 'gesprochen', 'gespräch', 'gespräche', 'gestartet', 'gestellt', 'gestiegen', 'gestorben', 'gesucht', 'getan', 'getroffen', 'getötet', 'gewachsen', 'gewalt', 'gewann', 'gewicht', 'gewinn', 'gewinnen', 'gewinnt', 'gewisse', 'gewissen', 'gewonnen', 'geworden', 'gewählt', 'gezeigt', 'gezogen', 'gezwungen', 'geändert', 'gibt', 'gilt', 'ging', 'gingen', 'glaube', 'glauben', 'glaubt', 'gleich', 'gleiche', 'gleichen', 'gleichzeitig', 'globalen', 'glück', 'gold', 'google', 'grad', 'grand', 'grenze', 'grenzen', 'griechenland', 'griff', 'gross', 'grossbritannien', 'grosse', 'grossen', 'grosser', 'grosses', 'grund', 'grundlage', 'grundsätzlich', 'gruppe', 'gruppen', 'grösse', 'grösser', 'grössere', 'grösseren', 'grösste', 'grössten', 'gründe', 'gründen', 'gründer', 'grüne', 'grünen', 'gut', 'gute', 'guten', 'guter', 'gutes', 'gäste', 'haft', 'halbe', 'halten', 'haltung', 'hand', 'handel', 'handeln', 'handelt', 'handle', 'hans', 'hart', 'hauptstadt', 'haus', 'hause', 'hauses', 'heimat', 'heissen', 'heisst', 'helfen', 'her', 'heraus', 'herausforderung', 'herbst', 'herr', 'herrscht', 'hersteller', 'herum', 'hervor', 'herz', 'heute', 'heutigen', 'hielt', 'hierzulande', 'hiess', 'hilfe', 'hilft', 'himmel', 'hinaus', 'hingegen', 'hinsicht', 'hintergrund', 'hinweg', 'hinweise', 'hinzu', 'historischen', 'hoch', 'hoffen', 'hoffnung', 'hofft', 'hohe', 'hohen', 'hoher', 'hotel', 'hundert', 'hunderte', 'hälfte', 'hält', 'hände', 'hängt', 'hätte', 'hätten', 'häufig', 'höchste', 'höchsten', 'höhe', 'höher', 'höhere', 'höheren', 'hören', 'hört', 'idee', 'ideen', 'identität', 'imago', 'immer', 'immer mehr', 'immerhin', 'indes', 'indien', 'industrie', 'infobox', 'informationen', 'informiert', 'infrage', 'infrastruktur', 'initiative', 'innerhalb', 'innert', 'insbesondere', 'insel', 'insgesamt', 'institut', 'institutionen', 'integration', 'interesse', 'interessen', 'interessiert', 'international', 'internationale', 'internationalen', 'internet', 'interview', 'investieren', 'investiert', 'investitionen', 'investoren', 'inzwischen', 'iran', 'irgendwann', 'is', 'islamischen', 'israel', 'istanbul', 'it', 'italien', 'italienische', 'italienischen', 'ja', 'jahr', 'jahre', 'jahre alt', 'jahre lang', 'jahre später', 'jahrelang', 'jahren', 'jahres', 'jahrhundert', 'jahrhunderts', 'jahrzehnte', 'jahrzehnten', 'james', 'jan', 'januar', 'japan', 'je', 'jean', 'jedenfalls', 'jedoch', 'jemand', 'jeweils', 'job', 'jobs', 'john', 'journalisten', 'juli', 'junge', 'jungen', 'juni', 'justiz', 'jährige', 'jährigen', 'jähriger', 'jährlich', 'jüngst', 'jüngste', 'jüngsten', 'kam', 'kamen', 'kampagne', 'kampf', 'kanada', 'kandidat', 'kandidaten', 'kanton', 'kanton zürich', 'kantone', 'kantonen', 'kantons', 'kapital', 'karriere', 'kauf', 'kaufen', 'kaum', 'keineswegs', 'kennen', 'kennt', 'kern', 'keystone', 'kilometer', 'kind', 'kinder', 'kindern', 'klar', 'klare', 'klein', 'kleine', 'kleinen', 'kleiner', 'kleinere', 'klingt', 'klub', 'knapp', 'kollegen', 'kombination', 'komme', 'kommen', 'kommenden', 'kommentar', 'kommission', 'kommt', 'kommunikation', 'komplett', 'konflikt', 'konfrontiert', 'kongress', 'konkret', 'konkrete', 'konkurrenten', 'konkurrenz', 'konnte', 'konnten', 'konsequenzen', 'konservative', 'konservativen', 'kontakt', 'kontrolle', 'konzept', 'konzern', 'kooperation', 'kopf', 'korruption', 'kosten', 'kostet', 'kraft', 'kreis', 'krieg', 'krise', 'kritik', 'kritiker', 'kritisiert', 'kräfte', 'kultur', 'kunden', 'kunst', 'kurs', 'kurz', 'kurze', 'kurzem', 'kurzfristig', 'kämpfen', 'kämpft', 'könne', 'könnten', 'körper', 'kündigte', 'künftig', 'künftige', 'künftigen', 'künstler', 'kürzlich', 'la', 'lag', 'lage', 'lagen', 'lager', 'land', 'landes', 'lang', 'lange', 'lange zeit', 'langen', 'langer', 'langfristig', 'langsam', 'lassen', 'lauf', 'laufe', 'laufen', 'laufende', 'laufenden', 'lausanne', 'laut', 'lautet', 'le', 'le pen', 'league', 'leben', 'leben gekommen', 'lebens', 'lebt', 'lediglich', 'legen', 'legt', 'legte', 'leicht', 'leiden', 'leider', 'leisten', 'leistung', 'leistungen', 'leiter', 'leitung', 'lernen', 'lesen', 'leserdebatte', 'letzte', 'letzten', 'letzten jahren', 'letzter', 'letztes', 'letztes jahr', 'letztlich', 'leute', 'liberalen', 'licht', 'liebe', 'lieber', 'liefern', 'liege', 'liegen', 'liegt', 'liess', 'liessen', 'liga', 'linie', 'linke', 'linken', 'links', 'liste', 'live', 'lokalen', 'london', 'los', 'luft', 'lugano', 'luzern', 'länder', 'ländern', 'länger', 'längst', 'lässt', 'läuft', 'lösen', 'lösung', 'lösungen', 'mache', 'macht', 'machte', 'machten', 'macron', 'madrid', 'mag', 'mai', 'mal', 'management', 'manager', 'manchmal', 'mann', 'mannschaft', 'marc', 'marcel', 'marco', 'marie', 'marine', 'marine le', 'marine le pen', 'mark', 'marke', 'markt', 'markus', 'martin', 'massiv', 'massnahme', 'massnahmen', 'matthias', 'medien', 'medienberichten', 'meer', 'mehr', 'mehr thema', 'mehrere', 'mehreren', 'mehrfach', 'mehrheit', 'mehrheitlich', 'mehrmals', 'meint', 'meinte', 'meinung', 'meist', 'meisten', 'meister', 'menge', 'mensch', 'menschen', 'merkel', 'meter', 'metern', 'mexiko', 'michael', 'milliarden', 'milliarden dollar', 'million', 'millionen', 'millionen euro', 'millionen franken', 'mindestens', 'minister', 'ministerpräsident', 'minus', 'minute', 'minuten', 'mio', 'mio fr', 'mitarbeiter', 'mitarbeitern', 'miteinander', 'mitglied', 'mitglieder', 'mitte', 'mitteilte', 'mitteilung', 'mittel', 'mitten', 'mittlerweile', 'mittwoch', 'modell', 'moderne', 'modernen', 'moment', 'monat', 'monate', 'monaten', 'montag', 'morgen', 'moritz', 'moskau', 'mrd', 'mrd fr', 'museum', 'musik', 'mussten', 'mutter', 'mädchen', 'männer', 'märz', 'möchte', 'möglich', 'mögliche', 'möglichen', 'möglicherweise', 'möglichkeit', 'möglichkeiten', 'möglichst', 'mühe', 'müller', 'münchen', 'müsse', 'müssen', 'müsste', 'müssten', 'naber', 'nachdem', 'nachfolger', 'nachfrage', 'nachrichten', 'nachrichtenagentur', 'nacht', 'nahe', 'nahen', 'nahm', 'nahmen', 'nallerdings', 'nals', 'nam', 'name', 'namen', 'nan', 'nannte', 'national', 'nationale', 'nationalen', 'nationalrat', 'nationen', 'nato', 'natur', 'natürlich', 'nauch', 'nauf', 'naus', 'nbei', 'nbis', 'ndamit', 'ndas', 'ndass', 'ndem', 'nden', 'nder', 'ndes', 'ndie', 'ndiese', 'ndieser', 'ndoch', 'ndurch', 'neben', 'nehmen', 'nein', 'neine', 'neinem', 'neinen', 'neiner', 'nennen', 'nennt', 'ner', 'nes', 'netz', 'neu', 'neue', 'neuen', 'neuer', 'neues', 'neun', 'new', 'new york', 'news', 'nfür', 'ngegen', 'nhaben', 'nhat', 'nhatte', 'nie', 'niederlage', 'niemand', 'nim', 'nimmer', 'nimmt', 'nin', 'nist', 'niveau', 'njahren', 'nkönnen', 'nman', 'nmehr', 'nmit', 'nnach', 'nnicht', 'nnoch', 'nnur', 'nochmals', 'noder', 'norden', 'november', 'nprozent', 'nschon', 'nschweiz', 'nsei', 'nsein', 'nseine', 'nseiner', 'nsich', 'nsie', 'nsind', 'nso', 'nsondern', 'num', 'nummer', 'nund', 'nunter', 'nutzen', 'nutzer', 'nvergangenen', 'nvon', 'nvor', 'nwar', 'nwenn', 'nwerden', 'nwie', 'nwieder', 'nwird', 'nworden', 'nwurde', 'nzu', 'nzum', 'nzur', 'nzwischen', 'nzz', 'nächste', 'nächsten', 'nähe', 'näher', 'nämlich', 'nötig', 'nüber', 'obama', 'oben', 'obwohl', 'of', 'offen', 'offenbar', 'offene', 'offenen', 'offensichtlich', 'offiziell', 'offiziellen', 'oft', 'ohnehin', 'oktober', 'online', 'open', 'opfer', 'opposition', 'ordnung', 'organisation', 'organisationen', 'ort', 'osten', 'paar', 'papier', 'paris', 'parlament', 'partei', 'parteien', 'partie', 'partien', 'partner', 'passiert', 'passt', 'patrick', 'paul', 'pause', 'peking', 'pen', 'per', 'person', 'personal', 'personen', 'persönlich', 'peter', 'pflicht', 'phase', 'philipp', 'plan', 'plattform', 'platz', 'play', 'plus', 'pläne', 'plötzlich', 'politik', 'politiker', 'politisch', 'politische', 'politischen', 'politischer', 'polizei', 'polizisten', 'position', 'positionen', 'positiv', 'positive', 'post', 'posten', 'potenzial', 'praktisch', 'praxis', 'preis', 'preise', 'presse', 'pressekonferenz', 'primär', 'prinzip', 'private', 'privaten', 'pro', 'pro jahr', 'problem', 'probleme', 'produkte', 'produktion', 'professor', 'profitieren', 'profitiert', 'programm', 'projekt', 'projekte', 'proteste', 'provinz', 'prozent', 'prozess', 'präsentiert', 'präsident', 'präsident donald', 'präsident donald trump', 'präsident trump', 'präsidenten', 'präsidentin', 'prüfen', 'publikum', 'punkt', 'punkte', 'punkten', 'putin', 'qualifikation', 'qualität', 'quartal', 'radio', 'rahmen', 'rang', 'rangliste', 'rasch', 'rat', 'raum', 'reagieren', 'reagiert', 'reaktion', 'real', 'realität', 'rechnen', 'rechnet', 'rechnung', 'recht', 'rechte', 'rechten', 'rechts', 'redaktion', 'rede', 'reden', 'reduziert', 'referendum', 'reform', 'reformen', 'regel', 'regelmässig', 'regeln', 'regierung', 'regierungschef', 'regime', 'region', 'regionen', 'reich', 'reichen', 'reicht', 'reihe', 'rein', 'reise', 'reisen', 'relativ', 'rennen', 'republik', 'rest', 'resultat', 'resultate', 'reuters', 'revolution', 'richter', 'richtig', 'richtige', 'richtigen', 'richtung', 'rief', 'risiken', 'risiko', 'robert', 'roger', 'rolle', 'rom', 'roman', 'rote', 'roten', 'ruf', 'ruhe', 'rund', 'rund millionen', 'rund prozent', 'runde', 'runden', 'russische', 'russischen', 'russland', 'rücken', 'rückgang', 'rückkehr', 'rückstand', 'rücktritt', 'sache', 'sachen', 'sagen', 'sagt', 'sagte', 'sah', 'saison', 'samstag', 'san', 'sanktionen', 'satz', 'schaden', 'schaffen', 'schafft', 'schatten', 'schauen', 'scheinen', 'scheint', 'scheitern', 'schicksal', 'schien', 'schlagen', 'schlagzeilen', 'schlecht', 'schlechte', 'schlechten', 'schlechter', 'schliessen', 'schliesslich', 'schliesst', 'schluss', 'schlägt', 'schmidt', 'schnee', 'schnell', 'schneller', 'schon', 'schon seit', 'schreiben', 'schreibt', 'schrieb', 'schritt', 'schuld', 'schule', 'schulen', 'schutz', 'schwarze', 'schwarzen', 'schweden', 'schweiz', 'schweizer', 'schweizerische', 'schweizerischen', 'schwer', 'schwere', 'schweren', 'schwierig', 'schwieriger', 'schön', 'schützen', 'sda', 'sechs', 'sehen', 'sei', 'seien', 'seit', 'seit jahren', 'seite', 'seiten', 'seither', 'sekunden', 'selber', 'selbstverständlich', 'selten', 'sender', 'senken', 'september', 'serie', 'setzen', 'setzt', 'setzte', 'sicher', 'sicherheit', 'sichern', 'sicht', 'sieben', 'sieg', 'sieger', 'sieht', 'simon', 'sinn', 'sinne', 'situation', 'sitz', 'sitzen', 'sitzt', 'skandal', 'ski', 'sofort', 'software', 'sogar', 'sogenannte', 'sogenannten', 'sohn', 'solange', 'soldaten', 'solle', 'sollen', 'sollten', 'somit', 'sommer', 'sonntag', 'sorge', 'sorgen', 'sorgt', 'sorgte', 'sowie', 'sowohl', 'soziale', 'sozialen', 'sp', 'spanien', 'spiel', 'spiele', 'spielen', 'spieler', 'spielt', 'spielte', 'spital', 'spitze', 'sport', 'sprach', 'sprache', 'sprachen', 'sprechen', 'sprecher', 'spricht', 'spuren', 'spät', 'später', 'spätestens', 'spüren', 'st', 'st gallen', 'st moritz', 'staat', 'staaten', 'staatliche', 'staatlichen', 'staatsanwaltschaft', 'stadt', 'stadt zürich', 'stammen', 'stammt', 'stand', 'standen', 'star', 'stark', 'starke', 'starken', 'start', 'starten', 'startseite', 'statt', 'stattdessen', 'stattfinden', 'status', 'steckt', 'stefan', 'stehe', 'stehen', 'steht', 'steigen', 'steigt', 'stelle', 'stellen', 'stellt', 'stellte', 'stellung', 'stets', 'steuern', 'stieg', 'stiftung', 'stil', 'stimme', 'stimmen', 'stimmt', 'stimmung', 'stolz', 'strafe', 'strasse', 'strassen', 'strategie', 'street', 'streit', 'strich', 'strom', 'studie', 'stunde', 'stunden', 'städte', 'städten', 'ständerat', 'ständig', 'stärke', 'stärken', 'stärker', 'stösst', 'stück', 'stürmer', 'suche', 'suchen', 'sucht', 'suisse', 'super', 'svp', 'swiss', 'syrien', 'system', 'szene', 'sämtliche', 'süden', 'südkorea', 'tag', 'tage', 'tagen', 'tages', 'tat', 'tatsache', 'tatsächlich', 'tausende', 'team', 'teams', 'technik', 'technischen', 'technologie', 'teil', 'teile', 'teilen', 'teilnahme', 'teilte', 'teilweise', 'terror', 'teuer', 'text', 'the', 'thema', 'themen', 'thomas', 'tief', 'tiefe', 'tiefen', 'tiefer', 'tiere', 'times', 'tisch', 'titel', 'tochter', 'tod', 'top', 'tor', 'tore', 'tot', 'tote', 'toten', 'tour', 'touristen', 'tradition', 'traditionellen', 'traf', 'tragen', 'trainer', 'trat', 'traum', 'treffen', 'trend', 'treten', 'trifft', 'tritt', 'trotz', 'trotzdem', 'trump', 'trumps', 'trägt', 'tun', 'tut', 'tv', 'twitter', 'täglich', 'täter', 'tätig', 'türkei', 'türkische', 'türkischen', 'ubs', 'uhr', 'uhr dpa', 'ulrich', 'umfeld', 'umfrage', 'umfragen', 'umgang', 'umgekehrt', 'umgesetzt', 'ums', 'ums leben', 'ums leben gekommen', 'umsatz', 'umsetzung', 'umso', 'umstritten', 'umstrittene', 'umstrittenen', 'unabhängig', 'unbedingt', 'unfall', 'union', 'universität', 'unklar', 'unmittelbar', 'uno', 'unserer', 'unten', 'unternehmen', 'unternehmens', 'unternehmer', 'unterschied', 'unterschiedliche', 'unterstützen', 'unterstützt', 'unterstützung', 'untersucht', 'untersuchung', 'untersuchungen', 'unterwegs', 'urs', 'ursprünglich', 'urteil', 'us', 'us präsident', 'us präsidenten', 'usa', 'vater', 'verabschiedet', 'verantwortlich', 'verantwortlichen', 'verantwortung', 'verband', 'verbessern', 'verbessert', 'verbindung', 'verbindungen', 'verbot', 'verboten', 'verbreitet', 'verbunden', 'verdacht', 'verdienen', 'verdient', 'verein', 'vereinigten', 'vereinigten staaten', 'verfahren', 'verfassung', 'verfolgt', 'verfügen', 'verfügt', 'verfügung', 'vergangene', 'vergangenen', 'vergangenen jahr', 'vergangenen jahren', 'vergangenen jahres', 'vergangenheit', 'vergessen', 'vergleich', 'verhaftet', 'verhalten', 'verhandlungen', 'verhindern', 'verhindert', 'verhältnis', 'verkauf', 'verkaufen', 'verkauft', 'verkehr', 'verlag', 'verlangt', 'verlassen', 'verletzt', 'verletzte', 'verletzungen', 'verlieren', 'verliert', 'verlor', 'verloren', 'verlust', 'vermehrt', 'vermutlich', 'vermögen', 'verpasst', 'verpflichtet', 'verschiedene', 'verschiedenen', 'verschwinden', 'version', 'versprechen', 'verspricht', 'verstehen', 'versteht', 'verständnis', 'verstärkt', 'versuch', 'versuchen', 'versucht', 'versuchte', 'verteidigen', 'verteidiger', 'vertrag', 'vertrauen', 'vertreten', 'vertreter', 'verurteilt', 'verwendet', 'verzichten', 'verzichtet', 'verändert', 'veröffentlicht', 'via', 'video', 'viele', 'vielen', 'vieler', 'vieles', 'vielleicht', 'vielmehr', 'vier', 'vier jahren', 'vierte', 'viertel', 'vierten', 'visier', 'volk', 'voll', 'voller', 'vollständig', 'voran', 'voraus', 'vorbei', 'vorerst', 'vorfeld', 'vorgehen', 'vorgesehen', 'vorgeworfen', 'vorgänger', 'vorher', 'vorjahr', 'vorlage', 'vorne', 'vorschlag', 'vorsprung', 'vorstellen', 'vorteil', 'vorteile', 'vorwurf', 'vorwürfe', 'vorübergehend', 'völlig', 'wachsen', 'wachstum', 'waffen', 'wagen', 'wahl', 'wahlen', 'wahlkampf', 'wahrheit', 'wahrscheinlich', 'walter', 'wandel', 'wann', 'warten', 'warum', 'washington', 'wasser', 'website', 'wechsel', 'weder', 'wege', 'wegen', 'weise', 'weisen', 'weiss', 'weisse', 'weissen', 'weissen haus', 'weist', 'weit', 'weitere', 'weiteren', 'weiterer', 'weiteres', 'weiterhin', 'weitgehend', 'welt', 'weltcup', 'weltweit', 'wenig', 'wenige', 'wenigen', 'weniger', 'wer', 'werfen', 'werk', 'werke', 'werner', 'wert', 'werte', 'wesentlich', 'weshalb', 'westen', 'westlichen', 'wettbewerb', 'wichtig', 'wichtige', 'wichtigen', 'wichtiger', 'wichtigste', 'wichtigsten', 'widerstand', 'wiederholt', 'wiederum', 'wien', 'wies', 'willen', 'wind', 'winter', 'winterthur', 'wirft', 'wirken', 'wirklich', 'wirkt', 'wirkung', 'wirtschaft', 'wirtschaftliche', 'wirtschaftlichen', 'wissen', 'wissenschafter', 'wm', 'wobei', 'woche', 'wochen', 'wochenende', 'wohl', 'wohnung', 'wolle', 'wollten', 'womöglich', 'wonach', 'worden', 'worden sei', 'wort', 'worte', 'worten', 'wunsch', 'wurde', 'wurden', 'wusste', 'wächst', 'wählen', 'wähler', 'wäre', 'wären', 'york', 'zahl', 'zahlen', 'zahlreiche', 'zahlreichen', 'zehn', 'zehn jahren', 'zeichen', 'zeigen', 'zeigt', 'zeigte', 'zeigten', 'zeit', 'zeiten', 'zeitpunkt', 'zeitung', 'zentralbank', 'zentrale', 'zentrum', 'ziehen', 'zieht', 'ziel', 'ziele', 'ziemlich', 'zinsen', 'zitat', 'zog', 'zone', 'zudem', 'zuerst', 'zufolge', 'zufrieden', 'zug', 'zugang', 'zuge', 'zugleich', 'zugunsten', 'zukunft', 'zuletzt', 'zumal', 'zumindest', 'zunehmend', 'zunächst', 'zurzeit', 'zurück', 'zusammen', 'zusammenarbeit', 'zusammenhang', 'zuschauer', 'zustand', 'zustimmung', 'zuständig', 'zusätzlich', 'zusätzliche', 'zuvor', 'zwanzig', 'zwei', 'zwei jahre', 'zwei jahren', 'zwei wochen', 'zweifel', 'zweimal', 'zweite', 'zweiten', 'zweitens', 'zweiter', 'zwölf', 'zählen', 'zählt', 'zürcher', 'zürich', 'ähnlich', 'ähnliche', 'ältere', 'ändern', 'ära', 'äusserst', 'öffentlich', 'öffentliche', 'öffentlichen', 'öffentlichkeit', 'österreich', 'überall', 'überblick', 'überhaupt', 'übernahme', 'übernehmen', 'übernimmt', 'übernommen', 'überraschend', 'überrascht', 'überzeugt', 'übrigen']\n",
      "1000\n"
     ]
    }
   ],
   "source": [
    "person_recs = content_based_recommender_model.recommend(300, ignored=True, limit=10, return_list=False)"
   ]
  },
  {
   "cell_type": "code",
   "execution_count": 10,
   "metadata": {},
   "outputs": [
    {
     "output_type": "execute_result",
     "data": {
      "text/plain": [
       "       nzz_id  recStrength\n",
       "0   ld.143344     0.358350\n",
       "1   ld.142230     0.353695\n",
       "2   ld.146325     0.330961\n",
       "3   ld.151224     0.329285\n",
       "4   ld.141346     0.328803\n",
       "5   ld.151729     0.321342\n",
       "6   ld.139971     0.316963\n",
       "7   ld.138296     0.315328\n",
       "8  ld.1294359     0.314695\n",
       "9   ld.149419     0.314287"
      ],
      "text/html": "<div>\n<style scoped>\n    .dataframe tbody tr th:only-of-type {\n        vertical-align: middle;\n    }\n\n    .dataframe tbody tr th {\n        vertical-align: top;\n    }\n\n    .dataframe thead th {\n        text-align: right;\n    }\n</style>\n<table border=\"1\" class=\"dataframe\">\n  <thead>\n    <tr style=\"text-align: right;\">\n      <th></th>\n      <th>nzz_id</th>\n      <th>recStrength</th>\n    </tr>\n  </thead>\n  <tbody>\n    <tr>\n      <th>0</th>\n      <td>ld.143344</td>\n      <td>0.358350</td>\n    </tr>\n    <tr>\n      <th>1</th>\n      <td>ld.142230</td>\n      <td>0.353695</td>\n    </tr>\n    <tr>\n      <th>2</th>\n      <td>ld.146325</td>\n      <td>0.330961</td>\n    </tr>\n    <tr>\n      <th>3</th>\n      <td>ld.151224</td>\n      <td>0.329285</td>\n    </tr>\n    <tr>\n      <th>4</th>\n      <td>ld.141346</td>\n      <td>0.328803</td>\n    </tr>\n    <tr>\n      <th>5</th>\n      <td>ld.151729</td>\n      <td>0.321342</td>\n    </tr>\n    <tr>\n      <th>6</th>\n      <td>ld.139971</td>\n      <td>0.316963</td>\n    </tr>\n    <tr>\n      <th>7</th>\n      <td>ld.138296</td>\n      <td>0.315328</td>\n    </tr>\n    <tr>\n      <th>8</th>\n      <td>ld.1294359</td>\n      <td>0.314695</td>\n    </tr>\n    <tr>\n      <th>9</th>\n      <td>ld.149419</td>\n      <td>0.314287</td>\n    </tr>\n  </tbody>\n</table>\n</div>"
     },
     "metadata": {},
     "execution_count": 10
    }
   ],
   "source": [
    "person_recs # 300"
   ]
  },
  {
   "cell_type": "code",
   "execution_count": 13,
   "metadata": {},
   "outputs": [
    {
     "output_type": "execute_result",
     "data": {
      "text/plain": [
       "       nzz_id  recStrength\n",
       "0   ld.143344     0.358350\n",
       "1   ld.142230     0.353695\n",
       "2   ld.146325     0.330961\n",
       "3   ld.151224     0.329285\n",
       "4   ld.141346     0.328803\n",
       "5   ld.151729     0.321342\n",
       "6   ld.139971     0.316963\n",
       "7   ld.138296     0.315328\n",
       "8  ld.1294359     0.314695\n",
       "9   ld.149419     0.314287"
      ],
      "text/html": "<div>\n<style scoped>\n    .dataframe tbody tr th:only-of-type {\n        vertical-align: middle;\n    }\n\n    .dataframe tbody tr th {\n        vertical-align: top;\n    }\n\n    .dataframe thead th {\n        text-align: right;\n    }\n</style>\n<table border=\"1\" class=\"dataframe\">\n  <thead>\n    <tr style=\"text-align: right;\">\n      <th></th>\n      <th>nzz_id</th>\n      <th>recStrength</th>\n    </tr>\n  </thead>\n  <tbody>\n    <tr>\n      <th>0</th>\n      <td>ld.143344</td>\n      <td>0.358350</td>\n    </tr>\n    <tr>\n      <th>1</th>\n      <td>ld.142230</td>\n      <td>0.353695</td>\n    </tr>\n    <tr>\n      <th>2</th>\n      <td>ld.146325</td>\n      <td>0.330961</td>\n    </tr>\n    <tr>\n      <th>3</th>\n      <td>ld.151224</td>\n      <td>0.329285</td>\n    </tr>\n    <tr>\n      <th>4</th>\n      <td>ld.141346</td>\n      <td>0.328803</td>\n    </tr>\n    <tr>\n      <th>5</th>\n      <td>ld.151729</td>\n      <td>0.321342</td>\n    </tr>\n    <tr>\n      <th>6</th>\n      <td>ld.139971</td>\n      <td>0.316963</td>\n    </tr>\n    <tr>\n      <th>7</th>\n      <td>ld.138296</td>\n      <td>0.315328</td>\n    </tr>\n    <tr>\n      <th>8</th>\n      <td>ld.1294359</td>\n      <td>0.314695</td>\n    </tr>\n    <tr>\n      <th>9</th>\n      <td>ld.149419</td>\n      <td>0.314287</td>\n    </tr>\n  </tbody>\n</table>\n</div>"
     },
     "metadata": {},
     "execution_count": 13
    }
   ],
   "source": [
    "person_recs # 300"
   ]
  },
  {
   "cell_type": "code",
   "execution_count": 11,
   "metadata": {},
   "outputs": [
    {
     "output_type": "execute_result",
     "data": {
      "text/plain": [
       "      nzz_id  recStrength\n",
       "0  ld.138364     0.442184\n",
       "1  ld.139822     0.426568\n",
       "2  ld.137099     0.401655\n",
       "3  ld.141993     0.396713\n",
       "4  ld.141102     0.393410\n",
       "5  ld.144162     0.391064\n",
       "6  ld.143746     0.391000\n",
       "7  ld.146206     0.390971\n",
       "8  ld.140381     0.390264\n",
       "9  ld.139143     0.387521"
      ],
      "text/html": "<div>\n<style scoped>\n    .dataframe tbody tr th:only-of-type {\n        vertical-align: middle;\n    }\n\n    .dataframe tbody tr th {\n        vertical-align: top;\n    }\n\n    .dataframe thead th {\n        text-align: right;\n    }\n</style>\n<table border=\"1\" class=\"dataframe\">\n  <thead>\n    <tr style=\"text-align: right;\">\n      <th></th>\n      <th>nzz_id</th>\n      <th>recStrength</th>\n    </tr>\n  </thead>\n  <tbody>\n    <tr>\n      <th>0</th>\n      <td>ld.138364</td>\n      <td>0.442184</td>\n    </tr>\n    <tr>\n      <th>1</th>\n      <td>ld.139822</td>\n      <td>0.426568</td>\n    </tr>\n    <tr>\n      <th>2</th>\n      <td>ld.137099</td>\n      <td>0.401655</td>\n    </tr>\n    <tr>\n      <th>3</th>\n      <td>ld.141993</td>\n      <td>0.396713</td>\n    </tr>\n    <tr>\n      <th>4</th>\n      <td>ld.141102</td>\n      <td>0.393410</td>\n    </tr>\n    <tr>\n      <th>5</th>\n      <td>ld.144162</td>\n      <td>0.391064</td>\n    </tr>\n    <tr>\n      <th>6</th>\n      <td>ld.143746</td>\n      <td>0.391000</td>\n    </tr>\n    <tr>\n      <th>7</th>\n      <td>ld.146206</td>\n      <td>0.390971</td>\n    </tr>\n    <tr>\n      <th>8</th>\n      <td>ld.140381</td>\n      <td>0.390264</td>\n    </tr>\n    <tr>\n      <th>9</th>\n      <td>ld.139143</td>\n      <td>0.387521</td>\n    </tr>\n  </tbody>\n</table>\n</div>"
     },
     "metadata": {},
     "execution_count": 11
    }
   ],
   "source": [
    "person_recs"
   ]
  },
  {
   "cell_type": "code",
   "execution_count": 10,
   "metadata": {},
   "outputs": [
    {
     "output_type": "execute_result",
     "data": {
      "text/plain": [
       "       nzz_id  recStrength\n",
       "0  ld.1292982     0.443032\n",
       "1  ld.1293234     0.434010\n",
       "2  ld.1292986     0.430789\n",
       "3  ld.1294555     0.430447\n",
       "4  ld.1292913     0.418571\n",
       "5  ld.1293549     0.411674\n",
       "6  ld.1293186     0.294282\n",
       "7  ld.1293199     0.293256\n",
       "8  ld.1292834     0.291460\n",
       "9  ld.1288599     0.288053"
      ],
      "text/html": "<div>\n<style scoped>\n    .dataframe tbody tr th:only-of-type {\n        vertical-align: middle;\n    }\n\n    .dataframe tbody tr th {\n        vertical-align: top;\n    }\n\n    .dataframe thead th {\n        text-align: right;\n    }\n</style>\n<table border=\"1\" class=\"dataframe\">\n  <thead>\n    <tr style=\"text-align: right;\">\n      <th></th>\n      <th>nzz_id</th>\n      <th>recStrength</th>\n    </tr>\n  </thead>\n  <tbody>\n    <tr>\n      <th>0</th>\n      <td>ld.1292982</td>\n      <td>0.443032</td>\n    </tr>\n    <tr>\n      <th>1</th>\n      <td>ld.1293234</td>\n      <td>0.434010</td>\n    </tr>\n    <tr>\n      <th>2</th>\n      <td>ld.1292986</td>\n      <td>0.430789</td>\n    </tr>\n    <tr>\n      <th>3</th>\n      <td>ld.1294555</td>\n      <td>0.430447</td>\n    </tr>\n    <tr>\n      <th>4</th>\n      <td>ld.1292913</td>\n      <td>0.418571</td>\n    </tr>\n    <tr>\n      <th>5</th>\n      <td>ld.1293549</td>\n      <td>0.411674</td>\n    </tr>\n    <tr>\n      <th>6</th>\n      <td>ld.1293186</td>\n      <td>0.294282</td>\n    </tr>\n    <tr>\n      <th>7</th>\n      <td>ld.1293199</td>\n      <td>0.293256</td>\n    </tr>\n    <tr>\n      <th>8</th>\n      <td>ld.1292834</td>\n      <td>0.291460</td>\n    </tr>\n    <tr>\n      <th>9</th>\n      <td>ld.1288599</td>\n      <td>0.288053</td>\n    </tr>\n  </tbody>\n</table>\n</div>"
     },
     "metadata": {},
     "execution_count": 10
    }
   ],
   "source": [
    "person_recs"
   ]
  },
  {
   "cell_type": "code",
   "execution_count": 23,
   "metadata": {},
   "outputs": [
    {
     "output_type": "stream",
     "name": "stdout",
     "text": [
      "[]\n",
      "['museum' 'angriff' 'soldaten' 'verletzte' 'täter']\n",
      "5\n",
      "300\n",
      "[[0.]]\n",
      "   first_art  second_art  similarity\n",
      "0          7           3         0.0\n",
      "1          7           4         NaN\n",
      "2          8           7         NaN\n",
      "3          9           3         NaN\n",
      "4          9           4         NaN\n",
      "5          9           7         NaN\n",
      "[]\n",
      "['personen' 'ums leben gekommen' 'leben gekommen' 'familien'\n",
      " 'unterstützen']\n",
      "5\n",
      "300\n",
      "[[0.]]\n",
      "   first_art  second_art  similarity\n",
      "0          7           3         0.0\n",
      "1          7           4         0.0\n",
      "2          8           7         NaN\n",
      "3          9           3         NaN\n",
      "4          9           4         NaN\n",
      "5          9           7         NaN\n",
      "['islamischen' 'nals' 'aufmerksamkeit' 'organisation' 'steht']\n",
      "[]\n",
      "5\n",
      "300\n",
      "[[0.]]\n",
      "   first_art  second_art  similarity\n",
      "0          7           3         0.0\n",
      "1          7           4         0.0\n",
      "2          8           7         0.0\n",
      "3          9           3         NaN\n",
      "4          9           4         NaN\n",
      "5          9           7         NaN\n",
      "['us präsident' 'präsident donald trump' 'präsident donald' 'vorerst'\n",
      " 'usa']\n",
      "['museum' 'angriff' 'soldaten' 'verletzte' 'täter']\n",
      "5\n",
      "300\n",
      "[[0.41055056]]\n",
      "   first_art  second_art  similarity\n",
      "0          7           3    0.000000\n",
      "1          7           4    0.000000\n",
      "2          8           7    0.000000\n",
      "3          9           3    0.410551\n",
      "4          9           4         NaN\n",
      "5          9           7         NaN\n",
      "['us präsident' 'präsident donald trump' 'präsident donald' 'vorerst'\n",
      " 'usa']\n",
      "['personen' 'ums leben gekommen' 'leben gekommen' 'familien'\n",
      " 'unterstützen']\n",
      "5\n",
      "300\n",
      "[[0.40131394]]\n",
      "   first_art  second_art  similarity\n",
      "0          7           3    0.000000\n",
      "1          7           4    0.000000\n",
      "2          8           7    0.000000\n",
      "3          9           3    0.410551\n",
      "4          9           4    0.401314\n",
      "5          9           7         NaN\n",
      "['us präsident' 'präsident donald trump' 'präsident donald' 'vorerst'\n",
      " 'usa']\n",
      "[]\n",
      "5\n",
      "300\n",
      "[[0.]]\n",
      "   first_art  second_art  similarity\n",
      "0          7           3    0.000000\n",
      "1          7           4    0.000000\n",
      "2          8           7    0.000000\n",
      "3          9           3    0.410551\n",
      "4          9           4    0.401314\n",
      "5          9           7    0.000000\n"
     ]
    },
    {
     "output_type": "execute_result",
     "data": {
      "text/plain": [
       "      nzz_id  recStrength\n",
       "0  ld.138364     0.442184\n",
       "1  ld.139822     0.426568\n",
       "2  ld.137099     0.401655\n",
       "3  ld.141993     0.396713\n",
       "4  ld.141102     0.393410\n",
       "5  ld.144162     0.391064\n",
       "6  ld.143746     0.391000\n",
       "7  ld.146206     0.390971\n",
       "8  ld.140381     0.390264"
      ],
      "text/html": "<div>\n<style scoped>\n    .dataframe tbody tr th:only-of-type {\n        vertical-align: middle;\n    }\n\n    .dataframe tbody tr th {\n        vertical-align: top;\n    }\n\n    .dataframe thead th {\n        text-align: right;\n    }\n</style>\n<table border=\"1\" class=\"dataframe\">\n  <thead>\n    <tr style=\"text-align: right;\">\n      <th></th>\n      <th>nzz_id</th>\n      <th>recStrength</th>\n    </tr>\n  </thead>\n  <tbody>\n    <tr>\n      <th>0</th>\n      <td>ld.138364</td>\n      <td>0.442184</td>\n    </tr>\n    <tr>\n      <th>1</th>\n      <td>ld.139822</td>\n      <td>0.426568</td>\n    </tr>\n    <tr>\n      <th>2</th>\n      <td>ld.137099</td>\n      <td>0.401655</td>\n    </tr>\n    <tr>\n      <th>3</th>\n      <td>ld.141993</td>\n      <td>0.396713</td>\n    </tr>\n    <tr>\n      <th>4</th>\n      <td>ld.141102</td>\n      <td>0.393410</td>\n    </tr>\n    <tr>\n      <th>5</th>\n      <td>ld.144162</td>\n      <td>0.391064</td>\n    </tr>\n    <tr>\n      <th>6</th>\n      <td>ld.143746</td>\n      <td>0.391000</td>\n    </tr>\n    <tr>\n      <th>7</th>\n      <td>ld.146206</td>\n      <td>0.390971</td>\n    </tr>\n    <tr>\n      <th>8</th>\n      <td>ld.140381</td>\n      <td>0.390264</td>\n    </tr>\n  </tbody>\n</table>\n</div>"
     },
     "metadata": {},
     "execution_count": 23
    }
   ],
   "source": [
    "id_list = list(person_recs['nzz_id']) \n",
    "# extracting indices of those articles (in articles_db)\n",
    "indices = articles[articles.nzz_id.isin(id_list)].index.tolist()\n",
    "\n",
    "# extracting pairs of similar articles based on cosine similarities between vectors\n",
    "matrix_lower = np.tril(cosine_similarity(matrix[indices]))\n",
    "np.fill_diagonal(matrix_lower, 0)\n",
    "similar_pairs = np.where(matrix_lower>=0.5)\n",
    "similar_df = pd.DataFrame(np.column_stack(similar_pairs),columns=['first_art','second_art'])\n",
    "\n",
    "# extracting keywords for each pair and computing similrity between them \n",
    "for i in range(len(similar_df)):\n",
    "    id_1 = similar_df.loc[i,'first_art']\n",
    "    sorted_1 = np.argsort(matrix[id_1].data)[:-(5+1):-1]\n",
    "    key_1 = np.array(feature_names)[matrix[id_1].indices[sorted_1]]\n",
    "    id_2 = similar_df.loc[i,'second_art']\n",
    "    sorted_2 = np.argsort(matrix[id_2].data)[:-(5+1):-1]\n",
    "    key_2 = np.array(feature_names)[matrix[id_2].indices[sorted_2]]\n",
    "    print(key_1)\n",
    "    print(key_2)\n",
    "    # vectorization of keywords\n",
    "    key_vec_1 = [fasttext_model.get_word_vector(x) for x in key_1]\n",
    "    key_vec_2 = [fasttext_model.get_word_vector(x) for x in key_2]\n",
    "    \n",
    "    # handling occurences of empty articles\n",
    "    if not key_vec_1: key_vec_1 = [fasttext_model.get_word_vector('') for i in range(5)]\n",
    "    if not key_vec_2: key_vec_2 = [fasttext_model.get_word_vector('') for i in range(5)]\n",
    "\n",
    "    print(len(key_vec_1))\n",
    "    key_vec_1_sum = [0]*300\n",
    "    key_vec_2_sum = [0]*300\n",
    "    for j in range(5):\n",
    "        key_vec_1_sum += key_vec_1[j]\n",
    "        key_vec_2_sum += key_vec_2[j]\n",
    "    print(len(key_vec_1_sum))\n",
    "    \n",
    "    # computing similarity\n",
    "    #cos_matrix = [[cosine_similarity(x.reshape(1,-1),y.reshape(1,-1)) for x in key_vec_1] for y in key_vec_2]\n",
    "    similarity = cosine_similarity(key_vec_1_sum.reshape(1,-1), key_vec_2_sum.reshape(1,-1))\n",
    "    print(similarity)\n",
    "    similar_df.loc[i,'similarity'] = similarity[0][0]\n",
    "    print(similar_df)\n",
    "        # filtering the recommendations\n",
    "new_indices = [x for i, x in enumerate(indices) if i not in list(similar_df.loc[similar_df.similarity >= 0.4, 'first_art'])]\n",
    "filtered_recs_ind = articles.loc[new_indices, 'nzz_id']\n",
    "\n",
    "new_recs = person_recs.loc[person_recs.nzz_id.isin(list(filtered_recs_ind))]\n",
    "new_recs"
   ]
  },
  {
   "cell_type": "code",
   "execution_count": null,
   "metadata": {},
   "outputs": [],
   "source": [
    "# 9 - ['us präsident' 'präsident donald trump' 'präsident donald' 'vorerst' 'usa']\n",
    "# 4 - ['personen' 'ums leben gekommen' 'leben gekommen' 'familien' 'unterstützen']\n",
    "# 3 - ['museum' 'angriff' 'soldaten' 'verletzte' 'täter']"
   ]
  },
  {
   "cell_type": "code",
   "execution_count": 31,
   "metadata": {},
   "outputs": [
    {
     "output_type": "execute_result",
     "data": {
      "text/plain": [
       "         nzz_id               author catchline  \\\n",
       "1455  ld.141993  Alain Zucker, Davos  WEF 2017   \n",
       "\n",
       "                                                content department  \\\n",
       "1455     wef        die welt hat keine führung mehr ...      NZZaS   \n",
       "\n",
       "                                              lead_text  \\\n",
       "1455  Ian Bremmer, Experte für Geopolitik, hält es e...   \n",
       "\n",
       "                     pub_date                              title  content_len  \n",
       "1455  2017-01-26 12:22:34.000  «Die Welt hat keine Führung mehr»         1505  "
      ],
      "text/html": "<div>\n<style scoped>\n    .dataframe tbody tr th:only-of-type {\n        vertical-align: middle;\n    }\n\n    .dataframe tbody tr th {\n        vertical-align: top;\n    }\n\n    .dataframe thead th {\n        text-align: right;\n    }\n</style>\n<table border=\"1\" class=\"dataframe\">\n  <thead>\n    <tr style=\"text-align: right;\">\n      <th></th>\n      <th>nzz_id</th>\n      <th>author</th>\n      <th>catchline</th>\n      <th>content</th>\n      <th>department</th>\n      <th>lead_text</th>\n      <th>pub_date</th>\n      <th>title</th>\n      <th>content_len</th>\n    </tr>\n  </thead>\n  <tbody>\n    <tr>\n      <th>1455</th>\n      <td>ld.141993</td>\n      <td>Alain Zucker, Davos</td>\n      <td>WEF 2017</td>\n      <td>wef        die welt hat keine führung mehr ...</td>\n      <td>NZZaS</td>\n      <td>Ian Bremmer, Experte für Geopolitik, hält es e...</td>\n      <td>2017-01-26 12:22:34.000</td>\n      <td>«Die Welt hat keine Führung mehr»</td>\n      <td>1505</td>\n    </tr>\n  </tbody>\n</table>\n</div>"
     },
     "metadata": {},
     "execution_count": 31
    }
   ],
   "source": [
    "articles.loc[articles['nzz_id'] =='ld.141993'] "
   ]
  },
  {
   "cell_type": "code",
   "execution_count": 32,
   "metadata": {},
   "outputs": [
    {
     "output_type": "execute_result",
     "data": {
      "text/plain": [
       "          nzz_id                 author                     catchline  \\\n",
       "13708  ld.141102  syc./ela. / Agenturen  Donald Trumps erste Amtstage   \n",
       "\n",
       "                                                 content     department  \\\n",
       "13708     donald trumps erste amtstage  us präsident ...  International   \n",
       "\n",
       "                                               lead_text  \\\n",
       "13708  Während Hunderttausende von Frauen in ganz Ame...   \n",
       "\n",
       "                      pub_date  \\\n",
       "13708  2017-01-22 14:08:00.000   \n",
       "\n",
       "                                                   title  content_len  \n",
       "13708  US-Präsident sieht sich «im Krieg mit den Medien»         2619  "
      ],
      "text/html": "<div>\n<style scoped>\n    .dataframe tbody tr th:only-of-type {\n        vertical-align: middle;\n    }\n\n    .dataframe tbody tr th {\n        vertical-align: top;\n    }\n\n    .dataframe thead th {\n        text-align: right;\n    }\n</style>\n<table border=\"1\" class=\"dataframe\">\n  <thead>\n    <tr style=\"text-align: right;\">\n      <th></th>\n      <th>nzz_id</th>\n      <th>author</th>\n      <th>catchline</th>\n      <th>content</th>\n      <th>department</th>\n      <th>lead_text</th>\n      <th>pub_date</th>\n      <th>title</th>\n      <th>content_len</th>\n    </tr>\n  </thead>\n  <tbody>\n    <tr>\n      <th>13708</th>\n      <td>ld.141102</td>\n      <td>syc./ela. / Agenturen</td>\n      <td>Donald Trumps erste Amtstage</td>\n      <td>donald trumps erste amtstage  us präsident ...</td>\n      <td>International</td>\n      <td>Während Hunderttausende von Frauen in ganz Ame...</td>\n      <td>2017-01-22 14:08:00.000</td>\n      <td>US-Präsident sieht sich «im Krieg mit den Medien»</td>\n      <td>2619</td>\n    </tr>\n  </tbody>\n</table>\n</div>"
     },
     "metadata": {},
     "execution_count": 32
    }
   ],
   "source": [
    "articles.loc[articles['nzz_id']== 'ld.141102']"
   ]
  },
  {
   "cell_type": "code",
   "execution_count": 33,
   "metadata": {},
   "outputs": [
    {
     "output_type": "execute_result",
     "data": {
      "text/plain": [
       "          nzz_id   author                               catchline  \\\n",
       "20763  ld.139143  Unknown  Der neue Präsident und seine Geschäfte   \n",
       "\n",
       "                                                 content  department  \\\n",
       "20763     der neue präsident und seine geschäfte   tr...  Wirtschaft   \n",
       "\n",
       "                                               lead_text  \\\n",
       "20763  Donald Trump und sein Firmenimperium sind eng ...   \n",
       "\n",
       "                      pub_date                                     title  \\\n",
       "20763  2017-01-11 12:35:00.000  Trump wird Interessenkonflikte nicht los   \n",
       "\n",
       "       content_len  \n",
       "20763         1312  "
      ],
      "text/html": "<div>\n<style scoped>\n    .dataframe tbody tr th:only-of-type {\n        vertical-align: middle;\n    }\n\n    .dataframe tbody tr th {\n        vertical-align: top;\n    }\n\n    .dataframe thead th {\n        text-align: right;\n    }\n</style>\n<table border=\"1\" class=\"dataframe\">\n  <thead>\n    <tr style=\"text-align: right;\">\n      <th></th>\n      <th>nzz_id</th>\n      <th>author</th>\n      <th>catchline</th>\n      <th>content</th>\n      <th>department</th>\n      <th>lead_text</th>\n      <th>pub_date</th>\n      <th>title</th>\n      <th>content_len</th>\n    </tr>\n  </thead>\n  <tbody>\n    <tr>\n      <th>20763</th>\n      <td>ld.139143</td>\n      <td>Unknown</td>\n      <td>Der neue Präsident und seine Geschäfte</td>\n      <td>der neue präsident und seine geschäfte   tr...</td>\n      <td>Wirtschaft</td>\n      <td>Donald Trump und sein Firmenimperium sind eng ...</td>\n      <td>2017-01-11 12:35:00.000</td>\n      <td>Trump wird Interessenkonflikte nicht los</td>\n      <td>1312</td>\n    </tr>\n  </tbody>\n</table>\n</div>"
     },
     "metadata": {},
     "execution_count": 33
    }
   ],
   "source": [
    "articles.loc[articles['nzz_id']== 'ld.139143']"
   ]
  },
  {
   "cell_type": "code",
   "execution_count": 11,
   "metadata": {},
   "outputs": [
    {
     "output_type": "stream",
     "name": "stdout",
     "text": [
      "list as input\n",
      "list_returned\n"
     ]
    },
    {
     "output_type": "execute_result",
     "data": {
      "text/plain": [
       "['ld.138364',\n",
       " 'ld.139822',\n",
       " 'ld.137099',\n",
       " 'ld.141993',\n",
       " 'ld.141102',\n",
       " 'ld.144162',\n",
       " 'ld.143746',\n",
       " 'ld.146206',\n",
       " 'ld.140381']"
      ]
     },
     "metadata": {},
     "execution_count": 11
    }
   ],
   "source": [
    "content_based_recommender_model.filter_out_similar(person_recs, feature_names = feature_names, model=fasttext_model, article_similarity=0.5, \n",
    "                                                    keyword_similarity=0.3)"
   ]
  },
  {
   "cell_type": "code",
   "execution_count": 45,
   "metadata": {},
   "outputs": [],
   "source": [
    "recs = build_profiles(readers, matrix, articles)"
   ]
  },
  {
   "cell_type": "code",
   "execution_count": 41,
   "metadata": {},
   "outputs": [
    {
     "output_type": "execute_result",
     "data": {
      "text/plain": [
       "1000"
      ]
     },
     "metadata": {},
     "execution_count": 41
    }
   ],
   "source": [
    "len(recs)"
   ]
  },
  {
   "cell_type": "code",
   "execution_count": 42,
   "metadata": {},
   "outputs": [
    {
     "output_type": "execute_result",
     "data": {
      "text/plain": [
       "array([[0.01371982, 0.        , 0.        , ..., 0.        , 0.        ,\n",
       "        0.        ]])"
      ]
     },
     "metadata": {},
     "execution_count": 42
    }
   ],
   "source": [
    "recs[154]"
   ]
  },
  {
   "cell_type": "code",
   "execution_count": null,
   "metadata": {},
   "outputs": [],
   "source": []
  }
 ]
}