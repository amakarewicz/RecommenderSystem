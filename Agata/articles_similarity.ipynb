{
 "metadata": {
  "language_info": {
   "codemirror_mode": {
    "name": "ipython",
    "version": 3
   },
   "file_extension": ".py",
   "mimetype": "text/x-python",
   "name": "python",
   "nbconvert_exporter": "python",
   "pygments_lexer": "ipython3",
   "version": "3.8.8"
  },
  "orig_nbformat": 2,
  "kernelspec": {
   "name": "python388jvsc74a57bd058acd5bd797a08523d99af27523988877810b63fdf22f32c0dba9d8273224907",
   "display_name": "Python 3.8.8 64-bit"
  }
 },
 "nbformat": 4,
 "nbformat_minor": 2,
 "cells": [
  {
   "cell_type": "code",
   "execution_count": 1,
   "metadata": {},
   "outputs": [],
   "source": [
    "import numpy as np\n",
    "import scipy\n",
    "import pandas as pd\n",
    "import math\n",
    "import matplotlib.pyplot as plt\n",
    "import random\n",
    "import sklearn\n",
    "\n",
    "import fasttext\n",
    "import re\n",
    "import nltk\n",
    "from nltk.corpus import stopwords\n",
    "\n",
    "from sklearn.model_selection import train_test_split\n",
    "from sklearn.feature_extraction.text import TfidfVectorizer\n",
    "from sklearn.metrics.pairwise import cosine_similarity\n",
    "\n",
    "from scipy.sparse.linalg import svds\n",
    "from scipy.sparse import csr_matrix"
   ]
  },
  {
   "cell_type": "code",
   "execution_count": 2,
   "metadata": {},
   "outputs": [],
   "source": [
    "from content_based_model import ContentBasedRecommender\n",
    "from evaluator import ModelEvaluator"
   ]
  },
  {
   "cell_type": "code",
   "execution_count": 3,
   "metadata": {},
   "outputs": [],
   "source": [
    "articles = pd.read_csv('./data/articles_clean.csv')\n",
    "articles_lemma = pd.read_csv('./data/articles_lemmatized.csv')"
   ]
  },
  {
   "source": [
    "## Wektoryzacja"
   ],
   "cell_type": "markdown",
   "metadata": {}
  },
  {
   "cell_type": "code",
   "execution_count": 4,
   "metadata": {},
   "outputs": [],
   "source": [
    "stopwords_list = stopwords.words('german') # are there other languages in text"
   ]
  },
  {
   "source": [
    "### TFIDF"
   ],
   "cell_type": "markdown",
   "metadata": {}
  },
  {
   "cell_type": "code",
   "execution_count": 5,
   "metadata": {},
   "outputs": [],
   "source": [
    "\n",
    "tfidf_vectorizer = TfidfVectorizer(analyzer='word',\n",
    "                     ngram_range=(1, 3), # bi - gram (?)\n",
    "                     min_df=0.01,\n",
    "                     max_df=0.7,\n",
    "                     max_features=5000,\n",
    "                     stop_words=stopwords_list)\n"
   ]
  },
  {
   "source": [
    "### FastText"
   ],
   "cell_type": "markdown",
   "metadata": {}
  },
  {
   "cell_type": "code",
   "execution_count": 6,
   "metadata": {},
   "outputs": [
    {
     "output_type": "stream",
     "name": "stdout",
     "text": [
      "Wall time: 52 s\n",
      "Warning : `load_model` does not return WordVectorModel or SupervisedModel any more, but a `FastText` object which is very similar.\n"
     ]
    }
   ],
   "source": [
    "%%time\n",
    "fasttext_model = fasttext.load_model(r'C:\\Users\\a814810\\Downloads\\wiki.de\\wiki.de.bin')"
   ]
  },
  {
   "source": [
    "%%time\n",
    "for i in range(len(articles)):\n",
    "    row = re.sub(r'\\r\\n', '', articles.loc[i,'content'])\n",
    "    embedding = fasttext_model.get_sentence_vector(row)\n",
    "    if i == 0 : fast_matrix = embedding\n",
    "    else: fast_matrix = np.vstack([fast_matrix, embedding])"
   ],
   "cell_type": "code",
   "metadata": {},
   "execution_count": 7,
   "outputs": [
    {
     "output_type": "stream",
     "name": "stdout",
     "text": [
      "Wall time: 6min 56s\n"
     ]
    }
   ]
  },
  {
   "cell_type": "code",
   "execution_count": 8,
   "metadata": {},
   "outputs": [
    {
     "output_type": "execute_result",
     "data": {
      "text/plain": [
       "(22019, 300)"
      ]
     },
     "metadata": {},
     "execution_count": 8
    }
   ],
   "source": [
    "fast_matrix.shape"
   ]
  },
  {
   "cell_type": "code",
   "execution_count": 9,
   "metadata": {},
   "outputs": [],
   "source": [
    "def vectorize(vectorizer, data): # tylko do tfidf/count (?)\n",
    "    matrix  = vectorizer.fit_transform(data['content'])\n",
    "    feature_names = vectorizer.get_feature_names()\n",
    "    return matrix, feature_names"
   ]
  },
  {
   "cell_type": "code",
   "execution_count": 10,
   "metadata": {},
   "outputs": [],
   "source": [
    "tfidf_matrix, tfidf_features = vectorize(tfidf_vectorizer, articles)"
   ]
  },
  {
   "source": [
    "### User profiles (?)"
   ],
   "cell_type": "markdown",
   "metadata": {}
  },
  {
   "cell_type": "code",
   "execution_count": 11,
   "metadata": {},
   "outputs": [],
   "source": [
    "readers = pd.read_csv('./../readers.csv')"
   ]
  },
  {
   "cell_type": "code",
   "execution_count": 12,
   "metadata": {},
   "outputs": [
    {
     "output_type": "execute_result",
     "data": {
      "text/plain": [
       "   id      art_id\n",
       "0   1   ld.154103\n",
       "1   1   ld.142559\n",
       "2   1  1.18331199\n",
       "3   1   ld.144819\n",
       "4   1  ld.1293110"
      ],
      "text/html": "<div>\n<style scoped>\n    .dataframe tbody tr th:only-of-type {\n        vertical-align: middle;\n    }\n\n    .dataframe tbody tr th {\n        vertical-align: top;\n    }\n\n    .dataframe thead th {\n        text-align: right;\n    }\n</style>\n<table border=\"1\" class=\"dataframe\">\n  <thead>\n    <tr style=\"text-align: right;\">\n      <th></th>\n      <th>id</th>\n      <th>art_id</th>\n    </tr>\n  </thead>\n  <tbody>\n    <tr>\n      <th>0</th>\n      <td>1</td>\n      <td>ld.154103</td>\n    </tr>\n    <tr>\n      <th>1</th>\n      <td>1</td>\n      <td>ld.142559</td>\n    </tr>\n    <tr>\n      <th>2</th>\n      <td>1</td>\n      <td>1.18331199</td>\n    </tr>\n    <tr>\n      <th>3</th>\n      <td>1</td>\n      <td>ld.144819</td>\n    </tr>\n    <tr>\n      <th>4</th>\n      <td>1</td>\n      <td>ld.1293110</td>\n    </tr>\n  </tbody>\n</table>\n</div>"
     },
     "metadata": {},
     "execution_count": 12
    }
   ],
   "source": [
    "readers.head()"
   ]
  },
  {
   "cell_type": "code",
   "execution_count": 13,
   "metadata": {},
   "outputs": [
    {
     "output_type": "stream",
     "name": "stdout",
     "text": [
      "# users: 1000\n# users with at least 5 interactions: 1000\n"
     ]
    }
   ],
   "source": [
    "users_interactions_count_df = readers.groupby(['id', 'art_id']).size().groupby('id').size()\n",
    "print('# users: %d' % len(users_interactions_count_df))\n",
    "users_with_enough_interactions_df = users_interactions_count_df[users_interactions_count_df >= 5].reset_index()[['id']]\n",
    "print('# users with at least 5 interactions: %d' % len(users_with_enough_interactions_df))"
   ]
  },
  {
   "cell_type": "code",
   "execution_count": 14,
   "metadata": {},
   "outputs": [
    {
     "output_type": "stream",
     "name": "stdout",
     "text": [
      "# interactions on Train set: 22284\n# interactions on Test set: 5571\n"
     ]
    }
   ],
   "source": [
    "# all users have enough interactions (min 5) so train-test-split basically on readers dataset\n",
    "interactions_train, interactions_test = train_test_split(readers,\n",
    "                                   stratify=readers['id'], \n",
    "                                   test_size=0.20,\n",
    "                                   random_state=123)\n",
    "\n",
    "print('# interactions on Train set: %d' % len(interactions_train))\n",
    "print('# interactions on Test set: %d' % len(interactions_test))"
   ]
  },
  {
   "cell_type": "code",
   "execution_count": 15,
   "metadata": {},
   "outputs": [],
   "source": [
    "def vectorize_and_build_profiles(vectorizer,data):\n",
    "\n",
    "    def vectorize(vectorizer, data):\n",
    "        matrix  = vectorizer.fit_transform(data)\n",
    "        feature_names = vectorizer.get_feature_names()\n",
    "        return matrix, feature_names\n",
    "\n",
    "    def get_one_article_profile(item_id: str, matrix):\n",
    "        idx = articles['nzz_id'].tolist().index(item_id)\n",
    "        item_profile = matrix[idx:idx+1]\n",
    "        return item_profile\n",
    "\n",
    "    def get_articles_profiles(ids,matrix):\n",
    "        item_profiles_list = [get_one_article_profile(x,matrix) for x in ids]\n",
    "        item_profiles = scipy.sparse.vstack(item_profiles_list)\n",
    "        return item_profiles\n",
    "\n",
    "    def build_users_profiles(matrix): \n",
    "        interactions = interactions_train[interactions_train['art_id'].isin(articles['nzz_id'])].set_index('id')\n",
    "        user_profiles = {}\n",
    "        for person_id in interactions.index.unique():\n",
    "            user_item_profiles = get_articles_profiles(interactions.loc[person_id,'art_id'],matrix)\n",
    "            user_profiles[person_id] = sklearn.preprocessing.normalize(np.sum(user_item_profiles, axis=0))\n",
    "        return user_profiles\n",
    "    \n",
    "    matrix, features = vectorize(vectorizer, data)\n",
    "    user_profiles = build_users_profiles(matrix)\n",
    "    return matrix, features, user_profiles"
   ]
  },
  {
   "cell_type": "code",
   "execution_count": 16,
   "metadata": {},
   "outputs": [],
   "source": [
    "matrix, feat_names, user_profiles = vectorize_and_build_profiles(tfidf_vectorizer, articles['content'])"
   ]
  },
  {
   "cell_type": "code",
   "execution_count": 17,
   "metadata": {},
   "outputs": [
    {
     "output_type": "stream",
     "name": "stdout",
     "text": [
      "(1, 2282)\n"
     ]
    },
    {
     "output_type": "execute_result",
     "data": {
      "text/plain": [
       "       token  relevance\n",
       "0      insel   0.248814\n",
       "1     papier   0.234971\n",
       "2     frauen   0.227556\n",
       "3        mal   0.216718\n",
       "4    überall   0.210696\n",
       "5         de   0.179554\n",
       "6     leicht   0.177821\n",
       "7  verkaufen   0.174356\n",
       "8      zudem   0.162986\n",
       "9     wasser   0.161277"
      ],
      "text/html": "<div>\n<style scoped>\n    .dataframe tbody tr th:only-of-type {\n        vertical-align: middle;\n    }\n\n    .dataframe tbody tr th {\n        vertical-align: top;\n    }\n\n    .dataframe thead th {\n        text-align: right;\n    }\n</style>\n<table border=\"1\" class=\"dataframe\">\n  <thead>\n    <tr style=\"text-align: right;\">\n      <th></th>\n      <th>token</th>\n      <th>relevance</th>\n    </tr>\n  </thead>\n  <tbody>\n    <tr>\n      <th>0</th>\n      <td>insel</td>\n      <td>0.248814</td>\n    </tr>\n    <tr>\n      <th>1</th>\n      <td>papier</td>\n      <td>0.234971</td>\n    </tr>\n    <tr>\n      <th>2</th>\n      <td>frauen</td>\n      <td>0.227556</td>\n    </tr>\n    <tr>\n      <th>3</th>\n      <td>mal</td>\n      <td>0.216718</td>\n    </tr>\n    <tr>\n      <th>4</th>\n      <td>überall</td>\n      <td>0.210696</td>\n    </tr>\n    <tr>\n      <th>5</th>\n      <td>de</td>\n      <td>0.179554</td>\n    </tr>\n    <tr>\n      <th>6</th>\n      <td>leicht</td>\n      <td>0.177821</td>\n    </tr>\n    <tr>\n      <th>7</th>\n      <td>verkaufen</td>\n      <td>0.174356</td>\n    </tr>\n    <tr>\n      <th>8</th>\n      <td>zudem</td>\n      <td>0.162986</td>\n    </tr>\n    <tr>\n      <th>9</th>\n      <td>wasser</td>\n      <td>0.161277</td>\n    </tr>\n  </tbody>\n</table>\n</div>"
     },
     "metadata": {},
     "execution_count": 17
    }
   ],
   "source": [
    "myprofile = user_profiles[1]\n",
    "print(myprofile.shape)\n",
    "pd.DataFrame(sorted(zip(feat_names, \n",
    "                        myprofile.flatten().tolist()), key=lambda x: -x[1])[:10],\n",
    "             columns=['token', 'relevance'])"
   ]
  },
  {
   "source": [
    "## Ewaluator"
   ],
   "cell_type": "markdown",
   "metadata": {}
  },
  {
   "cell_type": "code",
   "execution_count": 18,
   "metadata": {},
   "outputs": [],
   "source": [
    "content_based_recommender_model = ContentBasedRecommender(articles, user_profiles, matrix)\n",
    "model_evaluator = ModelEvaluator()  "
   ]
  },
  {
   "cell_type": "code",
   "execution_count": 19,
   "metadata": {},
   "outputs": [
    {
     "output_type": "stream",
     "name": "stdout",
     "text": [
      "999 users processed\n"
     ]
    }
   ],
   "source": [
    "cb_global_metrics, cb_detailed_results_df, people_recs = model_evaluator.evaluate_model(content_based_recommender_model, articles, readers, interactions_train, interactions_test)"
   ]
  },
  {
   "cell_type": "code",
   "execution_count": 43,
   "metadata": {},
   "outputs": [],
   "source": [
    "def get_recs_for_user(user_id):\n",
    "    for i in range(len(people_recs)):\n",
    "        if people_recs[i].loc[1,'_person_id'] == user_id:\n",
    "            return people_recs[i]"
   ]
  },
  {
   "cell_type": "code",
   "execution_count": 47,
   "metadata": {},
   "outputs": [
    {
     "output_type": "execute_result",
     "data": {
      "text/plain": [
       "        art_id  recStrength  _person_id\n",
       "0    ld.138364     0.458265         411\n",
       "1    ld.139822     0.419848         411\n",
       "2    ld.139143     0.409991         411\n",
       "3    ld.141102     0.404845         411\n",
       "4    ld.140381     0.400806         411\n",
       "..         ...          ...         ...\n",
       "977  ld.141173     0.248292         411\n",
       "978  ld.142119     0.248191         411\n",
       "979  ld.145887     0.248153         411\n",
       "980  ld.151375     0.248139         411\n",
       "981  ld.152320     0.248081         411\n",
       "\n",
       "[982 rows x 3 columns]"
      ],
      "text/html": "<div>\n<style scoped>\n    .dataframe tbody tr th:only-of-type {\n        vertical-align: middle;\n    }\n\n    .dataframe tbody tr th {\n        vertical-align: top;\n    }\n\n    .dataframe thead th {\n        text-align: right;\n    }\n</style>\n<table border=\"1\" class=\"dataframe\">\n  <thead>\n    <tr style=\"text-align: right;\">\n      <th></th>\n      <th>art_id</th>\n      <th>recStrength</th>\n      <th>_person_id</th>\n    </tr>\n  </thead>\n  <tbody>\n    <tr>\n      <th>0</th>\n      <td>ld.138364</td>\n      <td>0.458265</td>\n      <td>411</td>\n    </tr>\n    <tr>\n      <th>1</th>\n      <td>ld.139822</td>\n      <td>0.419848</td>\n      <td>411</td>\n    </tr>\n    <tr>\n      <th>2</th>\n      <td>ld.139143</td>\n      <td>0.409991</td>\n      <td>411</td>\n    </tr>\n    <tr>\n      <th>3</th>\n      <td>ld.141102</td>\n      <td>0.404845</td>\n      <td>411</td>\n    </tr>\n    <tr>\n      <th>4</th>\n      <td>ld.140381</td>\n      <td>0.400806</td>\n      <td>411</td>\n    </tr>\n    <tr>\n      <th>...</th>\n      <td>...</td>\n      <td>...</td>\n      <td>...</td>\n    </tr>\n    <tr>\n      <th>977</th>\n      <td>ld.141173</td>\n      <td>0.248292</td>\n      <td>411</td>\n    </tr>\n    <tr>\n      <th>978</th>\n      <td>ld.142119</td>\n      <td>0.248191</td>\n      <td>411</td>\n    </tr>\n    <tr>\n      <th>979</th>\n      <td>ld.145887</td>\n      <td>0.248153</td>\n      <td>411</td>\n    </tr>\n    <tr>\n      <th>980</th>\n      <td>ld.151375</td>\n      <td>0.248139</td>\n      <td>411</td>\n    </tr>\n    <tr>\n      <th>981</th>\n      <td>ld.152320</td>\n      <td>0.248081</td>\n      <td>411</td>\n    </tr>\n  </tbody>\n</table>\n<p>982 rows × 3 columns</p>\n</div>"
     },
     "metadata": {},
     "execution_count": 47
    }
   ],
   "source": [
    "recs = get_recs_for_user(411)\n",
    "recs"
   ]
  },
  {
   "cell_type": "code",
   "execution_count": 68,
   "metadata": {},
   "outputs": [
    {
     "output_type": "execute_result",
     "data": {
      "text/plain": [
       "'ld.139822'"
      ]
     },
     "metadata": {},
     "execution_count": 68
    }
   ],
   "source": [
    "list(recs['art_id'])[1]"
   ]
  },
  {
   "cell_type": "code",
   "execution_count": 87,
   "metadata": {},
   "outputs": [
    {
     "output_type": "execute_result",
     "data": {
      "text/plain": [
       "['ld.138364', 'ld.139822', 'ld.139143', 'ld.141102', 'ld.140381']"
      ]
     },
     "metadata": {},
     "execution_count": 87
    }
   ],
   "source": [
    "list_for_test = list(recs['art_id'])[:5]\n",
    "list_for_test"
   ]
  },
  {
   "cell_type": "code",
   "execution_count": 89,
   "metadata": {},
   "outputs": [],
   "source": [
    "indices = articles[articles.nzz_id.isin(list_for_test)].index.tolist()"
   ]
  },
  {
   "cell_type": "code",
   "execution_count": 90,
   "metadata": {},
   "outputs": [
    {
     "output_type": "execute_result",
     "data": {
      "text/plain": [
       "array([[1.        , 0.49271318, 0.51491629, 0.42187818, 0.51711057],\n",
       "       [0.49271318, 1.        , 0.51904078, 0.4635894 , 0.6443268 ],\n",
       "       [0.51491629, 0.51904078, 1.        , 0.52035234, 0.62926822],\n",
       "       [0.42187818, 0.4635894 , 0.52035234, 1.        , 0.48208584],\n",
       "       [0.51711057, 0.6443268 , 0.62926822, 0.48208584, 1.        ]])"
      ]
     },
     "metadata": {},
     "execution_count": 90
    }
   ],
   "source": [
    "cosine_similarity(tfidf_matrix[indices])"
   ]
  },
  {
   "cell_type": "code",
   "execution_count": 85,
   "metadata": {},
   "outputs": [
    {
     "output_type": "execute_result",
     "data": {
      "text/plain": [
       "count    982.000000\n",
       "mean       0.136259\n",
       "std        0.088651\n",
       "min        0.006644\n",
       "25%        0.069576\n",
       "50%        0.117573\n",
       "75%        0.188088\n",
       "max        1.000000\n",
       "dtype: float64"
      ]
     },
     "metadata": {},
     "execution_count": 85
    }
   ],
   "source": [
    "np.mean(pd.DataFrame(cosine_similarity(tfidf_matrix[indices])).describe(), axis=1)"
   ]
  },
  {
   "cell_type": "code",
   "execution_count": 27,
   "metadata": {},
   "outputs": [
    {
     "output_type": "stream",
     "name": "stdout",
     "text": [
      "Evaluating Content-Based Filtering model...\n\nGlobal metrics:\n{'modelName': 'Content-Based', 'recall@5': 0.11236761802189912, 'recall@10': 0.12475318614252379}\n"
     ]
    },
    {
     "output_type": "execute_result",
     "data": {
      "text/plain": [
       "     hits@5_count  hits@10_count  interacted_count  recall@5  recall@10  \\\n",
       "358             2              2                10       0.2        0.2   \n",
       "721             1              1                10       0.1        0.1   \n",
       "510             2              2                10       0.2        0.2   \n",
       "86              2              2                10       0.2        0.2   \n",
       "484             2              2                10       0.2        0.2   \n",
       "472             2              2                10       0.2        0.2   \n",
       "259             2              3                10       0.2        0.3   \n",
       "264             0              0                10       0.0        0.0   \n",
       "797             2              2                10       0.2        0.2   \n",
       "276             2              2                10       0.2        0.2   \n",
       "\n",
       "     _person_id  \n",
       "358         907  \n",
       "721         938  \n",
       "510          64  \n",
       "86          887  \n",
       "484         397  \n",
       "472         218  \n",
       "259         273  \n",
       "264         803  \n",
       "797         865  \n",
       "276         443  "
      ],
      "text/html": "<div>\n<style scoped>\n    .dataframe tbody tr th:only-of-type {\n        vertical-align: middle;\n    }\n\n    .dataframe tbody tr th {\n        vertical-align: top;\n    }\n\n    .dataframe thead th {\n        text-align: right;\n    }\n</style>\n<table border=\"1\" class=\"dataframe\">\n  <thead>\n    <tr style=\"text-align: right;\">\n      <th></th>\n      <th>hits@5_count</th>\n      <th>hits@10_count</th>\n      <th>interacted_count</th>\n      <th>recall@5</th>\n      <th>recall@10</th>\n      <th>_person_id</th>\n    </tr>\n  </thead>\n  <tbody>\n    <tr>\n      <th>358</th>\n      <td>2</td>\n      <td>2</td>\n      <td>10</td>\n      <td>0.2</td>\n      <td>0.2</td>\n      <td>907</td>\n    </tr>\n    <tr>\n      <th>721</th>\n      <td>1</td>\n      <td>1</td>\n      <td>10</td>\n      <td>0.1</td>\n      <td>0.1</td>\n      <td>938</td>\n    </tr>\n    <tr>\n      <th>510</th>\n      <td>2</td>\n      <td>2</td>\n      <td>10</td>\n      <td>0.2</td>\n      <td>0.2</td>\n      <td>64</td>\n    </tr>\n    <tr>\n      <th>86</th>\n      <td>2</td>\n      <td>2</td>\n      <td>10</td>\n      <td>0.2</td>\n      <td>0.2</td>\n      <td>887</td>\n    </tr>\n    <tr>\n      <th>484</th>\n      <td>2</td>\n      <td>2</td>\n      <td>10</td>\n      <td>0.2</td>\n      <td>0.2</td>\n      <td>397</td>\n    </tr>\n    <tr>\n      <th>472</th>\n      <td>2</td>\n      <td>2</td>\n      <td>10</td>\n      <td>0.2</td>\n      <td>0.2</td>\n      <td>218</td>\n    </tr>\n    <tr>\n      <th>259</th>\n      <td>2</td>\n      <td>3</td>\n      <td>10</td>\n      <td>0.2</td>\n      <td>0.3</td>\n      <td>273</td>\n    </tr>\n    <tr>\n      <th>264</th>\n      <td>0</td>\n      <td>0</td>\n      <td>10</td>\n      <td>0.0</td>\n      <td>0.0</td>\n      <td>803</td>\n    </tr>\n    <tr>\n      <th>797</th>\n      <td>2</td>\n      <td>2</td>\n      <td>10</td>\n      <td>0.2</td>\n      <td>0.2</td>\n      <td>865</td>\n    </tr>\n    <tr>\n      <th>276</th>\n      <td>2</td>\n      <td>2</td>\n      <td>10</td>\n      <td>0.2</td>\n      <td>0.2</td>\n      <td>443</td>\n    </tr>\n  </tbody>\n</table>\n</div>"
     },
     "metadata": {},
     "execution_count": 27
    }
   ],
   "source": [
    "print('Evaluating Content-Based Filtering model...')\n",
    "print('\\nGlobal metrics:\\n%s' % cb_global_metrics)\n",
    "cb_detailed_results_df.head(10)"
   ]
  },
  {
   "cell_type": "code",
   "execution_count": null,
   "metadata": {},
   "outputs": [],
   "source": []
  }
 ]
}