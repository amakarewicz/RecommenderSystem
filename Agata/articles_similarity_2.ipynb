{
 "metadata": {
  "language_info": {
   "codemirror_mode": {
    "name": "ipython",
    "version": 3
   },
   "file_extension": ".py",
   "mimetype": "text/x-python",
   "name": "python",
   "nbconvert_exporter": "python",
   "pygments_lexer": "ipython3",
   "version": "3.8.8"
  },
  "orig_nbformat": 2,
  "kernelspec": {
   "name": "python388jvsc74a57bd058acd5bd797a08523d99af27523988877810b63fdf22f32c0dba9d8273224907",
   "display_name": "Python 3.8.8 64-bit"
  }
 },
 "nbformat": 4,
 "nbformat_minor": 2,
 "cells": [
  {
   "cell_type": "code",
   "execution_count": 1,
   "metadata": {},
   "outputs": [],
   "source": [
    "import numpy as np\n",
    "import scipy\n",
    "import pandas as pd\n",
    "import math\n",
    "import matplotlib.pyplot as plt\n",
    "import random\n",
    "import sklearn\n",
    "\n",
    "import fasttext\n",
    "import re\n",
    "import nltk\n",
    "from nltk.corpus import stopwords\n",
    "\n",
    "from sklearn.model_selection import train_test_split\n",
    "from sklearn.feature_extraction.text import TfidfVectorizer\n",
    "from sklearn.metrics.pairwise import cosine_similarity\n",
    "\n",
    "from scipy.sparse.linalg import svds\n",
    "from scipy.sparse import csr_matrix"
   ]
  },
  {
   "cell_type": "code",
   "execution_count": 2,
   "metadata": {},
   "outputs": [],
   "source": [
    "from content_based_model import ContentBasedRecommender\n",
    "from evaluator import ModelEvaluator"
   ]
  },
  {
   "cell_type": "code",
   "execution_count": 3,
   "metadata": {},
   "outputs": [],
   "source": [
    "articles = pd.read_csv('./data/articles_clean.csv')\n",
    "articles_lemma = pd.read_csv('./data/articles_lemmatized.csv')"
   ]
  },
  {
   "source": [
    "## Wektoryzacja"
   ],
   "cell_type": "markdown",
   "metadata": {}
  },
  {
   "cell_type": "code",
   "execution_count": 4,
   "metadata": {},
   "outputs": [],
   "source": [
    "stopwords_list = stopwords.words('german') # are there other languages in text"
   ]
  },
  {
   "source": [
    "### TFIDF"
   ],
   "cell_type": "markdown",
   "metadata": {}
  },
  {
   "cell_type": "code",
   "execution_count": 5,
   "metadata": {},
   "outputs": [],
   "source": [
    "\n",
    "tfidf_vectorizer = TfidfVectorizer(analyzer='word',\n",
    "                     ngram_range=(1, 3), # bi - gram (?)\n",
    "                     min_df=0.01,\n",
    "                     max_df=0.7,\n",
    "                     max_features=5000,\n",
    "                     stop_words=stopwords_list)\n"
   ]
  },
  {
   "source": [
    "### User profiles (?)"
   ],
   "cell_type": "markdown",
   "metadata": {}
  },
  {
   "cell_type": "code",
   "execution_count": 6,
   "metadata": {},
   "outputs": [],
   "source": [
    "readers = pd.read_csv('./../readers.csv')"
   ]
  },
  {
   "cell_type": "code",
   "execution_count": 8,
   "metadata": {},
   "outputs": [
    {
     "output_type": "stream",
     "name": "stdout",
     "text": [
      "# interactions on Train set: 22284\n# interactions on Test set: 5571\n"
     ]
    }
   ],
   "source": [
    "# all users have enough interactions (min 5) so train-test-split basically on readers dataset\n",
    "interactions_train, interactions_test = train_test_split(readers,\n",
    "                                   stratify=readers['id'], \n",
    "                                   test_size=0.20,\n",
    "                                   random_state=123)\n",
    "\n",
    "print('# interactions on Train set: %d' % len(interactions_train))\n",
    "print('# interactions on Test set: %d' % len(interactions_test))"
   ]
  },
  {
   "cell_type": "code",
   "execution_count": 9,
   "metadata": {},
   "outputs": [],
   "source": [
    "def vectorize_and_build_profiles(vectorizer,data):\n",
    "\n",
    "    def vectorize(vectorizer, data):\n",
    "        matrix  = vectorizer.fit_transform(data)\n",
    "        feature_names = vectorizer.get_feature_names()\n",
    "        return matrix, feature_names\n",
    "\n",
    "    def get_one_article_profile(item_id: str, matrix):\n",
    "        idx = articles['nzz_id'].tolist().index(item_id)\n",
    "        item_profile = matrix[idx:idx+1]\n",
    "        return item_profile\n",
    "\n",
    "    def get_articles_profiles(ids,matrix):\n",
    "        item_profiles_list = [get_one_article_profile(x,matrix) for x in ids]\n",
    "        item_profiles = scipy.sparse.vstack(item_profiles_list)\n",
    "        return item_profiles\n",
    "\n",
    "    def build_users_profiles(matrix): \n",
    "        interactions = interactions_train[interactions_train['art_id'].isin(articles['nzz_id'])].set_index('id')\n",
    "        user_profiles = {}\n",
    "        for person_id in interactions.index.unique():\n",
    "            user_item_profiles = get_articles_profiles(interactions.loc[person_id,'art_id'],matrix)\n",
    "            user_profiles[person_id] = sklearn.preprocessing.normalize(np.sum(user_item_profiles, axis=0))\n",
    "        return user_profiles\n",
    "    \n",
    "    matrix, features = vectorize(vectorizer, data)\n",
    "    user_profiles = build_users_profiles(matrix)\n",
    "    return matrix, features, user_profiles"
   ]
  },
  {
   "cell_type": "code",
   "execution_count": 10,
   "metadata": {},
   "outputs": [],
   "source": [
    "matrix, feat_names, user_profiles = vectorize_and_build_profiles(tfidf_vectorizer, articles['content'])"
   ]
  },
  {
   "source": [
    "### Articles similarity"
   ],
   "cell_type": "markdown",
   "metadata": {}
  },
  {
   "cell_type": "code",
   "execution_count": 11,
   "metadata": {},
   "outputs": [],
   "source": [
    "content_based_recommender_model = ContentBasedRecommender(readers, articles, user_profiles, matrix)\n",
    "model_evaluator = ModelEvaluator()  "
   ]
  },
  {
   "cell_type": "code",
   "execution_count": 27,
   "metadata": {},
   "outputs": [],
   "source": [
    "recs = content_based_recommender_model.recommend_items(200)"
   ]
  },
  {
   "cell_type": "code",
   "execution_count": 28,
   "metadata": {},
   "outputs": [],
   "source": [
    "def filter_similar_recs(user_recs, matrix, similarity_level):\n",
    "    \n",
    "    id_list = list(user_recs['art_id'])\n",
    "    indices = articles[articles.nzz_id.isin(id_list)].index.tolist()\n",
    "\n",
    "    cosine_sim_matrix = cosine_similarity(matrix[indices])\n",
    "    matrix_lower = np.tril(cosine_similarity(matrix[indices]))\n",
    "    np.fill_diagonal(matrix_lower, 0)\n",
    "    similar_pairs = np.where(matrix_lower>=similarity_level)\n",
    "    similar_df = pd.DataFrame(np.column_stack(similar_pairs),columns=['first_art','second_art'])\n",
    "\n",
    "    new_indices = [x for i, x in enumerate(indices) if i not in list(similar_df['first_art'])]\n",
    "    filtered_recs_ind = articles.loc[new_indices, 'nzz_id']\n",
    "\n",
    "    new_recs = user_recs.loc[user_recs.art_id.isin(list(filtered_recs_ind))]\n",
    "\n",
    "    return new_recs"
   ]
  },
  {
   "cell_type": "code",
   "execution_count": 31,
   "metadata": {},
   "outputs": [
    {
     "output_type": "execute_result",
     "data": {
      "text/plain": [
       "      art_id  recStrength\n",
       "0  ld.137099     0.419695\n",
       "3  ld.141928     0.381344\n",
       "4  ld.137751     0.378720\n",
       "5  ld.147428     0.374231\n",
       "6  ld.143038     0.373578\n",
       "7  ld.147213     0.368438\n",
       "8  ld.141993     0.364303\n",
       "9  ld.141346     0.363449"
      ],
      "text/html": "<div>\n<style scoped>\n    .dataframe tbody tr th:only-of-type {\n        vertical-align: middle;\n    }\n\n    .dataframe tbody tr th {\n        vertical-align: top;\n    }\n\n    .dataframe thead th {\n        text-align: right;\n    }\n</style>\n<table border=\"1\" class=\"dataframe\">\n  <thead>\n    <tr style=\"text-align: right;\">\n      <th></th>\n      <th>art_id</th>\n      <th>recStrength</th>\n    </tr>\n  </thead>\n  <tbody>\n    <tr>\n      <th>0</th>\n      <td>ld.137099</td>\n      <td>0.419695</td>\n    </tr>\n    <tr>\n      <th>3</th>\n      <td>ld.141928</td>\n      <td>0.381344</td>\n    </tr>\n    <tr>\n      <th>4</th>\n      <td>ld.137751</td>\n      <td>0.378720</td>\n    </tr>\n    <tr>\n      <th>5</th>\n      <td>ld.147428</td>\n      <td>0.374231</td>\n    </tr>\n    <tr>\n      <th>6</th>\n      <td>ld.143038</td>\n      <td>0.373578</td>\n    </tr>\n    <tr>\n      <th>7</th>\n      <td>ld.147213</td>\n      <td>0.368438</td>\n    </tr>\n    <tr>\n      <th>8</th>\n      <td>ld.141993</td>\n      <td>0.364303</td>\n    </tr>\n    <tr>\n      <th>9</th>\n      <td>ld.141346</td>\n      <td>0.363449</td>\n    </tr>\n  </tbody>\n</table>\n</div>"
     },
     "metadata": {},
     "execution_count": 31
    }
   ],
   "source": [
    "filter_similar_recs(recs, matrix, 0.4)"
   ]
  },
  {
   "cell_type": "code",
   "execution_count": 26,
   "metadata": {},
   "outputs": [],
   "source": [
    "#########################################\n",
    "#########################################\n",
    "#########################################"
   ]
  },
  {
   "cell_type": "code",
   "execution_count": 21,
   "metadata": {},
   "outputs": [],
   "source": [
    "def  get_read_articles(person_id):\n",
    "        # Get the user's data and merge in the article info\n",
    "    interacted_items = readers.loc[person_id, 'art_id']\n",
    "    return set(interacted_items if type(interacted_items) == pd.Series else [interacted_items])\n",
    "        "
   ]
  },
  {
   "cell_type": "code",
   "execution_count": 18,
   "metadata": {},
   "outputs": [],
   "source": [
    "def get_recs_for_user(user_id):\n",
    "    for i in range(len(people_recs)):\n",
    "        if people_recs[i].loc[1,'_person_id'] == user_id:\n",
    "            return people_recs[i]"
   ]
  },
  {
   "cell_type": "code",
   "execution_count": 19,
   "metadata": {},
   "outputs": [
    {
     "output_type": "execute_result",
     "data": {
      "text/plain": [
       "        art_id  recStrength  _person_id\n",
       "0    ld.138364     0.458265         411\n",
       "1    ld.139822     0.419848         411\n",
       "2    ld.139143     0.409991         411\n",
       "3    ld.141102     0.404845         411\n",
       "4    ld.140381     0.400806         411\n",
       "..         ...          ...         ...\n",
       "977  ld.141173     0.248292         411\n",
       "978  ld.142119     0.248191         411\n",
       "979  ld.145887     0.248153         411\n",
       "980  ld.151375     0.248139         411\n",
       "981  ld.152320     0.248081         411\n",
       "\n",
       "[982 rows x 3 columns]"
      ],
      "text/html": "<div>\n<style scoped>\n    .dataframe tbody tr th:only-of-type {\n        vertical-align: middle;\n    }\n\n    .dataframe tbody tr th {\n        vertical-align: top;\n    }\n\n    .dataframe thead th {\n        text-align: right;\n    }\n</style>\n<table border=\"1\" class=\"dataframe\">\n  <thead>\n    <tr style=\"text-align: right;\">\n      <th></th>\n      <th>art_id</th>\n      <th>recStrength</th>\n      <th>_person_id</th>\n    </tr>\n  </thead>\n  <tbody>\n    <tr>\n      <th>0</th>\n      <td>ld.138364</td>\n      <td>0.458265</td>\n      <td>411</td>\n    </tr>\n    <tr>\n      <th>1</th>\n      <td>ld.139822</td>\n      <td>0.419848</td>\n      <td>411</td>\n    </tr>\n    <tr>\n      <th>2</th>\n      <td>ld.139143</td>\n      <td>0.409991</td>\n      <td>411</td>\n    </tr>\n    <tr>\n      <th>3</th>\n      <td>ld.141102</td>\n      <td>0.404845</td>\n      <td>411</td>\n    </tr>\n    <tr>\n      <th>4</th>\n      <td>ld.140381</td>\n      <td>0.400806</td>\n      <td>411</td>\n    </tr>\n    <tr>\n      <th>...</th>\n      <td>...</td>\n      <td>...</td>\n      <td>...</td>\n    </tr>\n    <tr>\n      <th>977</th>\n      <td>ld.141173</td>\n      <td>0.248292</td>\n      <td>411</td>\n    </tr>\n    <tr>\n      <th>978</th>\n      <td>ld.142119</td>\n      <td>0.248191</td>\n      <td>411</td>\n    </tr>\n    <tr>\n      <th>979</th>\n      <td>ld.145887</td>\n      <td>0.248153</td>\n      <td>411</td>\n    </tr>\n    <tr>\n      <th>980</th>\n      <td>ld.151375</td>\n      <td>0.248139</td>\n      <td>411</td>\n    </tr>\n    <tr>\n      <th>981</th>\n      <td>ld.152320</td>\n      <td>0.248081</td>\n      <td>411</td>\n    </tr>\n  </tbody>\n</table>\n<p>982 rows × 3 columns</p>\n</div>"
     },
     "metadata": {},
     "execution_count": 19
    }
   ],
   "source": [
    "recs = get_recs_for_user(411)\n",
    "recs"
   ]
  },
  {
   "cell_type": "code",
   "execution_count": 17,
   "metadata": {},
   "outputs": [
    {
     "output_type": "stream",
     "name": "stdout",
     "text": [
      "999 users processed\n"
     ]
    }
   ],
   "source": [
    "cb_global_metrics, cb_detailed_results_df, people_recs = model_evaluator.evaluate_model(content_based_recommender_model, articles, readers, interactions_train, interactions_test)"
   ]
  },
  {
   "cell_type": "code",
   "execution_count": 20,
   "metadata": {},
   "outputs": [
    {
     "output_type": "execute_result",
     "data": {
      "text/plain": [
       "'ld.139822'"
      ]
     },
     "metadata": {},
     "execution_count": 20
    }
   ],
   "source": [
    "list(recs['art_id'])[1]"
   ]
  },
  {
   "cell_type": "code",
   "execution_count": 75,
   "metadata": {},
   "outputs": [
    {
     "output_type": "execute_result",
     "data": {
      "text/plain": [
       "['ld.144162',\n",
       " 'ld.142639',\n",
       " 'ld.140834',\n",
       " 'ld.143546',\n",
       " 'ld.140200',\n",
       " 'ld.147480',\n",
       " 'ld.138165',\n",
       " 'ld.1289252',\n",
       " 'ld.146048',\n",
       " 'ld.139216']"
      ]
     },
     "metadata": {},
     "execution_count": 75
    }
   ],
   "source": [
    "list_for_test = list(recs['art_id'])[20:30]\n",
    "list_for_test"
   ]
  },
  {
   "cell_type": "code",
   "execution_count": 76,
   "metadata": {},
   "outputs": [],
   "source": [
    "list_full = list(recs['art_id'])"
   ]
  },
  {
   "cell_type": "code",
   "execution_count": 96,
   "metadata": {},
   "outputs": [],
   "source": [
    "indices = articles[articles.nzz_id.isin(list_for_test)].index.tolist()\n",
    "indices_full = articles[articles.nzz_id.isin(list_full)].index.tolist()"
   ]
  },
  {
   "cell_type": "code",
   "execution_count": 78,
   "metadata": {},
   "outputs": [
    {
     "output_type": "execute_result",
     "data": {
      "text/plain": [
       "          0         1         2         3         4         5         6    \\\n",
       "0    1.000000  0.137855  0.566121  0.091091  0.034822  0.186635  0.061657   \n",
       "1    0.137855  1.000000  0.182852  0.186177  0.120673  0.280902  0.139153   \n",
       "2    0.566121  0.182852  1.000000  0.189666  0.088180  0.242287  0.077818   \n",
       "3    0.091091  0.186177  0.189666  1.000000  0.091949  0.124010  0.082631   \n",
       "4    0.034822  0.120673  0.088180  0.091949  1.000000  0.150879  0.272595   \n",
       "..        ...       ...       ...       ...       ...       ...       ...   \n",
       "977  0.087352  0.098723  0.154602  0.141616  0.144758  0.117861  0.112024   \n",
       "978  0.228281  0.103854  0.271361  0.152868  0.049612  0.210126  0.072093   \n",
       "979  0.146367  0.163082  0.113753  0.126718  0.091131  0.275090  0.114476   \n",
       "980  0.199889  0.124230  0.261994  0.181128  0.046018  0.164105  0.039548   \n",
       "981  0.335671  0.141847  0.376439  0.217983  0.051900  0.165722  0.033031   \n",
       "\n",
       "          7         8         9    ...       972       973       974  \\\n",
       "0    0.298902  0.078255  0.266386  ...  0.084415  0.306630  0.053428   \n",
       "1    0.097486  0.082015  0.071599  ...  0.092459  0.121550  0.110281   \n",
       "2    0.258094  0.051746  0.250914  ...  0.048918  0.406740  0.051198   \n",
       "3    0.124485  0.102547  0.119076  ...  0.098436  0.217404  0.105885   \n",
       "4    0.059825  0.108725  0.099855  ...  0.110505  0.119193  0.163684   \n",
       "..        ...       ...       ...  ...       ...       ...       ...   \n",
       "977  0.072614  0.124272  0.096680  ...  0.159841  0.115740  0.133542   \n",
       "978  0.124720  0.103169  0.115435  ...  0.100416  0.256679  0.114863   \n",
       "979  0.093160  0.193388  0.106268  ...  0.159370  0.176954  0.152064   \n",
       "980  0.130494  0.077534  0.107035  ...  0.113734  0.290059  0.056314   \n",
       "981  0.272965  0.104075  0.160732  ...  0.075302  0.281109  0.060212   \n",
       "\n",
       "          975       976       977       978       979       980       981  \n",
       "0    0.421129  0.238868  0.087352  0.228281  0.146367  0.199889  0.335671  \n",
       "1    0.190159  0.096952  0.098723  0.103854  0.163082  0.124230  0.141847  \n",
       "2    0.428183  0.193468  0.154602  0.271361  0.113753  0.261994  0.376439  \n",
       "3    0.127166  0.200645  0.141616  0.152868  0.126718  0.181128  0.217983  \n",
       "4    0.003861  0.133828  0.144758  0.049612  0.091131  0.046018  0.051900  \n",
       "..        ...       ...       ...       ...       ...       ...       ...  \n",
       "977  0.038926  0.174106  1.000000  0.157464  0.119454  0.205003  0.116103  \n",
       "978  0.244893  0.168685  0.157464  1.000000  0.195728  0.326188  0.255393  \n",
       "979  0.100849  0.120557  0.119454  0.195728  1.000000  0.077189  0.111102  \n",
       "980  0.240593  0.107899  0.205003  0.326188  0.077189  1.000000  0.242667  \n",
       "981  0.398823  0.182017  0.116103  0.255393  0.111102  0.242667  1.000000  \n",
       "\n",
       "[982 rows x 982 columns]"
      ],
      "text/html": "<div>\n<style scoped>\n    .dataframe tbody tr th:only-of-type {\n        vertical-align: middle;\n    }\n\n    .dataframe tbody tr th {\n        vertical-align: top;\n    }\n\n    .dataframe thead th {\n        text-align: right;\n    }\n</style>\n<table border=\"1\" class=\"dataframe\">\n  <thead>\n    <tr style=\"text-align: right;\">\n      <th></th>\n      <th>0</th>\n      <th>1</th>\n      <th>2</th>\n      <th>3</th>\n      <th>4</th>\n      <th>5</th>\n      <th>6</th>\n      <th>7</th>\n      <th>8</th>\n      <th>9</th>\n      <th>...</th>\n      <th>972</th>\n      <th>973</th>\n      <th>974</th>\n      <th>975</th>\n      <th>976</th>\n      <th>977</th>\n      <th>978</th>\n      <th>979</th>\n      <th>980</th>\n      <th>981</th>\n    </tr>\n  </thead>\n  <tbody>\n    <tr>\n      <th>0</th>\n      <td>1.000000</td>\n      <td>0.137855</td>\n      <td>0.566121</td>\n      <td>0.091091</td>\n      <td>0.034822</td>\n      <td>0.186635</td>\n      <td>0.061657</td>\n      <td>0.298902</td>\n      <td>0.078255</td>\n      <td>0.266386</td>\n      <td>...</td>\n      <td>0.084415</td>\n      <td>0.306630</td>\n      <td>0.053428</td>\n      <td>0.421129</td>\n      <td>0.238868</td>\n      <td>0.087352</td>\n      <td>0.228281</td>\n      <td>0.146367</td>\n      <td>0.199889</td>\n      <td>0.335671</td>\n    </tr>\n    <tr>\n      <th>1</th>\n      <td>0.137855</td>\n      <td>1.000000</td>\n      <td>0.182852</td>\n      <td>0.186177</td>\n      <td>0.120673</td>\n      <td>0.280902</td>\n      <td>0.139153</td>\n      <td>0.097486</td>\n      <td>0.082015</td>\n      <td>0.071599</td>\n      <td>...</td>\n      <td>0.092459</td>\n      <td>0.121550</td>\n      <td>0.110281</td>\n      <td>0.190159</td>\n      <td>0.096952</td>\n      <td>0.098723</td>\n      <td>0.103854</td>\n      <td>0.163082</td>\n      <td>0.124230</td>\n      <td>0.141847</td>\n    </tr>\n    <tr>\n      <th>2</th>\n      <td>0.566121</td>\n      <td>0.182852</td>\n      <td>1.000000</td>\n      <td>0.189666</td>\n      <td>0.088180</td>\n      <td>0.242287</td>\n      <td>0.077818</td>\n      <td>0.258094</td>\n      <td>0.051746</td>\n      <td>0.250914</td>\n      <td>...</td>\n      <td>0.048918</td>\n      <td>0.406740</td>\n      <td>0.051198</td>\n      <td>0.428183</td>\n      <td>0.193468</td>\n      <td>0.154602</td>\n      <td>0.271361</td>\n      <td>0.113753</td>\n      <td>0.261994</td>\n      <td>0.376439</td>\n    </tr>\n    <tr>\n      <th>3</th>\n      <td>0.091091</td>\n      <td>0.186177</td>\n      <td>0.189666</td>\n      <td>1.000000</td>\n      <td>0.091949</td>\n      <td>0.124010</td>\n      <td>0.082631</td>\n      <td>0.124485</td>\n      <td>0.102547</td>\n      <td>0.119076</td>\n      <td>...</td>\n      <td>0.098436</td>\n      <td>0.217404</td>\n      <td>0.105885</td>\n      <td>0.127166</td>\n      <td>0.200645</td>\n      <td>0.141616</td>\n      <td>0.152868</td>\n      <td>0.126718</td>\n      <td>0.181128</td>\n      <td>0.217983</td>\n    </tr>\n    <tr>\n      <th>4</th>\n      <td>0.034822</td>\n      <td>0.120673</td>\n      <td>0.088180</td>\n      <td>0.091949</td>\n      <td>1.000000</td>\n      <td>0.150879</td>\n      <td>0.272595</td>\n      <td>0.059825</td>\n      <td>0.108725</td>\n      <td>0.099855</td>\n      <td>...</td>\n      <td>0.110505</td>\n      <td>0.119193</td>\n      <td>0.163684</td>\n      <td>0.003861</td>\n      <td>0.133828</td>\n      <td>0.144758</td>\n      <td>0.049612</td>\n      <td>0.091131</td>\n      <td>0.046018</td>\n      <td>0.051900</td>\n    </tr>\n    <tr>\n      <th>...</th>\n      <td>...</td>\n      <td>...</td>\n      <td>...</td>\n      <td>...</td>\n      <td>...</td>\n      <td>...</td>\n      <td>...</td>\n      <td>...</td>\n      <td>...</td>\n      <td>...</td>\n      <td>...</td>\n      <td>...</td>\n      <td>...</td>\n      <td>...</td>\n      <td>...</td>\n      <td>...</td>\n      <td>...</td>\n      <td>...</td>\n      <td>...</td>\n      <td>...</td>\n      <td>...</td>\n    </tr>\n    <tr>\n      <th>977</th>\n      <td>0.087352</td>\n      <td>0.098723</td>\n      <td>0.154602</td>\n      <td>0.141616</td>\n      <td>0.144758</td>\n      <td>0.117861</td>\n      <td>0.112024</td>\n      <td>0.072614</td>\n      <td>0.124272</td>\n      <td>0.096680</td>\n      <td>...</td>\n      <td>0.159841</td>\n      <td>0.115740</td>\n      <td>0.133542</td>\n      <td>0.038926</td>\n      <td>0.174106</td>\n      <td>1.000000</td>\n      <td>0.157464</td>\n      <td>0.119454</td>\n      <td>0.205003</td>\n      <td>0.116103</td>\n    </tr>\n    <tr>\n      <th>978</th>\n      <td>0.228281</td>\n      <td>0.103854</td>\n      <td>0.271361</td>\n      <td>0.152868</td>\n      <td>0.049612</td>\n      <td>0.210126</td>\n      <td>0.072093</td>\n      <td>0.124720</td>\n      <td>0.103169</td>\n      <td>0.115435</td>\n      <td>...</td>\n      <td>0.100416</td>\n      <td>0.256679</td>\n      <td>0.114863</td>\n      <td>0.244893</td>\n      <td>0.168685</td>\n      <td>0.157464</td>\n      <td>1.000000</td>\n      <td>0.195728</td>\n      <td>0.326188</td>\n      <td>0.255393</td>\n    </tr>\n    <tr>\n      <th>979</th>\n      <td>0.146367</td>\n      <td>0.163082</td>\n      <td>0.113753</td>\n      <td>0.126718</td>\n      <td>0.091131</td>\n      <td>0.275090</td>\n      <td>0.114476</td>\n      <td>0.093160</td>\n      <td>0.193388</td>\n      <td>0.106268</td>\n      <td>...</td>\n      <td>0.159370</td>\n      <td>0.176954</td>\n      <td>0.152064</td>\n      <td>0.100849</td>\n      <td>0.120557</td>\n      <td>0.119454</td>\n      <td>0.195728</td>\n      <td>1.000000</td>\n      <td>0.077189</td>\n      <td>0.111102</td>\n    </tr>\n    <tr>\n      <th>980</th>\n      <td>0.199889</td>\n      <td>0.124230</td>\n      <td>0.261994</td>\n      <td>0.181128</td>\n      <td>0.046018</td>\n      <td>0.164105</td>\n      <td>0.039548</td>\n      <td>0.130494</td>\n      <td>0.077534</td>\n      <td>0.107035</td>\n      <td>...</td>\n      <td>0.113734</td>\n      <td>0.290059</td>\n      <td>0.056314</td>\n      <td>0.240593</td>\n      <td>0.107899</td>\n      <td>0.205003</td>\n      <td>0.326188</td>\n      <td>0.077189</td>\n      <td>1.000000</td>\n      <td>0.242667</td>\n    </tr>\n    <tr>\n      <th>981</th>\n      <td>0.335671</td>\n      <td>0.141847</td>\n      <td>0.376439</td>\n      <td>0.217983</td>\n      <td>0.051900</td>\n      <td>0.165722</td>\n      <td>0.033031</td>\n      <td>0.272965</td>\n      <td>0.104075</td>\n      <td>0.160732</td>\n      <td>...</td>\n      <td>0.075302</td>\n      <td>0.281109</td>\n      <td>0.060212</td>\n      <td>0.398823</td>\n      <td>0.182017</td>\n      <td>0.116103</td>\n      <td>0.255393</td>\n      <td>0.111102</td>\n      <td>0.242667</td>\n      <td>1.000000</td>\n    </tr>\n  </tbody>\n</table>\n<p>982 rows × 982 columns</p>\n</div>"
     },
     "metadata": {},
     "execution_count": 78
    }
   ],
   "source": [
    "pd.DataFrame(cosine_similarity(tfidf_matrix[indices_full]))"
   ]
  },
  {
   "cell_type": "code",
   "execution_count": 90,
   "metadata": {},
   "outputs": [
    {
     "output_type": "execute_result",
     "data": {
      "text/plain": [
       "[1631, 3429, 8513, 9497, 10434, 13531, 14011, 17384, 19473, 21106]"
      ]
     },
     "metadata": {},
     "execution_count": 90
    }
   ],
   "source": [
    "indices"
   ]
  },
  {
   "cell_type": "code",
   "execution_count": 79,
   "metadata": {},
   "outputs": [],
   "source": [
    "import seaborn as sns"
   ]
  },
  {
   "cell_type": "code",
   "execution_count": 80,
   "metadata": {},
   "outputs": [
    {
     "output_type": "stream",
     "name": "stderr",
     "text": [
      "C:\\Users\\a814810\\AppData\\Local\\Programs\\Python\\Python38\\lib\\site-packages\\seaborn\\_decorators.py:36: FutureWarning: Pass the following variable as a keyword arg: x. From version 0.12, the only valid positional argument will be `data`, and passing other arguments without an explicit keyword will result in an error or misinterpretation.\n  warnings.warn(\n"
     ]
    },
    {
     "output_type": "execute_result",
     "data": {
      "text/plain": [
       "<AxesSubplot:xlabel='80'>"
      ]
     },
     "metadata": {},
     "execution_count": 80
    },
    {
     "output_type": "display_data",
     "data": {
      "text/plain": "<Figure size 432x288 with 1 Axes>",
      "image/svg+xml": "<?xml version=\"1.0\" encoding=\"utf-8\" standalone=\"no\"?>\r\n<!DOCTYPE svg PUBLIC \"-//W3C//DTD SVG 1.1//EN\"\r\n  \"http://www.w3.org/Graphics/SVG/1.1/DTD/svg11.dtd\">\r\n<svg height=\"262.19625pt\" version=\"1.1\" viewBox=\"0 0 352.7 262.19625\" width=\"352.7pt\" xmlns=\"http://www.w3.org/2000/svg\" xmlns:xlink=\"http://www.w3.org/1999/xlink\">\r\n <metadata>\r\n  <rdf:RDF xmlns:cc=\"http://creativecommons.org/ns#\" xmlns:dc=\"http://purl.org/dc/elements/1.1/\" xmlns:rdf=\"http://www.w3.org/1999/02/22-rdf-syntax-ns#\">\r\n   <cc:Work>\r\n    <dc:type rdf:resource=\"http://purl.org/dc/dcmitype/StillImage\"/>\r\n    <dc:date>2021-04-21T10:53:06.208485</dc:date>\r\n    <dc:format>image/svg+xml</dc:format>\r\n    <dc:creator>\r\n     <cc:Agent>\r\n      <dc:title>Matplotlib v3.4.1, https://matplotlib.org/</dc:title>\r\n     </cc:Agent>\r\n    </dc:creator>\r\n   </cc:Work>\r\n  </rdf:RDF>\r\n </metadata>\r\n <defs>\r\n  <style type=\"text/css\">*{stroke-linecap:butt;stroke-linejoin:round;}</style>\r\n </defs>\r\n <g id=\"figure_1\">\r\n  <g id=\"patch_1\">\r\n   <path d=\"M 0 262.19625 \r\nL 352.7 262.19625 \r\nL 352.7 0 \r\nL 0 0 \r\nz\r\n\" style=\"fill:none;\"/>\r\n  </g>\r\n  <g id=\"axes_1\">\r\n   <g id=\"patch_2\">\r\n    <path d=\"M 10.7 224.64 \r\nL 345.5 224.64 \r\nL 345.5 7.2 \r\nL 10.7 7.2 \r\nz\r\n\" style=\"fill:#ffffff;\"/>\r\n   </g>\r\n   <g id=\"patch_3\">\r\n    <path clip-path=\"url(#pfdf9a14953)\" d=\"M 52.428116 28.944 \r\nL 52.428116 202.896 \r\nL 63.218817 202.896 \r\nL 63.218817 28.944 \r\nL 52.428116 28.944 \r\nz\r\n\" style=\"fill:#3274a1;stroke:#3f3f3f;stroke-linejoin:miter;stroke-width:1.5;\"/>\r\n   </g>\r\n   <g id=\"matplotlib.axis_1\">\r\n    <g id=\"xtick_1\">\r\n     <g id=\"line2d_1\">\r\n      <defs>\r\n       <path d=\"M 0 0 \r\nL 0 3.5 \r\n\" id=\"m04defe2aa4\" style=\"stroke:#000000;stroke-width:0.8;\"/>\r\n      </defs>\r\n      <g>\r\n       <use style=\"stroke:#000000;stroke-width:0.8;\" x=\"23.201586\" xlink:href=\"#m04defe2aa4\" y=\"224.64\"/>\r\n      </g>\r\n     </g>\r\n     <g id=\"text_1\">\r\n      <!-- 0.0 -->\r\n      <g transform=\"translate(15.250023 239.238437)scale(0.1 -0.1)\">\r\n       <defs>\r\n        <path d=\"M 2034 4250 \r\nQ 1547 4250 1301 3770 \r\nQ 1056 3291 1056 2328 \r\nQ 1056 1369 1301 889 \r\nQ 1547 409 2034 409 \r\nQ 2525 409 2770 889 \r\nQ 3016 1369 3016 2328 \r\nQ 3016 3291 2770 3770 \r\nQ 2525 4250 2034 4250 \r\nz\r\nM 2034 4750 \r\nQ 2819 4750 3233 4129 \r\nQ 3647 3509 3647 2328 \r\nQ 3647 1150 3233 529 \r\nQ 2819 -91 2034 -91 \r\nQ 1250 -91 836 529 \r\nQ 422 1150 422 2328 \r\nQ 422 3509 836 4129 \r\nQ 1250 4750 2034 4750 \r\nz\r\n\" id=\"DejaVuSans-30\" transform=\"scale(0.015625)\"/>\r\n        <path d=\"M 684 794 \r\nL 1344 794 \r\nL 1344 0 \r\nL 684 0 \r\nL 684 794 \r\nz\r\n\" id=\"DejaVuSans-2e\" transform=\"scale(0.015625)\"/>\r\n       </defs>\r\n       <use xlink:href=\"#DejaVuSans-30\"/>\r\n       <use x=\"63.623047\" xlink:href=\"#DejaVuSans-2e\"/>\r\n       <use x=\"95.410156\" xlink:href=\"#DejaVuSans-30\"/>\r\n      </g>\r\n     </g>\r\n    </g>\r\n    <g id=\"xtick_2\">\r\n     <g id=\"line2d_2\">\r\n      <g>\r\n       <use style=\"stroke:#000000;stroke-width:0.8;\" x=\"84.617632\" xlink:href=\"#m04defe2aa4\" y=\"224.64\"/>\r\n      </g>\r\n     </g>\r\n     <g id=\"text_2\">\r\n      <!-- 0.2 -->\r\n      <g transform=\"translate(76.66607 239.238437)scale(0.1 -0.1)\">\r\n       <defs>\r\n        <path d=\"M 1228 531 \r\nL 3431 531 \r\nL 3431 0 \r\nL 469 0 \r\nL 469 531 \r\nQ 828 903 1448 1529 \r\nQ 2069 2156 2228 2338 \r\nQ 2531 2678 2651 2914 \r\nQ 2772 3150 2772 3378 \r\nQ 2772 3750 2511 3984 \r\nQ 2250 4219 1831 4219 \r\nQ 1534 4219 1204 4116 \r\nQ 875 4013 500 3803 \r\nL 500 4441 \r\nQ 881 4594 1212 4672 \r\nQ 1544 4750 1819 4750 \r\nQ 2544 4750 2975 4387 \r\nQ 3406 4025 3406 3419 \r\nQ 3406 3131 3298 2873 \r\nQ 3191 2616 2906 2266 \r\nQ 2828 2175 2409 1742 \r\nQ 1991 1309 1228 531 \r\nz\r\n\" id=\"DejaVuSans-32\" transform=\"scale(0.015625)\"/>\r\n       </defs>\r\n       <use xlink:href=\"#DejaVuSans-30\"/>\r\n       <use x=\"63.623047\" xlink:href=\"#DejaVuSans-2e\"/>\r\n       <use x=\"95.410156\" xlink:href=\"#DejaVuSans-32\"/>\r\n      </g>\r\n     </g>\r\n    </g>\r\n    <g id=\"xtick_3\">\r\n     <g id=\"line2d_3\">\r\n      <g>\r\n       <use style=\"stroke:#000000;stroke-width:0.8;\" x=\"146.033679\" xlink:href=\"#m04defe2aa4\" y=\"224.64\"/>\r\n      </g>\r\n     </g>\r\n     <g id=\"text_3\">\r\n      <!-- 0.4 -->\r\n      <g transform=\"translate(138.082116 239.238437)scale(0.1 -0.1)\">\r\n       <defs>\r\n        <path d=\"M 2419 4116 \r\nL 825 1625 \r\nL 2419 1625 \r\nL 2419 4116 \r\nz\r\nM 2253 4666 \r\nL 3047 4666 \r\nL 3047 1625 \r\nL 3713 1625 \r\nL 3713 1100 \r\nL 3047 1100 \r\nL 3047 0 \r\nL 2419 0 \r\nL 2419 1100 \r\nL 313 1100 \r\nL 313 1709 \r\nL 2253 4666 \r\nz\r\n\" id=\"DejaVuSans-34\" transform=\"scale(0.015625)\"/>\r\n       </defs>\r\n       <use xlink:href=\"#DejaVuSans-30\"/>\r\n       <use x=\"63.623047\" xlink:href=\"#DejaVuSans-2e\"/>\r\n       <use x=\"95.410156\" xlink:href=\"#DejaVuSans-34\"/>\r\n      </g>\r\n     </g>\r\n    </g>\r\n    <g id=\"xtick_4\">\r\n     <g id=\"line2d_4\">\r\n      <g>\r\n       <use style=\"stroke:#000000;stroke-width:0.8;\" x=\"207.449725\" xlink:href=\"#m04defe2aa4\" y=\"224.64\"/>\r\n      </g>\r\n     </g>\r\n     <g id=\"text_4\">\r\n      <!-- 0.6 -->\r\n      <g transform=\"translate(199.498163 239.238437)scale(0.1 -0.1)\">\r\n       <defs>\r\n        <path d=\"M 2113 2584 \r\nQ 1688 2584 1439 2293 \r\nQ 1191 2003 1191 1497 \r\nQ 1191 994 1439 701 \r\nQ 1688 409 2113 409 \r\nQ 2538 409 2786 701 \r\nQ 3034 994 3034 1497 \r\nQ 3034 2003 2786 2293 \r\nQ 2538 2584 2113 2584 \r\nz\r\nM 3366 4563 \r\nL 3366 3988 \r\nQ 3128 4100 2886 4159 \r\nQ 2644 4219 2406 4219 \r\nQ 1781 4219 1451 3797 \r\nQ 1122 3375 1075 2522 \r\nQ 1259 2794 1537 2939 \r\nQ 1816 3084 2150 3084 \r\nQ 2853 3084 3261 2657 \r\nQ 3669 2231 3669 1497 \r\nQ 3669 778 3244 343 \r\nQ 2819 -91 2113 -91 \r\nQ 1303 -91 875 529 \r\nQ 447 1150 447 2328 \r\nQ 447 3434 972 4092 \r\nQ 1497 4750 2381 4750 \r\nQ 2619 4750 2861 4703 \r\nQ 3103 4656 3366 4563 \r\nz\r\n\" id=\"DejaVuSans-36\" transform=\"scale(0.015625)\"/>\r\n       </defs>\r\n       <use xlink:href=\"#DejaVuSans-30\"/>\r\n       <use x=\"63.623047\" xlink:href=\"#DejaVuSans-2e\"/>\r\n       <use x=\"95.410156\" xlink:href=\"#DejaVuSans-36\"/>\r\n      </g>\r\n     </g>\r\n    </g>\r\n    <g id=\"xtick_5\">\r\n     <g id=\"line2d_5\">\r\n      <g>\r\n       <use style=\"stroke:#000000;stroke-width:0.8;\" x=\"268.865772\" xlink:href=\"#m04defe2aa4\" y=\"224.64\"/>\r\n      </g>\r\n     </g>\r\n     <g id=\"text_5\">\r\n      <!-- 0.8 -->\r\n      <g transform=\"translate(260.914209 239.238437)scale(0.1 -0.1)\">\r\n       <defs>\r\n        <path d=\"M 2034 2216 \r\nQ 1584 2216 1326 1975 \r\nQ 1069 1734 1069 1313 \r\nQ 1069 891 1326 650 \r\nQ 1584 409 2034 409 \r\nQ 2484 409 2743 651 \r\nQ 3003 894 3003 1313 \r\nQ 3003 1734 2745 1975 \r\nQ 2488 2216 2034 2216 \r\nz\r\nM 1403 2484 \r\nQ 997 2584 770 2862 \r\nQ 544 3141 544 3541 \r\nQ 544 4100 942 4425 \r\nQ 1341 4750 2034 4750 \r\nQ 2731 4750 3128 4425 \r\nQ 3525 4100 3525 3541 \r\nQ 3525 3141 3298 2862 \r\nQ 3072 2584 2669 2484 \r\nQ 3125 2378 3379 2068 \r\nQ 3634 1759 3634 1313 \r\nQ 3634 634 3220 271 \r\nQ 2806 -91 2034 -91 \r\nQ 1263 -91 848 271 \r\nQ 434 634 434 1313 \r\nQ 434 1759 690 2068 \r\nQ 947 2378 1403 2484 \r\nz\r\nM 1172 3481 \r\nQ 1172 3119 1398 2916 \r\nQ 1625 2713 2034 2713 \r\nQ 2441 2713 2670 2916 \r\nQ 2900 3119 2900 3481 \r\nQ 2900 3844 2670 4047 \r\nQ 2441 4250 2034 4250 \r\nQ 1625 4250 1398 4047 \r\nQ 1172 3844 1172 3481 \r\nz\r\n\" id=\"DejaVuSans-38\" transform=\"scale(0.015625)\"/>\r\n       </defs>\r\n       <use xlink:href=\"#DejaVuSans-30\"/>\r\n       <use x=\"63.623047\" xlink:href=\"#DejaVuSans-2e\"/>\r\n       <use x=\"95.410156\" xlink:href=\"#DejaVuSans-38\"/>\r\n      </g>\r\n     </g>\r\n    </g>\r\n    <g id=\"xtick_6\">\r\n     <g id=\"line2d_6\">\r\n      <g>\r\n       <use style=\"stroke:#000000;stroke-width:0.8;\" x=\"330.281818\" xlink:href=\"#m04defe2aa4\" y=\"224.64\"/>\r\n      </g>\r\n     </g>\r\n     <g id=\"text_6\">\r\n      <!-- 1.0 -->\r\n      <g transform=\"translate(322.330256 239.238437)scale(0.1 -0.1)\">\r\n       <defs>\r\n        <path d=\"M 794 531 \r\nL 1825 531 \r\nL 1825 4091 \r\nL 703 3866 \r\nL 703 4441 \r\nL 1819 4666 \r\nL 2450 4666 \r\nL 2450 531 \r\nL 3481 531 \r\nL 3481 0 \r\nL 794 0 \r\nL 794 531 \r\nz\r\n\" id=\"DejaVuSans-31\" transform=\"scale(0.015625)\"/>\r\n       </defs>\r\n       <use xlink:href=\"#DejaVuSans-31\"/>\r\n       <use x=\"63.623047\" xlink:href=\"#DejaVuSans-2e\"/>\r\n       <use x=\"95.410156\" xlink:href=\"#DejaVuSans-30\"/>\r\n      </g>\r\n     </g>\r\n    </g>\r\n    <g id=\"text_7\">\r\n     <!-- 80 -->\r\n     <g transform=\"translate(171.7375 252.916562)scale(0.1 -0.1)\">\r\n      <use xlink:href=\"#DejaVuSans-38\"/>\r\n      <use x=\"63.623047\" xlink:href=\"#DejaVuSans-30\"/>\r\n     </g>\r\n    </g>\r\n   </g>\r\n   <g id=\"matplotlib.axis_2\">\r\n    <g id=\"ytick_1\">\r\n     <g id=\"line2d_7\">\r\n      <defs>\r\n       <path d=\"M 0 0 \r\nL -3.5 0 \r\n\" id=\"m2a5c2b1bdc\" style=\"stroke:#000000;stroke-width:0.8;\"/>\r\n      </defs>\r\n      <g>\r\n       <use style=\"stroke:#000000;stroke-width:0.8;\" x=\"10.7\" xlink:href=\"#m2a5c2b1bdc\" y=\"115.92\"/>\r\n      </g>\r\n     </g>\r\n    </g>\r\n   </g>\r\n   <g id=\"line2d_8\">\r\n    <path clip-path=\"url(#pfdf9a14953)\" d=\"M 52.428116 115.92 \r\nL 36.488752 115.92 \r\n\" style=\"fill:none;stroke:#3f3f3f;stroke-linecap:square;stroke-width:1.5;\"/>\r\n   </g>\r\n   <g id=\"line2d_9\">\r\n    <path clip-path=\"url(#pfdf9a14953)\" d=\"M 63.218817 115.92 \r\nL 78.98354 115.92 \r\n\" style=\"fill:none;stroke:#3f3f3f;stroke-linecap:square;stroke-width:1.5;\"/>\r\n   </g>\r\n   <g id=\"line2d_10\">\r\n    <path clip-path=\"url(#pfdf9a14953)\" d=\"M 36.488752 72.432 \r\nL 36.488752 159.408 \r\n\" style=\"fill:none;stroke:#3f3f3f;stroke-linecap:square;stroke-width:1.5;\"/>\r\n   </g>\r\n   <g id=\"line2d_11\">\r\n    <path clip-path=\"url(#pfdf9a14953)\" d=\"M 78.98354 72.432 \r\nL 78.98354 159.408 \r\n\" style=\"fill:none;stroke:#3f3f3f;stroke-linecap:square;stroke-width:1.5;\"/>\r\n   </g>\r\n   <g id=\"line2d_12\">\r\n    <defs>\r\n     <path d=\"M 0 3.535534 \r\nL 2.12132 0 \r\nL 0 -3.535534 \r\nL -2.12132 0 \r\nz\r\n\" id=\"m7b77deb964\" style=\"stroke:#3f3f3f;stroke-linejoin:miter;\"/>\r\n    </defs>\r\n    <g clip-path=\"url(#pfdf9a14953)\">\r\n     <use style=\"fill:#3f3f3f;stroke:#3f3f3f;stroke-linejoin:miter;\" x=\"34.65288\" xlink:href=\"#m7b77deb964\" y=\"115.92\"/>\r\n     <use style=\"fill:#3f3f3f;stroke:#3f3f3f;stroke-linejoin:miter;\" x=\"25.918182\" xlink:href=\"#m7b77deb964\" y=\"115.92\"/>\r\n     <use style=\"fill:#3f3f3f;stroke:#3f3f3f;stroke-linejoin:miter;\" x=\"35.561392\" xlink:href=\"#m7b77deb964\" y=\"115.92\"/>\r\n     <use style=\"fill:#3f3f3f;stroke:#3f3f3f;stroke-linejoin:miter;\" x=\"32.960657\" xlink:href=\"#m7b77deb964\" y=\"115.92\"/>\r\n     <use style=\"fill:#3f3f3f;stroke:#3f3f3f;stroke-linejoin:miter;\" x=\"35.07903\" xlink:href=\"#m7b77deb964\" y=\"115.92\"/>\r\n     <use style=\"fill:#3f3f3f;stroke:#3f3f3f;stroke-linejoin:miter;\" x=\"34.85464\" xlink:href=\"#m7b77deb964\" y=\"115.92\"/>\r\n     <use style=\"fill:#3f3f3f;stroke:#3f3f3f;stroke-linejoin:miter;\" x=\"34.317823\" xlink:href=\"#m7b77deb964\" y=\"115.92\"/>\r\n     <use style=\"fill:#3f3f3f;stroke:#3f3f3f;stroke-linejoin:miter;\" x=\"33.935549\" xlink:href=\"#m7b77deb964\" y=\"115.92\"/>\r\n     <use style=\"fill:#3f3f3f;stroke:#3f3f3f;stroke-linejoin:miter;\" x=\"31.303057\" xlink:href=\"#m7b77deb964\" y=\"115.92\"/>\r\n     <use style=\"fill:#3f3f3f;stroke:#3f3f3f;stroke-linejoin:miter;\" x=\"34.291308\" xlink:href=\"#m7b77deb964\" y=\"115.92\"/>\r\n     <use style=\"fill:#3f3f3f;stroke:#3f3f3f;stroke-linejoin:miter;\" x=\"30.63869\" xlink:href=\"#m7b77deb964\" y=\"115.92\"/>\r\n     <use style=\"fill:#3f3f3f;stroke:#3f3f3f;stroke-linejoin:miter;\" x=\"35.805714\" xlink:href=\"#m7b77deb964\" y=\"115.92\"/>\r\n     <use style=\"fill:#3f3f3f;stroke:#3f3f3f;stroke-linejoin:miter;\" x=\"35.175998\" xlink:href=\"#m7b77deb964\" y=\"115.92\"/>\r\n     <use style=\"fill:#3f3f3f;stroke:#3f3f3f;stroke-linejoin:miter;\" x=\"35.835057\" xlink:href=\"#m7b77deb964\" y=\"115.92\"/>\r\n     <use style=\"fill:#3f3f3f;stroke:#3f3f3f;stroke-linejoin:miter;\" x=\"32.24112\" xlink:href=\"#m7b77deb964\" y=\"115.92\"/>\r\n     <use style=\"fill:#3f3f3f;stroke:#3f3f3f;stroke-linejoin:miter;\" x=\"30.939916\" xlink:href=\"#m7b77deb964\" y=\"115.92\"/>\r\n     <use style=\"fill:#3f3f3f;stroke:#3f3f3f;stroke-linejoin:miter;\" x=\"35.038102\" xlink:href=\"#m7b77deb964\" y=\"115.92\"/>\r\n     <use style=\"fill:#3f3f3f;stroke:#3f3f3f;stroke-linejoin:miter;\" x=\"29.003981\" xlink:href=\"#m7b77deb964\" y=\"115.92\"/>\r\n     <use style=\"fill:#3f3f3f;stroke:#3f3f3f;stroke-linejoin:miter;\" x=\"34.892311\" xlink:href=\"#m7b77deb964\" y=\"115.92\"/>\r\n     <use style=\"fill:#3f3f3f;stroke:#3f3f3f;stroke-linejoin:miter;\" x=\"30.499849\" xlink:href=\"#m7b77deb964\" y=\"115.92\"/>\r\n     <use style=\"fill:#3f3f3f;stroke:#3f3f3f;stroke-linejoin:miter;\" x=\"34.114122\" xlink:href=\"#m7b77deb964\" y=\"115.92\"/>\r\n     <use style=\"fill:#3f3f3f;stroke:#3f3f3f;stroke-linejoin:miter;\" x=\"28.385068\" xlink:href=\"#m7b77deb964\" y=\"115.92\"/>\r\n     <use style=\"fill:#3f3f3f;stroke:#3f3f3f;stroke-linejoin:miter;\" x=\"29.206245\" xlink:href=\"#m7b77deb964\" y=\"115.92\"/>\r\n     <use style=\"fill:#3f3f3f;stroke:#3f3f3f;stroke-linejoin:miter;\" x=\"35.38954\" xlink:href=\"#m7b77deb964\" y=\"115.92\"/>\r\n     <use style=\"fill:#3f3f3f;stroke:#3f3f3f;stroke-linejoin:miter;\" x=\"34.361896\" xlink:href=\"#m7b77deb964\" y=\"115.92\"/>\r\n     <use style=\"fill:#3f3f3f;stroke:#3f3f3f;stroke-linejoin:miter;\" x=\"33.272337\" xlink:href=\"#m7b77deb964\" y=\"115.92\"/>\r\n     <use style=\"fill:#3f3f3f;stroke:#3f3f3f;stroke-linejoin:miter;\" x=\"90.191687\" xlink:href=\"#m7b77deb964\" y=\"115.92\"/>\r\n     <use style=\"fill:#3f3f3f;stroke:#3f3f3f;stroke-linejoin:miter;\" x=\"108.482686\" xlink:href=\"#m7b77deb964\" y=\"115.92\"/>\r\n     <use style=\"fill:#3f3f3f;stroke:#3f3f3f;stroke-linejoin:miter;\" x=\"330.281818\" xlink:href=\"#m7b77deb964\" y=\"115.92\"/>\r\n     <use style=\"fill:#3f3f3f;stroke:#3f3f3f;stroke-linejoin:miter;\" x=\"79.489378\" xlink:href=\"#m7b77deb964\" y=\"115.92\"/>\r\n     <use style=\"fill:#3f3f3f;stroke:#3f3f3f;stroke-linejoin:miter;\" x=\"95.974805\" xlink:href=\"#m7b77deb964\" y=\"115.92\"/>\r\n     <use style=\"fill:#3f3f3f;stroke:#3f3f3f;stroke-linejoin:miter;\" x=\"92.230946\" xlink:href=\"#m7b77deb964\" y=\"115.92\"/>\r\n     <use style=\"fill:#3f3f3f;stroke:#3f3f3f;stroke-linejoin:miter;\" x=\"88.625056\" xlink:href=\"#m7b77deb964\" y=\"115.92\"/>\r\n     <use style=\"fill:#3f3f3f;stroke:#3f3f3f;stroke-linejoin:miter;\" x=\"93.164462\" xlink:href=\"#m7b77deb964\" y=\"115.92\"/>\r\n     <use style=\"fill:#3f3f3f;stroke:#3f3f3f;stroke-linejoin:miter;\" x=\"83.946983\" xlink:href=\"#m7b77deb964\" y=\"115.92\"/>\r\n     <use style=\"fill:#3f3f3f;stroke:#3f3f3f;stroke-linejoin:miter;\" x=\"80.537268\" xlink:href=\"#m7b77deb964\" y=\"115.92\"/>\r\n     <use style=\"fill:#3f3f3f;stroke:#3f3f3f;stroke-linejoin:miter;\" x=\"79.860719\" xlink:href=\"#m7b77deb964\" y=\"115.92\"/>\r\n     <use style=\"fill:#3f3f3f;stroke:#3f3f3f;stroke-linejoin:miter;\" x=\"92.704992\" xlink:href=\"#m7b77deb964\" y=\"115.92\"/>\r\n     <use style=\"fill:#3f3f3f;stroke:#3f3f3f;stroke-linejoin:miter;\" x=\"88.910418\" xlink:href=\"#m7b77deb964\" y=\"115.92\"/>\r\n     <use style=\"fill:#3f3f3f;stroke:#3f3f3f;stroke-linejoin:miter;\" x=\"83.742822\" xlink:href=\"#m7b77deb964\" y=\"115.92\"/>\r\n     <use style=\"fill:#3f3f3f;stroke:#3f3f3f;stroke-linejoin:miter;\" x=\"86.672578\" xlink:href=\"#m7b77deb964\" y=\"115.92\"/>\r\n     <use style=\"fill:#3f3f3f;stroke:#3f3f3f;stroke-linejoin:miter;\" x=\"105.77088\" xlink:href=\"#m7b77deb964\" y=\"115.92\"/>\r\n     <use style=\"fill:#3f3f3f;stroke:#3f3f3f;stroke-linejoin:miter;\" x=\"85.50809\" xlink:href=\"#m7b77deb964\" y=\"115.92\"/>\r\n     <use style=\"fill:#3f3f3f;stroke:#3f3f3f;stroke-linejoin:miter;\" x=\"79.919855\" xlink:href=\"#m7b77deb964\" y=\"115.92\"/>\r\n     <use style=\"fill:#3f3f3f;stroke:#3f3f3f;stroke-linejoin:miter;\" x=\"96.106848\" xlink:href=\"#m7b77deb964\" y=\"115.92\"/>\r\n     <use style=\"fill:#3f3f3f;stroke:#3f3f3f;stroke-linejoin:miter;\" x=\"84.171327\" xlink:href=\"#m7b77deb964\" y=\"115.92\"/>\r\n     <use style=\"fill:#3f3f3f;stroke:#3f3f3f;stroke-linejoin:miter;\" x=\"83.831516\" xlink:href=\"#m7b77deb964\" y=\"115.92\"/>\r\n    </g>\r\n   </g>\r\n   <g id=\"line2d_13\">\r\n    <path clip-path=\"url(#pfdf9a14953)\" d=\"M 57.995617 28.944 \r\nL 57.995617 202.896 \r\n\" style=\"fill:none;stroke:#3f3f3f;stroke-linecap:square;stroke-width:1.5;\"/>\r\n   </g>\r\n   <g id=\"patch_4\">\r\n    <path d=\"M 10.7 224.64 \r\nL 10.7 7.2 \r\n\" style=\"fill:none;stroke:#000000;stroke-linecap:square;stroke-linejoin:miter;stroke-width:0.8;\"/>\r\n   </g>\r\n   <g id=\"patch_5\">\r\n    <path d=\"M 345.5 224.64 \r\nL 345.5 7.2 \r\n\" style=\"fill:none;stroke:#000000;stroke-linecap:square;stroke-linejoin:miter;stroke-width:0.8;\"/>\r\n   </g>\r\n   <g id=\"patch_6\">\r\n    <path d=\"M 10.7 224.64 \r\nL 345.5 224.64 \r\n\" style=\"fill:none;stroke:#000000;stroke-linecap:square;stroke-linejoin:miter;stroke-width:0.8;\"/>\r\n   </g>\r\n   <g id=\"patch_7\">\r\n    <path d=\"M 10.7 7.2 \r\nL 345.5 7.2 \r\n\" style=\"fill:none;stroke:#000000;stroke-linecap:square;stroke-linejoin:miter;stroke-width:0.8;\"/>\r\n   </g>\r\n  </g>\r\n </g>\r\n <defs>\r\n  <clipPath id=\"pfdf9a14953\">\r\n   <rect height=\"217.44\" width=\"334.8\" x=\"10.7\" y=\"7.2\"/>\r\n  </clipPath>\r\n </defs>\r\n</svg>\r\n",
      "image/png": "[encoded data removed]"
     },
     "metadata": {
      "needs_background": "light"
     }
    }
   ],
   "source": [
    "sns.boxplot(pd.DataFrame(cosine_similarity(tfidf_matrix[indices_full]))[80])"
   ]
  },
  {
   "cell_type": "code",
   "execution_count": 81,
   "metadata": {},
   "outputs": [
    {
     "output_type": "execute_result",
     "data": {
      "text/plain": [
       "array([[1.        , 0.16317732, 0.04994533, 0.09301666, 0.07686079,\n",
       "        0.07566958, 0.07816969, 0.05854491, 0.11324772, 0.05921552],\n",
       "       [0.16317732, 1.        , 0.40160586, 0.25788055, 0.32489819,\n",
       "        0.37044208, 0.30382447, 0.27895077, 0.25732862, 0.37133238],\n",
       "       [0.04994533, 0.40160586, 1.        , 0.25256537, 0.51376766,\n",
       "        0.53866993, 0.41051145, 0.39641514, 0.25764665, 0.56609313],\n",
       "       [0.09301666, 0.25788055, 0.25256537, 1.        , 0.25517619,\n",
       "        0.26846252, 0.37938733, 0.19211244, 0.15529447, 0.24424773],\n",
       "       [0.07686079, 0.32489819, 0.51376766, 0.25517619, 1.        ,\n",
       "        0.49903874, 0.39937188, 0.30898422, 0.22481968, 0.44684299],\n",
       "       [0.07566958, 0.37044208, 0.53866993, 0.26846252, 0.49903874,\n",
       "        1.        , 0.4538862 , 0.33622574, 0.18209755, 0.49600925],\n",
       "       [0.07816969, 0.30382447, 0.41051145, 0.37938733, 0.39937188,\n",
       "        0.4538862 , 1.        , 0.23393911, 0.20992728, 0.39438952],\n",
       "       [0.05854491, 0.27895077, 0.39641514, 0.19211244, 0.30898422,\n",
       "        0.33622574, 0.23393911, 1.        , 0.21807136, 0.33445777],\n",
       "       [0.11324772, 0.25732862, 0.25764665, 0.15529447, 0.22481968,\n",
       "        0.18209755, 0.20992728, 0.21807136, 1.        , 0.24958424],\n",
       "       [0.05921552, 0.37133238, 0.56609313, 0.24424773, 0.44684299,\n",
       "        0.49600925, 0.39438952, 0.33445777, 0.24958424, 1.        ]])"
      ]
     },
     "metadata": {},
     "execution_count": 81
    }
   ],
   "source": [
    "cosine_similarity(tfidf_matrix[indices])"
   ]
  },
  {
   "cell_type": "code",
   "execution_count": 82,
   "metadata": {},
   "outputs": [
    {
     "output_type": "execute_result",
     "data": {
      "text/plain": [
       "count    982.000000\n",
       "mean       0.136259\n",
       "std        0.088651\n",
       "min        0.006644\n",
       "25%        0.069576\n",
       "50%        0.117573\n",
       "75%        0.188088\n",
       "max        1.000000\n",
       "dtype: float64"
      ]
     },
     "metadata": {},
     "execution_count": 82
    }
   ],
   "source": [
    "np.mean(pd.DataFrame(cosine_similarity(tfidf_matrix[indices_full])).describe(), axis=1)"
   ]
  },
  {
   "cell_type": "code",
   "execution_count": 83,
   "metadata": {},
   "outputs": [],
   "source": [
    "matrix_lower = np.tril(cosine_similarity(tfidf_matrix[indices]))\n",
    "np.fill_diagonal(matrix_lower, 0)"
   ]
  },
  {
   "cell_type": "code",
   "execution_count": 84,
   "metadata": {},
   "outputs": [
    {
     "output_type": "execute_result",
     "data": {
      "text/plain": [
       "array([[0.        , 0.        , 0.        , 0.        , 0.        ,\n",
       "        0.        , 0.        , 0.        , 0.        , 0.        ],\n",
       "       [0.16317732, 0.        , 0.        , 0.        , 0.        ,\n",
       "        0.        , 0.        , 0.        , 0.        , 0.        ],\n",
       "       [0.04994533, 0.40160586, 0.        , 0.        , 0.        ,\n",
       "        0.        , 0.        , 0.        , 0.        , 0.        ],\n",
       "       [0.09301666, 0.25788055, 0.25256537, 0.        , 0.        ,\n",
       "        0.        , 0.        , 0.        , 0.        , 0.        ],\n",
       "       [0.07686079, 0.32489819, 0.51376766, 0.25517619, 0.        ,\n",
       "        0.        , 0.        , 0.        , 0.        , 0.        ],\n",
       "       [0.07566958, 0.37044208, 0.53866993, 0.26846252, 0.49903874,\n",
       "        0.        , 0.        , 0.        , 0.        , 0.        ],\n",
       "       [0.07816969, 0.30382447, 0.41051145, 0.37938733, 0.39937188,\n",
       "        0.4538862 , 0.        , 0.        , 0.        , 0.        ],\n",
       "       [0.05854491, 0.27895077, 0.39641514, 0.19211244, 0.30898422,\n",
       "        0.33622574, 0.23393911, 0.        , 0.        , 0.        ],\n",
       "       [0.11324772, 0.25732862, 0.25764665, 0.15529447, 0.22481968,\n",
       "        0.18209755, 0.20992728, 0.21807136, 0.        , 0.        ],\n",
       "       [0.05921552, 0.37133238, 0.56609313, 0.24424773, 0.44684299,\n",
       "        0.49600925, 0.39438952, 0.33445777, 0.24958424, 0.        ]])"
      ]
     },
     "metadata": {},
     "execution_count": 84
    }
   ],
   "source": [
    "matrix_lower"
   ]
  },
  {
   "cell_type": "code",
   "execution_count": 87,
   "metadata": {},
   "outputs": [
    {
     "output_type": "execute_result",
     "data": {
      "text/plain": [
       "(array([2, 4, 5, 5, 6, 6, 9, 9, 9], dtype=int64),\n",
       " array([1, 2, 2, 4, 2, 5, 2, 4, 5], dtype=int64))"
      ]
     },
     "metadata": {},
     "execution_count": 87
    }
   ],
   "source": [
    "np.where(matrix_lower>0.4)"
   ]
  },
  {
   "cell_type": "code",
   "execution_count": 89,
   "metadata": {},
   "outputs": [],
   "source": [
    "similar = pd.DataFrame(np.column_stack(np.where(matrix_lower>0.4)),columns=['first_art','second_art'])"
   ]
  },
  {
   "cell_type": "code",
   "execution_count": 95,
   "metadata": {},
   "outputs": [
    {
     "output_type": "execute_result",
     "data": {
      "text/plain": [
       "0    2\n",
       "1    4\n",
       "2    5\n",
       "3    5\n",
       "4    6\n",
       "5    6\n",
       "6    9\n",
       "7    9\n",
       "8    9\n",
       "Name: first_art, dtype: int64"
      ]
     },
     "metadata": {},
     "execution_count": 95
    }
   ],
   "source": [
    "similar.first_art"
   ]
  },
  {
   "cell_type": "code",
   "execution_count": 99,
   "metadata": {},
   "outputs": [],
   "source": [
    "indices = [x for i, x in enumerate(indices) if i not in list(similar['first_art'])]"
   ]
  },
  {
   "cell_type": "code",
   "execution_count": 100,
   "metadata": {},
   "outputs": [
    {
     "output_type": "execute_result",
     "data": {
      "text/plain": [
       "[1631, 3429, 9497, 17384, 19473]"
      ]
     },
     "metadata": {},
     "execution_count": 100
    }
   ],
   "source": [
    "indices"
   ]
  },
  {
   "cell_type": "code",
   "execution_count": 102,
   "metadata": {},
   "outputs": [],
   "source": [
    "filtered_recs_ind = articles.loc[indices, 'nzz_id']"
   ]
  },
  {
   "cell_type": "code",
   "execution_count": 103,
   "metadata": {},
   "outputs": [
    {
     "output_type": "execute_result",
     "data": {
      "text/plain": [
       "1631     ld.144162\n",
       "3429     ld.142639\n",
       "9497     ld.140834\n",
       "17384    ld.143546\n",
       "19473    ld.146048\n",
       "Name: nzz_id, dtype: object"
      ]
     },
     "metadata": {},
     "execution_count": 103
    }
   ],
   "source": [
    "filtered_recs_ind"
   ]
  },
  {
   "cell_type": "code",
   "execution_count": 105,
   "metadata": {},
   "outputs": [],
   "source": [
    "recs_test = recs.loc[recs.art_id.isin(list(filtered_recs_ind))]"
   ]
  },
  {
   "cell_type": "code",
   "execution_count": 106,
   "metadata": {},
   "outputs": [
    {
     "output_type": "execute_result",
     "data": {
      "text/plain": [
       "       art_id  recStrength  _person_id\n",
       "20  ld.144162     0.356907         411\n",
       "21  ld.142639     0.356454         411\n",
       "22  ld.140834     0.355414         411\n",
       "23  ld.143546     0.355264         411\n",
       "28  ld.146048     0.352580         411"
      ],
      "text/html": "<div>\n<style scoped>\n    .dataframe tbody tr th:only-of-type {\n        vertical-align: middle;\n    }\n\n    .dataframe tbody tr th {\n        vertical-align: top;\n    }\n\n    .dataframe thead th {\n        text-align: right;\n    }\n</style>\n<table border=\"1\" class=\"dataframe\">\n  <thead>\n    <tr style=\"text-align: right;\">\n      <th></th>\n      <th>art_id</th>\n      <th>recStrength</th>\n      <th>_person_id</th>\n    </tr>\n  </thead>\n  <tbody>\n    <tr>\n      <th>20</th>\n      <td>ld.144162</td>\n      <td>0.356907</td>\n      <td>411</td>\n    </tr>\n    <tr>\n      <th>21</th>\n      <td>ld.142639</td>\n      <td>0.356454</td>\n      <td>411</td>\n    </tr>\n    <tr>\n      <th>22</th>\n      <td>ld.140834</td>\n      <td>0.355414</td>\n      <td>411</td>\n    </tr>\n    <tr>\n      <th>23</th>\n      <td>ld.143546</td>\n      <td>0.355264</td>\n      <td>411</td>\n    </tr>\n    <tr>\n      <th>28</th>\n      <td>ld.146048</td>\n      <td>0.352580</td>\n      <td>411</td>\n    </tr>\n  </tbody>\n</table>\n</div>"
     },
     "metadata": {},
     "execution_count": 106
    }
   ],
   "source": [
    "recs_test"
   ]
  },
  {
   "cell_type": "code",
   "execution_count": 115,
   "metadata": {},
   "outputs": [
    {
     "output_type": "execute_result",
     "data": {
      "text/plain": [
       "        art_id  recStrength  _person_id\n",
       "0    ld.138364     0.458265         411\n",
       "1    ld.139822     0.419848         411\n",
       "4    ld.140381     0.400806         411\n",
       "5    ld.141993     0.394523         411\n",
       "6    ld.146206     0.381396         411\n",
       "..         ...          ...         ...\n",
       "977  ld.141173     0.248292         411\n",
       "978  ld.142119     0.248191         411\n",
       "979  ld.145887     0.248153         411\n",
       "980  ld.151375     0.248139         411\n",
       "981  ld.152320     0.248081         411\n",
       "\n",
       "[871 rows x 3 columns]"
      ],
      "text/html": "<div>\n<style scoped>\n    .dataframe tbody tr th:only-of-type {\n        vertical-align: middle;\n    }\n\n    .dataframe tbody tr th {\n        vertical-align: top;\n    }\n\n    .dataframe thead th {\n        text-align: right;\n    }\n</style>\n<table border=\"1\" class=\"dataframe\">\n  <thead>\n    <tr style=\"text-align: right;\">\n      <th></th>\n      <th>art_id</th>\n      <th>recStrength</th>\n      <th>_person_id</th>\n    </tr>\n  </thead>\n  <tbody>\n    <tr>\n      <th>0</th>\n      <td>ld.138364</td>\n      <td>0.458265</td>\n      <td>411</td>\n    </tr>\n    <tr>\n      <th>1</th>\n      <td>ld.139822</td>\n      <td>0.419848</td>\n      <td>411</td>\n    </tr>\n    <tr>\n      <th>4</th>\n      <td>ld.140381</td>\n      <td>0.400806</td>\n      <td>411</td>\n    </tr>\n    <tr>\n      <th>5</th>\n      <td>ld.141993</td>\n      <td>0.394523</td>\n      <td>411</td>\n    </tr>\n    <tr>\n      <th>6</th>\n      <td>ld.146206</td>\n      <td>0.381396</td>\n      <td>411</td>\n    </tr>\n    <tr>\n      <th>...</th>\n      <td>...</td>\n      <td>...</td>\n      <td>...</td>\n    </tr>\n    <tr>\n      <th>977</th>\n      <td>ld.141173</td>\n      <td>0.248292</td>\n      <td>411</td>\n    </tr>\n    <tr>\n      <th>978</th>\n      <td>ld.142119</td>\n      <td>0.248191</td>\n      <td>411</td>\n    </tr>\n    <tr>\n      <th>979</th>\n      <td>ld.145887</td>\n      <td>0.248153</td>\n      <td>411</td>\n    </tr>\n    <tr>\n      <th>980</th>\n      <td>ld.151375</td>\n      <td>0.248139</td>\n      <td>411</td>\n    </tr>\n    <tr>\n      <th>981</th>\n      <td>ld.152320</td>\n      <td>0.248081</td>\n      <td>411</td>\n    </tr>\n  </tbody>\n</table>\n<p>871 rows × 3 columns</p>\n</div>"
     },
     "metadata": {},
     "execution_count": 115
    }
   ],
   "source": [
    "filter_similar_recs(411, tfidf_matrix, 0.6)"
   ]
  },
  {
   "cell_type": "code",
   "execution_count": 111,
   "metadata": {},
   "outputs": [
    {
     "output_type": "execute_result",
     "data": {
      "text/plain": [
       "        art_id  recStrength  _person_id\n",
       "0    ld.138364     0.458265         411\n",
       "1    ld.139822     0.419848         411\n",
       "2    ld.139143     0.409991         411\n",
       "3    ld.141102     0.404845         411\n",
       "4    ld.140381     0.400806         411\n",
       "..         ...          ...         ...\n",
       "977  ld.141173     0.248292         411\n",
       "978  ld.142119     0.248191         411\n",
       "979  ld.145887     0.248153         411\n",
       "980  ld.151375     0.248139         411\n",
       "981  ld.152320     0.248081         411\n",
       "\n",
       "[982 rows x 3 columns]"
      ],
      "text/html": "<div>\n<style scoped>\n    .dataframe tbody tr th:only-of-type {\n        vertical-align: middle;\n    }\n\n    .dataframe tbody tr th {\n        vertical-align: top;\n    }\n\n    .dataframe thead th {\n        text-align: right;\n    }\n</style>\n<table border=\"1\" class=\"dataframe\">\n  <thead>\n    <tr style=\"text-align: right;\">\n      <th></th>\n      <th>art_id</th>\n      <th>recStrength</th>\n      <th>_person_id</th>\n    </tr>\n  </thead>\n  <tbody>\n    <tr>\n      <th>0</th>\n      <td>ld.138364</td>\n      <td>0.458265</td>\n      <td>411</td>\n    </tr>\n    <tr>\n      <th>1</th>\n      <td>ld.139822</td>\n      <td>0.419848</td>\n      <td>411</td>\n    </tr>\n    <tr>\n      <th>2</th>\n      <td>ld.139143</td>\n      <td>0.409991</td>\n      <td>411</td>\n    </tr>\n    <tr>\n      <th>3</th>\n      <td>ld.141102</td>\n      <td>0.404845</td>\n      <td>411</td>\n    </tr>\n    <tr>\n      <th>4</th>\n      <td>ld.140381</td>\n      <td>0.400806</td>\n      <td>411</td>\n    </tr>\n    <tr>\n      <th>...</th>\n      <td>...</td>\n      <td>...</td>\n      <td>...</td>\n    </tr>\n    <tr>\n      <th>977</th>\n      <td>ld.141173</td>\n      <td>0.248292</td>\n      <td>411</td>\n    </tr>\n    <tr>\n      <th>978</th>\n      <td>ld.142119</td>\n      <td>0.248191</td>\n      <td>411</td>\n    </tr>\n    <tr>\n      <th>979</th>\n      <td>ld.145887</td>\n      <td>0.248153</td>\n      <td>411</td>\n    </tr>\n    <tr>\n      <th>980</th>\n      <td>ld.151375</td>\n      <td>0.248139</td>\n      <td>411</td>\n    </tr>\n    <tr>\n      <th>981</th>\n      <td>ld.152320</td>\n      <td>0.248081</td>\n      <td>411</td>\n    </tr>\n  </tbody>\n</table>\n<p>982 rows × 3 columns</p>\n</div>"
     },
     "metadata": {},
     "execution_count": 111
    }
   ],
   "source": [
    "get_recs_for_user(411)"
   ]
  },
  {
   "cell_type": "code",
   "execution_count": 27,
   "metadata": {},
   "outputs": [
    {
     "output_type": "stream",
     "name": "stdout",
     "text": [
      "Evaluating Content-Based Filtering model...\n\nGlobal metrics:\n{'modelName': 'Content-Based', 'recall@5': 0.11236761802189912, 'recall@10': 0.12475318614252379}\n"
     ]
    },
    {
     "output_type": "execute_result",
     "data": {
      "text/plain": [
       "     hits@5_count  hits@10_count  interacted_count  recall@5  recall@10  \\\n",
       "358             2              2                10       0.2        0.2   \n",
       "721             1              1                10       0.1        0.1   \n",
       "510             2              2                10       0.2        0.2   \n",
       "86              2              2                10       0.2        0.2   \n",
       "484             2              2                10       0.2        0.2   \n",
       "472             2              2                10       0.2        0.2   \n",
       "259             2              3                10       0.2        0.3   \n",
       "264             0              0                10       0.0        0.0   \n",
       "797             2              2                10       0.2        0.2   \n",
       "276             2              2                10       0.2        0.2   \n",
       "\n",
       "     _person_id  \n",
       "358         907  \n",
       "721         938  \n",
       "510          64  \n",
       "86          887  \n",
       "484         397  \n",
       "472         218  \n",
       "259         273  \n",
       "264         803  \n",
       "797         865  \n",
       "276         443  "
      ],
      "text/html": "<div>\n<style scoped>\n    .dataframe tbody tr th:only-of-type {\n        vertical-align: middle;\n    }\n\n    .dataframe tbody tr th {\n        vertical-align: top;\n    }\n\n    .dataframe thead th {\n        text-align: right;\n    }\n</style>\n<table border=\"1\" class=\"dataframe\">\n  <thead>\n    <tr style=\"text-align: right;\">\n      <th></th>\n      <th>hits@5_count</th>\n      <th>hits@10_count</th>\n      <th>interacted_count</th>\n      <th>recall@5</th>\n      <th>recall@10</th>\n      <th>_person_id</th>\n    </tr>\n  </thead>\n  <tbody>\n    <tr>\n      <th>358</th>\n      <td>2</td>\n      <td>2</td>\n      <td>10</td>\n      <td>0.2</td>\n      <td>0.2</td>\n      <td>907</td>\n    </tr>\n    <tr>\n      <th>721</th>\n      <td>1</td>\n      <td>1</td>\n      <td>10</td>\n      <td>0.1</td>\n      <td>0.1</td>\n      <td>938</td>\n    </tr>\n    <tr>\n      <th>510</th>\n      <td>2</td>\n      <td>2</td>\n      <td>10</td>\n      <td>0.2</td>\n      <td>0.2</td>\n      <td>64</td>\n    </tr>\n    <tr>\n      <th>86</th>\n      <td>2</td>\n      <td>2</td>\n      <td>10</td>\n      <td>0.2</td>\n      <td>0.2</td>\n      <td>887</td>\n    </tr>\n    <tr>\n      <th>484</th>\n      <td>2</td>\n      <td>2</td>\n      <td>10</td>\n      <td>0.2</td>\n      <td>0.2</td>\n      <td>397</td>\n    </tr>\n    <tr>\n      <th>472</th>\n      <td>2</td>\n      <td>2</td>\n      <td>10</td>\n      <td>0.2</td>\n      <td>0.2</td>\n      <td>218</td>\n    </tr>\n    <tr>\n      <th>259</th>\n      <td>2</td>\n      <td>3</td>\n      <td>10</td>\n      <td>0.2</td>\n      <td>0.3</td>\n      <td>273</td>\n    </tr>\n    <tr>\n      <th>264</th>\n      <td>0</td>\n      <td>0</td>\n      <td>10</td>\n      <td>0.0</td>\n      <td>0.0</td>\n      <td>803</td>\n    </tr>\n    <tr>\n      <th>797</th>\n      <td>2</td>\n      <td>2</td>\n      <td>10</td>\n      <td>0.2</td>\n      <td>0.2</td>\n      <td>865</td>\n    </tr>\n    <tr>\n      <th>276</th>\n      <td>2</td>\n      <td>2</td>\n      <td>10</td>\n      <td>0.2</td>\n      <td>0.2</td>\n      <td>443</td>\n    </tr>\n  </tbody>\n</table>\n</div>"
     },
     "metadata": {},
     "execution_count": 27
    }
   ],
   "source": [
    "print('Evaluating Content-Based Filtering model...')\n",
    "print('\\nGlobal metrics:\\n%s' % cb_global_metrics)\n",
    "cb_detailed_results_df.head(10)"
   ]
  },
  {
   "cell_type": "code",
   "execution_count": null,
   "metadata": {},
   "outputs": [],
   "source": []
  }
 ]
}