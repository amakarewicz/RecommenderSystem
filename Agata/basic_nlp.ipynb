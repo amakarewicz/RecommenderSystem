{
 "metadata": {
  "language_info": {
   "codemirror_mode": {
    "name": "ipython",
    "version": 3
   },
   "file_extension": ".py",
   "mimetype": "text/x-python",
   "name": "python",
   "nbconvert_exporter": "python",
   "pygments_lexer": "ipython3",
   "version": "3.8.8"
  },
  "orig_nbformat": 2,
  "kernelspec": {
   "name": "python388jvsc74a57bd058acd5bd797a08523d99af27523988877810b63fdf22f32c0dba9d8273224907",
   "display_name": "Python 3.8.8 64-bit"
  }
 },
 "nbformat": 4,
 "nbformat_minor": 2,
 "cells": [
  {
   "cell_type": "code",
   "execution_count": 2,
   "metadata": {},
   "outputs": [],
   "source": [
    "import pandas as pd \n",
    "import numpy as np \n",
    "import seaborn as sns\n",
    "from sklearn.impute import SimpleImputer\n",
    "from deep_translator import GoogleTranslator\n",
    "import re\n",
    "from bs4 import BeautifulSoup\n",
    "import nltk\n",
    "from nltk import word_tokenize\n",
    "from nltk.corpus import stopwords"
   ]
  },
  {
   "cell_type": "code",
   "execution_count": 3,
   "metadata": {},
   "outputs": [],
   "source": [
    "articles = pd.read_csv('./../art_clean_wt_popul_authoroccurences.csv')"
   ]
  },
  {
   "cell_type": "code",
   "execution_count": 4,
   "metadata": {},
   "outputs": [
    {
     "output_type": "execute_result",
     "data": {
      "text/plain": [
       "       nzz_id           author                             catchline  \\\n",
       "0   ld.149648  Claudia Gabriel  Obligationenfonds mit fixer Laufzeit   \n",
       "1  1.18145900          Unknown                               Unknown   \n",
       "\n",
       "                                             content  content_length  \\\n",
       "0     Obligationenfonds mit fixer Laufzeit  Es gi...             704   \n",
       "1                                                NaN               0   \n",
       "\n",
       "  department                                          lead_text  \\\n",
       "0   Finanzen  Die Idee ist gut: Statt einer einzigen Obligat...   \n",
       "1   Panorama  Zum Auftakt der Fashion Week in New York zeige...   \n",
       "\n",
       "                  pub_date                                title  popularity  \\\n",
       "0  2017-03-09 08:01:21.000  Es gibt noch interessante Varianten    0.009009   \n",
       "1  2017-04-11 14:00:29.473                Fashion Week New York    0.000000   \n",
       "\n",
       "   author_occurences  author_popularity  \n",
       "0                 57           0.157593  \n",
       "1                  0           0.000000  "
      ],
      "text/html": "<div>\n<style scoped>\n    .dataframe tbody tr th:only-of-type {\n        vertical-align: middle;\n    }\n\n    .dataframe tbody tr th {\n        vertical-align: top;\n    }\n\n    .dataframe thead th {\n        text-align: right;\n    }\n</style>\n<table border=\"1\" class=\"dataframe\">\n  <thead>\n    <tr style=\"text-align: right;\">\n      <th></th>\n      <th>nzz_id</th>\n      <th>author</th>\n      <th>catchline</th>\n      <th>content</th>\n      <th>content_length</th>\n      <th>department</th>\n      <th>lead_text</th>\n      <th>pub_date</th>\n      <th>title</th>\n      <th>popularity</th>\n      <th>author_occurences</th>\n      <th>author_popularity</th>\n    </tr>\n  </thead>\n  <tbody>\n    <tr>\n      <th>0</th>\n      <td>ld.149648</td>\n      <td>Claudia Gabriel</td>\n      <td>Obligationenfonds mit fixer Laufzeit</td>\n      <td>Obligationenfonds mit fixer Laufzeit  Es gi...</td>\n      <td>704</td>\n      <td>Finanzen</td>\n      <td>Die Idee ist gut: Statt einer einzigen Obligat...</td>\n      <td>2017-03-09 08:01:21.000</td>\n      <td>Es gibt noch interessante Varianten</td>\n      <td>0.009009</td>\n      <td>57</td>\n      <td>0.157593</td>\n    </tr>\n    <tr>\n      <th>1</th>\n      <td>1.18145900</td>\n      <td>Unknown</td>\n      <td>Unknown</td>\n      <td>NaN</td>\n      <td>0</td>\n      <td>Panorama</td>\n      <td>Zum Auftakt der Fashion Week in New York zeige...</td>\n      <td>2017-04-11 14:00:29.473</td>\n      <td>Fashion Week New York</td>\n      <td>0.000000</td>\n      <td>0</td>\n      <td>0.000000</td>\n    </tr>\n  </tbody>\n</table>\n</div>"
     },
     "metadata": {},
     "execution_count": 4
    }
   ],
   "source": [
    "articles.head(2)"
   ]
  },
  {
   "cell_type": "code",
   "execution_count": 5,
   "metadata": {},
   "outputs": [],
   "source": [
    "# dropping columns not needed for content-based model\n",
    "articles = articles.drop(['popularity','author_occurences','author_popularity'], axis=1)"
   ]
  },
  {
   "cell_type": "code",
   "execution_count": 6,
   "metadata": {},
   "outputs": [],
   "source": [
    "# converting NaN to empty string\n",
    "articles = articles.replace(np.nan, \"\")"
   ]
  },
  {
   "cell_type": "code",
   "execution_count": 7,
   "metadata": {},
   "outputs": [
    {
     "output_type": "execute_result",
     "data": {
      "text/plain": [
       "''"
      ]
     },
     "metadata": {},
     "execution_count": 7
    }
   ],
   "source": [
    "articles.content[1]"
   ]
  },
  {
   "source": [
    "### Cleaning"
   ],
   "cell_type": "markdown",
   "metadata": {}
  },
  {
   "cell_type": "code",
   "execution_count": 8,
   "metadata": {},
   "outputs": [],
   "source": [
    "# already done\n",
    "# content intro cleaning (html + hard space)\n",
    "def clean_html(data):\n",
    "    html_clean = re.compile(r'<.*?>')\n",
    "    data = html_clean.sub(r' ',data)\n",
    "    return data\n",
    "\n",
    "def clean_data(row):\n",
    "    row = str(BeautifulSoup(row))\n",
    "    row = clean_html(row).replace(u'\\xa0', u' ')\n",
    "    return row"
   ]
  },
  {
   "cell_type": "code",
   "execution_count": 9,
   "metadata": {},
   "outputs": [],
   "source": [
    "# further cleaning\n",
    "def clean_url(data):\n",
    "    url_clean = re.compile(r\"https://\\S+|www\\.\\S+\")\n",
    "    data = url_clean.sub(r'',data)\n",
    "    return data\n",
    "\n",
    "# Modify to lower - to reduce number of words and exclude duplicates differing by letter case\n",
    "def clean_to_lower(text):\n",
    "    return text.lower()\n",
    "\n",
    "# Remove punctuations - all special chars \n",
    "def clean_special_char(data): # and numbers - also not very informative without context\n",
    "    # data = re.sub('\\[[^]]*\\]', ' ', data)\n",
    "    # data = re.sub('[^a-zA-Z]', ' ', data) # - german letters!!!\n",
    "    data = re.sub(r'[^\\w\\s]',' ',data)\n",
    "    return data\n",
    "\n",
    "# Match all digits in the string and replace them by ' '\n",
    "def clean_numbers(data): # to decide whether to use or not !!!\n",
    "    data = re.sub(r'[0-9]', ' ', data)\n",
    "    return data"
   ]
  },
  {
   "cell_type": "code",
   "execution_count": 10,
   "metadata": {},
   "outputs": [],
   "source": [
    "# cleaning pipeline\n",
    "def clean_data_2(data):\n",
    "    data = data.apply(clean_url).apply(clean_to_lower).apply(clean_special_char).apply(clean_numbers)\n",
    "    return data"
   ]
  },
  {
   "cell_type": "code",
   "execution_count": 11,
   "metadata": {},
   "outputs": [],
   "source": [
    "# applying cleaning\n",
    "articles_nlp = articles\n",
    "articles_nlp['content'] = clean_data_2(articles_nlp['content'])"
   ]
  },
  {
   "cell_type": "code",
   "execution_count": 12,
   "metadata": {},
   "outputs": [
    {
     "output_type": "execute_result",
     "data": {
      "text/plain": [
       "'   e banking ausfall  postfinance kämpft mit dem system     seit sonntag funktioniert das e banking der postfinance nicht mehr  das institut spricht von einem internen systemproblem  fachleute argumentieren  es könnte sich auch um einen  überlastungsangriff  handeln    gru   sda  viele bankkunden nutzen jeweils das wochenende  um ihre zahlungen zu erledigen  bei der postfinance war dies am vergangenen sonntag aber nicht möglich  seit sonntagvormittag konnten die     mio  kunden der post tochter über e banking nicht auf ihre konten zugreifen  ein sprecher des unternehmens bestätigte eine entsprechende online meldung des zürcher  tages anzeigers    die kundendaten seien von den technischen problemen laut dem ngeldhaus aber nicht gefährdet   umfang der panne wird nicht publiziert  betroffen sind alle postfinance kunde  es gebe keine kundengruppen oder regionen  die spezifisch betroffen seien  sagt postfinance sprechernjohannes möri  wie viele kunden erfolglos versuchten auf ihr konto zuzugreifen nwird die postfinance auch nach behebung der panne nicht bekanntgeben  beruhigend   oder eben auch nicht   ist der umstand  dass der systemausfall  aus demntagesgeschäft  entstanden ist  wie der postfinance sprecher erklärt  es habe keinensystemanpassungen gegeben  die einen ausfall verursacht haben könnten   dasnletzte neu release des e banking systems ist im vergangenen november erfolgt   fügt möri an   kein angriff von aussen  am montagmittag publizierte postfinance eine pressemeldung nlaut dieser hat sich die situation verbessert  der zugriff auf e finance sei nunnmehrheitlich möglich  die störung konnte aber noch nicht vollständig behobennwerden  entsprechend könnten weiterhin fehler auftreten  schreibt dienpostfinance  damit signalisiert postfinance  dass der ausfall nicht durch einen angriffnvon aussen verursacht worden ist  der fehler sei in den eigenen systemennlokalisiert worden  ergänzt der postfinance sprecher gegenüber der nachrichtenagentur sda  ein weiteres update hat dernfinanzdienstleister für    uhr versprochen ein sicherheitsrelevantes ereignis könne aber ausgeschlossen werden  hatte das finanzinstitut bereits früher mitgeteilt     eine solche flächendeckende panne gab es das letzte mal im september       damals habe der technische defekt aber binnen stunden nbehoben werden können  was sollen kunden tun  die dringend bankgeschäfte nerledigen müssen  laut postfinance funktionieren die systeme an den npostschaltern störungsfrei  so dass zahlungen beispielsweise dort vorgenommen nwerden könnten   kommen ddos von hackern   wenn es bereits im september einen flächendeckenden ausfallngegeben habe  könne das auf eine grundsätzliche schwäche im postfinance systemnhindeuten  erklärt bernhard plattner  emeritierter professor am institut für technische informatiknund kommunikationsnetze an der eth zürich  er könne diesen einzelfall jedoch nichtnbeurteilen  er habe am montag mehrmals versucht  sich ins postfinance e bankingneinzuloggen  zweimal sei ihm das gelungen  zweimal nicht  für ihn könnte esnsich somit auch um  einen distributed denial of service angriff  ddos   handeln bei einemnsolchen überlastungsangriff wird die website eines anbieters mit einer riesigennmenge von anfragen durch eine roboter netz  bot net  lahm gelegt  je nachninterpretation könne man einen solchen angriff als hacker angriff bezeichnennoder eben auch nicht  sagt der eth professor   häufung im jahr       im jahr      haben sich die ddos angriffe gemäss plattner gehäuft ndabei gehe es oft um erpressung  der angreifer fordert eine bestimmtensumme in bitcoins für die einstellung des angriffs  aussenstehende würden von einemnsolchen zwischenfall meistens nichts mitbekommen  ausser dennsystemschwierigkeiten des betroffenen web dienstes   eine haftung für allfällige schäden aufgrund des ntotalausfalls beim e banking schliesst die postfinance zwar aus  allerdings nmüsste das unternehmen etwa bei verhinderten börsengeschäften jeweils den neinzelfall prüfen  sagte der sprecher gegenüber der nachrichtenagentur sda    '"
      ]
     },
     "metadata": {},
     "execution_count": 12
    }
   ],
   "source": [
    "articles_nlp.content[2]"
   ]
  },
  {
   "source": [
    "### Content_length"
   ],
   "cell_type": "markdown",
   "metadata": {}
  },
  {
   "cell_type": "code",
   "execution_count": 13,
   "metadata": {},
   "outputs": [],
   "source": [
    "# word count for each article - includes stopwords\n",
    "splitted = [x.split() for x in articles_nlp['content']] # word count\n",
    "articles_nlp['content_len'] = [len(x) for x in splitted]"
   ]
  },
  {
   "cell_type": "code",
   "execution_count": 14,
   "metadata": {},
   "outputs": [
    {
     "output_type": "execute_result",
     "data": {
      "text/plain": [
       "       nzz_id           author                             catchline  \\\n",
       "0   ld.149648  Claudia Gabriel  Obligationenfonds mit fixer Laufzeit   \n",
       "1  1.18145900          Unknown                               Unknown   \n",
       "2   ld.138769          Unknown                     E-Banking-Ausfall   \n",
       "3   ld.143700          Unknown                  Terror in Frankreich   \n",
       "4   ld.149385          Unknown                     Unglück in Panama   \n",
       "\n",
       "                                             content  content_length  \\\n",
       "0     obligationenfonds mit fixer laufzeit  es gi...             704   \n",
       "1                                                                  0   \n",
       "2     e banking ausfall  postfinance kämpft mit d...             523   \n",
       "3     terror in frankreich  louvre nach macheten ...             180   \n",
       "4     unglück in panama  bus prallt gegen eine ma...             117   \n",
       "\n",
       "      department                                          lead_text  \\\n",
       "0       Finanzen  Die Idee ist gut: Statt einer einzigen Obligat...   \n",
       "1       Panorama  Zum Auftakt der Fashion Week in New York zeige...   \n",
       "2       Finanzen  Seit Sonntag funktioniert das E-Banking der Po...   \n",
       "3  International  Einen Tag nach dem Angriff auf Soldaten beim P...   \n",
       "4       Panorama  Bei einem Busunglück in Panama sind 17 Persone...   \n",
       "\n",
       "                  pub_date                                            title  \\\n",
       "0  2017-03-09 08:01:21.000              Es gibt noch interessante Varianten   \n",
       "1  2017-04-11 14:00:29.473                            Fashion Week New York   \n",
       "2  2017-01-09 13:55:00.000                Postfinance kämpft mit dem System   \n",
       "3  2017-02-04 12:50:25.000     Louvre nach Macheten-Angriff wieder geöffnet   \n",
       "4  2017-03-06 07:31:21.000  Bus prallt gegen eine Mauer und stürzt in Fluss   \n",
       "\n",
       "   content_len  \n",
       "0          718  \n",
       "1            0  \n",
       "2          525  \n",
       "3          181  \n",
       "4          110  "
      ],
      "text/html": "<div>\n<style scoped>\n    .dataframe tbody tr th:only-of-type {\n        vertical-align: middle;\n    }\n\n    .dataframe tbody tr th {\n        vertical-align: top;\n    }\n\n    .dataframe thead th {\n        text-align: right;\n    }\n</style>\n<table border=\"1\" class=\"dataframe\">\n  <thead>\n    <tr style=\"text-align: right;\">\n      <th></th>\n      <th>nzz_id</th>\n      <th>author</th>\n      <th>catchline</th>\n      <th>content</th>\n      <th>content_length</th>\n      <th>department</th>\n      <th>lead_text</th>\n      <th>pub_date</th>\n      <th>title</th>\n      <th>content_len</th>\n    </tr>\n  </thead>\n  <tbody>\n    <tr>\n      <th>0</th>\n      <td>ld.149648</td>\n      <td>Claudia Gabriel</td>\n      <td>Obligationenfonds mit fixer Laufzeit</td>\n      <td>obligationenfonds mit fixer laufzeit  es gi...</td>\n      <td>704</td>\n      <td>Finanzen</td>\n      <td>Die Idee ist gut: Statt einer einzigen Obligat...</td>\n      <td>2017-03-09 08:01:21.000</td>\n      <td>Es gibt noch interessante Varianten</td>\n      <td>718</td>\n    </tr>\n    <tr>\n      <th>1</th>\n      <td>1.18145900</td>\n      <td>Unknown</td>\n      <td>Unknown</td>\n      <td></td>\n      <td>0</td>\n      <td>Panorama</td>\n      <td>Zum Auftakt der Fashion Week in New York zeige...</td>\n      <td>2017-04-11 14:00:29.473</td>\n      <td>Fashion Week New York</td>\n      <td>0</td>\n    </tr>\n    <tr>\n      <th>2</th>\n      <td>ld.138769</td>\n      <td>Unknown</td>\n      <td>E-Banking-Ausfall</td>\n      <td>e banking ausfall  postfinance kämpft mit d...</td>\n      <td>523</td>\n      <td>Finanzen</td>\n      <td>Seit Sonntag funktioniert das E-Banking der Po...</td>\n      <td>2017-01-09 13:55:00.000</td>\n      <td>Postfinance kämpft mit dem System</td>\n      <td>525</td>\n    </tr>\n    <tr>\n      <th>3</th>\n      <td>ld.143700</td>\n      <td>Unknown</td>\n      <td>Terror in Frankreich</td>\n      <td>terror in frankreich  louvre nach macheten ...</td>\n      <td>180</td>\n      <td>International</td>\n      <td>Einen Tag nach dem Angriff auf Soldaten beim P...</td>\n      <td>2017-02-04 12:50:25.000</td>\n      <td>Louvre nach Macheten-Angriff wieder geöffnet</td>\n      <td>181</td>\n    </tr>\n    <tr>\n      <th>4</th>\n      <td>ld.149385</td>\n      <td>Unknown</td>\n      <td>Unglück in Panama</td>\n      <td>unglück in panama  bus prallt gegen eine ma...</td>\n      <td>117</td>\n      <td>Panorama</td>\n      <td>Bei einem Busunglück in Panama sind 17 Persone...</td>\n      <td>2017-03-06 07:31:21.000</td>\n      <td>Bus prallt gegen eine Mauer und stürzt in Fluss</td>\n      <td>110</td>\n    </tr>\n  </tbody>\n</table>\n</div>"
     },
     "metadata": {},
     "execution_count": 14
    }
   ],
   "source": [
    "articles_nlp.head()"
   ]
  },
  {
   "source": [
    "### Tokens"
   ],
   "cell_type": "markdown",
   "metadata": {}
  },
  {
   "cell_type": "code",
   "execution_count": 15,
   "metadata": {},
   "outputs": [],
   "source": [
    "# stopwords\n",
    "# stopwords.words('german')"
   ]
  },
  {
   "cell_type": "code",
   "execution_count": 16,
   "metadata": {},
   "outputs": [],
   "source": [
    "def tokenize_and_remove_stopwords(row):\n",
    "    token = word_tokenize(row) \n",
    "    filtered_token = []\n",
    "    for word in token:\n",
    "        if word not in stopwords.words('german'):\n",
    "            filtered_token.append(word)\n",
    "    return filtered_token"
   ]
  },
  {
   "cell_type": "code",
   "execution_count": 18,
   "metadata": {},
   "outputs": [],
   "source": [
    "# articles_nlp.loc[0:2,'content'].apply(tokenize_and_remove_stopwords)[2]"
   ]
  },
  {
   "cell_type": "code",
   "execution_count": 19,
   "metadata": {},
   "outputs": [
    {
     "output_type": "stream",
     "name": "stdout",
     "text": [
      "Wall time: 37min 21s\n"
     ]
    }
   ],
   "source": [
    "%%time\n",
    "tokens = articles_nlp['content'].apply(tokenize_and_remove_stopwords)"
   ]
  },
  {
   "cell_type": "code",
   "execution_count": 22,
   "metadata": {},
   "outputs": [],
   "source": [
    "tokens.to_csv(\"tokens.csv\", encoding=\"utf-8\", index=False)"
   ]
  },
  {
   "cell_type": "code",
   "execution_count": 23,
   "metadata": {},
   "outputs": [],
   "source": [
    "# tok_test = pd.read_csv('tokens.csv')"
   ]
  },
  {
   "cell_type": "code",
   "execution_count": 28,
   "metadata": {},
   "outputs": [],
   "source": [
    "articles_nlp.to_csv('articles_nlp.csv', index=False, encoding='utf-8')"
   ]
  },
  {
   "source": [
    "### Wektoryzacja"
   ],
   "cell_type": "markdown",
   "metadata": {}
  },
  {
   "cell_type": "code",
   "execution_count": null,
   "metadata": {},
   "outputs": [],
   "source": [
    "stopwords_list = stopwords.words('german') # are there other languages in text\n",
    "\n",
    "vectorizer = TfidfVectorizer(analyzer='word',\n",
    "                     ngram_range=(1, 2), # bi - gram (?)\n",
    "                     min_df=0.003,\n",
    "                     max_df=0.5,\n",
    "                     max_features=5000,\n",
    "                     stop_words=stopwords_list)\n",
    "\n",
    "item_ids = articles_nlp['nzz_id'].tolist()\n",
    "tfidf_matrix = vectorizer.fit_transform(articles_nlp['content'])\n",
    "tfidf_feature_names = vectorizer.get_feature_names()\n",
    "tfidf_matrix"
   ]
  }
 ]
}