{
 "metadata": {
  "language_info": {
   "codemirror_mode": {
    "name": "ipython",
    "version": 3
   },
   "file_extension": ".py",
   "mimetype": "text/x-python",
   "name": "python",
   "nbconvert_exporter": "python",
   "pygments_lexer": "ipython3",
   "version": "3.8.8"
  },
  "orig_nbformat": 2,
  "kernelspec": {
   "name": "python388jvsc74a57bd058acd5bd797a08523d99af27523988877810b63fdf22f32c0dba9d8273224907",
   "display_name": "Python 3.8.8 64-bit"
  }
 },
 "nbformat": 4,
 "nbformat_minor": 2,
 "cells": [
  {
   "cell_type": "code",
   "execution_count": 1,
   "metadata": {},
   "outputs": [
    {
     "output_type": "stream",
     "name": "stderr",
     "text": [
      "C:\\Users\\a814810\\AppData\\Local\\Programs\\Python\\Python38\\lib\\site-packages\\gensim\\similarities\\__init__.py:15: UserWarning: The gensim.similarities.levenshtein submodule is disabled, because the optional Levenshtein package <https://pypi.org/project/python-Levenshtein/> is unavailable. Install Levenhstein (e.g. `pip install python-Levenshtein`) to suppress this warning.\n  warnings.warn(msg)\n"
     ]
    }
   ],
   "source": [
    "import numpy as np\n",
    "import scipy\n",
    "import pandas as pd\n",
    "import math\n",
    "import matplotlib.pyplot as plt\n",
    "import random\n",
    "import sklearn\n",
    "\n",
    "import fasttext\n",
    "import re\n",
    "import nltk\n",
    "from nltk.corpus import stopwords\n",
    "\n",
    "from sklearn.model_selection import train_test_split\n",
    "from sklearn.feature_extraction.text import TfidfVectorizer\n",
    "from sklearn.metrics.pairwise import cosine_similarity\n",
    "\n",
    "from scipy.sparse.linalg import svds\n",
    "from scipy.sparse import csr_matrix"
   ]
  },
  {
   "cell_type": "code",
   "execution_count": 2,
   "metadata": {},
   "outputs": [],
   "source": [
    "from content_based_model import ContentBasedRecommender\n",
    "from model_evaluator_testing import ModelEvaluator"
   ]
  },
  {
   "cell_type": "code",
   "execution_count": 3,
   "metadata": {},
   "outputs": [],
   "source": [
    "articles = pd.read_csv('./data/articles_clean.csv')\n",
    "articles_lemma = pd.read_csv('./data/articles_lemmatized.csv')"
   ]
  },
  {
   "source": [
    "## Wektoryzacja"
   ],
   "cell_type": "markdown",
   "metadata": {}
  },
  {
   "cell_type": "code",
   "execution_count": 4,
   "metadata": {},
   "outputs": [],
   "source": [
    "stopwords_list = stopwords.words('german') # are there other languages in text"
   ]
  },
  {
   "source": [
    "### TFIDF"
   ],
   "cell_type": "markdown",
   "metadata": {}
  },
  {
   "cell_type": "code",
   "execution_count": 5,
   "metadata": {},
   "outputs": [],
   "source": [
    "\n",
    "tfidf_vectorizer = TfidfVectorizer(analyzer='word',\n",
    "                     ngram_range=(1, 3), # bi - gram (?)\n",
    "                     min_df=0.01,\n",
    "                     max_df=0.7,\n",
    "                     max_features=5000,\n",
    "                     stop_words=stopwords_list)\n"
   ]
  },
  {
   "source": [
    "### User profiles (?)"
   ],
   "cell_type": "markdown",
   "metadata": {}
  },
  {
   "cell_type": "code",
   "execution_count": 6,
   "metadata": {},
   "outputs": [],
   "source": [
    "readers = pd.read_csv('./../readers.csv')"
   ]
  },
  {
   "cell_type": "code",
   "execution_count": 7,
   "metadata": {},
   "outputs": [
    {
     "output_type": "stream",
     "name": "stdout",
     "text": [
      "# interactions on Train set: 22284\n# interactions on Test set: 5571\n"
     ]
    }
   ],
   "source": [
    "# all users have enough interactions (min 5) so train-test-split basically on readers dataset\n",
    "interactions_train, interactions_test = train_test_split(readers,\n",
    "                                   stratify=readers['user_id'], \n",
    "                                   test_size=0.20,\n",
    "                                   random_state=123)\n",
    "\n",
    "print('# interactions on Train set: %d' % len(interactions_train))\n",
    "print('# interactions on Test set: %d' % len(interactions_test))"
   ]
  },
  {
   "cell_type": "code",
   "execution_count": 8,
   "metadata": {},
   "outputs": [],
   "source": [
    "def vectorize_and_build_profiles(vectorizer,data):\n",
    "\n",
    "    def vectorize(vectorizer, data):\n",
    "        matrix  = vectorizer.fit_transform(data)\n",
    "        feature_names = vectorizer.get_feature_names()\n",
    "        return matrix, np.array(feature_names)\n",
    "\n",
    "    def get_one_article_profile(item_id: str, matrix):\n",
    "        idx = articles['nzz_id'].tolist().index(item_id)\n",
    "        item_profile = matrix[idx:idx+1]\n",
    "        return item_profile\n",
    "\n",
    "    def get_articles_profiles(ids,matrix):\n",
    "        item_profiles_list = [get_one_article_profile(x,matrix) for x in ids]\n",
    "        item_profiles = scipy.sparse.vstack(item_profiles_list)\n",
    "        return item_profiles\n",
    "\n",
    "    def build_users_profiles(matrix): \n",
    "        interactions = interactions_train[interactions_train['nzz_id'].isin(articles['nzz_id'])].set_index('user_id')\n",
    "        user_profiles = {}\n",
    "        for person_id in interactions.index.unique():\n",
    "            user_item_profiles = get_articles_profiles(interactions.loc[person_id,'nzz_id'],matrix)\n",
    "            user_profiles[person_id] = sklearn.preprocessing.normalize(np.sum(user_item_profiles, axis=0))\n",
    "        return user_profiles\n",
    "    \n",
    "    matrix, features = vectorize(vectorizer, data)\n",
    "    user_profiles = build_users_profiles(matrix)\n",
    "    return matrix, features, user_profiles"
   ]
  },
  {
   "cell_type": "code",
   "execution_count": 9,
   "metadata": {},
   "outputs": [],
   "source": [
    "matrix, feat_names, user_profiles = vectorize_and_build_profiles(tfidf_vectorizer, articles['content'])"
   ]
  },
  {
   "cell_type": "code",
   "execution_count": 10,
   "metadata": {},
   "outputs": [
    {
     "output_type": "execute_result",
     "data": {
      "text/plain": [
       "array([[0.0306008 , 0.05332786, 0.        , ..., 0.05981466, 0.        ,\n",
       "        0.        ]])"
      ]
     },
     "metadata": {},
     "execution_count": 10
    }
   ],
   "source": [
    "user_profiles[1]"
   ]
  },
  {
   "cell_type": "code",
   "execution_count": 11,
   "metadata": {},
   "outputs": [
    {
     "output_type": "stream",
     "name": "stdout",
     "text": [
      "(1, 2282)\n"
     ]
    },
    {
     "output_type": "execute_result",
     "data": {
      "text/plain": [
       "       token  relevance\n",
       "0      insel   0.248814\n",
       "1     papier   0.234971\n",
       "2     frauen   0.227556\n",
       "3        mal   0.216718\n",
       "4    überall   0.210696\n",
       "5         de   0.179554\n",
       "6     leicht   0.177821\n",
       "7  verkaufen   0.174356\n",
       "8      zudem   0.162986\n",
       "9     wasser   0.161277"
      ],
      "text/html": "<div>\n<style scoped>\n    .dataframe tbody tr th:only-of-type {\n        vertical-align: middle;\n    }\n\n    .dataframe tbody tr th {\n        vertical-align: top;\n    }\n\n    .dataframe thead th {\n        text-align: right;\n    }\n</style>\n<table border=\"1\" class=\"dataframe\">\n  <thead>\n    <tr style=\"text-align: right;\">\n      <th></th>\n      <th>token</th>\n      <th>relevance</th>\n    </tr>\n  </thead>\n  <tbody>\n    <tr>\n      <th>0</th>\n      <td>insel</td>\n      <td>0.248814</td>\n    </tr>\n    <tr>\n      <th>1</th>\n      <td>papier</td>\n      <td>0.234971</td>\n    </tr>\n    <tr>\n      <th>2</th>\n      <td>frauen</td>\n      <td>0.227556</td>\n    </tr>\n    <tr>\n      <th>3</th>\n      <td>mal</td>\n      <td>0.216718</td>\n    </tr>\n    <tr>\n      <th>4</th>\n      <td>überall</td>\n      <td>0.210696</td>\n    </tr>\n    <tr>\n      <th>5</th>\n      <td>de</td>\n      <td>0.179554</td>\n    </tr>\n    <tr>\n      <th>6</th>\n      <td>leicht</td>\n      <td>0.177821</td>\n    </tr>\n    <tr>\n      <th>7</th>\n      <td>verkaufen</td>\n      <td>0.174356</td>\n    </tr>\n    <tr>\n      <th>8</th>\n      <td>zudem</td>\n      <td>0.162986</td>\n    </tr>\n    <tr>\n      <th>9</th>\n      <td>wasser</td>\n      <td>0.161277</td>\n    </tr>\n  </tbody>\n</table>\n</div>"
     },
     "metadata": {},
     "execution_count": 11
    }
   ],
   "source": [
    "myprofile = user_profiles[1]\n",
    "print(myprofile.shape)\n",
    "pd.DataFrame(sorted(zip(feat_names, \n",
    "                        myprofile.flatten().tolist()), key=lambda x: -x[1])[:10],\n",
    "             columns=['token', 'relevance'])"
   ]
  },
  {
   "cell_type": "code",
   "execution_count": 12,
   "metadata": {},
   "outputs": [
    {
     "output_type": "execute_result",
     "data": {
      "text/plain": [
       "(22019, 2282)"
      ]
     },
     "metadata": {},
     "execution_count": 12
    }
   ],
   "source": [
    "matrix.shape"
   ]
  },
  {
   "cell_type": "code",
   "execution_count": 34,
   "metadata": {},
   "outputs": [
    {
     "output_type": "stream",
     "name": "stdout",
     "text": [
      "  (0, 1140)\t0.046417139151327086\n  (0, 514)\t0.052616989085914265\n  (0, 1015)\t0.031653400795637214\n  (0, 605)\t0.04112222013180771\n  (0, 639)\t0.05277398472777902\n  (0, 1109)\t0.0519407185640901\n  (0, 760)\t0.04095950835900952\n  (0, 124)\t0.05169010374732747\n  (0, 1797)\t0.04731359236143757\n  (0, 1733)\t0.030388818185234725\n  (0, 1424)\t0.04427205377852565\n  (0, 1776)\t0.04473929374564008\n  (0, 1064)\t0.038610585292517756\n  (0, 1222)\t0.04322405844664435\n  (0, 463)\t0.05043344931547051\n  (0, 121)\t0.08380682774934728\n  (0, 177)\t0.02633668612283532\n  (0, 1133)\t0.048057773978771395\n  (0, 651)\t0.03814420416757914\n  (0, 1211)\t0.020206309141147932\n  (0, 613)\t0.10386011469146623\n  (0, 1983)\t0.04623549265786207\n  (0, 49)\t0.05114076206763585\n  (0, 1643)\t0.052853458376212796\n  (0, 1940)\t0.0333680597068801\n  :\t:\n  (0, 1127)\t0.040498306723838286\n  (0, 850)\t0.04114569200550644\n  (0, 1014)\t0.09903578493124686\n  (0, 910)\t0.04810626278957867\n  (0, 1941)\t0.0517255068178697\n  (0, 1508)\t0.039517916169351235\n  (0, 662)\t0.03126456161908749\n  (0, 1698)\t0.04000599731917441\n  (0, 967)\t0.06991979015015587\n  (0, 902)\t0.03424695559203577\n  (0, 1866)\t0.09353988717462079\n  (0, 1901)\t0.03633399781942411\n  (0, 73)\t0.582039285885356\n  (0, 1667)\t0.08655818256016365\n  (0, 2233)\t0.18424450434380882\n  (0, 707)\t0.21821766926786904\n  (0, 444)\t0.027532143468160398\n  (0, 185)\t0.04430468249722839\n  (0, 82)\t0.044110557208073456\n  (0, 439)\t0.04971711402667113\n  (0, 1780)\t0.0345548714362291\n  (0, 837)\t0.028137917266853548\n  (0, 913)\t0.04392028896906184\n  (0, 311)\t0.0525781390542352\n  (0, 794)\t0.08001097657166914\n"
     ]
    }
   ],
   "source": []
  },
  {
   "cell_type": "code",
   "execution_count": 13,
   "metadata": {},
   "outputs": [
    {
     "output_type": "stream",
     "name": "stdout",
     "text": [
      "(2, 11)\n"
     ]
    }
   ],
   "source": [
    "\n",
    "tfidf = TfidfVectorizer(stop_words='english')\n",
    "corpus = [\n",
    "    'I would like to check this document',\n",
    "    'How about one more document',\n",
    "    'Aim is to capture the key words from the corpus',\n",
    "    'frequency of words in a document is called term frequency'\n",
    "]\n",
    "\n",
    "X = tfidf.fit_transform(corpus)\n",
    "feature_names = np.array(tfidf.get_feature_names())\n",
    "\n",
    "\n",
    "new_doc = ['can key words in this new document be identified?',\n",
    "           'idf is the inverse document frequency caculcated for each of the words']\n",
    "responses = tfidf.transform(new_doc)\n",
    "print(responses.shape)\n",
    "\n",
    "def get_top_tf_idf_words(response, top_n=2):\n",
    "    sorted_nzs = np.argsort(response.data)[:-(top_n+1):-1]\n",
    "    return feature_names[response.indices[sorted_nzs]]\n",
    "  \n",
    "#print([get_top_tf_idf_words(row,2) for row in matrix])\n",
    "\n",
    "\n"
   ]
  },
  {
   "cell_type": "code",
   "execution_count": 14,
   "metadata": {},
   "outputs": [],
   "source": [
    "sorted_nzs = np.argsort(matrix[0].data)[:-(3+1):-1]"
   ]
  },
  {
   "cell_type": "code",
   "execution_count": 15,
   "metadata": {},
   "outputs": [
    {
     "output_type": "execute_result",
     "data": {
      "text/plain": [
       "array(['anleger', 'fonds', 'geld'], dtype='<U26')"
      ]
     },
     "metadata": {},
     "execution_count": 15
    }
   ],
   "source": [
    "np.array(feat_names)[matrix[0].indices[sorted_nzs]]"
   ]
  },
  {
   "cell_type": "code",
   "execution_count": 16,
   "metadata": {},
   "outputs": [
    {
     "output_type": "stream",
     "name": "stderr",
     "text": [
      "Warning : `load_model` does not return WordVectorModel or SupervisedModel any more, but a `FastText` object which is very similar.\n"
     ]
    }
   ],
   "source": [
    "fasttext_model = fasttext.load_model(r'C:\\Users\\a814810\\Downloads\\wiki.de\\wiki.de.bin')"
   ]
  },
  {
   "cell_type": "code",
   "execution_count": 17,
   "metadata": {},
   "outputs": [],
   "source": [
    "test = [fasttext_model.get_word_vector(x) for x in [\"asparagus\", \"pidgey\", \"yellow\"]]"
   ]
  },
  {
   "source": [
    "### Articles similarity"
   ],
   "cell_type": "markdown",
   "metadata": {}
  },
  {
   "cell_type": "code",
   "execution_count": 19,
   "metadata": {},
   "outputs": [],
   "source": [
    "content_based_recommender_model = ContentBasedRecommender(readers, user_profiles, matrix)\n",
    "model_evaluator = ModelEvaluator([5,10], filter_similar=True, vec_matrix=matrix, vec_names=feat_names, articles=articles)  "
   ]
  },
  {
   "cell_type": "code",
   "execution_count": 20,
   "metadata": {},
   "outputs": [
    {
     "output_type": "stream",
     "name": "stdout",
     "text": [
      "999 users processed\n"
     ]
    }
   ],
   "source": [
    "cb_global_metrics, cb_detailed_results_df, people_recs = model_evaluator.evaluate_model(content_based_recommender_model, readers, interactions_train, interactions_test)"
   ]
  },
  {
   "cell_type": "code",
   "execution_count": 21,
   "metadata": {},
   "outputs": [],
   "source": [
    "def get_recs_for_user(user_id):\n",
    "    for i in range(len(people_recs)):\n",
    "        if people_recs[i].loc[1,'_person_id'] == user_id:\n",
    "            return people_recs[i]"
   ]
  },
  {
   "cell_type": "code",
   "execution_count": 35,
   "metadata": {},
   "outputs": [
    {
     "output_type": "execute_result",
     "data": {
      "text/plain": [
       "         nzz_id  recStrength  _person_id\n",
       "0    1.18177690     0.458265         411\n",
       "1    1.18310094     0.456494         411\n",
       "2     ld.150785     0.419848         411\n",
       "3     ld.155778     0.411200         411\n",
       "4     ld.138871     0.409991         411\n",
       "..          ...          ...         ...\n",
       "984   ld.141709     0.248292         411\n",
       "985   ld.153885     0.248191         411\n",
       "986   ld.141809     0.248153         411\n",
       "987   ld.150542     0.248139         411\n",
       "988   ld.150305     0.248081         411\n",
       "\n",
       "[967 rows x 3 columns]"
      ],
      "text/html": "<div>\n<style scoped>\n    .dataframe tbody tr th:only-of-type {\n        vertical-align: middle;\n    }\n\n    .dataframe tbody tr th {\n        vertical-align: top;\n    }\n\n    .dataframe thead th {\n        text-align: right;\n    }\n</style>\n<table border=\"1\" class=\"dataframe\">\n  <thead>\n    <tr style=\"text-align: right;\">\n      <th></th>\n      <th>nzz_id</th>\n      <th>recStrength</th>\n      <th>_person_id</th>\n    </tr>\n  </thead>\n  <tbody>\n    <tr>\n      <th>0</th>\n      <td>1.18177690</td>\n      <td>0.458265</td>\n      <td>411</td>\n    </tr>\n    <tr>\n      <th>1</th>\n      <td>1.18310094</td>\n      <td>0.456494</td>\n      <td>411</td>\n    </tr>\n    <tr>\n      <th>2</th>\n      <td>ld.150785</td>\n      <td>0.419848</td>\n      <td>411</td>\n    </tr>\n    <tr>\n      <th>3</th>\n      <td>ld.155778</td>\n      <td>0.411200</td>\n      <td>411</td>\n    </tr>\n    <tr>\n      <th>4</th>\n      <td>ld.138871</td>\n      <td>0.409991</td>\n      <td>411</td>\n    </tr>\n    <tr>\n      <th>...</th>\n      <td>...</td>\n      <td>...</td>\n      <td>...</td>\n    </tr>\n    <tr>\n      <th>984</th>\n      <td>ld.141709</td>\n      <td>0.248292</td>\n      <td>411</td>\n    </tr>\n    <tr>\n      <th>985</th>\n      <td>ld.153885</td>\n      <td>0.248191</td>\n      <td>411</td>\n    </tr>\n    <tr>\n      <th>986</th>\n      <td>ld.141809</td>\n      <td>0.248153</td>\n      <td>411</td>\n    </tr>\n    <tr>\n      <th>987</th>\n      <td>ld.150542</td>\n      <td>0.248139</td>\n      <td>411</td>\n    </tr>\n    <tr>\n      <th>988</th>\n      <td>ld.150305</td>\n      <td>0.248081</td>\n      <td>411</td>\n    </tr>\n  </tbody>\n</table>\n<p>967 rows × 3 columns</p>\n</div>"
     },
     "metadata": {},
     "execution_count": 35
    }
   ],
   "source": [
    "data_test = people_recs[1]\n",
    "data_test"
   ]
  },
  {
   "cell_type": "code",
   "execution_count": 36,
   "metadata": {},
   "outputs": [],
   "source": [
    "person_recs_df = data_test"
   ]
  },
  {
   "cell_type": "code",
   "execution_count": 107,
   "metadata": {},
   "outputs": [],
   "source": [
    "id_list = list(person_recs_df['nzz_id'])\n",
    "indices = articles[articles.nzz_id.isin(id_list)].index.tolist()\n",
    "\n",
    "matrix_lower = np.tril(cosine_similarity(matrix[indices]))\n",
    "np.fill_diagonal(matrix_lower, 0)\n",
    "similar_pairs = np.where(matrix_lower>=0.48)\n",
    "similar_df = pd.DataFrame(np.column_stack(similar_pairs),columns=['first_art','second_art'])\n",
    "\n",
    "# new_indices = [x for i, x in enumerate(indices) if i not in list(similar_df['first_art'])]\n",
    "# filtered_recs_ind = articles.loc[new_indices, 'nzz_id']\n",
    "\n",
    "# new_recs = person_recs_df.loc[person_recs_df.nzz_id.isin(list(filtered_recs_ind))]\n",
    "# person_recs_df = new_recs"
   ]
  },
  {
   "cell_type": "code",
   "execution_count": 108,
   "metadata": {},
   "outputs": [],
   "source": [
    "for i in range(len(similar_df)):\n",
    "    id_1 = similar_df.loc[i,'first_art']\n",
    "    sorted_1 = np.argsort(matrix[id_1].data)[:-(5+1):-1]\n",
    "    key_1 = np.array(feat_names)[matrix[id_1].indices[sorted_1]]\n",
    "    id_2 = similar_df.loc[i,'second_art']\n",
    "    sorted_2 = np.argsort(matrix[id_2].data)[:-(5+1):-1]\n",
    "    key_2 = np.array(feat_names)[matrix[id_2].indices[sorted_2]]\n",
    "\n",
    "    key_vec_1 = [fasttext_model.get_word_vector(x) for x in key_1]\n",
    "    key_vec_2 = [fasttext_model.get_word_vector(x) for x in key_2]\n",
    "    # if key_vec_2 != [] and key_vec_1 != []: \n",
    "    # cos_matrix = [[cosine_similarity(x,y) for x in key_vec_1] for y in key_vec_2]"
   ]
  },
  {
   "cell_type": "code",
   "execution_count": 109,
   "metadata": {},
   "outputs": [
    {
     "output_type": "execute_result",
     "data": {
      "text/plain": [
       "[]"
      ]
     },
     "metadata": {},
     "execution_count": 109
    }
   ],
   "source": [
    "cos_matrix"
   ]
  },
  {
   "cell_type": "code",
   "execution_count": 95,
   "metadata": {},
   "outputs": [
    {
     "output_type": "execute_result",
     "data": {
      "text/plain": [
       ", -3.73700202e-01,  2.72483438e-01,  1.03219263e-01,\n",
       "         2.40106076e-01, -2.83203423e-01, -2.24262998e-01,  1.07049964e-01,\n",
       "        -2.39196435e-01,  1.53818160e-01, -2.68139187e-02, -2.04047218e-01,\n",
       "         1.87095672e-01, -1.17124535e-01, -7.43347034e-02, -5.62295169e-02,\n",
       "         1.71795726e-01, -1.40560731e-01,  3.76182869e-02, -1.83118552e-01,\n",
       "        -7.22121522e-02, -1.51523620e-01,  7.88270682e-02,  3.37109864e-02,\n",
       "         1.71585470e-01, -5.65743335e-02, -2.10665852e-01,  7.50489831e-02,\n",
       "        -9.48880389e-02,  1.45521238e-01,  1.70192376e-01, -6.11963645e-02,\n",
       "        -3.00903077e-04,  5.52777760e-02, -2.52165705e-01,  1.28303185e-01,\n",
       "         3.03034395e-01,  5.10998555e-02,  1.98934689e-01,  3.74975279e-02,\n",
       "         3.05007786e-01,  1.45132728e-02, -3.92291367e-01,  8.11428651e-02,\n",
       "        -1.04491368e-01, -8.06513876e-02,  4.84104268e-02,  1.86003208e-01,\n",
       "        -1.37906924e-01, -1.26169652e-01,  4.16618772e-02, -2.77972311e-01,\n",
       "        -1.18919676e-02,  6.48154467e-02, -2.20363170e-01, -5.80268465e-02],\n",
       "       dtype=float32),\n",
       " array([-0.28461152,  0.05136841, -0.02634735, -0.20872945, -0.00515563,\n",
       "         0.320241  , -0.43820927, -0.03000137,  0.0396225 ,  0.6905814 ,\n",
       "        -0.08544176,  0.06572982,  0.4506797 , -0.02669453, -0.22570895,\n",
       "         0.21710087,  0.13079835,  0.40473318, -0.09444207, -0.4727646 ,\n",
       "         0.30258498,  0.23392709, -0.06406925, -0.04191694, -0.4251476 ,\n",
       "         0.02103847,  0.42592126,  0.36232135, -0.09801949,  0.19284625,\n",
       "         0.07571653,  0.15447703, -0.02100627,  0.09213088,  0.21237366,\n",
       "         0.31890532, -0.4232904 ,  0.03486993,  0.17316568,  0.7509949 ,\n",
       "        -0.3185256 ,  0.03104121, -0.29459548,  0.03976607,  0.27875534,\n",
       "        -0.59935385, -0.03141335, -0.20197198,  0.37457293, -0.15141149,\n",
       "         0.15186642,  0.04196186,  0.3065309 ,  0.15410477,  0.02170105,\n",
       "         0.1658196 ,  0.08892746,  0.3719217 ,  0.08857222,  0.02825925,\n",
       "         0.21041429,  0.48631796,  0.23550455, -0.10764934, -0.20764337,\n",
       "         0.1821978 ,  0.41477075,  0.34243503,  0.0487714 , -0.26684034,\n",
       "         0.21352872,  0.06100506, -0.05141894,  0.08600593,  0.06045332,\n",
       "         0.02463409, -0.0760014 , -0.29772246, -0.3161778 , -0.12292045,\n",
       "        -0.16516848, -0.19586597, -0.48881856,  0.06168472, -0.25607723,\n",
       "        -0.17853692, -0.07328213,  0.08031834, -0.0336066 ,  0.10454968,\n",
       "         0.0271494 ,  0.12010797, -0.2449309 , -0.24314663, -0.04559025,\n",
       "        -0.07706162,  0.07627805,  0.27106744, -0.03306279, -0.00902791,\n",
       "         0.01282666,  0.09896976, -0.3137182 ,  0.18092658,  0.16976626,\n",
       "         0.16807269, -0.04965326,  0.18973446,  0.06232094,  0.0947907 ,\n",
       "         0.16103455,  0.4731782 , -0.22075377,  0.26583475,  0.38637725,\n",
       "        -0.2228136 ,  0.16858123, -0.02252989,  0.11771087, -0.24767606,\n",
       "        -0.05358266,  0.03233156,  0.44413263,  0.08658314, -0.04093381,\n",
       "        -0.15249737, -0.08229939, -0.11761637,  0.14745948,  0.04337692,\n",
       "        -0.242048  , -0.1024035 , -0.2302723 ,  0.21992943, -0.11360168,\n",
       "         0.154675  ,  0.40919384,  0.00273919,  0.2167364 ,  0.08261041,\n",
       "        -0.0278054 , -0.28897518, -0.11481424,  0.500454  ,  0.14693382,\n",
       "         0.05670597, -0.05648999, -0.34401867,  0.2110217 ,  0.33024958,\n",
       "         0.4675859 ,  0.04127069, -0.508189  , -0.02907132, -0.42994434,\n",
       "        -0.4612253 , -0.3480232 ,  0.11521936,  0.5151011 , -0.09387769,\n",
       "        -0.16770785,  0.13711365,  0.32701027,  0.17733939, -0.05540692,\n",
       "         0.2195741 ,  0.1774557 ,  0.18783788,  0.32341886,  0.37682635,\n",
       "        -0.29759443, -0.30983758,  0.6817421 , -0.04413984, -0.12272323,\n",
       "        -0.08117713, -0.07852361, -0.39506027,  0.0349987 ,  0.01951635,\n",
       "        -0.0173725 , -0.10815574, -0.02913508,  0.2586052 ,  0.1670856 ,\n",
       "        -0.17330782, -0.81701785, -0.14514448, -0.02291944, -0.08130424,\n",
       "        -0.0261935 , -0.35941422,  0.10148726, -0.13776425,  0.12984107,\n",
       "        -0.12304796, -0.31410214,  0.31029585, -0.4895404 , -0.00636258,\n",
       "        -0.2140005 ,  0.1669293 ,  0.11816011,  0.21039945, -0.05863926,\n",
       "         0.26975   ,  0.23887788, -0.26371408,  0.18278922, -0.02612903,\n",
       "         0.25773823,  0.29575217, -0.17108665,  0.20892344,  0.07366996,\n",
       "        -0.37512225,  0.06122163, -0.0899101 , -0.3698896 , -0.30965555,\n",
       "        -0.0205586 ,  0.12726653, -0.20582692, -0.16514517, -0.16132933,\n",
       "        -0.07409229, -0.48145476,  0.47229302,  0.08882513,  0.52279323,\n",
       "         0.18043974,  0.40675575, -0.41151795,  0.22476557, -0.05250908,\n",
       "         0.23850477, -0.3983261 , -0.4525793 , -0.13551256, -0.4294731 ,\n",
       "         0.49816123, -0.16815576, -0.35057375,  0.3540769 , -0.02020213,\n",
       "        -0.07899544,  0.29823563, -0.12562034, -0.06216974,  0.03916758,\n",
       "        -0.3671623 ,  0.40433916, -0.50563985,  0.04273529,  0.2557725 ,\n",
       "         0.15690683, -0.06122391,  0.06802451, -0.27717692, -0.1630863 ,\n",
       "         0.30186915, -0.681183  ,  0.05471081, -0.2816312 ,  0.00344422,\n",
       "         0.08932738,  0.28987005,  0.04332069,  0.23194112, -0.19246495,\n",
       "        -0.13414031, -0.13711157,  0.41026306, -0.309614  ,  0.04164481,\n",
       "        -0.05745581,  0.16794203, -0.22055939, -0.35501763,  0.24572648,\n",
       "         0.40064874,  0.12470855,  0.09728751,  0.04061926,  0.36736718,\n",
       "        -0.68168384, -0.65530384,  0.12701368, -0.1228496 , -0.16533783,\n",
       "         0.08301435,  0.32646516,  0.35371336,  0.24164085, -0.01578397,\n",
       "        -0.3001407 , -0.3613714 ,  0.28457454, -0.5004021 ,  0.14788881],\n",
       "       dtype=float32),\n",
       " array([-0.13252124,  0.36060295, -0.2953299 , -0.7612725 ,  0.59598184,\n",
       "        -0.06418967, -0.14525758, -0.3270089 , -0.00521864,  0.6358927 ,\n",
       "         0.32601994,  0.25835192, -0.1411377 , -0.27616495, -0.4203871 ,\n",
       "         0.1815547 , -0.1249379 ,  0.7057    , -0.4792503 , -0.26269203,\n",
       "         0.42661303, -0.09631389, -0.21976186,  0.29835626,  0.06929653,\n",
       "        -0.27739644, -0.1802202 ,  0.33349118,  0.21507272, -0.01323445,\n",
       "         0.2337601 ,  0.10341452, -0.04999303, -0.21827362, -0.1755905 ,\n",
       "         0.00674499, -0.33060536, -0.08254678, -0.28334153,  0.41450354,\n",
       "         0.08610289, -0.273819  ,  0.11062248,  0.6281251 , -0.18428358,\n",
       "        -0.6516962 ,  0.05750649, -0.03384791,  0.00224589, -0.08683813,\n",
       "         0.6129855 , -0.0851814 ,  0.63624156, -0.10969649,  0.27262858,\n",
       "         0.44174913,  0.04843388, -0.46010116,  0.06026972, -0.02132876,\n",
       "         0.04522873,  0.19127823, -0.1362288 , -0.14010762, -0.11143525,\n",
       "         0.1489321 , -0.35927504, -0.16110548, -0.4186761 , -0.14778848,\n",
       "        -0.02996183, -0.4915432 , -0.50850385, -0.2712697 , -0.16841894,\n",
       "         0.04042987, -0.10303743, -0.05477252, -0.05532334,  0.10047238,\n",
       "        -0.00288904, -0.3763067 ,  0.00756929,  0.20345224,  0.05934326,\n",
       "        -0.20070177, -0.22727036, -0.1190006 ,  0.18811145,  0.20343319,\n",
       "        -0.19985656,  0.28968957, -0.16227637,  0.02986228,  0.03632879,\n",
       "         0.05883908,  0.24954951,  0.08111259,  0.00599916,  0.04363041,\n",
       "        -0.0248143 , -0.2813682 , -0.2513333 ,  0.21263896, -0.10604686,\n",
       "        -0.17890693, -0.14223623,  0.28553241,  0.04950604,  0.06520632,\n",
       "         0.19695395,  0.38599288, -0.3631969 ,  0.07479427,  0.0917373 ,\n",
       "        -0.02038744, -0.4514314 , -0.2725067 , -0.3429298 , -0.32742298,\n",
       "        -0.01960387, -0.05870761,  0.05287932,  0.06933583,  0.31862342,\n",
       "         0.16737124, -0.18550774,  0.09450887, -0.19402657,  0.2849606 ,\n",
       "         0.21261007,  0.27528855,  0.02242869,  0.49370614, -0.27204704,\n",
       "        -0.16838665, -0.19672671,  0.25777325,  0.4633486 , -0.12635025,\n",
       "         0.03077598,  0.3286435 , -0.21508412,  0.5171511 , -0.08094592,\n",
       "        -0.32443708,  0.06079048, -0.3645571 ,  0.16430205,  0.20490636,\n",
       "         0.62911314, -0.47788665, -0.40154248, -0.02244101, -0.24879096,\n",
       "         0.24202548, -0.34134486,  0.47687906,  0.12705672,  0.05475527,\n",
       "        -0.41850436,  0.17752866,  0.09267133, -0.0160085 , -0.1390057 ,\n",
       "        -0.1605888 ,  0.14649136, -0.02375218,  0.32573733,  0.04260905,\n",
       "        -0.15801862, -0.50022966,  0.25798732,  0.20616046, -0.28051263,\n",
       "        -0.0446291 ,  0.10413635, -0.31994522, -0.05828092,  0.12843038,\n",
       "        -0.08166683, -0.20712642,  0.46060047,  0.13369198,  0.23418418,\n",
       "        -0.13966888, -0.00723422, -0.04931435,  0.19253178,  0.16463096,\n",
       "         0.43436888,  0.19230615, -0.13402346,  0.19921084, -0.11949723,\n",
       "        -0.45410618,  0.15884762,  0.35486257, -0.07106908, -0.21180215,\n",
       "         0.00527867,  0.00805976, -0.17998688, -0.26977542,  0.4523787 ,\n",
       "        -0.16660103,  0.16350198,  0.19221029,  0.1412402 ,  0.17008023,\n",
       "         0.5500663 ,  0.13358231,  0.02543268, -0.04297089, -0.03280259,\n",
       "        -0.2228736 , -0.04269067,  0.12436982,  0.23849201, -0.31406638,\n",
       "         0.1763793 , -0.52102304, -0.49400657, -0.10672565,  0.16441365,\n",
       "         0.07915819,  0.22618334, -0.5214674 ,  0.31326163,  0.150916  ,\n",
       "        -0.30952427,  0.26706702, -0.12160532, -0.10176716,  0.01545756,\n",
       "        -0.37508819, -0.40944016, -0.1407929 , -0.11455435, -0.3706502 ,\n",
       "         0.15701471,  0.30560756, -0.33726725,  0.1381499 , -0.36120263,\n",
       "        -0.20295389,  0.05092969,  0.3850841 , -0.23402125, -0.01548401,\n",
       "        -0.3075631 ,  0.33661482, -0.24600303,  0.29443732,  0.07322174,\n",
       "        -0.19565944,  0.5193447 , -0.340228  , -0.43477902, -0.04354249,\n",
       "         0.31860384, -0.1922651 , -0.11477471,  0.23592976,  0.02377858,\n",
       "         0.02551854,  0.48557246, -0.17732674,  0.3606691 ,  0.0985547 ,\n",
       "        -0.3147318 , -0.06357533,  0.02577699, -0.1698075 , -0.01574616,\n",
       "        -0.42022952,  0.11748552, -0.08622029, -0.1603323 ,  0.28150472,\n",
       "         0.10118014, -0.01095546,  0.14028807,  0.01004451,  0.04149355,\n",
       "        -0.7328338 , -0.55924433,  0.05268339, -0.3917412 ,  0.22174555,\n",
       "         0.31679425, -0.11092365,  0.09880361,  0.21070445, -0.03435788,\n",
       "         0.02205507, -0.12956218,  0.032034  , -0.05206746,  0.69894505],\n",
       "       dtype=float32),\n",
       " array([-0.16527219,  0.01231582,  0.10198797, -0.2612399 ,  0.1303532 ,\n",
       "         0.18729834,  0.03298666,  0.38703805,  0.05216303,  0.5500608 ,\n",
       "         0.16271833, -0.3179371 ,  0.28579998, -0.27553245,  0.07188078,\n",
       "        -0.11114591, -0.40451357,  0.13357559,  0.11457226,  0.21436617,\n",
       "        -0.14963901,  0.0480901 ,  0.18042068, -0.18016313, -0.3453563 ,\n",
       "         0.03146673,  0.0618415 ,  0.15150239, -0.22520095, -0.4394475 ,\n",
       "         0.5111166 ,  0.5022253 ,  0.13065758,  0.08602761,  0.13862915,\n",
       "        -0.15430395,  0.08079837, -0.0760016 ,  0.10096118,  0.12854238,\n",
       "        -0.30484077, -0.47682816,  0.02461886, -0.03008894,  0.4102759 ,\n",
       "         0.035529  ,  0.19679317,  0.04824498,  0.2696477 , -0.3045584 ,\n",
       "        -0.2478301 , -0.04609659, -0.2176321 ,  0.08187733, -0.20611125,\n",
       "         0.03239549,  0.14078958, -0.10243008, -0.0652848 , -0.16367148,\n",
       "        -0.3355694 ,  0.02055339, -0.16741696,  0.06700774,  0.17403199,\n",
       "        -0.28590375, -0.12806153,  0.35418513,  0.32819036,  0.49341097,\n",
       "         0.3621026 , -0.32225534, -0.04090605,  0.40674728, -0.29414386,\n",
       "        -0.3531932 ,  0.2862937 , -0.3123853 ,  0.12229779, -0.14061667,\n",
       "        -0.16883478,  0.07588478,  0.42983904, -0.06316612,  0.29006344,\n",
       "        -0.30189174, -0.09196743, -0.31106147, -0.01172091,  0.09499811,\n",
       "        -0.52135247, -0.1677937 , -0.39385447, -0.18548459, -0.22873148,\n",
       "         0.0243873 ,  0.03978273,  0.22424044, -0.1005844 , -0.03484011,\n",
       "         0.00393782, -0.25130177, -0.44109005, -0.18461692,  0.1556784 ,\n",
       "         0.04976666, -0.01106385,  0.5302346 , -0.16032448, -0.21651512,\n",
       "        -0.48840207,  0.0036509 ,  0.02345619, -0.18357264,  0.29810795,\n",
       "         0.10507149,  0.32075524,  0.14465514,  0.16544634, -0.21561877,\n",
       "         0.22112651,  0.04235279,  0.18791595, -0.10220177, -0.4245023 ,\n",
       "        -0.2485103 , -0.00834996, -0.04254525,  0.2953223 , -0.00663742,\n",
       "        -0.1636549 , -0.11027035, -0.18941794,  0.08074212, -0.00551567,\n",
       "        -0.08778918, -0.12407306, -0.10861506,  0.08713683, -0.08159038,\n",
       "        -0.09794395,  0.06663926, -0.24851309,  0.41609213, -0.12840164,\n",
       "         0.16187738, -0.30743632,  0.20479587,  0.09757044,  0.19460338,\n",
       "         0.11068913, -0.3186426 , -0.35700813,  0.5582821 , -0.5162281 ,\n",
       "         0.01019113, -0.3806022 ,  0.09004023, -0.07778252,  0.14558588,\n",
       "         0.19311692,  0.13962811, -0.24201211,  0.4420934 ,  0.10168637,\n",
       "         0.04457181,  0.06561224,  0.20803067, -0.23854871,  0.5083257 ,\n",
       "        -0.48286983, -0.14703038, -0.32281637,  0.22776568,  0.11561359,\n",
       "        -0.06569897, -0.05265506,  0.06913822,  0.00388113, -0.09055555,\n",
       "         0.10414935,  0.00815823, -0.00329021, -0.05617691,  0.32828757,\n",
       "        -0.01199596,  0.08532242, -0.3116492 ,  0.10971843,  0.02299085,\n",
       "         0.16533078, -0.13441944, -0.11748573, -0.2121369 , -0.23251073,\n",
       "        -0.66116625, -0.09923528,  0.30553174, -0.26671058, -0.06772332,\n",
       "        -0.30454102, -0.03569796, -0.16239287, -0.02936003, -0.01886062,\n",
       "         0.27726018,  0.1750915 ,  0.09451996, -0.29167783, -0.10787968,\n",
       "        -0.24295038,  0.07079645, -0.02168594,  0.639623  , -0.34732735,\n",
       "         0.07815441, -0.12932453,  0.00125519, -0.05739501,  0.08343133,\n",
       "         0.3392512 , -0.24767303, -0.04141584,  0.13093975,  0.08138613,\n",
       "        -0.03223839,  0.08139794, -0.4429214 , -0.24949856,  0.10215748,\n",
       "         0.26875293, -0.05456013, -0.11964916, -0.03155184,  0.3266785 ,\n",
       "         0.09197139, -0.08835582, -0.05389098,  0.07803455, -0.30054447,\n",
       "         0.05618929,  0.26532432, -0.10009577, -0.15472059, -0.04065095,\n",
       "        -0.45914143,  0.1963202 , -0.05824069,  0.3490939 ,  0.44589376,\n",
       "        -0.25285548, -0.13885032, -0.22980914,  0.14734355,  0.07893039,\n",
       "        -0.10664628,  0.04133641,  0.00131495,  0.10062484, -0.08150335,\n",
       "        -0.1829998 ,  0.1261801 , -0.01595277, -0.04593258,  0.2118153 ,\n",
       "        -0.19945437,  0.10706348,  0.22649068, -0.00772192,  0.45648396,\n",
       "        -0.34369102, -0.32260743,  0.09299795, -0.20144406,  0.01548003,\n",
       "        -0.09297685, -0.16993818,  0.30723178,  0.09335861, -0.2713531 ,\n",
       "        -0.14973189,  0.20620139,  0.03384588, -0.11380196, -0.0842177 ,\n",
       "        -0.07528391, -0.18598828, -0.13573128, -0.05466159,  0.10669996,\n",
       "        -0.19198523,  0.26127627,  0.2337068 ,  0.30008024, -0.19481875,\n",
       "         0.1679103 , -0.25924447, -0.02489012,  0.08011843,  0.20723559],\n",
       "       dtype=float32),\n",
       " array([-5.79175949e-01,  1.10847633e-02, -5.11333585e-01, -3.77778381e-01,\n",
       "         1.62371203e-01,  4.01372522e-01, -5.20063519e-01, -3.18275332e-01,\n",
       "        -1.23287112e-01,  5.62865198e-01,  3.21401328e-01,  2.05710784e-01,\n",
       "        -2.00684562e-01,  6.66136742e-02, -1.12164773e-01,  2.63295591e-01,\n",
       "        -9.23651606e-02,  1.52325019e-01, -4.58785929e-02, -9.42925066e-02,\n",
       "         3.79381627e-02,  9.18219760e-02, -2.11614054e-02,  1.93067476e-01,\n",
       "        -1.65104911e-01, -2.32394263e-01, -3.75336641e-03, -2.53445864e-01,\n",
       "         2.65817195e-01,  2.71635145e-01,  1.89952850e-02,  2.26842076e-01,\n",
       "         4.89153177e-01, -2.41117850e-02, -2.90584773e-01,  2.56587029e-01,\n",
       "         5.44148609e-02,  1.39203563e-01, -1.41997278e-01,  3.81620914e-01,\n",
       "         2.25884225e-02, -4.38554361e-02, -1.08804956e-01,  7.96260059e-01,\n",
       "        -5.68719991e-02,  3.03384990e-01,  5.54809928e-01, -1.45669565e-01,\n",
       "         3.98181230e-01,  3.30080777e-01, -1.35306805e-01, -7.15983808e-02,\n",
       "         1.53439119e-01, -9.14964825e-03, -3.40125430e-03,  1.87345833e-01,\n",
       "        -2.27441669e-01, -1.03963815e-01,  5.37947118e-01, -3.71552706e-02,\n",
       "         2.31446013e-01,  2.09630474e-01,  3.64067823e-01,  3.68375145e-02,\n",
       "        -2.62882948e-01,  3.33485067e-01, -3.43225300e-01,  2.67141312e-01,\n",
       "         1.92425981e-01,  4.63944137e-01, -6.91203296e-01, -4.61489677e-01,\n",
       "         8.41387920e-03, -1.54061779e-01,  4.82207239e-01, -2.33791500e-01,\n",
       "        -1.74694031e-01,  1.54073358e-01, -4.82080609e-01,  1.86587662e-01,\n",
       "         6.31858706e-02,  3.38662475e-01,  3.00313801e-01,  6.51376843e-02,\n",
       "         3.98484141e-01, -7.49984324e-01,  2.04691455e-01,  4.13035572e-01,\n",
       "        -5.61870098e-01,  2.42989689e-01, -4.11669374e-01, -4.10096720e-02,\n",
       "         7.50744790e-02, -1.38084009e-01, -3.63385111e-01, -5.04042864e-01,\n",
       "        -1.37184793e-02,  2.49306679e-01, -1.50912717e-01, -8.74795318e-02,\n",
       "         1.94395006e-01,  1.60262078e-01, -1.92065686e-01, -4.20232362e-04,\n",
       "         2.24197194e-01,  3.25332820e-01, -3.27735692e-01, -2.20547318e-02,\n",
       "         2.93711461e-02, -1.79464191e-01,  9.39406380e-02, -1.85059626e-02,\n",
       "        -1.03001885e-01,  1.13027297e-01, -1.48008808e-01,  1.86231732e-02,\n",
       "         4.81377691e-01, -3.00116718e-01,  2.00916901e-01, -2.84167230e-01,\n",
       "         5.13027571e-02, -2.74117559e-01,  1.91783473e-01, -3.50507110e-01,\n",
       "        -2.78809309e-01,  5.10858335e-02,  1.08957767e-01,  2.79559121e-02,\n",
       "         2.62917846e-01,  4.39103276e-01, -3.11691761e-01, -3.06269526e-01,\n",
       "        -2.45029833e-02,  5.15324831e-01,  2.49153391e-01, -1.49610639e-01,\n",
       "         1.02062665e-01, -3.50508630e-01, -6.24559121e-03, -2.99574018e-01,\n",
       "        -2.00154245e-01,  2.76430488e-01,  4.88049239e-02, -1.89659983e-01,\n",
       "        -9.95826498e-02, -6.10893480e-02,  1.82058904e-02,  4.14692499e-02,\n",
       "        -4.82068360e-01,  2.83567458e-01,  7.17635900e-02, -3.48706156e-01,\n",
       "        -2.51085013e-01, -9.67057422e-02, -5.32802880e-01, -3.20590623e-02,\n",
       "        -3.21909823e-02, -1.83234066e-01,  2.51473039e-01,  4.67115849e-01,\n",
       "         1.92554519e-01,  2.85680860e-01, -3.92197579e-01,  4.16197330e-01,\n",
       "         2.05012068e-01, -1.21704591e-02, -1.97022811e-01, -7.96845090e-03,\n",
       "         1.16686247e-01,  2.65593052e-01, -1.13383241e-01, -1.92262858e-01,\n",
       "         8.29462036e-02, -1.12712309e-01, -6.69172853e-02, -1.23291798e-01,\n",
       "         1.54387234e-02,  4.92754340e-01,  4.22985494e-01,  5.07482737e-02,\n",
       "         5.95485792e-02, -1.83711782e-01,  4.29696649e-01,  2.50528120e-02,\n",
       "        -1.09655736e-02, -1.02190897e-01, -8.75763372e-02, -2.00033009e-01,\n",
       "         8.57023224e-02,  1.84136823e-01, -1.61582604e-01,  2.58960783e-01,\n",
       "         2.14655727e-01,  1.64726228e-01,  8.76235589e-02, -1.12246200e-01,\n",
       "        -2.85559446e-01,  1.35022521e-01,  2.53428698e-01, -2.33783871e-01,\n",
       "        -4.10943687e-01, -6.60858378e-02, -3.59265245e-02,  2.14410186e-01,\n",
       "         1.12801476e-03,  1.69964060e-01,  1.48138106e-01,  2.06709281e-01,\n",
       "        -3.01987857e-01,  2.27182969e-01,  4.07681197e-01,  6.97926879e-02,\n",
       "        -1.19705305e-01,  1.69641152e-01, -3.29032809e-01, -1.11296155e-01,\n",
       "         8.71883631e-02, -6.88950419e-02,  3.63153964e-01,  2.36210376e-01,\n",
       "        -1.80314593e-02,  5.82499444e-01,  1.55449584e-01,  9.43337455e-02,\n",
       "         9.03793275e-02, -2.87765563e-01,  2.96893239e-01, -3.80345255e-01,\n",
       "        -2.65287850e-02, -2.72787154e-01, -2.54238635e-01, -3.13603133e-01,\n",
       "        -4.04656172e-01,  1.16796516e-01,  1.78035870e-01, -5.38498878e-01,\n",
       "         3.32892567e-01,  7.93795586e-02,  1.15926703e-02, -2.94526666e-01,\n",
       "         2.47591302e-01, -1.84644699e-01,  3.13150704e-01, -6.28331751e-02,\n",
       "         2.81699806e-01, -3.85041833e-02, -2.38635570e-01,  1.19336754e-01,\n",
       "         4.14456636e-01,  3.00983787e-01, -4.04813677e-01,  5.87563336e-01,\n",
       "        -2.58151352e-01,  2.67989505e-02,  3.94623220e-01, -3.37972671e-01,\n",
       "         8.52176249e-02, -5.25510848e-01, -2.86921442e-01,  1.23796351e-01,\n",
       "         1.28766835e-01, -4.42495704e-01,  4.17781882e-02,  2.80495465e-01,\n",
       "        -1.20399222e-01, -1.04307719e-02,  1.84856370e-01,  5.27794659e-01,\n",
       "        -3.86958048e-02, -6.68522157e-03, -3.53220552e-01, -8.39173943e-02,\n",
       "         2.66353935e-01,  9.79948789e-02,  3.03033113e-01,  9.28996131e-02,\n",
       "         1.86211001e-02,  2.21085981e-01,  7.58087113e-02,  1.88820198e-01,\n",
       "        -1.06386701e-02,  2.26965711e-01, -2.94389069e-01,  6.24069035e-01,\n",
       "         3.35645974e-01, -3.34908545e-01, -2.24879265e-01, -1.37597129e-01,\n",
       "        -3.92293721e-01, -1.89390466e-01, -1.54921278e-01,  4.63197567e-02,\n",
       "        -3.09976697e-01, -2.77559221e-01, -6.80380404e-01, -2.98983932e-01,\n",
       "        -4.28466201e-01, -2.66538978e-01, -1.09671555e-01,  2.58662313e-01],\n",
       "       dtype=float32)]"
      ]
     },
     "metadata": {},
     "execution_count": 95
    }
   ],
   "source": [
    "key_vec_1"
   ]
  },
  {
   "cell_type": "code",
   "execution_count": 90,
   "metadata": {},
   "outputs": [
    {
     "output_type": "error",
     "ename": "IndexError",
     "evalue": "list index out of range",
     "traceback": [
      "\u001b[1;31m---------------------------------------------------------------------------\u001b[0m",
      "\u001b[1;31mIndexError\u001b[0m                                Traceback (most recent call last)",
      "\u001b[1;32m<ipython-input-90-27c5535116ae>\u001b[0m in \u001b[0;36m<module>\u001b[1;34m\u001b[0m\n\u001b[1;32m----> 1\u001b[1;33m \u001b[0mcosine_similarity\u001b[0m\u001b[1;33m(\u001b[0m\u001b[0mkey_vec_1\u001b[0m\u001b[1;33m[\u001b[0m\u001b[1;36m0\u001b[0m\u001b[1;33m]\u001b[0m\u001b[1;33m,\u001b[0m\u001b[0mkey_vec_2\u001b[0m\u001b[1;33m[\u001b[0m\u001b[1;36m0\u001b[0m\u001b[1;33m]\u001b[0m\u001b[1;33m)\u001b[0m\u001b[1;33m\u001b[0m\u001b[1;33m\u001b[0m\u001b[0m\n\u001b[0m",
      "\u001b[1;31mIndexError\u001b[0m: list index out of range"
     ]
    }
   ],
   "source": [
    "cosine_similarity(key_vec_1[0],key_vec_2[0])"
   ]
  },
  {
   "cell_type": "code",
   "execution_count": 79,
   "metadata": {},
   "outputs": [
    {
     "output_type": "execute_result",
     "data": {
      "text/plain": [
       "array(['google', 'tv', 'software', 'beispiel', 'hersteller'], dtype='<U26')"
      ]
     },
     "metadata": {},
     "execution_count": 79
    }
   ],
   "source": [
    "sorted_art = np.argsort(matrix[443].data)[:-(5+1):-1]\n",
    "np.array(feat_names)[matrix[443].indices[sorted_art]]"
   ]
  },
  {
   "cell_type": "code",
   "execution_count": 73,
   "metadata": {},
   "outputs": [
    {
     "output_type": "execute_result",
     "data": {
      "text/plain": [
       "array(['worden', 'entdeckt', 'festgenommen', 'wichtigste', 'norden'],\n",
       "      dtype='<U26')"
      ]
     },
     "metadata": {},
     "execution_count": 73
    }
   ],
   "source": [
    "sorted_art_2 = np.argsort(matrix[744].data)[:-(5+1):-1]\n",
    "np.array(feat_names)[matrix[744].indices[sorted_art_2]]"
   ]
  },
  {
   "cell_type": "code",
   "execution_count": 69,
   "metadata": {},
   "outputs": [
    {
     "output_type": "execute_result",
     "data": {
      "text/plain": [
       "<1x2282 sparse matrix of type '<class 'numpy.float64'>'\n",
       "\twith 0 stored elements in Compressed Sparse Row format>"
      ]
     },
     "metadata": {},
     "execution_count": 69
    }
   ],
   "source": [
    "matrix[162]"
   ]
  },
  {
   "cell_type": "code",
   "execution_count": 70,
   "metadata": {},
   "outputs": [
    {
     "output_type": "execute_result",
     "data": {
      "text/plain": [
       "[3, 16, 17, 51, 57]"
      ]
     },
     "metadata": {},
     "execution_count": 70
    }
   ],
   "source": [
    "indices[0:5]"
   ]
  },
  {
   "cell_type": "code",
   "execution_count": 71,
   "metadata": {},
   "outputs": [
    {
     "output_type": "execute_result",
     "data": {
      "text/plain": [
       "   first_art  second_art\n",
       "0        402         150\n",
       "1        510         388\n",
       "2        744         423"
      ],
      "text/html": "<div>\n<style scoped>\n    .dataframe tbody tr th:only-of-type {\n        vertical-align: middle;\n    }\n\n    .dataframe tbody tr th {\n        vertical-align: top;\n    }\n\n    .dataframe thead th {\n        text-align: right;\n    }\n</style>\n<table border=\"1\" class=\"dataframe\">\n  <thead>\n    <tr style=\"text-align: right;\">\n      <th></th>\n      <th>first_art</th>\n      <th>second_art</th>\n    </tr>\n  </thead>\n  <tbody>\n    <tr>\n      <th>0</th>\n      <td>402</td>\n      <td>150</td>\n    </tr>\n    <tr>\n      <th>1</th>\n      <td>510</td>\n      <td>388</td>\n    </tr>\n    <tr>\n      <th>2</th>\n      <td>744</td>\n      <td>423</td>\n    </tr>\n  </tbody>\n</table>\n</div>"
     },
     "metadata": {},
     "execution_count": 71
    }
   ],
   "source": [
    "similar_df"
   ]
  },
  {
   "cell_type": "code",
   "execution_count": null,
   "metadata": {},
   "outputs": [],
   "source": []
  },
  {
   "cell_type": "code",
   "execution_count": 17,
   "metadata": {},
   "outputs": [],
   "source": [
    "recs = content_based_recommender_model.recommend_items(411)"
   ]
  },
  {
   "cell_type": "code",
   "execution_count": 18,
   "metadata": {},
   "outputs": [
    {
     "output_type": "execute_result",
     "data": {
      "text/plain": [
       "       nzz_id  recStrength\n",
       "0  1.18177690     0.458265\n",
       "1  1.18310094     0.456494\n",
       "2   ld.150785     0.419848\n",
       "3   ld.155778     0.411200\n",
       "4   ld.138871     0.409991\n",
       "5  ld.1288884     0.404845\n",
       "6   ld.140613     0.400806\n",
       "7   ld.155372     0.394523\n",
       "8   ld.144724     0.391178\n",
       "9  ld.1290524     0.381396"
      ],
      "text/html": "<div>\n<style scoped>\n    .dataframe tbody tr th:only-of-type {\n        vertical-align: middle;\n    }\n\n    .dataframe tbody tr th {\n        vertical-align: top;\n    }\n\n    .dataframe thead th {\n        text-align: right;\n    }\n</style>\n<table border=\"1\" class=\"dataframe\">\n  <thead>\n    <tr style=\"text-align: right;\">\n      <th></th>\n      <th>nzz_id</th>\n      <th>recStrength</th>\n    </tr>\n  </thead>\n  <tbody>\n    <tr>\n      <th>0</th>\n      <td>1.18177690</td>\n      <td>0.458265</td>\n    </tr>\n    <tr>\n      <th>1</th>\n      <td>1.18310094</td>\n      <td>0.456494</td>\n    </tr>\n    <tr>\n      <th>2</th>\n      <td>ld.150785</td>\n      <td>0.419848</td>\n    </tr>\n    <tr>\n      <th>3</th>\n      <td>ld.155778</td>\n      <td>0.411200</td>\n    </tr>\n    <tr>\n      <th>4</th>\n      <td>ld.138871</td>\n      <td>0.409991</td>\n    </tr>\n    <tr>\n      <th>5</th>\n      <td>ld.1288884</td>\n      <td>0.404845</td>\n    </tr>\n    <tr>\n      <th>6</th>\n      <td>ld.140613</td>\n      <td>0.400806</td>\n    </tr>\n    <tr>\n      <th>7</th>\n      <td>ld.155372</td>\n      <td>0.394523</td>\n    </tr>\n    <tr>\n      <th>8</th>\n      <td>ld.144724</td>\n      <td>0.391178</td>\n    </tr>\n    <tr>\n      <th>9</th>\n      <td>ld.1290524</td>\n      <td>0.381396</td>\n    </tr>\n  </tbody>\n</table>\n</div>"
     },
     "metadata": {},
     "execution_count": 18
    }
   ],
   "source": [
    "recs"
   ]
  },
  {
   "cell_type": "code",
   "execution_count": 16,
   "metadata": {},
   "outputs": [
    {
     "output_type": "execute_result",
     "data": {
      "text/plain": [
       "       nzz_id  recStrength\n",
       "0   ld.138364     0.458265\n",
       "1   ld.139822     0.419848\n",
       "2   ld.139143     0.409991\n",
       "3   ld.141102     0.404845\n",
       "4   ld.140381     0.400806\n",
       "5   ld.141993     0.394523\n",
       "6   ld.146206     0.381396\n",
       "7  ld.1288957     0.377356\n",
       "8   ld.143729     0.375761\n",
       "9   ld.139960     0.369606"
      ],
      "text/html": "<div>\n<style scoped>\n    .dataframe tbody tr th:only-of-type {\n        vertical-align: middle;\n    }\n\n    .dataframe tbody tr th {\n        vertical-align: top;\n    }\n\n    .dataframe thead th {\n        text-align: right;\n    }\n</style>\n<table border=\"1\" class=\"dataframe\">\n  <thead>\n    <tr style=\"text-align: right;\">\n      <th></th>\n      <th>nzz_id</th>\n      <th>recStrength</th>\n    </tr>\n  </thead>\n  <tbody>\n    <tr>\n      <th>0</th>\n      <td>ld.138364</td>\n      <td>0.458265</td>\n    </tr>\n    <tr>\n      <th>1</th>\n      <td>ld.139822</td>\n      <td>0.419848</td>\n    </tr>\n    <tr>\n      <th>2</th>\n      <td>ld.139143</td>\n      <td>0.409991</td>\n    </tr>\n    <tr>\n      <th>3</th>\n      <td>ld.141102</td>\n      <td>0.404845</td>\n    </tr>\n    <tr>\n      <th>4</th>\n      <td>ld.140381</td>\n      <td>0.400806</td>\n    </tr>\n    <tr>\n      <th>5</th>\n      <td>ld.141993</td>\n      <td>0.394523</td>\n    </tr>\n    <tr>\n      <th>6</th>\n      <td>ld.146206</td>\n      <td>0.381396</td>\n    </tr>\n    <tr>\n      <th>7</th>\n      <td>ld.1288957</td>\n      <td>0.377356</td>\n    </tr>\n    <tr>\n      <th>8</th>\n      <td>ld.143729</td>\n      <td>0.375761</td>\n    </tr>\n    <tr>\n      <th>9</th>\n      <td>ld.139960</td>\n      <td>0.369606</td>\n    </tr>\n  </tbody>\n</table>\n</div>"
     },
     "metadata": {},
     "execution_count": 16
    }
   ],
   "source": [
    "recs # old"
   ]
  },
  {
   "cell_type": "code",
   "execution_count": 25,
   "metadata": {},
   "outputs": [],
   "source": [
    "\n",
    "interacted_items = readers.set_index('user_id').loc[411, 'nzz_id']\n",
    "interacted_items =  set(interacted_items if type(interacted_items) == pd.Series else [interacted_items])"
   ]
  },
  {
   "cell_type": "code",
   "execution_count": 26,
   "metadata": {},
   "outputs": [
    {
     "output_type": "execute_result",
     "data": {
      "text/plain": [
       "{'1.18189198',\n",
       " '1.18242527',\n",
       " '1.18243520',\n",
       " '1.18385661',\n",
       " 'ld.1085733',\n",
       " 'ld.1287540',\n",
       " 'ld.1288489',\n",
       " 'ld.1289057',\n",
       " 'ld.1292102',\n",
       " 'ld.1293620',\n",
       " 'ld.138179',\n",
       " 'ld.138307',\n",
       " 'ld.139024',\n",
       " 'ld.139076',\n",
       " 'ld.140006',\n",
       " 'ld.140797',\n",
       " 'ld.142810',\n",
       " 'ld.142905',\n",
       " 'ld.143846',\n",
       " 'ld.144208',\n",
       " 'ld.145979',\n",
       " 'ld.146009',\n",
       " 'ld.146117',\n",
       " 'ld.147459',\n",
       " 'ld.148452',\n",
       " 'ld.148812',\n",
       " 'ld.151487',\n",
       " 'ld.152131',\n",
       " 'ld.152339',\n",
       " 'ld.152341',\n",
       " 'ld.152545',\n",
       " 'ld.152687',\n",
       " 'ld.153477',\n",
       " 'ld.154389',\n",
       " 'ld.154932',\n",
       " 'ld.155574'}"
      ]
     },
     "metadata": {},
     "execution_count": 26
    }
   ],
   "source": [
    "interacted_items"
   ]
  },
  {
   "cell_type": "code",
   "execution_count": 28,
   "metadata": {},
   "outputs": [],
   "source": [
    "#Computes the cosine similarity between the user profile and all item profiles\n",
    "cosine_similarities = cosine_similarity(user_profiles[411],matrix)\n",
    "        #Gets the top similar items\n",
    "similar_indices = cosine_similarities.argsort().flatten()[-10:]\n",
    "        #Sort the similar items by similarity\n",
    "similar_items = sorted([(readers['nzz_id'].tolist()[i], cosine_similarities[0,i]) for i in similar_indices], key=lambda x: -x[1])\n",
    "\n",
    "        \n",
    "#         #Ignores items the user has already interacted\n",
    "similar_items_filtered = list(filter(lambda x: x[0] not in interacted_items, similar_items))\n",
    "# recommendations_df = pd.DataFrame(similar_items_filtered, columns=['nzz_id', 'recStrength']).head(topn)"
   ]
  },
  {
   "cell_type": "code",
   "execution_count": 29,
   "metadata": {},
   "outputs": [
    {
     "output_type": "execute_result",
     "data": {
      "text/plain": [
       "[('1.18177690', 0.4582650081046984),\n",
       " ('1.18310094', 0.4564937098837709),\n",
       " ('ld.150785', 0.4198477707322838),\n",
       " ('ld.155778', 0.4112001220463839),\n",
       " ('ld.138871', 0.4099911675601207),\n",
       " ('ld.1288884', 0.4048453878135691),\n",
       " ('ld.140613', 0.40080575784520994),\n",
       " ('ld.155372', 0.39452291727367494),\n",
       " ('ld.144724', 0.39117750518003447),\n",
       " ('ld.1290524', 0.381395922977188)]"
      ]
     },
     "metadata": {},
     "execution_count": 29
    }
   ],
   "source": [
    "similar_items"
   ]
  },
  {
   "cell_type": "code",
   "execution_count": 30,
   "metadata": {},
   "outputs": [
    {
     "output_type": "execute_result",
     "data": {
      "text/plain": [
       "[('1.18177690', 0.4582650081046984),\n",
       " ('1.18310094', 0.4564937098837709),\n",
       " ('ld.150785', 0.4198477707322838),\n",
       " ('ld.155778', 0.4112001220463839),\n",
       " ('ld.138871', 0.4099911675601207),\n",
       " ('ld.1288884', 0.4048453878135691),\n",
       " ('ld.140613', 0.40080575784520994),\n",
       " ('ld.155372', 0.39452291727367494),\n",
       " ('ld.144724', 0.39117750518003447),\n",
       " ('ld.1290524', 0.381395922977188)]"
      ]
     },
     "metadata": {},
     "execution_count": 30
    }
   ],
   "source": [
    "similar_items_filtered"
   ]
  },
  {
   "cell_type": "code",
   "execution_count": null,
   "metadata": {},
   "outputs": [],
   "source": []
  },
  {
   "cell_type": "code",
   "execution_count": null,
   "metadata": {},
   "outputs": [],
   "source": []
  },
  {
   "cell_type": "code",
   "execution_count": 17,
   "metadata": {},
   "outputs": [],
   "source": [
    "id_list = list(recs['nzz_id'])\n",
    "indices = articles[articles.nzz_id.isin(id_list)].index.tolist()\n",
    "\n",
    "cosine_sim_matrix = cosine_similarity(matrix[indices])"
   ]
  },
  {
   "cell_type": "code",
   "execution_count": 18,
   "metadata": {},
   "outputs": [
    {
     "output_type": "execute_result",
     "data": {
      "text/plain": [
       "array([[1.        , 0.37375778, 0.35987359, 0.48287833, 0.38933833,\n",
       "        0.47854285, 0.43931377, 0.31878605, 0.42782599, 0.29492129],\n",
       "       [0.37375778, 1.        , 0.55312503, 0.40607962, 0.49913478,\n",
       "        0.39978735, 0.49262027, 0.41206501, 0.52565423, 0.26657407],\n",
       "       [0.35987359, 0.55312503, 1.        , 0.47221066, 0.582838  ,\n",
       "        0.44566488, 0.53738391, 0.43585433, 0.64290032, 0.31990461],\n",
       "       [0.48287833, 0.40607962, 0.47221066, 1.        , 0.49271318,\n",
       "        0.48781508, 0.51491629, 0.42187818, 0.51711057, 0.41634759],\n",
       "       [0.38933833, 0.49913478, 0.582838  , 0.49271318, 1.        ,\n",
       "        0.44709554, 0.51904078, 0.4635894 , 0.6443268 , 0.37558037],\n",
       "       [0.47854285, 0.39978735, 0.44566488, 0.48781508, 0.44709554,\n",
       "        1.        , 0.47526172, 0.37200531, 0.44960432, 0.27679691],\n",
       "       [0.43931377, 0.49262027, 0.53738391, 0.51491629, 0.51904078,\n",
       "        0.47526172, 1.        , 0.52035234, 0.62926822, 0.32081895],\n",
       "       [0.31878605, 0.41206501, 0.43585433, 0.42187818, 0.4635894 ,\n",
       "        0.37200531, 0.52035234, 1.        , 0.48208584, 0.29927828],\n",
       "       [0.42782599, 0.52565423, 0.64290032, 0.51711057, 0.6443268 ,\n",
       "        0.44960432, 0.62926822, 0.48208584, 1.        , 0.33608581],\n",
       "       [0.29492129, 0.26657407, 0.31990461, 0.41634759, 0.37558037,\n",
       "        0.27679691, 0.32081895, 0.29927828, 0.33608581, 1.        ]])"
      ]
     },
     "metadata": {},
     "execution_count": 18
    }
   ],
   "source": [
    "cosine_sim_matrix"
   ]
  },
  {
   "cell_type": "code",
   "execution_count": 15,
   "metadata": {},
   "outputs": [],
   "source": [
    "def filter_similar_recs(user_recs, matrix, similarity_level):\n",
    "    \n",
    "    id_list = list(user_recs['nzz_id'])\n",
    "    indices = articles[articles.nzz_id.isin(id_list)].index.tolist()\n",
    "\n",
    "    cosine_sim_matrix = cosine_similarity(matrix[indices])\n",
    "    matrix_lower = np.tril(cosine_similarity(matrix[indices]))\n",
    "    np.fill_diagonal(matrix_lower, 0)\n",
    "    similar_pairs = np.where(matrix_lower>=similarity_level)\n",
    "    similar_df = pd.DataFrame(np.column_stack(similar_pairs),columns=['first_art','second_art'])\n",
    "\n",
    "    new_indices = [x for i, x in enumerate(indices) if i not in list(similar_df['first_art'])]\n",
    "    filtered_recs_ind = articles.loc[new_indices, 'nzz_id']\n",
    "\n",
    "    new_recs = user_recs.loc[user_recs.nzz_id.isin(list(filtered_recs_ind))]\n",
    "\n",
    "    return new_recs"
   ]
  },
  {
   "cell_type": "code",
   "execution_count": 18,
   "metadata": {},
   "outputs": [
    {
     "output_type": "execute_result",
     "data": {
      "text/plain": [
       "       nzz_id  recStrength\n",
       "0  1.18177690     0.458265\n",
       "1  1.18310094     0.456494\n",
       "2   ld.150785     0.419848\n",
       "3   ld.155778     0.411200\n",
       "4   ld.138871     0.409991\n",
       "5  ld.1288884     0.404845\n",
       "6   ld.140613     0.400806\n",
       "7   ld.155372     0.394523\n",
       "8   ld.144724     0.391178\n",
       "9  ld.1290524     0.381396"
      ],
      "text/html": "<div>\n<style scoped>\n    .dataframe tbody tr th:only-of-type {\n        vertical-align: middle;\n    }\n\n    .dataframe tbody tr th {\n        vertical-align: top;\n    }\n\n    .dataframe thead th {\n        text-align: right;\n    }\n</style>\n<table border=\"1\" class=\"dataframe\">\n  <thead>\n    <tr style=\"text-align: right;\">\n      <th></th>\n      <th>nzz_id</th>\n      <th>recStrength</th>\n    </tr>\n  </thead>\n  <tbody>\n    <tr>\n      <th>0</th>\n      <td>1.18177690</td>\n      <td>0.458265</td>\n    </tr>\n    <tr>\n      <th>1</th>\n      <td>1.18310094</td>\n      <td>0.456494</td>\n    </tr>\n    <tr>\n      <th>2</th>\n      <td>ld.150785</td>\n      <td>0.419848</td>\n    </tr>\n    <tr>\n      <th>3</th>\n      <td>ld.155778</td>\n      <td>0.411200</td>\n    </tr>\n    <tr>\n      <th>4</th>\n      <td>ld.138871</td>\n      <td>0.409991</td>\n    </tr>\n    <tr>\n      <th>5</th>\n      <td>ld.1288884</td>\n      <td>0.404845</td>\n    </tr>\n    <tr>\n      <th>6</th>\n      <td>ld.140613</td>\n      <td>0.400806</td>\n    </tr>\n    <tr>\n      <th>7</th>\n      <td>ld.155372</td>\n      <td>0.394523</td>\n    </tr>\n    <tr>\n      <th>8</th>\n      <td>ld.144724</td>\n      <td>0.391178</td>\n    </tr>\n    <tr>\n      <th>9</th>\n      <td>ld.1290524</td>\n      <td>0.381396</td>\n    </tr>\n  </tbody>\n</table>\n</div>"
     },
     "metadata": {},
     "execution_count": 18
    }
   ],
   "source": [
    "filter_similar_recs(recs, matrix, 0.5) # coś nie działa znowu :( "
   ]
  },
  {
   "cell_type": "code",
   "execution_count": 25,
   "metadata": {},
   "outputs": [],
   "source": [
    "from model_evaluator import ModelEvaluator"
   ]
  },
  {
   "cell_type": "code",
   "execution_count": 27,
   "metadata": {},
   "outputs": [],
   "source": [
    "model_evaluator = ModelEvaluator([5,10,15])"
   ]
  },
  {
   "cell_type": "code",
   "execution_count": null,
   "metadata": {},
   "outputs": [],
   "source": []
  },
  {
   "cell_type": "code",
   "execution_count": 15,
   "metadata": {},
   "outputs": [
    {
     "output_type": "stream",
     "name": "stdout",
     "text": [
      "999 users processed\n"
     ]
    }
   ],
   "source": [
    "cb_global_metrics, cb_detailed_results_df = model_evaluator.evaluate_model(content_based_recommender_model, readers, interactions_train, interactions_test)"
   ]
  },
  {
   "cell_type": "code",
   "execution_count": 16,
   "metadata": {},
   "outputs": [
    {
     "output_type": "stream",
     "name": "stdout",
     "text": [
      "Evaluating Content-Based Filtering model...\n\nGlobal metrics:\n{'modelName': 'Content-Based', 'recall@5': 0.11564325396825396, 'precision@5': 0.02312865079365079, 'f1_score@5': 0.038547751322751324, 'ndcg@5': 0.07403225454133, 'recall@10': 0.16664007936507938, 'precision@10': 0.016664007936507935, 'f1_score@10': 0.030298196248196248, 'ndcg@10': 0.0902380646139234, 'recall@15': 0.1771984126984127, 'precision@15': 0.011813227513227513, 'f1_score@15': 0.02214980158730159, 'ndcg@15': 0.09430699698361197}\n"
     ]
    },
    {
     "output_type": "execute_result",
     "data": {
      "text/plain": [
       "     hits@5_count  interacted_count  recall@5  precision@5  f1_score@5  \\\n",
       "358             0                10       0.0         0.00    0.000000   \n",
       "721             1                10       0.1         0.02    0.033333   \n",
       "510             1                10       0.1         0.02    0.033333   \n",
       "86              3                10       0.3         0.06    0.100000   \n",
       "484             2                10       0.2         0.04    0.066667   \n",
       "472             1                10       0.1         0.02    0.033333   \n",
       "259             1                10       0.1         0.02    0.033333   \n",
       "264             0                10       0.0         0.00    0.000000   \n",
       "797             1                10       0.1         0.02    0.033333   \n",
       "276             1                10       0.1         0.02    0.033333   \n",
       "\n",
       "       ndcg@5  hits@10_count  recall@10  precision@10  f1_score@10   ndcg@10  \\\n",
       "358  0.000000              2        0.2          0.02     0.036364  0.068788   \n",
       "721  0.043068              1        0.1          0.01     0.018182  0.050000   \n",
       "510  0.100000              1        0.1          0.01     0.018182  0.100000   \n",
       "86   0.243068              3        0.3          0.03     0.054545  0.198714   \n",
       "484  0.106161              2        0.2          0.02     0.036364  0.150000   \n",
       "472  0.043068              0        0.0          0.00     0.000000  0.000000   \n",
       "259  0.043068              2        0.2          0.02     0.036364  0.130103   \n",
       "264  0.000000              1        0.1          0.01     0.018182  0.050000   \n",
       "797  0.038685              0        0.0          0.00     0.000000  0.000000   \n",
       "276  0.050000              1        0.1          0.01     0.018182  0.043068   \n",
       "\n",
       "     hits@15_count  recall@15  precision@15  f1_score@15   ndcg@15  _person_id  \n",
       "358              2        0.2      0.013333       0.0250  0.083333         907  \n",
       "721              1        0.1      0.006667       0.0125  0.063093         938  \n",
       "510              1        0.1      0.006667       0.0125  0.063093          64  \n",
       "86               3        0.3      0.020000       0.0375  0.250000         887  \n",
       "484              2        0.2      0.013333       0.0250  0.077371         397  \n",
       "472              1        0.1      0.006667       0.0125  0.035621         218  \n",
       "259              3        0.3      0.020000       0.0375  0.117374         273  \n",
       "264              1        0.1      0.006667       0.0125  0.050000         803  \n",
       "797              2        0.2      0.013333       0.0250  0.061217         865  \n",
       "276              1        0.1      0.006667       0.0125  0.035621         443  "
      ],
      "text/html": "<div>\n<style scoped>\n    .dataframe tbody tr th:only-of-type {\n        vertical-align: middle;\n    }\n\n    .dataframe tbody tr th {\n        vertical-align: top;\n    }\n\n    .dataframe thead th {\n        text-align: right;\n    }\n</style>\n<table border=\"1\" class=\"dataframe\">\n  <thead>\n    <tr style=\"text-align: right;\">\n      <th></th>\n      <th>hits@5_count</th>\n      <th>interacted_count</th>\n      <th>recall@5</th>\n      <th>precision@5</th>\n      <th>f1_score@5</th>\n      <th>ndcg@5</th>\n      <th>hits@10_count</th>\n      <th>recall@10</th>\n      <th>precision@10</th>\n      <th>f1_score@10</th>\n      <th>ndcg@10</th>\n      <th>hits@15_count</th>\n      <th>recall@15</th>\n      <th>precision@15</th>\n      <th>f1_score@15</th>\n      <th>ndcg@15</th>\n      <th>_person_id</th>\n    </tr>\n  </thead>\n  <tbody>\n    <tr>\n      <th>358</th>\n      <td>0</td>\n      <td>10</td>\n      <td>0.0</td>\n      <td>0.00</td>\n      <td>0.000000</td>\n      <td>0.000000</td>\n      <td>2</td>\n      <td>0.2</td>\n      <td>0.02</td>\n      <td>0.036364</td>\n      <td>0.068788</td>\n      <td>2</td>\n      <td>0.2</td>\n      <td>0.013333</td>\n      <td>0.0250</td>\n      <td>0.083333</td>\n      <td>907</td>\n    </tr>\n    <tr>\n      <th>721</th>\n      <td>1</td>\n      <td>10</td>\n      <td>0.1</td>\n      <td>0.02</td>\n      <td>0.033333</td>\n      <td>0.043068</td>\n      <td>1</td>\n      <td>0.1</td>\n      <td>0.01</td>\n      <td>0.018182</td>\n      <td>0.050000</td>\n      <td>1</td>\n      <td>0.1</td>\n      <td>0.006667</td>\n      <td>0.0125</td>\n      <td>0.063093</td>\n      <td>938</td>\n    </tr>\n    <tr>\n      <th>510</th>\n      <td>1</td>\n      <td>10</td>\n      <td>0.1</td>\n      <td>0.02</td>\n      <td>0.033333</td>\n      <td>0.100000</td>\n      <td>1</td>\n      <td>0.1</td>\n      <td>0.01</td>\n      <td>0.018182</td>\n      <td>0.100000</td>\n      <td>1</td>\n      <td>0.1</td>\n      <td>0.006667</td>\n      <td>0.0125</td>\n      <td>0.063093</td>\n      <td>64</td>\n    </tr>\n    <tr>\n      <th>86</th>\n      <td>3</td>\n      <td>10</td>\n      <td>0.3</td>\n      <td>0.06</td>\n      <td>0.100000</td>\n      <td>0.243068</td>\n      <td>3</td>\n      <td>0.3</td>\n      <td>0.03</td>\n      <td>0.054545</td>\n      <td>0.198714</td>\n      <td>3</td>\n      <td>0.3</td>\n      <td>0.020000</td>\n      <td>0.0375</td>\n      <td>0.250000</td>\n      <td>887</td>\n    </tr>\n    <tr>\n      <th>484</th>\n      <td>2</td>\n      <td>10</td>\n      <td>0.2</td>\n      <td>0.04</td>\n      <td>0.066667</td>\n      <td>0.106161</td>\n      <td>2</td>\n      <td>0.2</td>\n      <td>0.02</td>\n      <td>0.036364</td>\n      <td>0.150000</td>\n      <td>2</td>\n      <td>0.2</td>\n      <td>0.013333</td>\n      <td>0.0250</td>\n      <td>0.077371</td>\n      <td>397</td>\n    </tr>\n    <tr>\n      <th>472</th>\n      <td>1</td>\n      <td>10</td>\n      <td>0.1</td>\n      <td>0.02</td>\n      <td>0.033333</td>\n      <td>0.043068</td>\n      <td>0</td>\n      <td>0.0</td>\n      <td>0.00</td>\n      <td>0.000000</td>\n      <td>0.000000</td>\n      <td>1</td>\n      <td>0.1</td>\n      <td>0.006667</td>\n      <td>0.0125</td>\n      <td>0.035621</td>\n      <td>218</td>\n    </tr>\n    <tr>\n      <th>259</th>\n      <td>1</td>\n      <td>10</td>\n      <td>0.1</td>\n      <td>0.02</td>\n      <td>0.033333</td>\n      <td>0.043068</td>\n      <td>2</td>\n      <td>0.2</td>\n      <td>0.02</td>\n      <td>0.036364</td>\n      <td>0.130103</td>\n      <td>3</td>\n      <td>0.3</td>\n      <td>0.020000</td>\n      <td>0.0375</td>\n      <td>0.117374</td>\n      <td>273</td>\n    </tr>\n    <tr>\n      <th>264</th>\n      <td>0</td>\n      <td>10</td>\n      <td>0.0</td>\n      <td>0.00</td>\n      <td>0.000000</td>\n      <td>0.000000</td>\n      <td>1</td>\n      <td>0.1</td>\n      <td>0.01</td>\n      <td>0.018182</td>\n      <td>0.050000</td>\n      <td>1</td>\n      <td>0.1</td>\n      <td>0.006667</td>\n      <td>0.0125</td>\n      <td>0.050000</td>\n      <td>803</td>\n    </tr>\n    <tr>\n      <th>797</th>\n      <td>1</td>\n      <td>10</td>\n      <td>0.1</td>\n      <td>0.02</td>\n      <td>0.033333</td>\n      <td>0.038685</td>\n      <td>0</td>\n      <td>0.0</td>\n      <td>0.00</td>\n      <td>0.000000</td>\n      <td>0.000000</td>\n      <td>2</td>\n      <td>0.2</td>\n      <td>0.013333</td>\n      <td>0.0250</td>\n      <td>0.061217</td>\n      <td>865</td>\n    </tr>\n    <tr>\n      <th>276</th>\n      <td>1</td>\n      <td>10</td>\n      <td>0.1</td>\n      <td>0.02</td>\n      <td>0.033333</td>\n      <td>0.050000</td>\n      <td>1</td>\n      <td>0.1</td>\n      <td>0.01</td>\n      <td>0.018182</td>\n      <td>0.043068</td>\n      <td>1</td>\n      <td>0.1</td>\n      <td>0.006667</td>\n      <td>0.0125</td>\n      <td>0.035621</td>\n      <td>443</td>\n    </tr>\n  </tbody>\n</table>\n</div>"
     },
     "metadata": {},
     "execution_count": 16
    }
   ],
   "source": [
    "print('Evaluating Content-Based Filtering model...')\n",
    "print('\\nGlobal metrics:\\n%s' % cb_global_metrics)\n",
    "cb_detailed_results_df.head(10)"
   ]
  },
  {
   "cell_type": "code",
   "execution_count": 26,
   "metadata": {},
   "outputs": [],
   "source": [
    "#########################################\n",
    "#########################################\n",
    "#########################################"
   ]
  },
  {
   "cell_type": "code",
   "execution_count": 21,
   "metadata": {},
   "outputs": [],
   "source": [
    "def  get_read_articles(person_id):\n",
    "        # Get the user's data and merge in the article info\n",
    "    interacted_items = readers.loc[person_id, 'art_id']\n",
    "    return set(interacted_items if type(interacted_items) == pd.Series else [interacted_items])\n",
    "        "
   ]
  },
  {
   "cell_type": "code",
   "execution_count": 18,
   "metadata": {},
   "outputs": [],
   "source": [
    "def get_recs_for_user(user_id):\n",
    "    for i in range(len(people_recs)):\n",
    "        if people_recs[i].loc[1,'_person_id'] == user_id:\n",
    "            return people_recs[i]"
   ]
  },
  {
   "cell_type": "code",
   "execution_count": 19,
   "metadata": {},
   "outputs": [
    {
     "output_type": "execute_result",
     "data": {
      "text/plain": [
       "        art_id  recStrength  _person_id\n",
       "0    ld.138364     0.458265         411\n",
       "1    ld.139822     0.419848         411\n",
       "2    ld.139143     0.409991         411\n",
       "3    ld.141102     0.404845         411\n",
       "4    ld.140381     0.400806         411\n",
       "..         ...          ...         ...\n",
       "977  ld.141173     0.248292         411\n",
       "978  ld.142119     0.248191         411\n",
       "979  ld.145887     0.248153         411\n",
       "980  ld.151375     0.248139         411\n",
       "981  ld.152320     0.248081         411\n",
       "\n",
       "[982 rows x 3 columns]"
      ],
      "text/html": "<div>\n<style scoped>\n    .dataframe tbody tr th:only-of-type {\n        vertical-align: middle;\n    }\n\n    .dataframe tbody tr th {\n        vertical-align: top;\n    }\n\n    .dataframe thead th {\n        text-align: right;\n    }\n</style>\n<table border=\"1\" class=\"dataframe\">\n  <thead>\n    <tr style=\"text-align: right;\">\n      <th></th>\n      <th>art_id</th>\n      <th>recStrength</th>\n      <th>_person_id</th>\n    </tr>\n  </thead>\n  <tbody>\n    <tr>\n      <th>0</th>\n      <td>ld.138364</td>\n      <td>0.458265</td>\n      <td>411</td>\n    </tr>\n    <tr>\n      <th>1</th>\n      <td>ld.139822</td>\n      <td>0.419848</td>\n      <td>411</td>\n    </tr>\n    <tr>\n      <th>2</th>\n      <td>ld.139143</td>\n      <td>0.409991</td>\n      <td>411</td>\n    </tr>\n    <tr>\n      <th>3</th>\n      <td>ld.141102</td>\n      <td>0.404845</td>\n      <td>411</td>\n    </tr>\n    <tr>\n      <th>4</th>\n      <td>ld.140381</td>\n      <td>0.400806</td>\n      <td>411</td>\n    </tr>\n    <tr>\n      <th>...</th>\n      <td>...</td>\n      <td>...</td>\n      <td>...</td>\n    </tr>\n    <tr>\n      <th>977</th>\n      <td>ld.141173</td>\n      <td>0.248292</td>\n      <td>411</td>\n    </tr>\n    <tr>\n      <th>978</th>\n      <td>ld.142119</td>\n      <td>0.248191</td>\n      <td>411</td>\n    </tr>\n    <tr>\n      <th>979</th>\n      <td>ld.145887</td>\n      <td>0.248153</td>\n      <td>411</td>\n    </tr>\n    <tr>\n      <th>980</th>\n      <td>ld.151375</td>\n      <td>0.248139</td>\n      <td>411</td>\n    </tr>\n    <tr>\n      <th>981</th>\n      <td>ld.152320</td>\n      <td>0.248081</td>\n      <td>411</td>\n    </tr>\n  </tbody>\n</table>\n<p>982 rows × 3 columns</p>\n</div>"
     },
     "metadata": {},
     "execution_count": 19
    }
   ],
   "source": [
    "recs = get_recs_for_user(411)\n",
    "recs"
   ]
  },
  {
   "cell_type": "code",
   "execution_count": 20,
   "metadata": {},
   "outputs": [
    {
     "output_type": "execute_result",
     "data": {
      "text/plain": [
       "'ld.139822'"
      ]
     },
     "metadata": {},
     "execution_count": 20
    }
   ],
   "source": [
    "list(recs['art_id'])[1]"
   ]
  },
  {
   "cell_type": "code",
   "execution_count": 75,
   "metadata": {},
   "outputs": [
    {
     "output_type": "execute_result",
     "data": {
      "text/plain": [
       "['ld.144162',\n",
       " 'ld.142639',\n",
       " 'ld.140834',\n",
       " 'ld.143546',\n",
       " 'ld.140200',\n",
       " 'ld.147480',\n",
       " 'ld.138165',\n",
       " 'ld.1289252',\n",
       " 'ld.146048',\n",
       " 'ld.139216']"
      ]
     },
     "metadata": {},
     "execution_count": 75
    }
   ],
   "source": [
    "list_for_test = list(recs['art_id'])[20:30]\n",
    "list_for_test"
   ]
  },
  {
   "cell_type": "code",
   "execution_count": 76,
   "metadata": {},
   "outputs": [],
   "source": [
    "list_full = list(recs['art_id'])"
   ]
  },
  {
   "cell_type": "code",
   "execution_count": 96,
   "metadata": {},
   "outputs": [],
   "source": [
    "indices = articles[articles.nzz_id.isin(list_for_test)].index.tolist()\n",
    "indices_full = articles[articles.nzz_id.isin(list_full)].index.tolist()"
   ]
  },
  {
   "cell_type": "code",
   "execution_count": 78,
   "metadata": {},
   "outputs": [
    {
     "output_type": "execute_result",
     "data": {
      "text/plain": [
       "          0         1         2         3         4         5         6    \\\n",
       "0    1.000000  0.137855  0.566121  0.091091  0.034822  0.186635  0.061657   \n",
       "1    0.137855  1.000000  0.182852  0.186177  0.120673  0.280902  0.139153   \n",
       "2    0.566121  0.182852  1.000000  0.189666  0.088180  0.242287  0.077818   \n",
       "3    0.091091  0.186177  0.189666  1.000000  0.091949  0.124010  0.082631   \n",
       "4    0.034822  0.120673  0.088180  0.091949  1.000000  0.150879  0.272595   \n",
       "..        ...       ...       ...       ...       ...       ...       ...   \n",
       "977  0.087352  0.098723  0.154602  0.141616  0.144758  0.117861  0.112024   \n",
       "978  0.228281  0.103854  0.271361  0.152868  0.049612  0.210126  0.072093   \n",
       "979  0.146367  0.163082  0.113753  0.126718  0.091131  0.275090  0.114476   \n",
       "980  0.199889  0.124230  0.261994  0.181128  0.046018  0.164105  0.039548   \n",
       "981  0.335671  0.141847  0.376439  0.217983  0.051900  0.165722  0.033031   \n",
       "\n",
       "          7         8         9    ...       972       973       974  \\\n",
       "0    0.298902  0.078255  0.266386  ...  0.084415  0.306630  0.053428   \n",
       "1    0.097486  0.082015  0.071599  ...  0.092459  0.121550  0.110281   \n",
       "2    0.258094  0.051746  0.250914  ...  0.048918  0.406740  0.051198   \n",
       "3    0.124485  0.102547  0.119076  ...  0.098436  0.217404  0.105885   \n",
       "4    0.059825  0.108725  0.099855  ...  0.110505  0.119193  0.163684   \n",
       "..        ...       ...       ...  ...       ...       ...       ...   \n",
       "977  0.072614  0.124272  0.096680  ...  0.159841  0.115740  0.133542   \n",
       "978  0.124720  0.103169  0.115435  ...  0.100416  0.256679  0.114863   \n",
       "979  0.093160  0.193388  0.106268  ...  0.159370  0.176954  0.152064   \n",
       "980  0.130494  0.077534  0.107035  ...  0.113734  0.290059  0.056314   \n",
       "981  0.272965  0.104075  0.160732  ...  0.075302  0.281109  0.060212   \n",
       "\n",
       "          975       976       977       978       979       980       981  \n",
       "0    0.421129  0.238868  0.087352  0.228281  0.146367  0.199889  0.335671  \n",
       "1    0.190159  0.096952  0.098723  0.103854  0.163082  0.124230  0.141847  \n",
       "2    0.428183  0.193468  0.154602  0.271361  0.113753  0.261994  0.376439  \n",
       "3    0.127166  0.200645  0.141616  0.152868  0.126718  0.181128  0.217983  \n",
       "4    0.003861  0.133828  0.144758  0.049612  0.091131  0.046018  0.051900  \n",
       "..        ...       ...       ...       ...       ...       ...       ...  \n",
       "977  0.038926  0.174106  1.000000  0.157464  0.119454  0.205003  0.116103  \n",
       "978  0.244893  0.168685  0.157464  1.000000  0.195728  0.326188  0.255393  \n",
       "979  0.100849  0.120557  0.119454  0.195728  1.000000  0.077189  0.111102  \n",
       "980  0.240593  0.107899  0.205003  0.326188  0.077189  1.000000  0.242667  \n",
       "981  0.398823  0.182017  0.116103  0.255393  0.111102  0.242667  1.000000  \n",
       "\n",
       "[982 rows x 982 columns]"
      ],
      "text/html": "<div>\n<style scoped>\n    .dataframe tbody tr th:only-of-type {\n        vertical-align: middle;\n    }\n\n    .dataframe tbody tr th {\n        vertical-align: top;\n    }\n\n    .dataframe thead th {\n        text-align: right;\n    }\n</style>\n<table border=\"1\" class=\"dataframe\">\n  <thead>\n    <tr style=\"text-align: right;\">\n      <th></th>\n      <th>0</th>\n      <th>1</th>\n      <th>2</th>\n      <th>3</th>\n      <th>4</th>\n      <th>5</th>\n      <th>6</th>\n      <th>7</th>\n      <th>8</th>\n      <th>9</th>\n      <th>...</th>\n      <th>972</th>\n      <th>973</th>\n      <th>974</th>\n      <th>975</th>\n      <th>976</th>\n      <th>977</th>\n      <th>978</th>\n      <th>979</th>\n      <th>980</th>\n      <th>981</th>\n    </tr>\n  </thead>\n  <tbody>\n    <tr>\n      <th>0</th>\n      <td>1.000000</td>\n      <td>0.137855</td>\n      <td>0.566121</td>\n      <td>0.091091</td>\n      <td>0.034822</td>\n      <td>0.186635</td>\n      <td>0.061657</td>\n      <td>0.298902</td>\n      <td>0.078255</td>\n      <td>0.266386</td>\n      <td>...</td>\n      <td>0.084415</td>\n      <td>0.306630</td>\n      <td>0.053428</td>\n      <td>0.421129</td>\n      <td>0.238868</td>\n      <td>0.087352</td>\n      <td>0.228281</td>\n      <td>0.146367</td>\n      <td>0.199889</td>\n      <td>0.335671</td>\n    </tr>\n    <tr>\n      <th>1</th>\n      <td>0.137855</td>\n      <td>1.000000</td>\n      <td>0.182852</td>\n      <td>0.186177</td>\n      <td>0.120673</td>\n      <td>0.280902</td>\n      <td>0.139153</td>\n      <td>0.097486</td>\n      <td>0.082015</td>\n      <td>0.071599</td>\n      <td>...</td>\n      <td>0.092459</td>\n      <td>0.121550</td>\n      <td>0.110281</td>\n      <td>0.190159</td>\n      <td>0.096952</td>\n      <td>0.098723</td>\n      <td>0.103854</td>\n      <td>0.163082</td>\n      <td>0.124230</td>\n      <td>0.141847</td>\n    </tr>\n    <tr>\n      <th>2</th>\n      <td>0.566121</td>\n      <td>0.182852</td>\n      <td>1.000000</td>\n      <td>0.189666</td>\n      <td>0.088180</td>\n      <td>0.242287</td>\n      <td>0.077818</td>\n      <td>0.258094</td>\n      <td>0.051746</td>\n      <td>0.250914</td>\n      <td>...</td>\n      <td>0.048918</td>\n      <td>0.406740</td>\n      <td>0.051198</td>\n      <td>0.428183</td>\n      <td>0.193468</td>\n      <td>0.154602</td>\n      <td>0.271361</td>\n      <td>0.113753</td>\n      <td>0.261994</td>\n      <td>0.376439</td>\n    </tr>\n    <tr>\n      <th>3</th>\n      <td>0.091091</td>\n      <td>0.186177</td>\n      <td>0.189666</td>\n      <td>1.000000</td>\n      <td>0.091949</td>\n      <td>0.124010</td>\n      <td>0.082631</td>\n      <td>0.124485</td>\n      <td>0.102547</td>\n      <td>0.119076</td>\n      <td>...</td>\n      <td>0.098436</td>\n      <td>0.217404</td>\n      <td>0.105885</td>\n      <td>0.127166</td>\n      <td>0.200645</td>\n      <td>0.141616</td>\n      <td>0.152868</td>\n      <td>0.126718</td>\n      <td>0.181128</td>\n      <td>0.217983</td>\n    </tr>\n    <tr>\n      <th>4</th>\n      <td>0.034822</td>\n      <td>0.120673</td>\n      <td>0.088180</td>\n      <td>0.091949</td>\n      <td>1.000000</td>\n      <td>0.150879</td>\n      <td>0.272595</td>\n      <td>0.059825</td>\n      <td>0.108725</td>\n      <td>0.099855</td>\n      <td>...</td>\n      <td>0.110505</td>\n      <td>0.119193</td>\n      <td>0.163684</td>\n      <td>0.003861</td>\n      <td>0.133828</td>\n      <td>0.144758</td>\n      <td>0.049612</td>\n      <td>0.091131</td>\n      <td>0.046018</td>\n      <td>0.051900</td>\n    </tr>\n    <tr>\n      <th>...</th>\n      <td>...</td>\n      <td>...</td>\n      <td>...</td>\n      <td>...</td>\n      <td>...</td>\n      <td>...</td>\n      <td>...</td>\n      <td>...</td>\n      <td>...</td>\n      <td>...</td>\n      <td>...</td>\n      <td>...</td>\n      <td>...</td>\n      <td>...</td>\n      <td>...</td>\n      <td>...</td>\n      <td>...</td>\n      <td>...</td>\n      <td>...</td>\n      <td>...</td>\n      <td>...</td>\n    </tr>\n    <tr>\n      <th>977</th>\n      <td>0.087352</td>\n      <td>0.098723</td>\n      <td>0.154602</td>\n      <td>0.141616</td>\n      <td>0.144758</td>\n      <td>0.117861</td>\n      <td>0.112024</td>\n      <td>0.072614</td>\n      <td>0.124272</td>\n      <td>0.096680</td>\n      <td>...</td>\n      <td>0.159841</td>\n      <td>0.115740</td>\n      <td>0.133542</td>\n      <td>0.038926</td>\n      <td>0.174106</td>\n      <td>1.000000</td>\n      <td>0.157464</td>\n      <td>0.119454</td>\n      <td>0.205003</td>\n      <td>0.116103</td>\n    </tr>\n    <tr>\n      <th>978</th>\n      <td>0.228281</td>\n      <td>0.103854</td>\n      <td>0.271361</td>\n      <td>0.152868</td>\n      <td>0.049612</td>\n      <td>0.210126</td>\n      <td>0.072093</td>\n      <td>0.124720</td>\n      <td>0.103169</td>\n      <td>0.115435</td>\n      <td>...</td>\n      <td>0.100416</td>\n      <td>0.256679</td>\n      <td>0.114863</td>\n      <td>0.244893</td>\n      <td>0.168685</td>\n      <td>0.157464</td>\n      <td>1.000000</td>\n      <td>0.195728</td>\n      <td>0.326188</td>\n      <td>0.255393</td>\n    </tr>\n    <tr>\n      <th>979</th>\n      <td>0.146367</td>\n      <td>0.163082</td>\n      <td>0.113753</td>\n      <td>0.126718</td>\n      <td>0.091131</td>\n      <td>0.275090</td>\n      <td>0.114476</td>\n      <td>0.093160</td>\n      <td>0.193388</td>\n      <td>0.106268</td>\n      <td>...</td>\n      <td>0.159370</td>\n      <td>0.176954</td>\n      <td>0.152064</td>\n      <td>0.100849</td>\n      <td>0.120557</td>\n      <td>0.119454</td>\n      <td>0.195728</td>\n      <td>1.000000</td>\n      <td>0.077189</td>\n      <td>0.111102</td>\n    </tr>\n    <tr>\n      <th>980</th>\n      <td>0.199889</td>\n      <td>0.124230</td>\n      <td>0.261994</td>\n      <td>0.181128</td>\n      <td>0.046018</td>\n      <td>0.164105</td>\n      <td>0.039548</td>\n      <td>0.130494</td>\n      <td>0.077534</td>\n      <td>0.107035</td>\n      <td>...</td>\n      <td>0.113734</td>\n      <td>0.290059</td>\n      <td>0.056314</td>\n      <td>0.240593</td>\n      <td>0.107899</td>\n      <td>0.205003</td>\n      <td>0.326188</td>\n      <td>0.077189</td>\n      <td>1.000000</td>\n      <td>0.242667</td>\n    </tr>\n    <tr>\n      <th>981</th>\n      <td>0.335671</td>\n      <td>0.141847</td>\n      <td>0.376439</td>\n      <td>0.217983</td>\n      <td>0.051900</td>\n      <td>0.165722</td>\n      <td>0.033031</td>\n      <td>0.272965</td>\n      <td>0.104075</td>\n      <td>0.160732</td>\n      <td>...</td>\n      <td>0.075302</td>\n      <td>0.281109</td>\n      <td>0.060212</td>\n      <td>0.398823</td>\n      <td>0.182017</td>\n      <td>0.116103</td>\n      <td>0.255393</td>\n      <td>0.111102</td>\n      <td>0.242667</td>\n      <td>1.000000</td>\n    </tr>\n  </tbody>\n</table>\n<p>982 rows × 982 columns</p>\n</div>"
     },
     "metadata": {},
     "execution_count": 78
    }
   ],
   "source": [
    "pd.DataFrame(cosine_similarity(tfidf_matrix[indices_full]))"
   ]
  },
  {
   "cell_type": "code",
   "execution_count": 90,
   "metadata": {},
   "outputs": [
    {
     "output_type": "execute_result",
     "data": {
      "text/plain": [
       "[1631, 3429, 8513, 9497, 10434, 13531, 14011, 17384, 19473, 21106]"
      ]
     },
     "metadata": {},
     "execution_count": 90
    }
   ],
   "source": [
    "indices"
   ]
  },
  {
   "cell_type": "code",
   "execution_count": 79,
   "metadata": {},
   "outputs": [],
   "source": [
    "import seaborn as sns"
   ]
  },
  {
   "cell_type": "code",
   "execution_count": 80,
   "metadata": {},
   "outputs": [
    {
     "output_type": "stream",
     "name": "stderr",
     "text": [
      "C:\\Users\\a814810\\AppData\\Local\\Programs\\Python\\Python38\\lib\\site-packages\\seaborn\\_decorators.py:36: FutureWarning: Pass the following variable as a keyword arg: x. From version 0.12, the only valid positional argument will be `data`, and passing other arguments without an explicit keyword will result in an error or misinterpretation.\n  warnings.warn(\n"
     ]
    },
    {
     "output_type": "execute_result",
     "data": {
      "text/plain": [
       "<AxesSubplot:xlabel='80'>"
      ]
     },
     "metadata": {},
     "execution_count": 80
    },
    {
     "output_type": "display_data",
     "data": {
      "text/plain": "<Figure size 432x288 with 1 Axes>",
      "image/svg+xml": "<?xml version=\"1.0\" encoding=\"utf-8\" standalone=\"no\"?>\r\n<!DOCTYPE svg PUBLIC \"-//W3C//DTD SVG 1.1//EN\"\r\n  \"http://www.w3.org/Graphics/SVG/1.1/DTD/svg11.dtd\">\r\n<svg height=\"262.19625pt\" version=\"1.1\" viewBox=\"0 0 352.7 262.19625\" width=\"352.7pt\" xmlns=\"http://www.w3.org/2000/svg\" xmlns:xlink=\"http://www.w3.org/1999/xlink\">\r\n <metadata>\r\n  <rdf:RDF xmlns:cc=\"http://creativecommons.org/ns#\" xmlns:dc=\"http://purl.org/dc/elements/1.1/\" xmlns:rdf=\"http://www.w3.org/1999/02/22-rdf-syntax-ns#\">\r\n   <cc:Work>\r\n    <dc:type rdf:resource=\"http://purl.org/dc/dcmitype/StillImage\"/>\r\n    <dc:date>2021-04-21T10:53:06.208485</dc:date>\r\n    <dc:format>image/svg+xml</dc:format>\r\n    <dc:creator>\r\n     <cc:Agent>\r\n      <dc:title>Matplotlib v3.4.1, https://matplotlib.org/</dc:title>\r\n     </cc:Agent>\r\n    </dc:creator>\r\n   </cc:Work>\r\n  </rdf:RDF>\r\n </metadata>\r\n <defs>\r\n  <style type=\"text/css\">*{stroke-linecap:butt;stroke-linejoin:round;}</style>\r\n </defs>\r\n <g id=\"figure_1\">\r\n  <g id=\"patch_1\">\r\n   <path d=\"M 0 262.19625 \r\nL 352.7 262.19625 \r\nL 352.7 0 \r\nL 0 0 \r\nz\r\n\" style=\"fill:none;\"/>\r\n  </g>\r\n  <g id=\"axes_1\">\r\n   <g id=\"patch_2\">\r\n    <path d=\"M 10.7 224.64 \r\nL 345.5 224.64 \r\nL 345.5 7.2 \r\nL 10.7 7.2 \r\nz\r\n\" style=\"fill:#ffffff;\"/>\r\n   </g>\r\n   <g id=\"patch_3\">\r\n    <path clip-path=\"url(#pfdf9a14953)\" d=\"M 52.428116 28.944 \r\nL 52.428116 202.896 \r\nL 63.218817 202.896 \r\nL 63.218817 28.944 \r\nL 52.428116 28.944 \r\nz\r\n\" style=\"fill:#3274a1;stroke:#3f3f3f;stroke-linejoin:miter;stroke-width:1.5;\"/>\r\n   </g>\r\n   <g id=\"matplotlib.axis_1\">\r\n    <g id=\"xtick_1\">\r\n     <g id=\"line2d_1\">\r\n      <defs>\r\n       <path d=\"M 0 0 \r\nL 0 3.5 \r\n\" id=\"m04defe2aa4\" style=\"stroke:#000000;stroke-width:0.8;\"/>\r\n      </defs>\r\n      <g>\r\n       <use style=\"stroke:#000000;stroke-width:0.8;\" x=\"23.201586\" xlink:href=\"#m04defe2aa4\" y=\"224.64\"/>\r\n      </g>\r\n     </g>\r\n     <g id=\"text_1\">\r\n      <!-- 0.0 -->\r\n      <g transform=\"translate(15.250023 239.238437)scale(0.1 -0.1)\">\r\n       <defs>\r\n        <path d=\"M 2034 4250 \r\nQ 1547 4250 1301 3770 \r\nQ 1056 3291 1056 2328 \r\nQ 1056 1369 1301 889 \r\nQ 1547 409 2034 409 \r\nQ 2525 409 2770 889 \r\nQ 3016 1369 3016 2328 \r\nQ 3016 3291 2770 3770 \r\nQ 2525 4250 2034 4250 \r\nz\r\nM 2034 4750 \r\nQ 2819 4750 3233 4129 \r\nQ 3647 3509 3647 2328 \r\nQ 3647 1150 3233 529 \r\nQ 2819 -91 2034 -91 \r\nQ 1250 -91 836 529 \r\nQ 422 1150 422 2328 \r\nQ 422 3509 836 4129 \r\nQ 1250 4750 2034 4750 \r\nz\r\n\" id=\"DejaVuSans-30\" transform=\"scale(0.015625)\"/>\r\n        <path d=\"M 684 794 \r\nL 1344 794 \r\nL 1344 0 \r\nL 684 0 \r\nL 684 794 \r\nz\r\n\" id=\"DejaVuSans-2e\" transform=\"scale(0.015625)\"/>\r\n       </defs>\r\n       <use xlink:href=\"#DejaVuSans-30\"/>\r\n       <use x=\"63.623047\" xlink:href=\"#DejaVuSans-2e\"/>\r\n       <use x=\"95.410156\" xlink:href=\"#DejaVuSans-30\"/>\r\n      </g>\r\n     </g>\r\n    </g>\r\n    <g id=\"xtick_2\">\r\n     <g id=\"line2d_2\">\r\n      <g>\r\n       <use style=\"stroke:#000000;stroke-width:0.8;\" x=\"84.617632\" xlink:href=\"#m04defe2aa4\" y=\"224.64\"/>\r\n      </g>\r\n     </g>\r\n     <g id=\"text_2\">\r\n      <!-- 0.2 -->\r\n      <g transform=\"translate(76.66607 239.238437)scale(0.1 -0.1)\">\r\n       <defs>\r\n        <path d=\"M 1228 531 \r\nL 3431 531 \r\nL 3431 0 \r\nL 469 0 \r\nL 469 531 \r\nQ 828 903 1448 1529 \r\nQ 2069 2156 2228 2338 \r\nQ 2531 2678 2651 2914 \r\nQ 2772 3150 2772 3378 \r\nQ 2772 3750 2511 3984 \r\nQ 2250 4219 1831 4219 \r\nQ 1534 4219 1204 4116 \r\nQ 875 4013 500 3803 \r\nL 500 4441 \r\nQ 881 4594 1212 4672 \r\nQ 1544 4750 1819 4750 \r\nQ 2544 4750 2975 4387 \r\nQ 3406 4025 3406 3419 \r\nQ 3406 3131 3298 2873 \r\nQ 3191 2616 2906 2266 \r\nQ 2828 2175 2409 1742 \r\nQ 1991 1309 1228 531 \r\nz\r\n\" id=\"DejaVuSans-32\" transform=\"scale(0.015625)\"/>\r\n       </defs>\r\n       <use xlink:href=\"#DejaVuSans-30\"/>\r\n       <use x=\"63.623047\" xlink:href=\"#DejaVuSans-2e\"/>\r\n       <use x=\"95.410156\" xlink:href=\"#DejaVuSans-32\"/>\r\n      </g>\r\n     </g>\r\n    </g>\r\n    <g id=\"xtick_3\">\r\n     <g id=\"line2d_3\">\r\n      <g>\r\n       <use style=\"stroke:#000000;stroke-width:0.8;\" x=\"146.033679\" xlink:href=\"#m04defe2aa4\" y=\"224.64\"/>\r\n      </g>\r\n     </g>\r\n     <g id=\"text_3\">\r\n      <!-- 0.4 -->\r\n      <g transform=\"translate(138.082116 239.238437)scale(0.1 -0.1)\">\r\n       <defs>\r\n        <path d=\"M 2419 4116 \r\nL 825 1625 \r\nL 2419 1625 \r\nL 2419 4116 \r\nz\r\nM 2253 4666 \r\nL 3047 4666 \r\nL 3047 1625 \r\nL 3713 1625 \r\nL 3713 1100 \r\nL 3047 1100 \r\nL 3047 0 \r\nL 2419 0 \r\nL 2419 1100 \r\nL 313 1100 \r\nL 313 1709 \r\nL 2253 4666 \r\nz\r\n\" id=\"DejaVuSans-34\" transform=\"scale(0.015625)\"/>\r\n       </defs>\r\n       <use xlink:href=\"#DejaVuSans-30\"/>\r\n       <use x=\"63.623047\" xlink:href=\"#DejaVuSans-2e\"/>\r\n       <use x=\"95.410156\" xlink:href=\"#DejaVuSans-34\"/>\r\n      </g>\r\n     </g>\r\n    </g>\r\n    <g id=\"xtick_4\">\r\n     <g id=\"line2d_4\">\r\n      <g>\r\n       <use style=\"stroke:#000000;stroke-width:0.8;\" x=\"207.449725\" xlink:href=\"#m04defe2aa4\" y=\"224.64\"/>\r\n      </g>\r\n     </g>\r\n     <g id=\"text_4\">\r\n      <!-- 0.6 -->\r\n      <g transform=\"translate(199.498163 239.238437)scale(0.1 -0.1)\">\r\n       <defs>\r\n        <path d=\"M 2113 2584 \r\nQ 1688 2584 1439 2293 \r\nQ 1191 2003 1191 1497 \r\nQ 1191 994 1439 701 \r\nQ 1688 409 2113 409 \r\nQ 2538 409 2786 701 \r\nQ 3034 994 3034 1497 \r\nQ 3034 2003 2786 2293 \r\nQ 2538 2584 2113 2584 \r\nz\r\nM 3366 4563 \r\nL 3366 3988 \r\nQ 3128 4100 2886 4159 \r\nQ 2644 4219 2406 4219 \r\nQ 1781 4219 1451 3797 \r\nQ 1122 3375 1075 2522 \r\nQ 1259 2794 1537 2939 \r\nQ 1816 3084 2150 3084 \r\nQ 2853 3084 3261 2657 \r\nQ 3669 2231 3669 1497 \r\nQ 3669 778 3244 343 \r\nQ 2819 -91 2113 -91 \r\nQ 1303 -91 875 529 \r\nQ 447 1150 447 2328 \r\nQ 447 3434 972 4092 \r\nQ 1497 4750 2381 4750 \r\nQ 2619 4750 2861 4703 \r\nQ 3103 4656 3366 4563 \r\nz\r\n\" id=\"DejaVuSans-36\" transform=\"scale(0.015625)\"/>\r\n       </defs>\r\n       <use xlink:href=\"#DejaVuSans-30\"/>\r\n       <use x=\"63.623047\" xlink:href=\"#DejaVuSans-2e\"/>\r\n       <use x=\"95.410156\" xlink:href=\"#DejaVuSans-36\"/>\r\n      </g>\r\n     </g>\r\n    </g>\r\n    <g id=\"xtick_5\">\r\n     <g id=\"line2d_5\">\r\n      <g>\r\n       <use style=\"stroke:#000000;stroke-width:0.8;\" x=\"268.865772\" xlink:href=\"#m04defe2aa4\" y=\"224.64\"/>\r\n      </g>\r\n     </g>\r\n     <g id=\"text_5\">\r\n      <!-- 0.8 -->\r\n      <g transform=\"translate(260.914209 239.238437)scale(0.1 -0.1)\">\r\n       <defs>\r\n        <path d=\"M 2034 2216 \r\nQ 1584 2216 1326 1975 \r\nQ 1069 1734 1069 1313 \r\nQ 1069 891 1326 650 \r\nQ 1584 409 2034 409 \r\nQ 2484 409 2743 651 \r\nQ 3003 894 3003 1313 \r\nQ 3003 1734 2745 1975 \r\nQ 2488 2216 2034 2216 \r\nz\r\nM 1403 2484 \r\nQ 997 2584 770 2862 \r\nQ 544 3141 544 3541 \r\nQ 544 4100 942 4425 \r\nQ 1341 4750 2034 4750 \r\nQ 2731 4750 3128 4425 \r\nQ 3525 4100 3525 3541 \r\nQ 3525 3141 3298 2862 \r\nQ 3072 2584 2669 2484 \r\nQ 3125 2378 3379 2068 \r\nQ 3634 1759 3634 1313 \r\nQ 3634 634 3220 271 \r\nQ 2806 -91 2034 -91 \r\nQ 1263 -91 848 271 \r\nQ 434 634 434 1313 \r\nQ 434 1759 690 2068 \r\nQ 947 2378 1403 2484 \r\nz\r\nM 1172 3481 \r\nQ 1172 3119 1398 2916 \r\nQ 1625 2713 2034 2713 \r\nQ 2441 2713 2670 2916 \r\nQ 2900 3119 2900 3481 \r\nQ 2900 3844 2670 4047 \r\nQ 2441 4250 2034 4250 \r\nQ 1625 4250 1398 4047 \r\nQ 1172 3844 1172 3481 \r\nz\r\n\" id=\"DejaVuSans-38\" transform=\"scale(0.015625)\"/>\r\n       </defs>\r\n       <use xlink:href=\"#DejaVuSans-30\"/>\r\n       <use x=\"63.623047\" xlink:href=\"#DejaVuSans-2e\"/>\r\n       <use x=\"95.410156\" xlink:href=\"#DejaVuSans-38\"/>\r\n      </g>\r\n     </g>\r\n    </g>\r\n    <g id=\"xtick_6\">\r\n     <g id=\"line2d_6\">\r\n      <g>\r\n       <use style=\"stroke:#000000;stroke-width:0.8;\" x=\"330.281818\" xlink:href=\"#m04defe2aa4\" y=\"224.64\"/>\r\n      </g>\r\n     </g>\r\n     <g id=\"text_6\">\r\n      <!-- 1.0 -->\r\n      <g transform=\"translate(322.330256 239.238437)scale(0.1 -0.1)\">\r\n       <defs>\r\n        <path d=\"M 794 531 \r\nL 1825 531 \r\nL 1825 4091 \r\nL 703 3866 \r\nL 703 4441 \r\nL 1819 4666 \r\nL 2450 4666 \r\nL 2450 531 \r\nL 3481 531 \r\nL 3481 0 \r\nL 794 0 \r\nL 794 531 \r\nz\r\n\" id=\"DejaVuSans-31\" transform=\"scale(0.015625)\"/>\r\n       </defs>\r\n       <use xlink:href=\"#DejaVuSans-31\"/>\r\n       <use x=\"63.623047\" xlink:href=\"#DejaVuSans-2e\"/>\r\n       <use x=\"95.410156\" xlink:href=\"#DejaVuSans-30\"/>\r\n      </g>\r\n     </g>\r\n    </g>\r\n    <g id=\"text_7\">\r\n     <!-- 80 -->\r\n     <g transform=\"translate(171.7375 252.916562)scale(0.1 -0.1)\">\r\n      <use xlink:href=\"#DejaVuSans-38\"/>\r\n      <use x=\"63.623047\" xlink:href=\"#DejaVuSans-30\"/>\r\n     </g>\r\n    </g>\r\n   </g>\r\n   <g id=\"matplotlib.axis_2\">\r\n    <g id=\"ytick_1\">\r\n     <g id=\"line2d_7\">\r\n      <defs>\r\n       <path d=\"M 0 0 \r\nL -3.5 0 \r\n\" id=\"m2a5c2b1bdc\" style=\"stroke:#000000;stroke-width:0.8;\"/>\r\n      </defs>\r\n      <g>\r\n       <use style=\"stroke:#000000;stroke-width:0.8;\" x=\"10.7\" xlink:href=\"#m2a5c2b1bdc\" y=\"115.92\"/>\r\n      </g>\r\n     </g>\r\n    </g>\r\n   </g>\r\n   <g id=\"line2d_8\">\r\n    <path clip-path=\"url(#pfdf9a14953)\" d=\"M 52.428116 115.92 \r\nL 36.488752 115.92 \r\n\" style=\"fill:none;stroke:#3f3f3f;stroke-linecap:square;stroke-width:1.5;\"/>\r\n   </g>\r\n   <g id=\"line2d_9\">\r\n    <path clip-path=\"url(#pfdf9a14953)\" d=\"M 63.218817 115.92 \r\nL 78.98354 115.92 \r\n\" style=\"fill:none;stroke:#3f3f3f;stroke-linecap:square;stroke-width:1.5;\"/>\r\n   </g>\r\n   <g id=\"line2d_10\">\r\n    <path clip-path=\"url(#pfdf9a14953)\" d=\"M 36.488752 72.432 \r\nL 36.488752 159.408 \r\n\" style=\"fill:none;stroke:#3f3f3f;stroke-linecap:square;stroke-width:1.5;\"/>\r\n   </g>\r\n   <g id=\"line2d_11\">\r\n    <path clip-path=\"url(#pfdf9a14953)\" d=\"M 78.98354 72.432 \r\nL 78.98354 159.408 \r\n\" style=\"fill:none;stroke:#3f3f3f;stroke-linecap:square;stroke-width:1.5;\"/>\r\n   </g>\r\n   <g id=\"line2d_12\">\r\n    <defs>\r\n     <path d=\"M 0 3.535534 \r\nL 2.12132 0 \r\nL 0 -3.535534 \r\nL -2.12132 0 \r\nz\r\n\" id=\"m7b77deb964\" style=\"stroke:#3f3f3f;stroke-linejoin:miter;\"/>\r\n    </defs>\r\n    <g clip-path=\"url(#pfdf9a14953)\">\r\n     <use style=\"fill:#3f3f3f;stroke:#3f3f3f;stroke-linejoin:miter;\" x=\"34.65288\" xlink:href=\"#m7b77deb964\" y=\"115.92\"/>\r\n     <use style=\"fill:#3f3f3f;stroke:#3f3f3f;stroke-linejoin:miter;\" x=\"25.918182\" xlink:href=\"#m7b77deb964\" y=\"115.92\"/>\r\n     <use style=\"fill:#3f3f3f;stroke:#3f3f3f;stroke-linejoin:miter;\" x=\"35.561392\" xlink:href=\"#m7b77deb964\" y=\"115.92\"/>\r\n     <use style=\"fill:#3f3f3f;stroke:#3f3f3f;stroke-linejoin:miter;\" x=\"32.960657\" xlink:href=\"#m7b77deb964\" y=\"115.92\"/>\r\n     <use style=\"fill:#3f3f3f;stroke:#3f3f3f;stroke-linejoin:miter;\" x=\"35.07903\" xlink:href=\"#m7b77deb964\" y=\"115.92\"/>\r\n     <use style=\"fill:#3f3f3f;stroke:#3f3f3f;stroke-linejoin:miter;\" x=\"34.85464\" xlink:href=\"#m7b77deb964\" y=\"115.92\"/>\r\n     <use style=\"fill:#3f3f3f;stroke:#3f3f3f;stroke-linejoin:miter;\" x=\"34.317823\" xlink:href=\"#m7b77deb964\" y=\"115.92\"/>\r\n     <use style=\"fill:#3f3f3f;stroke:#3f3f3f;stroke-linejoin:miter;\" x=\"33.935549\" xlink:href=\"#m7b77deb964\" y=\"115.92\"/>\r\n     <use style=\"fill:#3f3f3f;stroke:#3f3f3f;stroke-linejoin:miter;\" x=\"31.303057\" xlink:href=\"#m7b77deb964\" y=\"115.92\"/>\r\n     <use style=\"fill:#3f3f3f;stroke:#3f3f3f;stroke-linejoin:miter;\" x=\"34.291308\" xlink:href=\"#m7b77deb964\" y=\"115.92\"/>\r\n     <use style=\"fill:#3f3f3f;stroke:#3f3f3f;stroke-linejoin:miter;\" x=\"30.63869\" xlink:href=\"#m7b77deb964\" y=\"115.92\"/>\r\n     <use style=\"fill:#3f3f3f;stroke:#3f3f3f;stroke-linejoin:miter;\" x=\"35.805714\" xlink:href=\"#m7b77deb964\" y=\"115.92\"/>\r\n     <use style=\"fill:#3f3f3f;stroke:#3f3f3f;stroke-linejoin:miter;\" x=\"35.175998\" xlink:href=\"#m7b77deb964\" y=\"115.92\"/>\r\n     <use style=\"fill:#3f3f3f;stroke:#3f3f3f;stroke-linejoin:miter;\" x=\"35.835057\" xlink:href=\"#m7b77deb964\" y=\"115.92\"/>\r\n     <use style=\"fill:#3f3f3f;stroke:#3f3f3f;stroke-linejoin:miter;\" x=\"32.24112\" xlink:href=\"#m7b77deb964\" y=\"115.92\"/>\r\n     <use style=\"fill:#3f3f3f;stroke:#3f3f3f;stroke-linejoin:miter;\" x=\"30.939916\" xlink:href=\"#m7b77deb964\" y=\"115.92\"/>\r\n     <use style=\"fill:#3f3f3f;stroke:#3f3f3f;stroke-linejoin:miter;\" x=\"35.038102\" xlink:href=\"#m7b77deb964\" y=\"115.92\"/>\r\n     <use style=\"fill:#3f3f3f;stroke:#3f3f3f;stroke-linejoin:miter;\" x=\"29.003981\" xlink:href=\"#m7b77deb964\" y=\"115.92\"/>\r\n     <use style=\"fill:#3f3f3f;stroke:#3f3f3f;stroke-linejoin:miter;\" x=\"34.892311\" xlink:href=\"#m7b77deb964\" y=\"115.92\"/>\r\n     <use style=\"fill:#3f3f3f;stroke:#3f3f3f;stroke-linejoin:miter;\" x=\"30.499849\" xlink:href=\"#m7b77deb964\" y=\"115.92\"/>\r\n     <use style=\"fill:#3f3f3f;stroke:#3f3f3f;stroke-linejoin:miter;\" x=\"34.114122\" xlink:href=\"#m7b77deb964\" y=\"115.92\"/>\r\n     <use style=\"fill:#3f3f3f;stroke:#3f3f3f;stroke-linejoin:miter;\" x=\"28.385068\" xlink:href=\"#m7b77deb964\" y=\"115.92\"/>\r\n     <use style=\"fill:#3f3f3f;stroke:#3f3f3f;stroke-linejoin:miter;\" x=\"29.206245\" xlink:href=\"#m7b77deb964\" y=\"115.92\"/>\r\n     <use style=\"fill:#3f3f3f;stroke:#3f3f3f;stroke-linejoin:miter;\" x=\"35.38954\" xlink:href=\"#m7b77deb964\" y=\"115.92\"/>\r\n     <use style=\"fill:#3f3f3f;stroke:#3f3f3f;stroke-linejoin:miter;\" x=\"34.361896\" xlink:href=\"#m7b77deb964\" y=\"115.92\"/>\r\n     <use style=\"fill:#3f3f3f;stroke:#3f3f3f;stroke-linejoin:miter;\" x=\"33.272337\" xlink:href=\"#m7b77deb964\" y=\"115.92\"/>\r\n     <use style=\"fill:#3f3f3f;stroke:#3f3f3f;stroke-linejoin:miter;\" x=\"90.191687\" xlink:href=\"#m7b77deb964\" y=\"115.92\"/>\r\n     <use style=\"fill:#3f3f3f;stroke:#3f3f3f;stroke-linejoin:miter;\" x=\"108.482686\" xlink:href=\"#m7b77deb964\" y=\"115.92\"/>\r\n     <use style=\"fill:#3f3f3f;stroke:#3f3f3f;stroke-linejoin:miter;\" x=\"330.281818\" xlink:href=\"#m7b77deb964\" y=\"115.92\"/>\r\n     <use style=\"fill:#3f3f3f;stroke:#3f3f3f;stroke-linejoin:miter;\" x=\"79.489378\" xlink:href=\"#m7b77deb964\" y=\"115.92\"/>\r\n     <use style=\"fill:#3f3f3f;stroke:#3f3f3f;stroke-linejoin:miter;\" x=\"95.974805\" xlink:href=\"#m7b77deb964\" y=\"115.92\"/>\r\n     <use style=\"fill:#3f3f3f;stroke:#3f3f3f;stroke-linejoin:miter;\" x=\"92.230946\" xlink:href=\"#m7b77deb964\" y=\"115.92\"/>\r\n     <use style=\"fill:#3f3f3f;stroke:#3f3f3f;stroke-linejoin:miter;\" x=\"88.625056\" xlink:href=\"#m7b77deb964\" y=\"115.92\"/>\r\n     <use style=\"fill:#3f3f3f;stroke:#3f3f3f;stroke-linejoin:miter;\" x=\"93.164462\" xlink:href=\"#m7b77deb964\" y=\"115.92\"/>\r\n     <use style=\"fill:#3f3f3f;stroke:#3f3f3f;stroke-linejoin:miter;\" x=\"83.946983\" xlink:href=\"#m7b77deb964\" y=\"115.92\"/>\r\n     <use style=\"fill:#3f3f3f;stroke:#3f3f3f;stroke-linejoin:miter;\" x=\"80.537268\" xlink:href=\"#m7b77deb964\" y=\"115.92\"/>\r\n     <use style=\"fill:#3f3f3f;stroke:#3f3f3f;stroke-linejoin:miter;\" x=\"79.860719\" xlink:href=\"#m7b77deb964\" y=\"115.92\"/>\r\n     <use style=\"fill:#3f3f3f;stroke:#3f3f3f;stroke-linejoin:miter;\" x=\"92.704992\" xlink:href=\"#m7b77deb964\" y=\"115.92\"/>\r\n     <use style=\"fill:#3f3f3f;stroke:#3f3f3f;stroke-linejoin:miter;\" x=\"88.910418\" xlink:href=\"#m7b77deb964\" y=\"115.92\"/>\r\n     <use style=\"fill:#3f3f3f;stroke:#3f3f3f;stroke-linejoin:miter;\" x=\"83.742822\" xlink:href=\"#m7b77deb964\" y=\"115.92\"/>\r\n     <use style=\"fill:#3f3f3f;stroke:#3f3f3f;stroke-linejoin:miter;\" x=\"86.672578\" xlink:href=\"#m7b77deb964\" y=\"115.92\"/>\r\n     <use style=\"fill:#3f3f3f;stroke:#3f3f3f;stroke-linejoin:miter;\" x=\"105.77088\" xlink:href=\"#m7b77deb964\" y=\"115.92\"/>\r\n     <use style=\"fill:#3f3f3f;stroke:#3f3f3f;stroke-linejoin:miter;\" x=\"85.50809\" xlink:href=\"#m7b77deb964\" y=\"115.92\"/>\r\n     <use style=\"fill:#3f3f3f;stroke:#3f3f3f;stroke-linejoin:miter;\" x=\"79.919855\" xlink:href=\"#m7b77deb964\" y=\"115.92\"/>\r\n     <use style=\"fill:#3f3f3f;stroke:#3f3f3f;stroke-linejoin:miter;\" x=\"96.106848\" xlink:href=\"#m7b77deb964\" y=\"115.92\"/>\r\n     <use style=\"fill:#3f3f3f;stroke:#3f3f3f;stroke-linejoin:miter;\" x=\"84.171327\" xlink:href=\"#m7b77deb964\" y=\"115.92\"/>\r\n     <use style=\"fill:#3f3f3f;stroke:#3f3f3f;stroke-linejoin:miter;\" x=\"83.831516\" xlink:href=\"#m7b77deb964\" y=\"115.92\"/>\r\n    </g>\r\n   </g>\r\n   <g id=\"line2d_13\">\r\n    <path clip-path=\"url(#pfdf9a14953)\" d=\"M 57.995617 28.944 \r\nL 57.995617 202.896 \r\n\" style=\"fill:none;stroke:#3f3f3f;stroke-linecap:square;stroke-width:1.5;\"/>\r\n   </g>\r\n   <g id=\"patch_4\">\r\n    <path d=\"M 10.7 224.64 \r\nL 10.7 7.2 \r\n\" style=\"fill:none;stroke:#000000;stroke-linecap:square;stroke-linejoin:miter;stroke-width:0.8;\"/>\r\n   </g>\r\n   <g id=\"patch_5\">\r\n    <path d=\"M 345.5 224.64 \r\nL 345.5 7.2 \r\n\" style=\"fill:none;stroke:#000000;stroke-linecap:square;stroke-linejoin:miter;stroke-width:0.8;\"/>\r\n   </g>\r\n   <g id=\"patch_6\">\r\n    <path d=\"M 10.7 224.64 \r\nL 345.5 224.64 \r\n\" style=\"fill:none;stroke:#000000;stroke-linecap:square;stroke-linejoin:miter;stroke-width:0.8;\"/>\r\n   </g>\r\n   <g id=\"patch_7\">\r\n    <path d=\"M 10.7 7.2 \r\nL 345.5 7.2 \r\n\" style=\"fill:none;stroke:#000000;stroke-linecap:square;stroke-linejoin:miter;stroke-width:0.8;\"/>\r\n   </g>\r\n  </g>\r\n </g>\r\n <defs>\r\n  <clipPath id=\"pfdf9a14953\">\r\n   <rect height=\"217.44\" width=\"334.8\" x=\"10.7\" y=\"7.2\"/>\r\n  </clipPath>\r\n </defs>\r\n</svg>\r\n",
      "image/png": "[encoded data removed]"
     },
     "metadata": {
      "needs_background": "light"
     }
    }
   ],
   "source": [
    "sns.boxplot(pd.DataFrame(cosine_similarity(tfidf_matrix[indices_full]))[80])"
   ]
  },
  {
   "cell_type": "code",
   "execution_count": 81,
   "metadata": {},
   "outputs": [
    {
     "output_type": "execute_result",
     "data": {
      "text/plain": [
       "array([[1.        , 0.16317732, 0.04994533, 0.09301666, 0.07686079,\n",
       "        0.07566958, 0.07816969, 0.05854491, 0.11324772, 0.05921552],\n",
       "       [0.16317732, 1.        , 0.40160586, 0.25788055, 0.32489819,\n",
       "        0.37044208, 0.30382447, 0.27895077, 0.25732862, 0.37133238],\n",
       "       [0.04994533, 0.40160586, 1.        , 0.25256537, 0.51376766,\n",
       "        0.53866993, 0.41051145, 0.39641514, 0.25764665, 0.56609313],\n",
       "       [0.09301666, 0.25788055, 0.25256537, 1.        , 0.25517619,\n",
       "        0.26846252, 0.37938733, 0.19211244, 0.15529447, 0.24424773],\n",
       "       [0.07686079, 0.32489819, 0.51376766, 0.25517619, 1.        ,\n",
       "        0.49903874, 0.39937188, 0.30898422, 0.22481968, 0.44684299],\n",
       "       [0.07566958, 0.37044208, 0.53866993, 0.26846252, 0.49903874,\n",
       "        1.        , 0.4538862 , 0.33622574, 0.18209755, 0.49600925],\n",
       "       [0.07816969, 0.30382447, 0.41051145, 0.37938733, 0.39937188,\n",
       "        0.4538862 , 1.        , 0.23393911, 0.20992728, 0.39438952],\n",
       "       [0.05854491, 0.27895077, 0.39641514, 0.19211244, 0.30898422,\n",
       "        0.33622574, 0.23393911, 1.        , 0.21807136, 0.33445777],\n",
       "       [0.11324772, 0.25732862, 0.25764665, 0.15529447, 0.22481968,\n",
       "        0.18209755, 0.20992728, 0.21807136, 1.        , 0.24958424],\n",
       "       [0.05921552, 0.37133238, 0.56609313, 0.24424773, 0.44684299,\n",
       "        0.49600925, 0.39438952, 0.33445777, 0.24958424, 1.        ]])"
      ]
     },
     "metadata": {},
     "execution_count": 81
    }
   ],
   "source": [
    "cosine_similarity(tfidf_matrix[indices])"
   ]
  },
  {
   "cell_type": "code",
   "execution_count": 82,
   "metadata": {},
   "outputs": [
    {
     "output_type": "execute_result",
     "data": {
      "text/plain": [
       "count    982.000000\n",
       "mean       0.136259\n",
       "std        0.088651\n",
       "min        0.006644\n",
       "25%        0.069576\n",
       "50%        0.117573\n",
       "75%        0.188088\n",
       "max        1.000000\n",
       "dtype: float64"
      ]
     },
     "metadata": {},
     "execution_count": 82
    }
   ],
   "source": [
    "np.mean(pd.DataFrame(cosine_similarity(tfidf_matrix[indices_full])).describe(), axis=1)"
   ]
  },
  {
   "cell_type": "code",
   "execution_count": 83,
   "metadata": {},
   "outputs": [],
   "source": [
    "matrix_lower = np.tril(cosine_similarity(tfidf_matrix[indices]))\n",
    "np.fill_diagonal(matrix_lower, 0)"
   ]
  },
  {
   "cell_type": "code",
   "execution_count": 84,
   "metadata": {},
   "outputs": [
    {
     "output_type": "execute_result",
     "data": {
      "text/plain": [
       "array([[0.        , 0.        , 0.        , 0.        , 0.        ,\n",
       "        0.        , 0.        , 0.        , 0.        , 0.        ],\n",
       "       [0.16317732, 0.        , 0.        , 0.        , 0.        ,\n",
       "        0.        , 0.        , 0.        , 0.        , 0.        ],\n",
       "       [0.04994533, 0.40160586, 0.        , 0.        , 0.        ,\n",
       "        0.        , 0.        , 0.        , 0.        , 0.        ],\n",
       "       [0.09301666, 0.25788055, 0.25256537, 0.        , 0.        ,\n",
       "        0.        , 0.        , 0.        , 0.        , 0.        ],\n",
       "       [0.07686079, 0.32489819, 0.51376766, 0.25517619, 0.        ,\n",
       "        0.        , 0.        , 0.        , 0.        , 0.        ],\n",
       "       [0.07566958, 0.37044208, 0.53866993, 0.26846252, 0.49903874,\n",
       "        0.        , 0.        , 0.        , 0.        , 0.        ],\n",
       "       [0.07816969, 0.30382447, 0.41051145, 0.37938733, 0.39937188,\n",
       "        0.4538862 , 0.        , 0.        , 0.        , 0.        ],\n",
       "       [0.05854491, 0.27895077, 0.39641514, 0.19211244, 0.30898422,\n",
       "        0.33622574, 0.23393911, 0.        , 0.        , 0.        ],\n",
       "       [0.11324772, 0.25732862, 0.25764665, 0.15529447, 0.22481968,\n",
       "        0.18209755, 0.20992728, 0.21807136, 0.        , 0.        ],\n",
       "       [0.05921552, 0.37133238, 0.56609313, 0.24424773, 0.44684299,\n",
       "        0.49600925, 0.39438952, 0.33445777, 0.24958424, 0.        ]])"
      ]
     },
     "metadata": {},
     "execution_count": 84
    }
   ],
   "source": [
    "matrix_lower"
   ]
  },
  {
   "cell_type": "code",
   "execution_count": 87,
   "metadata": {},
   "outputs": [
    {
     "output_type": "execute_result",
     "data": {
      "text/plain": [
       "(array([2, 4, 5, 5, 6, 6, 9, 9, 9], dtype=int64),\n",
       " array([1, 2, 2, 4, 2, 5, 2, 4, 5], dtype=int64))"
      ]
     },
     "metadata": {},
     "execution_count": 87
    }
   ],
   "source": [
    "np.where(matrix_lower>0.4)"
   ]
  },
  {
   "cell_type": "code",
   "execution_count": 89,
   "metadata": {},
   "outputs": [],
   "source": [
    "similar = pd.DataFrame(np.column_stack(np.where(matrix_lower>0.4)),columns=['first_art','second_art'])"
   ]
  },
  {
   "cell_type": "code",
   "execution_count": 95,
   "metadata": {},
   "outputs": [
    {
     "output_type": "execute_result",
     "data": {
      "text/plain": [
       "0    2\n",
       "1    4\n",
       "2    5\n",
       "3    5\n",
       "4    6\n",
       "5    6\n",
       "6    9\n",
       "7    9\n",
       "8    9\n",
       "Name: first_art, dtype: int64"
      ]
     },
     "metadata": {},
     "execution_count": 95
    }
   ],
   "source": [
    "similar.first_art"
   ]
  },
  {
   "cell_type": "code",
   "execution_count": 99,
   "metadata": {},
   "outputs": [],
   "source": [
    "indices = [x for i, x in enumerate(indices) if i not in list(similar['first_art'])]"
   ]
  },
  {
   "cell_type": "code",
   "execution_count": 100,
   "metadata": {},
   "outputs": [
    {
     "output_type": "execute_result",
     "data": {
      "text/plain": [
       "[1631, 3429, 9497, 17384, 19473]"
      ]
     },
     "metadata": {},
     "execution_count": 100
    }
   ],
   "source": [
    "indices"
   ]
  },
  {
   "cell_type": "code",
   "execution_count": 102,
   "metadata": {},
   "outputs": [],
   "source": [
    "filtered_recs_ind = articles.loc[indices, 'nzz_id']"
   ]
  },
  {
   "cell_type": "code",
   "execution_count": 103,
   "metadata": {},
   "outputs": [
    {
     "output_type": "execute_result",
     "data": {
      "text/plain": [
       "1631     ld.144162\n",
       "3429     ld.142639\n",
       "9497     ld.140834\n",
       "17384    ld.143546\n",
       "19473    ld.146048\n",
       "Name: nzz_id, dtype: object"
      ]
     },
     "metadata": {},
     "execution_count": 103
    }
   ],
   "source": [
    "filtered_recs_ind"
   ]
  },
  {
   "cell_type": "code",
   "execution_count": 105,
   "metadata": {},
   "outputs": [],
   "source": [
    "recs_test = recs.loc[recs.art_id.isin(list(filtered_recs_ind))]"
   ]
  },
  {
   "cell_type": "code",
   "execution_count": 106,
   "metadata": {},
   "outputs": [
    {
     "output_type": "execute_result",
     "data": {
      "text/plain": [
       "       art_id  recStrength  _person_id\n",
       "20  ld.144162     0.356907         411\n",
       "21  ld.142639     0.356454         411\n",
       "22  ld.140834     0.355414         411\n",
       "23  ld.143546     0.355264         411\n",
       "28  ld.146048     0.352580         411"
      ],
      "text/html": "<div>\n<style scoped>\n    .dataframe tbody tr th:only-of-type {\n        vertical-align: middle;\n    }\n\n    .dataframe tbody tr th {\n        vertical-align: top;\n    }\n\n    .dataframe thead th {\n        text-align: right;\n    }\n</style>\n<table border=\"1\" class=\"dataframe\">\n  <thead>\n    <tr style=\"text-align: right;\">\n      <th></th>\n      <th>art_id</th>\n      <th>recStrength</th>\n      <th>_person_id</th>\n    </tr>\n  </thead>\n  <tbody>\n    <tr>\n      <th>20</th>\n      <td>ld.144162</td>\n      <td>0.356907</td>\n      <td>411</td>\n    </tr>\n    <tr>\n      <th>21</th>\n      <td>ld.142639</td>\n      <td>0.356454</td>\n      <td>411</td>\n    </tr>\n    <tr>\n      <th>22</th>\n      <td>ld.140834</td>\n      <td>0.355414</td>\n      <td>411</td>\n    </tr>\n    <tr>\n      <th>23</th>\n      <td>ld.143546</td>\n      <td>0.355264</td>\n      <td>411</td>\n    </tr>\n    <tr>\n      <th>28</th>\n      <td>ld.146048</td>\n      <td>0.352580</td>\n      <td>411</td>\n    </tr>\n  </tbody>\n</table>\n</div>"
     },
     "metadata": {},
     "execution_count": 106
    }
   ],
   "source": [
    "recs_test"
   ]
  },
  {
   "cell_type": "code",
   "execution_count": 115,
   "metadata": {},
   "outputs": [
    {
     "output_type": "execute_result",
     "data": {
      "text/plain": [
       "        art_id  recStrength  _person_id\n",
       "0    ld.138364     0.458265         411\n",
       "1    ld.139822     0.419848         411\n",
       "4    ld.140381     0.400806         411\n",
       "5    ld.141993     0.394523         411\n",
       "6    ld.146206     0.381396         411\n",
       "..         ...          ...         ...\n",
       "977  ld.141173     0.248292         411\n",
       "978  ld.142119     0.248191         411\n",
       "979  ld.145887     0.248153         411\n",
       "980  ld.151375     0.248139         411\n",
       "981  ld.152320     0.248081         411\n",
       "\n",
       "[871 rows x 3 columns]"
      ],
      "text/html": "<div>\n<style scoped>\n    .dataframe tbody tr th:only-of-type {\n        vertical-align: middle;\n    }\n\n    .dataframe tbody tr th {\n        vertical-align: top;\n    }\n\n    .dataframe thead th {\n        text-align: right;\n    }\n</style>\n<table border=\"1\" class=\"dataframe\">\n  <thead>\n    <tr style=\"text-align: right;\">\n      <th></th>\n      <th>art_id</th>\n      <th>recStrength</th>\n      <th>_person_id</th>\n    </tr>\n  </thead>\n  <tbody>\n    <tr>\n      <th>0</th>\n      <td>ld.138364</td>\n      <td>0.458265</td>\n      <td>411</td>\n    </tr>\n    <tr>\n      <th>1</th>\n      <td>ld.139822</td>\n      <td>0.419848</td>\n      <td>411</td>\n    </tr>\n    <tr>\n      <th>4</th>\n      <td>ld.140381</td>\n      <td>0.400806</td>\n      <td>411</td>\n    </tr>\n    <tr>\n      <th>5</th>\n      <td>ld.141993</td>\n      <td>0.394523</td>\n      <td>411</td>\n    </tr>\n    <tr>\n      <th>6</th>\n      <td>ld.146206</td>\n      <td>0.381396</td>\n      <td>411</td>\n    </tr>\n    <tr>\n      <th>...</th>\n      <td>...</td>\n      <td>...</td>\n      <td>...</td>\n    </tr>\n    <tr>\n      <th>977</th>\n      <td>ld.141173</td>\n      <td>0.248292</td>\n      <td>411</td>\n    </tr>\n    <tr>\n      <th>978</th>\n      <td>ld.142119</td>\n      <td>0.248191</td>\n      <td>411</td>\n    </tr>\n    <tr>\n      <th>979</th>\n      <td>ld.145887</td>\n      <td>0.248153</td>\n      <td>411</td>\n    </tr>\n    <tr>\n      <th>980</th>\n      <td>ld.151375</td>\n      <td>0.248139</td>\n      <td>411</td>\n    </tr>\n    <tr>\n      <th>981</th>\n      <td>ld.152320</td>\n      <td>0.248081</td>\n      <td>411</td>\n    </tr>\n  </tbody>\n</table>\n<p>871 rows × 3 columns</p>\n</div>"
     },
     "metadata": {},
     "execution_count": 115
    }
   ],
   "source": [
    "filter_similar_recs(411, tfidf_matrix, 0.6)"
   ]
  },
  {
   "cell_type": "code",
   "execution_count": 111,
   "metadata": {},
   "outputs": [
    {
     "output_type": "execute_result",
     "data": {
      "text/plain": [
       "        art_id  recStrength  _person_id\n",
       "0    ld.138364     0.458265         411\n",
       "1    ld.139822     0.419848         411\n",
       "2    ld.139143     0.409991         411\n",
       "3    ld.141102     0.404845         411\n",
       "4    ld.140381     0.400806         411\n",
       "..         ...          ...         ...\n",
       "977  ld.141173     0.248292         411\n",
       "978  ld.142119     0.248191         411\n",
       "979  ld.145887     0.248153         411\n",
       "980  ld.151375     0.248139         411\n",
       "981  ld.152320     0.248081         411\n",
       "\n",
       "[982 rows x 3 columns]"
      ],
      "text/html": "<div>\n<style scoped>\n    .dataframe tbody tr th:only-of-type {\n        vertical-align: middle;\n    }\n\n    .dataframe tbody tr th {\n        vertical-align: top;\n    }\n\n    .dataframe thead th {\n        text-align: right;\n    }\n</style>\n<table border=\"1\" class=\"dataframe\">\n  <thead>\n    <tr style=\"text-align: right;\">\n      <th></th>\n      <th>art_id</th>\n      <th>recStrength</th>\n      <th>_person_id</th>\n    </tr>\n  </thead>\n  <tbody>\n    <tr>\n      <th>0</th>\n      <td>ld.138364</td>\n      <td>0.458265</td>\n      <td>411</td>\n    </tr>\n    <tr>\n      <th>1</th>\n      <td>ld.139822</td>\n      <td>0.419848</td>\n      <td>411</td>\n    </tr>\n    <tr>\n      <th>2</th>\n      <td>ld.139143</td>\n      <td>0.409991</td>\n      <td>411</td>\n    </tr>\n    <tr>\n      <th>3</th>\n      <td>ld.141102</td>\n      <td>0.404845</td>\n      <td>411</td>\n    </tr>\n    <tr>\n      <th>4</th>\n      <td>ld.140381</td>\n      <td>0.400806</td>\n      <td>411</td>\n    </tr>\n    <tr>\n      <th>...</th>\n      <td>...</td>\n      <td>...</td>\n      <td>...</td>\n    </tr>\n    <tr>\n      <th>977</th>\n      <td>ld.141173</td>\n      <td>0.248292</td>\n      <td>411</td>\n    </tr>\n    <tr>\n      <th>978</th>\n      <td>ld.142119</td>\n      <td>0.248191</td>\n      <td>411</td>\n    </tr>\n    <tr>\n      <th>979</th>\n      <td>ld.145887</td>\n      <td>0.248153</td>\n      <td>411</td>\n    </tr>\n    <tr>\n      <th>980</th>\n      <td>ld.151375</td>\n      <td>0.248139</td>\n      <td>411</td>\n    </tr>\n    <tr>\n      <th>981</th>\n      <td>ld.152320</td>\n      <td>0.248081</td>\n      <td>411</td>\n    </tr>\n  </tbody>\n</table>\n<p>982 rows × 3 columns</p>\n</div>"
     },
     "metadata": {},
     "execution_count": 111
    }
   ],
   "source": [
    "get_recs_for_user(411)"
   ]
  },
  {
   "cell_type": "code",
   "execution_count": null,
   "metadata": {},
   "outputs": [],
   "source": []
  }
 ]
}