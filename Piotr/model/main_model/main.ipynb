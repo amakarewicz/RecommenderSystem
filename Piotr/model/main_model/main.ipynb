{
 "metadata": {
  "language_info": {
   "codemirror_mode": {
    "name": "ipython",
    "version": 3
   },
   "file_extension": ".py",
   "mimetype": "text/x-python",
   "name": "python",
   "nbconvert_exporter": "python",
   "pygments_lexer": "ipython3",
   "version": "3.9.0"
  },
  "orig_nbformat": 2,
  "kernelspec": {
   "name": "python390jvsc74a57bd07799ce36c48005a68e236bac859ea1c436d17ded1a929ff4f5154cd9b5438e8d",
   "display_name": "Python 3.9.0 64-bit"
  }
 },
 "nbformat": 4,
 "nbformat_minor": 2,
 "cells": [
  {
   "cell_type": "code",
   "execution_count": 1,
   "metadata": {},
   "outputs": [],
   "source": [
    "from some_functions import *\n",
    "from popularity_model import *\n",
    "import pandas as pd\n",
    "import numpy as np "
   ]
  },
  {
   "cell_type": "code",
   "execution_count": 2,
   "metadata": {},
   "outputs": [],
   "source": [
    "art_db = get_db(r'C:\\Users\\a814811\\OneDrive - Atos\\RecommenderSystem\\art_clean_wt_all_popularity.csv')\n",
    "user_db = get_db(r'C:\\Users\\a814811\\OneDrive - Atos\\RecommenderSystem\\readers.csv')\n",
    "\n",
    "# user_db = user_db.rename(columns={\"id\":\"user_id\", \"art_id\":\"nzz_id\"})\n",
    "art_db = art_db.loc[:,['nzz_id','author','department','popularity']] #skrócenie do potrzebnych rzeczy"
   ]
  },
  {
   "cell_type": "code",
   "execution_count": 3,
   "metadata": {},
   "outputs": [
    {
     "output_type": "stream",
     "name": "stdout",
     "text": [
      "Popularity_model\n",
      " user ID: 5\n",
      " 8 recommendations:\n",
      "(['1.18108994', 'ld.1086062', 'ld.153813', 'ld.140509', 'ld.137077', 'ld.150497', 'ld.137081', 'ld.150557'], 1)\n",
      "\n",
      "Popularity_model_author\n",
      " user ID: 5\n",
      " 8 recommendations:\n",
      "(['ld.155260', 'ld.1290435', 'ld.139338', 'ld.148526', 'ld.139047', 'ld.142559', 'ld.1294764', 'ld.137610'], 3.61)\n",
      "\n",
      "Popularity_model_department\n",
      " user ID: 5\n",
      " 8 recommendations:\n",
      "(['ld.144297', 'ld.153622', 'ld.138179', 'ld.139916', 'ld.147496', 'ld.153589', 'ld.138751', 'ld.1288368'], 8.0)\n",
      "\n",
      "Popularity_model_merge\n",
      " user ID: 5\n",
      " 8 recommendations:\n",
      "(['ld.144297', 'ld.155260', 'ld.139916', 'ld.138751', 'ld.153589', 'ld.153622', 'ld.138179', 'ld.1290435'], (1, 3.61, 8.0))\n",
      "\n",
      "Popularity_model_merge\n",
      " user ID: -2\n",
      " 8 recommendations:\n",
      "(['1.18108994', 'ld.153477', 'ld.1086062', 'ld.153813', 'ld.140509', 'ld.137077', 'ld.150497', 'ld.137081'], 1)\n",
      "\n"
     ]
    }
   ],
   "source": [
    "User1 = Popularity_model(articles_db=art_db,user_db=user_db)\n",
    "User1a = Popularity_model_author(articles_db=art_db,user_db=user_db)\n",
    "User1d = Popularity_model_department(articles_db=art_db,user_db=user_db)\n",
    "User1m = Popularity_model_merge(articles_db=art_db,user_db=user_db)\n",
    "\n",
    "users = [User1, User1a, User1d, User1m]\n",
    "user_id = 5\n",
    "for User in users:\n",
    "    r = User.recommend(user_id=user_id, limit=8)\n",
    "    print(f'{str(User)[18:-30]}\\n user ID: {user_id}\\n {len(r[0])} recommendations:\\n{r}\\n')\n",
    "\n",
    "r = User.recommend(user_id=-2, limit=8)\n",
    "print(f'{str(User)[18:-30]}\\n user ID: {-2}\\n {len(r[0])} recommendations:\\n{r}\\n')"
   ]
  },
  {
   "cell_type": "code",
   "execution_count": 16,
   "metadata": {},
   "outputs": [
    {
     "output_type": "execute_result",
     "data": {
      "text/plain": [
       "[7, 8, 9]"
      ]
     },
     "metadata": {},
     "execution_count": 16
    }
   ],
   "source": [
    "choose_recomm([[1,2,3],[4,5,6],[7,8,9]],(1,1,10),3)"
   ]
  },
  {
   "cell_type": "code",
   "execution_count": null,
   "metadata": {},
   "outputs": [],
   "source": []
  },
  {
   "cell_type": "code",
   "execution_count": null,
   "metadata": {},
   "outputs": [],
   "source": []
  }
 ]
}