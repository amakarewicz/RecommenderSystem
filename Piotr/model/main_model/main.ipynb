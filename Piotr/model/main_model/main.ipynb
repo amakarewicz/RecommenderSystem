{
 "metadata": {
  "language_info": {
   "codemirror_mode": {
    "name": "ipython",
    "version": 3
   },
   "file_extension": ".py",
   "mimetype": "text/x-python",
   "name": "python",
   "nbconvert_exporter": "python",
   "pygments_lexer": "ipython3",
   "version": "3.9.0"
  },
  "orig_nbformat": 2,
  "kernelspec": {
   "name": "python390jvsc74a57bd07799ce36c48005a68e236bac859ea1c436d17ded1a929ff4f5154cd9b5438e8d",
   "display_name": "Python 3.9.0 64-bit"
  }
 },
 "nbformat": 4,
 "nbformat_minor": 2,
 "cells": [
  {
   "cell_type": "code",
   "execution_count": 1,
   "metadata": {},
   "outputs": [],
   "source": [
    "from some_functions import *\n",
    "from popularity_model import *\n",
    "import pandas as pd\n",
    "import numpy as np "
   ]
  },
  {
   "cell_type": "code",
   "execution_count": 2,
   "metadata": {},
   "outputs": [],
   "source": [
    "art_db = get_db(r'C:\\Users\\a814811\\OneDrive - Atos\\RecommenderSystem\\art_clean_wt_all_popularity.csv')\n",
    "user_db = get_db(r'C:\\Users\\a814811\\OneDrive - Atos\\RecommenderSystem\\readers.csv')\n",
    "\n",
    "# user_db = user_db.rename(columns={\"id\":\"user_id\", \"art_id\":\"nzz_id\"})\n",
    "# art_db = art_db.loc[:,['nzz_id','author','department','popularity']] #skrócenie do potrzebnych rzeczy"
   ]
  },
  {
   "cell_type": "code",
   "execution_count": 3,
   "metadata": {},
   "outputs": [
    {
     "output_type": "stream",
     "name": "stdout",
     "text": [
      "popularity\n user ID: 8\n 10 recommendations:\n['ld.153477', 'ld.153813', 'ld.137077', 'ld.150497', 'ld.137081', 'ld.150557', 'ld.136886', 'ld.137066', 'ld.151480', 'ld.137200']\n\nauthor\n user ID: 8\n 10 recommendations:\n['ld.155260', 'ld.1290435', 'ld.142559', 'ld.138264', 'ld.179158', 'ld.139750', 'ld.142248', 'ld.139476', 'ld.152002', 'ld.151742']\n\ndepartment\n user ID: 8\n 10 recommendations:\n['ld.153589', 'ld.138179', 'ld.1288368', 'ld.141709', 'ld.157295', 'ld.1294739', 'ld.149016', 'ld.152219', 'ld.144297', 'ld.1287117']\n\nfinal\n user ID: 8\n 10 recommendations:\n['ld.157295', 'ld.144297', 'ld.1294739', 'ld.149016', 'ld.153589', 'ld.138548', 'ld.138179', 'ld.1287117', 'ld.1292759', 'ld.1288368']\n\n"
     ]
    }
   ],
   "source": [
    "User1  = Popularity_model(articles_db=art_db,user_db=user_db)\n",
    "User1a = Popularity_model_author(articles_db=art_db,user_db=user_db)\n",
    "User1d = Popularity_model_department(articles_db=art_db,user_db=user_db)\n",
    "User1m = Popularity_model_final(articles_db=art_db,user_db=user_db)\n",
    "\n",
    "users = [User1, User1a, User1d, User1m]\n",
    "user_id = 8\n",
    "for User in users:\n",
    "    r = User.recommend(user_id=user_id, ignored=True, limit=10)\n",
    "    print(f'{User.get_name()}\\n user ID: {user_id}\\n {len(r)} recommendations:\\n{r}\\n')\n",
    "    # r = User.recommend(user_id=user_id, ignored=False, limit=10)\n",
    "    # print(f'{User.get_name()}\\n user ID: {user_id}\\n {len(r)} recommendations:\\n{r}\\n')\n",
    "# r = User1.recommend(user_id=5, limit=5, ignored=['1.18108994','ld.153477','ld.153813'])\n",
    "# print(f'{str(User1)[18:-30]}\\n user ID: {-2}\\n {len(r[0])} recommendations:\\n{r}\\n')"
   ]
  },
  {
   "cell_type": "code",
   "execution_count": 7,
   "metadata": {},
   "outputs": [
    {
     "output_type": "execute_result",
     "data": {
      "text/plain": [
       "5"
      ]
     },
     "metadata": {},
     "execution_count": 7
    }
   ],
   "source": [
    "i= 5\n",
    "exec(f\"a={i}\")\n",
    "a"
   ]
  },
  {
   "cell_type": "code",
   "execution_count": 4,
   "metadata": {},
   "outputs": [
    {
     "output_type": "execute_result",
     "data": {
      "text/plain": [
       "[7, 8, 9]"
      ]
     },
     "metadata": {},
     "execution_count": 4
    }
   ],
   "source": [
    "choose_recomm([[1,2,3],[4,5,6],[7,8,9]],(1,1,10),3)"
   ]
  },
  {
   "cell_type": "code",
   "execution_count": 29,
   "metadata": {},
   "outputs": [],
   "source": [
    "train_db = art_db.sort_values(by='pub_date')[:round(len(art_db)/2)]\n",
    "examine_db = art_db.sort_values(by='pub_date')[round(len(art_db)/2):]"
   ]
  },
  {
   "cell_type": "code",
   "execution_count": 27,
   "metadata": {},
   "outputs": [
    {
     "output_type": "execute_result",
     "data": {
      "text/plain": [
       "22019"
      ]
     },
     "metadata": {},
     "execution_count": 27
    }
   ],
   "source": []
  },
  {
   "cell_type": "code",
   "execution_count": null,
   "metadata": {},
   "outputs": [],
   "source": []
  }
 ]
}