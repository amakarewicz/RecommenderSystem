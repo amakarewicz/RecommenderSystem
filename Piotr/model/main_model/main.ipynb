{
 "metadata": {
  "language_info": {
   "codemirror_mode": {
    "name": "ipython",
    "version": 3
   },
   "file_extension": ".py",
   "mimetype": "text/x-python",
   "name": "python",
   "nbconvert_exporter": "python",
   "pygments_lexer": "ipython3",
   "version": "3.9.0"
  },
  "orig_nbformat": 2,
  "kernelspec": {
   "name": "python390jvsc74a57bd07799ce36c48005a68e236bac859ea1c436d17ded1a929ff4f5154cd9b5438e8d",
   "display_name": "Python 3.9.0 64-bit"
  }
 },
 "nbformat": 4,
 "nbformat_minor": 2,
 "cells": [
  {
   "cell_type": "code",
   "execution_count": 1,
   "metadata": {},
   "outputs": [],
   "source": [
    "from some_functions import *\n",
    "from popularity_model import *\n",
    "import pandas as pd\n",
    "import numpy as np "
   ]
  },
  {
   "cell_type": "code",
   "execution_count": 2,
   "metadata": {},
   "outputs": [],
   "source": [
    "art_db = get_db(r'C:\\Users\\a814811\\OneDrive - Atos\\RecommenderSystem\\art_clean_wt_all_popularity.csv')\n",
    "user_db = get_db(r'C:\\Users\\a814811\\OneDrive - Atos\\RecommenderSystem\\readers.csv')\n",
    "\n",
    "# user_db = user_db.rename(columns={\"id\":\"user_id\", \"art_id\":\"nzz_id\"})\n",
    "# art_db = art_db.loc[:,['nzz_id','author','department','popularity']] #skrócenie do potrzebnych rzeczy"
   ]
  },
  {
   "cell_type": "code",
   "execution_count": 3,
   "metadata": {},
   "outputs": [
    {
     "output_type": "stream",
     "name": "stdout",
     "text": [
      "popularity\n",
      " user ID: 4\n",
      " 10 recommendations:\n",
      "['1.18108994', 'ld.153477', 'ld.1086062', 'ld.153813', 'ld.140509', 'ld.137077', 'ld.137081', 'ld.136886', 'ld.137066', 'ld.151480']\n",
      "\n",
      "author\n",
      " user ID: 4\n",
      " 10 recommendations:\n",
      "['ld.143506', 'ld.1288011', 'ld.911838', 'ld.1288909', 'ld.139898', 'ld.141322', 'ld.144432', 'ld.143074', 'ld.1294017', 'ld.149908']\n",
      "\n",
      "department\n",
      " user ID: 4\n",
      " 10 recommendations:\n",
      "['ld.144297', 'ld.1294034', 'ld.153622', 'ld.148355', 'ld.1288143', 'ld.152971', 'ld.140840', 'ld.1295508', 'ld.147305', 'ld.151085']\n",
      "\n",
      "final\n",
      " user ID: 4\n",
      " 10 recommendations:\n",
      "['ld.143506', '1.18108994', 'ld.153477', 'ld.1288011', 'ld.1086062', 'ld.911838', 'ld.1288909', 'ld.139898', 'ld.141322', 'ld.144432']\n",
      "\n"
     ]
    }
   ],
   "source": [
    "User1  = Popularity_model(articles_db=art_db,user_db=user_db)\n",
    "User1a = Popularity_model_author(articles_db=art_db,user_db=user_db)\n",
    "User1d = Popularity_model_department(articles_db=art_db,user_db=user_db)\n",
    "User1m = Popularity_model_final(articles_db=art_db,user_db=user_db)\n",
    "\n",
    "users = [User1, User1a, User1d, User1m]\n",
    "user_id = 4\n",
    "for User in users:\n",
    "    r = User.recommend(user_id=user_id, ignored=True, limit=10)\n",
    "    print(f'{User.get_name()}\\n user ID: {user_id}\\n {len(r)} recommendations:\\n{r}\\n')\n",
    "    # r = User.recommend(user_id=user_id, ignored=False, limit=10)\n",
    "    # print(f'{User.get_name()}\\n user ID: {user_id}\\n {len(r)} recommendations:\\n{r}\\n')\n",
    "# r = User1.recommend(user_id=5, limit=5, ignored=['1.18108994','ld.153477','ld.153813'])\n",
    "# print(f'{str(User1)[18:-30]}\\n user ID: {-2}\\n {len(r[0])} recommendations:\\n{r}\\n')"
   ]
  },
  {
   "cell_type": "code",
   "execution_count": 4,
   "metadata": {},
   "outputs": [
    {
     "output_type": "stream",
     "name": "stdout",
     "text": [
      "1\n(1.0, 0.9308235294117632, 0.9049411764705744, 0.8988235294117501, 0.8955294117647042, 0.8785882352941196, 0.8781176470588274, 0.8776470588235146, 0.863999999999986, 0.8545882352941204, 0.840470588235283, 0.7924705882352815, 0.7543529411764586, 0.1336470588235271, 0.1228235294117627, 0.1223529411764683, 0.1218823529411745, 0.1190588235294099, 0.1190588235294097, 0.1167058823529393, 0.1162352941176446, 0.1110588235294099, 0.1105882352941158, 0.1063529411764688, 0.1058823529411746, 0.1044705882352924, 0.0969411764705867)\n(['ld.149401', 'ld.138179', 'ld.153622', 'ld.1294034', 'ld.152946'], 1)\n"
     ]
    }
   ],
   "source": [
    "User_X = Popularity_model_final(articles_db=art_db,user_db=user_db)\n",
    "b = User_X.recommend(user_id= 1.1, ev_return=True)\n",
    "# a = User_X.recommend(user_id=133, ev_return=True)\n",
    "# print(User_X.user_articles(User_X.user_db, 133))\n",
    "print(b)\n",
    "# print(a)"
   ]
  },
  {
   "cell_type": "code",
   "execution_count": 3,
   "metadata": {},
   "outputs": [
    {
     "output_type": "error",
     "ename": "ModuleNotFoundError",
     "evalue": "No module named 'cf_model_main'",
     "traceback": [
      "\u001b[1;31m---------------------------------------------------------------------------\u001b[0m",
      "\u001b[1;31mModuleNotFoundError\u001b[0m                       Traceback (most recent call last)",
      "\u001b[1;32m<ipython-input-3-9e4eb47d675a>\u001b[0m in \u001b[0;36m<module>\u001b[1;34m\u001b[0m\n\u001b[1;32m----> 1\u001b[1;33m \u001b[1;32mfrom\u001b[0m \u001b[0mmerged_model\u001b[0m \u001b[1;32mimport\u001b[0m \u001b[0mRecommendation\u001b[0m\u001b[1;33m\u001b[0m\u001b[1;33m\u001b[0m\u001b[0m\n\u001b[0m\u001b[0;32m      2\u001b[0m \u001b[1;33m\u001b[0m\u001b[0m\n\u001b[0;32m      3\u001b[0m \u001b[0mxxx\u001b[0m \u001b[1;33m=\u001b[0m \u001b[0mRecommendation\u001b[0m\u001b[1;33m(\u001b[0m\u001b[0marticles_db\u001b[0m\u001b[1;33m=\u001b[0m\u001b[0mart_db\u001b[0m\u001b[1;33m,\u001b[0m\u001b[0muser_db\u001b[0m\u001b[1;33m=\u001b[0m\u001b[0muser_db\u001b[0m\u001b[1;33m)\u001b[0m\u001b[1;33m\u001b[0m\u001b[1;33m\u001b[0m\u001b[0m\n\u001b[0;32m      4\u001b[0m \u001b[0mxxx\u001b[0m\u001b[1;33m.\u001b[0m\u001b[0mrecommend\u001b[0m\u001b[1;33m(\u001b[0m\u001b[0muser_id\u001b[0m\u001b[1;33m=\u001b[0m\u001b[1;36m0\u001b[0m\u001b[1;33m)\u001b[0m\u001b[1;33m\u001b[0m\u001b[1;33m\u001b[0m\u001b[0m\n",
      "\u001b[1;32mc:\\Users\\a814811\\OneDrive - Atos\\RecommenderSystem\\Piotr\\model\\main_model\\merged_model.py\u001b[0m in \u001b[0;36m<module>\u001b[1;34m\u001b[0m\n\u001b[0;32m      6\u001b[0m \u001b[1;32mfrom\u001b[0m \u001b[0mtyping\u001b[0m \u001b[1;32mimport\u001b[0m \u001b[0mUnion\u001b[0m\u001b[1;33m\u001b[0m\u001b[1;33m\u001b[0m\u001b[0m\n\u001b[0;32m      7\u001b[0m \u001b[1;32mfrom\u001b[0m \u001b[0mpopularity_model\u001b[0m \u001b[1;32mimport\u001b[0m \u001b[0mPopularity_model_final\u001b[0m\u001b[1;33m\u001b[0m\u001b[1;33m\u001b[0m\u001b[0m\n\u001b[1;32m----> 8\u001b[1;33m \u001b[1;32mfrom\u001b[0m \u001b[0mcf_model_main\u001b[0m \u001b[1;32mimport\u001b[0m \u001b[0mCF_model\u001b[0m\u001b[1;33m\u001b[0m\u001b[1;33m\u001b[0m\u001b[0m\n\u001b[0m\u001b[0;32m      9\u001b[0m \u001b[1;33m\u001b[0m\u001b[0m\n\u001b[0;32m     10\u001b[0m \u001b[1;33m\u001b[0m\u001b[0m\n",
      "\u001b[1;31mModuleNotFoundError\u001b[0m: No module named 'cf_model_main'"
     ]
    }
   ],
   "source": [
    "from merged_model import Recommendation\n",
    "\n",
    "xxx = Recommendation(articles_db=art_db,user_db=user_db)\n",
    "xxx.recommend(user_id=0)\n",
    "xxx.recommend(user_id=1)"
   ]
  },
  {
   "cell_type": "code",
   "execution_count": 9,
   "metadata": {},
   "outputs": [
    {
     "output_type": "execute_result",
     "data": {
      "text/plain": [
       "           nzz_id           author                             catchline  \\\n",
       "0       ld.149648  Claudia Gabriel  Obligationenfonds mit fixer Laufzeit   \n",
       "1      1.18145900          Unknown                               Unknown   \n",
       "2       ld.138769          Unknown                     E-Banking-Ausfall   \n",
       "3       ld.143700          Unknown                  Terror in Frankreich   \n",
       "4       ld.149385          Unknown                     Unglück in Panama   \n",
       "...           ...              ...                                   ...   \n",
       "22014   ld.141078          Unknown       Erstes Zeichen des Misstrauens?   \n",
       "22015   ld.149657          Unknown                          Berliner Zoo   \n",
       "22016   ld.153050       Tom Felber          Misslungene Kokaintransporte   \n",
       "22017   ld.153523          Unknown              Saisonstart der Formel 1   \n",
       "22018  1.10144093          Unknown                               Unknown   \n",
       "\n",
       "                                                 content  content_length  \\\n",
       "0         Obligationenfonds mit fixer Laufzeit  Es gi...             704   \n",
       "1                                                    NaN               0   \n",
       "2         E-Banking-Ausfall  Postfinance kämpft mit d...             523   \n",
       "3         Terror in Frankreich  Louvre nach Macheten-...             180   \n",
       "4         Unglück in Panama  Bus prallt gegen eine Ma...             117   \n",
       "...                                                  ...             ...   \n",
       "22014     Erstes Zeichen des Misstrauens?  Seltsame T...             298   \n",
       "22015     Berliner Zoo  Eisbärenbaby Fritz ist tot   ...             317   \n",
       "22016                                                NaN               0   \n",
       "22017                                                NaN               0   \n",
       "22018                                                NaN               0   \n",
       "\n",
       "          department                                          lead_text  \\\n",
       "0           Finanzen  Die Idee ist gut: Statt einer einzigen Obligat...   \n",
       "1           Panorama  Zum Auftakt der Fashion Week in New York zeige...   \n",
       "2           Finanzen  Seit Sonntag funktioniert das E-Banking der Po...   \n",
       "3      International  Einen Tag nach dem Angriff auf Soldaten beim P...   \n",
       "4           Panorama  Bei einem Busunglück in Panama sind 17 Persone...   \n",
       "...              ...                                                ...   \n",
       "22014       Finanzen  Was haben der neue amerikanische Präsident und...   \n",
       "22015       Panorama  Schock für den Berliner Tierpark: Nur gut vier...   \n",
       "22016         Zürich  Ein 62-jähriger gelernter Schweizer Landwirt i...   \n",
       "22017          Sport  Bernie Ecclestone abserviert, schnellere Autos...   \n",
       "22018        Unknown  Uno-Generalsekretär Ban Ki Moon hat kürzlich d...   \n",
       "\n",
       "                      pub_date  \\\n",
       "0      2017-03-09 08:01:21.000   \n",
       "1      2017-04-11 14:00:29.473   \n",
       "2      2017-01-09 13:55:00.000   \n",
       "3      2017-02-04 12:50:25.000   \n",
       "4      2017-03-06 07:31:21.000   \n",
       "...                        ...   \n",
       "22014  2017-01-20 19:47:10.000   \n",
       "22015  2017-03-07 10:10:10.000   \n",
       "22016  2017-03-23 15:00:00.000   \n",
       "22017  2017-03-26 04:45:00.000   \n",
       "22018  2017-04-11 13:55:15.016   \n",
       "\n",
       "                                                 title  popularity  \\\n",
       "0                  Es gibt noch interessante Varianten    0.009009   \n",
       "1                                Fashion Week New York    0.000000   \n",
       "2                    Postfinance kämpft mit dem System    0.009009   \n",
       "3         Louvre nach Macheten-Angriff wieder geöffnet    0.004505   \n",
       "4      Bus prallt gegen eine Mauer und stürzt in Fluss    0.000000   \n",
       "...                                                ...         ...   \n",
       "22014                 Seltsame Tweets gegen den Dollar    0.009009   \n",
       "22015                       Eisbärenbaby Fritz ist tot    0.009009   \n",
       "22016                          Der Mann im Hintergrund    0.000000   \n",
       "22017                Fährt Lewis Hamilton allen davon?    0.004505   \n",
       "22018                           Die Frauen der Revolte    0.000000   \n",
       "\n",
       "       author_occurences  author_popularity  department_occurences  \\\n",
       "0                     57           0.157593                    597   \n",
       "1                      0           0.000000                   1952   \n",
       "2                      0           0.000000                    597   \n",
       "3                      0           0.000000                   3589   \n",
       "4                      0           0.000000                   1952   \n",
       "...                  ...                ...                    ...   \n",
       "22014                  0           0.000000                    597   \n",
       "22015                  0           0.000000                   1952   \n",
       "22016                 78           0.135626                   1239   \n",
       "22017                  0           0.000000                   2261   \n",
       "22018                  0           0.000000                      0   \n",
       "\n",
       "       department_popularity  \n",
       "0                   0.904941  \n",
       "1                   1.000000  \n",
       "2                   0.904941  \n",
       "3                   0.878118  \n",
       "4                   1.000000  \n",
       "...                      ...  \n",
       "22014               0.904941  \n",
       "22015               1.000000  \n",
       "22016               0.116235  \n",
       "22017               0.878588  \n",
       "22018               0.000000  \n",
       "\n",
       "[22019 rows x 14 columns]"
      ],
      "text/html": "<div>\n<style scoped>\n    .dataframe tbody tr th:only-of-type {\n        vertical-align: middle;\n    }\n\n    .dataframe tbody tr th {\n        vertical-align: top;\n    }\n\n    .dataframe thead th {\n        text-align: right;\n    }\n</style>\n<table border=\"1\" class=\"dataframe\">\n  <thead>\n    <tr style=\"text-align: right;\">\n      <th></th>\n      <th>nzz_id</th>\n      <th>author</th>\n      <th>catchline</th>\n      <th>content</th>\n      <th>content_length</th>\n      <th>department</th>\n      <th>lead_text</th>\n      <th>pub_date</th>\n      <th>title</th>\n      <th>popularity</th>\n      <th>author_occurences</th>\n      <th>author_popularity</th>\n      <th>department_occurences</th>\n      <th>department_popularity</th>\n    </tr>\n  </thead>\n  <tbody>\n    <tr>\n      <th>0</th>\n      <td>ld.149648</td>\n      <td>Claudia Gabriel</td>\n      <td>Obligationenfonds mit fixer Laufzeit</td>\n      <td>Obligationenfonds mit fixer Laufzeit  Es gi...</td>\n      <td>704</td>\n      <td>Finanzen</td>\n      <td>Die Idee ist gut: Statt einer einzigen Obligat...</td>\n      <td>2017-03-09 08:01:21.000</td>\n      <td>Es gibt noch interessante Varianten</td>\n      <td>0.009009</td>\n      <td>57</td>\n      <td>0.157593</td>\n      <td>597</td>\n      <td>0.904941</td>\n    </tr>\n    <tr>\n      <th>1</th>\n      <td>1.18145900</td>\n      <td>Unknown</td>\n      <td>Unknown</td>\n      <td>NaN</td>\n      <td>0</td>\n      <td>Panorama</td>\n      <td>Zum Auftakt der Fashion Week in New York zeige...</td>\n      <td>2017-04-11 14:00:29.473</td>\n      <td>Fashion Week New York</td>\n      <td>0.000000</td>\n      <td>0</td>\n      <td>0.000000</td>\n      <td>1952</td>\n      <td>1.000000</td>\n    </tr>\n    <tr>\n      <th>2</th>\n      <td>ld.138769</td>\n      <td>Unknown</td>\n      <td>E-Banking-Ausfall</td>\n      <td>E-Banking-Ausfall  Postfinance kämpft mit d...</td>\n      <td>523</td>\n      <td>Finanzen</td>\n      <td>Seit Sonntag funktioniert das E-Banking der Po...</td>\n      <td>2017-01-09 13:55:00.000</td>\n      <td>Postfinance kämpft mit dem System</td>\n      <td>0.009009</td>\n      <td>0</td>\n      <td>0.000000</td>\n      <td>597</td>\n      <td>0.904941</td>\n    </tr>\n    <tr>\n      <th>3</th>\n      <td>ld.143700</td>\n      <td>Unknown</td>\n      <td>Terror in Frankreich</td>\n      <td>Terror in Frankreich  Louvre nach Macheten-...</td>\n      <td>180</td>\n      <td>International</td>\n      <td>Einen Tag nach dem Angriff auf Soldaten beim P...</td>\n      <td>2017-02-04 12:50:25.000</td>\n      <td>Louvre nach Macheten-Angriff wieder geöffnet</td>\n      <td>0.004505</td>\n      <td>0</td>\n      <td>0.000000</td>\n      <td>3589</td>\n      <td>0.878118</td>\n    </tr>\n    <tr>\n      <th>4</th>\n      <td>ld.149385</td>\n      <td>Unknown</td>\n      <td>Unglück in Panama</td>\n      <td>Unglück in Panama  Bus prallt gegen eine Ma...</td>\n      <td>117</td>\n      <td>Panorama</td>\n      <td>Bei einem Busunglück in Panama sind 17 Persone...</td>\n      <td>2017-03-06 07:31:21.000</td>\n      <td>Bus prallt gegen eine Mauer und stürzt in Fluss</td>\n      <td>0.000000</td>\n      <td>0</td>\n      <td>0.000000</td>\n      <td>1952</td>\n      <td>1.000000</td>\n    </tr>\n    <tr>\n      <th>...</th>\n      <td>...</td>\n      <td>...</td>\n      <td>...</td>\n      <td>...</td>\n      <td>...</td>\n      <td>...</td>\n      <td>...</td>\n      <td>...</td>\n      <td>...</td>\n      <td>...</td>\n      <td>...</td>\n      <td>...</td>\n      <td>...</td>\n      <td>...</td>\n    </tr>\n    <tr>\n      <th>22014</th>\n      <td>ld.141078</td>\n      <td>Unknown</td>\n      <td>Erstes Zeichen des Misstrauens?</td>\n      <td>Erstes Zeichen des Misstrauens?  Seltsame T...</td>\n      <td>298</td>\n      <td>Finanzen</td>\n      <td>Was haben der neue amerikanische Präsident und...</td>\n      <td>2017-01-20 19:47:10.000</td>\n      <td>Seltsame Tweets gegen den Dollar</td>\n      <td>0.009009</td>\n      <td>0</td>\n      <td>0.000000</td>\n      <td>597</td>\n      <td>0.904941</td>\n    </tr>\n    <tr>\n      <th>22015</th>\n      <td>ld.149657</td>\n      <td>Unknown</td>\n      <td>Berliner Zoo</td>\n      <td>Berliner Zoo  Eisbärenbaby Fritz ist tot   ...</td>\n      <td>317</td>\n      <td>Panorama</td>\n      <td>Schock für den Berliner Tierpark: Nur gut vier...</td>\n      <td>2017-03-07 10:10:10.000</td>\n      <td>Eisbärenbaby Fritz ist tot</td>\n      <td>0.009009</td>\n      <td>0</td>\n      <td>0.000000</td>\n      <td>1952</td>\n      <td>1.000000</td>\n    </tr>\n    <tr>\n      <th>22016</th>\n      <td>ld.153050</td>\n      <td>Tom Felber</td>\n      <td>Misslungene Kokaintransporte</td>\n      <td>NaN</td>\n      <td>0</td>\n      <td>Zürich</td>\n      <td>Ein 62-jähriger gelernter Schweizer Landwirt i...</td>\n      <td>2017-03-23 15:00:00.000</td>\n      <td>Der Mann im Hintergrund</td>\n      <td>0.000000</td>\n      <td>78</td>\n      <td>0.135626</td>\n      <td>1239</td>\n      <td>0.116235</td>\n    </tr>\n    <tr>\n      <th>22017</th>\n      <td>ld.153523</td>\n      <td>Unknown</td>\n      <td>Saisonstart der Formel 1</td>\n      <td>NaN</td>\n      <td>0</td>\n      <td>Sport</td>\n      <td>Bernie Ecclestone abserviert, schnellere Autos...</td>\n      <td>2017-03-26 04:45:00.000</td>\n      <td>Fährt Lewis Hamilton allen davon?</td>\n      <td>0.004505</td>\n      <td>0</td>\n      <td>0.000000</td>\n      <td>2261</td>\n      <td>0.878588</td>\n    </tr>\n    <tr>\n      <th>22018</th>\n      <td>1.10144093</td>\n      <td>Unknown</td>\n      <td>Unknown</td>\n      <td>NaN</td>\n      <td>0</td>\n      <td>Unknown</td>\n      <td>Uno-Generalsekretär Ban Ki Moon hat kürzlich d...</td>\n      <td>2017-04-11 13:55:15.016</td>\n      <td>Die Frauen der Revolte</td>\n      <td>0.000000</td>\n      <td>0</td>\n      <td>0.000000</td>\n      <td>0</td>\n      <td>0.000000</td>\n    </tr>\n  </tbody>\n</table>\n<p>22019 rows × 14 columns</p>\n</div>"
     },
     "metadata": {},
     "execution_count": 9
    }
   ],
   "source": [
    "art_db"
   ]
  },
  {
   "cell_type": "code",
   "execution_count": 8,
   "metadata": {},
   "outputs": [
    {
     "output_type": "execute_result",
     "data": {
      "text/plain": [
       "array([[ 1,  2],\n",
       "       [ 4,  6],\n",
       "       [12, 15]])"
      ]
     },
     "metadata": {},
     "execution_count": 8
    }
   ],
   "source": [
    "w_inner = np.array([[1,2],[2,3],[4,5]])\n",
    "ratio = (1,2,3)\n",
    "for i, evs in enumerate(w_inner):\n",
    "        w_inner[i] = np.array(evs)*ratio[i] \n",
    "w_inner"
   ]
  },
  {
   "cell_type": "code",
   "execution_count": null,
   "metadata": {},
   "outputs": [],
   "source": []
  }
 ]
}