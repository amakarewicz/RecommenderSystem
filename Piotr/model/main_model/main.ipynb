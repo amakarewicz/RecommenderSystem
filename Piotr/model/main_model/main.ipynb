{
 "metadata": {
  "language_info": {
   "codemirror_mode": {
    "name": "ipython",
    "version": 3
   },
   "file_extension": ".py",
   "mimetype": "text/x-python",
   "name": "python",
   "nbconvert_exporter": "python",
   "pygments_lexer": "ipython3",
   "version": "3.9.0"
  },
  "orig_nbformat": 2,
  "kernelspec": {
   "name": "python390jvsc74a57bd07799ce36c48005a68e236bac859ea1c436d17ded1a929ff4f5154cd9b5438e8d",
   "display_name": "Python 3.9.0 64-bit"
  }
 },
 "nbformat": 4,
 "nbformat_minor": 2,
 "cells": [
  {
   "cell_type": "code",
   "execution_count": 1,
   "metadata": {},
   "outputs": [
    {
     "output_type": "error",
     "ename": "NameError",
     "evalue": "name 'self' is not defined",
     "traceback": [
      "\u001b[1;31m---------------------------------------------------------------------------\u001b[0m",
      "\u001b[1;31mNameError\u001b[0m                                 Traceback (most recent call last)",
      "\u001b[1;32m<ipython-input-1-2b6188bdad43>\u001b[0m in \u001b[0;36m<module>\u001b[1;34m\u001b[0m\n\u001b[0;32m      1\u001b[0m \u001b[1;32mfrom\u001b[0m \u001b[0msome_functions\u001b[0m \u001b[1;32mimport\u001b[0m \u001b[1;33m*\u001b[0m\u001b[1;33m\u001b[0m\u001b[1;33m\u001b[0m\u001b[0m\n\u001b[1;32m----> 2\u001b[1;33m \u001b[1;32mfrom\u001b[0m \u001b[0mpopularity_model\u001b[0m \u001b[1;32mimport\u001b[0m \u001b[1;33m*\u001b[0m\u001b[1;33m\u001b[0m\u001b[1;33m\u001b[0m\u001b[0m\n\u001b[0m\u001b[0;32m      3\u001b[0m \u001b[1;32mimport\u001b[0m \u001b[0mpandas\u001b[0m \u001b[1;32mas\u001b[0m \u001b[0mpd\u001b[0m\u001b[1;33m\u001b[0m\u001b[1;33m\u001b[0m\u001b[0m\n\u001b[0;32m      4\u001b[0m \u001b[1;32mimport\u001b[0m \u001b[0mnumpy\u001b[0m \u001b[1;32mas\u001b[0m \u001b[0mnp\u001b[0m\u001b[1;33m\u001b[0m\u001b[1;33m\u001b[0m\u001b[0m\n",
      "\u001b[1;32mc:\\Users\\a814811\\OneDrive - Atos\\RecommenderSystem\\Piotr\\model\\main_model\\popularity_model.py\u001b[0m in \u001b[0;36m<module>\u001b[1;34m\u001b[0m\n\u001b[0;32m      1\u001b[0m \u001b[1;32mfrom\u001b[0m \u001b[0msome_functions\u001b[0m \u001b[1;32mimport\u001b[0m \u001b[0mget_db\u001b[0m\u001b[1;33m,\u001b[0m \u001b[0mchoose_recomm\u001b[0m\u001b[1;33m,\u001b[0m \u001b[0mevaluation\u001b[0m\u001b[1;33m\u001b[0m\u001b[1;33m\u001b[0m\u001b[0m\n\u001b[1;32m----> 2\u001b[1;33m \u001b[1;32mfrom\u001b[0m \u001b[0mabstract_model_class\u001b[0m \u001b[1;32mimport\u001b[0m \u001b[0mRecommendation_model\u001b[0m\u001b[1;33m\u001b[0m\u001b[1;33m\u001b[0m\u001b[0m\n\u001b[0m\u001b[0;32m      3\u001b[0m \u001b[1;32mimport\u001b[0m \u001b[0mpandas\u001b[0m \u001b[1;32mas\u001b[0m \u001b[0mpd\u001b[0m\u001b[1;33m\u001b[0m\u001b[1;33m\u001b[0m\u001b[0m\n\u001b[0;32m      4\u001b[0m \u001b[1;32mfrom\u001b[0m \u001b[0mtyping\u001b[0m \u001b[1;32mimport\u001b[0m \u001b[0mUnion\u001b[0m\u001b[1;33m\u001b[0m\u001b[1;33m\u001b[0m\u001b[0m\n\u001b[0;32m      5\u001b[0m \u001b[1;33m\u001b[0m\u001b[0m\n",
      "\u001b[1;32mc:\\Users\\a814811\\OneDrive - Atos\\RecommenderSystem\\Piotr\\model\\main_model\\abstract_model_class.py\u001b[0m in \u001b[0;36m<module>\u001b[1;34m\u001b[0m\n\u001b[0;32m      4\u001b[0m \u001b[1;33m\u001b[0m\u001b[0m\n\u001b[0;32m      5\u001b[0m \u001b[1;33m\u001b[0m\u001b[0m\n\u001b[1;32m----> 6\u001b[1;33m \u001b[1;32mclass\u001b[0m \u001b[0mRecommendation_model\u001b[0m\u001b[1;33m(\u001b[0m\u001b[0mABC\u001b[0m\u001b[1;33m)\u001b[0m\u001b[1;33m:\u001b[0m\u001b[1;33m\u001b[0m\u001b[1;33m\u001b[0m\u001b[0m\n\u001b[0m\u001b[0;32m      7\u001b[0m     \"\"\"\n\u001b[0;32m      8\u001b[0m     \u001b[0mAbstract\u001b[0m \u001b[1;32mclass\u001b[0m \u001b[1;32mfor\u001b[0m \u001b[0mrecommendation_models\u001b[0m\u001b[1;33m\u001b[0m\u001b[1;33m\u001b[0m\u001b[0m\n",
      "\u001b[1;32mc:\\Users\\a814811\\OneDrive - Atos\\RecommenderSystem\\Piotr\\model\\main_model\\abstract_model_class.py\u001b[0m in \u001b[0;36mRecommendation_model\u001b[1;34m()\u001b[0m\n\u001b[0;32m     49\u001b[0m     \u001b[1;33m@\u001b[0m\u001b[0mabstractmethod\u001b[0m\u001b[1;33m\u001b[0m\u001b[1;33m\u001b[0m\u001b[0m\n\u001b[0;32m     50\u001b[0m     def recommend(self, user_id: int, limit: int = 5, ignored: Union[list,bool] = True,\n\u001b[1;32m---> 51\u001b[1;33m                   \u001b[0marticles_db\u001b[0m\u001b[1;33m:\u001b[0m \u001b[0mpd\u001b[0m\u001b[1;33m.\u001b[0m\u001b[0mDataFrame\u001b[0m \u001b[1;33m=\u001b[0m \u001b[0mself\u001b[0m\u001b[1;33m.\u001b[0m\u001b[0marticles_db\u001b[0m\u001b[1;33m,\u001b[0m\u001b[1;33m\u001b[0m\u001b[1;33m\u001b[0m\u001b[0m\n\u001b[0m\u001b[0;32m     52\u001b[0m                   user_db: pd.DataFrame = self.user_db) -> list:\n\u001b[0;32m     53\u001b[0m         \"\"\" recommend method, returning list of <limit> ID's recommended by model\n",
      "\u001b[1;31mNameError\u001b[0m: name 'self' is not defined"
     ]
    }
   ],
   "source": [
    "from some_functions import *\n",
    "from popularity_model import *\n",
    "import pandas as pd\n",
    "import numpy as np "
   ]
  },
  {
   "cell_type": "code",
   "execution_count": 2,
   "metadata": {},
   "outputs": [],
   "source": [
    "art_db = get_db(r'C:\\Users\\a814811\\OneDrive - Atos\\RecommenderSystem\\art_clean_wt_all_popularity.csv')\n",
    "user_db = get_db(r'C:\\Users\\a814811\\OneDrive - Atos\\RecommenderSystem\\readers.csv')\n",
    "\n",
    "# user_db = user_db.rename(columns={\"id\":\"user_id\", \"art_id\":\"nzz_id\"})\n",
    "# art_db = art_db.loc[:,['nzz_id','author','department','popularity']] #skrócenie do potrzebnych rzeczy"
   ]
  },
  {
   "cell_type": "code",
   "execution_count": 3,
   "metadata": {},
   "outputs": [
    {
     "output_type": "stream",
     "name": "stdout",
     "text": [
      "popularity\n",
      " user ID: 8\n",
      " 10 recommendations:\n",
      "['ld.153477', 'ld.153813', 'ld.137077', 'ld.150497', 'ld.137081', 'ld.150557', 'ld.136886', 'ld.137066', 'ld.151480', 'ld.137200']\n",
      "\n",
      "author\n",
      " user ID: 8\n",
      " 10 recommendations:\n",
      "['ld.139750', 'ld.179158', 'ld.145959', 'ld.155260', 'ld.1292514', 'ld.138264', 'ld.1290435', 'ld.1292759', 'ld.139476', 'ld.142559']\n",
      "\n",
      "department\n",
      " user ID: 8\n",
      " 10 recommendations:\n",
      "['ld.138179', 'ld.153589', 'ld.138264', 'ld.155260', 'ld.1290435', 'ld.157295', 'ld.149016', 'ld.1288368', 'ld.138548', 'ld.1294739']\n",
      "\n",
      "final\n",
      " user ID: 8\n",
      " 10 recommendations:\n",
      "['ld.138264', 'ld.144297', 'ld.138179', 'ld.1287117', 'ld.153477', 'ld.139750', 'ld.1294739', 'ld.157295', 'ld.179158', 'ld.149016']\n",
      "\n"
     ]
    }
   ],
   "source": [
    "User1  = Popularity_model(articles_db=art_db,user_db=user_db)\n",
    "User1a = Popularity_model_author(articles_db=art_db,user_db=user_db)\n",
    "User1d = Popularity_model_department(articles_db=art_db,user_db=user_db)\n",
    "User1m = Popularity_model_final(articles_db=art_db,user_db=user_db)\n",
    "\n",
    "users = [User1, User1a, User1d, User1m]\n",
    "user_id = 8\n",
    "for User in users:\n",
    "    r = User.recommend(user_id=user_id, ignored=True, limit=10)\n",
    "    print(f'{User.get_name()}\\n user ID: {user_id}\\n {len(r)} recommendations:\\n{r}\\n')\n",
    "    # r = User.recommend(user_id=user_id, ignored=False, limit=10)\n",
    "    # print(f'{User.get_name()}\\n user ID: {user_id}\\n {len(r)} recommendations:\\n{r}\\n')\n",
    "# r = User1.recommend(user_id=5, limit=5, ignored=['1.18108994','ld.153477','ld.153813'])\n",
    "# print(f'{str(User1)[18:-30]}\\n user ID: {-2}\\n {len(r[0])} recommendations:\\n{r}\\n')"
   ]
  },
  {
   "cell_type": "code",
   "execution_count": 7,
   "metadata": {},
   "outputs": [
    {
     "output_type": "execute_result",
     "data": {
      "text/plain": [
       "['ld.147869', 'ld.157295', 'ld.138132', 'ld.149016', 'ld.148218']"
      ]
     },
     "metadata": {},
     "execution_count": 7
    }
   ],
   "source": [
    "User_X = Popularity_model_author(articles_db=art_db,user_db=user_db)\n",
    "User_X.recommend(user_id='x')"
   ]
  },
  {
   "cell_type": "code",
   "execution_count": null,
   "metadata": {},
   "outputs": [],
   "source": []
  },
  {
   "cell_type": "code",
   "execution_count": null,
   "metadata": {},
   "outputs": [],
   "source": []
  }
 ]
}