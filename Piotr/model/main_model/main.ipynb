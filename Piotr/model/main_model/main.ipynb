{
 "metadata": {
  "language_info": {
   "codemirror_mode": {
    "name": "ipython",
    "version": 3
   },
   "file_extension": ".py",
   "mimetype": "text/x-python",
   "name": "python",
   "nbconvert_exporter": "python",
   "pygments_lexer": "ipython3",
   "version": "3.9.0-final"
  },
  "orig_nbformat": 2,
  "kernelspec": {
   "name": "python390jvsc74a57bd07799ce36c48005a68e236bac859ea1c436d17ded1a929ff4f5154cd9b5438e8d",
   "display_name": "Python 3.9.0 64-bit"
  }
 },
 "nbformat": 4,
 "nbformat_minor": 2,
 "cells": [
  {
   "cell_type": "code",
   "execution_count": 1,
   "metadata": {},
   "outputs": [],
   "source": [
    "from some_functions import \n",
    "from popularity_model import *\n",
    "import pandas as pd\n",
    "import numpy as np "
   ]
  },
  {
   "cell_type": "code",
   "execution_count": 2,
   "metadata": {},
   "outputs": [],
   "source": [
    "art_db = get_db(r'C:\\Users\\a814811\\OneDrive - Atos\\RecommenderSystem\\art_clean_wt_all_popularity.csv')\n",
    "user_db = get_db(r'C:\\Users\\a814811\\OneDrive - Atos\\RecommenderSystem\\readers.csv')\n",
    "\n",
    "art_db = art_db.loc[:,['nzz_id','author','department','popularity']] #skrócenie do potrzebnych rzeczy"
   ]
  },
  {
   "cell_type": "code",
   "execution_count": 4,
   "metadata": {},
   "outputs": [
    {
     "output_type": "stream",
     "name": "stdout",
     "text": [
      "Popularity_model\n user ID: 5\n 8 recommendations:\n(['1.18108994', 'ld.1086062', 'ld.153813', 'ld.140509', 'ld.137077', 'ld.150497', 'ld.137081', 'ld.150557'], 1)\n\nPopularity_model_author\n user ID: 5\n 8 recommendations:\n(['ld.139338', 'ld.155260', 'ld.1290435', 'ld.148526', 'ld.142559', 'ld.1290811', 'ld.142248', 'ld.139047'], 3.61)\n\nPopularity_model_department\n user ID: 5\n 8 recommendations:\n(['ld.138179', 'ld.144297', 'ld.1287117', 'ld.153622', 'ld.154109', 'ld.139916', 'ld.138751', 'ld.150096'], 8.0)\n\nPopularity_model_merge\n user ID: 5\n 8 recommendations:\n(['ld.139338', 'ld.153589', 'ld.144297', '1.18108994', 'ld.155260', 'ld.147496', 'ld.148526', 'ld.153622'], (1, 3.61, 8.0))\n\n"
     ]
    }
   ],
   "source": [
    "User1 = Popularity_model(user_id=5,articles_db=art_db,user_db=user_db)\n",
    "User1a = Popularity_model_author(user_id=5,articles_db=art_db,user_db=user_db)\n",
    "User1d = Popularity_model_department(user_id=5,articles_db=art_db,user_db=user_db)\n",
    "User1m = Popularity_model_merge(user_id=5,articles_db=art_db,user_db=user_db)\n",
    "\n",
    "# User2 = Popularity_model(user_id=-3,articles_db=art_db,user_db=user_db)\n",
    "# User3 = Popularity_model(user_id=2,articles_db=art_db,user_db=user_db)\n",
    "\n",
    "\n",
    "users = [User1, User1a, User1d, User1m]\n",
    "for User in users:\n",
    "    r = User.recomm(limit=8)\n",
    "    print(f'{str(User)[18:-30]}\\n user ID: {User.user}\\n {len(r[0])} recommendations:\\n{r}\\n')"
   ]
  },
  {
   "cell_type": "code",
   "execution_count": null,
   "metadata": {},
   "outputs": [],
   "source": []
  }
 ]
}