{
 "metadata": {
  "language_info": {
   "codemirror_mode": {
    "name": "ipython",
    "version": 3
   },
   "file_extension": ".py",
   "mimetype": "text/x-python",
   "name": "python",
   "nbconvert_exporter": "python",
   "pygments_lexer": "ipython3",
   "version": "3.9.0"
  },
  "orig_nbformat": 2,
  "kernelspec": {
   "name": "python390jvsc74a57bd07799ce36c48005a68e236bac859ea1c436d17ded1a929ff4f5154cd9b5438e8d",
   "display_name": "Python 3.9.0 64-bit"
  }
 },
 "nbformat": 4,
 "nbformat_minor": 2,
 "cells": [
  {
   "cell_type": "code",
   "execution_count": 2,
   "metadata": {},
   "outputs": [],
   "source": [
    "from some_functions import *\n",
    "from popularity_model import *\n",
    "import pandas as pd\n",
    "import numpy as np "
   ]
  },
  {
   "cell_type": "code",
   "execution_count": 2,
   "metadata": {},
   "outputs": [],
   "source": [
    "art_db = get_db(r'C:\\Users\\a814811\\OneDrive - Atos\\RecommenderSystem\\art_clean_wt_all_popularity.csv')\n",
    "user_db = get_db(r'C:\\Users\\a814811\\OneDrive - Atos\\RecommenderSystem\\readers.csv')\n",
    "\n",
    "# user_db = user_db.rename(columns={\"id\":\"user_id\", \"art_id\":\"nzz_id\"})\n",
    "# art_db = art_db.loc[:,['nzz_id','author','department','popularity']] #skrócenie do potrzebnych rzeczy"
   ]
  },
  {
   "cell_type": "code",
   "execution_count": 3,
   "metadata": {},
   "outputs": [
    {
     "output_type": "stream",
     "name": "stdout",
     "text": [
      "popularity\n",
      " user ID: 4\n",
      " 10 recommendations:\n",
      "['1.18108994', 'ld.153477', 'ld.1086062', 'ld.153813', 'ld.140509', 'ld.137077', 'ld.137081', 'ld.136886', 'ld.137066', 'ld.151480']\n",
      "\n",
      "author\n",
      " user ID: 4\n",
      " 10 recommendations:\n",
      "['ld.143506', 'ld.1288011', 'ld.911838', 'ld.1288909', 'ld.139898', 'ld.141322', 'ld.144432', 'ld.143074', 'ld.1294017', 'ld.149908']\n",
      "\n",
      "department\n",
      " user ID: 4\n",
      " 10 recommendations:\n",
      "['ld.1288143', 'ld.144297', 'ld.154923', 'ld.1294034', 'ld.140840', 'ld.1292759', 'ld.1288486', 'ld.152485', 'ld.1295508', 'ld.1292320']\n",
      "\n",
      "final\n",
      " user ID: 4\n",
      " 10 recommendations:\n",
      "['1.18108994', 'ld.143506', 'ld.153477', 'ld.1288011', 'ld.1086062', 'ld.153813', 'ld.140509', 'ld.137077', 'ld.137081', 'ld.136886']\n",
      "\n"
     ]
    }
   ],
   "source": [
    "User1  = Popularity_model(articles_db=art_db,user_db=user_db)\n",
    "User1a = Popularity_model_author(articles_db=art_db,user_db=user_db)\n",
    "User1d = Popularity_model_department(articles_db=art_db,user_db=user_db)\n",
    "User1m = Popularity_model_final(articles_db=art_db,user_db=user_db)\n",
    "\n",
    "users = [User1, User1a, User1d, User1m]\n",
    "user_id = 4\n",
    "for User in users:\n",
    "    r = User.recommend(user_id=user_id, ignored=True, limit=10)\n",
    "    print(f'{User.get_name()}\\n user ID: {user_id}\\n {len(r)} recommendations:\\n{r}\\n')\n",
    "    # r = User.recommend(user_id=user_id, ignored=False, limit=10)\n",
    "    # print(f'{User.get_name()}\\n user ID: {user_id}\\n {len(r)} recommendations:\\n{r}\\n')\n",
    "# r = User1.recommend(user_id=5, limit=5, ignored=['1.18108994','ld.153477','ld.153813'])\n",
    "# print(f'{str(User1)[18:-30]}\\n user ID: {-2}\\n {len(r[0])} recommendations:\\n{r}\\n')"
   ]
  },
  {
   "cell_type": "code",
   "execution_count": 3,
   "metadata": {},
   "outputs": [
    {
     "output_type": "stream",
     "name": "stdout",
     "text": [
      "(['ld.155260', 'ld.1290435', 'ld.139338', 'ld.148526', 'ld.142559'], [0.5753803316757633, 0.5669151663480301, 0.5008976718498465, 0.5008976718498465, 0.5669151663480301])\n"
     ]
    }
   ],
   "source": [
    "User_X = Popularity_model_final(articles_db=art_db,user_db=user_db)\n",
    "a = User_X.recommend(user_id=5, ev_return=True)\n",
    "print(a)"
   ]
  },
  {
   "cell_type": "code",
   "execution_count": 4,
   "metadata": {},
   "outputs": [
    {
     "output_type": "execute_result",
     "data": {
      "text/plain": [
       "['ld.1293241', 'ld.147496', 'ld.1294739', 'ld.138179', 'ld.154109']"
      ]
     },
     "metadata": {},
     "execution_count": 4
    }
   ],
   "source": [
    "from merged_model import Recommendation\n",
    "\n",
    "xxx = Recommendation(articles_db=art_db,user_db=user_db)\n",
    "xxx.recommend(user_id=5)0"
   ]
  },
  {
   "cell_type": "code",
   "execution_count": 6,
   "metadata": {},
   "outputs": [
    {
     "output_type": "execute_result",
     "data": {
      "text/plain": [
       "           nzz_id               author                      catchline  \\\n",
       "12193   ld.154923              Unknown                 Medienberichte   \n",
       "16914   ld.152485              Unknown            Fund in der Schweiz   \n",
       "21870   ld.153641          Alois Feusi                   Agrardrohnen   \n",
       "21090  1.18067460              Unknown                        Unknown   \n",
       "12732  1.17938328              Unknown                        Unknown   \n",
       "...           ...                  ...                            ...   \n",
       "11366  1.18343112              Unknown                        Unknown   \n",
       "11396  ld.1287627  Manuela Nyffenegger  Betrug bei «Wetten, dass...?»   \n",
       "11399  1.18177662              Unknown                        Unknown   \n",
       "11405  1.18132244              Unknown                        Unknown   \n",
       "11112  1.18051144              Unknown                        Unknown   \n",
       "\n",
       "                                                 content  content_length  \\\n",
       "12193                                                NaN               0   \n",
       "16914     Fund in der Schweiz  Polizei stösst auf 350...             161   \n",
       "21870                                                NaN               0   \n",
       "21090                                                NaN               0   \n",
       "12732                                                NaN               0   \n",
       "...                                                  ...             ...   \n",
       "11366                                                NaN               0   \n",
       "11396                                                NaN               1   \n",
       "11399                                                NaN               0   \n",
       "11405                                                NaN               0   \n",
       "11112                                                NaN               0   \n",
       "\n",
       "      department                                          lead_text  \\\n",
       "12193   Panorama  Fünf Frauen haben offenbar erwogen, den Modera...   \n",
       "16914   Panorama  Die Polizei ermittelt gegen einen 38 Jahre alt...   \n",
       "21870   Panorama  Betreiber von Flugrobotern entdecken die Landw...   \n",
       "21090   Panorama  Nachdem auf dem MIT-Gelände in Cambridge ein P...   \n",
       "12732   Panorama  Der Schauspieler Gérard Depardieu, das «Enfant...   \n",
       "...          ...                                                ...   \n",
       "11366   Panorama  Die Phase zum Abtransport des Kreuzfahrtschiff...   \n",
       "11396   Panorama  Er hatte 1988 nicht nur die Wett-Tester vom ZD...   \n",
       "11399   Panorama  Die düstere Gestalt des Schurken Fantômas ist ...   \n",
       "11405   Panorama  Perseiden heissen die Sternschnuppen, die wie ...   \n",
       "11112   Panorama                               Mein bestes RS-Bild.   \n",
       "\n",
       "                      pub_date  \\\n",
       "12193  2017-04-02 12:30:56.523   \n",
       "16914  2017-03-20 14:41:50.000   \n",
       "21870  2017-03-27 03:30:00.000   \n",
       "21090  2017-04-11 13:59:17.198   \n",
       "12732  2017-04-11 13:58:34.055   \n",
       "...                        ...   \n",
       "11366  2017-04-11 14:03:57.267   \n",
       "11396  2017-04-19 10:08:44.734   \n",
       "11399  2017-04-11 14:01:00.282   \n",
       "11405  2017-04-11 14:00:13.767   \n",
       "11112  2017-04-11 13:59:03.052   \n",
       "\n",
       "                                                   title  popularity  \\\n",
       "12193  Fox-Star soll Geld zur Vermeidung von Missbrau...    0.031532   \n",
       "16914         Polizei stösst auf 3500 Marihuana-Pflanzen    0.027027   \n",
       "21870                                  Fliegende Knechte    0.027027   \n",
       "21090                            Grossfahndung in Boston    0.027027   \n",
       "12732                                   Gérard Depardieu    0.027027   \n",
       "...                                                  ...         ...   \n",
       "11366                    Abtransport der Costa Concordia    0.000000   \n",
       "11396           Bernd Fritz, der Farbenlutscher, ist tot    0.000000   \n",
       "11399                  Fantômas – Antiheld und Kultfigur    0.000000   \n",
       "11405                                     Sternschnuppen    0.000000   \n",
       "11112                              RS-Fotos 1950er-Jahre    0.000000   \n",
       "\n",
       "       author_occurences  author_popularity  department_occurences  \\\n",
       "12193                  0           0.000000                   1952   \n",
       "16914                  0           0.000000                   1952   \n",
       "21870                 46           0.044890                   1952   \n",
       "21090                  0           0.000000                   1952   \n",
       "12732                  0           0.000000                   1952   \n",
       "...                  ...                ...                    ...   \n",
       "11366                  0           0.000000                   1952   \n",
       "11396                 21           0.047755                   1952   \n",
       "11399                  0           0.000000                   1952   \n",
       "11405                  0           0.000000                   1952   \n",
       "11112                  0           0.000000                   1952   \n",
       "\n",
       "       department_popularity  \n",
       "12193                    1.0  \n",
       "16914                    1.0  \n",
       "21870                    1.0  \n",
       "21090                    1.0  \n",
       "12732                    1.0  \n",
       "...                      ...  \n",
       "11366                    1.0  \n",
       "11396                    1.0  \n",
       "11399                    1.0  \n",
       "11405                    1.0  \n",
       "11112                    1.0  \n",
       "\n",
       "[1952 rows x 14 columns]"
      ],
      "text/html": "<div>\n<style scoped>\n    .dataframe tbody tr th:only-of-type {\n        vertical-align: middle;\n    }\n\n    .dataframe tbody tr th {\n        vertical-align: top;\n    }\n\n    .dataframe thead th {\n        text-align: right;\n    }\n</style>\n<table border=\"1\" class=\"dataframe\">\n  <thead>\n    <tr style=\"text-align: right;\">\n      <th></th>\n      <th>nzz_id</th>\n      <th>author</th>\n      <th>catchline</th>\n      <th>content</th>\n      <th>content_length</th>\n      <th>department</th>\n      <th>lead_text</th>\n      <th>pub_date</th>\n      <th>title</th>\n      <th>popularity</th>\n      <th>author_occurences</th>\n      <th>author_popularity</th>\n      <th>department_occurences</th>\n      <th>department_popularity</th>\n    </tr>\n  </thead>\n  <tbody>\n    <tr>\n      <th>12193</th>\n      <td>ld.154923</td>\n      <td>Unknown</td>\n      <td>Medienberichte</td>\n      <td>NaN</td>\n      <td>0</td>\n      <td>Panorama</td>\n      <td>Fünf Frauen haben offenbar erwogen, den Modera...</td>\n      <td>2017-04-02 12:30:56.523</td>\n      <td>Fox-Star soll Geld zur Vermeidung von Missbrau...</td>\n      <td>0.031532</td>\n      <td>0</td>\n      <td>0.000000</td>\n      <td>1952</td>\n      <td>1.0</td>\n    </tr>\n    <tr>\n      <th>16914</th>\n      <td>ld.152485</td>\n      <td>Unknown</td>\n      <td>Fund in der Schweiz</td>\n      <td>Fund in der Schweiz  Polizei stösst auf 350...</td>\n      <td>161</td>\n      <td>Panorama</td>\n      <td>Die Polizei ermittelt gegen einen 38 Jahre alt...</td>\n      <td>2017-03-20 14:41:50.000</td>\n      <td>Polizei stösst auf 3500 Marihuana-Pflanzen</td>\n      <td>0.027027</td>\n      <td>0</td>\n      <td>0.000000</td>\n      <td>1952</td>\n      <td>1.0</td>\n    </tr>\n    <tr>\n      <th>21870</th>\n      <td>ld.153641</td>\n      <td>Alois Feusi</td>\n      <td>Agrardrohnen</td>\n      <td>NaN</td>\n      <td>0</td>\n      <td>Panorama</td>\n      <td>Betreiber von Flugrobotern entdecken die Landw...</td>\n      <td>2017-03-27 03:30:00.000</td>\n      <td>Fliegende Knechte</td>\n      <td>0.027027</td>\n      <td>46</td>\n      <td>0.044890</td>\n      <td>1952</td>\n      <td>1.0</td>\n    </tr>\n    <tr>\n      <th>21090</th>\n      <td>1.18067460</td>\n      <td>Unknown</td>\n      <td>Unknown</td>\n      <td>NaN</td>\n      <td>0</td>\n      <td>Panorama</td>\n      <td>Nachdem auf dem MIT-Gelände in Cambridge ein P...</td>\n      <td>2017-04-11 13:59:17.198</td>\n      <td>Grossfahndung in Boston</td>\n      <td>0.027027</td>\n      <td>0</td>\n      <td>0.000000</td>\n      <td>1952</td>\n      <td>1.0</td>\n    </tr>\n    <tr>\n      <th>12732</th>\n      <td>1.17938328</td>\n      <td>Unknown</td>\n      <td>Unknown</td>\n      <td>NaN</td>\n      <td>0</td>\n      <td>Panorama</td>\n      <td>Der Schauspieler Gérard Depardieu, das «Enfant...</td>\n      <td>2017-04-11 13:58:34.055</td>\n      <td>Gérard Depardieu</td>\n      <td>0.027027</td>\n      <td>0</td>\n      <td>0.000000</td>\n      <td>1952</td>\n      <td>1.0</td>\n    </tr>\n    <tr>\n      <th>...</th>\n      <td>...</td>\n      <td>...</td>\n      <td>...</td>\n      <td>...</td>\n      <td>...</td>\n      <td>...</td>\n      <td>...</td>\n      <td>...</td>\n      <td>...</td>\n      <td>...</td>\n      <td>...</td>\n      <td>...</td>\n      <td>...</td>\n      <td>...</td>\n    </tr>\n    <tr>\n      <th>11366</th>\n      <td>1.18343112</td>\n      <td>Unknown</td>\n      <td>Unknown</td>\n      <td>NaN</td>\n      <td>0</td>\n      <td>Panorama</td>\n      <td>Die Phase zum Abtransport des Kreuzfahrtschiff...</td>\n      <td>2017-04-11 14:03:57.267</td>\n      <td>Abtransport der Costa Concordia</td>\n      <td>0.000000</td>\n      <td>0</td>\n      <td>0.000000</td>\n      <td>1952</td>\n      <td>1.0</td>\n    </tr>\n    <tr>\n      <th>11396</th>\n      <td>ld.1287627</td>\n      <td>Manuela Nyffenegger</td>\n      <td>Betrug bei «Wetten, dass...?»</td>\n      <td>NaN</td>\n      <td>1</td>\n      <td>Panorama</td>\n      <td>Er hatte 1988 nicht nur die Wett-Tester vom ZD...</td>\n      <td>2017-04-19 10:08:44.734</td>\n      <td>Bernd Fritz, der Farbenlutscher, ist tot</td>\n      <td>0.000000</td>\n      <td>21</td>\n      <td>0.047755</td>\n      <td>1952</td>\n      <td>1.0</td>\n    </tr>\n    <tr>\n      <th>11399</th>\n      <td>1.18177662</td>\n      <td>Unknown</td>\n      <td>Unknown</td>\n      <td>NaN</td>\n      <td>0</td>\n      <td>Panorama</td>\n      <td>Die düstere Gestalt des Schurken Fantômas ist ...</td>\n      <td>2017-04-11 14:01:00.282</td>\n      <td>Fantômas – Antiheld und Kultfigur</td>\n      <td>0.000000</td>\n      <td>0</td>\n      <td>0.000000</td>\n      <td>1952</td>\n      <td>1.0</td>\n    </tr>\n    <tr>\n      <th>11405</th>\n      <td>1.18132244</td>\n      <td>Unknown</td>\n      <td>Unknown</td>\n      <td>NaN</td>\n      <td>0</td>\n      <td>Panorama</td>\n      <td>Perseiden heissen die Sternschnuppen, die wie ...</td>\n      <td>2017-04-11 14:00:13.767</td>\n      <td>Sternschnuppen</td>\n      <td>0.000000</td>\n      <td>0</td>\n      <td>0.000000</td>\n      <td>1952</td>\n      <td>1.0</td>\n    </tr>\n    <tr>\n      <th>11112</th>\n      <td>1.18051144</td>\n      <td>Unknown</td>\n      <td>Unknown</td>\n      <td>NaN</td>\n      <td>0</td>\n      <td>Panorama</td>\n      <td>Mein bestes RS-Bild.</td>\n      <td>2017-04-11 13:59:03.052</td>\n      <td>RS-Fotos 1950er-Jahre</td>\n      <td>0.000000</td>\n      <td>0</td>\n      <td>0.000000</td>\n      <td>1952</td>\n      <td>1.0</td>\n    </tr>\n  </tbody>\n</table>\n<p>1952 rows × 14 columns</p>\n</div>"
     },
     "metadata": {},
     "execution_count": 6
    }
   ],
   "source": []
  },
  {
   "cell_type": "code",
   "execution_count": 8,
   "metadata": {},
   "outputs": [
    {
     "output_type": "execute_result",
     "data": {
      "text/plain": [
       "array([[ 1,  2],\n",
       "       [ 4,  6],\n",
       "       [12, 15]])"
      ]
     },
     "metadata": {},
     "execution_count": 8
    }
   ],
   "source": [
    "w_inner = np.array([[1,2],[2,3],[4,5]])\n",
    "ratio = (1,2,3)\n",
    "for i, evs in enumerate(w_inner):\n",
    "        w_inner[i] = np.array(evs)*ratio[i] \n",
    "w_inner"
   ]
  },
  {
   "cell_type": "code",
   "execution_count": null,
   "metadata": {},
   "outputs": [],
   "source": []
  }
 ]
}