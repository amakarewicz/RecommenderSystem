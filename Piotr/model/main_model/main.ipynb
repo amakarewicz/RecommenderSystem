{
 "metadata": {
  "language_info": {
   "codemirror_mode": {
    "name": "ipython",
    "version": 3
   },
   "file_extension": ".py",
   "mimetype": "text/x-python",
   "name": "python",
   "nbconvert_exporter": "python",
   "pygments_lexer": "ipython3",
   "version": "3.9.0"
  },
  "orig_nbformat": 2,
  "kernelspec": {
   "name": "python390jvsc74a57bd07799ce36c48005a68e236bac859ea1c436d17ded1a929ff4f5154cd9b5438e8d",
   "display_name": "Python 3.9.0 64-bit"
  }
 },
 "nbformat": 4,
 "nbformat_minor": 2,
 "cells": [
  {
   "cell_type": "code",
   "execution_count": 1,
   "metadata": {},
   "outputs": [],
   "source": [
    "from some_functions import *\n",
    "from popularity_model import *\n",
    "import pandas as pd\n",
    "import numpy as np "
   ]
  },
  {
   "cell_type": "code",
   "execution_count": 2,
   "metadata": {},
   "outputs": [],
   "source": [
    "art_db = get_db(r'C:\\Users\\a814811\\OneDrive - Atos\\RecommenderSystem\\art_clean_wt_all_popularity.csv')\n",
    "user_db = get_db(r'C:\\Users\\a814811\\OneDrive - Atos\\RecommenderSystem\\readers.csv')\n",
    "\n",
    "# user_db = user_db.rename(columns={\"id\":\"user_id\", \"art_id\":\"nzz_id\"})\n",
    "art_db = art_db.loc[:,['nzz_id','author','department','popularity']] #skrócenie do potrzebnych rzeczy"
   ]
  },
  {
   "cell_type": "code",
   "execution_count": 4,
   "metadata": {},
   "outputs": [
    {
     "output_type": "stream",
     "name": "stdout",
     "text": [
      "popularity\n",
      " user ID: 5\n",
      " 8 recommendations:\n",
      "(['1.18108994', 'ld.1086062', 'ld.153813', 'ld.140509', 'ld.137077', 'ld.150497', 'ld.137081', 'ld.150557'], 1)\n",
      "\n",
      "author\n",
      " user ID: 5\n",
      " 8 recommendations:\n",
      "(['ld.155260', 'ld.1290435', 'ld.139338', 'ld.142559', 'ld.1290811', 'ld.142248', 'ld.148526', 'ld.139047'], 3.61)\n",
      "\n",
      "department\n",
      " user ID: 5\n",
      " 8 recommendations:\n",
      "(['ld.138179', 'ld.154109', 'ld.139916', 'ld.138264', 'ld.138751', 'ld.155260', 'ld.153622', 'ld.150096'], 8.0)\n",
      "\n",
      "merged\n",
      " user ID: 5\n",
      " 8 recommendations:\n",
      "(['ld.153589', 'ld.139916', 'ld.139338', 'ld.148526', 'ld.155260', 'ld.147496', '1.18108994', 'ld.1290435'], (1, 3.61, 8.0))\n",
      "\n"
     ]
    }
   ],
   "source": [
    "User1 = Popularity_model(articles_db=art_db,user_db=user_db)\n",
    "User1a = Popularity_model_author(articles_db=art_db,user_db=user_db)\n",
    "User1d = Popularity_model_department(articles_db=art_db,user_db=user_db)\n",
    "User1m = Popularity_model_final(articles_db=art_db,user_db=user_db)\n",
    "\n",
    "users = [User1, User1a, User1d, User1m]\n",
    "user_id = 5\n",
    "for User in users:\n",
    "    r = User.recommend(user_id=user_id, limit=8,ignored=True)\n",
    "    print(f'{User.get_name()}\\n user ID: {user_id}\\n {len(r[0])} recommendations:\\n{r}\\n')\n",
    "\n",
    "# r = User1.recommend(user_id=5, limit=5, ignored=['1.18108994','ld.153477','ld.153813'])\n",
    "# print(f'{str(User1)[18:-30]}\\n user ID: {-2}\\n {len(r[0])} recommendations:\\n{r}\\n')"
   ]
  },
  {
   "cell_type": "code",
   "execution_count": 16,
   "metadata": {},
   "outputs": [
    {
     "output_type": "execute_result",
     "data": {
      "text/plain": [
       "[7, 8, 9]"
      ]
     },
     "metadata": {},
     "execution_count": 16
    }
   ],
   "source": [
    "choose_recomm([[1,2,3],[4,5,6],[7,8,9]],(1,1,10),3)"
   ]
  },
  {
   "cell_type": "code",
   "execution_count": null,
   "metadata": {},
   "outputs": [],
   "source": []
  },
  {
   "cell_type": "code",
   "execution_count": null,
   "metadata": {},
   "outputs": [],
   "source": []
  }
 ]
}