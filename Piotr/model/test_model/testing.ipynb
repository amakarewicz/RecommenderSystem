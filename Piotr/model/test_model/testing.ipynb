{
 "metadata": {
  "language_info": {
   "codemirror_mode": {
    "name": "ipython",
    "version": 3
   },
   "file_extension": ".py",
   "mimetype": "text/x-python",
   "name": "python",
   "nbconvert_exporter": "python",
   "pygments_lexer": "ipython3",
   "version": "3.9.0-final"
  },
  "orig_nbformat": 2,
  "kernelspec": {
   "name": "python390jvsc74a57bd07799ce36c48005a68e236bac859ea1c436d17ded1a929ff4f5154cd9b5438e8d",
   "display_name": "Python 3.9.0 64-bit"
  }
 },
 "nbformat": 4,
 "nbformat_minor": 2,
 "cells": [
  {
   "cell_type": "code",
   "execution_count": 1,
   "metadata": {},
   "outputs": [],
   "source": [
    "from some_functions import *\n",
    "from popularity_model import *\n",
    "import pandas as pd\n",
    "import numpy as np "
   ]
  },
  {
   "cell_type": "code",
   "execution_count": 2,
   "metadata": {},
   "outputs": [],
   "source": [
    "art_db = get_db(r'C:\\Users\\a814811\\OneDrive - Atos\\RecommenderSystem\\art_clean_wt_all_popularity.csv')\n",
    "user_db = get_db(r'C:\\Users\\a814811\\OneDrive - Atos\\RecommenderSystem\\readers.csv')"
   ]
  },
  {
   "cell_type": "code",
   "execution_count": 9,
   "metadata": {},
   "outputs": [
    {
     "output_type": "stream",
     "name": "stdout",
     "text": [
      "Empty DataFrame\nColumns: [model, user, number_of_recomm, user_articles, precision, recall, model_ev]\nIndex: []\n"
     ]
    }
   ],
   "source": [
    "# create empty DF\n",
    "col = ['model','user','number_of_recomm','user_articles','precision','recall','model_ev']\n",
    "results = pd.DataFrame(columns=col)\n",
    "print(results)"
   ]
  },
  {
   "cell_type": "code",
   "execution_count": 10,
   "metadata": {},
   "outputs": [
    {
     "output_type": "stream",
     "name": "stdout",
     "text": [
      "            model user number_of_recomm user_articles  precision    recall  \\\n14360  popularity  718                1            42        1.0  0.023810   \n19440  popularity  972                1            18        1.0  0.055556   \n3780   popularity  189                1            50        1.0  0.020000   \n3781   popularity  189                2            50        1.0  0.040000   \n3782   popularity  189                3            50        1.0  0.060000   \n...           ...  ...              ...           ...        ...       ...   \n12580  popularity  629                1            44        0.0  0.000000   \n4962   popularity  248                3            44        0.0  0.000000   \n4961   popularity  248                2            44        0.0  0.000000   \n4960   popularity  248                1            44        0.0  0.000000   \n0      popularity    0                1             0        0.0       NaN   \n\n      model_ev  \n14360        1  \n19440        1  \n3780         1  \n3781         1  \n3782         1  \n...        ...  \n12580        1  \n4962         1  \n4961         1  \n4960         1  \n0            1  \n\n[20020 rows x 7 columns]\n"
     ]
    }
   ],
   "source": [
    "# zmienić limit, tak żeby do maxa było (?)\n",
    "for us in range(1001):\n",
    "    for li in range(1,21):\n",
    "        User1 = Popularity_model(user_id=us,articles_db=art_db,user_db=user_db).recomm(limit=li)\n",
    "        \n",
    "        df_to_add = pd.DataFrame([['popularity', us, li, len(User1[1]),precision(User1[0],User1[1]),                                             recall(User1[0],User1[1]),User1[2]]],columns=col)\n",
    "        results = results.append(df_to_add, ignore_index=True)\n",
    "\n",
    "\n",
    "print(results.sort_values(by='precision',ascending=False))"
   ]
  },
  {
   "cell_type": "code",
   "execution_count": null,
   "metadata": {},
   "outputs": [],
   "source": [
    "results.to_csv(\"art_clean_wt_popul_authoroccurences.csv\", encoding=\"utf-8\", index=False)"
   ]
  }
 ]
}