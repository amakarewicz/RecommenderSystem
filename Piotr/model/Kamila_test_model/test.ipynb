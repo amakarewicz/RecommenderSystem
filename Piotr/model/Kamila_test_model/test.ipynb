{
 "metadata": {
  "language_info": {
   "codemirror_mode": {
    "name": "ipython",
    "version": 3
   },
   "file_extension": ".py",
   "mimetype": "text/x-python",
   "name": "python",
   "nbconvert_exporter": "python",
   "pygments_lexer": "ipython3",
   "version": "3.9.0-final"
  },
  "orig_nbformat": 2,
  "kernelspec": {
   "name": "python390jvsc74a57bd07799ce36c48005a68e236bac859ea1c436d17ded1a929ff4f5154cd9b5438e8d",
   "display_name": "Python 3.9.0 64-bit"
  }
 },
 "nbformat": 4,
 "nbformat_minor": 2,
 "cells": [
  {
   "cell_type": "code",
   "execution_count": 23,
   "metadata": {},
   "outputs": [],
   "source": [
    "import pandas as pd\n",
    "import numpy as np\n",
    "from some_functions import get_db"
   ]
  },
  {
   "cell_type": "code",
   "execution_count": 22,
   "metadata": {},
   "outputs": [],
   "source": [
    "readers = pd.read_csv(r\"C:\\Users\\a814811\\OneDrive - Atos\\RecommenderSystem\\readers.csv\")\n",
    "readers = readers.rename(columns={\"id\":\"user_id\", \"art_id\":\"nzz_id\"})\n",
    "art_db = get_db(r'C:\\Users\\a814811\\OneDrive - Atos\\RecommenderSystem\\art_clean_wt_all_popularity.csv')\n",
    "art_db = art_db.loc[:,['nzz_id','author','department','popularity']] #skrócenie do potrzebnych rzeczy"
   ]
  },
  {
   "cell_type": "code",
   "execution_count": 3,
   "metadata": {},
   "outputs": [],
   "source": [
    "read_counts = readers[\"user_id\"].value_counts(sort=True)\n",
    "read_counts = read_counts.rename_axis(\"user_id\").reset_index(name=\"read_count\")\n",
    "\n",
    "# Biorę pod uwagę tylko użytkowników, którzy przeczytali minimum 5 artykułów\n",
    "min_read_count = 3\n",
    "read_counts = read_counts[read_counts[\"read_count\"] > min_read_count]\n",
    "\n",
    "readers = readers[readers[\"user_id\"].isin(read_counts[\"user_id\"])]"
   ]
  },
  {
   "cell_type": "code",
   "execution_count": 4,
   "metadata": {},
   "outputs": [
    {
     "output_type": "stream",
     "name": "stdout",
     "text": [
      "Train set size 22284\ntest set size 5571\nn users in test 3998\nn users in train 10003\n"
     ]
    }
   ],
   "source": [
    "# Train/Test split\n",
    "from sklearn.model_selection import train_test_split\n",
    "\n",
    "random_state = None\n",
    "readers_train, readers_test = train_test_split(readers,\n",
    "                                   stratify=readers[\"user_id\"], \n",
    "                                   test_size=0.20,\n",
    "                                   random_state=random_state)\n",
    "                                   \n",
    "print(f\"Train set size {len(readers_train)}\")\n",
    "print(f\"test set size {len(readers_test)}\")\n",
    "unique_train = readers_train[\"nzz_id\"].unique()\n",
    "unique_test = readers_test[\"nzz_id\"].unique()\n",
    "print(f\"n users in test {len(unique_test)}\")\n",
    "print(f\"n users in train {len(unique_train)}\")"
   ]
  },
  {
   "cell_type": "code",
   "execution_count": 5,
   "metadata": {},
   "outputs": [],
   "source": [
    "\n",
    "from popularity_model import *\n",
    "from model_evaluator import ModelEvaluator\n",
    "model_evaluator = ModelEvaluator(k_list = [5, 10, 15])"
   ]
  },
  {
   "source": [
    "### sprawdzam submodele i główny\n",
    "#### dla authora są mocno zaniżone wyniki, bo często nie rekomenduje nic a test tego nie uwzględnia, podobnie dla department (w mniejszym stopniu)\n",
    "#### merged i popularity działają normalnie (zawsze coś jest rekomednowane)"
   ],
   "cell_type": "markdown",
   "metadata": {}
  },
  {
   "cell_type": "code",
   "execution_count": 6,
   "metadata": {},
   "outputs": [
    {
     "output_type": "stream",
     "name": "stdout",
     "text": [
      "999 users processed\n\nGlobal metrics:\n{'modelName': 'p_model', 'recall@5': 0.23082341269841272, 'precision@5': 0.04616468253968254, 'f1_score@5': 0.07694113756613757, 'ndcg@5': 0.15875321247124569, 'recall@10': 0.3567448412698413, 'precision@10': 0.035674484126984124, 'f1_score@10': 0.06486269841269843, 'ndcg@10': 0.1998560374447315, 'recall@15': 0.44260039682539687, 'precision@15': 0.029506693121693118, 'f1_score@15': 0.05532504960317461, 'ndcg@15': 0.2217301724369588}\n"
     ]
    }
   ],
   "source": [
    "# popularity model\n",
    "p_model = Popularity_model(art_db,readers)\n",
    "cf_global_metrics, cf_detailed_results_df = model_evaluator.evaluate_model(p_model, readers, readers_train, readers_test)\n",
    "print('\\nGlobal metrics:\\n%s' % cf_global_metrics)"
   ]
  },
  {
   "cell_type": "code",
   "execution_count": 13,
   "metadata": {},
   "outputs": [
    {
     "output_type": "stream",
     "name": "stdout",
     "text": [
      "999 users processed\n\nGlobal metrics:\n{'modelName': 'p_model', 'recall@5': 0.11160119047619046, 'precision@5': 0.022320238095238098, 'f1_score@5': 0.037200396825396824, 'ndcg@5': 0.09526888143660713, 'recall@10': 0.11216626984126984, 'precision@10': 0.011216626984126985, 'f1_score@10': 0.020393867243867242, 'ndcg@10': 0.09566072567703654, 'recall@15': 0.11216626984126984, 'precision@15': 0.0074777513227513226, 'f1_score@15': 0.01402078373015873, 'ndcg@15': 0.095492105181566}\n"
     ]
    }
   ],
   "source": [
    "# author popularity model\n",
    "p_model = Popularity_model_author(art_db,readers)\n",
    "cf_global_metrics, cf_detailed_results_df = model_evaluator.evaluate_model(p_model, readers, readers_train, readers_test)\n",
    "print(f'\\nGlobal metrics:\\n{cf_global_metrics}')"
   ]
  },
  {
   "cell_type": "code",
   "execution_count": 15,
   "metadata": {},
   "outputs": [
    {
     "output_type": "stream",
     "name": "stdout",
     "text": [
      "999 users processed\n\nGlobal metrics:\n{'modelName': 'p_model', 'recall@5': 0.33464285714285713, 'precision@5': 0.06692857142857143, 'f1_score@5': 0.11154761904761906, 'ndcg@5': 0.22591140107137653, 'recall@10': 0.46431746031746035, 'precision@10': 0.04643174603174603, 'f1_score@10': 0.08442135642135642, 'ndcg@10': 0.2696145222288957, 'recall@15': 0.5702924603174603, 'precision@15': 0.038019497354497354, 'f1_score@15': 0.07128655753968255, 'ndcg@15': 0.30095783333148696}\n"
     ]
    }
   ],
   "source": [
    "# department popularity model\n",
    "p_model = Popularity_model_department(art_db,readers)\n",
    "cf_global_metrics, cf_detailed_results_df = model_evaluator.evaluate_model(p_model, readers, readers_train, readers_test)\n",
    "print(f'\\nGlobal metrics:\\n{cf_global_metrics}')"
   ]
  },
  {
   "cell_type": "code",
   "execution_count": 19,
   "metadata": {
    "tags": []
   },
   "outputs": [
    {
     "output_type": "stream",
     "name": "stdout",
     "text": [
      "999 users processed\n\nGlobal metrics:\n{'modelName': 'p_model', 'recall@5': 0.23119087301587302, 'precision@5': 0.0462381746031746, 'f1_score@5': 0.07706362433862433, 'ndcg@5': 0.159438261869886, 'recall@10': 0.3545801587301587, 'precision@10': 0.03545801587301588, 'f1_score@10': 0.06446911976911977, 'ndcg@10': 0.19879871336548444, 'recall@15': 0.4402527777777777, 'precision@15': 0.029350185185185184, 'f1_score@15': 0.05503159722222222, 'ndcg@15': 0.22320654222567332}\n"
     ]
    }
   ],
   "source": [
    "# merged model\n",
    "p_model = Popularity_model_merge(art_db,readers)\n",
    "cf_global_metrics, cf_detailed_results_df = model_evaluator.evaluate_model(p_model, readers, readers_train, readers_test)\n",
    "print(f'\\nGlobal metrics:\\n{cf_global_metrics}')"
   ]
  },
  {
   "cell_type": "code",
   "execution_count": 20,
   "metadata": {},
   "outputs": [],
   "source": [
    "cf_detailed_results_df['model'] = ['merged']*1000\n",
    "cf_detailed_results_df.to_csv(\"test_results2\", encoding=\"utf-8\", index=False)"
   ]
  },
  {
   "source": [
    "## Wizualizacja"
   ],
   "cell_type": "markdown",
   "metadata": {}
  },
  {
   "cell_type": "code",
   "execution_count": 15,
   "metadata": {},
   "outputs": [],
   "source": [
    "from matplotlib import pyplot as plt"
   ]
  },
  {
   "cell_type": "code",
   "execution_count": null,
   "metadata": {},
   "outputs": [],
   "source": []
  }
 ]
}