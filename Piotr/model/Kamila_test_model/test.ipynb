{
 "metadata": {
  "language_info": {
   "codemirror_mode": {
    "name": "ipython",
    "version": 3
   },
   "file_extension": ".py",
   "mimetype": "text/x-python",
   "name": "python",
   "nbconvert_exporter": "python",
   "pygments_lexer": "ipython3",
   "version": "3.9.0-final"
  },
  "orig_nbformat": 2,
  "kernelspec": {
   "name": "python390jvsc74a57bd07799ce36c48005a68e236bac859ea1c436d17ded1a929ff4f5154cd9b5438e8d",
   "display_name": "Python 3.9.0 64-bit"
  }
 },
 "nbformat": 4,
 "nbformat_minor": 2,
 "cells": [
  {
   "cell_type": "code",
   "execution_count": 1,
   "metadata": {},
   "outputs": [],
   "source": [
    "import pandas as pd\n",
    "import numpy as np\n",
    "from some_functions import get_db"
   ]
  },
  {
   "cell_type": "code",
   "execution_count": 2,
   "metadata": {},
   "outputs": [],
   "source": [
    "readers = pd.read_csv(r\"C:\\Users\\a814811\\OneDrive - Atos\\RecommenderSystem\\readers.csv\")\n",
    "readers = readers.rename(columns={\"id\":\"user_id\", \"art_id\":\"nzz_id\"})\n",
    "art_db = get_db(r'C:\\Users\\a814811\\OneDrive - Atos\\RecommenderSystem\\art_clean_wt_all_popularity.csv')\n",
    "art_db = art_db.loc[:,['nzz_id','author','department','popularity']] #skrócenie do potrzebnych rzeczy"
   ]
  },
  {
   "cell_type": "code",
   "execution_count": 3,
   "metadata": {},
   "outputs": [],
   "source": [
    "read_counts = readers[\"user_id\"].value_counts(sort=True)\n",
    "read_counts = read_counts.rename_axis(\"user_id\").reset_index(name=\"read_count\")\n",
    "\n",
    "# Biorę pod uwagę tylko użytkowników, którzy przeczytali minimum 5 artykułów\n",
    "min_read_count = 3\n",
    "read_counts = read_counts[read_counts[\"read_count\"] > min_read_count]\n",
    "\n",
    "readers = readers[readers[\"user_id\"].isin(read_counts[\"user_id\"])]"
   ]
  },
  {
   "cell_type": "code",
   "execution_count": 4,
   "metadata": {},
   "outputs": [
    {
     "output_type": "stream",
     "name": "stdout",
     "text": [
      "Train set size 22284\ntest set size 5571\nn users in test 3992\nn users in train 10018\n"
     ]
    }
   ],
   "source": [
    "# Train/Test split\n",
    "from sklearn.model_selection import train_test_split\n",
    "\n",
    "random_state = None\n",
    "readers_train, readers_test = train_test_split(readers,\n",
    "                                   stratify=readers[\"user_id\"], \n",
    "                                   test_size=0.20,\n",
    "                                   random_state=random_state)\n",
    "                                   \n",
    "print(f\"Train set size {len(readers_train)}\")\n",
    "print(f\"test set size {len(readers_test)}\")\n",
    "unique_train = readers_train[\"nzz_id\"].unique()\n",
    "unique_test = readers_test[\"nzz_id\"].unique()\n",
    "print(f\"n users in test {len(unique_test)}\")\n",
    "print(f\"n users in train {len(unique_train)}\")"
   ]
  },
  {
   "cell_type": "code",
   "execution_count": 5,
   "metadata": {},
   "outputs": [],
   "source": [
    "\n",
    "from popularity_model import *\n",
    "from model_evaluator import ModelEvaluator\n",
    "model_evaluator = ModelEvaluator(k_list = [5, 10, 15])"
   ]
  },
  {
   "source": [
    "### sprawdzam submodele i główny\n",
    "#### dla authora są mocno zaniżone wyniki, bo często nie rekomenduje nic a test tego nie uwzględnia, podobnie dla department (w mniejszym stopniu)\n",
    "#### merged i popularity działają normalnie (zawsze coś jest rekomednowane)"
   ],
   "cell_type": "markdown",
   "metadata": {}
  },
  {
   "cell_type": "code",
   "execution_count": 6,
   "metadata": {},
   "outputs": [
    {
     "output_type": "stream",
     "name": "stdout",
     "text": [
      "999 users processed\n\nGlobal metrics:\n{'modelName': 'p_model', 'recall@5': 0.23082341269841272, 'precision@5': 0.04616468253968254, 'f1_score@5': 0.07694113756613757, 'ndcg@5': 0.15875321247124569, 'recall@10': 0.3567448412698413, 'precision@10': 0.035674484126984124, 'f1_score@10': 0.06486269841269843, 'ndcg@10': 0.1998560374447315, 'recall@15': 0.44260039682539687, 'precision@15': 0.029506693121693118, 'f1_score@15': 0.05532504960317461, 'ndcg@15': 0.2217301724369588}\n"
     ]
    }
   ],
   "source": [
    "# popularity model\n",
    "p_model = Popularity_model(art_db,readers)\n",
    "cf_global_metrics, cf_detailed_results_df = model_evaluator.evaluate_model(p_model, readers, readers_train, readers_test)\n",
    "print('\\nGlobal metrics:\\n%s' % cf_global_metrics)"
   ]
  },
  {
   "cell_type": "code",
   "execution_count": 13,
   "metadata": {},
   "outputs": [
    {
     "output_type": "stream",
     "name": "stdout",
     "text": [
      "999 users processed\n\nGlobal metrics:\n{'modelName': 'p_model', 'recall@5': 0.11160119047619046, 'precision@5': 0.022320238095238098, 'f1_score@5': 0.037200396825396824, 'ndcg@5': 0.09526888143660713, 'recall@10': 0.11216626984126984, 'precision@10': 0.011216626984126985, 'f1_score@10': 0.020393867243867242, 'ndcg@10': 0.09566072567703654, 'recall@15': 0.11216626984126984, 'precision@15': 0.0074777513227513226, 'f1_score@15': 0.01402078373015873, 'ndcg@15': 0.095492105181566}\n"
     ]
    }
   ],
   "source": [
    "# author popularity model\n",
    "p_model = Popularity_model_author(art_db,readers)\n",
    "cf_global_metrics, cf_detailed_results_df = model_evaluator.evaluate_model(p_model, readers, readers_train, readers_test)\n",
    "print(f'\\nGlobal metrics:\\n{cf_global_metrics}')"
   ]
  },
  {
   "cell_type": "code",
   "execution_count": 6,
   "metadata": {},
   "outputs": [
    {
     "output_type": "error",
     "ename": "KeyboardInterrupt",
     "evalue": "",
     "traceback": [
      "\u001b[1;31m---------------------------------------------------------------------------\u001b[0m",
      "\u001b[1;31mKeyboardInterrupt\u001b[0m                         Traceback (most recent call last)",
      "\u001b[1;32m<ipython-input-6-f0da6cf1b156>\u001b[0m in \u001b[0;36m<module>\u001b[1;34m\u001b[0m\n\u001b[0;32m      1\u001b[0m \u001b[1;31m# department popularity model\u001b[0m\u001b[1;33m\u001b[0m\u001b[1;33m\u001b[0m\u001b[1;33m\u001b[0m\u001b[0m\n\u001b[0;32m      2\u001b[0m \u001b[0mp_model\u001b[0m \u001b[1;33m=\u001b[0m \u001b[0mPopularity_model_department\u001b[0m\u001b[1;33m(\u001b[0m\u001b[0mart_db\u001b[0m\u001b[1;33m,\u001b[0m\u001b[0mreaders\u001b[0m\u001b[1;33m)\u001b[0m\u001b[1;33m\u001b[0m\u001b[1;33m\u001b[0m\u001b[0m\n\u001b[1;32m----> 3\u001b[1;33m \u001b[0mcf_global_metrics\u001b[0m\u001b[1;33m,\u001b[0m \u001b[0mcf_detailed_results_df\u001b[0m \u001b[1;33m=\u001b[0m \u001b[0mmodel_evaluator\u001b[0m\u001b[1;33m.\u001b[0m\u001b[0mevaluate_model\u001b[0m\u001b[1;33m(\u001b[0m\u001b[0mp_model\u001b[0m\u001b[1;33m,\u001b[0m \u001b[0mreaders\u001b[0m\u001b[1;33m,\u001b[0m \u001b[0mreaders_train\u001b[0m\u001b[1;33m,\u001b[0m \u001b[0mreaders_test\u001b[0m\u001b[1;33m)\u001b[0m\u001b[1;33m\u001b[0m\u001b[1;33m\u001b[0m\u001b[0m\n\u001b[0m\u001b[0;32m      4\u001b[0m \u001b[0mprint\u001b[0m\u001b[1;33m(\u001b[0m\u001b[1;34mf'\\nGlobal metrics:\\n{cf_global_metrics}'\u001b[0m\u001b[1;33m)\u001b[0m\u001b[1;33m\u001b[0m\u001b[1;33m\u001b[0m\u001b[0m\n",
      "\u001b[1;32mc:\\Users\\a814811\\OneDrive - Atos\\RecommenderSystem\\Piotr\\model\\Kamila_test_model\\model_evaluator.py\u001b[0m in \u001b[0;36mevaluate_model\u001b[1;34m(self, model, readers, readers_train, readers_test)\u001b[0m\n\u001b[0;32m    143\u001b[0m             \u001b[1;31m# if idx % 100 == 0 and idx > 0:\u001b[0m\u001b[1;33m\u001b[0m\u001b[1;33m\u001b[0m\u001b[1;33m\u001b[0m\u001b[0m\n\u001b[0;32m    144\u001b[0m             \u001b[1;31m#    print('%d users processed' % idx)\u001b[0m\u001b[1;33m\u001b[0m\u001b[1;33m\u001b[0m\u001b[1;33m\u001b[0m\u001b[0m\n\u001b[1;32m--> 145\u001b[1;33m             \u001b[0mperson_metrics\u001b[0m \u001b[1;33m=\u001b[0m \u001b[0mself\u001b[0m\u001b[1;33m.\u001b[0m\u001b[0m_evaluate_model_for_user\u001b[0m\u001b[1;33m(\u001b[0m\u001b[0mmodel\u001b[0m\u001b[1;33m,\u001b[0m \u001b[0mperson_id\u001b[0m\u001b[1;33m)\u001b[0m\u001b[1;33m\u001b[0m\u001b[1;33m\u001b[0m\u001b[0m\n\u001b[0m\u001b[0;32m    146\u001b[0m             \u001b[1;31m#all_recs_at_5.append(person_recs_df[\"nzz_id\"].head(5).values)\u001b[0m\u001b[1;33m\u001b[0m\u001b[1;33m\u001b[0m\u001b[1;33m\u001b[0m\u001b[0m\n\u001b[0;32m    147\u001b[0m             \u001b[1;31m#all_recs_at_10.append(person_recs_df[\"nzz_id\"].head(10).values)\u001b[0m\u001b[1;33m\u001b[0m\u001b[1;33m\u001b[0m\u001b[1;33m\u001b[0m\u001b[0m\n",
      "\u001b[1;32mc:\\Users\\a814811\\OneDrive - Atos\\RecommenderSystem\\Piotr\\model\\Kamila_test_model\\model_evaluator.py\u001b[0m in \u001b[0;36m_evaluate_model_for_user\u001b[1;34m(self, model, person_id)\u001b[0m\n\u001b[0;32m     93\u001b[0m                 \u001b[0mitems_to_filter_recs\u001b[0m \u001b[1;33m=\u001b[0m \u001b[0mnon_interacted_items_sample\u001b[0m\u001b[1;33m.\u001b[0m\u001b[0munion\u001b[0m\u001b[1;33m(\u001b[0m\u001b[0mset\u001b[0m\u001b[1;33m(\u001b[0m\u001b[1;33m[\u001b[0m\u001b[0mitem_id\u001b[0m\u001b[1;33m]\u001b[0m\u001b[1;33m)\u001b[0m\u001b[1;33m)\u001b[0m\u001b[1;33m\u001b[0m\u001b[1;33m\u001b[0m\u001b[0m\n\u001b[0;32m     94\u001b[0m                 \u001b[1;31m# Filtering only recommendations that are either the interacted item or from a random sample of 100 non-interacted items\u001b[0m\u001b[1;33m\u001b[0m\u001b[1;33m\u001b[0m\u001b[1;33m\u001b[0m\u001b[0m\n\u001b[1;32m---> 95\u001b[1;33m                 valid_recs_df = person_recs_df[\n\u001b[0m\u001b[0;32m     96\u001b[0m                     \u001b[0mperson_recs_df\u001b[0m\u001b[1;33m[\u001b[0m\u001b[1;34m\"nzz_id\"\u001b[0m\u001b[1;33m]\u001b[0m\u001b[1;33m.\u001b[0m\u001b[0misin\u001b[0m\u001b[1;33m(\u001b[0m\u001b[0mitems_to_filter_recs\u001b[0m\u001b[1;33m)\u001b[0m\u001b[1;33m\u001b[0m\u001b[1;33m\u001b[0m\u001b[0m\n\u001b[0;32m     97\u001b[0m                 ]\n",
      "\u001b[1;32m~\\AppData\\Local\\Programs\\Python\\Python39\\lib\\site-packages\\pandas\\core\\frame.py\u001b[0m in \u001b[0;36m__getitem__\u001b[1;34m(self, key)\u001b[0m\n\u001b[0;32m   3013\u001b[0m         \u001b[1;31m# Do we have a (boolean) 1d indexer?\u001b[0m\u001b[1;33m\u001b[0m\u001b[1;33m\u001b[0m\u001b[1;33m\u001b[0m\u001b[0m\n\u001b[0;32m   3014\u001b[0m         \u001b[1;32mif\u001b[0m \u001b[0mcom\u001b[0m\u001b[1;33m.\u001b[0m\u001b[0mis_bool_indexer\u001b[0m\u001b[1;33m(\u001b[0m\u001b[0mkey\u001b[0m\u001b[1;33m)\u001b[0m\u001b[1;33m:\u001b[0m\u001b[1;33m\u001b[0m\u001b[1;33m\u001b[0m\u001b[0m\n\u001b[1;32m-> 3015\u001b[1;33m             \u001b[1;32mreturn\u001b[0m \u001b[0mself\u001b[0m\u001b[1;33m.\u001b[0m\u001b[0m_getitem_bool_array\u001b[0m\u001b[1;33m(\u001b[0m\u001b[0mkey\u001b[0m\u001b[1;33m)\u001b[0m\u001b[1;33m\u001b[0m\u001b[1;33m\u001b[0m\u001b[0m\n\u001b[0m\u001b[0;32m   3016\u001b[0m \u001b[1;33m\u001b[0m\u001b[0m\n\u001b[0;32m   3017\u001b[0m         \u001b[1;31m# We are left with two options: a single key, and a collection of keys,\u001b[0m\u001b[1;33m\u001b[0m\u001b[1;33m\u001b[0m\u001b[1;33m\u001b[0m\u001b[0m\n",
      "\u001b[1;32m~\\AppData\\Local\\Programs\\Python\\Python39\\lib\\site-packages\\pandas\\core\\frame.py\u001b[0m in \u001b[0;36m_getitem_bool_array\u001b[1;34m(self, key)\u001b[0m\n\u001b[0;32m   3067\u001b[0m         \u001b[1;31m# be reindexed to match DataFrame rows\u001b[0m\u001b[1;33m\u001b[0m\u001b[1;33m\u001b[0m\u001b[1;33m\u001b[0m\u001b[0m\n\u001b[0;32m   3068\u001b[0m         \u001b[0mkey\u001b[0m \u001b[1;33m=\u001b[0m \u001b[0mcheck_bool_indexer\u001b[0m\u001b[1;33m(\u001b[0m\u001b[0mself\u001b[0m\u001b[1;33m.\u001b[0m\u001b[0mindex\u001b[0m\u001b[1;33m,\u001b[0m \u001b[0mkey\u001b[0m\u001b[1;33m)\u001b[0m\u001b[1;33m\u001b[0m\u001b[1;33m\u001b[0m\u001b[0m\n\u001b[1;32m-> 3069\u001b[1;33m         \u001b[0mindexer\u001b[0m \u001b[1;33m=\u001b[0m \u001b[0mkey\u001b[0m\u001b[1;33m.\u001b[0m\u001b[0mnonzero\u001b[0m\u001b[1;33m(\u001b[0m\u001b[1;33m)\u001b[0m\u001b[1;33m[\u001b[0m\u001b[1;36m0\u001b[0m\u001b[1;33m]\u001b[0m\u001b[1;33m\u001b[0m\u001b[1;33m\u001b[0m\u001b[0m\n\u001b[0m\u001b[0;32m   3070\u001b[0m         \u001b[1;32mreturn\u001b[0m \u001b[0mself\u001b[0m\u001b[1;33m.\u001b[0m\u001b[0m_take_with_is_copy\u001b[0m\u001b[1;33m(\u001b[0m\u001b[0mindexer\u001b[0m\u001b[1;33m,\u001b[0m \u001b[0maxis\u001b[0m\u001b[1;33m=\u001b[0m\u001b[1;36m0\u001b[0m\u001b[1;33m)\u001b[0m\u001b[1;33m\u001b[0m\u001b[1;33m\u001b[0m\u001b[0m\n\u001b[0;32m   3071\u001b[0m \u001b[1;33m\u001b[0m\u001b[0m\n",
      "\u001b[1;31mKeyboardInterrupt\u001b[0m: "
     ]
    }
   ],
   "source": [
    "# department popularity model\n",
    "p_model = Popularity_model_department(art_db,readers)\n",
    "cf_global_metrics, cf_detailed_results_df = model_evaluator.evaluate_model(p_model, readers, readers_train, readers_test)\n",
    "print(f'\\nGlobal metrics:\\n{cf_global_metrics}')"
   ]
  },
  {
   "cell_type": "code",
   "execution_count": 19,
   "metadata": {
    "tags": []
   },
   "outputs": [
    {
     "output_type": "stream",
     "name": "stdout",
     "text": [
      "999 users processed\n\nGlobal metrics:\n{'modelName': 'p_model', 'recall@5': 0.23119087301587302, 'precision@5': 0.0462381746031746, 'f1_score@5': 0.07706362433862433, 'ndcg@5': 0.159438261869886, 'recall@10': 0.3545801587301587, 'precision@10': 0.03545801587301588, 'f1_score@10': 0.06446911976911977, 'ndcg@10': 0.19879871336548444, 'recall@15': 0.4402527777777777, 'precision@15': 0.029350185185185184, 'f1_score@15': 0.05503159722222222, 'ndcg@15': 0.22320654222567332}\n"
     ]
    }
   ],
   "source": [
    "# merged model\n",
    "p_model = Popularity_model_merge(art_db,readers)\n",
    "cf_global_metrics, cf_detailed_results_df = model_evaluator.evaluate_model(p_model, readers, readers_train, readers_test)\n",
    "print(f'\\nGlobal metrics:\\n{cf_global_metrics}')"
   ]
  },
  {
   "cell_type": "code",
   "execution_count": 20,
   "metadata": {},
   "outputs": [],
   "source": [
    "cf_detailed_results_df['model'] = ['merged']*1000\n",
    "cf_detailed_results_df.to_csv(\"test_results2\", encoding=\"utf-8\", index=False)"
   ]
  },
  {
   "source": [
    "## Wizualizacja"
   ],
   "cell_type": "markdown",
   "metadata": {}
  },
  {
   "cell_type": "code",
   "execution_count": 15,
   "metadata": {},
   "outputs": [],
   "source": [
    "from matplotlib import pyplot as plt"
   ]
  },
  {
   "cell_type": "code",
   "execution_count": null,
   "metadata": {},
   "outputs": [],
   "source": []
  }
 ]
}