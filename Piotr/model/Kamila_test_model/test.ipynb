{
 "metadata": {
  "language_info": {
   "codemirror_mode": {
    "name": "ipython",
    "version": 3
   },
   "file_extension": ".py",
   "mimetype": "text/x-python",
   "name": "python",
   "nbconvert_exporter": "python",
   "pygments_lexer": "ipython3",
   "version": "3.9.0-final"
  },
  "orig_nbformat": 2,
  "kernelspec": {
   "name": "python390jvsc74a57bd07799ce36c48005a68e236bac859ea1c436d17ded1a929ff4f5154cd9b5438e8d",
   "display_name": "Python 3.9.0 64-bit"
  }
 },
 "nbformat": 4,
 "nbformat_minor": 2,
 "cells": [
  {
   "cell_type": "code",
   "execution_count": 1,
   "metadata": {},
   "outputs": [],
   "source": [
    "import pandas as pd\n",
    "import numpy as np\n",
    "from some_functions import get_db"
   ]
  },
  {
   "cell_type": "code",
   "execution_count": 2,
   "metadata": {},
   "outputs": [],
   "source": [
    "readers = pd.read_csv(r\"C:\\Users\\a814811\\OneDrive - Atos\\RecommenderSystem\\readers.csv\")\n",
    "readers = readers.rename(columns={\"id\":\"user_id\", \"art_id\":\"nzz_id\"})\n",
    "art_db = get_db(r'C:\\Users\\a814811\\OneDrive - Atos\\RecommenderSystem\\art_clean_wt_all_popularity.csv')\n",
    "art_db = art_db.loc[:,['nzz_id','author','department','popularity']] #skrócenie do potrzebnych rzeczy"
   ]
  },
  {
   "cell_type": "code",
   "execution_count": 3,
   "metadata": {},
   "outputs": [],
   "source": [
    "read_counts = readers[\"user_id\"].value_counts(sort=True)\n",
    "read_counts = read_counts.rename_axis(\"user_id\").reset_index(name=\"read_count\")\n",
    "\n",
    "# Biorę pod uwagę tylko użytkowników, którzy przeczytali minimum 5 artykułów\n",
    "min_read_count = 3\n",
    "read_counts = read_counts[read_counts[\"read_count\"] > min_read_count]\n",
    "\n",
    "readers = readers[readers[\"user_id\"].isin(read_counts[\"user_id\"])]"
   ]
  },
  {
   "cell_type": "code",
   "execution_count": 4,
   "metadata": {},
   "outputs": [
    {
     "output_type": "stream",
     "name": "stdout",
     "text": [
      "Train set size 22284\ntest set size 5571\nn users in test 4055\nn users in train 10001\n"
     ]
    }
   ],
   "source": [
    "# Train/Test split\n",
    "from sklearn.model_selection import train_test_split\n",
    "\n",
    "random_state = None\n",
    "readers_train, readers_test = train_test_split(readers,\n",
    "                                   stratify=readers[\"user_id\"], \n",
    "                                   test_size=0.20,\n",
    "                                   random_state=random_state)\n",
    "                                   \n",
    "print(f\"Train set size {len(readers_train)}\")\n",
    "print(f\"test set size {len(readers_test)}\")\n",
    "unique_train = readers_train[\"nzz_id\"].unique()\n",
    "unique_test = readers_test[\"nzz_id\"].unique()\n",
    "print(f\"n users in test {len(unique_test)}\")\n",
    "print(f\"n users in train {len(unique_train)}\")"
   ]
  },
  {
   "cell_type": "code",
   "execution_count": 5,
   "metadata": {},
   "outputs": [],
   "source": [
    "import sys\n",
    "sys.path.append('../code')\n",
    "from popularity_model import *\n",
    "from model_evaluator import ModelEvaluator\n",
    "model_evaluator = ModelEvaluator(k_list = [5, 10])"
   ]
  },
  {
   "source": [
    "### sprawdzam submodele i główny\n",
    "#### dla authora są mocno zaniżone wyniki, bo często nie rekomenduje nic a test tego nie uwzględnia, podobnie dla department (w mniejszym stopniu)\n",
    "#### merged i popularity działają normalnie (zawsze coś jest rekomednowane)"
   ],
   "cell_type": "markdown",
   "metadata": {}
  },
  {
   "cell_type": "code",
   "execution_count": 6,
   "metadata": {},
   "outputs": [
    {
     "output_type": "stream",
     "name": "stdout",
     "text": [
      "999 users processed\n\nGlobal metrics:\n{'modelName': 'p_model', 'recall@5': 0.2432063492063492, 'precision@5': 0.04864126984126984, 'f1_score@5': 0.08106878306878307, 'ndcg@5': 0.16576039603223658, 'recall@10': 0.36596388888888887, 'precision@10': 0.03659638888888889, 'f1_score@10': 0.0665388888888889, 'ndcg@10': 0.20434010334582028}\n"
     ]
    }
   ],
   "source": [
    "# popularity model\n",
    "p_model = Popularity_model(art_db,readers)\n",
    "cf_global_metrics, cf_detailed_results_df = model_evaluator.evaluate_model(p_model, readers, readers_train, readers_test)\n",
    "print('\\nGlobal metrics:\\n%s' % cf_global_metrics)"
   ]
  },
  {
   "cell_type": "code",
   "execution_count": 12,
   "metadata": {},
   "outputs": [
    {
     "output_type": "stream",
     "name": "stdout",
     "text": [
      "999 users processed\n\nGlobal metrics:\n{'modelName': 'p_model', 'recall@5': 0.11133888888888889, 'precision@5': 0.02226777777777778, 'f1_score@5': 0.03711296296296296, 'ndcg@5': 0.09470721160985855, 'recall@10': 0.1117611111111111, 'precision@10': 0.011176111111111112, 'f1_score@10': 0.020320202020202023, 'ndcg@10': 0.09471658799059719}\n"
     ]
    }
   ],
   "source": [
    "# author popularity model\n",
    "p_model = Popularity_model_author(art_db,readers)\n",
    "cf_global_metrics, cf_detailed_results_df = model_evaluator.evaluate_model(p_model, readers, readers_train, readers_test)\n",
    "print(f'\\nGlobal metrics:\\n{cf_global_metrics}')"
   ]
  },
  {
   "cell_type": "code",
   "execution_count": 10,
   "metadata": {},
   "outputs": [
    {
     "output_type": "stream",
     "name": "stdout",
     "text": [
      "999 users processed\n\nGlobal metrics:\n{'modelName': 'p_model', 'recall@5': 0.3183547619047619, 'precision@5': 0.06367095238095238, 'f1_score@5': 0.10611825396825397, 'ndcg@5': 0.2223098158596075, 'recall@10': 0.44578769841269844, 'precision@10': 0.044578769841269836, 'f1_score@10': 0.0810523088023088, 'ndcg@10': 0.25908419412702155}\n"
     ]
    }
   ],
   "source": [
    "# department popularity model\n",
    "p_model = Popularity_model_department(art_db,readers)\n",
    "cf_global_metrics, cf_detailed_results_df = model_evaluator.evaluate_model(p_model, readers, readers_train, readers_test)\n",
    "print(f'\\nGlobal metrics:\\n{cf_global_metrics}')"
   ]
  },
  {
   "cell_type": "code",
   "execution_count": 11,
   "metadata": {},
   "outputs": [
    {
     "output_type": "stream",
     "name": "stdout",
     "text": [
      "999 users processed\n\nGlobal metrics:\n{'modelName': 'p_model', 'recall@5': 0.23530436507936509, 'precision@5': 0.047060873015873014, 'f1_score@5': 0.07843478835978837, 'ndcg@5': 0.16137849778207283, 'recall@10': 0.36453492063492066, 'precision@10': 0.03645349206349206, 'f1_score@10': 0.06627907647907648, 'ndcg@10': 0.20549662349385597}\n"
     ]
    }
   ],
   "source": [
    "# merged model\n",
    "p_model = Popularity_model_merge(art_db,readers)\n",
    "cf_global_metrics, cf_detailed_results_df = model_evaluator.evaluate_model(p_model, readers, readers_train, readers_test)\n",
    "print(f'\\nGlobal metrics:\\n{cf_global_metrics}')"
   ]
  },
  {
   "cell_type": "code",
   "execution_count": 12,
   "metadata": {},
   "outputs": [
    {
     "output_type": "execute_result",
     "data": {
      "text/plain": [
       "     hits@5_count  interacted_count  recall@5  precision@5  f1_score@5  \\\n",
       "452             1                10       0.1         0.02    0.033333   \n",
       "603             2                10       0.2         0.04    0.066667   \n",
       "1               2                10       0.2         0.04    0.066667   \n",
       "185             7                10       0.7         0.14    0.233333   \n",
       "184             2                10       0.2         0.04    0.066667   \n",
       "..            ...               ...       ...          ...         ...   \n",
       "909             1                 1       1.0         0.20    0.333333   \n",
       "893             0                 1       0.0         0.00    0.000000   \n",
       "403             0                 1       0.0         0.00    0.000000   \n",
       "875             0                 1       0.0         0.00    0.000000   \n",
       "999             1                 1       1.0         0.20    0.333333   \n",
       "\n",
       "       ndcg@5  hits@10_count  recall@10  precision@10  f1_score@10   ndcg@10  \\\n",
       "452  0.050000              2        0.2          0.02     0.036364  0.068954   \n",
       "603  0.143068              3        0.3          0.03     0.054545  0.161649   \n",
       "1    0.200000              2        0.2          0.02     0.036364  0.200000   \n",
       "185  0.613093              9        0.9          0.09     0.163636  0.634977   \n",
       "184  0.093068              3        0.3          0.03     0.054545  0.121974   \n",
       "..        ...            ...        ...           ...          ...       ...   \n",
       "909  0.500000              1        1.0          0.10     0.181818  0.630930   \n",
       "893  0.000000              1        1.0          0.10     0.181818  0.289065   \n",
       "403  0.000000              0        0.0          0.00     0.000000  0.000000   \n",
       "875  0.000000              1        1.0          0.10     0.181818  0.289065   \n",
       "999  1.000000              1        1.0          0.10     0.181818  1.000000   \n",
       "\n",
       "     _person_id  \n",
       "452         481  \n",
       "603         907  \n",
       "1           392  \n",
       "185         494  \n",
       "184         323  \n",
       "..          ...  \n",
       "909         721  \n",
       "893         165  \n",
       "403         512  \n",
       "875         592  \n",
       "999         445  \n",
       "\n",
       "[1000 rows x 12 columns]"
      ],
      "text/html": "<div>\n<style scoped>\n    .dataframe tbody tr th:only-of-type {\n        vertical-align: middle;\n    }\n\n    .dataframe tbody tr th {\n        vertical-align: top;\n    }\n\n    .dataframe thead th {\n        text-align: right;\n    }\n</style>\n<table border=\"1\" class=\"dataframe\">\n  <thead>\n    <tr style=\"text-align: right;\">\n      <th></th>\n      <th>hits@5_count</th>\n      <th>interacted_count</th>\n      <th>recall@5</th>\n      <th>precision@5</th>\n      <th>f1_score@5</th>\n      <th>ndcg@5</th>\n      <th>hits@10_count</th>\n      <th>recall@10</th>\n      <th>precision@10</th>\n      <th>f1_score@10</th>\n      <th>ndcg@10</th>\n      <th>_person_id</th>\n    </tr>\n  </thead>\n  <tbody>\n    <tr>\n      <th>452</th>\n      <td>1</td>\n      <td>10</td>\n      <td>0.1</td>\n      <td>0.02</td>\n      <td>0.033333</td>\n      <td>0.050000</td>\n      <td>2</td>\n      <td>0.2</td>\n      <td>0.02</td>\n      <td>0.036364</td>\n      <td>0.068954</td>\n      <td>481</td>\n    </tr>\n    <tr>\n      <th>603</th>\n      <td>2</td>\n      <td>10</td>\n      <td>0.2</td>\n      <td>0.04</td>\n      <td>0.066667</td>\n      <td>0.143068</td>\n      <td>3</td>\n      <td>0.3</td>\n      <td>0.03</td>\n      <td>0.054545</td>\n      <td>0.161649</td>\n      <td>907</td>\n    </tr>\n    <tr>\n      <th>1</th>\n      <td>2</td>\n      <td>10</td>\n      <td>0.2</td>\n      <td>0.04</td>\n      <td>0.066667</td>\n      <td>0.200000</td>\n      <td>2</td>\n      <td>0.2</td>\n      <td>0.02</td>\n      <td>0.036364</td>\n      <td>0.200000</td>\n      <td>392</td>\n    </tr>\n    <tr>\n      <th>185</th>\n      <td>7</td>\n      <td>10</td>\n      <td>0.7</td>\n      <td>0.14</td>\n      <td>0.233333</td>\n      <td>0.613093</td>\n      <td>9</td>\n      <td>0.9</td>\n      <td>0.09</td>\n      <td>0.163636</td>\n      <td>0.634977</td>\n      <td>494</td>\n    </tr>\n    <tr>\n      <th>184</th>\n      <td>2</td>\n      <td>10</td>\n      <td>0.2</td>\n      <td>0.04</td>\n      <td>0.066667</td>\n      <td>0.093068</td>\n      <td>3</td>\n      <td>0.3</td>\n      <td>0.03</td>\n      <td>0.054545</td>\n      <td>0.121974</td>\n      <td>323</td>\n    </tr>\n    <tr>\n      <th>...</th>\n      <td>...</td>\n      <td>...</td>\n      <td>...</td>\n      <td>...</td>\n      <td>...</td>\n      <td>...</td>\n      <td>...</td>\n      <td>...</td>\n      <td>...</td>\n      <td>...</td>\n      <td>...</td>\n      <td>...</td>\n    </tr>\n    <tr>\n      <th>909</th>\n      <td>1</td>\n      <td>1</td>\n      <td>1.0</td>\n      <td>0.20</td>\n      <td>0.333333</td>\n      <td>0.500000</td>\n      <td>1</td>\n      <td>1.0</td>\n      <td>0.10</td>\n      <td>0.181818</td>\n      <td>0.630930</td>\n      <td>721</td>\n    </tr>\n    <tr>\n      <th>893</th>\n      <td>0</td>\n      <td>1</td>\n      <td>0.0</td>\n      <td>0.00</td>\n      <td>0.000000</td>\n      <td>0.000000</td>\n      <td>1</td>\n      <td>1.0</td>\n      <td>0.10</td>\n      <td>0.181818</td>\n      <td>0.289065</td>\n      <td>165</td>\n    </tr>\n    <tr>\n      <th>403</th>\n      <td>0</td>\n      <td>1</td>\n      <td>0.0</td>\n      <td>0.00</td>\n      <td>0.000000</td>\n      <td>0.000000</td>\n      <td>0</td>\n      <td>0.0</td>\n      <td>0.00</td>\n      <td>0.000000</td>\n      <td>0.000000</td>\n      <td>512</td>\n    </tr>\n    <tr>\n      <th>875</th>\n      <td>0</td>\n      <td>1</td>\n      <td>0.0</td>\n      <td>0.00</td>\n      <td>0.000000</td>\n      <td>0.000000</td>\n      <td>1</td>\n      <td>1.0</td>\n      <td>0.10</td>\n      <td>0.181818</td>\n      <td>0.289065</td>\n      <td>592</td>\n    </tr>\n    <tr>\n      <th>999</th>\n      <td>1</td>\n      <td>1</td>\n      <td>1.0</td>\n      <td>0.20</td>\n      <td>0.333333</td>\n      <td>1.000000</td>\n      <td>1</td>\n      <td>1.0</td>\n      <td>0.10</td>\n      <td>0.181818</td>\n      <td>1.000000</td>\n      <td>445</td>\n    </tr>\n  </tbody>\n</table>\n<p>1000 rows × 12 columns</p>\n</div>"
     },
     "metadata": {},
     "execution_count": 12
    }
   ],
   "source": [
    "cf_detailed_results_df"
   ]
  },
  {
   "cell_type": "code",
   "execution_count": null,
   "metadata": {},
   "outputs": [],
   "source": []
  }
 ]
}