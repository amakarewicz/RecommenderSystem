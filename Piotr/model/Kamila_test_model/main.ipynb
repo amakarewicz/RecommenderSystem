{
 "metadata": {
  "language_info": {
   "codemirror_mode": {
    "name": "ipython",
    "version": 3
   },
   "file_extension": ".py",
   "mimetype": "text/x-python",
   "name": "python",
   "nbconvert_exporter": "python",
   "pygments_lexer": "ipython3",
   "version": "3.9.0-final"
  },
  "orig_nbformat": 2,
  "kernelspec": {
   "name": "python390jvsc74a57bd07799ce36c48005a68e236bac859ea1c436d17ded1a929ff4f5154cd9b5438e8d",
   "display_name": "Python 3.9.0 64-bit"
  }
 },
 "nbformat": 4,
 "nbformat_minor": 2,
 "cells": [
  {
   "cell_type": "code",
   "execution_count": 1,
   "metadata": {},
   "outputs": [],
   "source": [
    "import pandas as pd\n",
    "import numpy as np\n",
    "from some_functions import get_db\n",
    "from popularity_model import *"
   ]
  },
  {
   "cell_type": "code",
   "execution_count": 2,
   "metadata": {},
   "outputs": [],
   "source": [
    "readers = pd.read_csv(r\"C:\\Users\\a814811\\OneDrive - Atos\\RecommenderSystem\\readers.csv\")\n",
    "readers = readers.rename(columns={\"id\":\"user_id\", \"art_id\":\"nzz_id\"})\n",
    "art_db = get_db(r'C:\\Users\\a814811\\OneDrive - Atos\\RecommenderSystem\\art_clean_wt_all_popularity.csv')\n",
    "art_db = art_db.loc[:,['nzz_id','author','department','popularity']] #skrócenie do potrzebnych rzeczy"
   ]
  },
  {
   "cell_type": "code",
   "execution_count": 13,
   "metadata": {},
   "outputs": [
    {
     "output_type": "stream",
     "name": "stdout",
     "text": [
      "[['1.18108994', 'ld.153477', 'ld.1086062', 'ld.153813', 'ld.140509', 'ld.137077', 'ld.150497', 'ld.137081', 'ld.150557', 'ld.136886'], ['ld.155260', 'ld.1290435', 'ld.142559', 'ld.1290811', 'ld.139338', 'ld.142248', 'ld.152002', 'ld.151742', 'ld.148526', 'ld.139047'], ['ld.138179', 'ld.147496', 'ld.144297', 'ld.154109', 'ld.138264', 'ld.155260', 'ld.139916', 'ld.153589', 'ld.1288368', 'ld.1287117']] [1, 3.61, 8.0]\n"
     ]
    },
    {
     "output_type": "execute_result",
     "data": {
      "text/plain": [
       "       nzz_id\n",
       "0   ld.138179\n",
       "1   ld.155260\n",
       "2   ld.147496\n",
       "3  1.18108994\n",
       "4   ld.144297\n",
       "5   ld.153477\n",
       "6  ld.1290435\n",
       "7   ld.142559\n",
       "8   ld.154109\n",
       "9  ld.1290811"
      ],
      "text/html": "<div>\n<style scoped>\n    .dataframe tbody tr th:only-of-type {\n        vertical-align: middle;\n    }\n\n    .dataframe tbody tr th {\n        vertical-align: top;\n    }\n\n    .dataframe thead th {\n        text-align: right;\n    }\n</style>\n<table border=\"1\" class=\"dataframe\">\n  <thead>\n    <tr style=\"text-align: right;\">\n      <th></th>\n      <th>nzz_id</th>\n    </tr>\n  </thead>\n  <tbody>\n    <tr>\n      <th>0</th>\n      <td>ld.138179</td>\n    </tr>\n    <tr>\n      <th>1</th>\n      <td>ld.155260</td>\n    </tr>\n    <tr>\n      <th>2</th>\n      <td>ld.147496</td>\n    </tr>\n    <tr>\n      <th>3</th>\n      <td>1.18108994</td>\n    </tr>\n    <tr>\n      <th>4</th>\n      <td>ld.144297</td>\n    </tr>\n    <tr>\n      <th>5</th>\n      <td>ld.153477</td>\n    </tr>\n    <tr>\n      <th>6</th>\n      <td>ld.1290435</td>\n    </tr>\n    <tr>\n      <th>7</th>\n      <td>ld.142559</td>\n    </tr>\n    <tr>\n      <th>8</th>\n      <td>ld.154109</td>\n    </tr>\n    <tr>\n      <th>9</th>\n      <td>ld.1290811</td>\n    </tr>\n  </tbody>\n</table>\n</div>"
     },
     "metadata": {},
     "execution_count": 13
    }
   ],
   "source": [
    "X = Popularity_model_merge(art_db,readers)\n",
    "X.recommend(5,topn=10)"
   ]
  },
  {
   "cell_type": "code",
   "execution_count": 1,
   "metadata": {},
   "outputs": [],
   "source": []
  },
  {
   "cell_type": "code",
   "execution_count": null,
   "metadata": {},
   "outputs": [],
   "source": []
  }
 ]
}