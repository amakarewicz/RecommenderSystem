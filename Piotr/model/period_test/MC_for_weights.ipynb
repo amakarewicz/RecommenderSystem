{
 "metadata": {
  "language_info": {
   "codemirror_mode": {
    "name": "ipython",
    "version": 3
   },
   "file_extension": ".py",
   "mimetype": "text/x-python",
   "name": "python",
   "nbconvert_exporter": "python",
   "pygments_lexer": "ipython3",
   "version": "3.9.0"
  },
  "orig_nbformat": 2,
  "kernelspec": {
   "name": "python390jvsc74a57bd07799ce36c48005a68e236bac859ea1c436d17ded1a929ff4f5154cd9b5438e8d",
   "display_name": "Python 3.9.0 64-bit"
  }
 },
 "nbformat": 4,
 "nbformat_minor": 2,
 "cells": [
  {
   "cell_type": "code",
   "execution_count": 1,
   "metadata": {},
   "outputs": [],
   "source": [
    "import sys\n",
    "sys.path.insert(1, '../main_model')\n",
    "\n",
    "from some_functions import *\n",
    "from popularity_model import *\n",
    "import pandas as pd\n",
    "import numpy as np \n",
    "\n",
    "# test\n",
    "from period_test import period_eval"
   ]
  },
  {
   "cell_type": "code",
   "execution_count": 2,
   "metadata": {},
   "outputs": [],
   "source": [
    "art_db = get_db(r'C:\\Users\\a814811\\OneDrive - Atos\\RecommenderSystem\\art_clean_wt_all_popularity.csv')\n",
    "art_db = art_db[['nzz_id', 'author', 'department', 'pub_date', 'popularity']]\n",
    "user_db = get_db(r'C:\\Users\\a814811\\OneDrive - Atos\\RecommenderSystem\\readers.csv')"
   ]
  },
  {
   "cell_type": "code",
   "execution_count": 3,
   "metadata": {},
   "outputs": [],
   "source": [
    "def check_devide(suspects,denominator):\n",
    "    # f sprawdzajaca podzielnosc wszystkich elementow\n",
    "    for d in denominator:\n",
    "        if [it/d for it in suspects] == [round(it/d) for it in suspects]:\n",
    "            return True\n",
    "    return False"
   ]
  },
  {
   "cell_type": "code",
   "execution_count": 9,
   "metadata": {},
   "outputs": [
    {
     "output_type": "stream",
     "name": "stdout",
     "text": [
      "[[], [], []]\n"
     ]
    },
    {
     "output_type": "execute_result",
     "data": {
      "text/plain": [
       "[0.2, 0.3, 0.5]"
      ]
     },
     "metadata": {},
     "execution_count": 9
    }
   ],
   "source": [
    "db = pd.DataFrame([], columns=['model','weight','number_of_recomm','precision','recall', 'f1score','coverage'])\n",
    "\n",
    "a=1\n",
    "while a<2:\n",
    "    b=1\n",
    "    while b<2:\n",
    "        c=1\n",
    "        while c<2:\n",
    "            # eliminuje powtórki:\n",
    "            if not check_devide((a,b,c),(2,3,4,5,6,7,8,9,10)):\n",
    "                print((a,b,c))\n",
    "                res , _ = period_eval().evaluate_model(Model=Popularity_model_final, art_db=art_db, user_db=user_db, limit = [5, 10, 15], w=(a,b,c))\n",
    "                res['weight'] = [(a,b,c)] * 3\n",
    "                res['model'] = ['Popularity_model_final'] * 3\n",
    "                db = db.append(res,ignore_index=True)\n",
    "            c += 49\n",
    "        b += 49    \n",
    "    a+= 49\n",
    "db.to_csv(\"res_short.csv\", encoding=\"utf-8\", index=False)\n"
   ]
  },
  {
   "cell_type": "code",
   "execution_count": 4,
   "metadata": {},
   "outputs": [
    {
     "output_type": "stream",
     "name": "stdout",
     "text": [
      "(1, 1, 1)\n",
      "(1, 1, 50)\n",
      "(1, 1, 99)\n",
      "(1, 50, 1)\n",
      "(1, 50, 50)\n",
      "(1, 50, 99)\n",
      "(1, 99, 1)\n",
      "(1, 99, 50)\n",
      "(1, 99, 99)\n",
      "(50, 1, 1)\n",
      "(50, 1, 50)\n",
      "(50, 1, 99)\n",
      "(50, 50, 1)\n",
      "(50, 50, 99)\n",
      "(50, 99, 1)\n",
      "(50, 99, 50)\n",
      "(50, 99, 99)\n",
      "(99, 1, 1)\n",
      "(99, 1, 50)\n",
      "(99, 1, 99)\n",
      "(99, 50, 1)\n",
      "(99, 50, 50)\n",
      "(99, 50, 99)\n",
      "(99, 99, 1)\n",
      "(99, 99, 50)\n"
     ]
    }
   ],
   "source": [
    "db = pd.DataFrame([], columns=['model','user','number_of_recomm','train_articles','test_articles','precision','recall'])\n",
    "\n",
    "a=1\n",
    "while a<101:\n",
    "    b=1\n",
    "    while b<101:\n",
    "        c=1\n",
    "        while c<101:\n",
    "            # eliminuje powtórki:\n",
    "            if not check_devide((a,b,c),(2,3,4,5,6,7,8,9,10)):\n",
    "                print((a,b,c))\n",
    "                _ , res = period_eval().evaluate_model(Model=Popularity_model_final, art_db=art_db, user_db=user_db, limit = [5, 10, 15], w=(a,b,c))\n",
    "\n",
    "                res['weight'] = [(a,b,c)] * 3000\n",
    "                db = db.append(res,ignore_index=True)\n",
    "            c += 49\n",
    "        b += 49    \n",
    "    a+= 49\n",
    "db.to_csv(\"res2.csv\", encoding=\"utf-8\", index=False)\n"
   ]
  },
  {
   "cell_type": "code",
   "execution_count": 5,
   "metadata": {},
   "outputs": [],
   "source": [
    "db = db[['model','user','number_of_recomm','train_articles','test_articles','precision','recall','weight','f1score']]\n",
    "db.to_csv(\"res2.csv\", encoding=\"utf-8\", index=False)\n"
   ]
  },
  {
   "cell_type": "code",
   "execution_count": null,
   "metadata": {},
   "outputs": [],
   "source": []
  }
 ]
}