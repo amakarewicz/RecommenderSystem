{
 "metadata": {
  "language_info": {
   "codemirror_mode": {
    "name": "ipython",
    "version": 3
   },
   "file_extension": ".py",
   "mimetype": "text/x-python",
   "name": "python",
   "nbconvert_exporter": "python",
   "pygments_lexer": "ipython3",
   "version": "3.9.0"
  },
  "orig_nbformat": 2,
  "kernelspec": {
   "name": "python390jvsc74a57bd07799ce36c48005a68e236bac859ea1c436d17ded1a929ff4f5154cd9b5438e8d",
   "display_name": "Python 3.9.0 64-bit"
  }
 },
 "nbformat": 4,
 "nbformat_minor": 2,
 "cells": [
  {
   "cell_type": "code",
   "execution_count": 1,
   "metadata": {},
   "outputs": [],
   "source": [
    "import sys\n",
    "sys.path.insert(1, '../main_model')\n",
    "\n",
    "from some_functions import *\n",
    "from popularity_model import *\n",
    "import pandas as pd\n",
    "import numpy as np \n",
    "\n",
    "# test\n",
    "from period_test import period_eval"
   ]
  },
  {
   "cell_type": "code",
   "execution_count": 2,
   "metadata": {},
   "outputs": [],
   "source": [
    "art_db = get_db(r'C:\\Users\\a814811\\OneDrive - Atos\\RecommenderSystem\\art_clean_wt_all_popularity.csv')\n",
    "art_db = art_db[['nzz_id', 'author', 'department', 'pub_date', 'popularity']]\n",
    "user_db = get_db(r'C:\\Users\\a814811\\OneDrive - Atos\\RecommenderSystem\\readers.csv')"
   ]
  },
  {
   "cell_type": "code",
   "execution_count": 3,
   "metadata": {},
   "outputs": [],
   "source": [
    "def check_devide(suspects,denominator):\n",
    "    # f sprawdzajaca podzielnosc wszystkich elementow\n",
    "    for d in denominator:\n",
    "        if [it/d for it in suspects] == [round(it/d) for it in suspects]:\n",
    "            return True\n",
    "    return False"
   ]
  },
  {
   "cell_type": "code",
   "execution_count": 5,
   "metadata": {},
   "outputs": [
    {
     "output_type": "stream",
     "name": "stdout",
     "text": [
      "(1, 1, 1)\n",
      "(1, 1, 50)\n",
      "(1, 1, 99)\n",
      "(1, 50, 1)\n",
      "(1, 50, 50)\n",
      "(1, 50, 99)\n",
      "(1, 99, 1)\n",
      "(1, 99, 50)\n",
      "(1, 99, 99)\n",
      "(50, 1, 1)\n",
      "(50, 1, 50)\n",
      "(50, 1, 99)\n",
      "(50, 50, 1)\n",
      "(50, 50, 99)\n",
      "(50, 99, 1)\n",
      "(50, 99, 50)\n",
      "(50, 99, 99)\n",
      "(99, 1, 1)\n",
      "(99, 1, 50)\n",
      "(99, 1, 99)\n",
      "(99, 50, 1)\n",
      "(99, 50, 50)\n",
      "(99, 50, 99)\n",
      "(99, 99, 1)\n",
      "(99, 99, 50)\n"
     ]
    }
   ],
   "source": [
    "db = pd.DataFrame([], columns=['model','user','number_of_recomm','train_articles','test_articles','precision','recall'])\n",
    "\n",
    "a=1\n",
    "while a<101:\n",
    "    b=1\n",
    "    while b<101:\n",
    "        c=1\n",
    "        while c<101:\n",
    "            # eliminuje powtórki:\n",
    "            if not check_devide((a,b,c),(2,3,4,5,6,7,8,9,10)):\n",
    "                print((a,b,c))\n",
    "                res = period_eval().evaluate_model(Model=Popularity_model_final, art_db=art_db, user_db=user_db, limit = [5, 10, 15], w=(a,b,c))\n",
    "\n",
    "                res['weight'] = [(a,b,c)] * 3000\n",
    "                db = db.append(res,ignore_index=True)\n",
    "            c += 49\n",
    "        b += 49    \n",
    "    a+= 49\n",
    "db.to_csv(\"res2.csv\", encoding=\"utf-8\", index=False)\n"
   ]
  },
  {
   "cell_type": "code",
   "execution_count": 8,
   "metadata": {},
   "outputs": [
    {
     "output_type": "execute_result",
     "data": {
      "text/plain": [
       "       model  user number_of_recomm train_articles test_articles  precision  \\\n",
       "0      final     1                5              2             3   0.000000   \n",
       "1      final     1               10              2             3   0.000000   \n",
       "2      final     1               15              2             3   0.000000   \n",
       "3      final     2                5              2             3   0.200000   \n",
       "4      final     2               10              2             3   0.100000   \n",
       "...      ...   ...              ...            ...           ...        ...   \n",
       "17995  final   999               10             21            10   0.100000   \n",
       "17996  final   999               15             21            10   0.066667   \n",
       "17997  final  1000                5             22            16   0.200000   \n",
       "17998  final  1000               10             22            16   0.100000   \n",
       "17999  final  1000               15             22            16   0.066667   \n",
       "\n",
       "         recall       weight  \n",
       "0      0.000000    (1, 1, 1)  \n",
       "1      0.000000    (1, 1, 1)  \n",
       "2      0.000000    (1, 1, 1)  \n",
       "3      0.333333    (1, 1, 1)  \n",
       "4      0.333333    (1, 1, 1)  \n",
       "...         ...          ...  \n",
       "17995  0.100000  (1, 50, 99)  \n",
       "17996  0.100000  (1, 50, 99)  \n",
       "17997  0.062500  (1, 50, 99)  \n",
       "17998  0.062500  (1, 50, 99)  \n",
       "17999  0.062500  (1, 50, 99)  \n",
       "\n",
       "[18000 rows x 8 columns]"
      ],
      "text/html": "<div>\n<style scoped>\n    .dataframe tbody tr th:only-of-type {\n        vertical-align: middle;\n    }\n\n    .dataframe tbody tr th {\n        vertical-align: top;\n    }\n\n    .dataframe thead th {\n        text-align: right;\n    }\n</style>\n<table border=\"1\" class=\"dataframe\">\n  <thead>\n    <tr style=\"text-align: right;\">\n      <th></th>\n      <th>model</th>\n      <th>user</th>\n      <th>number_of_recomm</th>\n      <th>train_articles</th>\n      <th>test_articles</th>\n      <th>precision</th>\n      <th>recall</th>\n      <th>weight</th>\n    </tr>\n  </thead>\n  <tbody>\n    <tr>\n      <th>0</th>\n      <td>final</td>\n      <td>1</td>\n      <td>5</td>\n      <td>2</td>\n      <td>3</td>\n      <td>0.000000</td>\n      <td>0.000000</td>\n      <td>(1, 1, 1)</td>\n    </tr>\n    <tr>\n      <th>1</th>\n      <td>final</td>\n      <td>1</td>\n      <td>10</td>\n      <td>2</td>\n      <td>3</td>\n      <td>0.000000</td>\n      <td>0.000000</td>\n      <td>(1, 1, 1)</td>\n    </tr>\n    <tr>\n      <th>2</th>\n      <td>final</td>\n      <td>1</td>\n      <td>15</td>\n      <td>2</td>\n      <td>3</td>\n      <td>0.000000</td>\n      <td>0.000000</td>\n      <td>(1, 1, 1)</td>\n    </tr>\n    <tr>\n      <th>3</th>\n      <td>final</td>\n      <td>2</td>\n      <td>5</td>\n      <td>2</td>\n      <td>3</td>\n      <td>0.200000</td>\n      <td>0.333333</td>\n      <td>(1, 1, 1)</td>\n    </tr>\n    <tr>\n      <th>4</th>\n      <td>final</td>\n      <td>2</td>\n      <td>10</td>\n      <td>2</td>\n      <td>3</td>\n      <td>0.100000</td>\n      <td>0.333333</td>\n      <td>(1, 1, 1)</td>\n    </tr>\n    <tr>\n      <th>...</th>\n      <td>...</td>\n      <td>...</td>\n      <td>...</td>\n      <td>...</td>\n      <td>...</td>\n      <td>...</td>\n      <td>...</td>\n      <td>...</td>\n    </tr>\n    <tr>\n      <th>17995</th>\n      <td>final</td>\n      <td>999</td>\n      <td>10</td>\n      <td>21</td>\n      <td>10</td>\n      <td>0.100000</td>\n      <td>0.100000</td>\n      <td>(1, 50, 99)</td>\n    </tr>\n    <tr>\n      <th>17996</th>\n      <td>final</td>\n      <td>999</td>\n      <td>15</td>\n      <td>21</td>\n      <td>10</td>\n      <td>0.066667</td>\n      <td>0.100000</td>\n      <td>(1, 50, 99)</td>\n    </tr>\n    <tr>\n      <th>17997</th>\n      <td>final</td>\n      <td>1000</td>\n      <td>5</td>\n      <td>22</td>\n      <td>16</td>\n      <td>0.200000</td>\n      <td>0.062500</td>\n      <td>(1, 50, 99)</td>\n    </tr>\n    <tr>\n      <th>17998</th>\n      <td>final</td>\n      <td>1000</td>\n      <td>10</td>\n      <td>22</td>\n      <td>16</td>\n      <td>0.100000</td>\n      <td>0.062500</td>\n      <td>(1, 50, 99)</td>\n    </tr>\n    <tr>\n      <th>17999</th>\n      <td>final</td>\n      <td>1000</td>\n      <td>15</td>\n      <td>22</td>\n      <td>16</td>\n      <td>0.066667</td>\n      <td>0.062500</td>\n      <td>(1, 50, 99)</td>\n    </tr>\n  </tbody>\n</table>\n<p>18000 rows × 8 columns</p>\n</div>"
     },
     "metadata": {},
     "execution_count": 8
    }
   ],
   "source": [
    "db"
   ]
  },
  {
   "cell_type": "code",
   "execution_count": null,
   "metadata": {},
   "outputs": [],
   "source": []
  }
 ]
}