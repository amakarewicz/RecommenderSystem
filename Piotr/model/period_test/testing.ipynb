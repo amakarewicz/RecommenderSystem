{
 "metadata": {
  "language_info": {
   "codemirror_mode": {
    "name": "ipython",
    "version": 3
   },
   "file_extension": ".py",
   "mimetype": "text/x-python",
   "name": "python",
   "nbconvert_exporter": "python",
   "pygments_lexer": "ipython3",
   "version": "3.9.0"
  },
  "orig_nbformat": 2,
  "kernelspec": {
   "name": "python390jvsc74a57bd07799ce36c48005a68e236bac859ea1c436d17ded1a929ff4f5154cd9b5438e8d",
   "display_name": "Python 3.9.0 64-bit"
  }
 },
 "nbformat": 4,
 "nbformat_minor": 2,
 "cells": [
  {
   "cell_type": "code",
   "execution_count": 1,
   "metadata": {},
   "outputs": [],
   "source": [
    "import sys\n",
    "sys.path.insert(1, '../main_model')\n",
    "\n",
    "from some_functions import *\n",
    "from popularity_model import *\n",
    "import pandas as pd\n",
    "import numpy as np \n",
    "\n",
    "# test\n",
    "from period_test import period_eval\n",
    "from period_test_new import period_eval_new"
   ]
  },
  {
   "cell_type": "code",
   "execution_count": 2,
   "metadata": {},
   "outputs": [],
   "source": [
    "art_db = get_db(r'C:\\Users\\a814811\\OneDrive - Atos\\RecommenderSystem\\art_clean_wt_all_popularity.csv')\n",
    "art_db = art_db[['nzz_id', 'author', 'department', 'pub_date', 'popularity','department_popularity']]\n",
    "user_db = get_db(r'C:\\Users\\a814811\\OneDrive - Atos\\RecommenderSystem\\readers.csv')"
   ]
  },
  {
   "cell_type": "code",
   "execution_count": 3,
   "metadata": {},
   "outputs": [
    {
     "output_type": "stream",
     "name": "stderr",
     "text": [
      "100%|██████████| 1000/1000 [02:58<00:00,  5.59it/s]\n"
     ]
    }
   ],
   "source": [
    "p1 = period_eval().evaluate_model(Model=Popularity_model_final, art_db=art_db, user_db=user_db, limit = [5, 10, 15])"
   ]
  },
  {
   "cell_type": "code",
   "execution_count": 5,
   "metadata": {},
   "outputs": [
    {
     "output_type": "stream",
     "name": "stdout",
     "text": [
      "   number_of_recomm  precision    recall   f1score  coverage\n0                 5   0.109438  0.044725  0.060270  0.026705\n1                10   0.079321  0.063095  0.066373  0.049687\n2                15   0.061789  0.073320  0.063436  0.068671\n"
     ]
    }
   ],
   "source": [
    "print(p1[0])\n",
    "p1[1].to_csv(\"tts\", encoding=\"utf-8\", index=False)"
   ]
  },
  {
   "cell_type": "code",
   "execution_count": 3,
   "metadata": {},
   "outputs": [
    {
     "output_type": "stream",
     "name": "stderr",
     "text": [
      "100%|██████████| 1000/1000 [02:53<00:00,  5.78it/s]\n"
     ]
    }
   ],
   "source": [
    "p2 = period_eval_new().evaluate_model(Model=Popularity_model_final, art_db=art_db, user_db=user_db, limit = [5, 10, 15])"
   ]
  },
  {
   "cell_type": "code",
   "execution_count": 4,
   "metadata": {},
   "outputs": [
    {
     "output_type": "stream",
     "name": "stdout",
     "text": [
      "   number_of_recomm  precision    recall   f1score  coverage\n0                 5   0.113256  0.045778  0.061836  0.027886\n1                10   0.078473  0.062180  0.065576  0.048415\n2                15   0.062354  0.073679  0.063993  0.069761\n"
     ]
    }
   ],
   "source": [
    "print(p2[0])\n",
    "p2[1].to_csv(\"tt\", encoding=\"utf-8\", index=False)"
   ]
  },
  {
   "cell_type": "code",
   "execution_count": 6,
   "metadata": {},
   "outputs": [
    {
     "output_type": "stream",
     "name": "stderr",
     "text": [
      "100%|██████████| 1000/1000 [04:18<00:00,  3.87it/s]\n"
     ]
    }
   ],
   "source": [
    "p3 = period_eval().evaluate_model(Model=Popularity_model_final, art_db=art_db, user_db=user_db, limit = [5, 10, 15])"
   ]
  },
  {
   "cell_type": "code",
   "execution_count": 7,
   "metadata": {},
   "outputs": [
    {
     "output_type": "stream",
     "name": "stdout",
     "text": [
      "   number_of_recomm  precision    recall   f1score  coverage\n0                 5   0.110074  0.044509  0.060121  0.027523\n1                10   0.076458  0.061456  0.064197  0.050504\n2                15   0.061435  0.072979  0.063139  0.069125\n"
     ]
    }
   ],
   "source": [
    "print(p3[0])"
   ]
  },
  {
   "cell_type": "code",
   "execution_count": 4,
   "metadata": {},
   "outputs": [
    {
     "output_type": "stream",
     "name": "stderr",
     "text": [
      "100%|██████████| 1000/1000 [03:55<00:00,  4.24it/s]\n"
     ]
    }
   ],
   "source": [
    "p4 = period_eval().evaluate_model(Model=Popularity_model_final, art_db=art_db, user_db=user_db, limit = [5, 10, 15])"
   ]
  },
  {
   "cell_type": "code",
   "execution_count": 5,
   "metadata": {},
   "outputs": [
    {
     "output_type": "stream",
     "name": "stdout",
     "text": [
      "   number_of_recomm  precision    recall   f1score  coverage\n0                 5   0.047508  0.015920  0.022073  0.017622\n1                10   0.043690  0.027909  0.031707  0.031974\n2                15   0.041287  0.038647  0.037384  0.044327\n"
     ]
    }
   ],
   "source": [
    "# print(p1[1][['precision', 'recall']].mean())\n",
    "# print(p4[1][['precision', 'recall']].mean())\n",
    "print(p4[0])"
   ]
  },
  {
   "cell_type": "code",
   "execution_count": 6,
   "metadata": {},
   "outputs": [
    {
     "output_type": "execute_result",
     "data": {
      "text/plain": [
       "                             precision    recall\n",
       "number_of_recomm model                          \n",
       "5                author       0.029647  0.011368\n",
       "                 department   0.031924  0.012926\n",
       "                 final        0.058659  0.026882\n",
       "10               author       0.029255  0.020903\n",
       "                 department   0.032135  0.026790\n",
       "                 final        0.053754  0.047346\n",
       "15               author       0.027099  0.028546\n",
       "                 department   0.029598  0.037031\n",
       "                 final        0.051451  0.065277"
      ],
      "text/html": "<div>\n<style scoped>\n    .dataframe tbody tr th:only-of-type {\n        vertical-align: middle;\n    }\n\n    .dataframe tbody tr th {\n        vertical-align: top;\n    }\n\n    .dataframe thead th {\n        text-align: right;\n    }\n</style>\n<table border=\"1\" class=\"dataframe\">\n  <thead>\n    <tr style=\"text-align: right;\">\n      <th></th>\n      <th></th>\n      <th>precision</th>\n      <th>recall</th>\n    </tr>\n    <tr>\n      <th>number_of_recomm</th>\n      <th>model</th>\n      <th></th>\n      <th></th>\n    </tr>\n  </thead>\n  <tbody>\n    <tr>\n      <th rowspan=\"3\" valign=\"top\">5</th>\n      <th>author</th>\n      <td>0.029647</td>\n      <td>0.011368</td>\n    </tr>\n    <tr>\n      <th>department</th>\n      <td>0.031924</td>\n      <td>0.012926</td>\n    </tr>\n    <tr>\n      <th>final</th>\n      <td>0.058659</td>\n      <td>0.026882</td>\n    </tr>\n    <tr>\n      <th rowspan=\"3\" valign=\"top\">10</th>\n      <th>author</th>\n      <td>0.029255</td>\n      <td>0.020903</td>\n    </tr>\n    <tr>\n      <th>department</th>\n      <td>0.032135</td>\n      <td>0.026790</td>\n    </tr>\n    <tr>\n      <th>final</th>\n      <td>0.053754</td>\n      <td>0.047346</td>\n    </tr>\n    <tr>\n      <th rowspan=\"3\" valign=\"top\">15</th>\n      <th>author</th>\n      <td>0.027099</td>\n      <td>0.028546</td>\n    </tr>\n    <tr>\n      <th>department</th>\n      <td>0.029598</td>\n      <td>0.037031</td>\n    </tr>\n    <tr>\n      <th>final</th>\n      <td>0.051451</td>\n      <td>0.065277</td>\n    </tr>\n  </tbody>\n</table>\n</div>"
     },
     "metadata": {},
     "execution_count": 6
    }
   ],
   "source": [
    "# results = p1.append(p2).append(p3).append(p4)\n",
    "results = p2.append(p3).append(p4)\n",
    "results.groupby(['number_of_recomm','model'])[['precision','recall']].mean()"
   ]
  },
  {
   "cell_type": "code",
   "execution_count": 7,
   "metadata": {},
   "outputs": [],
   "source": [
    "results.to_csv(\"test_results2\", encoding=\"utf-8\", index=False)"
   ]
  },
  {
   "cell_type": "code",
   "execution_count": 14,
   "metadata": {},
   "outputs": [],
   "source": [
    "results.drop_duplicates(inplace=True)"
   ]
  },
  {
   "cell_type": "code",
   "execution_count": 17,
   "metadata": {},
   "outputs": [
    {
     "output_type": "stream",
     "name": "stdout",
     "text": [
      "<class 'pandas.core.frame.DataFrame'>\nInt64Index: 12000 entries, 0 to 2999\nData columns (total 7 columns):\n #   Column            Non-Null Count  Dtype  \n---  ------            --------------  -----  \n 0   model             12000 non-null  object \n 1   user              12000 non-null  int64  \n 2   number_of_recomm  12000 non-null  int64  \n 3   train_articles    12000 non-null  int64  \n 4   test_articles     12000 non-null  int64  \n 5   precision         10107 non-null  float64\n 6   recall            10107 non-null  float64\ndtypes: float64(2), int64(4), object(1)\nmemory usage: 750.0+ KB\n"
     ]
    }
   ],
   "source": [
    "results.info()"
   ]
  },
  {
   "cell_type": "code",
   "execution_count": 7,
   "metadata": {},
   "outputs": [
    {
     "output_type": "execute_result",
     "data": {
      "text/plain": [
       "['x', 'x', 'x', 'x', 'x']"
      ]
     },
     "metadata": {},
     "execution_count": 7
    }
   ],
   "source": [
    "i = 5\n",
    "\n",
    "interactions = user_db[~((user_db[\"user_id\"] == i) & (user_db[\"nzz_id\"].isin(user_articles_2)))]"
   ]
  },
  {
   "cell_type": "code",
   "execution_count": null,
   "metadata": {},
   "outputs": [],
   "source": []
  }
 ]
}