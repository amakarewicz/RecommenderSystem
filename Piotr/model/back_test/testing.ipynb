{
 "metadata": {
  "language_info": {
   "codemirror_mode": {
    "name": "ipython",
    "version": 3
   },
   "file_extension": ".py",
   "mimetype": "text/x-python",
   "name": "python",
   "nbconvert_exporter": "python",
   "pygments_lexer": "ipython3",
   "version": "3.9.0"
  },
  "orig_nbformat": 2,
  "kernelspec": {
   "name": "python390jvsc74a57bd07799ce36c48005a68e236bac859ea1c436d17ded1a929ff4f5154cd9b5438e8d",
   "display_name": "Python 3.9.0 64-bit"
  }
 },
 "nbformat": 4,
 "nbformat_minor": 2,
 "cells": [
  {
   "cell_type": "code",
   "execution_count": 2,
   "metadata": {},
   "outputs": [],
   "source": [
    "import sys\n",
    "sys.path.insert(1, '../main_model')\n",
    "\n",
    "from some_functions import *\n",
    "from popularity_model import *\n",
    "import pandas as pd\n",
    "import numpy as np \n",
    "from submodel_merge import *"
   ]
  },
  {
   "cell_type": "code",
   "execution_count": 3,
   "metadata": {},
   "outputs": [],
   "source": [
    "art_db = get_db(r'C:\\Users\\a814811\\OneDrive - Atos\\RecommenderSystem\\art_clean_wt_all_popularity.csv')\n",
    "user_db = get_db(r'C:\\Users\\a814811\\OneDrive - Atos\\RecommenderSystem\\readers.csv')"
   ]
  },
  {
   "cell_type": "code",
   "execution_count": 4,
   "metadata": {},
   "outputs": [
    {
     "output_type": "stream",
     "name": "stdout",
     "text": [
      "Empty DataFrame\nColumns: [model, user, number_of_recomm, user_articles, precision, recall, model_ev]\nIndex: []\n"
     ]
    }
   ],
   "source": [
    "# create empty DF\n",
    "col = ['model','user','number_of_recomm','user_articles','precision','recall','model_ev']\n",
    "results = pd.DataFrame(columns=col)\n",
    "print(results)"
   ]
  },
  {
   "cell_type": "code",
   "execution_count": 5,
   "metadata": {},
   "outputs": [
    {
     "output_type": "stream",
     "name": "stdout",
     "text": [
      "           model user number_of_recomm user_articles  precision    recall  \\\n192   popularity   64                5            50        0.8  0.080000   \n567   popularity  189                5            50        0.8  0.080000   \n2922  popularity  974                5            50        0.8  0.080000   \n423   popularity  141                5            49        0.8  0.081633   \n2310  popularity  770                5            35        0.8  0.114286   \n...          ...  ...              ...           ...        ...       ...   \n1433  popularity  477               15             7        0.0  0.000000   \n1503  popularity  501                5            49        0.0  0.000000   \n0     popularity    0                5             0        NaN       NaN   \n1     popularity    0               10             0        NaN       NaN   \n2     popularity    0               15             0        NaN       NaN   \n\n     model_ev  \n192         1  \n567         1  \n2922        1  \n423         1  \n2310        1  \n...       ...  \n1433        1  \n1503        1  \n0           1  \n1           1  \n2           1  \n\n[3003 rows x 7 columns]\n"
     ]
    }
   ],
   "source": [
    "for us in range(1001):\n",
    "    for li in range(5,16,5):\n",
    "        User1 = Popularity_model(articles_db=art_db,            user_db=user_db)\n",
    "        r = User1.recommend(user_id=us,limit=li,ignored=False)\n",
    "        u_a = User1.user_articles(user_db, user_id=us)\n",
    "        df_to_add = pd.DataFrame([['popularity', us, len(r[0]), len(u_a),precision(r[0],u_a),                                             recall(r[0],u_a),r[1]]],columns=col)\n",
    "        results = results.append(df_to_add, ignore_index=True)\n",
    "\n",
    "\n",
    "print(results.sort_values(by='precision',ascending=False))"
   ]
  },
  {
   "cell_type": "code",
   "execution_count": 6,
   "metadata": {},
   "outputs": [
    {
     "output_type": "stream",
     "name": "stdout",
     "text": [
      "           model user number_of_recomm user_articles  precision    recall  \\\n4225      author  407                2            24        1.0  0.083333   \n4224      author  407                2            24        1.0  0.083333   \n4226      author  407                2            24        1.0  0.083333   \n2922  popularity  974                5            50        0.8  0.080000   \n567   popularity  189                5            50        0.8  0.080000   \n...          ...  ...              ...           ...        ...       ...   \n5986      author  994                0            20        NaN       NaN   \n5987      author  994                0            20        NaN       NaN   \n5988      author  995                0             7        NaN       NaN   \n5989      author  995                0             7        NaN       NaN   \n5990      author  995                0             7        NaN       NaN   \n\n     model_ev  \n4225      1.0  \n4224      1.0  \n4226      1.0  \n2922        1  \n567         1  \n...       ...  \n5986        0  \n5987        0  \n5988        0  \n5989        0  \n5990        0  \n\n[6006 rows x 7 columns]\n"
     ]
    }
   ],
   "source": [
    "for us in range(1001):\n",
    "    for li in range(5,16,5):\n",
    "        User1 = Popularity_model_author(articles_db=art_db,            user_db=user_db)\n",
    "        r = User1.recommend(user_id=us,limit=li,ignored=False)\n",
    "        u_a = User1.user_articles(user_db, user_id=us)\n",
    "        df_to_add = pd.DataFrame([['author', us, len(r[0]), len(u_a),precision(r[0],u_a),                                             recall(r[0],u_a),r[1]]],columns=col)\n",
    "        results = results.append(df_to_add, ignore_index=True)\n",
    "\n",
    "\n",
    "print(results.sort_values(by='precision',ascending=False))"
   ]
  },
  {
   "cell_type": "code",
   "execution_count": 14,
   "metadata": {},
   "outputs": [
    {
     "output_type": "execute_result",
     "data": {
      "text/plain": [
       "                       model user number_of_recomm user_articles  precision  \\\n",
       "0                 popularity    0                1             0        NaN   \n",
       "1                 popularity    0                2             0        NaN   \n",
       "2                 popularity    0                3             0        NaN   \n",
       "3                 popularity    0                4             0        NaN   \n",
       "4                 popularity    0                5             0        NaN   \n",
       "...                      ...  ...              ...           ...        ...   \n",
       "47020  department_popularity  349                0             8        NaN   \n",
       "48060  department_popularity  401                0             7        NaN   \n",
       "48940  department_popularity  445                0             6        NaN   \n",
       "54720  department_popularity  734                0             5        NaN   \n",
       "56460  department_popularity  821                0             5        NaN   \n",
       "\n",
       "       recall model_ev  \n",
       "0         NaN        1  \n",
       "1         NaN        1  \n",
       "2         NaN        1  \n",
       "3         NaN        1  \n",
       "4         NaN        1  \n",
       "...       ...      ...  \n",
       "47020     NaN        0  \n",
       "48060     NaN        0  \n",
       "48940     NaN        0  \n",
       "54720     NaN        0  \n",
       "56460     NaN        0  \n",
       "\n",
       "[414 rows x 7 columns]"
      ],
      "text/html": "<div>\n<style scoped>\n    .dataframe tbody tr th:only-of-type {\n        vertical-align: middle;\n    }\n\n    .dataframe tbody tr th {\n        vertical-align: top;\n    }\n\n    .dataframe thead th {\n        text-align: right;\n    }\n</style>\n<table border=\"1\" class=\"dataframe\">\n  <thead>\n    <tr style=\"text-align: right;\">\n      <th></th>\n      <th>model</th>\n      <th>user</th>\n      <th>number_of_recomm</th>\n      <th>user_articles</th>\n      <th>precision</th>\n      <th>recall</th>\n      <th>model_ev</th>\n    </tr>\n  </thead>\n  <tbody>\n    <tr>\n      <th>0</th>\n      <td>popularity</td>\n      <td>0</td>\n      <td>1</td>\n      <td>0</td>\n      <td>NaN</td>\n      <td>NaN</td>\n      <td>1</td>\n    </tr>\n    <tr>\n      <th>1</th>\n      <td>popularity</td>\n      <td>0</td>\n      <td>2</td>\n      <td>0</td>\n      <td>NaN</td>\n      <td>NaN</td>\n      <td>1</td>\n    </tr>\n    <tr>\n      <th>2</th>\n      <td>popularity</td>\n      <td>0</td>\n      <td>3</td>\n      <td>0</td>\n      <td>NaN</td>\n      <td>NaN</td>\n      <td>1</td>\n    </tr>\n    <tr>\n      <th>3</th>\n      <td>popularity</td>\n      <td>0</td>\n      <td>4</td>\n      <td>0</td>\n      <td>NaN</td>\n      <td>NaN</td>\n      <td>1</td>\n    </tr>\n    <tr>\n      <th>4</th>\n      <td>popularity</td>\n      <td>0</td>\n      <td>5</td>\n      <td>0</td>\n      <td>NaN</td>\n      <td>NaN</td>\n      <td>1</td>\n    </tr>\n    <tr>\n      <th>...</th>\n      <td>...</td>\n      <td>...</td>\n      <td>...</td>\n      <td>...</td>\n      <td>...</td>\n      <td>...</td>\n      <td>...</td>\n    </tr>\n    <tr>\n      <th>47020</th>\n      <td>department_popularity</td>\n      <td>349</td>\n      <td>0</td>\n      <td>8</td>\n      <td>NaN</td>\n      <td>NaN</td>\n      <td>0</td>\n    </tr>\n    <tr>\n      <th>48060</th>\n      <td>department_popularity</td>\n      <td>401</td>\n      <td>0</td>\n      <td>7</td>\n      <td>NaN</td>\n      <td>NaN</td>\n      <td>0</td>\n    </tr>\n    <tr>\n      <th>48940</th>\n      <td>department_popularity</td>\n      <td>445</td>\n      <td>0</td>\n      <td>6</td>\n      <td>NaN</td>\n      <td>NaN</td>\n      <td>0</td>\n    </tr>\n    <tr>\n      <th>54720</th>\n      <td>department_popularity</td>\n      <td>734</td>\n      <td>0</td>\n      <td>5</td>\n      <td>NaN</td>\n      <td>NaN</td>\n      <td>0</td>\n    </tr>\n    <tr>\n      <th>56460</th>\n      <td>department_popularity</td>\n      <td>821</td>\n      <td>0</td>\n      <td>5</td>\n      <td>NaN</td>\n      <td>NaN</td>\n      <td>0</td>\n    </tr>\n  </tbody>\n</table>\n<p>414 rows × 7 columns</p>\n</div>"
     },
     "metadata": {},
     "execution_count": 14
    }
   ],
   "source": [
    "results[results['precision'].isna()]"
   ]
  },
  {
   "cell_type": "code",
   "execution_count": 11,
   "metadata": {},
   "outputs": [
    {
     "output_type": "stream",
     "name": "stdout",
     "text": [
      "                       model user number_of_recomm user_articles  precision  \\\n8800              popularity  440                1            17        1.0   \n9441              popularity  472                2            35        1.0   \n7780              popularity  389                1            26        1.0   \n29321     authors_popularity  465                2            38        1.0   \n29320     authors_popularity  465                1            38        1.0   \n...                      ...  ...              ...           ...        ...   \n56475  department_popularity  821                0             5        NaN   \n56476  department_popularity  821                0             5        NaN   \n56477  department_popularity  821                0             5        NaN   \n56478  department_popularity  821                0             5        NaN   \n56479  department_popularity  821                0             5        NaN   \n\n         recall model_ev  \n8800   0.058824        1  \n9441   0.057143        1  \n7780   0.038462        1  \n29321  0.052632     2.24  \n29320  0.026316     2.24  \n...         ...      ...  \n56475       NaN        0  \n56476       NaN        0  \n56477       NaN        0  \n56478       NaN        0  \n56479       NaN        0  \n\n[60060 rows x 7 columns]\n"
     ]
    }
   ],
   "source": [
    "for us in range(1001):\n",
    "    for li in range(5,16,5):\n",
    "        User1 = Popularity_model_department(articles_db=art_db,            user_db=user_db)\n",
    "        r = User1.recommend(user_id=us,limit=li,ignored=False)\n",
    "        u_a = User1.user_articles(user_db, user_id=us)\n",
    "        df_to_add = pd.DataFrame([['department', us, len(r[0]), len(u_a),precision(r[0],u_a),                                             recall(r[0],u_a),r[1]]],columns=col)\n",
    "        results = results.append(df_to_add, ignore_index=True)\n",
    "\n",
    "\n",
    "print(results.sort_values(by='precision',ascending=False))"
   ]
  },
  {
   "cell_type": "code",
   "execution_count": 17,
   "metadata": {},
   "outputs": [
    {
     "output_type": "stream",
     "name": "stdout",
     "text": [
      "        model user number_of_recomm user_articles  precision    recall  \\\n1560   merged   78                1            13        1.0  0.076923   \n16840  merged  842                1            42        1.0  0.023810   \n8501   merged  425                2            29        1.0  0.068966   \n8940   merged  447                1            21        1.0  0.047619   \n3820   merged  191                1            41        1.0  0.024390   \n...       ...  ...              ...           ...        ...       ...   \n15     merged    0               16             0        NaN       NaN   \n16     merged    0               17             0        NaN       NaN   \n17     merged    0               18             0        NaN       NaN   \n18     merged    0               19             0        NaN       NaN   \n19     merged    0               20             0        NaN       NaN   \n\n       model_ev  \n1560        NaN  \n16840       NaN  \n8501        NaN  \n8940        NaN  \n3820        NaN  \n...         ...  \n15          NaN  \n16          NaN  \n17          NaN  \n18          NaN  \n19          NaN  \n\n[20020 rows x 7 columns]\n"
     ]
    }
   ],
   "source": [
    "for us in range(1001):\n",
    "    for li in range(5,16,5):\n",
    "        User1 = Popularity_model_final(articles_db=art_db,            user_db=user_db)\n",
    "        r = User1.recommend(user_id=us,limit=li,ignored=False)\n",
    "        u_a = User1.user_articles(user_db, user_id=us)\n",
    "        df_to_add = pd.DataFrame([['final', us, len(r[0]), len(u_a),precision(r[0],u_a),                                             recall(r[0],u_a),r[1]]],columns=col)\n",
    "        results = results.append(df_to_add, ignore_index=True)\n",
    "\n",
    "\n",
    "print(results.sort_values(by='precision',ascending=False))"
   ]
  },
  {
   "cell_type": "code",
   "execution_count": 21,
   "metadata": {},
   "outputs": [],
   "source": [
    "results.to_csv(\"test_results2\", encoding=\"utf-8\", index=False)"
   ]
  },
  {
   "cell_type": "code",
   "execution_count": 19,
   "metadata": {},
   "outputs": [],
   "source": [
    "results.drop_duplicates(inplace=True)"
   ]
  },
  {
   "cell_type": "code",
   "execution_count": 20,
   "metadata": {},
   "outputs": [
    {
     "output_type": "stream",
     "name": "stdout",
     "text": [
      "<class 'pandas.core.frame.DataFrame'>\nInt64Index: 20020 entries, 0 to 20019\nData columns (total 7 columns):\n #   Column            Non-Null Count  Dtype  \n---  ------            --------------  -----  \n 0   model             20020 non-null  object \n 1   user              20020 non-null  object \n 2   number_of_recomm  20020 non-null  object \n 3   user_articles     20020 non-null  object \n 4   precision         20000 non-null  float64\n 5   recall            20000 non-null  float64\n 6   model_ev          0 non-null      float64\ndtypes: float64(3), object(4)\nmemory usage: 1.2+ MB\n"
     ]
    }
   ],
   "source": [
    "results.info()"
   ]
  },
  {
   "cell_type": "code",
   "execution_count": null,
   "metadata": {},
   "outputs": [],
   "source": []
  }
 ]
}