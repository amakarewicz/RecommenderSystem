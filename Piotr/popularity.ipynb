{
 "metadata": {
  "language_info": {
   "codemirror_mode": {
    "name": "ipython",
    "version": 3
   },
   "file_extension": ".py",
   "mimetype": "text/x-python",
   "name": "python",
   "nbconvert_exporter": "python",
   "pygments_lexer": "ipython3",
   "version": "3.9.0-final"
  },
  "orig_nbformat": 2,
  "kernelspec": {
   "name": "python390jvsc74a57bd07799ce36c48005a68e236bac859ea1c436d17ded1a929ff4f5154cd9b5438e8d",
   "display_name": "Python 3.9.0 64-bit"
  }
 },
 "nbformat": 4,
 "nbformat_minor": 2,
 "cells": [
  {
   "source": [
    "#### skrypt wyrzucający popularność artykułu do pliku csv"
   ],
   "cell_type": "markdown",
   "metadata": {}
  },
  {
   "source": [
    "import csv\n",
    "import pandas as pd\n",
    "import numpy as np"
   ],
   "cell_type": "code",
   "metadata": {},
   "execution_count": null,
   "outputs": []
  },
  {
   "cell_type": "code",
   "execution_count": 5,
   "metadata": {},
   "outputs": [],
   "source": [
    "articles = pd.read_json(r'C:\\Users\\a814811\\OneDrive - Atos\\Documents\\dane\\articles.json',lines=True)\n",
    "rev = pd.read_csv(r'C:\\Users\\a814811\\OneDrive - Atos\\Documents\\dane\\readers.csv')"
   ]
  },
  {
   "cell_type": "code",
   "execution_count": 32,
   "metadata": {},
   "outputs": [
    {
     "output_type": "execute_result",
     "data": {
      "text/plain": [
       "         id      art_id\n",
       "0         1   ld.154103\n",
       "1         1   ld.142559\n",
       "2         1  1.18331199\n",
       "3         1   ld.144819\n",
       "4         1  ld.1293110\n",
       "...     ...         ...\n",
       "27850  1000   ld.153608\n",
       "27851  1000   ld.137667\n",
       "27852  1000  ld.1289804\n",
       "27853  1000   ld.154369\n",
       "27854  1000   ld.153813\n",
       "\n",
       "[27855 rows x 2 columns]"
      ],
      "text/html": "<div>\n<style scoped>\n    .dataframe tbody tr th:only-of-type {\n        vertical-align: middle;\n    }\n\n    .dataframe tbody tr th {\n        vertical-align: top;\n    }\n\n    .dataframe thead th {\n        text-align: right;\n    }\n</style>\n<table border=\"1\" class=\"dataframe\">\n  <thead>\n    <tr style=\"text-align: right;\">\n      <th></th>\n      <th>id</th>\n      <th>art_id</th>\n    </tr>\n  </thead>\n  <tbody>\n    <tr>\n      <th>0</th>\n      <td>1</td>\n      <td>ld.154103</td>\n    </tr>\n    <tr>\n      <th>1</th>\n      <td>1</td>\n      <td>ld.142559</td>\n    </tr>\n    <tr>\n      <th>2</th>\n      <td>1</td>\n      <td>1.18331199</td>\n    </tr>\n    <tr>\n      <th>3</th>\n      <td>1</td>\n      <td>ld.144819</td>\n    </tr>\n    <tr>\n      <th>4</th>\n      <td>1</td>\n      <td>ld.1293110</td>\n    </tr>\n    <tr>\n      <th>...</th>\n      <td>...</td>\n      <td>...</td>\n    </tr>\n    <tr>\n      <th>27850</th>\n      <td>1000</td>\n      <td>ld.153608</td>\n    </tr>\n    <tr>\n      <th>27851</th>\n      <td>1000</td>\n      <td>ld.137667</td>\n    </tr>\n    <tr>\n      <th>27852</th>\n      <td>1000</td>\n      <td>ld.1289804</td>\n    </tr>\n    <tr>\n      <th>27853</th>\n      <td>1000</td>\n      <td>ld.154369</td>\n    </tr>\n    <tr>\n      <th>27854</th>\n      <td>1000</td>\n      <td>ld.153813</td>\n    </tr>\n  </tbody>\n</table>\n<p>27855 rows × 2 columns</p>\n</div>"
     },
     "metadata": {},
     "execution_count": 32
    }
   ],
   "source": [
    "rev"
   ]
  },
  {
   "cell_type": "code",
   "execution_count": 134,
   "metadata": {},
   "outputs": [],
   "source": [
    "#counted = rev.groupby(\"art_id\").art_id.count()#.sort_values(by=\"art_id\",ascending=False)\n",
    "#counted = rev.groupby(\"art_id\").id.agg([len]).sort_values(by=\"len\",ascending=False)\n",
    "# rev.groupby(\"art_id\").apply(lambda df: df.count())\n",
    "#counted = rev.groupby(\"art_id\")['id'].count()\n",
    "counted = rev.groupby(['art_id']).agg({'id':len}).reset_index().sort_values(by=\"id\",ascending=False)\n",
    "counted['id'] = counted['id']/counted['id'].max()\n",
    "counted = counted.rename(columns={'id':'popularity'})"
   ]
  },
  {
   "cell_type": "code",
   "execution_count": 135,
   "metadata": {},
   "outputs": [],
   "source": [
    "# dodane popularity zapisuje do csv\n",
    "counted.to_csv(index=False,path_or_buf='article_popularity.csv')"
   ]
  },
  {
   "cell_type": "code",
   "execution_count": null,
   "metadata": {},
   "outputs": [],
   "source": []
  }
 ]
}