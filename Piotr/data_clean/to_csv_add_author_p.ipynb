{
 "metadata": {
  "language_info": {
   "codemirror_mode": {
    "name": "ipython",
    "version": 3
   },
   "file_extension": ".py",
   "mimetype": "text/x-python",
   "name": "python",
   "nbconvert_exporter": "python",
   "pygments_lexer": "ipython3",
   "version": "3.9.0-final"
  },
  "orig_nbformat": 2,
  "kernelspec": {
   "name": "python390jvsc74a57bd07799ce36c48005a68e236bac859ea1c436d17ded1a929ff4f5154cd9b5438e8d",
   "display_name": "Python 3.9.0 64-bit"
  }
 },
 "nbformat": 4,
 "nbformat_minor": 2,
 "cells": [
  {
   "cell_type": "code",
   "execution_count": 1,
   "metadata": {},
   "outputs": [],
   "source": [
    "import csv\n",
    "import pandas as pd\n",
    "import numpy as np"
   ]
  },
  {
   "cell_type": "code",
   "execution_count": 3,
   "metadata": {},
   "outputs": [
    {
     "output_type": "execute_result",
     "data": {
      "text/plain": [
       "       nzz_id           author                             catchline  \\\n",
       "0   ld.149648  Claudia Gabriel  Obligationenfonds mit fixer Laufzeit   \n",
       "1  1.18145900          Unknown                               Unknown   \n",
       "2   ld.138769          Unknown                     E-Banking-Ausfall   \n",
       "3   ld.143700          Unknown                  Terror in Frankreich   \n",
       "4   ld.149385          Unknown                     Unglück in Panama   \n",
       "\n",
       "                                             content  content_length  \\\n",
       "0     Obligationenfonds mit fixer Laufzeit  Es gi...             704   \n",
       "1                                                NaN               0   \n",
       "2     E-Banking-Ausfall  Postfinance kämpft mit d...             523   \n",
       "3     Terror in Frankreich  Louvre nach Macheten-...             180   \n",
       "4     Unglück in Panama  Bus prallt gegen eine Ma...             117   \n",
       "\n",
       "      department                                          lead_text  \\\n",
       "0       Finanzen  Die Idee ist gut: Statt einer einzigen Obligat...   \n",
       "1       Panorama  Zum Auftakt der Fashion Week in New York zeige...   \n",
       "2       Finanzen  Seit Sonntag funktioniert das E-Banking der Po...   \n",
       "3  International  Einen Tag nach dem Angriff auf Soldaten beim P...   \n",
       "4       Panorama  Bei einem Busunglück in Panama sind 17 Persone...   \n",
       "\n",
       "                  pub_date                                            title  \\\n",
       "0  2017-03-09 08:01:21.000              Es gibt noch interessante Varianten   \n",
       "1  2017-04-11 14:00:29.473                            Fashion Week New York   \n",
       "2  2017-01-09 13:55:00.000                Postfinance kämpft mit dem System   \n",
       "3  2017-02-04 12:50:25.000     Louvre nach Macheten-Angriff wieder geöffnet   \n",
       "4  2017-03-06 07:31:21.000  Bus prallt gegen eine Mauer und stürzt in Fluss   \n",
       "\n",
       "   popularity  \n",
       "0    0.009009  \n",
       "1    0.000000  \n",
       "2    0.009009  \n",
       "3    0.004505  \n",
       "4    0.000000  "
      ],
      "text/html": "<div>\n<style scoped>\n    .dataframe tbody tr th:only-of-type {\n        vertical-align: middle;\n    }\n\n    .dataframe tbody tr th {\n        vertical-align: top;\n    }\n\n    .dataframe thead th {\n        text-align: right;\n    }\n</style>\n<table border=\"1\" class=\"dataframe\">\n  <thead>\n    <tr style=\"text-align: right;\">\n      <th></th>\n      <th>nzz_id</th>\n      <th>author</th>\n      <th>catchline</th>\n      <th>content</th>\n      <th>content_length</th>\n      <th>department</th>\n      <th>lead_text</th>\n      <th>pub_date</th>\n      <th>title</th>\n      <th>popularity</th>\n    </tr>\n  </thead>\n  <tbody>\n    <tr>\n      <th>0</th>\n      <td>ld.149648</td>\n      <td>Claudia Gabriel</td>\n      <td>Obligationenfonds mit fixer Laufzeit</td>\n      <td>Obligationenfonds mit fixer Laufzeit  Es gi...</td>\n      <td>704</td>\n      <td>Finanzen</td>\n      <td>Die Idee ist gut: Statt einer einzigen Obligat...</td>\n      <td>2017-03-09 08:01:21.000</td>\n      <td>Es gibt noch interessante Varianten</td>\n      <td>0.009009</td>\n    </tr>\n    <tr>\n      <th>1</th>\n      <td>1.18145900</td>\n      <td>Unknown</td>\n      <td>Unknown</td>\n      <td>NaN</td>\n      <td>0</td>\n      <td>Panorama</td>\n      <td>Zum Auftakt der Fashion Week in New York zeige...</td>\n      <td>2017-04-11 14:00:29.473</td>\n      <td>Fashion Week New York</td>\n      <td>0.000000</td>\n    </tr>\n    <tr>\n      <th>2</th>\n      <td>ld.138769</td>\n      <td>Unknown</td>\n      <td>E-Banking-Ausfall</td>\n      <td>E-Banking-Ausfall  Postfinance kämpft mit d...</td>\n      <td>523</td>\n      <td>Finanzen</td>\n      <td>Seit Sonntag funktioniert das E-Banking der Po...</td>\n      <td>2017-01-09 13:55:00.000</td>\n      <td>Postfinance kämpft mit dem System</td>\n      <td>0.009009</td>\n    </tr>\n    <tr>\n      <th>3</th>\n      <td>ld.143700</td>\n      <td>Unknown</td>\n      <td>Terror in Frankreich</td>\n      <td>Terror in Frankreich  Louvre nach Macheten-...</td>\n      <td>180</td>\n      <td>International</td>\n      <td>Einen Tag nach dem Angriff auf Soldaten beim P...</td>\n      <td>2017-02-04 12:50:25.000</td>\n      <td>Louvre nach Macheten-Angriff wieder geöffnet</td>\n      <td>0.004505</td>\n    </tr>\n    <tr>\n      <th>4</th>\n      <td>ld.149385</td>\n      <td>Unknown</td>\n      <td>Unglück in Panama</td>\n      <td>Unglück in Panama  Bus prallt gegen eine Ma...</td>\n      <td>117</td>\n      <td>Panorama</td>\n      <td>Bei einem Busunglück in Panama sind 17 Persone...</td>\n      <td>2017-03-06 07:31:21.000</td>\n      <td>Bus prallt gegen eine Mauer und stürzt in Fluss</td>\n      <td>0.000000</td>\n    </tr>\n  </tbody>\n</table>\n</div>"
     },
     "metadata": {},
     "execution_count": 3
    }
   ],
   "source": [
    "art = pd.read_csv(r'C:\\Users\\a814811\\OneDrive - Atos\\RecommenderSystem\\Piotr\\art_clean_with_popularity.csv')\n",
    "# max liczba odsłon wynosi 222\n",
    "art.head()\n",
    "# art['popularity'].head()*222"
   ]
  },
  {
   "cell_type": "code",
   "execution_count": 4,
   "metadata": {},
   "outputs": [
    {
     "output_type": "execute_result",
     "data": {
      "text/plain": [
       "                         author  author_occurences  author_popularity\n",
       "0                  (dpa) / wdh.                  1           0.000000\n",
       "1                         (sda)                  7           0.002865\n",
       "2                    (sda)/bsn.                  1           0.000000\n",
       "3                    (sda)/wdh.                  1           0.000000\n",
       "4  A. Giudici und N. Stojanovic                  1           0.000000"
      ],
      "text/html": "<div>\n<style scoped>\n    .dataframe tbody tr th:only-of-type {\n        vertical-align: middle;\n    }\n\n    .dataframe tbody tr th {\n        vertical-align: top;\n    }\n\n    .dataframe thead th {\n        text-align: right;\n    }\n</style>\n<table border=\"1\" class=\"dataframe\">\n  <thead>\n    <tr style=\"text-align: right;\">\n      <th></th>\n      <th>author</th>\n      <th>author_occurences</th>\n      <th>author_popularity</th>\n    </tr>\n  </thead>\n  <tbody>\n    <tr>\n      <th>0</th>\n      <td>(dpa) / wdh.</td>\n      <td>1</td>\n      <td>0.000000</td>\n    </tr>\n    <tr>\n      <th>1</th>\n      <td>(sda)</td>\n      <td>7</td>\n      <td>0.002865</td>\n    </tr>\n    <tr>\n      <th>2</th>\n      <td>(sda)/bsn.</td>\n      <td>1</td>\n      <td>0.000000</td>\n    </tr>\n    <tr>\n      <th>3</th>\n      <td>(sda)/wdh.</td>\n      <td>1</td>\n      <td>0.000000</td>\n    </tr>\n    <tr>\n      <th>4</th>\n      <td>A. Giudici und N. Stojanovic</td>\n      <td>1</td>\n      <td>0.000000</td>\n    </tr>\n  </tbody>\n</table>\n</div>"
     },
     "metadata": {},
     "execution_count": 4
    }
   ],
   "source": [
    "to_merge = art.groupby('author').agg({'nzz_id':len,'popularity':sum}).reset_index()\n",
    "to_merge=to_merge.rename(columns={'nzz_id':'author_occurences','popularity':'author_popularity'})\n",
    "\n",
    "# zmieniam nieznanego autora na 0\n",
    "to_merge.loc[to_merge.author =='Unknown',['author_occurences','author_popularity']] = 0 , 0\n",
    "# to_merge[to_merge.author =='Claudia Gabriel']\n",
    "to_merge['author_popularity'] = to_merge['author_popularity'] * 222\n",
    "to_merge['author_popularity'] = to_merge['author_popularity']/max(to_merge['author_popularity'])\n",
    "# author popularity oznacza liczbe odsłon autora / max(liczbe odsłon autora)\n",
    "to_merge.head()\n"
   ]
  },
  {
   "cell_type": "code",
   "execution_count": 5,
   "metadata": {},
   "outputs": [],
   "source": [
    "art = art.join(to_merge.set_index('author'), on='author')"
   ]
  },
  {
   "cell_type": "code",
   "execution_count": 6,
   "metadata": {},
   "outputs": [
    {
     "output_type": "execute_result",
     "data": {
      "text/plain": [
       "       nzz_id           author                             catchline  \\\n",
       "0   ld.149648  Claudia Gabriel  Obligationenfonds mit fixer Laufzeit   \n",
       "1  1.18145900          Unknown                               Unknown   \n",
       "2   ld.138769          Unknown                     E-Banking-Ausfall   \n",
       "3   ld.143700          Unknown                  Terror in Frankreich   \n",
       "4   ld.149385          Unknown                     Unglück in Panama   \n",
       "\n",
       "                                             content  content_length  \\\n",
       "0     Obligationenfonds mit fixer Laufzeit  Es gi...             704   \n",
       "1                                                NaN               0   \n",
       "2     E-Banking-Ausfall  Postfinance kämpft mit d...             523   \n",
       "3     Terror in Frankreich  Louvre nach Macheten-...             180   \n",
       "4     Unglück in Panama  Bus prallt gegen eine Ma...             117   \n",
       "\n",
       "      department                                          lead_text  \\\n",
       "0       Finanzen  Die Idee ist gut: Statt einer einzigen Obligat...   \n",
       "1       Panorama  Zum Auftakt der Fashion Week in New York zeige...   \n",
       "2       Finanzen  Seit Sonntag funktioniert das E-Banking der Po...   \n",
       "3  International  Einen Tag nach dem Angriff auf Soldaten beim P...   \n",
       "4       Panorama  Bei einem Busunglück in Panama sind 17 Persone...   \n",
       "\n",
       "                  pub_date                                            title  \\\n",
       "0  2017-03-09 08:01:21.000              Es gibt noch interessante Varianten   \n",
       "1  2017-04-11 14:00:29.473                            Fashion Week New York   \n",
       "2  2017-01-09 13:55:00.000                Postfinance kämpft mit dem System   \n",
       "3  2017-02-04 12:50:25.000     Louvre nach Macheten-Angriff wieder geöffnet   \n",
       "4  2017-03-06 07:31:21.000  Bus prallt gegen eine Mauer und stürzt in Fluss   \n",
       "\n",
       "   popularity  author_occurences  author_popularity  \n",
       "0    0.009009                 57           0.157593  \n",
       "1    0.000000                  0           0.000000  \n",
       "2    0.009009                  0           0.000000  \n",
       "3    0.004505                  0           0.000000  \n",
       "4    0.000000                  0           0.000000  "
      ],
      "text/html": "<div>\n<style scoped>\n    .dataframe tbody tr th:only-of-type {\n        vertical-align: middle;\n    }\n\n    .dataframe tbody tr th {\n        vertical-align: top;\n    }\n\n    .dataframe thead th {\n        text-align: right;\n    }\n</style>\n<table border=\"1\" class=\"dataframe\">\n  <thead>\n    <tr style=\"text-align: right;\">\n      <th></th>\n      <th>nzz_id</th>\n      <th>author</th>\n      <th>catchline</th>\n      <th>content</th>\n      <th>content_length</th>\n      <th>department</th>\n      <th>lead_text</th>\n      <th>pub_date</th>\n      <th>title</th>\n      <th>popularity</th>\n      <th>author_occurences</th>\n      <th>author_popularity</th>\n    </tr>\n  </thead>\n  <tbody>\n    <tr>\n      <th>0</th>\n      <td>ld.149648</td>\n      <td>Claudia Gabriel</td>\n      <td>Obligationenfonds mit fixer Laufzeit</td>\n      <td>Obligationenfonds mit fixer Laufzeit  Es gi...</td>\n      <td>704</td>\n      <td>Finanzen</td>\n      <td>Die Idee ist gut: Statt einer einzigen Obligat...</td>\n      <td>2017-03-09 08:01:21.000</td>\n      <td>Es gibt noch interessante Varianten</td>\n      <td>0.009009</td>\n      <td>57</td>\n      <td>0.157593</td>\n    </tr>\n    <tr>\n      <th>1</th>\n      <td>1.18145900</td>\n      <td>Unknown</td>\n      <td>Unknown</td>\n      <td>NaN</td>\n      <td>0</td>\n      <td>Panorama</td>\n      <td>Zum Auftakt der Fashion Week in New York zeige...</td>\n      <td>2017-04-11 14:00:29.473</td>\n      <td>Fashion Week New York</td>\n      <td>0.000000</td>\n      <td>0</td>\n      <td>0.000000</td>\n    </tr>\n    <tr>\n      <th>2</th>\n      <td>ld.138769</td>\n      <td>Unknown</td>\n      <td>E-Banking-Ausfall</td>\n      <td>E-Banking-Ausfall  Postfinance kämpft mit d...</td>\n      <td>523</td>\n      <td>Finanzen</td>\n      <td>Seit Sonntag funktioniert das E-Banking der Po...</td>\n      <td>2017-01-09 13:55:00.000</td>\n      <td>Postfinance kämpft mit dem System</td>\n      <td>0.009009</td>\n      <td>0</td>\n      <td>0.000000</td>\n    </tr>\n    <tr>\n      <th>3</th>\n      <td>ld.143700</td>\n      <td>Unknown</td>\n      <td>Terror in Frankreich</td>\n      <td>Terror in Frankreich  Louvre nach Macheten-...</td>\n      <td>180</td>\n      <td>International</td>\n      <td>Einen Tag nach dem Angriff auf Soldaten beim P...</td>\n      <td>2017-02-04 12:50:25.000</td>\n      <td>Louvre nach Macheten-Angriff wieder geöffnet</td>\n      <td>0.004505</td>\n      <td>0</td>\n      <td>0.000000</td>\n    </tr>\n    <tr>\n      <th>4</th>\n      <td>ld.149385</td>\n      <td>Unknown</td>\n      <td>Unglück in Panama</td>\n      <td>Unglück in Panama  Bus prallt gegen eine Ma...</td>\n      <td>117</td>\n      <td>Panorama</td>\n      <td>Bei einem Busunglück in Panama sind 17 Persone...</td>\n      <td>2017-03-06 07:31:21.000</td>\n      <td>Bus prallt gegen eine Mauer und stürzt in Fluss</td>\n      <td>0.000000</td>\n      <td>0</td>\n      <td>0.000000</td>\n    </tr>\n  </tbody>\n</table>\n</div>"
     },
     "metadata": {},
     "execution_count": 6
    }
   ],
   "source": [
    "art.head()"
   ]
  },
  {
   "cell_type": "code",
   "execution_count": 7,
   "metadata": {},
   "outputs": [],
   "source": [
    "art.to_csv(\"art_clean_wt_popul_authoroccurences.csv\", encoding=\"utf-8\", index=False)"
   ]
  },
  {
   "cell_type": "code",
   "execution_count": 15,
   "metadata": {},
   "outputs": [
    {
     "output_type": "execute_result",
     "data": {
      "text/plain": [
       "           nzz_id           author               catchline  \\\n",
       "7440   1.18108994          Unknown                 Unknown   \n",
       "20515   ld.153477     Nino Maspoli  Asus Zenbook 3 im Test   \n",
       "12766  ld.1086062  Stephanie Kusma                    Quiz   \n",
       "6684    ld.153813          Unknown                    Quiz   \n",
       "19520   ld.140509          Unknown            EU-Parlament   \n",
       "\n",
       "                                                 content  content_length  \\\n",
       "7440                                                 NaN               0   \n",
       "20515                                                NaN               0   \n",
       "12766  Mögliche Konturen eines neuen Flughafen-Verhan...             488   \n",
       "6684                                                 NaN               0   \n",
       "19520  EU-ParlamentAuf Martin Schulz folgt Antonio Ta...              37   \n",
       "\n",
       "      department                                          lead_text  \\\n",
       "7440      Tessin  Die Kantone Graubünden und Tessin (Gastkanton ...   \n",
       "20515  Euro 2016  Asus verbaut in seinem neusten Zenbook leistun...   \n",
       "12766     Spiele                                            Unknown   \n",
       "6684      Spiele  Was ziert das Cover des zwölften Albums von Zü...   \n",
       "19520      Video  Erstmals ist ein Italiener Präsident des EU-Pa...   \n",
       "\n",
       "                      pub_date  \\\n",
       "7440   2017-04-11 13:59:48.182   \n",
       "20515  2017-03-26 05:02:00.000   \n",
       "12766  2017-04-16 03:30:00.000   \n",
       "6684   2017-03-27 14:15:12.898   \n",
       "19520  2017-01-18 12:09:44.000   \n",
       "\n",
       "                                                   title  popularity  \\\n",
       "7440              Impressionen aus Tessin und Graubünden    1.000000   \n",
       "20515                      Es fehlt die Liebe zum Detail    0.927928   \n",
       "12766  Testen Sie Ihr Wissen in Vogeleierkunde. Welch...    0.576577   \n",
       "6684      Wie gut kennen Sie Kuno Lauener von Züri West?    0.563063   \n",
       "19520             Auf Martin Schulz folgt Antonio Tajani    0.220721   \n",
       "\n",
       "       author_occurences  author_popularity  \n",
       "7440                   0           0.000000  \n",
       "20515                 11           0.231137  \n",
       "12766                 20           0.225406  \n",
       "6684                   0           0.000000  \n",
       "19520                  0           0.000000  "
      ],
      "text/html": "<div>\n<style scoped>\n    .dataframe tbody tr th:only-of-type {\n        vertical-align: middle;\n    }\n\n    .dataframe tbody tr th {\n        vertical-align: top;\n    }\n\n    .dataframe thead th {\n        text-align: right;\n    }\n</style>\n<table border=\"1\" class=\"dataframe\">\n  <thead>\n    <tr style=\"text-align: right;\">\n      <th></th>\n      <th>nzz_id</th>\n      <th>author</th>\n      <th>catchline</th>\n      <th>content</th>\n      <th>content_length</th>\n      <th>department</th>\n      <th>lead_text</th>\n      <th>pub_date</th>\n      <th>title</th>\n      <th>popularity</th>\n      <th>author_occurences</th>\n      <th>author_popularity</th>\n    </tr>\n  </thead>\n  <tbody>\n    <tr>\n      <th>7440</th>\n      <td>1.18108994</td>\n      <td>Unknown</td>\n      <td>Unknown</td>\n      <td>NaN</td>\n      <td>0</td>\n      <td>Tessin</td>\n      <td>Die Kantone Graubünden und Tessin (Gastkanton ...</td>\n      <td>2017-04-11 13:59:48.182</td>\n      <td>Impressionen aus Tessin und Graubünden</td>\n      <td>1.000000</td>\n      <td>0</td>\n      <td>0.000000</td>\n    </tr>\n    <tr>\n      <th>20515</th>\n      <td>ld.153477</td>\n      <td>Nino Maspoli</td>\n      <td>Asus Zenbook 3 im Test</td>\n      <td>NaN</td>\n      <td>0</td>\n      <td>Euro 2016</td>\n      <td>Asus verbaut in seinem neusten Zenbook leistun...</td>\n      <td>2017-03-26 05:02:00.000</td>\n      <td>Es fehlt die Liebe zum Detail</td>\n      <td>0.927928</td>\n      <td>11</td>\n      <td>0.231137</td>\n    </tr>\n    <tr>\n      <th>12766</th>\n      <td>ld.1086062</td>\n      <td>Stephanie Kusma</td>\n      <td>Quiz</td>\n      <td>Mögliche Konturen eines neuen Flughafen-Verhan...</td>\n      <td>488</td>\n      <td>Spiele</td>\n      <td>Unknown</td>\n      <td>2017-04-16 03:30:00.000</td>\n      <td>Testen Sie Ihr Wissen in Vogeleierkunde. Welch...</td>\n      <td>0.576577</td>\n      <td>20</td>\n      <td>0.225406</td>\n    </tr>\n    <tr>\n      <th>6684</th>\n      <td>ld.153813</td>\n      <td>Unknown</td>\n      <td>Quiz</td>\n      <td>NaN</td>\n      <td>0</td>\n      <td>Spiele</td>\n      <td>Was ziert das Cover des zwölften Albums von Zü...</td>\n      <td>2017-03-27 14:15:12.898</td>\n      <td>Wie gut kennen Sie Kuno Lauener von Züri West?</td>\n      <td>0.563063</td>\n      <td>0</td>\n      <td>0.000000</td>\n    </tr>\n    <tr>\n      <th>19520</th>\n      <td>ld.140509</td>\n      <td>Unknown</td>\n      <td>EU-Parlament</td>\n      <td>EU-ParlamentAuf Martin Schulz folgt Antonio Ta...</td>\n      <td>37</td>\n      <td>Video</td>\n      <td>Erstmals ist ein Italiener Präsident des EU-Pa...</td>\n      <td>2017-01-18 12:09:44.000</td>\n      <td>Auf Martin Schulz folgt Antonio Tajani</td>\n      <td>0.220721</td>\n      <td>0</td>\n      <td>0.000000</td>\n    </tr>\n  </tbody>\n</table>\n</div>"
     },
     "metadata": {},
     "execution_count": 15
    }
   ],
   "source": [
    "art.sort_values(by='popularity',ascending=False).head()"
   ]
  },
  {
   "cell_type": "code",
   "execution_count": null,
   "metadata": {},
   "outputs": [],
   "source": []
  }
 ]
}