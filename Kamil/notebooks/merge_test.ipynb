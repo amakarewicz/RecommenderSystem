{
 "cells": [
  {
   "cell_type": "code",
   "execution_count": 1,
   "metadata": {},
   "outputs": [],
   "source": [
    "import random"
   ]
  },
  {
   "cell_type": "code",
   "execution_count": 30,
   "metadata": {},
   "outputs": [],
   "source": [
    "def choose_recomm(recomm_for_each, weights, limit):\r\n",
    "      probability_choices = random.choices(range(len(recomm_for_each)), weights=weights, k=limit)\r\n",
    "      recommendations = []\r\n",
    "      for choice in probability_choices:\r\n",
    "          print(reccom_for_each)\r\n",
    "          recommendations.append(recomm_for_each[choice].pop(0))\r\n",
    "          print(recomm_for_each)\r\n",
    "      return recommendations"
   ]
  },
  {
   "cell_type": "code",
   "execution_count": 31,
   "metadata": {},
   "outputs": [
    {
     "name": "stdout",
     "output_type": "stream",
     "text": [
      "[['A', 'B', 'C'], ['E', 'F', 'G'], ['H', 'I', 'J']]\n",
      "[['A', 'B', 'C'], ['E', 'F', 'G'], ['I', 'J']]\n",
      "[['A', 'B', 'C'], ['E', 'F', 'G'], ['I', 'J']]\n",
      "[['B', 'C'], ['E', 'F', 'G'], ['I', 'J']]\n",
      "[['B', 'C'], ['E', 'F', 'G'], ['I', 'J']]\n",
      "[['C'], ['E', 'F', 'G'], ['I', 'J']]\n"
     ]
    },
    {
     "data": {
      "text/plain": "['H', 'A', 'B']"
     },
     "execution_count": 31,
     "metadata": {},
     "output_type": "execute_result"
    }
   ],
   "source": [
    "reccom_for_each = [[\"A\", \"B\", \"C\"], [\"E\", \"F\", \"G\"], [\"H\", \"I\", \"J\"]]\r\n",
    "limit = 3\r\n",
    "weights =  (1,2,3)\r\n",
    "\r\n",
    "choose_recomm(recomm_for_each=reccom_for_each, weights=weights, limit=limit)"
   ]
  }
 ],
 "metadata": {
  "kernelspec": {
   "display_name": "Python 3.8.8 64-bit ('python-3.8.8.amd64')",
   "name": "python388jvsc74a57bd0fa40d802589a21bf16ea36e6cbe213719a0e5ddda597750d0ec239eff626732c"
  },
  "language_info": {
   "codemirror_mode": {
    "name": "ipython",
    "version": 3
   },
   "file_extension": ".py",
   "mimetype": "text/x-python",
   "name": "python",
   "nbconvert_exporter": "python",
   "pygments_lexer": "ipython3",
   "version": "3.8.8"
  },
  "orig_nbformat": 2
 },
 "nbformat": 4,
 "nbformat_minor": 2
}