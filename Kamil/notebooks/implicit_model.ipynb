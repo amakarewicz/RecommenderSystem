{
 "cells": [
  {
   "cell_type": "code",
   "execution_count": 1,
   "metadata": {},
   "outputs": [],
   "source": [
    "import pandas as pd\r\n",
    "import numpy as np\r\n",
    "import scipy.sparse as sparse\r\n",
    "import random\r\n",
    "import implicit\r\n",
    "from scipy.sparse import csr_matrix"
   ]
  },
  {
   "cell_type": "code",
   "execution_count": 2,
   "metadata": {},
   "outputs": [
    {
     "data": {
      "text/html": "<div>\n<style scoped>\n    .dataframe tbody tr th:only-of-type {\n        vertical-align: middle;\n    }\n\n    .dataframe tbody tr th {\n        vertical-align: top;\n    }\n\n    .dataframe thead th {\n        text-align: right;\n    }\n</style>\n<table border=\"1\" class=\"dataframe\">\n  <thead>\n    <tr style=\"text-align: right;\">\n      <th></th>\n      <th>user_id</th>\n      <th>nzz_id</th>\n    </tr>\n  </thead>\n  <tbody>\n    <tr>\n      <th>0</th>\n      <td>1</td>\n      <td>ld.154103</td>\n    </tr>\n    <tr>\n      <th>1</th>\n      <td>1</td>\n      <td>ld.142559</td>\n    </tr>\n    <tr>\n      <th>2</th>\n      <td>1</td>\n      <td>1.18331199</td>\n    </tr>\n    <tr>\n      <th>3</th>\n      <td>1</td>\n      <td>ld.144819</td>\n    </tr>\n    <tr>\n      <th>4</th>\n      <td>1</td>\n      <td>ld.1293110</td>\n    </tr>\n  </tbody>\n</table>\n</div>",
      "text/plain": "   user_id      nzz_id\n0        1   ld.154103\n1        1   ld.142559\n2        1  1.18331199\n3        1   ld.144819\n4        1  ld.1293110"
     },
     "execution_count": 2,
     "metadata": {},
     "output_type": "execute_result"
    }
   ],
   "source": [
    "readers = pd.read_csv(\"../data/readers.csv\")\r\n",
    "readers = readers.rename(columns={\"id\":\"user_id\", \"art_id\":\"nzz_id\"})\r\n",
    "readers.head()"
   ]
  },
  {
   "cell_type": "code",
   "execution_count": 3,
   "metadata": {},
   "outputs": [
    {
     "name": "stdout",
     "output_type": "stream",
     "text": [
      "(27855, 2)\n",
      "(27855, 2)\n"
     ]
    }
   ],
   "source": [
    "print(readers.shape)\r\n",
    "readers = readers.drop_duplicates()\r\n",
    "print(readers.shape)"
   ]
  },
  {
   "cell_type": "code",
   "execution_count": 4,
   "metadata": {},
   "outputs": [
    {
     "data": {
      "text/html": "<div>\n<style scoped>\n    .dataframe tbody tr th:only-of-type {\n        vertical-align: middle;\n    }\n\n    .dataframe tbody tr th {\n        vertical-align: top;\n    }\n\n    .dataframe thead th {\n        text-align: right;\n    }\n</style>\n<table border=\"1\" class=\"dataframe\">\n  <thead>\n    <tr style=\"text-align: right;\">\n      <th></th>\n      <th>user_id</th>\n      <th>nzz_id</th>\n    </tr>\n  </thead>\n  <tbody>\n    <tr>\n      <th>10</th>\n      <td>3</td>\n      <td>1.18306956</td>\n    </tr>\n    <tr>\n      <th>11</th>\n      <td>3</td>\n      <td>ld.140509</td>\n    </tr>\n    <tr>\n      <th>12</th>\n      <td>3</td>\n      <td>ld.151615</td>\n    </tr>\n    <tr>\n      <th>13</th>\n      <td>3</td>\n      <td>ld.152374</td>\n    </tr>\n    <tr>\n      <th>14</th>\n      <td>3</td>\n      <td>ld.148811</td>\n    </tr>\n    <tr>\n      <th>...</th>\n      <td>...</td>\n      <td>...</td>\n    </tr>\n    <tr>\n      <th>27850</th>\n      <td>1000</td>\n      <td>ld.153608</td>\n    </tr>\n    <tr>\n      <th>27851</th>\n      <td>1000</td>\n      <td>ld.137667</td>\n    </tr>\n    <tr>\n      <th>27852</th>\n      <td>1000</td>\n      <td>ld.1289804</td>\n    </tr>\n    <tr>\n      <th>27853</th>\n      <td>1000</td>\n      <td>ld.154369</td>\n    </tr>\n    <tr>\n      <th>27854</th>\n      <td>1000</td>\n      <td>ld.153813</td>\n    </tr>\n  </tbody>\n</table>\n<p>27755 rows × 2 columns</p>\n</div>",
      "text/plain": "       user_id      nzz_id\n10           3  1.18306956\n11           3   ld.140509\n12           3   ld.151615\n13           3   ld.152374\n14           3   ld.148811\n...        ...         ...\n27850     1000   ld.153608\n27851     1000   ld.137667\n27852     1000  ld.1289804\n27853     1000   ld.154369\n27854     1000   ld.153813\n\n[27755 rows x 2 columns]"
     },
     "execution_count": 4,
     "metadata": {},
     "output_type": "execute_result"
    }
   ],
   "source": [
    "read_counts = readers[\"user_id\"].value_counts(sort=True)\r\n",
    "read_counts = read_counts.rename_axis(\"user_id\").reset_index(name=\"read_count\")\r\n",
    "# Biorę pod uwagę tylko użytkowników, którzy przeczytali minimum 5 artykułów\r\n",
    "min_read_count = 5\r\n",
    "read_counts = read_counts[read_counts[\"read_count\"] > min_read_count]\r\n",
    "\r\n",
    "readers = readers[readers[\"user_id\"].isin(read_counts[\"user_id\"])]\r\n",
    "readers"
   ]
  },
  {
   "cell_type": "code",
   "execution_count": 5,
   "metadata": {},
   "outputs": [],
   "source": [
    "reader_article_matrix_df = pd.crosstab(\r\n",
    "    readers[\"user_id\"], readers[\"nzz_id\"]\r\n",
    ").fillna(0)\r\n",
    "reader_ids = list(reader_article_matrix_df.index)\r\n",
    "article_ids = list(reader_article_matrix_df.columns)\r\n",
    "reader_article_matrix = reader_article_matrix_df.to_numpy()\r\n",
    "# Type cast do float bo inczej metoda nie obsługuje\r\n",
    "reader_article_csr_matrix = csr_matrix(reader_article_matrix).asfptype()"
   ]
  },
  {
   "cell_type": "code",
   "execution_count": 51,
   "metadata": {},
   "outputs": [
    {
     "data": {
      "text/plain": "14"
     },
     "execution_count": 51,
     "metadata": {},
     "output_type": "execute_result"
    }
   ],
   "source": [
    "reader_ids[11]"
   ]
  },
  {
   "cell_type": "code",
   "execution_count": 6,
   "metadata": {},
   "outputs": [
    {
     "name": "stderr",
     "output_type": "stream",
     "text": [
      "WARNING:root:OpenBLAS detected. Its highly recommend to set the environment variable 'export OPENBLAS_NUM_THREADS=1' to disable its internal multithreading\n",
      "100%|██████████| 100/100 [00:29<00:00,  3.35it/s]\n"
     ]
    }
   ],
   "source": [
    "\r\n",
    "#Building the model\r\n",
    "model = implicit.als.AlternatingLeastSquares(factors=100, regularization=0.1, iterations=100)\r\n",
    "alpha_val = 40\r\n",
    "data_conf = (reader_article_csr_matrix * alpha_val).astype('double')\r\n",
    "model.fit(reader_article_csr_matrix)"
   ]
  },
  {
   "cell_type": "code",
   "execution_count": 7,
   "metadata": {},
   "outputs": [
    {
     "name": "stdout",
     "output_type": "stream",
     "text": [
      "  (0, 824)\t1.0\n",
      "  (0, 1941)\t1.0\n",
      "  (0, 3097)\t1.0\n",
      "  (0, 3613)\t1.0\n",
      "  (0, 4510)\t1.0\n",
      "  (0, 5019)\t1.0\n",
      "  (0, 5372)\t1.0\n",
      "  (0, 6160)\t1.0\n",
      "  (0, 6617)\t1.0\n",
      "  (0, 7497)\t1.0\n",
      "  (0, 8631)\t1.0\n",
      "  (0, 9307)\t1.0\n",
      "  (0, 9596)\t1.0\n",
      "  (0, 9872)\t1.0\n",
      "  (1, 143)\t1.0\n",
      "  (1, 511)\t1.0\n",
      "  (1, 575)\t1.0\n",
      "  (1, 1288)\t1.0\n",
      "  (1, 1360)\t1.0\n",
      "  (1, 1564)\t1.0\n",
      "  (1, 1985)\t1.0\n",
      "  (1, 2153)\t1.0\n",
      "  (1, 2619)\t1.0\n",
      "  (1, 2913)\t1.0\n",
      "  (1, 3045)\t1.0\n",
      "  :\t:\n",
      "  (979, 4796)\t1.0\n",
      "  (979, 5964)\t1.0\n",
      "  (979, 6035)\t1.0\n",
      "  (979, 6254)\t1.0\n",
      "  (979, 6698)\t1.0\n",
      "  (979, 6716)\t1.0\n",
      "  (979, 6726)\t1.0\n",
      "  (979, 7464)\t1.0\n",
      "  (979, 7594)\t1.0\n",
      "  (979, 7606)\t1.0\n",
      "  (979, 7636)\t1.0\n",
      "  (979, 7718)\t1.0\n",
      "  (979, 7837)\t1.0\n",
      "  (979, 8107)\t1.0\n",
      "  (979, 9060)\t1.0\n",
      "  (979, 9286)\t1.0\n",
      "  (979, 9743)\t1.0\n",
      "  (979, 9779)\t1.0\n",
      "  (979, 10239)\t1.0\n",
      "  (979, 10284)\t1.0\n",
      "  (979, 10292)\t1.0\n",
      "  (979, 10364)\t1.0\n",
      "  (979, 10605)\t1.0\n",
      "  (979, 10820)\t1.0\n",
      "  (979, 10855)\t1.0\n"
     ]
    }
   ],
   "source": [
    "print(reader_article_csr_matrix)"
   ]
  },
  {
   "cell_type": "code",
   "execution_count": 48,
   "metadata": {},
   "outputs": [],
   "source": [
    "recoms = model.recommend(11,data_conf)\r\n",
    "impli = [(article_ids[recom[0]]) for recom in recoms]"
   ]
  },
  {
   "cell_type": "code",
   "execution_count": 49,
   "metadata": {},
   "outputs": [
    {
     "data": {
      "text/plain": "[(769, 0.36915892),\n (89, 0.13033877),\n (318, 0.0996528),\n (953, 0.09276729),\n (293, 0.06411597),\n (229, 0.063978046),\n (50, 0.06285694),\n (923, 0.055196084),\n (102, 0.05233226),\n (549, 0.050839707)]"
     },
     "execution_count": 49,
     "metadata": {},
     "output_type": "execute_result"
    }
   ],
   "source": [
    "recoms"
   ]
  },
  {
   "cell_type": "code",
   "execution_count": 9,
   "metadata": {},
   "outputs": [],
   "source": [
    "import sys\r\n",
    "sys.path.append('../code')\r\n",
    "from cf_model import CFModel\r\n",
    "from model_evaluator import ModelEvaluator\r\n",
    "from random_model import RandomModel\r\n",
    "\r\n",
    "model_evaluator = ModelEvaluator()"
   ]
  },
  {
   "cell_type": "code",
   "execution_count": 10,
   "metadata": {},
   "outputs": [
    {
     "data": {
      "text/html": "<div>\n<style scoped>\n    .dataframe tbody tr th:only-of-type {\n        vertical-align: middle;\n    }\n\n    .dataframe tbody tr th {\n        vertical-align: top;\n    }\n\n    .dataframe thead th {\n        text-align: right;\n    }\n</style>\n<table border=\"1\" class=\"dataframe\">\n  <thead>\n    <tr style=\"text-align: right;\">\n      <th></th>\n      <th>nzz_id</th>\n      <th>author</th>\n      <th>catchline</th>\n      <th>department</th>\n      <th>lead_text</th>\n      <th>pub_date</th>\n      <th>title</th>\n      <th>paragraph</th>\n    </tr>\n  </thead>\n  <tbody>\n    <tr>\n      <th>0</th>\n      <td>ld.149648</td>\n      <td>Claudia Gabriel</td>\n      <td>Obligationenfonds mit fixer Laufzeit</td>\n      <td>Finanzen</td>\n      <td>Die Idee ist gut: Statt einer einzigen Obligat...</td>\n      <td>2017-03-09 08:01:21.000</td>\n      <td>Es gibt noch interessante Varianten</td>\n      <td>Die Idee ist gut: Statt einer einzigen Obligat...</td>\n    </tr>\n    <tr>\n      <th>1</th>\n      <td>1.18145900</td>\n      <td>Unknown</td>\n      <td>Fashion Week New York</td>\n      <td>Panorama</td>\n      <td>Zum Auftakt der Fashion Week in New York zeige...</td>\n      <td>2017-04-11 14:00:29.473</td>\n      <td>Fashion Week New York</td>\n      <td>NaN</td>\n    </tr>\n    <tr>\n      <th>2</th>\n      <td>ld.138769</td>\n      <td>Unknown</td>\n      <td>E-Banking-Ausfall</td>\n      <td>Finanzen</td>\n      <td>Seit Sonntag funktioniert das E-Banking der Po...</td>\n      <td>2017-01-09 13:55:00.000</td>\n      <td>Postfinance kämpft mit dem System</td>\n      <td>Seit Sonntag funktioniert das E-Banking der Po...</td>\n    </tr>\n    <tr>\n      <th>3</th>\n      <td>ld.143700</td>\n      <td>Unknown</td>\n      <td>Terror in Frankreich</td>\n      <td>International</td>\n      <td>Einen Tag nach dem Angriff auf Soldaten beim P...</td>\n      <td>2017-02-04 12:50:25.000</td>\n      <td>Louvre nach Macheten-Angriff wieder geöffnet</td>\n      <td>Einen Tag nach dem Angriff auf Soldaten beim P...</td>\n    </tr>\n    <tr>\n      <th>4</th>\n      <td>ld.149385</td>\n      <td>Unknown</td>\n      <td>Unglück in Panama</td>\n      <td>Panorama</td>\n      <td>Bei einem Busunglück in Panama sind 17 Persone...</td>\n      <td>2017-03-06 07:31:21.000</td>\n      <td>Bus prallt gegen eine Mauer und stürzt in Fluss</td>\n      <td>Bei einem Busunglück in Panama sind 17 Persone...</td>\n    </tr>\n  </tbody>\n</table>\n</div>",
      "text/plain": "       nzz_id           author                             catchline  \\\n0   ld.149648  Claudia Gabriel  Obligationenfonds mit fixer Laufzeit   \n1  1.18145900          Unknown                 Fashion Week New York   \n2   ld.138769          Unknown                     E-Banking-Ausfall   \n3   ld.143700          Unknown                  Terror in Frankreich   \n4   ld.149385          Unknown                     Unglück in Panama   \n\n      department                                          lead_text  \\\n0       Finanzen  Die Idee ist gut: Statt einer einzigen Obligat...   \n1       Panorama  Zum Auftakt der Fashion Week in New York zeige...   \n2       Finanzen  Seit Sonntag funktioniert das E-Banking der Po...   \n3  International  Einen Tag nach dem Angriff auf Soldaten beim P...   \n4       Panorama  Bei einem Busunglück in Panama sind 17 Persone...   \n\n                 pub_date                                            title  \\\n0 2017-03-09 08:01:21.000              Es gibt noch interessante Varianten   \n1 2017-04-11 14:00:29.473                            Fashion Week New York   \n2 2017-01-09 13:55:00.000                Postfinance kämpft mit dem System   \n3 2017-02-04 12:50:25.000     Louvre nach Macheten-Angriff wieder geöffnet   \n4 2017-03-06 07:31:21.000  Bus prallt gegen eine Mauer und stürzt in Fluss   \n\n                                           paragraph  \n0  Die Idee ist gut: Statt einer einzigen Obligat...  \n1                                                NaN  \n2  Seit Sonntag funktioniert das E-Banking der Po...  \n3  Einen Tag nach dem Angriff auf Soldaten beim P...  \n4  Bei einem Busunglück in Panama sind 17 Persone...  "
     },
     "execution_count": 10,
     "metadata": {},
     "output_type": "execute_result"
    }
   ],
   "source": [
    "articles = pd.read_csv(\"../data/articles_cleaned.csv\", encoding=\"utf-8\", parse_dates=[\"pub_date\"])\r\n",
    "articles.head()"
   ]
  },
  {
   "cell_type": "code",
   "execution_count": 11,
   "metadata": {},
   "outputs": [],
   "source": [
    "\r\n",
    "cf_recommender_model = CFModel(n_latent_factors=200)\r\n",
    "cf_recommender_model.fit(readers,articles)\r\n"
   ]
  },
  {
   "cell_type": "code",
   "execution_count": 56,
   "metadata": {},
   "outputs": [],
   "source": [
    "read_arts = readers[readers[\"user_id\"] == 14][\"nzz_id\"].tolist()"
   ]
  },
  {
   "cell_type": "code",
   "execution_count": 57,
   "metadata": {},
   "outputs": [
    {
     "data": {
      "text/html": "<div>\n<style scoped>\n    .dataframe tbody tr th:only-of-type {\n        vertical-align: middle;\n    }\n\n    .dataframe tbody tr th {\n        vertical-align: top;\n    }\n\n    .dataframe thead th {\n        text-align: right;\n    }\n</style>\n<table border=\"1\" class=\"dataframe\">\n  <thead>\n    <tr style=\"text-align: right;\">\n      <th></th>\n      <th>recommendation_strength</th>\n      <th>nzz_id</th>\n      <th>catchline</th>\n      <th>paragraph</th>\n      <th>department</th>\n      <th>lead_text</th>\n      <th>pub_date</th>\n    </tr>\n  </thead>\n  <tbody>\n    <tr>\n      <th>0</th>\n      <td>0.279670</td>\n      <td>ld.146093</td>\n      <td>Gespräche mit Soldaten</td>\n      <td>Eine der unpopulärsten und zugleich persönlich...</td>\n      <td>Meinung</td>\n      <td>Eine der unpopulärsten und zugleich persönlich...</td>\n      <td>2017-02-17 04:30:00.000</td>\n    </tr>\n    <tr>\n      <th>1</th>\n      <td>0.254329</td>\n      <td>ld.142391</td>\n      <td>Die E-Mail-Debatte</td>\n      <td>Jacqueline Badran denkt über die Verstaatlichu...</td>\n      <td>NZZaS</td>\n      <td>Jacqueline Badran denkt über die Verstaatlichu...</td>\n      <td>2017-01-29 00:00:00.000</td>\n    </tr>\n    <tr>\n      <th>2</th>\n      <td>0.253935</td>\n      <td>ld.142508</td>\n      <td>Schweizer Polarexpedition</td>\n      <td>Die Antarktis ist wegen der unwirtlichen Bedin...</td>\n      <td>Wissenschaft</td>\n      <td>Die Antarktis ist wegen der unwirtlichen Bedin...</td>\n      <td>2017-02-10 04:30:00.000</td>\n    </tr>\n    <tr>\n      <th>3</th>\n      <td>0.251354</td>\n      <td>ld.1289159</td>\n      <td>Social Media</td>\n      <td>Instagram ist weiter auf Erfolgskurs. Das zum ...</td>\n      <td>Digital</td>\n      <td>Der Foto-Boom hält an – immer mehr User nutzen...</td>\n      <td>2017-04-27 13:39:13.035</td>\n    </tr>\n    <tr>\n      <th>4</th>\n      <td>0.246810</td>\n      <td>ld.1292704</td>\n      <td>Relativ geringe Renditeerwartungen</td>\n      <td>Family-Offices setzen sich bei der Vermögensan...</td>\n      <td>Finanzen</td>\n      <td>Family-Offices streuen ihre Gelder breit und v...</td>\n      <td>2017-05-12 03:30:00.000</td>\n    </tr>\n    <tr>\n      <th>5</th>\n      <td>0.244462</td>\n      <td>ld.146931</td>\n      <td>Zukunft der EU</td>\n      <td>Das Europa der Bürger gibt es bis jetzt überal...</td>\n      <td>Meinung</td>\n      <td>Das Europa der Bürger gibt es bis jetzt überal...</td>\n      <td>2017-02-22 04:30:00.000</td>\n    </tr>\n    <tr>\n      <th>6</th>\n      <td>0.243364</td>\n      <td>ld.155809</td>\n      <td>Meine Träume gehören mir</td>\n      <td>NaN</td>\n      <td>Gesellschaft</td>\n      <td>Erzählen Sie keine Träume, dafür sind sie zu p...</td>\n      <td>2017-04-07 03:30:00.000</td>\n    </tr>\n    <tr>\n      <th>7</th>\n      <td>0.238026</td>\n      <td>ld.1288371</td>\n      <td>Raphael Wicky hatte den Mut, zu warten</td>\n      <td>NaN</td>\n      <td>NZZaS</td>\n      <td>Der FC Basel geht mit der Verpflichtung von Ra...</td>\n      <td>2017-04-23 06:49:39.552</td>\n    </tr>\n    <tr>\n      <th>8</th>\n      <td>0.234193</td>\n      <td>ld.139305</td>\n      <td>Impfstrategie des Bundes</td>\n      <td>Der Bundesrat will die Bevölkerung mit bessere...</td>\n      <td>Meinung</td>\n      <td>Der Bundesrat will die Bevölkerung mit bessere...</td>\n      <td>2017-01-11 16:53:49.000</td>\n    </tr>\n    <tr>\n      <th>9</th>\n      <td>0.231041</td>\n      <td>ld.144202</td>\n      <td>Falschnachrichten in sozialen Netzwerken</td>\n      <td>Mit speziellen Tools und Datenanalysen wollen ...</td>\n      <td>Digital</td>\n      <td>Mit speziellen Tools und Datenanalysen wollen ...</td>\n      <td>2017-02-07 17:00:00.000</td>\n    </tr>\n  </tbody>\n</table>\n</div>",
      "text/plain": "   recommendation_strength      nzz_id  \\\n0                 0.279670   ld.146093   \n1                 0.254329   ld.142391   \n2                 0.253935   ld.142508   \n3                 0.251354  ld.1289159   \n4                 0.246810  ld.1292704   \n5                 0.244462   ld.146931   \n6                 0.243364   ld.155809   \n7                 0.238026  ld.1288371   \n8                 0.234193   ld.139305   \n9                 0.231041   ld.144202   \n\n                                  catchline  \\\n0                    Gespräche mit Soldaten   \n1                        Die E-Mail-Debatte   \n2                 Schweizer Polarexpedition   \n3                              Social Media   \n4        Relativ geringe Renditeerwartungen   \n5                            Zukunft der EU   \n6                  Meine Träume gehören mir   \n7    Raphael Wicky hatte den Mut, zu warten   \n8                  Impfstrategie des Bundes   \n9  Falschnachrichten in sozialen Netzwerken   \n\n                                           paragraph    department  \\\n0  Eine der unpopulärsten und zugleich persönlich...       Meinung   \n1  Jacqueline Badran denkt über die Verstaatlichu...         NZZaS   \n2  Die Antarktis ist wegen der unwirtlichen Bedin...  Wissenschaft   \n3  Instagram ist weiter auf Erfolgskurs. Das zum ...       Digital   \n4  Family-Offices setzen sich bei der Vermögensan...      Finanzen   \n5  Das Europa der Bürger gibt es bis jetzt überal...       Meinung   \n6                                                NaN  Gesellschaft   \n7                                                NaN         NZZaS   \n8  Der Bundesrat will die Bevölkerung mit bessere...       Meinung   \n9  Mit speziellen Tools und Datenanalysen wollen ...       Digital   \n\n                                           lead_text                pub_date  \n0  Eine der unpopulärsten und zugleich persönlich... 2017-02-17 04:30:00.000  \n1  Jacqueline Badran denkt über die Verstaatlichu... 2017-01-29 00:00:00.000  \n2  Die Antarktis ist wegen der unwirtlichen Bedin... 2017-02-10 04:30:00.000  \n3  Der Foto-Boom hält an – immer mehr User nutzen... 2017-04-27 13:39:13.035  \n4  Family-Offices streuen ihre Gelder breit und v... 2017-05-12 03:30:00.000  \n5  Das Europa der Bürger gibt es bis jetzt überal... 2017-02-22 04:30:00.000  \n6  Erzählen Sie keine Träume, dafür sind sie zu p... 2017-04-07 03:30:00.000  \n7  Der FC Basel geht mit der Verpflichtung von Ra... 2017-04-23 06:49:39.552  \n8  Der Bundesrat will die Bevölkerung mit bessere... 2017-01-11 16:53:49.000  \n9  Mit speziellen Tools und Datenanalysen wollen ... 2017-02-07 17:00:00.000  "
     },
     "execution_count": 57,
     "metadata": {},
     "output_type": "execute_result"
    }
   ],
   "source": [
    "cf_recommender_model.recommend(14, articles_to_ignore=read_arts, verbose=True)"
   ]
  },
  {
   "cell_type": "code",
   "execution_count": 54,
   "metadata": {},
   "outputs": [
    {
     "data": {
      "text/html": "<div>\n<style scoped>\n    .dataframe tbody tr th:only-of-type {\n        vertical-align: middle;\n    }\n\n    .dataframe tbody tr th {\n        vertical-align: top;\n    }\n\n    .dataframe thead th {\n        text-align: right;\n    }\n</style>\n<table border=\"1\" class=\"dataframe\">\n  <thead>\n    <tr style=\"text-align: right;\">\n      <th></th>\n      <th>recommendation_strength</th>\n      <th>nzz_id</th>\n      <th>catchline</th>\n      <th>paragraph</th>\n      <th>department</th>\n      <th>lead_text</th>\n      <th>pub_date</th>\n    </tr>\n  </thead>\n  <tbody>\n    <tr>\n      <th>0</th>\n      <td>0.912552</td>\n      <td>ld.140509</td>\n      <td>EU-Parlament</td>\n      <td>Erstmals ist ein Italiener Präsident des EU-Pa...</td>\n      <td>Video</td>\n      <td>Erstmals ist ein Italiener Präsident des EU-Pa...</td>\n      <td>2017-01-18 12:09:44.000</td>\n    </tr>\n    <tr>\n      <th>1</th>\n      <td>0.874783</td>\n      <td>ld.137069</td>\n      <td>Jahresrückblick Digital</td>\n      <td>Im Brettspiel Go konnte ein Computer einen men...</td>\n      <td>Jahresrückblick 2016</td>\n      <td>Im Brettspiel Go konnte ein Computer einen men...</td>\n      <td>2017-01-01 05:00:00.000</td>\n    </tr>\n    <tr>\n      <th>2</th>\n      <td>0.835986</td>\n      <td>ld.1294212</td>\n      <td>Computerspiele</td>\n      <td>Im Internet sind interne Firmen-Dokumente aufg...</td>\n      <td>Digital</td>\n      <td>Der japanische Computerspiel-Pionier Sega will...</td>\n      <td>2017-05-17 12:22:35.351</td>\n    </tr>\n    <tr>\n      <th>3</th>\n      <td>0.780219</td>\n      <td>ld.1289822</td>\n      <td>Social Media</td>\n      <td>Der australischen Tageszeitung «The Australian...</td>\n      <td>Digital</td>\n      <td>Laut Medienberichten wertet Facebook die Gefüh...</td>\n      <td>2017-05-02 12:37:14.404</td>\n    </tr>\n    <tr>\n      <th>4</th>\n      <td>0.736583</td>\n      <td>ld.155500</td>\n      <td>Computersicherheit</td>\n      <td>NaN</td>\n      <td>Digital</td>\n      <td>Die Gesichtserkennung des neuen Top-Smartphone...</td>\n      <td>2017-04-05 09:42:25.624</td>\n    </tr>\n    <tr>\n      <th>5</th>\n      <td>0.714677</td>\n      <td>ld.139073</td>\n      <td>Digital Video</td>\n      <td>Kodak hat anlässlich der Consumer Electronics ...</td>\n      <td>Digital</td>\n      <td>Kodak hat anlässlich der Consumer Electronics ...</td>\n      <td>2017-01-10 17:22:26.000</td>\n    </tr>\n    <tr>\n      <th>6</th>\n      <td>0.710976</td>\n      <td>ld.140906</td>\n      <td>Digitalfotografie</td>\n      <td>Die amerikanische Firma Beastgrip hat Adapter ...</td>\n      <td>Digital</td>\n      <td>Die amerikanische Firma Beastgrip hat Adapter ...</td>\n      <td>2017-01-20 06:42:11.000</td>\n    </tr>\n    <tr>\n      <th>7</th>\n      <td>0.703265</td>\n      <td>ld.1289953</td>\n      <td>Asset-Allocation von institutionellen Investoren</td>\n      <td>Die Tiefzinspolitik der Europäischen Zentralba...</td>\n      <td>Finanzen</td>\n      <td>Zur Renditejagd gehen institutionelle Anleger ...</td>\n      <td>2017-05-03 03:30:00.000</td>\n    </tr>\n    <tr>\n      <th>8</th>\n      <td>0.702097</td>\n      <td>ld.1288746</td>\n      <td>Apple</td>\n      <td>Apple ist ganz überraschend in Spendierlaune. ...</td>\n      <td>Digital</td>\n      <td>Apple offeriert mehrere bisher kostenpflichtig...</td>\n      <td>2017-04-25 14:27:23.063</td>\n    </tr>\n    <tr>\n      <th>9</th>\n      <td>0.692531</td>\n      <td>ld.1293604</td>\n      <td>Nachwehen vom 15. Januar 2015</td>\n      <td>Nach dem Entscheid des Handelsgerichts Zürich ...</td>\n      <td>Finanzen</td>\n      <td>Hat das Saxo-Urteil des Handelsgerichts Zürich...</td>\n      <td>2017-05-16 04:30:00.000</td>\n    </tr>\n  </tbody>\n</table>\n</div>",
      "text/plain": "   recommendation_strength      nzz_id  \\\n0                 0.912552   ld.140509   \n1                 0.874783   ld.137069   \n2                 0.835986  ld.1294212   \n3                 0.780219  ld.1289822   \n4                 0.736583   ld.155500   \n5                 0.714677   ld.139073   \n6                 0.710976   ld.140906   \n7                 0.703265  ld.1289953   \n8                 0.702097  ld.1288746   \n9                 0.692531  ld.1293604   \n\n                                          catchline  \\\n0                                      EU-Parlament   \n1                           Jahresrückblick Digital   \n2                                    Computerspiele   \n3                                      Social Media   \n4                                Computersicherheit   \n5                                     Digital Video   \n6                                 Digitalfotografie   \n7  Asset-Allocation von institutionellen Investoren   \n8                                             Apple   \n9                     Nachwehen vom 15. Januar 2015   \n\n                                           paragraph            department  \\\n0  Erstmals ist ein Italiener Präsident des EU-Pa...                 Video   \n1  Im Brettspiel Go konnte ein Computer einen men...  Jahresrückblick 2016   \n2  Im Internet sind interne Firmen-Dokumente aufg...               Digital   \n3  Der australischen Tageszeitung «The Australian...               Digital   \n4                                                NaN               Digital   \n5  Kodak hat anlässlich der Consumer Electronics ...               Digital   \n6  Die amerikanische Firma Beastgrip hat Adapter ...               Digital   \n7  Die Tiefzinspolitik der Europäischen Zentralba...              Finanzen   \n8  Apple ist ganz überraschend in Spendierlaune. ...               Digital   \n9  Nach dem Entscheid des Handelsgerichts Zürich ...              Finanzen   \n\n                                           lead_text                pub_date  \n0  Erstmals ist ein Italiener Präsident des EU-Pa... 2017-01-18 12:09:44.000  \n1  Im Brettspiel Go konnte ein Computer einen men... 2017-01-01 05:00:00.000  \n2  Der japanische Computerspiel-Pionier Sega will... 2017-05-17 12:22:35.351  \n3  Laut Medienberichten wertet Facebook die Gefüh... 2017-05-02 12:37:14.404  \n4  Die Gesichtserkennung des neuen Top-Smartphone... 2017-04-05 09:42:25.624  \n5  Kodak hat anlässlich der Consumer Electronics ... 2017-01-10 17:22:26.000  \n6  Die amerikanische Firma Beastgrip hat Adapter ... 2017-01-20 06:42:11.000  \n7  Zur Renditejagd gehen institutionelle Anleger ... 2017-05-03 03:30:00.000  \n8  Apple offeriert mehrere bisher kostenpflichtig... 2017-04-25 14:27:23.063  \n9  Hat das Saxo-Urteil des Handelsgerichts Zürich... 2017-05-16 04:30:00.000  "
     },
     "execution_count": 54,
     "metadata": {},
     "output_type": "execute_result"
    }
   ],
   "source": [
    "cf_recommender_model.recommend(14, verbose=True)"
   ]
  },
  {
   "cell_type": "code",
   "execution_count": 34,
   "metadata": {},
   "outputs": [
    {
     "name": "stdout",
     "output_type": "stream",
     "text": [
      "set()\n",
      "set()\n"
     ]
    }
   ],
   "source": [
    "real = readers[readers[\"user_id\"] == 4][\"nzz_id\"].tolist()\r\n",
    "real = set(real)\r\n",
    "\r\n",
    "print(real.intersection(set(cf_rec)))\r\n",
    "print(real.intersection(set(impli)))"
   ]
  },
  {
   "cell_type": "code",
   "execution_count": null,
   "metadata": {},
   "outputs": [
    {
     "name": "stdout",
     "output_type": "stream",
     "text": [
      "{'ld.142295', 'ld.150796', 'ld.151615', 'ld.145762', 'ld.148811', '1.18306956', 'ld.139682', 'ld.152374', 'ld.138478', 'ld.1288065', 'ld.143413', 'ld.1292030', 'ld.140509', 'ld.1294037'}\n"
     ]
    }
   ],
   "source": [
    "print(real)"
   ]
  },
  {
   "cell_type": "code",
   "execution_count": 53,
   "metadata": {},
   "outputs": [
    {
     "name": "stdout",
     "output_type": "stream",
     "text": [
      "       nzz_id\n",
      "0  1.18280909\n",
      "1  1.17380691\n",
      "2  1.18084881\n",
      "3  1.18366029\n",
      "4  1.18069023\n",
      "5  1.17995230\n",
      "6  1.16492955\n",
      "7  1.18354729\n",
      "8  1.17453399\n",
      "9  1.18192659\n",
      "['ld.140509', '1.18306956', 'ld.151615', 'ld.137069', 'ld.148811', 'ld.145762', 'ld.152341', 'ld.1288065', 'ld.1292030', 'ld.143413']\n"
     ]
    }
   ],
   "source": [
    "print(impli)\r\n",
    "print(cf_rec)"
   ]
  },
  {
   "cell_type": "code",
   "execution_count": 52,
   "metadata": {},
   "outputs": [
    {
     "data": {
      "text/html": "<div>\n<style scoped>\n    .dataframe tbody tr th:only-of-type {\n        vertical-align: middle;\n    }\n\n    .dataframe tbody tr th {\n        vertical-align: top;\n    }\n\n    .dataframe thead th {\n        text-align: right;\n    }\n</style>\n<table border=\"1\" class=\"dataframe\">\n  <thead>\n    <tr style=\"text-align: right;\">\n      <th></th>\n      <th>nzz_id</th>\n      <th>catchline</th>\n      <th>paragraph</th>\n      <th>department</th>\n      <th>lead_text</th>\n      <th>pub_date</th>\n    </tr>\n  </thead>\n  <tbody>\n    <tr>\n      <th>0</th>\n      <td>1.18280909</td>\n      <td>Prinz George spielt</td>\n      <td>NaN</td>\n      <td>Panorama</td>\n      <td>Seit Montag ist der acht Monate alte Prinz Geo...</td>\n      <td>2017-04-11 14:02:47.957</td>\n    </tr>\n    <tr>\n      <th>1</th>\n      <td>1.17380691</td>\n      <td>Dürre in den USA</td>\n      <td>NaN</td>\n      <td>Panorama</td>\n      <td>Die USA werden derzeit von der schwersten Dürr...</td>\n      <td>2017-04-11 13:57:29.897</td>\n    </tr>\n    <tr>\n      <th>2</th>\n      <td>1.18084881</td>\n      <td>Jupp Heynckes</td>\n      <td>NaN</td>\n      <td>Sport</td>\n      <td>Jupp Heynckes verbucht mit Bayern München eine...</td>\n      <td>2017-04-11 13:59:29.587</td>\n    </tr>\n    <tr>\n      <th>3</th>\n      <td>1.18366029</td>\n      <td>Ausstellung: Spanische Architekturfotografie i...</td>\n      <td>NaN</td>\n      <td>Feuilleton</td>\n      <td>Eine Ausstellung im Museo ICO in Madrid präsen...</td>\n      <td>2017-04-11 14:04:25.381</td>\n    </tr>\n    <tr>\n      <th>4</th>\n      <td>1.18069023</td>\n      <td>50 Jahre Europarat</td>\n      <td>NaN</td>\n      <td>Schweiz</td>\n      <td>Am 6. Mai trat die Schweiz dem Europarat bei. ...</td>\n      <td>2017-04-11 13:59:17.925</td>\n    </tr>\n    <tr>\n      <th>5</th>\n      <td>1.17995230</td>\n      <td>Chinesisches Neujahr</td>\n      <td>NaN</td>\n      <td>Panorama</td>\n      <td>Millionen haben in China und Ostasien den Begi...</td>\n      <td>2017-04-11 13:58:44.565</td>\n    </tr>\n    <tr>\n      <th>6</th>\n      <td>1.16492955</td>\n      <td>Die Explosion der Hindenburg</td>\n      <td>NaN</td>\n      <td>Unknown</td>\n      <td>Am 6. Mai 1937 ging mit der «Hindenburg»-Katas...</td>\n      <td>2017-04-11 13:57:03.860</td>\n    </tr>\n    <tr>\n      <th>7</th>\n      <td>1.18354729</td>\n      <td>Eine Nacht in Zürich</td>\n      <td>NaN</td>\n      <td>Zürich</td>\n      <td>Wer ein ganzes Wochenende fast ohne Schlaf dur...</td>\n      <td>2017-04-11 14:04:13.413</td>\n    </tr>\n    <tr>\n      <th>8</th>\n      <td>1.17453399</td>\n      <td>«Curiosity» schickt neue Bilder vom Mars</td>\n      <td>NaN</td>\n      <td>Unknown</td>\n      <td>Der Mars-Rover «Curiosity» verrät mehr über se...</td>\n      <td>2017-04-11 13:57:34.924</td>\n    </tr>\n    <tr>\n      <th>9</th>\n      <td>1.18192659</td>\n      <td>Durchmesserlinie verbindet Oerlikon und Zürich</td>\n      <td>NaN</td>\n      <td>Schweiz</td>\n      <td>Vom kommenden Sommer an verbindet ein neuer Tu...</td>\n      <td>2017-04-11 14:01:16.974</td>\n    </tr>\n  </tbody>\n</table>\n</div>",
      "text/plain": "       nzz_id                                          catchline paragraph  \\\n0  1.18280909                                Prinz George spielt       NaN   \n1  1.17380691                                   Dürre in den USA       NaN   \n2  1.18084881                                      Jupp Heynckes       NaN   \n3  1.18366029  Ausstellung: Spanische Architekturfotografie i...       NaN   \n4  1.18069023                                 50 Jahre Europarat       NaN   \n5  1.17995230                               Chinesisches Neujahr       NaN   \n6  1.16492955                       Die Explosion der Hindenburg       NaN   \n7  1.18354729                               Eine Nacht in Zürich       NaN   \n8  1.17453399           «Curiosity» schickt neue Bilder vom Mars       NaN   \n9  1.18192659     Durchmesserlinie verbindet Oerlikon und Zürich       NaN   \n\n   department                                          lead_text  \\\n0    Panorama  Seit Montag ist der acht Monate alte Prinz Geo...   \n1    Panorama  Die USA werden derzeit von der schwersten Dürr...   \n2       Sport  Jupp Heynckes verbucht mit Bayern München eine...   \n3  Feuilleton  Eine Ausstellung im Museo ICO in Madrid präsen...   \n4     Schweiz  Am 6. Mai trat die Schweiz dem Europarat bei. ...   \n5    Panorama  Millionen haben in China und Ostasien den Begi...   \n6     Unknown  Am 6. Mai 1937 ging mit der «Hindenburg»-Katas...   \n7      Zürich  Wer ein ganzes Wochenende fast ohne Schlaf dur...   \n8     Unknown  Der Mars-Rover «Curiosity» verrät mehr über se...   \n9     Schweiz  Vom kommenden Sommer an verbindet ein neuer Tu...   \n\n                 pub_date  \n0 2017-04-11 14:02:47.957  \n1 2017-04-11 13:57:29.897  \n2 2017-04-11 13:59:29.587  \n3 2017-04-11 14:04:25.381  \n4 2017-04-11 13:59:17.925  \n5 2017-04-11 13:58:44.565  \n6 2017-04-11 13:57:03.860  \n7 2017-04-11 14:04:13.413  \n8 2017-04-11 13:57:34.924  \n9 2017-04-11 14:01:16.974  "
     },
     "execution_count": 52,
     "metadata": {},
     "output_type": "execute_result"
    }
   ],
   "source": [
    "readers[readers[\"nzz_id\"].isin(impli)]\r\n",
    "impli = pd.DataFrame(impli, columns=[\"nzz_id\"])\r\n",
    "recommendations_df = impli.merge(\r\n",
    "         articles, how=\"left\", left_on=\"nzz_id\", right_on=\"nzz_id\"\r\n",
    "     )[\r\n",
    "         [\r\n",
    "             \"nzz_id\",\r\n",
    "             \"catchline\",\r\n",
    "             \"paragraph\",\r\n",
    "             \"department\",\r\n",
    "             \"lead_text\",\r\n",
    "             \"pub_date\",\r\n",
    "         ]\r\n",
    "     ]\r\n",
    "recommendations_df"
   ]
  }
 ],
 "metadata": {
  "kernelspec": {
   "display_name": "Python 3.8.8 64-bit ('python-3.8.8.amd64')",
   "language": "python",
   "name": "python388jvsc74a57bd0fa40d802589a21bf16ea36e6cbe213719a0e5ddda597750d0ec239eff626732c"
  },
  "language_info": {
   "name": "python",
   "version": ""
  },
  "orig_nbformat": 2
 },
 "nbformat": 4,
 "nbformat_minor": 2
}