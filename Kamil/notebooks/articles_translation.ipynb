{
 "cells": [
  {
   "cell_type": "code",
   "execution_count": 1,
   "metadata": {},
   "outputs": [],
   "source": [
    "import pandas as pd\r\n",
    "import numpy as np\r\n",
    "import time\r\n",
    "from deep_translator import GoogleTranslator"
   ]
  },
  {
   "cell_type": "code",
   "execution_count": 2,
   "metadata": {},
   "outputs": [],
   "source": [
    "translator = GoogleTranslator(source=\"de\", target=\"en\")"
   ]
  },
  {
   "cell_type": "code",
   "execution_count": 3,
   "metadata": {},
   "outputs": [
    {
     "data": {
      "text/html": "<div>\n<style scoped>\n    .dataframe tbody tr th:only-of-type {\n        vertical-align: middle;\n    }\n\n    .dataframe tbody tr th {\n        vertical-align: top;\n    }\n\n    .dataframe thead th {\n        text-align: right;\n    }\n</style>\n<table border=\"1\" class=\"dataframe\">\n  <thead>\n    <tr style=\"text-align: right;\">\n      <th></th>\n      <th>nzz_id</th>\n      <th>author</th>\n      <th>catchline</th>\n      <th>department</th>\n      <th>lead_text</th>\n      <th>pub_date</th>\n      <th>title</th>\n      <th>paragraph</th>\n    </tr>\n  </thead>\n  <tbody>\n    <tr>\n      <th>0</th>\n      <td>ld.149648</td>\n      <td>Claudia Gabriel</td>\n      <td>Obligationenfonds mit fixer Laufzeit</td>\n      <td>Finanzen</td>\n      <td>Die Idee ist gut: Statt einer einzigen Obligat...</td>\n      <td>2017-03-09 08:01:21.0</td>\n      <td>Es gibt noch interessante Varianten</td>\n      <td>Die Idee ist gut: Statt einer einzigen Obligat...</td>\n    </tr>\n    <tr>\n      <th>1</th>\n      <td>1.18145900</td>\n      <td>Unknown</td>\n      <td>Fashion Week New York</td>\n      <td>Panorama</td>\n      <td>Zum Auftakt der Fashion Week in New York zeige...</td>\n      <td>2017-04-11 14:00:29.473</td>\n      <td>Fashion Week New York</td>\n      <td>NaN</td>\n    </tr>\n    <tr>\n      <th>2</th>\n      <td>ld.138769</td>\n      <td>Unknown</td>\n      <td>E-Banking-Ausfall</td>\n      <td>Finanzen</td>\n      <td>Seit Sonntag funktioniert das E-Banking der Po...</td>\n      <td>2017-01-09 13:55:00.0</td>\n      <td>Postfinance kämpft mit dem System</td>\n      <td>Seit Sonntag funktioniert das E-Banking der Po...</td>\n    </tr>\n    <tr>\n      <th>3</th>\n      <td>ld.143700</td>\n      <td>Unknown</td>\n      <td>Terror in Frankreich</td>\n      <td>International</td>\n      <td>Einen Tag nach dem Angriff auf Soldaten beim P...</td>\n      <td>2017-02-04 12:50:25.0</td>\n      <td>Louvre nach Macheten-Angriff wieder geöffnet</td>\n      <td>Einen Tag nach dem Angriff auf Soldaten beim P...</td>\n    </tr>\n    <tr>\n      <th>4</th>\n      <td>ld.149385</td>\n      <td>Unknown</td>\n      <td>Unglück in Panama</td>\n      <td>Panorama</td>\n      <td>Bei einem Busunglück in Panama sind 17 Persone...</td>\n      <td>2017-03-06 07:31:21.0</td>\n      <td>Bus prallt gegen eine Mauer und stürzt in Fluss</td>\n      <td>Bei einem Busunglück in Panama sind 17 Persone...</td>\n    </tr>\n  </tbody>\n</table>\n</div>",
      "text/plain": "       nzz_id           author                             catchline  \\\n0   ld.149648  Claudia Gabriel  Obligationenfonds mit fixer Laufzeit   \n1  1.18145900          Unknown                 Fashion Week New York   \n2   ld.138769          Unknown                     E-Banking-Ausfall   \n3   ld.143700          Unknown                  Terror in Frankreich   \n4   ld.149385          Unknown                     Unglück in Panama   \n\n      department                                          lead_text  \\\n0       Finanzen  Die Idee ist gut: Statt einer einzigen Obligat...   \n1       Panorama  Zum Auftakt der Fashion Week in New York zeige...   \n2       Finanzen  Seit Sonntag funktioniert das E-Banking der Po...   \n3  International  Einen Tag nach dem Angriff auf Soldaten beim P...   \n4       Panorama  Bei einem Busunglück in Panama sind 17 Persone...   \n\n                  pub_date                                            title  \\\n0    2017-03-09 08:01:21.0              Es gibt noch interessante Varianten   \n1  2017-04-11 14:00:29.473                            Fashion Week New York   \n2    2017-01-09 13:55:00.0                Postfinance kämpft mit dem System   \n3    2017-02-04 12:50:25.0     Louvre nach Macheten-Angriff wieder geöffnet   \n4    2017-03-06 07:31:21.0  Bus prallt gegen eine Mauer und stürzt in Fluss   \n\n                                           paragraph  \n0  Die Idee ist gut: Statt einer einzigen Obligat...  \n1                                                NaN  \n2  Seit Sonntag funktioniert das E-Banking der Po...  \n3  Einen Tag nach dem Angriff auf Soldaten beim P...  \n4  Bei einem Busunglück in Panama sind 17 Persone...  "
     },
     "execution_count": 3,
     "metadata": {},
     "output_type": "execute_result"
    }
   ],
   "source": [
    "articles = pd.read_csv(\"../data/articles_cleaned.csv\")\r\n",
    "articles.head()"
   ]
  },
  {
   "cell_type": "code",
   "execution_count": 5,
   "metadata": {},
   "outputs": [
    {
     "data": {
      "text/plain": "(22019, 8)"
     },
     "execution_count": 5,
     "metadata": {},
     "output_type": "execute_result"
    }
   ],
   "source": [
    "articles.shape"
   ]
  },
  {
   "cell_type": "code",
   "execution_count": 17,
   "metadata": {},
   "outputs": [],
   "source": [
    "head_art = articles.head()"
   ]
  },
  {
   "cell_type": "code",
   "execution_count": 34,
   "metadata": {},
   "outputs": [],
   "source": [
    "def translate(text):\r\n",
    "    return translator.translate_batch(text.tolist())"
   ]
  },
  {
   "cell_type": "code",
   "execution_count": 45,
   "metadata": {},
   "outputs": [
    {
     "name": "stdout",
     "output_type": "stream",
     "text": [
      "Please wait.. This may take a couple of seconds because deep_translator sleeps for two seconds after each request in order to not spam the google server.\n",
      "sentence number  1  has been translated successfully\n",
      "sentence number  2  has been translated successfully\n",
      "sentence number  3  has been translated successfully\n",
      "sentence number  4  has been translated successfully\n",
      "sentence number  5  has been translated successfully\n",
      "Please wait.. This may take a couple of seconds because deep_translator sleeps for two seconds after each request in order to not spam the google server.\n",
      "sentence number  1  has been translated successfully\n",
      "sentence number  2  has been translated successfully\n",
      "sentence number  3  has been translated successfully\n",
      "sentence number  4  has been translated successfully\n",
      "sentence number  5  has been translated successfully\n",
      "Please wait.. This may take a couple of seconds because deep_translator sleeps for two seconds after each request in order to not spam the google server.\n",
      "sentence number  1  has been translated successfully\n",
      "sentence number  2  has been translated successfully\n",
      "sentence number  3  has been translated successfully\n",
      "sentence number  4  has been translated successfully\n",
      "sentence number  5  has been translated successfully\n"
     ]
    },
    {
     "name": "stderr",
     "output_type": "stream",
     "text": [
      "c:\\Users\\a814809\\code-projects\\python\\WPy64-3880\\python-3.8.8.amd64\\lib\\site-packages\\pandas\\core\\indexing.py:1637: SettingWithCopyWarning: \n",
      "A value is trying to be set on a copy of a slice from a DataFrame\n",
      "\n",
      "See the caveats in the documentation: https://pandas.pydata.org/pandas-docs/stable/user_guide/indexing.html#returning-a-view-versus-a-copy\n",
      "  self._setitem_single_block(indexer, value, name)\n",
      "c:\\Users\\a814809\\code-projects\\python\\WPy64-3880\\python-3.8.8.amd64\\lib\\site-packages\\pandas\\core\\indexing.py:692: SettingWithCopyWarning: \n",
      "A value is trying to be set on a copy of a slice from a DataFrame\n",
      "\n",
      "See the caveats in the documentation: https://pandas.pydata.org/pandas-docs/stable/user_guide/indexing.html#returning-a-view-versus-a-copy\n",
      "  iloc._setitem_with_indexer(indexer, value, self.name)\n"
     ]
    }
   ],
   "source": [
    "head_art.loc[:, [\"catchline\", \"lead_text\", \"title\"]] = head_art[[\"catchline\", \"lead_text\", \"title\"]].apply(translate)"
   ]
  },
  {
   "cell_type": "code",
   "execution_count": 32,
   "metadata": {},
   "outputs": [
    {
     "data": {
      "text/html": "<div>\n<style scoped>\n    .dataframe tbody tr th:only-of-type {\n        vertical-align: middle;\n    }\n\n    .dataframe tbody tr th {\n        vertical-align: top;\n    }\n\n    .dataframe thead th {\n        text-align: right;\n    }\n</style>\n<table border=\"1\" class=\"dataframe\">\n  <thead>\n    <tr style=\"text-align: right;\">\n      <th></th>\n      <th>nzz_id</th>\n      <th>author</th>\n      <th>catchline</th>\n      <th>department</th>\n      <th>lead_text</th>\n      <th>pub_date</th>\n      <th>title</th>\n      <th>paragraph</th>\n    </tr>\n  </thead>\n  <tbody>\n    <tr>\n      <th>0</th>\n      <td>ld.149648</td>\n      <td>Claudia Gabriel</td>\n      <td>Fixed-term bond fund</td>\n      <td>Finanzen</td>\n      <td>The idea is good: instead of buying a single b...</td>\n      <td>2017-03-09 08:01:21.0</td>\n      <td>There are still interesting variants</td>\n      <td>Die Idee ist gut: Statt einer einzigen Obligat...</td>\n    </tr>\n    <tr>\n      <th>1</th>\n      <td>1.18145900</td>\n      <td>Unknown</td>\n      <td>Fashion Week New York</td>\n      <td>Panorama</td>\n      <td>At the start of Fashion Week in New York, star...</td>\n      <td>2017-04-11 14:00:29.473</td>\n      <td>Fashion Week New York</td>\n      <td>NaN</td>\n    </tr>\n    <tr>\n      <th>2</th>\n      <td>ld.138769</td>\n      <td>Unknown</td>\n      <td>E-banking failure</td>\n      <td>Finanzen</td>\n      <td>Postfinance's e-banking has stopped working si...</td>\n      <td>2017-01-09 13:55:00.0</td>\n      <td>Post finance is struggling with the system</td>\n      <td>Seit Sonntag funktioniert das E-Banking der Po...</td>\n    </tr>\n    <tr>\n      <th>3</th>\n      <td>ld.143700</td>\n      <td>Unknown</td>\n      <td>Terror in France</td>\n      <td>International</td>\n      <td>One day after the attack on soldiers at the Lo...</td>\n      <td>2017-02-04 12:50:25.0</td>\n      <td>Louvre reopened after machete attack</td>\n      <td>Einen Tag nach dem Angriff auf Soldaten beim P...</td>\n    </tr>\n    <tr>\n      <th>4</th>\n      <td>ld.149385</td>\n      <td>Unknown</td>\n      <td>Misfortune in Panama</td>\n      <td>Panorama</td>\n      <td>17 people were killed in a bus accident in Pan...</td>\n      <td>2017-03-06 07:31:21.0</td>\n      <td>Bus crashes into a wall and falls into a river</td>\n      <td>Bei einem Busunglück in Panama sind 17 Persone...</td>\n    </tr>\n  </tbody>\n</table>\n</div>",
      "text/plain": "       nzz_id           author              catchline     department  \\\n0   ld.149648  Claudia Gabriel   Fixed-term bond fund       Finanzen   \n1  1.18145900          Unknown  Fashion Week New York       Panorama   \n2   ld.138769          Unknown      E-banking failure       Finanzen   \n3   ld.143700          Unknown       Terror in France  International   \n4   ld.149385          Unknown   Misfortune in Panama       Panorama   \n\n                                           lead_text                 pub_date  \\\n0  The idea is good: instead of buying a single b...    2017-03-09 08:01:21.0   \n1  At the start of Fashion Week in New York, star...  2017-04-11 14:00:29.473   \n2  Postfinance's e-banking has stopped working si...    2017-01-09 13:55:00.0   \n3  One day after the attack on soldiers at the Lo...    2017-02-04 12:50:25.0   \n4  17 people were killed in a bus accident in Pan...    2017-03-06 07:31:21.0   \n\n                                            title  \\\n0            There are still interesting variants   \n1                           Fashion Week New York   \n2      Post finance is struggling with the system   \n3            Louvre reopened after machete attack   \n4  Bus crashes into a wall and falls into a river   \n\n                                           paragraph  \n0  Die Idee ist gut: Statt einer einzigen Obligat...  \n1                                                NaN  \n2  Seit Sonntag funktioniert das E-Banking der Po...  \n3  Einen Tag nach dem Angriff auf Soldaten beim P...  \n4  Bei einem Busunglück in Panama sind 17 Persone...  "
     },
     "execution_count": 32,
     "metadata": {},
     "output_type": "execute_result"
    }
   ],
   "source": [
    "head_art"
   ]
  }
 ],
 "metadata": {
  "kernelspec": {
   "display_name": "Python 3.8.8 64-bit ('python-3.8.8.amd64')",
   "name": "python388jvsc74a57bd0fa40d802589a21bf16ea36e6cbe213719a0e5ddda597750d0ec239eff626732c"
  },
  "language_info": {
   "codemirror_mode": {
    "name": "ipython",
    "version": 3
   },
   "file_extension": ".py",
   "mimetype": "text/x-python",
   "name": "python",
   "nbconvert_exporter": "python",
   "pygments_lexer": "ipython3",
   "version": "3.8.8"
  },
  "orig_nbformat": 2
 },
 "nbformat": 4,
 "nbformat_minor": 2
}