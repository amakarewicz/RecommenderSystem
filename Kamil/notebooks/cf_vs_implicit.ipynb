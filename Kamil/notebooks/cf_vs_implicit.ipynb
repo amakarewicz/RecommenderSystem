{
 "cells": [
  {
   "cell_type": "code",
   "execution_count": 1,
   "metadata": {},
   "outputs": [],
   "source": [
    "import pandas as pd\r\n",
    "import numpy as np\r\n",
    "import altair as alt"
   ]
  },
  {
   "cell_type": "code",
   "execution_count": 2,
   "metadata": {},
   "outputs": [
    {
     "output_type": "execute_result",
     "data": {
      "text/plain": [
       "   user_id      nzz_id\n",
       "0        1   ld.154103\n",
       "1        1   ld.142559\n",
       "2        1  1.18331199\n",
       "3        1   ld.144819\n",
       "4        1  ld.1293110"
      ],
      "text/html": "<div>\n<style scoped>\n    .dataframe tbody tr th:only-of-type {\n        vertical-align: middle;\n    }\n\n    .dataframe tbody tr th {\n        vertical-align: top;\n    }\n\n    .dataframe thead th {\n        text-align: right;\n    }\n</style>\n<table border=\"1\" class=\"dataframe\">\n  <thead>\n    <tr style=\"text-align: right;\">\n      <th></th>\n      <th>user_id</th>\n      <th>nzz_id</th>\n    </tr>\n  </thead>\n  <tbody>\n    <tr>\n      <th>0</th>\n      <td>1</td>\n      <td>ld.154103</td>\n    </tr>\n    <tr>\n      <th>1</th>\n      <td>1</td>\n      <td>ld.142559</td>\n    </tr>\n    <tr>\n      <th>2</th>\n      <td>1</td>\n      <td>1.18331199</td>\n    </tr>\n    <tr>\n      <th>3</th>\n      <td>1</td>\n      <td>ld.144819</td>\n    </tr>\n    <tr>\n      <th>4</th>\n      <td>1</td>\n      <td>ld.1293110</td>\n    </tr>\n  </tbody>\n</table>\n</div>"
     },
     "metadata": {},
     "execution_count": 2
    }
   ],
   "source": [
    "readers = pd.read_csv(\"../data/readers.csv\")\r\n",
    "readers = readers.rename(columns={\"id\":\"user_id\", \"art_id\":\"nzz_id\"})\r\n",
    "readers.head()"
   ]
  },
  {
   "cell_type": "code",
   "execution_count": 3,
   "metadata": {},
   "outputs": [],
   "source": [
    "read_counts = readers[\"user_id\"].value_counts(sort=True)\r\n",
    "read_counts = read_counts.rename_axis(\"user_id\").reset_index(name=\"read_count\")\r\n",
    "\r\n",
    "# Biorę pod uwagę tylko użytkowników, którzy przeczytali minimum 5 artykułów\r\n",
    "min_read_count = 3\r\n",
    "read_counts = read_counts[read_counts[\"read_count\"] > min_read_count]\r\n",
    "\r\n",
    "readers = readers[readers[\"user_id\"].isin(read_counts[\"user_id\"])]"
   ]
  },
  {
   "cell_type": "code",
   "execution_count": 4,
   "metadata": {},
   "outputs": [
    {
     "output_type": "stream",
     "name": "stdout",
     "text": [
      "Train set size 22284\ntest set size 5571\nn users in test 3995\nn users in train 10046\n"
     ]
    }
   ],
   "source": [
    "# Train/Test split\r\n",
    "from sklearn.model_selection import train_test_split\r\n",
    "\r\n",
    "random_state = None\r\n",
    "readers_train, readers_test = train_test_split(readers,\r\n",
    "                                   stratify=readers[\"user_id\"], \r\n",
    "                                   test_size=0.20,\r\n",
    "                                   random_state=12)\r\n",
    "                                   \r\n",
    "print(f\"Train set size {len(readers_train)}\")\r\n",
    "print(f\"test set size {len(readers_test)}\")\r\n",
    "unique_train = readers_train[\"nzz_id\"].unique()\r\n",
    "unique_test = readers_test[\"nzz_id\"].unique()\r\n",
    "print(f\"n users in test {len(unique_test)}\")\r\n",
    "print(f\"n users in train {len(unique_train)}\")\r\n"
   ]
  },
  {
   "cell_type": "code",
   "execution_count": 5,
   "metadata": {},
   "outputs": [],
   "source": [
    "import sys\r\n",
    "sys.path.append('../code')\r\n",
    "from cf_model import CFModel\r\n",
    "from model_evaluator import ModelEvaluator\r\n",
    "from random_model import RandomModel\r\n",
    "from implicit_model import ImplicitModel\r\n",
    "model_evaluator = ModelEvaluator(k_list = [10])"
   ]
  },
  {
   "cell_type": "code",
   "execution_count": 10,
   "metadata": {},
   "outputs": [
    {
     "output_type": "stream",
     "name": "stdout",
     "text": [
      "999 users processed\n",
      "\n",
      "Global metrics:\n",
      "{'modelName': 'implicit_model', 'recall@10': 0.426, 'precision@10': 0.0426, 'f1_score@10': 0.07745454545454547, 'ndcg@10': 0.2711274840559555, 'personalization@10': 0.9978624624624625}\n"
     ]
    }
   ],
   "source": [
    "#cf_recommender_model = CFModel(n_latent_factors=200)\r\n",
    "implicit_recommender_model = ImplicitModel(n_latent_factors=500, regularization=150, alpha=50, iterations=10)\r\n",
    "implicit_recommender_model.fit(readers_train)\r\n",
    "implicit_global_metrics, implicit_detailed_results_df = model_evaluator.evaluate_model(implicit_recommender_model, readers, readers_train, readers_test, interactio0s=0)\r\n",
    "print('\\nGlobal metrics:\\n%s' % implicit_global_metrics)"
   ]
  },
  {
   "cell_type": "code",
   "execution_count": 7,
   "metadata": {},
   "outputs": [
    {
     "output_type": "stream",
     "name": "stdout",
     "text": [
      "999 users processed\n",
      "\n",
      "Global metrics:\n",
      "{'modelName': 'CF_model', 'recall@10': 0.27898055555555556, 'precision@10': 0.027898055555555558, 'f1_score@10': 0.05072373737373737, 'ndcg@10': 0.1714511320219907, 'personalization@10': 0.9986016016016016}\n"
     ]
    }
   ],
   "source": [
    "#cf_recommender_model = CFModel(n_latent_factors=200)\r\n",
    "cf_recommender_model = CFModel(n_latent_factors=500)\r\n",
    "cf_recommender_model.fit(readers_train)\r\n",
    "cf_global_metrics, cf_detailed_results_df = model_evaluator.evaluate_model(cf_recommender_model, readers, readers_train, readers_test, interactions=0)\r\n",
    "print('\\nGlobal metrics:\\n%s' % cf_global_metrics)"
   ]
  },
  {
   "cell_type": "code",
   "execution_count": 8,
   "metadata": {},
   "outputs": [
    {
     "output_type": "execute_result",
     "data": {
      "text/plain": [
       "        modelName  recall@10  precision@10  f1_score@10   ndcg@10  \\\n",
       "0        CF_model   0.278981      0.027898     0.050724  0.171451   \n",
       "1  implicit_model   0.417608      0.041761     0.075929  0.271204   \n",
       "\n",
       "   personalization@10  \n",
       "0            0.998602  \n",
       "1            0.997812  "
      ],
      "text/html": "<div>\n<style scoped>\n    .dataframe tbody tr th:only-of-type {\n        vertical-align: middle;\n    }\n\n    .dataframe tbody tr th {\n        vertical-align: top;\n    }\n\n    .dataframe thead th {\n        text-align: right;\n    }\n</style>\n<table border=\"1\" class=\"dataframe\">\n  <thead>\n    <tr style=\"text-align: right;\">\n      <th></th>\n      <th>modelName</th>\n      <th>recall@10</th>\n      <th>precision@10</th>\n      <th>f1_score@10</th>\n      <th>ndcg@10</th>\n      <th>personalization@10</th>\n    </tr>\n  </thead>\n  <tbody>\n    <tr>\n      <th>0</th>\n      <td>CF_model</td>\n      <td>0.278981</td>\n      <td>0.027898</td>\n      <td>0.050724</td>\n      <td>0.171451</td>\n      <td>0.998602</td>\n    </tr>\n    <tr>\n      <th>1</th>\n      <td>implicit_model</td>\n      <td>0.417608</td>\n      <td>0.041761</td>\n      <td>0.075929</td>\n      <td>0.271204</td>\n      <td>0.997812</td>\n    </tr>\n  </tbody>\n</table>\n</div>"
     },
     "metadata": {},
     "execution_count": 8
    }
   ],
   "source": [
    "global_m = [cf_global_metrics, implicit_global_metrics]\r\n",
    "global_df = pd.DataFrame().from_dict(global_m)\r\n",
    "global_df.head()"
   ]
  },
  {
   "cell_type": "code",
   "execution_count": 9,
   "metadata": {},
   "outputs": [
    {
     "output_type": "execute_result",
     "data": {
      "text/html": "\n<div id=\"altair-viz-da7b9fb34cce4991913bab9e07e1770c\"></div>\n<script type=\"text/javascript\">\n  (function(spec, embedOpt){\n    let outputDiv = document.currentScript.previousElementSibling;\n    if (outputDiv.id !== \"altair-viz-da7b9fb34cce4991913bab9e07e1770c\") {\n      outputDiv = document.getElementById(\"altair-viz-da7b9fb34cce4991913bab9e07e1770c\");\n    }\n    const paths = {\n      \"vega\": \"https://cdn.jsdelivr.net/npm//vega@5?noext\",\n      \"vega-lib\": \"https://cdn.jsdelivr.net/npm//vega-lib?noext\",\n      \"vega-lite\": \"https://cdn.jsdelivr.net/npm//vega-lite@4.8.1?noext\",\n      \"vega-embed\": \"https://cdn.jsdelivr.net/npm//vega-embed@6?noext\",\n    };\n\n    function loadScript(lib) {\n      return new Promise(function(resolve, reject) {\n        var s = document.createElement('script');\n        s.src = paths[lib];\n        s.async = true;\n        s.onload = () => resolve(paths[lib]);\n        s.onerror = () => reject(`Error loading script: ${paths[lib]}`);\n        document.getElementsByTagName(\"head\")[0].appendChild(s);\n      });\n    }\n\n    function showError(err) {\n      outputDiv.innerHTML = `<div class=\"error\" style=\"color:red;\">${err}</div>`;\n      throw err;\n    }\n\n    function displayChart(vegaEmbed) {\n      vegaEmbed(outputDiv, spec, embedOpt)\n        .catch(err => showError(`Javascript Error: ${err.message}<br>This usually means there's a typo in your chart specification. See the javascript console for the full traceback.`));\n    }\n\n    if(typeof define === \"function\" && define.amd) {\n      requirejs.config({paths});\n      require([\"vega-embed\"], displayChart, err => showError(`Error loading script: ${err.message}`));\n    } else if (typeof vegaEmbed === \"function\") {\n      displayChart(vegaEmbed);\n    } else {\n      loadScript(\"vega\")\n        .then(() => loadScript(\"vega-lite\"))\n        .then(() => loadScript(\"vega-embed\"))\n        .catch(showError)\n        .then(() => displayChart(vegaEmbed));\n    }\n  })({\"config\": {\"view\": {\"continuousWidth\": 400, \"continuousHeight\": 300}}, \"hconcat\": [{\"mark\": {\"type\": \"bar\", \"width\": 50}, \"encoding\": {\"x\": {\"type\": \"ordinal\", \"axis\": {\"labelAngle\": 0}, \"field\": \"modelName\"}, \"y\": {\"type\": \"quantitative\", \"field\": \"f1_score@10\"}}, \"width\": 400}, {\"mark\": {\"type\": \"bar\", \"width\": 50}, \"encoding\": {\"x\": {\"type\": \"ordinal\", \"axis\": {\"labelAngle\": 0}, \"field\": \"modelName\"}, \"y\": {\"type\": \"quantitative\", \"field\": \"ndcg@10\"}}, \"width\": 400}, {\"mark\": {\"type\": \"bar\", \"width\": 50}, \"encoding\": {\"x\": {\"type\": \"ordinal\", \"axis\": {\"labelAngle\": 0}, \"field\": \"modelName\"}, \"y\": {\"type\": \"quantitative\", \"field\": \"personalization@10\"}}, \"width\": 400}], \"data\": {\"name\": \"data-17d51070c4ce1ab5a98f8c555822637f\"}, \"$schema\": \"https://vega.github.io/schema/vega-lite/v4.8.1.json\", \"datasets\": {\"data-17d51070c4ce1ab5a98f8c555822637f\": [{\"modelName\": \"CF_model\", \"recall@10\": 0.27898055555555556, \"precision@10\": 0.027898055555555558, \"f1_score@10\": 0.05072373737373737, \"ndcg@10\": 0.1714511320219907, \"personalization@10\": 0.9986016016016016}, {\"modelName\": \"implicit_model\", \"recall@10\": 0.41760833333333336, \"precision@10\": 0.04176083333333333, \"f1_score@10\": 0.07592878787878787, \"ndcg@10\": 0.2712042041670002, \"personalization@10\": 0.9978122122122122}]}}, {\"mode\": \"vega-lite\"});\n</script>",
      "text/plain": [
       "alt.HConcatChart(...)"
      ]
     },
     "metadata": {},
     "execution_count": 9
    }
   ],
   "source": [
    "f1_score_chart = alt.Chart(global_df, width=400).mark_bar(width=50).encode(\r\n",
    "    y=\"f1_score@10:Q\",\r\n",
    "    x=alt.X(\"modelName:O\",axis=alt.Axis(labelAngle=0)))\r\n",
    "\r\n",
    "ndcg_chart = alt.Chart(global_df, width=400).mark_bar(width=50).encode(\r\n",
    "    y=\"ndcg@10:Q\",\r\n",
    "    x=alt.X(\"modelName:O\",axis=alt.Axis(labelAngle=0)))\r\n",
    "\r\n",
    "personalization_chart = alt.Chart(global_df, width=400).mark_bar(width=50).encode(\r\n",
    "    y=\"personalization@10:Q\",\r\n",
    "    x=alt.X(\"modelName:O\",axis=alt.Axis(labelAngle=0)))\r\n",
    "\r\n",
    "f1_score_chart | ndcg_chart | personalization_chart"
   ]
  },
  {
   "cell_type": "code",
   "execution_count": null,
   "metadata": {},
   "outputs": [],
   "source": []
  }
 ],
 "metadata": {
  "kernelspec": {
   "display_name": "Python 3.8.8 64-bit ('python-3.8.8.amd64')",
   "name": "python388jvsc74a57bd0686f23405e2a4ac53f16a9301bfd24c8a524f3e91072c4c8e17ee124502b094e",
   "language": "python"
  },
  "language_info": {
   "codemirror_mode": {
    "name": "ipython",
    "version": 3
   },
   "file_extension": ".py",
   "mimetype": "text/x-python",
   "name": "python",
   "nbconvert_exporter": "python",
   "pygments_lexer": "ipython3",
   "version": "3.8.8"
  },
  "orig_nbformat": 2
 },
 "nbformat": 4,
 "nbformat_minor": 2
}