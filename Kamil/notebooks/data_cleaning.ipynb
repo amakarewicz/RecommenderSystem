{
 "metadata": {
  "language_info": {
   "codemirror_mode": {
    "name": "ipython",
    "version": 3
   },
   "file_extension": ".py",
   "mimetype": "text/x-python",
   "name": "python",
   "nbconvert_exporter": "python",
   "pygments_lexer": "ipython3",
   "version": "3.8.8"
  },
  "orig_nbformat": 2,
  "kernelspec": {
   "name": "pythonjvsc74a57bd04b1325026e9f981cae795390b19a4d310524d7611d67d1340996fe321e359e56",
   "display_name": "Python 3.8.8  ('recommender-system': venv)"
  },
  "metadata": {
   "interpreter": {
    "hash": "4b1325026e9f981cae795390b19a4d310524d7611d67d1340996fe321e359e56"
   }
  }
 },
 "nbformat": 4,
 "nbformat_minor": 2,
 "cells": [
  {
   "cell_type": "code",
   "execution_count": 6,
   "metadata": {},
   "outputs": [],
   "source": [
    "import pandas as pd\n",
    "import numpy as np"
   ]
  },
  {
   "cell_type": "code",
   "execution_count": 2,
   "metadata": {},
   "outputs": [
    {
     "output_type": "execute_result",
     "data": {
      "text/plain": [
       "       nzz_id           author                             catchline  \\\n",
       "0   ld.149648  Claudia Gabriel  Obligationenfonds mit fixer Laufzeit   \n",
       "1  1.18145900              NaN                                   NaN   \n",
       "2   ld.138769              NaN                     E-Banking-Ausfall   \n",
       "3   ld.143700              NaN                  Terror in Frankreich   \n",
       "4   ld.149385              NaN                     Unglück in Panama   \n",
       "\n",
       "                                             content  content_length  \\\n",
       "0  <div data-component=\"subtitle\" class=\"subtitle...             704   \n",
       "1                                                                  0   \n",
       "2  <div data-component=\"subtitle\" class=\"subtitle...             523   \n",
       "3  <div data-component=\"subtitle\" class=\"subtitle...             180   \n",
       "4  <div data-component=\"subtitle\" class=\"subtitle...             117   \n",
       "\n",
       "      department                                          lead_text  \\\n",
       "0       Finanzen  Die Idee ist gut: Statt einer einzigen Obligat...   \n",
       "1       Panorama  Zum Auftakt der Fashion Week in New York zeige...   \n",
       "2       Finanzen  Seit Sonntag funktioniert das E-Banking der Po...   \n",
       "3  International  Einen Tag nach dem Angriff auf Soldaten beim P...   \n",
       "4       Panorama  Bei einem Busunglück in Panama sind 17 Persone...   \n",
       "\n",
       "                  pub_date                                            title  \\\n",
       "0    2017-03-09 08:01:21.0              Es gibt noch interessante Varianten   \n",
       "1  2017-04-11 14:00:29.473                            Fashion Week New York   \n",
       "2    2017-01-09 13:55:00.0                Postfinance kämpft mit dem System   \n",
       "3    2017-02-04 12:50:25.0     Louvre nach Macheten-Angriff wieder geöffnet   \n",
       "4    2017-03-06 07:31:21.0  Bus prallt gegen eine Mauer und stürzt in Fluss   \n",
       "\n",
       "  flag  \n",
       "0  NaN  \n",
       "1       \n",
       "2  NaN  \n",
       "3  NaN  \n",
       "4  NaN  "
      ],
      "text/html": "<div>\n<style scoped>\n    .dataframe tbody tr th:only-of-type {\n        vertical-align: middle;\n    }\n\n    .dataframe tbody tr th {\n        vertical-align: top;\n    }\n\n    .dataframe thead th {\n        text-align: right;\n    }\n</style>\n<table border=\"1\" class=\"dataframe\">\n  <thead>\n    <tr style=\"text-align: right;\">\n      <th></th>\n      <th>nzz_id</th>\n      <th>author</th>\n      <th>catchline</th>\n      <th>content</th>\n      <th>content_length</th>\n      <th>department</th>\n      <th>lead_text</th>\n      <th>pub_date</th>\n      <th>title</th>\n      <th>flag</th>\n    </tr>\n  </thead>\n  <tbody>\n    <tr>\n      <th>0</th>\n      <td>ld.149648</td>\n      <td>Claudia Gabriel</td>\n      <td>Obligationenfonds mit fixer Laufzeit</td>\n      <td>&lt;div data-component=\"subtitle\" class=\"subtitle...</td>\n      <td>704</td>\n      <td>Finanzen</td>\n      <td>Die Idee ist gut: Statt einer einzigen Obligat...</td>\n      <td>2017-03-09 08:01:21.0</td>\n      <td>Es gibt noch interessante Varianten</td>\n      <td>NaN</td>\n    </tr>\n    <tr>\n      <th>1</th>\n      <td>1.18145900</td>\n      <td>NaN</td>\n      <td>NaN</td>\n      <td></td>\n      <td>0</td>\n      <td>Panorama</td>\n      <td>Zum Auftakt der Fashion Week in New York zeige...</td>\n      <td>2017-04-11 14:00:29.473</td>\n      <td>Fashion Week New York</td>\n      <td></td>\n    </tr>\n    <tr>\n      <th>2</th>\n      <td>ld.138769</td>\n      <td>NaN</td>\n      <td>E-Banking-Ausfall</td>\n      <td>&lt;div data-component=\"subtitle\" class=\"subtitle...</td>\n      <td>523</td>\n      <td>Finanzen</td>\n      <td>Seit Sonntag funktioniert das E-Banking der Po...</td>\n      <td>2017-01-09 13:55:00.0</td>\n      <td>Postfinance kämpft mit dem System</td>\n      <td>NaN</td>\n    </tr>\n    <tr>\n      <th>3</th>\n      <td>ld.143700</td>\n      <td>NaN</td>\n      <td>Terror in Frankreich</td>\n      <td>&lt;div data-component=\"subtitle\" class=\"subtitle...</td>\n      <td>180</td>\n      <td>International</td>\n      <td>Einen Tag nach dem Angriff auf Soldaten beim P...</td>\n      <td>2017-02-04 12:50:25.0</td>\n      <td>Louvre nach Macheten-Angriff wieder geöffnet</td>\n      <td>NaN</td>\n    </tr>\n    <tr>\n      <th>4</th>\n      <td>ld.149385</td>\n      <td>NaN</td>\n      <td>Unglück in Panama</td>\n      <td>&lt;div data-component=\"subtitle\" class=\"subtitle...</td>\n      <td>117</td>\n      <td>Panorama</td>\n      <td>Bei einem Busunglück in Panama sind 17 Persone...</td>\n      <td>2017-03-06 07:31:21.0</td>\n      <td>Bus prallt gegen eine Mauer und stürzt in Fluss</td>\n      <td>NaN</td>\n    </tr>\n  </tbody>\n</table>\n</div>"
     },
     "metadata": {},
     "execution_count": 2
    }
   ],
   "source": [
    "articles = pd.read_json(\"data/articles.json\", encoding=\"utf-8\", lines=True)\n",
    "articles.head()"
   ]
  },
  {
   "cell_type": "code",
   "execution_count": 3,
   "metadata": {},
   "outputs": [
    {
     "output_type": "stream",
     "name": "stdout",
     "text": [
      "<class 'pandas.core.frame.DataFrame'>\nRangeIndex: 22025 entries, 0 to 22024\nData columns (total 10 columns):\n #   Column          Non-Null Count  Dtype \n---  ------          --------------  ----- \n 0   nzz_id          22025 non-null  object\n 1   author          11453 non-null  object\n 2   catchline       17872 non-null  object\n 3   content         21950 non-null  object\n 4   content_length  22025 non-null  int64 \n 5   department      20389 non-null  object\n 6   lead_text       20410 non-null  object\n 7   pub_date        22025 non-null  object\n 8   title           22019 non-null  object\n 9   flag            6675 non-null   object\ndtypes: int64(1), object(9)\nmemory usage: 1.7+ MB\n"
     ]
    }
   ],
   "source": [
    "articles.info()"
   ]
  },
  {
   "cell_type": "code",
   "execution_count": 4,
   "metadata": {},
   "outputs": [
    {
     "output_type": "execute_result",
     "data": {
      "text/plain": [
       "nzz_id                    object\n",
       "author                    object\n",
       "catchline                 object\n",
       "content                   object\n",
       "content_length             int64\n",
       "department                object\n",
       "lead_text                 object\n",
       "pub_date          datetime64[ns]\n",
       "title                     object\n",
       "flag                      object\n",
       "dtype: object"
      ]
     },
     "metadata": {},
     "execution_count": 4
    }
   ],
   "source": [
    "articles[\"pub_date\"] = pd.to_datetime(articles[\"pub_date\"])\n",
    "articles.dtypes"
   ]
  },
  {
   "source": [
    "## Brakujące wartości"
   ],
   "cell_type": "markdown",
   "metadata": {}
  },
  {
   "cell_type": "code",
   "execution_count": 7,
   "metadata": {},
   "outputs": [],
   "source": [
    "# Zmiana wszystkich pustych stringów na null, żeby potem było łatwo usunąć\n",
    "articles = articles.replace(\"\", np.nan)"
   ]
  },
  {
   "cell_type": "code",
   "execution_count": 8,
   "metadata": {},
   "outputs": [
    {
     "output_type": "execute_result",
     "data": {
      "text/plain": [
       "nzz_id                0\n",
       "author            10802\n",
       "catchline          4154\n",
       "content            7120\n",
       "content_length        0\n",
       "department         3241\n",
       "lead_text          2334\n",
       "pub_date              0\n",
       "title                 6\n",
       "flag              19125\n",
       "dtype: int64"
      ]
     },
     "metadata": {},
     "execution_count": 8
    }
   ],
   "source": [
    "articles.isna().sum()"
   ]
  },
  {
   "cell_type": "code",
   "execution_count": 9,
   "metadata": {},
   "outputs": [],
   "source": [
    "articles = articles.drop(columns = [\"flag\", \"content\"])"
   ]
  },
  {
   "cell_type": "code",
   "execution_count": 10,
   "metadata": {},
   "outputs": [
    {
     "output_type": "execute_result",
     "data": {
      "text/plain": [
       "nzz_id            0\n",
       "author            0\n",
       "catchline         0\n",
       "content_length    0\n",
       "department        0\n",
       "lead_text         0\n",
       "pub_date          0\n",
       "title             0\n",
       "dtype: int64"
      ]
     },
     "metadata": {},
     "execution_count": 10
    }
   ],
   "source": [
    "articles = articles.dropna()\n",
    "articles.isna().sum()"
   ]
  },
  {
   "cell_type": "code",
   "execution_count": 11,
   "metadata": {},
   "outputs": [
    {
     "output_type": "execute_result",
     "data": {
      "text/plain": [
       "(10522, 8)"
      ]
     },
     "metadata": {},
     "execution_count": 11
    }
   ],
   "source": [
    "articles.shape"
   ]
  },
  {
   "cell_type": "code",
   "execution_count": 12,
   "metadata": {},
   "outputs": [],
   "source": [
    "articles.to_csv(\"output/articles_cleaned.csv\", encoding=\"utf-8\", index=False)"
   ]
  }
 ]
}