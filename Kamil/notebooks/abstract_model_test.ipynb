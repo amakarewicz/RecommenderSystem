{
 "cells": [
  {
   "cell_type": "code",
   "execution_count": 1,
   "metadata": {},
   "outputs": [],
   "source": [
    "import pandas as pd\r\n",
    "\r\n"
   ]
  },
  {
   "cell_type": "code",
   "execution_count": 2,
   "metadata": {},
   "outputs": [
    {
     "data": {
      "text/html": "<div>\n<style scoped>\n    .dataframe tbody tr th:only-of-type {\n        vertical-align: middle;\n    }\n\n    .dataframe tbody tr th {\n        vertical-align: top;\n    }\n\n    .dataframe thead th {\n        text-align: right;\n    }\n</style>\n<table border=\"1\" class=\"dataframe\">\n  <thead>\n    <tr style=\"text-align: right;\">\n      <th></th>\n      <th>user_id</th>\n      <th>nzz_id</th>\n    </tr>\n  </thead>\n  <tbody>\n    <tr>\n      <th>0</th>\n      <td>1</td>\n      <td>ld.154103</td>\n    </tr>\n    <tr>\n      <th>1</th>\n      <td>1</td>\n      <td>ld.142559</td>\n    </tr>\n    <tr>\n      <th>2</th>\n      <td>1</td>\n      <td>1.18331199</td>\n    </tr>\n    <tr>\n      <th>3</th>\n      <td>1</td>\n      <td>ld.144819</td>\n    </tr>\n    <tr>\n      <th>4</th>\n      <td>1</td>\n      <td>ld.1293110</td>\n    </tr>\n  </tbody>\n</table>\n</div>",
      "text/plain": "   user_id      nzz_id\n0        1   ld.154103\n1        1   ld.142559\n2        1  1.18331199\n3        1   ld.144819\n4        1  ld.1293110"
     },
     "execution_count": 2,
     "metadata": {},
     "output_type": "execute_result"
    }
   ],
   "source": [
    "readers = pd.read_csv(\"../data/readers.csv\")\r\n",
    "readers = readers.rename(columns={\"id\":\"user_id\", \"art_id\":\"nzz_id\"})\r\n",
    "readers.head()"
   ]
  },
  {
   "cell_type": "code",
   "execution_count": 3,
   "metadata": {},
   "outputs": [],
   "source": [
    "import sys\r\n",
    "sys.path.append('../code')\r\n",
    "from cf_model_main import CF_model\r\n",
    "from some_functions import precision, recall"
   ]
  },
  {
   "cell_type": "code",
   "execution_count": 4,
   "metadata": {},
   "outputs": [],
   "source": [
    "model = CF_model(user_db = readers)"
   ]
  },
  {
   "cell_type": "code",
   "execution_count": 13,
   "metadata": {},
   "outputs": [
    {
     "data": {
      "text/plain": "['ld.142559', 'ld.1293110']"
     },
     "execution_count": 13,
     "metadata": {},
     "output_type": "execute_result"
    }
   ],
   "source": [
    "model.recommend(1, ignored=False, limit=2)"
   ]
  },
  {
   "cell_type": "code",
   "execution_count": 6,
   "metadata": {},
   "outputs": [
    {
     "data": {
      "text/plain": "['ld.140337',\n 'ld.1291547',\n 'ld.138727',\n 'ld.151281',\n 'ld.140755',\n 'ld.1287717',\n 'ld.1287678',\n '1.17574293',\n 'ld.154012',\n 'ld.1293984']"
     },
     "execution_count": 6,
     "metadata": {},
     "output_type": "execute_result"
    }
   ],
   "source": [
    "model.recommend(1, ignored=True, limit=10)"
   ]
  },
  {
   "cell_type": "code",
   "execution_count": 8,
   "metadata": {},
   "outputs": [
    {
     "data": {
      "text/plain": "'collaborative filtering'"
     },
     "execution_count": 8,
     "metadata": {},
     "output_type": "execute_result"
    }
   ],
   "source": [
    "model.get_name()"
   ]
  },
  {
   "cell_type": "code",
   "execution_count": null,
   "metadata": {},
   "outputs": [],
   "source": []
  },
  {
   "cell_type": "code",
   "execution_count": 25,
   "metadata": {},
   "outputs": [
    {
     "name": "stdout",
     "output_type": "stream",
     "text": [
      "           model user number_of_recomm user_articles  precision    recall  \\\n",
      "1500  popularity  501                9            49   1.000000  0.102041   \n",
      "1895  popularity  632                9            24   1.000000  0.625000   \n",
      "1899  popularity  634                9            41   1.000000  0.121951   \n",
      "1900  popularity  634                9            41   1.000000  0.243902   \n",
      "1901  popularity  634                9            41   1.000000  0.365854   \n",
      "...          ...  ...              ...           ...        ...       ...   \n",
      "614   popularity  205               10             5   0.200000  0.600000   \n",
      "494   popularity  165               10             5   0.200000  0.600000   \n",
      "1745  popularity  582                9             5   0.133333  0.400000   \n",
      "2807  popularity  936                9             5   0.133333  0.400000   \n",
      "176   popularity   59               10             5   0.133333  0.400000   \n",
      "\n",
      "     model_ev  \n",
      "1500        1  \n",
      "1895        1  \n",
      "1899        1  \n",
      "1900        1  \n",
      "1901        1  \n",
      "...       ...  \n",
      "614         1  \n",
      "494         1  \n",
      "1745        1  \n",
      "2807        1  \n",
      "176         1  \n",
      "\n",
      "[3000 rows x 7 columns]\n"
     ]
    }
   ],
   "source": [
    "col = ['model','user','number_of_recomm','user_articles','precision','recall','model_ev']\r\n",
    "results = pd.DataFrame(columns=col)\r\n",
    "for us in range(1,1001):\r\n",
    "    for li in range(5,16,5):\r\n",
    "        r = model.recommend(user_id=us,limit=li,ignored=False)\r\n",
    "        u_a = readers[readers[\"user_id\"] == us][\"nzz_id\"].tolist()\r\n",
    "        df_to_add = pd.DataFrame([['popularity', us, len(r[0]), len(u_a),precision(r,u_a),recall(r,u_a),1]],columns=col)\r\n",
    "        results = results.append(df_to_add, ignore_index=True)\r\n",
    "\r\n",
    "\r\n",
    "print(results.sort_values(by='precision',ascending=False))"
   ]
  },
  {
   "cell_type": "code",
   "execution_count": 34,
   "metadata": {},
   "outputs": [
    {
     "name": "stdout",
     "output_type": "stream",
     "text": [
      "Mean recall: 0.43\n",
      "Mean precision: 0.94\n"
     ]
    }
   ],
   "source": [
    "mean_recall = results[\"recall\"].mean()\r\n",
    "mean_precision = results[\"precision\"].mean()\r\n",
    "print(f\"Mean recall: {mean_recall:.2f}\")\r\n",
    "print(f\"Mean precision: {mean_precision:.2f}\")"
   ]
  },
  {
   "cell_type": "code",
   "execution_count": null,
   "metadata": {},
   "outputs": [],
   "source": []
  }
 ],
 "metadata": {
  "kernelspec": {
   "display_name": "Python 3.8.8 64-bit ('recomm-env': conda)",
   "name": "python388jvsc74a57bd0ac47599decf7b54cae2bcc78531a5e0ce46143db05e872c37551ade81ca42687"
  },
  "language_info": {
   "codemirror_mode": {
    "name": "ipython",
    "version": 3
   },
   "file_extension": ".py",
   "mimetype": "text/x-python",
   "name": "python",
   "nbconvert_exporter": "python",
   "pygments_lexer": "ipython3",
   "version": "3.8.8"
  },
  "orig_nbformat": 2
 },
 "nbformat": 4,
 "nbformat_minor": 2
}