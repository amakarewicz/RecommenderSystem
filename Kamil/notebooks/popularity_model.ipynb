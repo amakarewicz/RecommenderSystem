{
 "metadata": {
  "language_info": {
   "codemirror_mode": {
    "name": "ipython",
    "version": 3
   },
   "file_extension": ".py",
   "mimetype": "text/x-python",
   "name": "python",
   "nbconvert_exporter": "python",
   "pygments_lexer": "ipython3",
   "version": "3.8.8"
  },
  "orig_nbformat": 2,
  "kernelspec": {
   "name": "python388jvsc74a57bd04b1325026e9f981cae795390b19a4d310524d7611d67d1340996fe321e359e56",
   "display_name": "Python 3.8.8 64-bit ('recommender-system': venv)"
  }
 },
 "nbformat": 4,
 "nbformat_minor": 2,
 "cells": [
  {
   "cell_type": "code",
   "execution_count": 41,
   "metadata": {},
   "outputs": [],
   "source": [
    "import pandas as pd"
   ]
  },
  {
   "cell_type": "code",
   "execution_count": 42,
   "metadata": {},
   "outputs": [
    {
     "output_type": "execute_result",
     "data": {
      "text/plain": [
       "   id      art_id\n",
       "0   1   ld.154103\n",
       "1   1   ld.142559\n",
       "2   1  1.18331199\n",
       "3   1   ld.144819\n",
       "4   1  ld.1293110"
      ],
      "text/html": "<div>\n<style scoped>\n    .dataframe tbody tr th:only-of-type {\n        vertical-align: middle;\n    }\n\n    .dataframe tbody tr th {\n        vertical-align: top;\n    }\n\n    .dataframe thead th {\n        text-align: right;\n    }\n</style>\n<table border=\"1\" class=\"dataframe\">\n  <thead>\n    <tr style=\"text-align: right;\">\n      <th></th>\n      <th>id</th>\n      <th>art_id</th>\n    </tr>\n  </thead>\n  <tbody>\n    <tr>\n      <th>0</th>\n      <td>1</td>\n      <td>ld.154103</td>\n    </tr>\n    <tr>\n      <th>1</th>\n      <td>1</td>\n      <td>ld.142559</td>\n    </tr>\n    <tr>\n      <th>2</th>\n      <td>1</td>\n      <td>1.18331199</td>\n    </tr>\n    <tr>\n      <th>3</th>\n      <td>1</td>\n      <td>ld.144819</td>\n    </tr>\n    <tr>\n      <th>4</th>\n      <td>1</td>\n      <td>ld.1293110</td>\n    </tr>\n  </tbody>\n</table>\n</div>"
     },
     "metadata": {},
     "execution_count": 42
    }
   ],
   "source": [
    "readers = pd.read_csv(\"data/readers.csv\", encoding=\"utf-8\", )\n",
    "readers.head()"
   ]
  },
  {
   "cell_type": "code",
   "execution_count": 52,
   "metadata": {},
   "outputs": [
    {
     "output_type": "execute_result",
     "data": {
      "text/plain": [
       "           id                  author                             catchline  \\\n",
       "0   ld.149648         Claudia Gabriel  Obligationenfonds mit fixer Laufzeit   \n",
       "1  ld.1288211       René Weiersmüller                            Solarstrom   \n",
       "2   ld.137867            Daniel Gerny                               Muslime   \n",
       "3   ld.144440           Walter Haller                     Trumps Schachzüge   \n",
       "4   ld.146522  Marjana Ensmenger, Wil                       Basil Stillhart   \n",
       "\n",
       "   content_length  department  \\\n",
       "0             704    Finanzen   \n",
       "1             804     Meinung   \n",
       "2             311  Wirtschaft   \n",
       "3             593     Meinung   \n",
       "4             337       Sport   \n",
       "\n",
       "                                           lead_text                 pub_date  \\\n",
       "0  Die Idee ist gut: Statt einer einzigen Obligat...  2017-03-09 08:01:21.000   \n",
       "1  An sonnigen Sommertagen wird der grösste Teil ...  2017-04-22 03:30:00.000   \n",
       "2  Präsident des Islamischen Zentralrates der Sch...  2017-01-03 19:28:10.000   \n",
       "3  Jeder US-Präsident schlägt Richter vor, die se...  2017-02-09 04:30:00.000   \n",
       "4  Basil Stillhart fällt mit seiner Art im FC Wil...  2017-02-20 08:30:00.000   \n",
       "\n",
       "                                    title  \n",
       "0     Es gibt noch interessante Varianten  \n",
       "1            Ein kostspieliges Kuckucksei  \n",
       "2                         Nicolas Blancho  \n",
       "3  Die Demokraten sollten vorsichtig sein  \n",
       "4                          Wurzeln in Wil  "
      ],
      "text/html": "<div>\n<style scoped>\n    .dataframe tbody tr th:only-of-type {\n        vertical-align: middle;\n    }\n\n    .dataframe tbody tr th {\n        vertical-align: top;\n    }\n\n    .dataframe thead th {\n        text-align: right;\n    }\n</style>\n<table border=\"1\" class=\"dataframe\">\n  <thead>\n    <tr style=\"text-align: right;\">\n      <th></th>\n      <th>id</th>\n      <th>author</th>\n      <th>catchline</th>\n      <th>content_length</th>\n      <th>department</th>\n      <th>lead_text</th>\n      <th>pub_date</th>\n      <th>title</th>\n    </tr>\n  </thead>\n  <tbody>\n    <tr>\n      <th>0</th>\n      <td>ld.149648</td>\n      <td>Claudia Gabriel</td>\n      <td>Obligationenfonds mit fixer Laufzeit</td>\n      <td>704</td>\n      <td>Finanzen</td>\n      <td>Die Idee ist gut: Statt einer einzigen Obligat...</td>\n      <td>2017-03-09 08:01:21.000</td>\n      <td>Es gibt noch interessante Varianten</td>\n    </tr>\n    <tr>\n      <th>1</th>\n      <td>ld.1288211</td>\n      <td>René Weiersmüller</td>\n      <td>Solarstrom</td>\n      <td>804</td>\n      <td>Meinung</td>\n      <td>An sonnigen Sommertagen wird der grösste Teil ...</td>\n      <td>2017-04-22 03:30:00.000</td>\n      <td>Ein kostspieliges Kuckucksei</td>\n    </tr>\n    <tr>\n      <th>2</th>\n      <td>ld.137867</td>\n      <td>Daniel Gerny</td>\n      <td>Muslime</td>\n      <td>311</td>\n      <td>Wirtschaft</td>\n      <td>Präsident des Islamischen Zentralrates der Sch...</td>\n      <td>2017-01-03 19:28:10.000</td>\n      <td>Nicolas Blancho</td>\n    </tr>\n    <tr>\n      <th>3</th>\n      <td>ld.144440</td>\n      <td>Walter Haller</td>\n      <td>Trumps Schachzüge</td>\n      <td>593</td>\n      <td>Meinung</td>\n      <td>Jeder US-Präsident schlägt Richter vor, die se...</td>\n      <td>2017-02-09 04:30:00.000</td>\n      <td>Die Demokraten sollten vorsichtig sein</td>\n    </tr>\n    <tr>\n      <th>4</th>\n      <td>ld.146522</td>\n      <td>Marjana Ensmenger, Wil</td>\n      <td>Basil Stillhart</td>\n      <td>337</td>\n      <td>Sport</td>\n      <td>Basil Stillhart fällt mit seiner Art im FC Wil...</td>\n      <td>2017-02-20 08:30:00.000</td>\n      <td>Wurzeln in Wil</td>\n    </tr>\n  </tbody>\n</table>\n</div>"
     },
     "metadata": {},
     "execution_count": 52
    }
   ],
   "source": [
    "articles = pd.read_csv(\"output/articles_cleaned.csv\", encoding=\"utf-8\")\n",
    "articles.head()"
   ]
  },
  {
   "cell_type": "code",
   "execution_count": 54,
   "metadata": {},
   "outputs": [
    {
     "output_type": "execute_result",
     "data": {
      "text/plain": [
       "id                        object\n",
       "author                    object\n",
       "catchline                 object\n",
       "content_length             int64\n",
       "department                object\n",
       "lead_text                 object\n",
       "pub_date          datetime64[ns]\n",
       "title                     object\n",
       "dtype: object"
      ]
     },
     "metadata": {},
     "execution_count": 54
    }
   ],
   "source": [
    "articles[\"pub_date\"] = pd.to_datetime(articles[\"pub_date\"])\n",
    "articles.dtypes"
   ]
  },
  {
   "cell_type": "code",
   "execution_count": 55,
   "metadata": {},
   "outputs": [
    {
     "output_type": "execute_result",
     "data": {
      "text/plain": [
       "           id  read_count\n",
       "0  1.18108994         222\n",
       "1   ld.153477         206\n",
       "2  ld.1086062         128\n",
       "3   ld.153813         125\n",
       "4   ld.140509          49"
      ],
      "text/html": "<div>\n<style scoped>\n    .dataframe tbody tr th:only-of-type {\n        vertical-align: middle;\n    }\n\n    .dataframe tbody tr th {\n        vertical-align: top;\n    }\n\n    .dataframe thead th {\n        text-align: right;\n    }\n</style>\n<table border=\"1\" class=\"dataframe\">\n  <thead>\n    <tr style=\"text-align: right;\">\n      <th></th>\n      <th>id</th>\n      <th>read_count</th>\n    </tr>\n  </thead>\n  <tbody>\n    <tr>\n      <th>0</th>\n      <td>1.18108994</td>\n      <td>222</td>\n    </tr>\n    <tr>\n      <th>1</th>\n      <td>ld.153477</td>\n      <td>206</td>\n    </tr>\n    <tr>\n      <th>2</th>\n      <td>ld.1086062</td>\n      <td>128</td>\n    </tr>\n    <tr>\n      <th>3</th>\n      <td>ld.153813</td>\n      <td>125</td>\n    </tr>\n    <tr>\n      <th>4</th>\n      <td>ld.140509</td>\n      <td>49</td>\n    </tr>\n  </tbody>\n</table>\n</div>"
     },
     "metadata": {},
     "execution_count": 55
    }
   ],
   "source": [
    "article_popularity = readers[\"art_id\"].value_counts(sort=True).rename_axis(\"id\").reset_index(name=\"read_count\")\n",
    "article_popularity.head()"
   ]
  },
  {
   "cell_type": "code",
   "execution_count": 56,
   "metadata": {},
   "outputs": [
    {
     "output_type": "execute_result",
     "data": {
      "text/plain": [
       "          id  read_count         author                      catchline  \\\n",
       "0  ld.153477         206   Nino Maspoli         Asus Zenbook 3 im Test   \n",
       "1  ld.137077          47  Roman Bucheli     Jahresrückblick Feuilleton   \n",
       "2  ld.137081          46  Thomas Fuster     Jahresrückblick Wirtschaft   \n",
       "3  ld.136886          45    Luzi Bernet         Jahresrückblick Zürich   \n",
       "4  ld.137066          43  Peter Rásonyi  Jahresrückblick International   \n",
       "\n",
       "   content_length            department  \\\n",
       "0               0             Euro 2016   \n",
       "1             830  Jahresrückblick 2016   \n",
       "2            1052  Jahresrückblick 2016   \n",
       "3             821  Jahresrückblick 2016   \n",
       "4            1006  Jahresrückblick 2016   \n",
       "\n",
       "                                           lead_text            pub_date  \\\n",
       "0  Asus verbaut in seinem neusten Zenbook leistun... 2017-03-26 05:02:00   \n",
       "1  Das Geschichtsbewusstsein nimmt ab, stattdesse... 2017-01-02 05:00:00   \n",
       "2  Befürworter von Freihandel kämpften 2016 oft a... 2017-01-02 05:00:00   \n",
       "3  Der links-grün dominierte Zürcher Stadtrat set... 2016-12-31 05:00:00   \n",
       "4  2016 war geprägt von den Triumphen des Populis... 2016-12-30 04:35:00   \n",
       "\n",
       "                                          title  \n",
       "0                 Es fehlt die Liebe zum Detail  \n",
       "1     Zukunftsversessen und geschichtsvergessen  \n",
       "2       Rückbesinnung auf die heimische Scholle  \n",
       "3  Es braucht mehr als Stunk um das nKoch-Areal  \n",
       "4                    Der Triumph des Populismus  "
      ],
      "text/html": "<div>\n<style scoped>\n    .dataframe tbody tr th:only-of-type {\n        vertical-align: middle;\n    }\n\n    .dataframe tbody tr th {\n        vertical-align: top;\n    }\n\n    .dataframe thead th {\n        text-align: right;\n    }\n</style>\n<table border=\"1\" class=\"dataframe\">\n  <thead>\n    <tr style=\"text-align: right;\">\n      <th></th>\n      <th>id</th>\n      <th>read_count</th>\n      <th>author</th>\n      <th>catchline</th>\n      <th>content_length</th>\n      <th>department</th>\n      <th>lead_text</th>\n      <th>pub_date</th>\n      <th>title</th>\n    </tr>\n  </thead>\n  <tbody>\n    <tr>\n      <th>0</th>\n      <td>ld.153477</td>\n      <td>206</td>\n      <td>Nino Maspoli</td>\n      <td>Asus Zenbook 3 im Test</td>\n      <td>0</td>\n      <td>Euro 2016</td>\n      <td>Asus verbaut in seinem neusten Zenbook leistun...</td>\n      <td>2017-03-26 05:02:00</td>\n      <td>Es fehlt die Liebe zum Detail</td>\n    </tr>\n    <tr>\n      <th>1</th>\n      <td>ld.137077</td>\n      <td>47</td>\n      <td>Roman Bucheli</td>\n      <td>Jahresrückblick Feuilleton</td>\n      <td>830</td>\n      <td>Jahresrückblick 2016</td>\n      <td>Das Geschichtsbewusstsein nimmt ab, stattdesse...</td>\n      <td>2017-01-02 05:00:00</td>\n      <td>Zukunftsversessen und geschichtsvergessen</td>\n    </tr>\n    <tr>\n      <th>2</th>\n      <td>ld.137081</td>\n      <td>46</td>\n      <td>Thomas Fuster</td>\n      <td>Jahresrückblick Wirtschaft</td>\n      <td>1052</td>\n      <td>Jahresrückblick 2016</td>\n      <td>Befürworter von Freihandel kämpften 2016 oft a...</td>\n      <td>2017-01-02 05:00:00</td>\n      <td>Rückbesinnung auf die heimische Scholle</td>\n    </tr>\n    <tr>\n      <th>3</th>\n      <td>ld.136886</td>\n      <td>45</td>\n      <td>Luzi Bernet</td>\n      <td>Jahresrückblick Zürich</td>\n      <td>821</td>\n      <td>Jahresrückblick 2016</td>\n      <td>Der links-grün dominierte Zürcher Stadtrat set...</td>\n      <td>2016-12-31 05:00:00</td>\n      <td>Es braucht mehr als Stunk um das nKoch-Areal</td>\n    </tr>\n    <tr>\n      <th>4</th>\n      <td>ld.137066</td>\n      <td>43</td>\n      <td>Peter Rásonyi</td>\n      <td>Jahresrückblick International</td>\n      <td>1006</td>\n      <td>Jahresrückblick 2016</td>\n      <td>2016 war geprägt von den Triumphen des Populis...</td>\n      <td>2016-12-30 04:35:00</td>\n      <td>Der Triumph des Populismus</td>\n    </tr>\n  </tbody>\n</table>\n</div>"
     },
     "metadata": {},
     "execution_count": 56
    }
   ],
   "source": [
    "merged_df = pd.merge(article_popularity, articles, on=[\"id\"])\n",
    "merged_df.head()"
   ]
  },
  {
   "cell_type": "code",
   "execution_count": 57,
   "metadata": {},
   "outputs": [
    {
     "output_type": "execute_result",
     "data": {
      "text/plain": [
       "id                        object\n",
       "read_count                 int64\n",
       "author                    object\n",
       "catchline                 object\n",
       "content_length             int64\n",
       "department                object\n",
       "lead_text                 object\n",
       "pub_date          datetime64[ns]\n",
       "title                     object\n",
       "dtype: object"
      ]
     },
     "metadata": {},
     "execution_count": 57
    }
   ],
   "source": [
    "merged_df.dtypes"
   ]
  },
  {
   "cell_type": "code",
   "execution_count": 38,
   "metadata": {},
   "outputs": [
    {
     "output_type": "execute_result",
     "data": {
      "text/plain": [
       "                    name\n",
       "0              Euro 2016\n",
       "1   Jahresrückblick 2016\n",
       "2                  Video\n",
       "3           Storytelling\n",
       "4             Startseite\n",
       "5                Digital\n",
       "6           Gesellschaft\n",
       "7                  NZZaS\n",
       "8              Mobilität\n",
       "9           Wissenschaft\n",
       "10              Finanzen\n",
       "11            Marktplatz\n",
       "12               Meinung\n",
       "13                Archiv\n",
       "14            Feuilleton\n",
       "15              Panorama\n",
       "16                 Sport\n",
       "17         International\n",
       "18               Schweiz\n",
       "19            Wirtschaft\n",
       "20          Bildstrecken\n",
       "21                Zürich\n",
       "22          Leserdebatte"
      ],
      "text/html": "<div>\n<style scoped>\n    .dataframe tbody tr th:only-of-type {\n        vertical-align: middle;\n    }\n\n    .dataframe tbody tr th {\n        vertical-align: top;\n    }\n\n    .dataframe thead th {\n        text-align: right;\n    }\n</style>\n<table border=\"1\" class=\"dataframe\">\n  <thead>\n    <tr style=\"text-align: right;\">\n      <th></th>\n      <th>name</th>\n    </tr>\n  </thead>\n  <tbody>\n    <tr>\n      <th>0</th>\n      <td>Euro 2016</td>\n    </tr>\n    <tr>\n      <th>1</th>\n      <td>Jahresrückblick 2016</td>\n    </tr>\n    <tr>\n      <th>2</th>\n      <td>Video</td>\n    </tr>\n    <tr>\n      <th>3</th>\n      <td>Storytelling</td>\n    </tr>\n    <tr>\n      <th>4</th>\n      <td>Startseite</td>\n    </tr>\n    <tr>\n      <th>5</th>\n      <td>Digital</td>\n    </tr>\n    <tr>\n      <th>6</th>\n      <td>Gesellschaft</td>\n    </tr>\n    <tr>\n      <th>7</th>\n      <td>NZZaS</td>\n    </tr>\n    <tr>\n      <th>8</th>\n      <td>Mobilität</td>\n    </tr>\n    <tr>\n      <th>9</th>\n      <td>Wissenschaft</td>\n    </tr>\n    <tr>\n      <th>10</th>\n      <td>Finanzen</td>\n    </tr>\n    <tr>\n      <th>11</th>\n      <td>Marktplatz</td>\n    </tr>\n    <tr>\n      <th>12</th>\n      <td>Meinung</td>\n    </tr>\n    <tr>\n      <th>13</th>\n      <td>Archiv</td>\n    </tr>\n    <tr>\n      <th>14</th>\n      <td>Feuilleton</td>\n    </tr>\n    <tr>\n      <th>15</th>\n      <td>Panorama</td>\n    </tr>\n    <tr>\n      <th>16</th>\n      <td>Sport</td>\n    </tr>\n    <tr>\n      <th>17</th>\n      <td>International</td>\n    </tr>\n    <tr>\n      <th>18</th>\n      <td>Schweiz</td>\n    </tr>\n    <tr>\n      <th>19</th>\n      <td>Wirtschaft</td>\n    </tr>\n    <tr>\n      <th>20</th>\n      <td>Bildstrecken</td>\n    </tr>\n    <tr>\n      <th>21</th>\n      <td>Zürich</td>\n    </tr>\n    <tr>\n      <th>22</th>\n      <td>Leserdebatte</td>\n    </tr>\n  </tbody>\n</table>\n</div>"
     },
     "metadata": {},
     "execution_count": 38
    }
   ],
   "source": [
    "departments = merged_df[\"department\"].unique()\n",
    "pd.DataFrame(departments, columns=[\"name\"])"
   ]
  },
  {
   "cell_type": "code",
   "execution_count": 61,
   "metadata": {},
   "outputs": [
    {
     "output_type": "stream",
     "name": "stdout",
     "text": [
      "min date: 2016-12-29 08:31:00\nmax date: 2017-05-22 10:00:00\n"
     ]
    }
   ],
   "source": [
    "min_date = min(merged_df[\"pub_date\"])\n",
    "max_date = max(merged_df[\"pub_date\"])\n",
    "print(f\"min date: {min_date}\\nmax date: {max_date}\")"
   ]
  }
 ]
}