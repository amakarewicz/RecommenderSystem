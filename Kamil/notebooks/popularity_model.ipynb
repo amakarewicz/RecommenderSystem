{
 "cells": [
  {
   "cell_type": "code",
   "execution_count": 1,
   "metadata": {},
   "outputs": [],
   "source": [
    "import pandas as pd"
   ]
  },
  {
   "cell_type": "code",
   "execution_count": 2,
   "metadata": {},
   "outputs": [
    {
     "data": {
      "text/html": "<div>\n<style scoped>\n    .dataframe tbody tr th:only-of-type {\n        vertical-align: middle;\n    }\n\n    .dataframe tbody tr th {\n        vertical-align: top;\n    }\n\n    .dataframe thead th {\n        text-align: right;\n    }\n</style>\n<table border=\"1\" class=\"dataframe\">\n  <thead>\n    <tr style=\"text-align: right;\">\n      <th></th>\n      <th>id</th>\n      <th>art_id</th>\n    </tr>\n  </thead>\n  <tbody>\n    <tr>\n      <th>0</th>\n      <td>1</td>\n      <td>ld.154103</td>\n    </tr>\n    <tr>\n      <th>1</th>\n      <td>1</td>\n      <td>ld.142559</td>\n    </tr>\n    <tr>\n      <th>2</th>\n      <td>1</td>\n      <td>1.18331199</td>\n    </tr>\n    <tr>\n      <th>3</th>\n      <td>1</td>\n      <td>ld.144819</td>\n    </tr>\n    <tr>\n      <th>4</th>\n      <td>1</td>\n      <td>ld.1293110</td>\n    </tr>\n  </tbody>\n</table>\n</div>",
      "text/plain": "   id      art_id\n0   1   ld.154103\n1   1   ld.142559\n2   1  1.18331199\n3   1   ld.144819\n4   1  ld.1293110"
     },
     "execution_count": 2,
     "metadata": {},
     "output_type": "execute_result"
    }
   ],
   "source": [
    "readers = pd.read_csv(\"../data/readers.csv\", encoding=\"utf-8\", )\n",
    "readers.head()"
   ]
  },
  {
   "cell_type": "code",
   "execution_count": 4,
   "metadata": {},
   "outputs": [
    {
     "data": {
      "text/html": "<div>\n<style scoped>\n    .dataframe tbody tr th:only-of-type {\n        vertical-align: middle;\n    }\n\n    .dataframe tbody tr th {\n        vertical-align: top;\n    }\n\n    .dataframe thead th {\n        text-align: right;\n    }\n</style>\n<table border=\"1\" class=\"dataframe\">\n  <thead>\n    <tr style=\"text-align: right;\">\n      <th></th>\n      <th>nzz_id</th>\n      <th>author</th>\n      <th>catchline</th>\n      <th>department</th>\n      <th>lead_text</th>\n      <th>pub_date</th>\n      <th>title</th>\n      <th>paragraph</th>\n    </tr>\n  </thead>\n  <tbody>\n    <tr>\n      <th>0</th>\n      <td>ld.149648</td>\n      <td>Claudia Gabriel</td>\n      <td>Obligationenfonds mit fixer Laufzeit</td>\n      <td>Finanzen</td>\n      <td>Die Idee ist gut: Statt einer einzigen Obligat...</td>\n      <td>2017-03-09 08:01:21.0</td>\n      <td>Es gibt noch interessante Varianten</td>\n      <td>Die Idee ist gut: Statt einer einzigen Obligat...</td>\n    </tr>\n    <tr>\n      <th>1</th>\n      <td>1.18145900</td>\n      <td>Unknown</td>\n      <td>Fashion Week New York</td>\n      <td>Panorama</td>\n      <td>Zum Auftakt der Fashion Week in New York zeige...</td>\n      <td>2017-04-11 14:00:29.473</td>\n      <td>Fashion Week New York</td>\n      <td>NaN</td>\n    </tr>\n    <tr>\n      <th>2</th>\n      <td>ld.138769</td>\n      <td>Unknown</td>\n      <td>E-Banking-Ausfall</td>\n      <td>Finanzen</td>\n      <td>Seit Sonntag funktioniert das E-Banking der Po...</td>\n      <td>2017-01-09 13:55:00.0</td>\n      <td>Postfinance kämpft mit dem System</td>\n      <td>Seit Sonntag funktioniert das E-Banking der Po...</td>\n    </tr>\n    <tr>\n      <th>3</th>\n      <td>ld.143700</td>\n      <td>Unknown</td>\n      <td>Terror in Frankreich</td>\n      <td>International</td>\n      <td>Einen Tag nach dem Angriff auf Soldaten beim P...</td>\n      <td>2017-02-04 12:50:25.0</td>\n      <td>Louvre nach Macheten-Angriff wieder geöffnet</td>\n      <td>Einen Tag nach dem Angriff auf Soldaten beim P...</td>\n    </tr>\n    <tr>\n      <th>4</th>\n      <td>ld.149385</td>\n      <td>Unknown</td>\n      <td>Unglück in Panama</td>\n      <td>Panorama</td>\n      <td>Bei einem Busunglück in Panama sind 17 Persone...</td>\n      <td>2017-03-06 07:31:21.0</td>\n      <td>Bus prallt gegen eine Mauer und stürzt in Fluss</td>\n      <td>Bei einem Busunglück in Panama sind 17 Persone...</td>\n    </tr>\n  </tbody>\n</table>\n</div>",
      "text/plain": "       nzz_id           author                             catchline  \\\n0   ld.149648  Claudia Gabriel  Obligationenfonds mit fixer Laufzeit   \n1  1.18145900          Unknown                 Fashion Week New York   \n2   ld.138769          Unknown                     E-Banking-Ausfall   \n3   ld.143700          Unknown                  Terror in Frankreich   \n4   ld.149385          Unknown                     Unglück in Panama   \n\n      department                                          lead_text  \\\n0       Finanzen  Die Idee ist gut: Statt einer einzigen Obligat...   \n1       Panorama  Zum Auftakt der Fashion Week in New York zeige...   \n2       Finanzen  Seit Sonntag funktioniert das E-Banking der Po...   \n3  International  Einen Tag nach dem Angriff auf Soldaten beim P...   \n4       Panorama  Bei einem Busunglück in Panama sind 17 Persone...   \n\n                  pub_date                                            title  \\\n0    2017-03-09 08:01:21.0              Es gibt noch interessante Varianten   \n1  2017-04-11 14:00:29.473                            Fashion Week New York   \n2    2017-01-09 13:55:00.0                Postfinance kämpft mit dem System   \n3    2017-02-04 12:50:25.0     Louvre nach Macheten-Angriff wieder geöffnet   \n4    2017-03-06 07:31:21.0  Bus prallt gegen eine Mauer und stürzt in Fluss   \n\n                                           paragraph  \n0  Die Idee ist gut: Statt einer einzigen Obligat...  \n1                                                NaN  \n2  Seit Sonntag funktioniert das E-Banking der Po...  \n3  Einen Tag nach dem Angriff auf Soldaten beim P...  \n4  Bei einem Busunglück in Panama sind 17 Persone...  "
     },
     "execution_count": 4,
     "metadata": {},
     "output_type": "execute_result"
    }
   ],
   "source": [
    "articles = pd.read_csv(\"../data/articles_cleaned.csv\", encoding=\"utf-8\")\r\n",
    "articles.head()"
   ]
  },
  {
   "cell_type": "code",
   "execution_count": 5,
   "metadata": {},
   "outputs": [
    {
     "data": {
      "text/plain": "nzz_id                object\nauthor                object\ncatchline             object\ndepartment            object\nlead_text             object\npub_date      datetime64[ns]\ntitle                 object\nparagraph             object\ndtype: object"
     },
     "execution_count": 5,
     "metadata": {},
     "output_type": "execute_result"
    }
   ],
   "source": [
    "articles[\"pub_date\"] = pd.to_datetime(articles[\"pub_date\"])\n",
    "articles.dtypes"
   ]
  },
  {
   "cell_type": "code",
   "execution_count": 11,
   "metadata": {},
   "outputs": [
    {
     "data": {
      "text/html": "<div>\n<style scoped>\n    .dataframe tbody tr th:only-of-type {\n        vertical-align: middle;\n    }\n\n    .dataframe tbody tr th {\n        vertical-align: top;\n    }\n\n    .dataframe thead th {\n        text-align: right;\n    }\n</style>\n<table border=\"1\" class=\"dataframe\">\n  <thead>\n    <tr style=\"text-align: right;\">\n      <th></th>\n      <th>nzz_id</th>\n      <th>read_count</th>\n    </tr>\n  </thead>\n  <tbody>\n    <tr>\n      <th>0</th>\n      <td>1.18108994</td>\n      <td>222</td>\n    </tr>\n    <tr>\n      <th>1</th>\n      <td>ld.153477</td>\n      <td>206</td>\n    </tr>\n    <tr>\n      <th>2</th>\n      <td>ld.1086062</td>\n      <td>128</td>\n    </tr>\n    <tr>\n      <th>3</th>\n      <td>ld.153813</td>\n      <td>125</td>\n    </tr>\n    <tr>\n      <th>4</th>\n      <td>ld.140509</td>\n      <td>49</td>\n    </tr>\n    <tr>\n      <th>...</th>\n      <td>...</td>\n      <td>...</td>\n    </tr>\n    <tr>\n      <th>11255</th>\n      <td>ld.154248</td>\n      <td>1</td>\n    </tr>\n    <tr>\n      <th>11256</th>\n      <td>ld.150709</td>\n      <td>1</td>\n    </tr>\n    <tr>\n      <th>11257</th>\n      <td>ld.1085883</td>\n      <td>1</td>\n    </tr>\n    <tr>\n      <th>11258</th>\n      <td>ld.141789</td>\n      <td>1</td>\n    </tr>\n    <tr>\n      <th>11259</th>\n      <td>ld.142817</td>\n      <td>1</td>\n    </tr>\n  </tbody>\n</table>\n<p>11260 rows × 2 columns</p>\n</div>",
      "text/plain": "           nzz_id  read_count\n0      1.18108994         222\n1       ld.153477         206\n2      ld.1086062         128\n3       ld.153813         125\n4       ld.140509          49\n...           ...         ...\n11255   ld.154248           1\n11256   ld.150709           1\n11257  ld.1085883           1\n11258   ld.141789           1\n11259   ld.142817           1\n\n[11260 rows x 2 columns]"
     },
     "execution_count": 11,
     "metadata": {},
     "output_type": "execute_result"
    }
   ],
   "source": [
    "article_popularity = readers[\"art_id\"].value_counts(sort=True).rename_axis(\"nzz_id\").reset_index(name=\"read_count\")\r\n",
    "article_popularity"
   ]
  },
  {
   "cell_type": "code",
   "execution_count": 10,
   "metadata": {},
   "outputs": [
    {
     "ename": "KeyError",
     "evalue": "'id'",
     "output_type": "error",
     "traceback": [
      "\u001b[1;31m---------------------------------------------------------------------------\u001b[0m",
      "\u001b[1;31mKeyError\u001b[0m                                  Traceback (most recent call last)",
      "\u001b[1;32m<ipython-input-10-254f6d75fb88>\u001b[0m in \u001b[0;36m<module>\u001b[1;34m\u001b[0m\n\u001b[1;32m----> 1\u001b[1;33m \u001b[0mmerged_df\u001b[0m \u001b[1;33m=\u001b[0m \u001b[0mpd\u001b[0m\u001b[1;33m.\u001b[0m\u001b[0mmerge\u001b[0m\u001b[1;33m(\u001b[0m\u001b[0marticle_popularity\u001b[0m\u001b[1;33m,\u001b[0m \u001b[0marticles\u001b[0m\u001b[1;33m,\u001b[0m \u001b[0mon\u001b[0m\u001b[1;33m=\u001b[0m\u001b[1;33m[\u001b[0m\u001b[1;34m\"id\"\u001b[0m\u001b[1;33m]\u001b[0m\u001b[1;33m)\u001b[0m\u001b[1;33m\u001b[0m\u001b[1;33m\u001b[0m\u001b[0m\n\u001b[0m\u001b[0;32m      2\u001b[0m \u001b[0mmerged_df\u001b[0m\u001b[1;33m.\u001b[0m\u001b[0mhead\u001b[0m\u001b[1;33m(\u001b[0m\u001b[1;33m)\u001b[0m\u001b[1;33m\u001b[0m\u001b[1;33m\u001b[0m\u001b[0m\n",
      "\u001b[1;32m~\\Mambaforge\\envs\\recomm-env\\lib\\site-packages\\pandas\\core\\reshape\\merge.py\u001b[0m in \u001b[0;36mmerge\u001b[1;34m(left, right, how, on, left_on, right_on, left_index, right_index, sort, suffixes, copy, indicator, validate)\u001b[0m\n\u001b[0;32m     72\u001b[0m     \u001b[0mvalidate\u001b[0m\u001b[1;33m=\u001b[0m\u001b[1;32mNone\u001b[0m\u001b[1;33m,\u001b[0m\u001b[1;33m\u001b[0m\u001b[1;33m\u001b[0m\u001b[0m\n\u001b[0;32m     73\u001b[0m ) -> \"DataFrame\":\n\u001b[1;32m---> 74\u001b[1;33m     op = _MergeOperation(\n\u001b[0m\u001b[0;32m     75\u001b[0m         \u001b[0mleft\u001b[0m\u001b[1;33m,\u001b[0m\u001b[1;33m\u001b[0m\u001b[1;33m\u001b[0m\u001b[0m\n\u001b[0;32m     76\u001b[0m         \u001b[0mright\u001b[0m\u001b[1;33m,\u001b[0m\u001b[1;33m\u001b[0m\u001b[1;33m\u001b[0m\u001b[0m\n",
      "\u001b[1;32m~\\Mambaforge\\envs\\recomm-env\\lib\\site-packages\\pandas\\core\\reshape\\merge.py\u001b[0m in \u001b[0;36m__init__\u001b[1;34m(self, left, right, how, on, left_on, right_on, axis, left_index, right_index, sort, suffixes, copy, indicator, validate)\u001b[0m\n\u001b[0;32m    666\u001b[0m             \u001b[0mself\u001b[0m\u001b[1;33m.\u001b[0m\u001b[0mright_join_keys\u001b[0m\u001b[1;33m,\u001b[0m\u001b[1;33m\u001b[0m\u001b[1;33m\u001b[0m\u001b[0m\n\u001b[0;32m    667\u001b[0m             \u001b[0mself\u001b[0m\u001b[1;33m.\u001b[0m\u001b[0mjoin_names\u001b[0m\u001b[1;33m,\u001b[0m\u001b[1;33m\u001b[0m\u001b[1;33m\u001b[0m\u001b[0m\n\u001b[1;32m--> 668\u001b[1;33m         ) = self._get_merge_keys()\n\u001b[0m\u001b[0;32m    669\u001b[0m \u001b[1;33m\u001b[0m\u001b[0m\n\u001b[0;32m    670\u001b[0m         \u001b[1;31m# validate the merge keys dtypes. We may need to coerce\u001b[0m\u001b[1;33m\u001b[0m\u001b[1;33m\u001b[0m\u001b[1;33m\u001b[0m\u001b[0m\n",
      "\u001b[1;32m~\\Mambaforge\\envs\\recomm-env\\lib\\site-packages\\pandas\\core\\reshape\\merge.py\u001b[0m in \u001b[0;36m_get_merge_keys\u001b[1;34m(self)\u001b[0m\n\u001b[0;32m   1031\u001b[0m                     \u001b[1;32mif\u001b[0m \u001b[1;32mnot\u001b[0m \u001b[0mis_rkey\u001b[0m\u001b[1;33m(\u001b[0m\u001b[0mrk\u001b[0m\u001b[1;33m)\u001b[0m\u001b[1;33m:\u001b[0m\u001b[1;33m\u001b[0m\u001b[1;33m\u001b[0m\u001b[0m\n\u001b[0;32m   1032\u001b[0m                         \u001b[1;32mif\u001b[0m \u001b[0mrk\u001b[0m \u001b[1;32mis\u001b[0m \u001b[1;32mnot\u001b[0m \u001b[1;32mNone\u001b[0m\u001b[1;33m:\u001b[0m\u001b[1;33m\u001b[0m\u001b[1;33m\u001b[0m\u001b[0m\n\u001b[1;32m-> 1033\u001b[1;33m                             \u001b[0mright_keys\u001b[0m\u001b[1;33m.\u001b[0m\u001b[0mappend\u001b[0m\u001b[1;33m(\u001b[0m\u001b[0mright\u001b[0m\u001b[1;33m.\u001b[0m\u001b[0m_get_label_or_level_values\u001b[0m\u001b[1;33m(\u001b[0m\u001b[0mrk\u001b[0m\u001b[1;33m)\u001b[0m\u001b[1;33m)\u001b[0m\u001b[1;33m\u001b[0m\u001b[1;33m\u001b[0m\u001b[0m\n\u001b[0m\u001b[0;32m   1034\u001b[0m                         \u001b[1;32melse\u001b[0m\u001b[1;33m:\u001b[0m\u001b[1;33m\u001b[0m\u001b[1;33m\u001b[0m\u001b[0m\n\u001b[0;32m   1035\u001b[0m                             \u001b[1;31m# work-around for merge_asof(right_index=True)\u001b[0m\u001b[1;33m\u001b[0m\u001b[1;33m\u001b[0m\u001b[1;33m\u001b[0m\u001b[0m\n",
      "\u001b[1;32m~\\Mambaforge\\envs\\recomm-env\\lib\\site-packages\\pandas\\core\\generic.py\u001b[0m in \u001b[0;36m_get_label_or_level_values\u001b[1;34m(self, key, axis)\u001b[0m\n\u001b[0;32m   1682\u001b[0m             \u001b[0mvalues\u001b[0m \u001b[1;33m=\u001b[0m \u001b[0mself\u001b[0m\u001b[1;33m.\u001b[0m\u001b[0maxes\u001b[0m\u001b[1;33m[\u001b[0m\u001b[0maxis\u001b[0m\u001b[1;33m]\u001b[0m\u001b[1;33m.\u001b[0m\u001b[0mget_level_values\u001b[0m\u001b[1;33m(\u001b[0m\u001b[0mkey\u001b[0m\u001b[1;33m)\u001b[0m\u001b[1;33m.\u001b[0m\u001b[0m_values\u001b[0m\u001b[1;33m\u001b[0m\u001b[1;33m\u001b[0m\u001b[0m\n\u001b[0;32m   1683\u001b[0m         \u001b[1;32melse\u001b[0m\u001b[1;33m:\u001b[0m\u001b[1;33m\u001b[0m\u001b[1;33m\u001b[0m\u001b[0m\n\u001b[1;32m-> 1684\u001b[1;33m             \u001b[1;32mraise\u001b[0m \u001b[0mKeyError\u001b[0m\u001b[1;33m(\u001b[0m\u001b[0mkey\u001b[0m\u001b[1;33m)\u001b[0m\u001b[1;33m\u001b[0m\u001b[1;33m\u001b[0m\u001b[0m\n\u001b[0m\u001b[0;32m   1685\u001b[0m \u001b[1;33m\u001b[0m\u001b[0m\n\u001b[0;32m   1686\u001b[0m         \u001b[1;31m# Check for duplicates\u001b[0m\u001b[1;33m\u001b[0m\u001b[1;33m\u001b[0m\u001b[1;33m\u001b[0m\u001b[0m\n",
      "\u001b[1;31mKeyError\u001b[0m: 'id'"
     ]
    }
   ],
   "source": [
    "merged_df = pd.merge(article_popularity, articles, on=[\"id\"])\r\n",
    "merged_df.head()"
   ]
  },
  {
   "cell_type": "code",
   "execution_count": 57,
   "metadata": {},
   "outputs": [
    {
     "data": {
      "text/plain": [
       "id                        object\n",
       "read_count                 int64\n",
       "author                    object\n",
       "catchline                 object\n",
       "content_length             int64\n",
       "department                object\n",
       "lead_text                 object\n",
       "pub_date          datetime64[ns]\n",
       "title                     object\n",
       "dtype: object"
      ]
     },
     "execution_count": 57,
     "metadata": {},
     "output_type": "execute_result"
    }
   ],
   "source": [
    "merged_df.dtypes"
   ]
  },
  {
   "cell_type": "code",
   "execution_count": 38,
   "metadata": {},
   "outputs": [
    {
     "data": {
      "text/html": "<div>\n<style scoped>\n    .dataframe tbody tr th:only-of-type {\n        vertical-align: middle;\n    }\n\n    .dataframe tbody tr th {\n        vertical-align: top;\n    }\n\n    .dataframe thead th {\n        text-align: right;\n    }\n</style>\n<table border=\"1\" class=\"dataframe\">\n  <thead>\n    <tr style=\"text-align: right;\">\n      <th></th>\n      <th>name</th>\n    </tr>\n  </thead>\n  <tbody>\n    <tr>\n      <th>0</th>\n      <td>Euro 2016</td>\n    </tr>\n    <tr>\n      <th>1</th>\n      <td>Jahresrückblick 2016</td>\n    </tr>\n    <tr>\n      <th>2</th>\n      <td>Video</td>\n    </tr>\n    <tr>\n      <th>3</th>\n      <td>Storytelling</td>\n    </tr>\n    <tr>\n      <th>4</th>\n      <td>Startseite</td>\n    </tr>\n    <tr>\n      <th>5</th>\n      <td>Digital</td>\n    </tr>\n    <tr>\n      <th>6</th>\n      <td>Gesellschaft</td>\n    </tr>\n    <tr>\n      <th>7</th>\n      <td>NZZaS</td>\n    </tr>\n    <tr>\n      <th>8</th>\n      <td>Mobilität</td>\n    </tr>\n    <tr>\n      <th>9</th>\n      <td>Wissenschaft</td>\n    </tr>\n    <tr>\n      <th>10</th>\n      <td>Finanzen</td>\n    </tr>\n    <tr>\n      <th>11</th>\n      <td>Marktplatz</td>\n    </tr>\n    <tr>\n      <th>12</th>\n      <td>Meinung</td>\n    </tr>\n    <tr>\n      <th>13</th>\n      <td>Archiv</td>\n    </tr>\n    <tr>\n      <th>14</th>\n      <td>Feuilleton</td>\n    </tr>\n    <tr>\n      <th>15</th>\n      <td>Panorama</td>\n    </tr>\n    <tr>\n      <th>16</th>\n      <td>Sport</td>\n    </tr>\n    <tr>\n      <th>17</th>\n      <td>International</td>\n    </tr>\n    <tr>\n      <th>18</th>\n      <td>Schweiz</td>\n    </tr>\n    <tr>\n      <th>19</th>\n      <td>Wirtschaft</td>\n    </tr>\n    <tr>\n      <th>20</th>\n      <td>Bildstrecken</td>\n    </tr>\n    <tr>\n      <th>21</th>\n      <td>Zürich</td>\n    </tr>\n    <tr>\n      <th>22</th>\n      <td>Leserdebatte</td>\n    </tr>\n  </tbody>\n</table>\n</div>",
      "text/plain": [
       "                    name\n",
       "0              Euro 2016\n",
       "1   Jahresrückblick 2016\n",
       "2                  Video\n",
       "3           Storytelling\n",
       "4             Startseite\n",
       "5                Digital\n",
       "6           Gesellschaft\n",
       "7                  NZZaS\n",
       "8              Mobilität\n",
       "9           Wissenschaft\n",
       "10              Finanzen\n",
       "11            Marktplatz\n",
       "12               Meinung\n",
       "13                Archiv\n",
       "14            Feuilleton\n",
       "15              Panorama\n",
       "16                 Sport\n",
       "17         International\n",
       "18               Schweiz\n",
       "19            Wirtschaft\n",
       "20          Bildstrecken\n",
       "21                Zürich\n",
       "22          Leserdebatte"
      ]
     },
     "execution_count": 38,
     "metadata": {},
     "output_type": "execute_result"
    }
   ],
   "source": [
    "departments = merged_df[\"department\"].unique()\n",
    "pd.DataFrame(departments, columns=[\"name\"])"
   ]
  },
  {
   "cell_type": "code",
   "execution_count": 61,
   "metadata": {},
   "outputs": [
    {
     "name": "stdout",
     "output_type": "stream",
     "text": [
      "min date: 2016-12-29 08:31:00\n",
      "max date: 2017-05-22 10:00:00\n"
     ]
    }
   ],
   "source": [
    "min_date = min(merged_df[\"pub_date\"])\n",
    "max_date = max(merged_df[\"pub_date\"])\n",
    "print(f\"min date: {min_date}\\nmax date: {max_date}\")"
   ]
  }
 ],
 "metadata": {
  "kernelspec": {
   "display_name": "Python 3.8.8 64-bit ('recomm-env': conda)",
   "name": "python388jvsc74a57bd0ac47599decf7b54cae2bcc78531a5e0ce46143db05e872c37551ade81ca42687"
  },
  "language_info": {
   "codemirror_mode": {
    "name": "ipython",
    "version": 3
   },
   "file_extension": ".py",
   "mimetype": "text/x-python",
   "name": "python",
   "nbconvert_exporter": "python",
   "pygments_lexer": "ipython3",
   "version": "3.8.8"
  },
  "orig_nbformat": 2
 },
 "nbformat": 4,
 "nbformat_minor": 2
}