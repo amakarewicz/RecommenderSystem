{
 "metadata": {
  "language_info": {
   "codemirror_mode": {
    "name": "ipython",
    "version": 3
   },
   "file_extension": ".py",
   "mimetype": "text/x-python",
   "name": "python",
   "nbconvert_exporter": "python",
   "pygments_lexer": "ipython3",
   "version": "3.8.8"
  },
  "orig_nbformat": 2,
  "kernelspec": {
   "name": "python388jvsc74a57bd0686f23405e2a4ac53f16a9301bfd24c8a524f3e91072c4c8e17ee124502b094e",
   "display_name": "Python 3.8.8 64-bit"
  }
 },
 "nbformat": 4,
 "nbformat_minor": 2,
 "cells": [
  {
   "cell_type": "code",
   "execution_count": 7,
   "metadata": {},
   "outputs": [],
   "source": [
    "import pandas as pd"
   ]
  },
  {
   "cell_type": "code",
   "execution_count": 8,
   "metadata": {},
   "outputs": [
    {
     "output_type": "execute_result",
     "data": {
      "text/plain": [
       "   id      art_id\n",
       "0   1   ld.154103\n",
       "1   1   ld.142559\n",
       "2   1  1.18331199\n",
       "3   1   ld.144819\n",
       "4   1  ld.1293110"
      ],
      "text/html": "<div>\n<style scoped>\n    .dataframe tbody tr th:only-of-type {\n        vertical-align: middle;\n    }\n\n    .dataframe tbody tr th {\n        vertical-align: top;\n    }\n\n    .dataframe thead th {\n        text-align: right;\n    }\n</style>\n<table border=\"1\" class=\"dataframe\">\n  <thead>\n    <tr style=\"text-align: right;\">\n      <th></th>\n      <th>id</th>\n      <th>art_id</th>\n    </tr>\n  </thead>\n  <tbody>\n    <tr>\n      <th>0</th>\n      <td>1</td>\n      <td>ld.154103</td>\n    </tr>\n    <tr>\n      <th>1</th>\n      <td>1</td>\n      <td>ld.142559</td>\n    </tr>\n    <tr>\n      <th>2</th>\n      <td>1</td>\n      <td>1.18331199</td>\n    </tr>\n    <tr>\n      <th>3</th>\n      <td>1</td>\n      <td>ld.144819</td>\n    </tr>\n    <tr>\n      <th>4</th>\n      <td>1</td>\n      <td>ld.1293110</td>\n    </tr>\n  </tbody>\n</table>\n</div>"
     },
     "metadata": {},
     "execution_count": 8
    }
   ],
   "source": [
    "readers = pd.read_csv(\"../data/readers.csv\", encoding=\"utf-8\", )\n",
    "readers.head()"
   ]
  },
  {
   "cell_type": "code",
   "execution_count": 9,
   "metadata": {},
   "outputs": [
    {
     "output_type": "error",
     "ename": "FileNotFoundError",
     "evalue": "[Errno 2] No such file or directory: 'output/articles_cleaned.csv'",
     "traceback": [
      "\u001b[1;31m---------------------------------------------------------------------------\u001b[0m",
      "\u001b[1;31mFileNotFoundError\u001b[0m                         Traceback (most recent call last)",
      "\u001b[1;32m<ipython-input-9-a6d44b8d89d4>\u001b[0m in \u001b[0;36m<module>\u001b[1;34m\u001b[0m\n\u001b[1;32m----> 1\u001b[1;33m \u001b[0marticles\u001b[0m \u001b[1;33m=\u001b[0m \u001b[0mpd\u001b[0m\u001b[1;33m.\u001b[0m\u001b[0mread_csv\u001b[0m\u001b[1;33m(\u001b[0m\u001b[1;34m\"output/articles_cleaned.csv\"\u001b[0m\u001b[1;33m,\u001b[0m \u001b[0mencoding\u001b[0m\u001b[1;33m=\u001b[0m\u001b[1;34m\"utf-8\"\u001b[0m\u001b[1;33m)\u001b[0m\u001b[1;33m\u001b[0m\u001b[1;33m\u001b[0m\u001b[0m\n\u001b[0m\u001b[0;32m      2\u001b[0m \u001b[0marticles\u001b[0m\u001b[1;33m.\u001b[0m\u001b[0mhead\u001b[0m\u001b[1;33m(\u001b[0m\u001b[1;33m)\u001b[0m\u001b[1;33m\u001b[0m\u001b[1;33m\u001b[0m\u001b[0m\n",
      "\u001b[1;32m~\\code-projects\\python\\WPy64-3880\\python-3.8.8.amd64\\lib\\site-packages\\pandas\\io\\parsers.py\u001b[0m in \u001b[0;36mread_csv\u001b[1;34m(filepath_or_buffer, sep, delimiter, header, names, index_col, usecols, squeeze, prefix, mangle_dupe_cols, dtype, engine, converters, true_values, false_values, skipinitialspace, skiprows, skipfooter, nrows, na_values, keep_default_na, na_filter, verbose, skip_blank_lines, parse_dates, infer_datetime_format, keep_date_col, date_parser, dayfirst, cache_dates, iterator, chunksize, compression, thousands, decimal, lineterminator, quotechar, quoting, doublequote, escapechar, comment, encoding, dialect, error_bad_lines, warn_bad_lines, delim_whitespace, low_memory, memory_map, float_precision, storage_options)\u001b[0m\n\u001b[0;32m    608\u001b[0m     \u001b[0mkwds\u001b[0m\u001b[1;33m.\u001b[0m\u001b[0mupdate\u001b[0m\u001b[1;33m(\u001b[0m\u001b[0mkwds_defaults\u001b[0m\u001b[1;33m)\u001b[0m\u001b[1;33m\u001b[0m\u001b[1;33m\u001b[0m\u001b[0m\n\u001b[0;32m    609\u001b[0m \u001b[1;33m\u001b[0m\u001b[0m\n\u001b[1;32m--> 610\u001b[1;33m     \u001b[1;32mreturn\u001b[0m \u001b[0m_read\u001b[0m\u001b[1;33m(\u001b[0m\u001b[0mfilepath_or_buffer\u001b[0m\u001b[1;33m,\u001b[0m \u001b[0mkwds\u001b[0m\u001b[1;33m)\u001b[0m\u001b[1;33m\u001b[0m\u001b[1;33m\u001b[0m\u001b[0m\n\u001b[0m\u001b[0;32m    611\u001b[0m \u001b[1;33m\u001b[0m\u001b[0m\n\u001b[0;32m    612\u001b[0m \u001b[1;33m\u001b[0m\u001b[0m\n",
      "\u001b[1;32m~\\code-projects\\python\\WPy64-3880\\python-3.8.8.amd64\\lib\\site-packages\\pandas\\io\\parsers.py\u001b[0m in \u001b[0;36m_read\u001b[1;34m(filepath_or_buffer, kwds)\u001b[0m\n\u001b[0;32m    460\u001b[0m \u001b[1;33m\u001b[0m\u001b[0m\n\u001b[0;32m    461\u001b[0m     \u001b[1;31m# Create the parser.\u001b[0m\u001b[1;33m\u001b[0m\u001b[1;33m\u001b[0m\u001b[1;33m\u001b[0m\u001b[0m\n\u001b[1;32m--> 462\u001b[1;33m     \u001b[0mparser\u001b[0m \u001b[1;33m=\u001b[0m \u001b[0mTextFileReader\u001b[0m\u001b[1;33m(\u001b[0m\u001b[0mfilepath_or_buffer\u001b[0m\u001b[1;33m,\u001b[0m \u001b[1;33m**\u001b[0m\u001b[0mkwds\u001b[0m\u001b[1;33m)\u001b[0m\u001b[1;33m\u001b[0m\u001b[1;33m\u001b[0m\u001b[0m\n\u001b[0m\u001b[0;32m    463\u001b[0m \u001b[1;33m\u001b[0m\u001b[0m\n\u001b[0;32m    464\u001b[0m     \u001b[1;32mif\u001b[0m \u001b[0mchunksize\u001b[0m \u001b[1;32mor\u001b[0m \u001b[0miterator\u001b[0m\u001b[1;33m:\u001b[0m\u001b[1;33m\u001b[0m\u001b[1;33m\u001b[0m\u001b[0m\n",
      "\u001b[1;32m~\\code-projects\\python\\WPy64-3880\\python-3.8.8.amd64\\lib\\site-packages\\pandas\\io\\parsers.py\u001b[0m in \u001b[0;36m__init__\u001b[1;34m(self, f, engine, **kwds)\u001b[0m\n\u001b[0;32m    817\u001b[0m             \u001b[0mself\u001b[0m\u001b[1;33m.\u001b[0m\u001b[0moptions\u001b[0m\u001b[1;33m[\u001b[0m\u001b[1;34m\"has_index_names\"\u001b[0m\u001b[1;33m]\u001b[0m \u001b[1;33m=\u001b[0m \u001b[0mkwds\u001b[0m\u001b[1;33m[\u001b[0m\u001b[1;34m\"has_index_names\"\u001b[0m\u001b[1;33m]\u001b[0m\u001b[1;33m\u001b[0m\u001b[1;33m\u001b[0m\u001b[0m\n\u001b[0;32m    818\u001b[0m \u001b[1;33m\u001b[0m\u001b[0m\n\u001b[1;32m--> 819\u001b[1;33m         \u001b[0mself\u001b[0m\u001b[1;33m.\u001b[0m\u001b[0m_engine\u001b[0m \u001b[1;33m=\u001b[0m \u001b[0mself\u001b[0m\u001b[1;33m.\u001b[0m\u001b[0m_make_engine\u001b[0m\u001b[1;33m(\u001b[0m\u001b[0mself\u001b[0m\u001b[1;33m.\u001b[0m\u001b[0mengine\u001b[0m\u001b[1;33m)\u001b[0m\u001b[1;33m\u001b[0m\u001b[1;33m\u001b[0m\u001b[0m\n\u001b[0m\u001b[0;32m    820\u001b[0m \u001b[1;33m\u001b[0m\u001b[0m\n\u001b[0;32m    821\u001b[0m     \u001b[1;32mdef\u001b[0m \u001b[0mclose\u001b[0m\u001b[1;33m(\u001b[0m\u001b[0mself\u001b[0m\u001b[1;33m)\u001b[0m\u001b[1;33m:\u001b[0m\u001b[1;33m\u001b[0m\u001b[1;33m\u001b[0m\u001b[0m\n",
      "\u001b[1;32m~\\code-projects\\python\\WPy64-3880\\python-3.8.8.amd64\\lib\\site-packages\\pandas\\io\\parsers.py\u001b[0m in \u001b[0;36m_make_engine\u001b[1;34m(self, engine)\u001b[0m\n\u001b[0;32m   1048\u001b[0m             )\n\u001b[0;32m   1049\u001b[0m         \u001b[1;31m# error: Too many arguments for \"ParserBase\"\u001b[0m\u001b[1;33m\u001b[0m\u001b[1;33m\u001b[0m\u001b[1;33m\u001b[0m\u001b[0m\n\u001b[1;32m-> 1050\u001b[1;33m         \u001b[1;32mreturn\u001b[0m \u001b[0mmapping\u001b[0m\u001b[1;33m[\u001b[0m\u001b[0mengine\u001b[0m\u001b[1;33m]\u001b[0m\u001b[1;33m(\u001b[0m\u001b[0mself\u001b[0m\u001b[1;33m.\u001b[0m\u001b[0mf\u001b[0m\u001b[1;33m,\u001b[0m \u001b[1;33m**\u001b[0m\u001b[0mself\u001b[0m\u001b[1;33m.\u001b[0m\u001b[0moptions\u001b[0m\u001b[1;33m)\u001b[0m  \u001b[1;31m# type: ignore[call-arg]\u001b[0m\u001b[1;33m\u001b[0m\u001b[1;33m\u001b[0m\u001b[0m\n\u001b[0m\u001b[0;32m   1051\u001b[0m \u001b[1;33m\u001b[0m\u001b[0m\n\u001b[0;32m   1052\u001b[0m     \u001b[1;32mdef\u001b[0m \u001b[0m_failover_to_python\u001b[0m\u001b[1;33m(\u001b[0m\u001b[0mself\u001b[0m\u001b[1;33m)\u001b[0m\u001b[1;33m:\u001b[0m\u001b[1;33m\u001b[0m\u001b[1;33m\u001b[0m\u001b[0m\n",
      "\u001b[1;32m~\\code-projects\\python\\WPy64-3880\\python-3.8.8.amd64\\lib\\site-packages\\pandas\\io\\parsers.py\u001b[0m in \u001b[0;36m__init__\u001b[1;34m(self, src, **kwds)\u001b[0m\n\u001b[0;32m   1865\u001b[0m \u001b[1;33m\u001b[0m\u001b[0m\n\u001b[0;32m   1866\u001b[0m         \u001b[1;31m# open handles\u001b[0m\u001b[1;33m\u001b[0m\u001b[1;33m\u001b[0m\u001b[1;33m\u001b[0m\u001b[0m\n\u001b[1;32m-> 1867\u001b[1;33m         \u001b[0mself\u001b[0m\u001b[1;33m.\u001b[0m\u001b[0m_open_handles\u001b[0m\u001b[1;33m(\u001b[0m\u001b[0msrc\u001b[0m\u001b[1;33m,\u001b[0m \u001b[0mkwds\u001b[0m\u001b[1;33m)\u001b[0m\u001b[1;33m\u001b[0m\u001b[1;33m\u001b[0m\u001b[0m\n\u001b[0m\u001b[0;32m   1868\u001b[0m         \u001b[1;32massert\u001b[0m \u001b[0mself\u001b[0m\u001b[1;33m.\u001b[0m\u001b[0mhandles\u001b[0m \u001b[1;32mis\u001b[0m \u001b[1;32mnot\u001b[0m \u001b[1;32mNone\u001b[0m\u001b[1;33m\u001b[0m\u001b[1;33m\u001b[0m\u001b[0m\n\u001b[0;32m   1869\u001b[0m         \u001b[1;32mfor\u001b[0m \u001b[0mkey\u001b[0m \u001b[1;32min\u001b[0m \u001b[1;33m(\u001b[0m\u001b[1;34m\"storage_options\"\u001b[0m\u001b[1;33m,\u001b[0m \u001b[1;34m\"encoding\"\u001b[0m\u001b[1;33m,\u001b[0m \u001b[1;34m\"memory_map\"\u001b[0m\u001b[1;33m,\u001b[0m \u001b[1;34m\"compression\"\u001b[0m\u001b[1;33m)\u001b[0m\u001b[1;33m:\u001b[0m\u001b[1;33m\u001b[0m\u001b[1;33m\u001b[0m\u001b[0m\n",
      "\u001b[1;32m~\\code-projects\\python\\WPy64-3880\\python-3.8.8.amd64\\lib\\site-packages\\pandas\\io\\parsers.py\u001b[0m in \u001b[0;36m_open_handles\u001b[1;34m(self, src, kwds)\u001b[0m\n\u001b[0;32m   1360\u001b[0m         \u001b[0mLet\u001b[0m \u001b[0mthe\u001b[0m \u001b[0mreaders\u001b[0m \u001b[0mopen\u001b[0m \u001b[0mIOHanldes\u001b[0m \u001b[0mafter\u001b[0m \u001b[0mthey\u001b[0m \u001b[0mare\u001b[0m \u001b[0mdone\u001b[0m \u001b[1;32mwith\u001b[0m \u001b[0mtheir\u001b[0m \u001b[0mpotential\u001b[0m \u001b[0mraises\u001b[0m\u001b[1;33m.\u001b[0m\u001b[1;33m\u001b[0m\u001b[1;33m\u001b[0m\u001b[0m\n\u001b[0;32m   1361\u001b[0m         \"\"\"\n\u001b[1;32m-> 1362\u001b[1;33m         self.handles = get_handle(\n\u001b[0m\u001b[0;32m   1363\u001b[0m             \u001b[0msrc\u001b[0m\u001b[1;33m,\u001b[0m\u001b[1;33m\u001b[0m\u001b[1;33m\u001b[0m\u001b[0m\n\u001b[0;32m   1364\u001b[0m             \u001b[1;34m\"r\"\u001b[0m\u001b[1;33m,\u001b[0m\u001b[1;33m\u001b[0m\u001b[1;33m\u001b[0m\u001b[0m\n",
      "\u001b[1;32m~\\code-projects\\python\\WPy64-3880\\python-3.8.8.amd64\\lib\\site-packages\\pandas\\io\\common.py\u001b[0m in \u001b[0;36mget_handle\u001b[1;34m(path_or_buf, mode, encoding, compression, memory_map, is_text, errors, storage_options)\u001b[0m\n\u001b[0;32m    640\u001b[0m                 \u001b[0merrors\u001b[0m \u001b[1;33m=\u001b[0m \u001b[1;34m\"replace\"\u001b[0m\u001b[1;33m\u001b[0m\u001b[1;33m\u001b[0m\u001b[0m\n\u001b[0;32m    641\u001b[0m             \u001b[1;31m# Encoding\u001b[0m\u001b[1;33m\u001b[0m\u001b[1;33m\u001b[0m\u001b[1;33m\u001b[0m\u001b[0m\n\u001b[1;32m--> 642\u001b[1;33m             handle = open(\n\u001b[0m\u001b[0;32m    643\u001b[0m                 \u001b[0mhandle\u001b[0m\u001b[1;33m,\u001b[0m\u001b[1;33m\u001b[0m\u001b[1;33m\u001b[0m\u001b[0m\n\u001b[0;32m    644\u001b[0m                 \u001b[0mioargs\u001b[0m\u001b[1;33m.\u001b[0m\u001b[0mmode\u001b[0m\u001b[1;33m,\u001b[0m\u001b[1;33m\u001b[0m\u001b[1;33m\u001b[0m\u001b[0m\n",
      "\u001b[1;31mFileNotFoundError\u001b[0m: [Errno 2] No such file or directory: 'output/articles_cleaned.csv'"
     ]
    }
   ],
   "source": [
    "articles = pd.read_csv(\"../da/articles_cleaned.csv\", encoding=\"utf-8\")\n",
    "articles.head()"
   ]
  },
  {
   "cell_type": "code",
   "execution_count": 54,
   "metadata": {},
   "outputs": [
    {
     "output_type": "execute_result",
     "data": {
      "text/plain": [
       "id                        object\n",
       "author                    object\n",
       "catchline                 object\n",
       "content_length             int64\n",
       "department                object\n",
       "lead_text                 object\n",
       "pub_date          datetime64[ns]\n",
       "title                     object\n",
       "dtype: object"
      ]
     },
     "metadata": {},
     "execution_count": 54
    }
   ],
   "source": [
    "articles[\"pub_date\"] = pd.to_datetime(articles[\"pub_date\"])\n",
    "articles.dtypes"
   ]
  },
  {
   "cell_type": "code",
   "execution_count": 55,
   "metadata": {},
   "outputs": [
    {
     "output_type": "execute_result",
     "data": {
      "text/plain": [
       "           id  read_count\n",
       "0  1.18108994         222\n",
       "1   ld.153477         206\n",
       "2  ld.1086062         128\n",
       "3   ld.153813         125\n",
       "4   ld.140509          49"
      ],
      "text/html": "<div>\n<style scoped>\n    .dataframe tbody tr th:only-of-type {\n        vertical-align: middle;\n    }\n\n    .dataframe tbody tr th {\n        vertical-align: top;\n    }\n\n    .dataframe thead th {\n        text-align: right;\n    }\n</style>\n<table border=\"1\" class=\"dataframe\">\n  <thead>\n    <tr style=\"text-align: right;\">\n      <th></th>\n      <th>id</th>\n      <th>read_count</th>\n    </tr>\n  </thead>\n  <tbody>\n    <tr>\n      <th>0</th>\n      <td>1.18108994</td>\n      <td>222</td>\n    </tr>\n    <tr>\n      <th>1</th>\n      <td>ld.153477</td>\n      <td>206</td>\n    </tr>\n    <tr>\n      <th>2</th>\n      <td>ld.1086062</td>\n      <td>128</td>\n    </tr>\n    <tr>\n      <th>3</th>\n      <td>ld.153813</td>\n      <td>125</td>\n    </tr>\n    <tr>\n      <th>4</th>\n      <td>ld.140509</td>\n      <td>49</td>\n    </tr>\n  </tbody>\n</table>\n</div>"
     },
     "metadata": {},
     "execution_count": 55
    }
   ],
   "source": [
    "article_popularity = readers[\"art_id\"].value_counts(sort=True).rename_axis(\"id\").reset_index(name=\"read_count\")\n",
    "article_popularity"
   ]
  },
  {
   "cell_type": "code",
   "execution_count": 56,
   "metadata": {},
   "outputs": [
    {
     "output_type": "execute_result",
     "data": {
      "text/plain": [
       "          id  read_count         author                      catchline  \\\n",
       "0  ld.153477         206   Nino Maspoli         Asus Zenbook 3 im Test   \n",
       "1  ld.137077          47  Roman Bucheli     Jahresrückblick Feuilleton   \n",
       "2  ld.137081          46  Thomas Fuster     Jahresrückblick Wirtschaft   \n",
       "3  ld.136886          45    Luzi Bernet         Jahresrückblick Zürich   \n",
       "4  ld.137066          43  Peter Rásonyi  Jahresrückblick International   \n",
       "\n",
       "   content_length            department  \\\n",
       "0               0             Euro 2016   \n",
       "1             830  Jahresrückblick 2016   \n",
       "2            1052  Jahresrückblick 2016   \n",
       "3             821  Jahresrückblick 2016   \n",
       "4            1006  Jahresrückblick 2016   \n",
       "\n",
       "                                           lead_text            pub_date  \\\n",
       "0  Asus verbaut in seinem neusten Zenbook leistun... 2017-03-26 05:02:00   \n",
       "1  Das Geschichtsbewusstsein nimmt ab, stattdesse... 2017-01-02 05:00:00   \n",
       "2  Befürworter von Freihandel kämpften 2016 oft a... 2017-01-02 05:00:00   \n",
       "3  Der links-grün dominierte Zürcher Stadtrat set... 2016-12-31 05:00:00   \n",
       "4  2016 war geprägt von den Triumphen des Populis... 2016-12-30 04:35:00   \n",
       "\n",
       "                                          title  \n",
       "0                 Es fehlt die Liebe zum Detail  \n",
       "1     Zukunftsversessen und geschichtsvergessen  \n",
       "2       Rückbesinnung auf die heimische Scholle  \n",
       "3  Es braucht mehr als Stunk um das nKoch-Areal  \n",
       "4                    Der Triumph des Populismus  "
      ],
      "text/html": "<div>\n<style scoped>\n    .dataframe tbody tr th:only-of-type {\n        vertical-align: middle;\n    }\n\n    .dataframe tbody tr th {\n        vertical-align: top;\n    }\n\n    .dataframe thead th {\n        text-align: right;\n    }\n</style>\n<table border=\"1\" class=\"dataframe\">\n  <thead>\n    <tr style=\"text-align: right;\">\n      <th></th>\n      <th>id</th>\n      <th>read_count</th>\n      <th>author</th>\n      <th>catchline</th>\n      <th>content_length</th>\n      <th>department</th>\n      <th>lead_text</th>\n      <th>pub_date</th>\n      <th>title</th>\n    </tr>\n  </thead>\n  <tbody>\n    <tr>\n      <th>0</th>\n      <td>ld.153477</td>\n      <td>206</td>\n      <td>Nino Maspoli</td>\n      <td>Asus Zenbook 3 im Test</td>\n      <td>0</td>\n      <td>Euro 2016</td>\n      <td>Asus verbaut in seinem neusten Zenbook leistun...</td>\n      <td>2017-03-26 05:02:00</td>\n      <td>Es fehlt die Liebe zum Detail</td>\n    </tr>\n    <tr>\n      <th>1</th>\n      <td>ld.137077</td>\n      <td>47</td>\n      <td>Roman Bucheli</td>\n      <td>Jahresrückblick Feuilleton</td>\n      <td>830</td>\n      <td>Jahresrückblick 2016</td>\n      <td>Das Geschichtsbewusstsein nimmt ab, stattdesse...</td>\n      <td>2017-01-02 05:00:00</td>\n      <td>Zukunftsversessen und geschichtsvergessen</td>\n    </tr>\n    <tr>\n      <th>2</th>\n      <td>ld.137081</td>\n      <td>46</td>\n      <td>Thomas Fuster</td>\n      <td>Jahresrückblick Wirtschaft</td>\n      <td>1052</td>\n      <td>Jahresrückblick 2016</td>\n      <td>Befürworter von Freihandel kämpften 2016 oft a...</td>\n      <td>2017-01-02 05:00:00</td>\n      <td>Rückbesinnung auf die heimische Scholle</td>\n    </tr>\n    <tr>\n      <th>3</th>\n      <td>ld.136886</td>\n      <td>45</td>\n      <td>Luzi Bernet</td>\n      <td>Jahresrückblick Zürich</td>\n      <td>821</td>\n      <td>Jahresrückblick 2016</td>\n      <td>Der links-grün dominierte Zürcher Stadtrat set...</td>\n      <td>2016-12-31 05:00:00</td>\n      <td>Es braucht mehr als Stunk um das nKoch-Areal</td>\n    </tr>\n    <tr>\n      <th>4</th>\n      <td>ld.137066</td>\n      <td>43</td>\n      <td>Peter Rásonyi</td>\n      <td>Jahresrückblick International</td>\n      <td>1006</td>\n      <td>Jahresrückblick 2016</td>\n      <td>2016 war geprägt von den Triumphen des Populis...</td>\n      <td>2016-12-30 04:35:00</td>\n      <td>Der Triumph des Populismus</td>\n    </tr>\n  </tbody>\n</table>\n</div>"
     },
     "metadata": {},
     "execution_count": 56
    }
   ],
   "source": [
    "merged_df = pd.merge(article_popularity, articles, on=[\"id\"])\n",
    "merged_df.head()"
   ]
  },
  {
   "cell_type": "code",
   "execution_count": 57,
   "metadata": {},
   "outputs": [
    {
     "output_type": "execute_result",
     "data": {
      "text/plain": [
       "id                        object\n",
       "read_count                 int64\n",
       "author                    object\n",
       "catchline                 object\n",
       "content_length             int64\n",
       "department                object\n",
       "lead_text                 object\n",
       "pub_date          datetime64[ns]\n",
       "title                     object\n",
       "dtype: object"
      ]
     },
     "metadata": {},
     "execution_count": 57
    }
   ],
   "source": [
    "merged_df.dtypes"
   ]
  },
  {
   "cell_type": "code",
   "execution_count": 38,
   "metadata": {},
   "outputs": [
    {
     "output_type": "execute_result",
     "data": {
      "text/plain": [
       "                    name\n",
       "0              Euro 2016\n",
       "1   Jahresrückblick 2016\n",
       "2                  Video\n",
       "3           Storytelling\n",
       "4             Startseite\n",
       "5                Digital\n",
       "6           Gesellschaft\n",
       "7                  NZZaS\n",
       "8              Mobilität\n",
       "9           Wissenschaft\n",
       "10              Finanzen\n",
       "11            Marktplatz\n",
       "12               Meinung\n",
       "13                Archiv\n",
       "14            Feuilleton\n",
       "15              Panorama\n",
       "16                 Sport\n",
       "17         International\n",
       "18               Schweiz\n",
       "19            Wirtschaft\n",
       "20          Bildstrecken\n",
       "21                Zürich\n",
       "22          Leserdebatte"
      ],
      "text/html": "<div>\n<style scoped>\n    .dataframe tbody tr th:only-of-type {\n        vertical-align: middle;\n    }\n\n    .dataframe tbody tr th {\n        vertical-align: top;\n    }\n\n    .dataframe thead th {\n        text-align: right;\n    }\n</style>\n<table border=\"1\" class=\"dataframe\">\n  <thead>\n    <tr style=\"text-align: right;\">\n      <th></th>\n      <th>name</th>\n    </tr>\n  </thead>\n  <tbody>\n    <tr>\n      <th>0</th>\n      <td>Euro 2016</td>\n    </tr>\n    <tr>\n      <th>1</th>\n      <td>Jahresrückblick 2016</td>\n    </tr>\n    <tr>\n      <th>2</th>\n      <td>Video</td>\n    </tr>\n    <tr>\n      <th>3</th>\n      <td>Storytelling</td>\n    </tr>\n    <tr>\n      <th>4</th>\n      <td>Startseite</td>\n    </tr>\n    <tr>\n      <th>5</th>\n      <td>Digital</td>\n    </tr>\n    <tr>\n      <th>6</th>\n      <td>Gesellschaft</td>\n    </tr>\n    <tr>\n      <th>7</th>\n      <td>NZZaS</td>\n    </tr>\n    <tr>\n      <th>8</th>\n      <td>Mobilität</td>\n    </tr>\n    <tr>\n      <th>9</th>\n      <td>Wissenschaft</td>\n    </tr>\n    <tr>\n      <th>10</th>\n      <td>Finanzen</td>\n    </tr>\n    <tr>\n      <th>11</th>\n      <td>Marktplatz</td>\n    </tr>\n    <tr>\n      <th>12</th>\n      <td>Meinung</td>\n    </tr>\n    <tr>\n      <th>13</th>\n      <td>Archiv</td>\n    </tr>\n    <tr>\n      <th>14</th>\n      <td>Feuilleton</td>\n    </tr>\n    <tr>\n      <th>15</th>\n      <td>Panorama</td>\n    </tr>\n    <tr>\n      <th>16</th>\n      <td>Sport</td>\n    </tr>\n    <tr>\n      <th>17</th>\n      <td>International</td>\n    </tr>\n    <tr>\n      <th>18</th>\n      <td>Schweiz</td>\n    </tr>\n    <tr>\n      <th>19</th>\n      <td>Wirtschaft</td>\n    </tr>\n    <tr>\n      <th>20</th>\n      <td>Bildstrecken</td>\n    </tr>\n    <tr>\n      <th>21</th>\n      <td>Zürich</td>\n    </tr>\n    <tr>\n      <th>22</th>\n      <td>Leserdebatte</td>\n    </tr>\n  </tbody>\n</table>\n</div>"
     },
     "metadata": {},
     "execution_count": 38
    }
   ],
   "source": [
    "departments = merged_df[\"department\"].unique()\n",
    "pd.DataFrame(departments, columns=[\"name\"])"
   ]
  },
  {
   "cell_type": "code",
   "execution_count": 61,
   "metadata": {},
   "outputs": [
    {
     "output_type": "stream",
     "name": "stdout",
     "text": [
      "min date: 2016-12-29 08:31:00\nmax date: 2017-05-22 10:00:00\n"
     ]
    }
   ],
   "source": [
    "min_date = min(merged_df[\"pub_date\"])\n",
    "max_date = max(merged_df[\"pub_date\"])\n",
    "print(f\"min date: {min_date}\\nmax date: {max_date}\")"
   ]
  }
 ]
}