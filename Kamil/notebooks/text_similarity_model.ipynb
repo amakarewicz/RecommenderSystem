{
 "metadata": {
  "language_info": {
   "codemirror_mode": {
    "name": "ipython",
    "version": 3
   },
   "file_extension": ".py",
   "mimetype": "text/x-python",
   "name": "python",
   "nbconvert_exporter": "python",
   "pygments_lexer": "ipython3",
   "version": "3.8.8"
  },
  "orig_nbformat": 2,
  "kernelspec": {
   "name": "python388jvsc74a57bd0686f23405e2a4ac53f16a9301bfd24c8a524f3e91072c4c8e17ee124502b094e",
   "display_name": "Python 3.8.8 64-bit"
  },
  "metadata": {
   "interpreter": {
    "hash": "4b1325026e9f981cae795390b19a4d310524d7611d67d1340996fe321e359e56"
   }
  }
 },
 "nbformat": 4,
 "nbformat_minor": 2,
 "cells": [
  {
   "cell_type": "code",
   "execution_count": 107,
   "metadata": {},
   "outputs": [],
   "source": [
    "import pandas as pd"
   ]
  },
  {
   "cell_type": "code",
   "execution_count": 108,
   "metadata": {},
   "outputs": [
    {
     "output_type": "execute_result",
     "data": {
      "text/plain": [
       "       nzz_id           author                             catchline  \\\n",
       "0   ld.149648  Claudia Gabriel  Obligationenfonds mit fixer Laufzeit   \n",
       "1  1.18145900          Unknown                 Fashion Week New York   \n",
       "2   ld.138769          Unknown                     E-Banking-Ausfall   \n",
       "3   ld.143700          Unknown                  Terror in Frankreich   \n",
       "4   ld.149385          Unknown                     Unglück in Panama   \n",
       "\n",
       "      department                                          lead_text  \\\n",
       "0       Finanzen  Die Idee ist gut: Statt einer einzigen Obligat...   \n",
       "1       Panorama  Zum Auftakt der Fashion Week in New York zeige...   \n",
       "2       Finanzen  Seit Sonntag funktioniert das E-Banking der Po...   \n",
       "3  International  Einen Tag nach dem Angriff auf Soldaten beim P...   \n",
       "4       Panorama  Bei einem Busunglück in Panama sind 17 Persone...   \n",
       "\n",
       "                 pub_date                                            title  \n",
       "0 2017-03-09 08:01:21.000              Es gibt noch interessante Varianten  \n",
       "1 2017-04-11 14:00:29.473                            Fashion Week New York  \n",
       "2 2017-01-09 13:55:00.000                Postfinance kämpft mit dem System  \n",
       "3 2017-02-04 12:50:25.000     Louvre nach Macheten-Angriff wieder geöffnet  \n",
       "4 2017-03-06 07:31:21.000  Bus prallt gegen eine Mauer und stürzt in Fluss  "
      ],
      "text/html": "<div>\n<style scoped>\n    .dataframe tbody tr th:only-of-type {\n        vertical-align: middle;\n    }\n\n    .dataframe tbody tr th {\n        vertical-align: top;\n    }\n\n    .dataframe thead th {\n        text-align: right;\n    }\n</style>\n<table border=\"1\" class=\"dataframe\">\n  <thead>\n    <tr style=\"text-align: right;\">\n      <th></th>\n      <th>nzz_id</th>\n      <th>author</th>\n      <th>catchline</th>\n      <th>department</th>\n      <th>lead_text</th>\n      <th>pub_date</th>\n      <th>title</th>\n    </tr>\n  </thead>\n  <tbody>\n    <tr>\n      <th>0</th>\n      <td>ld.149648</td>\n      <td>Claudia Gabriel</td>\n      <td>Obligationenfonds mit fixer Laufzeit</td>\n      <td>Finanzen</td>\n      <td>Die Idee ist gut: Statt einer einzigen Obligat...</td>\n      <td>2017-03-09 08:01:21.000</td>\n      <td>Es gibt noch interessante Varianten</td>\n    </tr>\n    <tr>\n      <th>1</th>\n      <td>1.18145900</td>\n      <td>Unknown</td>\n      <td>Fashion Week New York</td>\n      <td>Panorama</td>\n      <td>Zum Auftakt der Fashion Week in New York zeige...</td>\n      <td>2017-04-11 14:00:29.473</td>\n      <td>Fashion Week New York</td>\n    </tr>\n    <tr>\n      <th>2</th>\n      <td>ld.138769</td>\n      <td>Unknown</td>\n      <td>E-Banking-Ausfall</td>\n      <td>Finanzen</td>\n      <td>Seit Sonntag funktioniert das E-Banking der Po...</td>\n      <td>2017-01-09 13:55:00.000</td>\n      <td>Postfinance kämpft mit dem System</td>\n    </tr>\n    <tr>\n      <th>3</th>\n      <td>ld.143700</td>\n      <td>Unknown</td>\n      <td>Terror in Frankreich</td>\n      <td>International</td>\n      <td>Einen Tag nach dem Angriff auf Soldaten beim P...</td>\n      <td>2017-02-04 12:50:25.000</td>\n      <td>Louvre nach Macheten-Angriff wieder geöffnet</td>\n    </tr>\n    <tr>\n      <th>4</th>\n      <td>ld.149385</td>\n      <td>Unknown</td>\n      <td>Unglück in Panama</td>\n      <td>Panorama</td>\n      <td>Bei einem Busunglück in Panama sind 17 Persone...</td>\n      <td>2017-03-06 07:31:21.000</td>\n      <td>Bus prallt gegen eine Mauer und stürzt in Fluss</td>\n    </tr>\n  </tbody>\n</table>\n</div>"
     },
     "metadata": {},
     "execution_count": 108
    }
   ],
   "source": [
    "articles = pd.read_csv(\"output/articles_cleaned.csv\", encoding=\"utf-8\", parse_dates=[\"pub_date\"])\n",
    "articles.head()"
   ]
  },
  {
   "cell_type": "code",
   "execution_count": 113,
   "metadata": {},
   "outputs": [
    {
     "output_type": "execute_result",
     "data": {
      "text/plain": [
       "       nzz_id           author                             catchline  \\\n",
       "0   ld.149648  Claudia Gabriel  Obligationenfonds mit fixer Laufzeit   \n",
       "1  1.18145900          Unknown                 Fashion Week New York   \n",
       "2   ld.138769          Unknown                     E-Banking-Ausfall   \n",
       "3   ld.143700          Unknown                  Terror in Frankreich   \n",
       "4   ld.149385          Unknown                     Unglück in Panama   \n",
       "\n",
       "      department                                          lead_text  \\\n",
       "0       Finanzen  Die Idee ist gut: Statt einer einzigen Obligat...   \n",
       "1       Panorama  Zum Auftakt der Fashion Week in New York zeige...   \n",
       "2       Finanzen  Seit Sonntag funktioniert das E-Banking der Po...   \n",
       "3  International  Einen Tag nach dem Angriff auf Soldaten beim P...   \n",
       "4       Panorama  Bei einem Busunglück in Panama sind 17 Persone...   \n",
       "\n",
       "                 pub_date                                            title  \\\n",
       "0 2017-03-09 08:01:21.000              Es gibt noch interessante Varianten   \n",
       "1 2017-04-11 14:00:29.473                            Fashion Week New York   \n",
       "2 2017-01-09 13:55:00.000                Postfinance kämpft mit dem System   \n",
       "3 2017-02-04 12:50:25.000     Louvre nach Macheten-Angriff wieder geöffnet   \n",
       "4 2017-03-06 07:31:21.000  Bus prallt gegen eine Mauer und stürzt in Fluss   \n",
       "\n",
       "   word_count  text_word_count  \n",
       "0          32               32  \n",
       "1          30               30  \n",
       "2          26               26  \n",
       "3          25               25  \n",
       "4          22               22  "
      ],
      "text/html": "<div>\n<style scoped>\n    .dataframe tbody tr th:only-of-type {\n        vertical-align: middle;\n    }\n\n    .dataframe tbody tr th {\n        vertical-align: top;\n    }\n\n    .dataframe thead th {\n        text-align: right;\n    }\n</style>\n<table border=\"1\" class=\"dataframe\">\n  <thead>\n    <tr style=\"text-align: right;\">\n      <th></th>\n      <th>nzz_id</th>\n      <th>author</th>\n      <th>catchline</th>\n      <th>department</th>\n      <th>lead_text</th>\n      <th>pub_date</th>\n      <th>title</th>\n      <th>word_count</th>\n      <th>text_word_count</th>\n    </tr>\n  </thead>\n  <tbody>\n    <tr>\n      <th>0</th>\n      <td>ld.149648</td>\n      <td>Claudia Gabriel</td>\n      <td>Obligationenfonds mit fixer Laufzeit</td>\n      <td>Finanzen</td>\n      <td>Die Idee ist gut: Statt einer einzigen Obligat...</td>\n      <td>2017-03-09 08:01:21.000</td>\n      <td>Es gibt noch interessante Varianten</td>\n      <td>32</td>\n      <td>32</td>\n    </tr>\n    <tr>\n      <th>1</th>\n      <td>1.18145900</td>\n      <td>Unknown</td>\n      <td>Fashion Week New York</td>\n      <td>Panorama</td>\n      <td>Zum Auftakt der Fashion Week in New York zeige...</td>\n      <td>2017-04-11 14:00:29.473</td>\n      <td>Fashion Week New York</td>\n      <td>30</td>\n      <td>30</td>\n    </tr>\n    <tr>\n      <th>2</th>\n      <td>ld.138769</td>\n      <td>Unknown</td>\n      <td>E-Banking-Ausfall</td>\n      <td>Finanzen</td>\n      <td>Seit Sonntag funktioniert das E-Banking der Po...</td>\n      <td>2017-01-09 13:55:00.000</td>\n      <td>Postfinance kämpft mit dem System</td>\n      <td>26</td>\n      <td>26</td>\n    </tr>\n    <tr>\n      <th>3</th>\n      <td>ld.143700</td>\n      <td>Unknown</td>\n      <td>Terror in Frankreich</td>\n      <td>International</td>\n      <td>Einen Tag nach dem Angriff auf Soldaten beim P...</td>\n      <td>2017-02-04 12:50:25.000</td>\n      <td>Louvre nach Macheten-Angriff wieder geöffnet</td>\n      <td>25</td>\n      <td>25</td>\n    </tr>\n    <tr>\n      <th>4</th>\n      <td>ld.149385</td>\n      <td>Unknown</td>\n      <td>Unglück in Panama</td>\n      <td>Panorama</td>\n      <td>Bei einem Busunglück in Panama sind 17 Persone...</td>\n      <td>2017-03-06 07:31:21.000</td>\n      <td>Bus prallt gegen eine Mauer und stürzt in Fluss</td>\n      <td>22</td>\n      <td>22</td>\n    </tr>\n  </tbody>\n</table>\n</div>"
     },
     "metadata": {},
     "execution_count": 113
    }
   ],
   "source": [
    "articles[\"text_word_count\"] = articles[\"lead_text\"].str.split().str.len()\n",
    "articles.head()"
   ]
  },
  {
   "cell_type": "code",
   "execution_count": 110,
   "metadata": {
    "tags": [
     "outputPrepend"
    ]
   },
   "outputs": [
    {
     "output_type": "stream",
     "name": "stdout",
     "text": [
      " 'weltbevölkerung': 55004, 'lötschbergtunnel': 31104, '612': 558, 'lötschbergtunnels': 31105, '1906': 199, 'gaggenau': 18480, 'haltlos': 22263, 'flugfotografie': 17121, 'fotoflug': 17507, 'monografische': 33526, 'skischulen': 44907, 'skiklubs': 44881, 'nieselregen': 35473, 'schauern': 42491, 'eurasien': 15408, 'rätoromanische': 41811, 'tuor': 49902, 'kuper': 28850, 'klammerte': 27124, 'ausgeflogen': 4446, 'marokkaner': 31709, 'fluchthelferin': 17110, 'bürolandschaft': 9247, 'impliziert': 24541, 'kondome': 27752, 'nintrigen': 35525, 'beispielloser': 6313, 'beimnmalteserorden': 6287, 'lotus': 30794, 'populärstes': 38530, 'elise': 13639, 'unterschreitet': 51167, 'lambiel': 29305, 'eiskunstlauf': 13493, 'filmreife': 16682, 'verkohlte': 52345, 'figuriert': 16612, 'tableauhälfte': 48034, 'eingewechselten': 13036, 'aletschgletscher': 1843, 'gletschers': 21072, 'moosfluh': 33606, 'bewege': 7401, '304': 424, 'advocaat': 1473, 'brüllenden': 8747, 'symboltier': 47747, 'thomson': 48842, 'verschanzen': 52686, 'fairem': 15869, 'ausgewogenem': 4554, 'postfaktizität': 38616, 'differenzierungskompetenz': 11440, 'selbstmordgefahr': 44022, 'bewirtschaftung': 7452, 'panamakanal': 37139, 'kubanischem': 28632, 'weltöffentlichkeit': 55150, 'rettungs': 41045, 'lenkrad': 30091, 'pedal': 37596, 'fahrlehrer': 15830, 'unbedachte': 50472, 'nzuzi': 36249, 'toko': 49140, 'harmlose': 22479, 'suizide': 47582, 'souza': 45347, 'ermorden': 14811, 'rottweiler': 41611, 'verfüttern': 52059, 'torwart': 49254, 'zweitligist': 57929, 'emissionsvorschriften': 13736, 'parteifreundes': 37337, 'ankündigt': 2773, 'peloponnes': 37625, 'strombedarf': 47259, 'lokalbevölkerung': 30723, 'ausbleibender': 4345, 'nordföhn': 35754, 'unvermeidbar': 51288, 'site': 44791, 'tätigkeitsbereichen': 50025, 'xa0egal': 56446, 'alterswohnen': 2117, 'vermietungsgeschäft': 52511, 'zweiunddreissig': 57947, 'mobutu': 33325, 'sese': 44226, 'seko': 43938, 'grossteils': 21668, 'herrschaftszeit': 23161, 'zaire': 56771, 'machtwahn': 31203, 'potentaten': 38648, 'halbzerfallenen': 22224, 'gwenn': 21968, 'dubourthoumieu': 12186, 'zikainfektionen': 57155, 'bekämpfungsstrategie': 6403, 'blausee': 7941, 'nationalbankpräsident': 34607, 'linder': 30471, 'bauchschmerzen': 5699, 'angelegte': 2583, 'strassenputzmaschinen': 47110, 'pionierleistung': 38115, 'sprengwagen': 45982, 'haftungsrisiko': 22143, 'wohlbefinden': 55982, 'taschen': 48231, 'nostalgiefahrt': 35878, 'gezeichneten': 20765, 'charakteren': 9587, 'modemarkt': 33370, 'deena': 10673, 'aljuhani': 1887, 'abdulaziz': 726, 'marschiererinnen': 31726, 'marschierer': 31725, 'berufspolitiker': 6824, 'justizzentrums': 26137, 'polizeikaserne': 38444, 'fachzeitschrift': 15786, 'überweidung': 58660, 'tschadsee': 49823, 'unübersichtliches': 51372, 'insellabyrinth': 24941, 'photo17': 38000, 'geschäftsflug': 20184, 'landungen': 29437, 'pistenkilometer': 38144, 'höhendifferenz': 24203, '5500': 536, 'arlberg': 3478, 'bezwingenxa0mountfield': 7544, 'hradec': 23943, 'kralove': 28289, 'perleidechse': 37705, 'gemustertes': 19586, 'schuppenkleid': 43322, 'tierreich': 48978, 'mathematiker': 31920, 'gründungsväter': 21834, 'turing': 49920, 'neumann': 35164, 'drogenelend': 12076, 'mottenkiste': 33728, 'antilleninsel': 3050, 'curaçao': 10258, 'bohuslav': 8157, 'autogrammkarte': 5047, 'bundestagswahljahr': 8950, 'rekruten': 40752, 'flüchtlingsstrom': 17254, 'rosinenpicken': 41566, 'zeitgeschmack': 56900, 'fine': 16854, 'eklektizismus': 13521, 'aberxa0altmeistergemälde': 760, 'antikorruptionsgesetze': 3048, 'cyberkriminellen': 10293, 'gehackten': 19171, 'meeresstimmung': 32154, 'überstandenem': 58613, 'lobbyorganisation': 30639, 'theaterspektakel': 48761, 'ortungsmöglichkeit': 36904, 'wundervolle': 56215, 'twint': 49969, 'bezahllösung': 7493, 'unsägliches': 50988, 'flächendeckende': 17210, 'uhrenmodellen': 50135, 'englisches': 13939, 'übernahmeversuch': 58512, 'fondsmarke': 17344, 'vorteilhaft': 54071, 'dopingfall': 11795, 'allumfassende': 2006, 'fürsorge': 18436, 'sportlichsten': 45889, 'kombiversion': 27599, 'peyons': 37833, 'deutungshoheit': 11163, 'zurückzugewinnen': 57634, 'nationalhelden': 34623, 'altertum': 2122, 'sternbild': 46707, 'perseus': 37723, 'algol': 1868, 'periodisch': 37697, 'helligkeit': 22990, 'behördliche': 6251, 'rechtsbruch': 40197, 'angestammten': 2654, 'schwungvoll': 43586, 'capsugel': 9362, 'präsidentxa0nkurunziza': 39349, 'kehle': 26754, 'aufgeschlitzt': 4003, 'verkehrswege': 52323, 'wassersysteme': 54634, 'stromnetze': 47272, 'kuwait': 28965, 'verwechslung': 53144, 'hochstehender': 23687, 'realexistierenden': 40097, 'grossauftrages': 21590, 'spielzeughersteller': 45715, 'xa0laut': 56495, 'knochenbrüche': 27456, 'unbehandelt': 50489, 'volkswirtschaftlichen': 53655, 'gesteckten': 20382, 'publikumstage': 39451, 'discounters': 11552, 'ostereier': 36942, 'farbensehens': 16033, 'getarnte': 20516, 'vogelgelege': 53565, 'farbrezeptoren': 16043, 'ytzhak': 56687, 'befreiungsorganisation': 6056, 'plo': 38277, 'saboteure': 42002, 'grundlegender': 21723, 'hegemon': 22798, 'anstiegen': 2987, 'halbkugel': 22206, 'gärtchen': 21988, 'schlürfen': 42900, 'häppchen': 24135, 'santi': 42258, 'cazorla': 9476, 'breel': 8481, 'embolo': 13697, 'versenkbaren': 52793, 'fliesshecks': 17062, 'parforceritt': 37249, 'atempause': 3735, 'einzuschalten': 13425, 'rasantes': 39923, 'gefühlen': 19054, 'überwältigen': 58673, 'ironisch': 25350, 'ostseepipeline': 36981, 'schauspielerpreise': 42508, 'darstellerin': 10465, 'starkmacht': 46450, 'niederösterreich': 35447, 'subventionierte': 47531, 'privatstiftung': 38916, 'drittrundenspiel': 12058, 'jaspers': 25728, 'briefwechsel': 8569, 'integren': 25043, 'heideggers': 22806, 'widrigsten': 55488, 'regenwetters': 40406, 'freiluftaufführungen': 17780, 'erdmond': 14420, 'himmelskörper': 23357, 'herausgeschlagen': 23068, 'grabens': 21333, 'busfahrt': 9034, 'morgengrauen': 33640, 'wochenmagazin': 55969, 'schwesterblatt': 43531, 'editorial': 12551, 'prophezeiung': 39134, 'islamfeindliche': 25394, 'florenzer': 17085, 'bart': 5599, 'modebewussten': 33332, 'weisheitslehrers': 54861, 'grossbande': 21592, 'zechprellern': 56826, 'gastwirte': 18678, 'león': 30246, 'weissglut': 54871, 'scherz': 42581, 'krasses': 28330, 'chaebol': 9530, 'monopolistische': 33534, 'leistungswerte': 30037, 'angeknüpft': 2564, 'maramures': 31538, 'archaische': 3373, 'trügerischen': 49812, 'obcina': 36337, 'seitenaltarbild': 43921, 'himmelfahrt': 23356, 'mariae': 31577, 'mehrmonatiger': 32213, 'konservierung': 27875, 'restaurierung': 41008, 'heilig': 22825, 'bezügen': 7553, 'aziziya': 5211, 'weitläufige': 54953, 'tunnelnetz': 49898, 'gerüchteweise': 19975, 'überraschungssieg': 58557, 'mönchengladbacher': 34129, 'altkleidercontainer': 2132, 'verwertbarem': 53167, 'viertelfinalist': 53405, 'gastgeberinnen': 18654, 'fernsehschauspieler': 16397, 'nverstarb': 36176, 'zsuzsa': 57298, 'bánk': 9062, 'vorkämpferin': 53945, 'sparpakets': 45497, 'parteipolitikxa0über': 37360, 'wucherpreisen': 56183, 'beschlagnahmen': 6911, 'kantonstierärztin': 26453, 'tierhandel': 48963, 'touchscreen': 49290, 'roboterarm': 41384, 'pizzabäcker': 38162, 'automatisieren': 5078, 'lobbys': 30640, 'schirm': 42699, 'théodore': 48871, 'géricault': 22003, '1791': 141, '1824': 153, 'existentieller': 15547, 'kubakrise': 28628, 'nachfahre': 34254, 'familienstämmen': 15968, 'coups': 10156, 'heldenvon': 22967, 'indianerreservats': 24614, 'individualismus': 24632, 'eigengeschäfte': 12684, 'investmentbanken': 25257, 'privatanlegern': 38882, 'normaler': 35841, 'elmer': 13663, 'urteilseröffnung': 51460, 'oberrichter': 36394, 'fürst': 18439, 'wittstock': 55936, 'kindererzieherin': 26970, 'spitzenschwimmerin': 45808, 'fürstin': 18442, 'habgier': 22093, 'zauberkünste': 56804, 'prahlerischen': 38691, 'dealmaker': 10632, 'ensembletheater': 13977, 'heimkehrenden': 22876, 'tickende': 48891, 'zeitbombe': 56877, 'matthew': 31941, 'mcconaughey': 32005, 'unterhaltungsfilm': 51052, 'glücksritter': 21156, 'bouteflika': 8333, 'legislativen': 29885, 'hypothekenmarkt': 24093, 'abstriche': 1218, 'restriktiven': 41014, 'waffengesetz': 54270, 'gesellschaftskritisches': 20253, 'schulgelände': 43276, 'krisenstäbe': 28552, 'hochwassersperren': 23702, 'hangrutschen': 22427, 'schweizernbrautpaare': 43458, 'traualtar': 49511, 'aufnden': 4089, 'wegennmarktanteile': 54720, 'schutzraum': 43344, 'sakralbaukultur': 42087, 'schwindet': 43567, 'gutteil': 21958, 'buchhandels': 8779, 'aufgeschluckt': 4005, 'aufgeflammt': 3953, 'kindsmord': 27024, 'mordlust': 33631, 'filialbankxa0sieht': 16622, 'intensa': 25069, 'visionären': 53513, '375': 460, 'platzhirsch': 38250, 'föhnhafen': 18307, 'schadstoff': 42408, 'aushub': 4586, 'geschäftsbelebung': 20171, 'kostenseite': 28237, 'präsidentxa0adama': 39340, 'steuerreformen': 46775, 'prozentual': 39243, 'steuervergünstigungen': 46797, 'tempelanlage': 48515, 'sekte': 43940, 'immunsystem': 24513, 'mikroben': 32653, 'geschult': 20142, 'frühester': 18047, 'autoimmunerkrankungen': 5055, 'fertigwerden': 16441, 'zusammenlegen': 57692, 'unterliege': 51084, 'computerzubehör': 10035, 'ausschaffungen': 4708, 'südasiatische': 47890, 'zweitschnellsten': 57935, 'hochwassern': 23700, 'geplagt': 19797, 'grafschaften': 21364, 'surrey': 47664, 'suhrkamp': 47576, 'piper': 38123, 'ingeborg': 24776, 'bachmanns': 5248, 'dunkelster': 12221, 'zeiningen': 56873, 'schneerutschern': 43033, 'rettungshelikopter': 41052, 'nachrichtenmagazin': 34344, 'auszüge': 5006, 'entpuppten': 14129, 'zumxa0aufreger': 57492, 'milizjagd': 32772, 'fernsehapparat': 16371, 'babyphone': 5235, 'alltagsgeräte': 1993, 'abhörmethoden': 982, 'xa0welche': 56566, 'einhergehen': 13074, 'speziallisten': 45617, 'unterlassener': 51079, 'unfallort': 50662, 'zurückgelassen': 57573, 'abverlangen': 1255, '4g': 507, 'simpel': 44706, 'vorsorgeauftrag': 54029, 'holbrooke': 23765, 'verkäufen': 52352, 'schwächelt': 43596, 'bekanntester': 6356, 'reggae': 40408, 'wailers': 54424, 'befohlen': 6042, 'nordwestschweiz': 35829, 'ständerätin': 47434, 'bruderer': 8669, 'cargill': 9383, 'bescheidener': 6896, 'grundeinkommens': 21713, 'stimmungsaufhellung': 46924, 'ricciotti': 41165, 'architekturzentrum': 3408, 'lieblingsobjekte': 30351, 'foren': 17371, 'freigeräumt': 17739, 'schuldenlast': 43253, 'bundesangestellten': 8865, 'verwaltet': 53112, 'archäologie': 3417, 'zusammengeführt': 57663, 'leichtfertig': 29958, 'vorgenommene': 53877, 'staatswesen': 46210, 'imageproblemen': 24449, 'izet': 25520, 'hajrovic': 22172, 'bohrkonzern': 8155, 'seadrill': 43746, 'fredriksen': 17700, 'drückende': 12162, 'durchgreifende': 12276, 'wahlbetrugsvorwürfen': 54310, 'bananenrepublik': 5433, 'determinierten': 11121, 'zielsprache': 57140, 'äquivalent': 58165, 'works': 56135, 'countryman': 10151, 'lodrino': 30671, 'granitblock': 21383, 'statkewitsch': 46512, 'totgebissen': 49279, 'wolfspräsenz': 56083, 'gewaltanwendung': 20576, 'verrohung': 52651, 'fünferticket': 18395, 'leichtmachen': 29964, 'winston': 55695, 'churchill': 9838, 'wiederentdeckter': 55516, 'bewandert': 7399, 'warburg': 54529, 'pincus': 38092, 'finanzdienstleistungen': 16747, 'wachstumsmöglichkeiten': 54235, 'drittstärkste': 12061, 'ambulanzfahrzeug': 2208, 'mitführte': 33069, 'verhageln': 52165, 'mangelnder': 31466, 'rechtsraum': 40243, 'derxa0welthandelsorganisation': 11021, 'freihandelxa0in': 17752, 'skischule': 44906, 'skilager': 44884, 'leserbilder': 30143, 'reizfigur': 40690, 'ältestem': 58143, 'burke': 9004, 'generalmanager': 19638, 'stöckiges': 47458, 'einkaufsgebäude': 13103, 'hauptstadtnteheran': 22611, 'möbelkonzern': 34106, 'steinhoff': 46641, 'shoprite': 44378, 'geprügelt': 19821, 'veschiedene': 53265, 'terrorangreifers': 48596, 'neujahrsfeier': 35144, 'meistfrequentierten': 32301, 'knallhart': 27422, 'wäscherinnen': 56323, 'padma': 37071, 'vorstandsvorsitzender': 54048, 'dreien': 11967, 'daphnien': 10426, 'krebstiere': 28371, 'wasserflöhe': 54609, 'klimaveränderungen': 27316, 'nslalomhang': 36038, 'greco': 21437, 'ngelohnt': 35293, 'kälterekorde': 28998, 'unterbreitet': 51000, 'ablehnte': 1012, 'währenddessen': 56278, 'aussitzen': 4817, 'gegenkräften': 19093, 'unzulängliche': 51355, 'haarlos': 22073, 'bluttest': 8069, 'nerneut': 34984, 'rotstift': 41607, 'nleute': 35608, 'laborgerät': 29212, 'boxmeeting': 8349, 'schmachtfetzen': 42918, 'hallström': 22247, 'hineingeboren': 23404, 'rührseligen': 41954, 'ermüdenden': 14828, 'wiederholungen': 55545, 'springens': 45988, 'extraklasse': 15680, 'geruchssinn': 19952, 'riechleistung': 41215, 'riechen': 41214, 'rekordbeteiligung': 40708, '5879': 547, 'schwimmerinnen': 43556, 'schwimmer': 43555, 'überquerten': 58533, 'wassertemperaturen': 54635, 'sportjahr': 45871, 'aufgewartet': 4025, 'verfehlte': 52010, 'fussballauswahl': 18185, 'zehnfache': 56831, 'elneny': 13666, 'anflug': 2487, 'amsterdamer': 2277, 'schiphol': 42696, '134': 71, 'hofkultur': 23740, 'libro': 30278, 'abgeschworen': 904, 'massenkonsumgütern': 31835, 'stichentscheid': 46820, 'visionärs': 53514, 'unbeschwerte': 50528, 'üblichen': 58708, 'verfangen': 51976, 'bewerten': 7429, 'kommunikationsprofis': 27668, 'anlaufs': 2817, 'kanzlerschaft': 26468, 'resultierten': 41030, 'abstiegsplatz': 1183, 'zählern': 58034, 'staatskapitalismus': 46152, 'erdölriese': 14471, 'klimaerwärung': 27293, 'spassen': 45518, 'zivilisatorische': 57235, 'trümmer': 49814, 'digitalisierungxa0pflügen': 11457, 'massengeschmack': 31826, 'erfolgsserien': 14546, 'rominger': 41525, 'zusatzloch': 57720, 'nmário': 35652, 'eingehüllte': 12967, 'nsamstag': 36011, 'nhauptstadt': 35330, 'gaberell': 18462, 'badefreuden': 5268, 'erneuerin': 14842, 'gestartetxa0': 20377, 'oberhauser': 36378, 'überschattete': 58570, 'ballpremiere': 5404, 'unheil': 50809, 'schiessplatz': 42639, 'hasenrain': 22526, 'schiessanlagen': 42633, 'bundesbehörden': 8876, 'rückübernahme': 41940, 'straftätern': 47052, 'dasxa0montagsspiel': 10511, 'moldawische': 33446, 'camerata': 9301, 'seriensupersportwagen': 44199, 'nengagierte': 34951, 'liegend': 30392, 'prämiert': 39288, 'adoleszenz': 1451, 'problemviertel': 38950, 'gottlieb': 21297, 'karriee': 26578, 'dkw': 11665, 'owners': 37034, 'täterin': 50011, 'bahnhofsunterführung': 5318, 'täuschten': 50033, 'minimalen': 32904, 'vergabekriterien': 52063, 'zahlungskräftige': 56752, 'gotteskrieger': 21289, 'kooperationsvertrag': 28077, 'reorganisation': 40900, 'aberxa0unterschiede': 762, 'vettiger': 53284, 'maestrani': 31245, 'konsultieren': 27912, 'stimmrechtsrekurs': 46918, '710': 590, 'beiläufig': 6281, 'abrufbaren': 1057, 'urkräften': 51423, 'regierungsform': 40436, 'ausgelaugt': 4476, 'reformunfähig': 40368, 'beilangriffs': 6276, 'mitbewohner': 33055, 'angegriffene': 2541, 'kung': 28775, 'fu': 18089, 'preisgekrönten': 38737, 'humm': 23994, 'eleven': 13612, 'bcv': 5834, 'eminente': 13719, 'distanzen': 11607, 'schlaglichter': 42740, 'fasos': 16080, 'koranverteilaktion': 28127, 'usz': 51496, 'wahhabiten': 54300, 'vierteljahr': 53413, 'touristenstadt': 49322, 'carcassonne': 9376, 'serienauto': 44186, 'c5': 9262, 'genehmigte': 19623, 'verschleierung': 52716, 'skandalsoftware': 44833, 'wurfgegenstände': 56234, 'laser': 29546, 'primo': 38841, 'levis': 30229, 'speist': 45556, 'nüchterner': 36314, 'levi': 30226, 'valognes': 51549, 'castor': 9447, 'transports': 49502, 'tagesgeschehen': 48080, 'hinschied': 23429, 'opernballs': 36697, 'vogelhäuschen': 53567, 'enttäuschender': 14235, 'oppositionsmedien': 36734, 'regierungsnaher': 40457, 'stolzes': 46981, 'concrete': 10043, 'eigentümlichen': 12731, 'erzählerische': 15242, 'dialektische': 11206, 'annähern': 2870, 'flugrobotern': 17144, 'betätigungsfeld': 7338, 'brückner': 8737, 'zwischenkriegszeit': 57985, 'kongresszentrum': 27810, 'einkaufsmöglichkeiten': 13106, 'standortoptionen': 46407, 'kinderbücher': 26968, 'fünfjährigem': 18401, 'hauswirtschaftskurs': 22704, 'flumserberg': 17180, 'erlernt': 14773, 'coutinho': 10164, 'bestbezahlten': 7096, 'entgegensetzen': 14047, 'abwägung': 1288, 'kraftakt': 28275, 'elektroautobauers': 13570, 'quartalsverlust': 39632, 'bohol': 8150, 'lombachalp': 30741, 'moorlandschaften': 33602, 'landeverbot': 29387, 'bioinformatikerin': 7806, 'unüberblickbare': 51365, 'datenschutzerklärungen': 10540, 'datenbearbeitung': 10522, 'abschätzen': 1126, 'mövenpick': 34138, 'nouveau': 35941, 'monacopolis': 33469, 'städtebauliche': 47409, 'kleinstaates': 27248, 'architekturmodelle': 3403, 'unverbrauchte': 51262, 'flüchtlingsabkommens': 17231, 'autoneums': 5106, 'ändere': 58150, 'süssen': 47998, 'autoland': 5067, 'untergeordnete': 51032, 'östliche': 58313, 'übergangszonen': 58420, 'primarschulen': 38831, 'nunterrichtet': 36126, 'exportüberschuss': 15666, 'fahndungsbilder': 15805, 'eröffnungsfest': 15262, 'titlis': 49076, 'verkehrsertrag': 52290, 'erfolgsmerkmal': 14539, 'ortheil': 36889, 'lobby': 30634, 'weide': 54790, 'gerissene': 19920, 'wolfsriss': 56084, 'okay': 36574, 'gq': 21324, 'nverloren': 36173, 'mammuturnierxa0ein': 31417, 'rückführungen': 41871, 'hochfliegende': 23609, 'additive': 1416, 'ablenkungsmanöver': 1016, 'diexa0panne': 11414, 'crossland': 10212, 'minivans': 32929, 'meriva': 32433, 'unicode': 50820, 'kreuzfahrtschiffs': 28434, 'ntoronto': 36085, 'lungenflügel': 30928, 'nkünstlich': 35597, 'nart': 34563, 'beschiessen': 6906, 'aufmüpfig': 4081, 'unverbindliche': 51259, 'konsultativabstimmungen': 27911, 'präsidentenamtes': 39307, 'xa0erst': 56454, 'zuschnappen': 57732, 'schirmer': 42701, 'revier': 41084, 'sexlokale': 44270, 'partyviertel': 37414, 'lehrpläne': 29929, 'anwendbare': 3103, 'segmüller': 43858, 'demografen': 10789, 'stöpsel': 47460, 'überläuft': 58489, 'abflussloch': 794, 'rocklegende': 41412, 'velvet': 51646, 'underground': 50562, 'reed': 40310, 'lagexa0stilsicher': 29277, 'flösste': 17215, 'wagte': 54298, 'handelserleicherungen': 22313, 'neuverhandlung': 35225, 'eiskunstläuferin': 13494, 'sonja': 45250, 'henie': 23022, 'herausstechen': 23076, 'pelletier': 37624, 'schachturnier': 42389, 'vira': 53484, 'krippendorf': 28523, 'privatleute': 38907, 'seibert': 43881, 'huai': 23957, 'immigrationspolitik': 24484, 'brennstoffzellenfahrzeuge': 8539, 'clarity': 9886, 'fuel': 18096, 'cell': 9497, 'blutspende': 8066, 'gelenkbusses': 19463, 'benitez': 6571, 'klubbesitzer': 27367, 'fragmentierter': 17581, 'kritiklos': 28571, 'diethart': 11373, 'zionistenkongresses': 57206, 'drähte': 12147, 'atommeilern': 3797, 'bilderrätsel': 7683, 'captchas': 9366, 'bots': 8305, 'wallisxa0erlebt': 54469, 'provisorischen': 39217, 'skination': 44892, 'ungefährlich': 50709, 'atomrakete': 3800, 'dublin': 12184, 'lewitscharoff': 30236, 'erzählerischen': 15243, 'wüstenstürme': 56379, 'mikrobengemeinschaften': 32654, 'nvolle': 36191, 'nfrauen': 35267, 'afrikanerinnen': 1512, 'golfo': 21237, 'straffe': 47022, 'kommandostruktur': 27618, 'postalische': 38604, 'gfeller': 20801, 'entschädigungszahlungen': 14188, 'grundstückgewinnsteuer': 21749, 'hauspreise': 22689, 'präsidentxa0enrique': 39343, 'mittelschwere': 33209, 'dirigentengewerbe': 11539, 'mexikanerin': 32564, 'alondra': 2020, 'parra': 37315, 'kräftiges': 28613, 'überraschten': 58550, 'auguren': 4305, 'edgardo': 12537, 'bauza': 5808, 'entliess': 14108, 'philomena': 37987, 'changers': 9567, 'bombenexplosion': 8196, 'stierkampfarena': 46842, 'kricket': 28443, 'aravind': 3262, 'adigas': 1434, 'erwachsenenleben': 15140, 'geopolitischen': 19773, 'novatek': 35946, 'leonid': 30110, 'michelson': 32591, 'wundert': 56213, 'doppelter': 11828, 'lacher': 29228, 'weirathers': 54855, 'hanni': 22433, 'wenzel': 55180, 'gesundheitskommission': 20471, 'kostenwachstum': 28243, 'rationierungen': 39977, 'konjunkturlokomotive': 27819, 'stottert': 47006, '169': 124, 'flüchtlingszustrom': 17261, 'zeitlichem': 56913, 'datenschutzbeauftragte': 10539, 'xa0donald': 56443, 'generikahersteller': 19672, 'übernahmeangebote': 58505, 'beteiligungsgesellschaften': 7222, 'nadvent': 34433, 'dernvogelgrippe': 10967, 'dernneuerkrankungen': 10955, 'lai': 29290, 'bauerninitiative': 5713, 'eisbärenbaby': 13446, 'leberentzündung': 29817, 'gelernter': 19467, 'transporten': 49493, 'abserviert': 1138}\n"
     ]
    }
   ],
   "source": [
    "print( vectorizer.vocabulary_ )"
   ]
  },
  {
   "cell_type": "code",
   "execution_count": 111,
   "metadata": {},
   "outputs": [],
   "source": [
    "from sklearn.feature_extraction.text import CountVectorizer\n",
    "from sklearn.metrics.pairwise import euclidean_distances"
   ]
  },
  {
   "cell_type": "code",
   "execution_count": 112,
   "metadata": {},
   "outputs": [
    {
     "output_type": "error",
     "ename": "MemoryError",
     "evalue": "Unable to allocate 8.62 GiB for an array with shape (19689, 58729) and data type int64",
     "traceback": [
      "\u001b[1;31m---------------------------------------------------------------------------\u001b[0m",
      "\u001b[1;31mMemoryError\u001b[0m                               Traceback (most recent call last)",
      "\u001b[1;32m<ipython-input-112-f19cddd2754c>\u001b[0m in \u001b[0;36m<module>\u001b[1;34m\u001b[0m\n\u001b[0;32m      1\u001b[0m \u001b[0mcorpus\u001b[0m \u001b[1;33m=\u001b[0m \u001b[0marticles\u001b[0m\u001b[1;33m[\u001b[0m\u001b[1;34m\"lead_text\"\u001b[0m\u001b[1;33m]\u001b[0m\u001b[1;33m\u001b[0m\u001b[1;33m\u001b[0m\u001b[0m\n\u001b[0;32m      2\u001b[0m \u001b[0mvectorizer\u001b[0m \u001b[1;33m=\u001b[0m \u001b[0mCountVectorizer\u001b[0m\u001b[1;33m(\u001b[0m\u001b[1;33m)\u001b[0m\u001b[1;33m\u001b[0m\u001b[1;33m\u001b[0m\u001b[0m\n\u001b[1;32m----> 3\u001b[1;33m \u001b[0mfeatures\u001b[0m \u001b[1;33m=\u001b[0m \u001b[0mvectorizer\u001b[0m\u001b[1;33m.\u001b[0m\u001b[0mfit_transform\u001b[0m\u001b[1;33m(\u001b[0m\u001b[0mcorpus\u001b[0m\u001b[1;33m)\u001b[0m\u001b[1;33m.\u001b[0m\u001b[0mtodense\u001b[0m\u001b[1;33m(\u001b[0m\u001b[1;33m)\u001b[0m\u001b[1;33m\u001b[0m\u001b[1;33m\u001b[0m\u001b[0m\n\u001b[0m",
      "\u001b[1;32m~\\code-projects\\python\\WPy64-3880\\python-3.8.8.amd64\\lib\\site-packages\\scipy\\sparse\\base.py\u001b[0m in \u001b[0;36mtodense\u001b[1;34m(self, order, out)\u001b[0m\n\u001b[0;32m    862\u001b[0m             \u001b[0;31m`\u001b[0m\u001b[0mnumpy\u001b[0m\u001b[1;33m.\u001b[0m\u001b[0mmatrix\u001b[0m\u001b[0;31m`\u001b[0m \u001b[0mobject\u001b[0m \u001b[0mthat\u001b[0m \u001b[0mshares\u001b[0m \u001b[0mthe\u001b[0m \u001b[0msame\u001b[0m \u001b[0mmemory\u001b[0m\u001b[1;33m.\u001b[0m\u001b[1;33m\u001b[0m\u001b[1;33m\u001b[0m\u001b[0m\n\u001b[0;32m    863\u001b[0m         \"\"\"\n\u001b[1;32m--> 864\u001b[1;33m         \u001b[1;32mreturn\u001b[0m \u001b[0masmatrix\u001b[0m\u001b[1;33m(\u001b[0m\u001b[0mself\u001b[0m\u001b[1;33m.\u001b[0m\u001b[0mtoarray\u001b[0m\u001b[1;33m(\u001b[0m\u001b[0morder\u001b[0m\u001b[1;33m=\u001b[0m\u001b[0morder\u001b[0m\u001b[1;33m,\u001b[0m \u001b[0mout\u001b[0m\u001b[1;33m=\u001b[0m\u001b[0mout\u001b[0m\u001b[1;33m)\u001b[0m\u001b[1;33m)\u001b[0m\u001b[1;33m\u001b[0m\u001b[1;33m\u001b[0m\u001b[0m\n\u001b[0m\u001b[0;32m    865\u001b[0m \u001b[1;33m\u001b[0m\u001b[0m\n\u001b[0;32m    866\u001b[0m     \u001b[1;32mdef\u001b[0m \u001b[0mtoarray\u001b[0m\u001b[1;33m(\u001b[0m\u001b[0mself\u001b[0m\u001b[1;33m,\u001b[0m \u001b[0morder\u001b[0m\u001b[1;33m=\u001b[0m\u001b[1;32mNone\u001b[0m\u001b[1;33m,\u001b[0m \u001b[0mout\u001b[0m\u001b[1;33m=\u001b[0m\u001b[1;32mNone\u001b[0m\u001b[1;33m)\u001b[0m\u001b[1;33m:\u001b[0m\u001b[1;33m\u001b[0m\u001b[1;33m\u001b[0m\u001b[0m\n",
      "\u001b[1;32m~\\code-projects\\python\\WPy64-3880\\python-3.8.8.amd64\\lib\\site-packages\\scipy\\sparse\\compressed.py\u001b[0m in \u001b[0;36mtoarray\u001b[1;34m(self, order, out)\u001b[0m\n\u001b[0;32m   1029\u001b[0m         \u001b[1;32mif\u001b[0m \u001b[0mout\u001b[0m \u001b[1;32mis\u001b[0m \u001b[1;32mNone\u001b[0m \u001b[1;32mand\u001b[0m \u001b[0morder\u001b[0m \u001b[1;32mis\u001b[0m \u001b[1;32mNone\u001b[0m\u001b[1;33m:\u001b[0m\u001b[1;33m\u001b[0m\u001b[1;33m\u001b[0m\u001b[0m\n\u001b[0;32m   1030\u001b[0m             \u001b[0morder\u001b[0m \u001b[1;33m=\u001b[0m \u001b[0mself\u001b[0m\u001b[1;33m.\u001b[0m\u001b[0m_swap\u001b[0m\u001b[1;33m(\u001b[0m\u001b[1;34m'cf'\u001b[0m\u001b[1;33m)\u001b[0m\u001b[1;33m[\u001b[0m\u001b[1;36m0\u001b[0m\u001b[1;33m]\u001b[0m\u001b[1;33m\u001b[0m\u001b[1;33m\u001b[0m\u001b[0m\n\u001b[1;32m-> 1031\u001b[1;33m         \u001b[0mout\u001b[0m \u001b[1;33m=\u001b[0m \u001b[0mself\u001b[0m\u001b[1;33m.\u001b[0m\u001b[0m_process_toarray_args\u001b[0m\u001b[1;33m(\u001b[0m\u001b[0morder\u001b[0m\u001b[1;33m,\u001b[0m \u001b[0mout\u001b[0m\u001b[1;33m)\u001b[0m\u001b[1;33m\u001b[0m\u001b[1;33m\u001b[0m\u001b[0m\n\u001b[0m\u001b[0;32m   1032\u001b[0m         \u001b[1;32mif\u001b[0m \u001b[1;32mnot\u001b[0m \u001b[1;33m(\u001b[0m\u001b[0mout\u001b[0m\u001b[1;33m.\u001b[0m\u001b[0mflags\u001b[0m\u001b[1;33m.\u001b[0m\u001b[0mc_contiguous\u001b[0m \u001b[1;32mor\u001b[0m \u001b[0mout\u001b[0m\u001b[1;33m.\u001b[0m\u001b[0mflags\u001b[0m\u001b[1;33m.\u001b[0m\u001b[0mf_contiguous\u001b[0m\u001b[1;33m)\u001b[0m\u001b[1;33m:\u001b[0m\u001b[1;33m\u001b[0m\u001b[1;33m\u001b[0m\u001b[0m\n\u001b[0;32m   1033\u001b[0m             \u001b[1;32mraise\u001b[0m \u001b[0mValueError\u001b[0m\u001b[1;33m(\u001b[0m\u001b[1;34m'Output array must be C or F contiguous'\u001b[0m\u001b[1;33m)\u001b[0m\u001b[1;33m\u001b[0m\u001b[1;33m\u001b[0m\u001b[0m\n",
      "\u001b[1;32m~\\code-projects\\python\\WPy64-3880\\python-3.8.8.amd64\\lib\\site-packages\\scipy\\sparse\\base.py\u001b[0m in \u001b[0;36m_process_toarray_args\u001b[1;34m(self, order, out)\u001b[0m\n\u001b[0;32m   1200\u001b[0m             \u001b[1;32mreturn\u001b[0m \u001b[0mout\u001b[0m\u001b[1;33m\u001b[0m\u001b[1;33m\u001b[0m\u001b[0m\n\u001b[0;32m   1201\u001b[0m         \u001b[1;32melse\u001b[0m\u001b[1;33m:\u001b[0m\u001b[1;33m\u001b[0m\u001b[1;33m\u001b[0m\u001b[0m\n\u001b[1;32m-> 1202\u001b[1;33m             \u001b[1;32mreturn\u001b[0m \u001b[0mnp\u001b[0m\u001b[1;33m.\u001b[0m\u001b[0mzeros\u001b[0m\u001b[1;33m(\u001b[0m\u001b[0mself\u001b[0m\u001b[1;33m.\u001b[0m\u001b[0mshape\u001b[0m\u001b[1;33m,\u001b[0m \u001b[0mdtype\u001b[0m\u001b[1;33m=\u001b[0m\u001b[0mself\u001b[0m\u001b[1;33m.\u001b[0m\u001b[0mdtype\u001b[0m\u001b[1;33m,\u001b[0m \u001b[0morder\u001b[0m\u001b[1;33m=\u001b[0m\u001b[0morder\u001b[0m\u001b[1;33m)\u001b[0m\u001b[1;33m\u001b[0m\u001b[1;33m\u001b[0m\u001b[0m\n\u001b[0m\u001b[0;32m   1203\u001b[0m \u001b[1;33m\u001b[0m\u001b[0m\n\u001b[0;32m   1204\u001b[0m \u001b[1;33m\u001b[0m\u001b[0m\n",
      "\u001b[1;31mMemoryError\u001b[0m: Unable to allocate 8.62 GiB for an array with shape (19689, 58729) and data type int64"
     ]
    }
   ],
   "source": [
    "corpus = articles[\"lead_text\"]\n",
    "vectorizer = CountVectorizer()\n",
    "features = vectorizer.fit_transform(corpus).todense() "
   ]
  },
  {
   "cell_type": "code",
   "execution_count": 104,
   "metadata": {
    "tags": []
   },
   "outputs": [
    {
     "output_type": "error",
     "ename": "MemoryError",
     "evalue": "Unable to allocate 8.62 GiB for an array with shape (19689, 58729) and data type float64",
     "traceback": [
      "\u001b[1;31m---------------------------------------------------------------------------\u001b[0m",
      "\u001b[1;31mMemoryError\u001b[0m                               Traceback (most recent call last)",
      "\u001b[1;32m<ipython-input-104-bdc88a3c2124>\u001b[0m in \u001b[0;36m<module>\u001b[1;34m\u001b[0m\n\u001b[1;32m----> 1\u001b[1;33m \u001b[0mtext_similarities\u001b[0m \u001b[1;33m=\u001b[0m \u001b[0mpd\u001b[0m\u001b[1;33m.\u001b[0m\u001b[0mDataFrame\u001b[0m\u001b[1;33m(\u001b[0m\u001b[0meuclidean_distances\u001b[0m\u001b[1;33m(\u001b[0m\u001b[0mfeatures\u001b[0m\u001b[1;33m[\u001b[0m\u001b[1;36m1\u001b[0m\u001b[1;33m]\u001b[0m\u001b[1;33m,\u001b[0m \u001b[0mfeatures\u001b[0m\u001b[1;33m)\u001b[0m\u001b[1;33m)\u001b[0m\u001b[1;33m\u001b[0m\u001b[1;33m\u001b[0m\u001b[0m\n\u001b[0m\u001b[0;32m      2\u001b[0m \u001b[0mtext_similarities\u001b[0m \u001b[1;33m=\u001b[0m \u001b[0mtext_similarities\u001b[0m\u001b[1;33m.\u001b[0m\u001b[0mtranspose\u001b[0m\u001b[1;33m(\u001b[0m\u001b[1;33m)\u001b[0m\u001b[1;33m\u001b[0m\u001b[1;33m\u001b[0m\u001b[0m\n",
      "\u001b[1;32m~\\code-projects\\python\\WPy64-3880\\python-3.8.8.amd64\\lib\\site-packages\\sklearn\\utils\\validation.py\u001b[0m in \u001b[0;36minner_f\u001b[1;34m(*args, **kwargs)\u001b[0m\n\u001b[0;32m     61\u001b[0m             \u001b[0mextra_args\u001b[0m \u001b[1;33m=\u001b[0m \u001b[0mlen\u001b[0m\u001b[1;33m(\u001b[0m\u001b[0margs\u001b[0m\u001b[1;33m)\u001b[0m \u001b[1;33m-\u001b[0m \u001b[0mlen\u001b[0m\u001b[1;33m(\u001b[0m\u001b[0mall_args\u001b[0m\u001b[1;33m)\u001b[0m\u001b[1;33m\u001b[0m\u001b[1;33m\u001b[0m\u001b[0m\n\u001b[0;32m     62\u001b[0m             \u001b[1;32mif\u001b[0m \u001b[0mextra_args\u001b[0m \u001b[1;33m<=\u001b[0m \u001b[1;36m0\u001b[0m\u001b[1;33m:\u001b[0m\u001b[1;33m\u001b[0m\u001b[1;33m\u001b[0m\u001b[0m\n\u001b[1;32m---> 63\u001b[1;33m                 \u001b[1;32mreturn\u001b[0m \u001b[0mf\u001b[0m\u001b[1;33m(\u001b[0m\u001b[1;33m*\u001b[0m\u001b[0margs\u001b[0m\u001b[1;33m,\u001b[0m \u001b[1;33m**\u001b[0m\u001b[0mkwargs\u001b[0m\u001b[1;33m)\u001b[0m\u001b[1;33m\u001b[0m\u001b[1;33m\u001b[0m\u001b[0m\n\u001b[0m\u001b[0;32m     64\u001b[0m \u001b[1;33m\u001b[0m\u001b[0m\n\u001b[0;32m     65\u001b[0m             \u001b[1;31m# extra_args > 0\u001b[0m\u001b[1;33m\u001b[0m\u001b[1;33m\u001b[0m\u001b[1;33m\u001b[0m\u001b[0m\n",
      "\u001b[1;32m~\\code-projects\\python\\WPy64-3880\\python-3.8.8.amd64\\lib\\site-packages\\sklearn\\metrics\\pairwise.py\u001b[0m in \u001b[0;36meuclidean_distances\u001b[1;34m(X, Y, Y_norm_squared, squared, X_norm_squared)\u001b[0m\n\u001b[0;32m    270\u001b[0m            [1.41421356]])\n\u001b[0;32m    271\u001b[0m     \"\"\"\n\u001b[1;32m--> 272\u001b[1;33m     \u001b[0mX\u001b[0m\u001b[1;33m,\u001b[0m \u001b[0mY\u001b[0m \u001b[1;33m=\u001b[0m \u001b[0mcheck_pairwise_arrays\u001b[0m\u001b[1;33m(\u001b[0m\u001b[0mX\u001b[0m\u001b[1;33m,\u001b[0m \u001b[0mY\u001b[0m\u001b[1;33m)\u001b[0m\u001b[1;33m\u001b[0m\u001b[1;33m\u001b[0m\u001b[0m\n\u001b[0m\u001b[0;32m    273\u001b[0m \u001b[1;33m\u001b[0m\u001b[0m\n\u001b[0;32m    274\u001b[0m     \u001b[1;31m# If norms are passed as float32, they are unused. If arrays are passed as\u001b[0m\u001b[1;33m\u001b[0m\u001b[1;33m\u001b[0m\u001b[1;33m\u001b[0m\u001b[0m\n",
      "\u001b[1;32m~\\code-projects\\python\\WPy64-3880\\python-3.8.8.amd64\\lib\\site-packages\\sklearn\\utils\\validation.py\u001b[0m in \u001b[0;36minner_f\u001b[1;34m(*args, **kwargs)\u001b[0m\n\u001b[0;32m     61\u001b[0m             \u001b[0mextra_args\u001b[0m \u001b[1;33m=\u001b[0m \u001b[0mlen\u001b[0m\u001b[1;33m(\u001b[0m\u001b[0margs\u001b[0m\u001b[1;33m)\u001b[0m \u001b[1;33m-\u001b[0m \u001b[0mlen\u001b[0m\u001b[1;33m(\u001b[0m\u001b[0mall_args\u001b[0m\u001b[1;33m)\u001b[0m\u001b[1;33m\u001b[0m\u001b[1;33m\u001b[0m\u001b[0m\n\u001b[0;32m     62\u001b[0m             \u001b[1;32mif\u001b[0m \u001b[0mextra_args\u001b[0m \u001b[1;33m<=\u001b[0m \u001b[1;36m0\u001b[0m\u001b[1;33m:\u001b[0m\u001b[1;33m\u001b[0m\u001b[1;33m\u001b[0m\u001b[0m\n\u001b[1;32m---> 63\u001b[1;33m                 \u001b[1;32mreturn\u001b[0m \u001b[0mf\u001b[0m\u001b[1;33m(\u001b[0m\u001b[1;33m*\u001b[0m\u001b[0margs\u001b[0m\u001b[1;33m,\u001b[0m \u001b[1;33m**\u001b[0m\u001b[0mkwargs\u001b[0m\u001b[1;33m)\u001b[0m\u001b[1;33m\u001b[0m\u001b[1;33m\u001b[0m\u001b[0m\n\u001b[0m\u001b[0;32m     64\u001b[0m \u001b[1;33m\u001b[0m\u001b[0m\n\u001b[0;32m     65\u001b[0m             \u001b[1;31m# extra_args > 0\u001b[0m\u001b[1;33m\u001b[0m\u001b[1;33m\u001b[0m\u001b[1;33m\u001b[0m\u001b[0m\n",
      "\u001b[1;32m~\\code-projects\\python\\WPy64-3880\\python-3.8.8.amd64\\lib\\site-packages\\sklearn\\metrics\\pairwise.py\u001b[0m in \u001b[0;36mcheck_pairwise_arrays\u001b[1;34m(X, Y, precomputed, dtype, accept_sparse, force_all_finite, copy)\u001b[0m\n\u001b[0;32m    147\u001b[0m                         \u001b[0mcopy\u001b[0m\u001b[1;33m=\u001b[0m\u001b[0mcopy\u001b[0m\u001b[1;33m,\u001b[0m \u001b[0mforce_all_finite\u001b[0m\u001b[1;33m=\u001b[0m\u001b[0mforce_all_finite\u001b[0m\u001b[1;33m,\u001b[0m\u001b[1;33m\u001b[0m\u001b[1;33m\u001b[0m\u001b[0m\n\u001b[0;32m    148\u001b[0m                         estimator=estimator)\n\u001b[1;32m--> 149\u001b[1;33m         Y = check_array(Y, accept_sparse=accept_sparse, dtype=dtype,\n\u001b[0m\u001b[0;32m    150\u001b[0m                         \u001b[0mcopy\u001b[0m\u001b[1;33m=\u001b[0m\u001b[0mcopy\u001b[0m\u001b[1;33m,\u001b[0m \u001b[0mforce_all_finite\u001b[0m\u001b[1;33m=\u001b[0m\u001b[0mforce_all_finite\u001b[0m\u001b[1;33m,\u001b[0m\u001b[1;33m\u001b[0m\u001b[1;33m\u001b[0m\u001b[0m\n\u001b[0;32m    151\u001b[0m                         estimator=estimator)\n",
      "\u001b[1;32m~\\code-projects\\python\\WPy64-3880\\python-3.8.8.amd64\\lib\\site-packages\\sklearn\\utils\\validation.py\u001b[0m in \u001b[0;36minner_f\u001b[1;34m(*args, **kwargs)\u001b[0m\n\u001b[0;32m     61\u001b[0m             \u001b[0mextra_args\u001b[0m \u001b[1;33m=\u001b[0m \u001b[0mlen\u001b[0m\u001b[1;33m(\u001b[0m\u001b[0margs\u001b[0m\u001b[1;33m)\u001b[0m \u001b[1;33m-\u001b[0m \u001b[0mlen\u001b[0m\u001b[1;33m(\u001b[0m\u001b[0mall_args\u001b[0m\u001b[1;33m)\u001b[0m\u001b[1;33m\u001b[0m\u001b[1;33m\u001b[0m\u001b[0m\n\u001b[0;32m     62\u001b[0m             \u001b[1;32mif\u001b[0m \u001b[0mextra_args\u001b[0m \u001b[1;33m<=\u001b[0m \u001b[1;36m0\u001b[0m\u001b[1;33m:\u001b[0m\u001b[1;33m\u001b[0m\u001b[1;33m\u001b[0m\u001b[0m\n\u001b[1;32m---> 63\u001b[1;33m                 \u001b[1;32mreturn\u001b[0m \u001b[0mf\u001b[0m\u001b[1;33m(\u001b[0m\u001b[1;33m*\u001b[0m\u001b[0margs\u001b[0m\u001b[1;33m,\u001b[0m \u001b[1;33m**\u001b[0m\u001b[0mkwargs\u001b[0m\u001b[1;33m)\u001b[0m\u001b[1;33m\u001b[0m\u001b[1;33m\u001b[0m\u001b[0m\n\u001b[0m\u001b[0;32m     64\u001b[0m \u001b[1;33m\u001b[0m\u001b[0m\n\u001b[0;32m     65\u001b[0m             \u001b[1;31m# extra_args > 0\u001b[0m\u001b[1;33m\u001b[0m\u001b[1;33m\u001b[0m\u001b[1;33m\u001b[0m\u001b[0m\n",
      "\u001b[1;32m~\\code-projects\\python\\WPy64-3880\\python-3.8.8.amd64\\lib\\site-packages\\sklearn\\utils\\validation.py\u001b[0m in \u001b[0;36mcheck_array\u001b[1;34m(array, accept_sparse, accept_large_sparse, dtype, order, copy, force_all_finite, ensure_2d, allow_nd, ensure_min_samples, ensure_min_features, estimator)\u001b[0m\n\u001b[0;32m    614\u001b[0m                     \u001b[0marray\u001b[0m \u001b[1;33m=\u001b[0m \u001b[0marray\u001b[0m\u001b[1;33m.\u001b[0m\u001b[0mastype\u001b[0m\u001b[1;33m(\u001b[0m\u001b[0mdtype\u001b[0m\u001b[1;33m,\u001b[0m \u001b[0mcasting\u001b[0m\u001b[1;33m=\u001b[0m\u001b[1;34m\"unsafe\"\u001b[0m\u001b[1;33m,\u001b[0m \u001b[0mcopy\u001b[0m\u001b[1;33m=\u001b[0m\u001b[1;32mFalse\u001b[0m\u001b[1;33m)\u001b[0m\u001b[1;33m\u001b[0m\u001b[1;33m\u001b[0m\u001b[0m\n\u001b[0;32m    615\u001b[0m                 \u001b[1;32melse\u001b[0m\u001b[1;33m:\u001b[0m\u001b[1;33m\u001b[0m\u001b[1;33m\u001b[0m\u001b[0m\n\u001b[1;32m--> 616\u001b[1;33m                     \u001b[0marray\u001b[0m \u001b[1;33m=\u001b[0m \u001b[0mnp\u001b[0m\u001b[1;33m.\u001b[0m\u001b[0masarray\u001b[0m\u001b[1;33m(\u001b[0m\u001b[0marray\u001b[0m\u001b[1;33m,\u001b[0m \u001b[0morder\u001b[0m\u001b[1;33m=\u001b[0m\u001b[0morder\u001b[0m\u001b[1;33m,\u001b[0m \u001b[0mdtype\u001b[0m\u001b[1;33m=\u001b[0m\u001b[0mdtype\u001b[0m\u001b[1;33m)\u001b[0m\u001b[1;33m\u001b[0m\u001b[1;33m\u001b[0m\u001b[0m\n\u001b[0m\u001b[0;32m    617\u001b[0m             \u001b[1;32mexcept\u001b[0m \u001b[0mComplexWarning\u001b[0m \u001b[1;32mas\u001b[0m \u001b[0mcomplex_warning\u001b[0m\u001b[1;33m:\u001b[0m\u001b[1;33m\u001b[0m\u001b[1;33m\u001b[0m\u001b[0m\n\u001b[0;32m    618\u001b[0m                 raise ValueError(\"Complex data not supported\\n\"\n",
      "\u001b[1;32m~\\code-projects\\python\\WPy64-3880\\python-3.8.8.amd64\\lib\\site-packages\\numpy\\core\\_asarray.py\u001b[0m in \u001b[0;36masarray\u001b[1;34m(a, dtype, order, like)\u001b[0m\n\u001b[0;32m    100\u001b[0m         \u001b[1;32mreturn\u001b[0m \u001b[0m_asarray_with_like\u001b[0m\u001b[1;33m(\u001b[0m\u001b[0ma\u001b[0m\u001b[1;33m,\u001b[0m \u001b[0mdtype\u001b[0m\u001b[1;33m=\u001b[0m\u001b[0mdtype\u001b[0m\u001b[1;33m,\u001b[0m \u001b[0morder\u001b[0m\u001b[1;33m=\u001b[0m\u001b[0morder\u001b[0m\u001b[1;33m,\u001b[0m \u001b[0mlike\u001b[0m\u001b[1;33m=\u001b[0m\u001b[0mlike\u001b[0m\u001b[1;33m)\u001b[0m\u001b[1;33m\u001b[0m\u001b[1;33m\u001b[0m\u001b[0m\n\u001b[0;32m    101\u001b[0m \u001b[1;33m\u001b[0m\u001b[0m\n\u001b[1;32m--> 102\u001b[1;33m     \u001b[1;32mreturn\u001b[0m \u001b[0marray\u001b[0m\u001b[1;33m(\u001b[0m\u001b[0ma\u001b[0m\u001b[1;33m,\u001b[0m \u001b[0mdtype\u001b[0m\u001b[1;33m,\u001b[0m \u001b[0mcopy\u001b[0m\u001b[1;33m=\u001b[0m\u001b[1;32mFalse\u001b[0m\u001b[1;33m,\u001b[0m \u001b[0morder\u001b[0m\u001b[1;33m=\u001b[0m\u001b[0morder\u001b[0m\u001b[1;33m)\u001b[0m\u001b[1;33m\u001b[0m\u001b[1;33m\u001b[0m\u001b[0m\n\u001b[0m\u001b[0;32m    103\u001b[0m \u001b[1;33m\u001b[0m\u001b[0m\n\u001b[0;32m    104\u001b[0m \u001b[1;33m\u001b[0m\u001b[0m\n",
      "\u001b[1;31mMemoryError\u001b[0m: Unable to allocate 8.62 GiB for an array with shape (19689, 58729) and data type float64"
     ]
    }
   ],
   "source": [
    "text_similarities = pd.DataFrame(euclidean_distances(features[1], features))\n",
    "text_similarities = text_similarities.transpose()\n"
   ]
  },
  {
   "cell_type": "code",
   "execution_count": 95,
   "metadata": {},
   "outputs": [
    {
     "output_type": "execute_result",
     "data": {
      "text/plain": [
       "   distance\n",
       "0  7.000000\n",
       "1  0.000000\n",
       "2  4.690416\n",
       "3  6.324555\n",
       "4  7.348469"
      ],
      "text/html": "<div>\n<style scoped>\n    .dataframe tbody tr th:only-of-type {\n        vertical-align: middle;\n    }\n\n    .dataframe tbody tr th {\n        vertical-align: top;\n    }\n\n    .dataframe thead th {\n        text-align: right;\n    }\n</style>\n<table border=\"1\" class=\"dataframe\">\n  <thead>\n    <tr style=\"text-align: right;\">\n      <th></th>\n      <th>distance</th>\n    </tr>\n  </thead>\n  <tbody>\n    <tr>\n      <th>0</th>\n      <td>7.000000</td>\n    </tr>\n    <tr>\n      <th>1</th>\n      <td>0.000000</td>\n    </tr>\n    <tr>\n      <th>2</th>\n      <td>4.690416</td>\n    </tr>\n    <tr>\n      <th>3</th>\n      <td>6.324555</td>\n    </tr>\n    <tr>\n      <th>4</th>\n      <td>7.348469</td>\n    </tr>\n  </tbody>\n</table>\n</div>"
     },
     "metadata": {},
     "execution_count": 95
    }
   ],
   "source": [
    "text_similarities = text_similarities.rename(columns={0: \"distance\"})\n",
    "text_similarities.head()"
   ]
  },
  {
   "cell_type": "code",
   "execution_count": 96,
   "metadata": {},
   "outputs": [
    {
     "output_type": "execute_result",
     "data": {
      "text/plain": [
       "      distance\n",
       "1     0.000000\n",
       "732   4.472136\n",
       "5291  4.582576\n",
       "3923  4.690416\n",
       "9142  4.690416"
      ],
      "text/html": "<div>\n<style scoped>\n    .dataframe tbody tr th:only-of-type {\n        vertical-align: middle;\n    }\n\n    .dataframe tbody tr th {\n        vertical-align: top;\n    }\n\n    .dataframe thead th {\n        text-align: right;\n    }\n</style>\n<table border=\"1\" class=\"dataframe\">\n  <thead>\n    <tr style=\"text-align: right;\">\n      <th></th>\n      <th>distance</th>\n    </tr>\n  </thead>\n  <tbody>\n    <tr>\n      <th>1</th>\n      <td>0.000000</td>\n    </tr>\n    <tr>\n      <th>732</th>\n      <td>4.472136</td>\n    </tr>\n    <tr>\n      <th>5291</th>\n      <td>4.582576</td>\n    </tr>\n    <tr>\n      <th>3923</th>\n      <td>4.690416</td>\n    </tr>\n    <tr>\n      <th>9142</th>\n      <td>4.690416</td>\n    </tr>\n  </tbody>\n</table>\n</div>"
     },
     "metadata": {},
     "execution_count": 96
    }
   ],
   "source": [
    "text_similarities = text_similarities.sort_values(by=[\"distance\"], ascending=True)\n",
    "text_similarities.head()"
   ]
  },
  {
   "cell_type": "code",
   "execution_count": null,
   "metadata": {},
   "outputs": [],
   "source": []
  }
 ]
}