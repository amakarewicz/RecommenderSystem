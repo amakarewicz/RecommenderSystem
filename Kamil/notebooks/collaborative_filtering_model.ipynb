{
 "cells": [
  {
   "cell_type": "code",
   "execution_count": 1,
   "metadata": {},
   "outputs": [],
   "source": [
    "import pandas as pd\n",
    "import numpy as np"
   ]
  },
  {
   "cell_type": "code",
   "execution_count": 2,
   "metadata": {},
   "outputs": [
    {
     "data": {
      "text/html": "<div>\n<style scoped>\n    .dataframe tbody tr th:only-of-type {\n        vertical-align: middle;\n    }\n\n    .dataframe tbody tr th {\n        vertical-align: top;\n    }\n\n    .dataframe thead th {\n        text-align: right;\n    }\n</style>\n<table border=\"1\" class=\"dataframe\">\n  <thead>\n    <tr style=\"text-align: right;\">\n      <th></th>\n      <th>user_id</th>\n      <th>nzz_id</th>\n    </tr>\n  </thead>\n  <tbody>\n    <tr>\n      <th>0</th>\n      <td>1</td>\n      <td>ld.154103</td>\n    </tr>\n    <tr>\n      <th>1</th>\n      <td>1</td>\n      <td>ld.142559</td>\n    </tr>\n    <tr>\n      <th>2</th>\n      <td>1</td>\n      <td>1.18331199</td>\n    </tr>\n    <tr>\n      <th>3</th>\n      <td>1</td>\n      <td>ld.144819</td>\n    </tr>\n    <tr>\n      <th>4</th>\n      <td>1</td>\n      <td>ld.1293110</td>\n    </tr>\n  </tbody>\n</table>\n</div>",
      "text/plain": "   user_id      nzz_id\n0        1   ld.154103\n1        1   ld.142559\n2        1  1.18331199\n3        1   ld.144819\n4        1  ld.1293110"
     },
     "execution_count": 2,
     "metadata": {},
     "output_type": "execute_result"
    }
   ],
   "source": [
    "readers = pd.read_csv(\"../data/readers.csv\")\n",
    "readers = readers.rename(columns={\"id\":\"user_id\", \"art_id\":\"nzz_id\"})\n",
    "readers.head()"
   ]
  },
  {
   "cell_type": "code",
   "execution_count": 3,
   "metadata": {},
   "outputs": [
    {
     "data": {
      "text/plain": "(27855, 2)"
     },
     "execution_count": 3,
     "metadata": {},
     "output_type": "execute_result"
    }
   ],
   "source": [
    "readers.shape"
   ]
  },
  {
   "cell_type": "code",
   "execution_count": 4,
   "metadata": {},
   "outputs": [],
   "source": [
    "read_counts = readers[\"user_id\"].value_counts(sort=True)\n",
    "read_counts = read_counts.rename_axis(\"user_id\").reset_index(name=\"read_count\")\n",
    "\n",
    "# Biorę pod uwagę tylko użytkowników, którzy przeczytali minimum 5 artykułów\n",
    "min_read_count = 5\n",
    "read_counts = read_counts[read_counts[\"read_count\"] > min_read_count]\n",
    "\n",
    "readers = readers[readers[\"user_id\"].isin(read_counts[\"user_id\"])]"
   ]
  },
  {
   "cell_type": "code",
   "execution_count": null,
   "metadata": {},
   "outputs": [],
   "source": []
  },
  {
   "cell_type": "code",
   "execution_count": 5,
   "metadata": {},
   "outputs": [
    {
     "name": "stdout",
     "output_type": "stream",
     "text": [
      "Train set size 22204\n",
      "test set size 5551\n",
      "n art in test 980\n",
      "n art in train 980\n"
     ]
    }
   ],
   "source": [
    "# Train/Test split\n",
    "from sklearn.model_selection import train_test_split\n",
    "\n",
    "random_state = None\n",
    "readers_train, readers_test = train_test_split(readers,\n",
    "                                   stratify=readers[\"user_id\"], \n",
    "                                   test_size=0.20,\n",
    "                                   random_state=12)\n",
    "                                   \n",
    "print(f\"Train set size {len(readers_train)}\")\n",
    "print(f\"test set size {len(readers_test)}\")\n",
    "unique_train = readers_train[\"user_id\"].unique()\n",
    "unique_test = readers_test[\"user_id\"].unique()\n",
    "print(f\"n art in test {len(unique_test)}\")\n",
    "print(f\"n art in train {len(unique_train)}\")\n"
   ]
  },
  {
   "cell_type": "code",
   "execution_count": 6,
   "metadata": {
    "tags": []
   },
   "outputs": [],
   "source": [
    "def bootstrap_split(readers):\n",
    "    all_samples = []\n",
    "    for user in readers[\"user_id\"].unique():\n",
    "        all_samples.append(readers[readers[\"user_id\"] == user].sample(3, replace=True))\n",
    "\n",
    "    df_test = pd.concat(all_samples)\n",
    "    df_train = pd.merge(readers, df_test, how='outer', indicator=True)\n",
    "    df_train = df_train.loc[df_train[\"_merge\"] == \"left_only\", [\"user_id\", \"nzz_id\"]]\n",
    "    return df_train, df_test"
   ]
  },
  {
   "cell_type": "code",
   "execution_count": 7,
   "metadata": {},
   "outputs": [
    {
     "ename": "SyntaxError",
     "evalue": "'return' outside function (<ipython-input-7-e9b4928289af>, line 7)",
     "output_type": "error",
     "traceback": [
      "\u001b[1;36m  File \u001b[1;32m\"<ipython-input-7-e9b4928289af>\"\u001b[1;36m, line \u001b[1;32m7\u001b[0m\n\u001b[1;33m    return df_train, df_test\u001b[0m\n\u001b[1;37m    ^\u001b[0m\n\u001b[1;31mSyntaxError\u001b[0m\u001b[1;31m:\u001b[0m 'return' outside function\n"
     ]
    }
   ],
   "source": [
    "all_samples = []\n",
    "for user in readers[\"user_id\"].unique():\n",
    "    all_samples.append(readers[readers[\"user_id\"] == user].sample(3, replace=True))\n",
    "df_test = pd.concat(all_samples)\n",
    "df_train = pd.merge(readers, df_test, how='outer', indicator=True)\n",
    "df_train = df_train.loc[df_train[\"_merge\"] == \"left_only\", [\"user_id\", \"nzz_id\"]]\n",
    "return df_train, df_test"
   ]
  },
  {
   "cell_type": "code",
   "execution_count": 8,
   "metadata": {},
   "outputs": [
    {
     "data": {
      "text/plain": [
       "(24954, 2)"
      ]
     },
     "execution_count": 8,
     "metadata": {},
     "output_type": "execute_result"
    }
   ],
   "source": [
    "df_train.shape"
   ]
  },
  {
   "cell_type": "code",
   "execution_count": 9,
   "metadata": {},
   "outputs": [
    {
     "data": {
      "text/plain": [
       "(2940, 2)"
      ]
     },
     "execution_count": 9,
     "metadata": {},
     "output_type": "execute_result"
    }
   ],
   "source": [
    "df_test.shape"
   ]
  },
  {
   "cell_type": "code",
   "execution_count": 6,
   "metadata": {},
   "outputs": [],
   "source": [
    "import sys\r\n",
    "sys.path.append('../code')\r\n",
    "from cf_model import CFModel\r\n",
    "from model_evaluator import ModelEvaluator\r\n",
    "from random_model import RandomModel\r\n",
    "from implicit_model import ImplicitModel\r\n",
    "from popularity_model import PopularityModel\r\n",
    "model_evaluator = ModelEvaluator(k_list = [10])"
   ]
  },
  {
   "cell_type": "code",
   "execution_count": 9,
   "metadata": {},
   "outputs": [
    {
     "name": "stdout",
     "output_type": "stream",
     "text": [
      "979 users processed\n",
      "\n",
      "Global metrics:\n",
      "{'modelName': 'implicit_model', 'recall@10': 0.4209191771946874, 'precision@10': 0.04209191771946874, 'f1_score@10': 0.07653075948994316, 'ndcg@10': 0.27505101752038413, 'personalization@10': 0.8392139000646224}\n"
     ]
    }
   ],
   "source": [
    "#cf_recommender_model = CFModel(n_latent_factors=200)\r\n",
    "cf_recommender_model = ImplicitModel(n_latent_factors=500, regularization=150, alpha=50, iterations=10)\r\n",
    "cf_recommender_model.fit(readers_train)\r\n",
    "cf_global_metrics, cf_detailed_results_df = model_evaluator.evaluate_model(cf_recommender_model, readers, readers_train, readers_test, interactions=0)\r\n",
    "print('\\nGlobal metrics:\\n%s' % cf_global_metrics)"
   ]
  },
  {
   "cell_type": "code",
   "execution_count": 8,
   "metadata": {},
   "outputs": [
    {
     "name": "stdout",
     "output_type": "stream",
     "text": [
      "979 users processed\n",
      "\n",
      "Global metrics:\n",
      "{'modelName': 'popularity_model', 'recall@10': 0.28014010366051184, 'precision@10': 0.028014010366051185, 'f1_score@10': 0.05093456430191124, 'ndcg@10': 0.16155640711378044, 'personalization@10': 1.1102230246251565e-16}\n"
     ]
    }
   ],
   "source": [
    "#cf_recommender_model = CFModel(n_latent_factors=200)\r\n",
    "pop = PopularityModel()\r\n",
    "pop.fit(readers_train)\r\n",
    "cf_global_metrics, cf_detailed_results_df = model_evaluator.evaluate_model(pop, readers, readers_train, readers_test, interactions=0)\r\n",
    "print('\\nGlobal metrics:\\n%s' % cf_global_metrics)"
   ]
  },
  {
   "cell_type": "code",
   "execution_count": 17,
   "metadata": {},
   "outputs": [],
   "source": [
    "bootstrap_results = []\n",
    "for i in range(10):\n",
    "    train, test = bootstrap_split(readers)\n",
    "    cf_recommender_model.fit(train)\n",
    "    cf_global_metrics, cf_detailed_results_df = model_evaluator.evaluate_model(cf_recommender_model, readers, train, test, interactions=0)\n",
    "    bootstrap_results.append(cf_global_metrics)"
   ]
  },
  {
   "cell_type": "code",
   "execution_count": 16,
   "metadata": {},
   "outputs": [
    {
     "ename": "NameError",
     "evalue": "name 'bootstrap_results' is not defined",
     "output_type": "error",
     "traceback": [
      "\u001b[1;31m---------------------------------------------------------------------------\u001b[0m",
      "\u001b[1;31mNameError\u001b[0m                                 Traceback (most recent call last)",
      "\u001b[1;32m<ipython-input-16-a28e679c3fb5>\u001b[0m in \u001b[0;36m<module>\u001b[1;34m\u001b[0m\n\u001b[1;32m----> 1\u001b[1;33m \u001b[0mprint\u001b[0m\u001b[1;33m(\u001b[0m\u001b[0mbootstrap_results\u001b[0m\u001b[1;33m)\u001b[0m\u001b[1;33m\u001b[0m\u001b[1;33m\u001b[0m\u001b[0m\n\u001b[0m",
      "\u001b[1;31mNameError\u001b[0m: name 'bootstrap_results' is not defined"
     ]
    }
   ],
   "source": [
    "print(bootstrap_results)"
   ]
  },
  {
   "cell_type": "code",
   "execution_count": 8,
   "metadata": {},
   "outputs": [],
   "source": [
    "param_grid = {'num_factors': [10, 20, 40, 80, 120],\r\n",
    "              'regularization': [0.0, 1e-5, 1e-3, 1e-1, 1e1, 1e2],\r\n",
    "              'alpha': [1, 10, 50, 100, 500, 1000]}"
   ]
  },
  {
   "cell_type": "code",
   "execution_count": 8,
   "metadata": {},
   "outputs": [],
   "source": [
    "param_grid = {'num_factors': [100, 150, 200, 250, 300],\r\n",
    "              'regularization': [100, 150, 200, 250, 300],\r\n",
    "              'alpha': [50]}"
   ]
  },
  {
   "cell_type": "code",
   "execution_count": 16,
   "metadata": {},
   "outputs": [
    {
     "name": "stdout",
     "output_type": "stream",
     "text": [
      "979 users processed\n",
      "\n",
      "Global metrics:\n",
      "{'modelName': 'implicit_model', 'recall@5': 0.3195703757693554, 'precision@5': 0.06391407515387107, 'f1_score@5': 0.10652345858978511, 'ndcg@5': 0.23286597852162383, 'recall@10': 0.40837180110139293, 'precision@10': 0.040837180110139294, 'f1_score@10': 0.07424941838207144, 'ndcg@10': 0.2601145417472888, 'recall@15': 0.4695286686103013, 'precision@15': 0.03130191124068675, 'f1_score@15': 0.05869108357628766, 'ndcg@15': 0.2787203405922709}\n"
     ]
    }
   ],
   "source": [
    "#cf_recommender_model = CFModel(n_latent_factors=200)\r\n",
    "cf_recommender_model = CFModel(n_latent_factors=200)\r\n",
    "cf_recommender_model.fit(readers_train)\r\n",
    "cf_global_metrics1, cf_detailed_results_df = model_evaluator.evaluate_model(cf_recommender_model, readers, readers_train, readers_test)\r\n",
    "print('\\nGlobal metrics:\\n%s' % cf_global_metrics)"
   ]
  },
  {
   "cell_type": "code",
   "execution_count": null,
   "metadata": {},
   "outputs": [],
   "source": []
  },
  {
   "cell_type": "code",
   "execution_count": 17,
   "metadata": {},
   "outputs": [],
   "source": [
    "import altair as alt"
   ]
  },
  {
   "cell_type": "code",
   "execution_count": 19,
   "metadata": {},
   "outputs": [
    {
     "data": {
      "text/html": "<div>\n<style scoped>\n    .dataframe tbody tr th:only-of-type {\n        vertical-align: middle;\n    }\n\n    .dataframe tbody tr th {\n        vertical-align: top;\n    }\n\n    .dataframe thead th {\n        text-align: right;\n    }\n</style>\n<table border=\"1\" class=\"dataframe\">\n  <thead>\n    <tr style=\"text-align: right;\">\n      <th></th>\n      <th>modelName</th>\n      <th>recall@5</th>\n      <th>precision@5</th>\n      <th>f1_score@5</th>\n      <th>ndcg@5</th>\n      <th>recall@10</th>\n      <th>precision@10</th>\n      <th>f1_score@10</th>\n      <th>ndcg@10</th>\n      <th>recall@15</th>\n      <th>precision@15</th>\n      <th>f1_score@15</th>\n      <th>ndcg@15</th>\n    </tr>\n  </thead>\n  <tbody>\n    <tr>\n      <th>0</th>\n      <td>CF_model</td>\n      <td>0.233746</td>\n      <td>0.046749</td>\n      <td>0.077915</td>\n      <td>0.168387</td>\n      <td>0.309816</td>\n      <td>0.030982</td>\n      <td>0.056330</td>\n      <td>0.190376</td>\n      <td>0.363676</td>\n      <td>0.024245</td>\n      <td>0.045459</td>\n      <td>0.205785</td>\n    </tr>\n    <tr>\n      <th>1</th>\n      <td>implicit_model</td>\n      <td>0.319570</td>\n      <td>0.063914</td>\n      <td>0.106523</td>\n      <td>0.232866</td>\n      <td>0.408372</td>\n      <td>0.040837</td>\n      <td>0.074249</td>\n      <td>0.260115</td>\n      <td>0.469529</td>\n      <td>0.031302</td>\n      <td>0.058691</td>\n      <td>0.278720</td>\n    </tr>\n  </tbody>\n</table>\n</div>",
      "text/plain": "        modelName  recall@5  precision@5  f1_score@5    ndcg@5  recall@10  \\\n0        CF_model  0.233746     0.046749    0.077915  0.168387   0.309816   \n1  implicit_model  0.319570     0.063914    0.106523  0.232866   0.408372   \n\n   precision@10  f1_score@10   ndcg@10  recall@15  precision@15  f1_score@15  \\\n0      0.030982     0.056330  0.190376   0.363676      0.024245     0.045459   \n1      0.040837     0.074249  0.260115   0.469529      0.031302     0.058691   \n\n    ndcg@15  \n0  0.205785  \n1  0.278720  "
     },
     "execution_count": 19,
     "metadata": {},
     "output_type": "execute_result"
    }
   ],
   "source": [
    "global_m = [cf_global_metrics1, cf_global_metrics]\r\n",
    "global_df = pd.DataFrame().from_dict(global_m)\r\n",
    "global_df.head()"
   ]
  },
  {
   "cell_type": "code",
   "execution_count": 32,
   "metadata": {},
   "outputs": [
    {
     "data": {
      "text/html": "\n<div id=\"altair-viz-36026d00d3f54f839c739661f2b20de6\"></div>\n<script type=\"text/javascript\">\n  (function(spec, embedOpt){\n    let outputDiv = document.currentScript.previousElementSibling;\n    if (outputDiv.id !== \"altair-viz-36026d00d3f54f839c739661f2b20de6\") {\n      outputDiv = document.getElementById(\"altair-viz-36026d00d3f54f839c739661f2b20de6\");\n    }\n    const paths = {\n      \"vega\": \"https://cdn.jsdelivr.net/npm//vega@5?noext\",\n      \"vega-lib\": \"https://cdn.jsdelivr.net/npm//vega-lib?noext\",\n      \"vega-lite\": \"https://cdn.jsdelivr.net/npm//vega-lite@4.8.1?noext\",\n      \"vega-embed\": \"https://cdn.jsdelivr.net/npm//vega-embed@6?noext\",\n    };\n\n    function loadScript(lib) {\n      return new Promise(function(resolve, reject) {\n        var s = document.createElement('script');\n        s.src = paths[lib];\n        s.async = true;\n        s.onload = () => resolve(paths[lib]);\n        s.onerror = () => reject(`Error loading script: ${paths[lib]}`);\n        document.getElementsByTagName(\"head\")[0].appendChild(s);\n      });\n    }\n\n    function showError(err) {\n      outputDiv.innerHTML = `<div class=\"error\" style=\"color:red;\">${err}</div>`;\n      throw err;\n    }\n\n    function displayChart(vegaEmbed) {\n      vegaEmbed(outputDiv, spec, embedOpt)\n        .catch(err => showError(`Javascript Error: ${err.message}<br>This usually means there's a typo in your chart specification. See the javascript console for the full traceback.`));\n    }\n\n    if(typeof define === \"function\" && define.amd) {\n      requirejs.config({paths});\n      require([\"vega-embed\"], displayChart, err => showError(`Error loading script: ${err.message}`));\n    } else if (typeof vegaEmbed === \"function\") {\n      displayChart(vegaEmbed);\n    } else {\n      loadScript(\"vega\")\n        .then(() => loadScript(\"vega-lite\"))\n        .then(() => loadScript(\"vega-embed\"))\n        .catch(showError)\n        .then(() => displayChart(vegaEmbed));\n    }\n  })({\"config\": {\"view\": {\"continuousWidth\": 400, \"continuousHeight\": 300}}, \"data\": {\"name\": \"data-121a3e53b0068a57a0efc715451f11f9\"}, \"mark\": {\"type\": \"bar\", \"width\": 50}, \"encoding\": {\"x\": {\"type\": \"ordinal\", \"field\": \"modelName\"}, \"y\": {\"type\": \"quantitative\", \"field\": \"recall@10\"}}, \"width\": 400, \"$schema\": \"https://vega.github.io/schema/vega-lite/v4.8.1.json\", \"datasets\": {\"data-121a3e53b0068a57a0efc715451f11f9\": [{\"modelName\": \"CF_model\", \"recall@5\": 0.23374595076125687, \"precision@5\": 0.04674919015225138, \"f1_score@5\": 0.07791531692041895, \"ndcg@5\": 0.16838733781641557, \"recall@10\": 0.3098161645610625, \"precision@10\": 0.03098161645610625, \"f1_score@10\": 0.056330211738375, \"ndcg@10\": 0.1903760893020859, \"recall@15\": 0.363675898931001, \"precision@15\": 0.024245059928733395, \"f1_score@15\": 0.045459487366375124, \"ndcg@15\": 0.20578522557192036}, {\"modelName\": \"implicit_model\", \"recall@5\": 0.3195703757693554, \"precision@5\": 0.06391407515387107, \"f1_score@5\": 0.10652345858978511, \"ndcg@5\": 0.23286597852162383, \"recall@10\": 0.40837180110139293, \"precision@10\": 0.040837180110139294, \"f1_score@10\": 0.07424941838207144, \"ndcg@10\": 0.2601145417472888, \"recall@15\": 0.4695286686103013, \"precision@15\": 0.03130191124068675, \"f1_score@15\": 0.05869108357628766, \"ndcg@15\": 0.2787203405922709}]}}, {\"mode\": \"vega-lite\"});\n</script>",
      "text/plain": "alt.Chart(...)"
     },
     "execution_count": 32,
     "metadata": {},
     "output_type": "execute_result"
    }
   ],
   "source": [
    "\r\n",
    "metrics_chart = alt.Chart(global_df, width=400).mark_bar(width=50).encode(\r\n",
    "    x=\"modelName:O\",\r\n",
    "    y=\"recall@10:Q\",\r\n",
    ")\r\n",
    "metrics_chart"
   ]
  },
  {
   "cell_type": "code",
   "execution_count": 9,
   "metadata": {},
   "outputs": [
    {
     "name": "stdout",
     "output_type": "stream",
     "text": [
      "979 users processed\n",
      "979 users processed\n",
      "979 users processed\n",
      "979 users processed\n",
      "979 users processed\n"
     ]
    }
   ],
   "source": [
    "grid_search_result = []\r\n",
    "for n_latent_factors in param_grid[\"num_factors\"]:\r\n",
    "    for regularization in param_grid[\"regularization\"]:\r\n",
    "        for alpha in param_grid[\"alpha\"]:\r\n",
    "            cf_recommender_model = ImplicitModel(n_latent_factors=n_latent_factors, regularization=regularization, alpha=alpha, iterations=20)\r\n",
    "            cf_recommender_model.fit(readers_train)\r\n",
    "            cf_global_metrics, cf_detailed_results_df = model_evaluator.evaluate_model(cf_recommender_model, readers, readers_train, readers_test)\r\n",
    "            grid_search_result.append({\"parameters\": {\"num_factors\": n_latent_factors, \"regularization\": regularization, \"alpha\": alpha}, \"results\": cf_global_metrics})\r\n"
   ]
  },
  {
   "cell_type": "code",
   "execution_count": 12,
   "metadata": {},
   "outputs": [],
   "source": [
    "import json\r\n",
    "\r\n",
    "with open('../output/grid_search_2d.json', 'w') as fp:\r\n",
    "    json.dump(grid_search_result, fp)"
   ]
  },
  {
   "cell_type": "code",
   "execution_count": 22,
   "metadata": {},
   "outputs": [
    {
     "data": {
      "text/html": "<div>\n<style scoped>\n    .dataframe tbody tr th:only-of-type {\n        vertical-align: middle;\n    }\n\n    .dataframe tbody tr th {\n        vertical-align: top;\n    }\n\n    .dataframe thead th {\n        text-align: right;\n    }\n</style>\n<table border=\"1\" class=\"dataframe\">\n  <thead>\n    <tr style=\"text-align: right;\">\n      <th></th>\n      <th>hits@5_count</th>\n      <th>interacted_count</th>\n      <th>recall@5</th>\n      <th>precision@5</th>\n      <th>f1_score@5</th>\n      <th>ndcg@5</th>\n      <th>_person_id</th>\n    </tr>\n  </thead>\n  <tbody>\n    <tr>\n      <th>406</th>\n      <td>5</td>\n      <td>10</td>\n      <td>0.5</td>\n      <td>0.10</td>\n      <td>0.166667</td>\n      <td>0.413093</td>\n      <td>197</td>\n    </tr>\n    <tr>\n      <th>520</th>\n      <td>4</td>\n      <td>10</td>\n      <td>0.4</td>\n      <td>0.08</td>\n      <td>0.133333</td>\n      <td>0.326186</td>\n      <td>804</td>\n    </tr>\n    <tr>\n      <th>100</th>\n      <td>2</td>\n      <td>10</td>\n      <td>0.2</td>\n      <td>0.04</td>\n      <td>0.066667</td>\n      <td>0.101778</td>\n      <td>397</td>\n    </tr>\n    <tr>\n      <th>276</th>\n      <td>2</td>\n      <td>10</td>\n      <td>0.2</td>\n      <td>0.04</td>\n      <td>0.066667</td>\n      <td>0.163093</td>\n      <td>353</td>\n    </tr>\n    <tr>\n      <th>35</th>\n      <td>2</td>\n      <td>10</td>\n      <td>0.2</td>\n      <td>0.04</td>\n      <td>0.066667</td>\n      <td>0.126186</td>\n      <td>859</td>\n    </tr>\n    <tr>\n      <th>...</th>\n      <td>...</td>\n      <td>...</td>\n      <td>...</td>\n      <td>...</td>\n      <td>...</td>\n      <td>...</td>\n      <td>...</td>\n    </tr>\n    <tr>\n      <th>877</th>\n      <td>0</td>\n      <td>1</td>\n      <td>0.0</td>\n      <td>0.00</td>\n      <td>0.000000</td>\n      <td>0.000000</td>\n      <td>240</td>\n    </tr>\n    <tr>\n      <th>730</th>\n      <td>0</td>\n      <td>1</td>\n      <td>0.0</td>\n      <td>0.00</td>\n      <td>0.000000</td>\n      <td>0.000000</td>\n      <td>293</td>\n    </tr>\n    <tr>\n      <th>335</th>\n      <td>1</td>\n      <td>1</td>\n      <td>1.0</td>\n      <td>0.20</td>\n      <td>0.333333</td>\n      <td>0.630930</td>\n      <td>477</td>\n    </tr>\n    <tr>\n      <th>698</th>\n      <td>0</td>\n      <td>1</td>\n      <td>0.0</td>\n      <td>0.00</td>\n      <td>0.000000</td>\n      <td>0.000000</td>\n      <td>18</td>\n    </tr>\n    <tr>\n      <th>979</th>\n      <td>0</td>\n      <td>1</td>\n      <td>0.0</td>\n      <td>0.00</td>\n      <td>0.000000</td>\n      <td>0.000000</td>\n      <td>371</td>\n    </tr>\n  </tbody>\n</table>\n<p>980 rows × 7 columns</p>\n</div>",
      "text/plain": "     hits@5_count  interacted_count  recall@5  precision@5  f1_score@5  \\\n406             5                10       0.5         0.10    0.166667   \n520             4                10       0.4         0.08    0.133333   \n100             2                10       0.2         0.04    0.066667   \n276             2                10       0.2         0.04    0.066667   \n35              2                10       0.2         0.04    0.066667   \n..            ...               ...       ...          ...         ...   \n877             0                 1       0.0         0.00    0.000000   \n730             0                 1       0.0         0.00    0.000000   \n335             1                 1       1.0         0.20    0.333333   \n698             0                 1       0.0         0.00    0.000000   \n979             0                 1       0.0         0.00    0.000000   \n\n       ndcg@5  _person_id  \n406  0.413093         197  \n520  0.326186         804  \n100  0.101778         397  \n276  0.163093         353  \n35   0.126186         859  \n..        ...         ...  \n877  0.000000         240  \n730  0.000000         293  \n335  0.630930         477  \n698  0.000000          18  \n979  0.000000         371  \n\n[980 rows x 7 columns]"
     },
     "execution_count": 22,
     "metadata": {},
     "output_type": "execute_result"
    }
   ],
   "source": [
    "cf_detailed_results_df"
   ]
  },
  {
   "cell_type": "code",
   "execution_count": 11,
   "metadata": {},
   "outputs": [
    {
     "name": "stdout",
     "output_type": "stream",
     "text": [
      "979 users processed\n",
      "\n",
      "Global metrics:\n",
      "{'modelName': 'CF_model', 'recall@10': 0.29857061872367996, 'precision@10': 0.029857061872367995, 'f1_score@10': 0.05428556704066908, 'ndcg@10': 0.17919520182667428}\n"
     ]
    }
   ],
   "source": [
    "cf_recommender_model = CFModel(n_latent_factors=80)\r\n",
    "cf_recommender_model.fit(readers_train)\r\n",
    "cf_global_metrics, cf_detailed_results_df = model_evaluator.evaluate_model(cf_recommender_model, readers, readers_train, readers_test)\r\n",
    "print('\\nGlobal metrics:\\n%s' % cf_global_metrics)"
   ]
  },
  {
   "cell_type": "code",
   "execution_count": null,
   "metadata": {},
   "outputs": [
    {
     "name": "stdout",
     "output_type": "stream",
     "text": [
      "modelName CF_model\n",
      "recall@1 0.1\n",
      "precision@1 0.1\n",
      "f1_score@1 0.1\n",
      "ndcg@1 0.1\n",
      "recall@2 0.14\n",
      "precision@2 0.07\n",
      "f1_score@2 0.09\n",
      "ndcg@2 0.12\n",
      "recall@3 0.18\n",
      "precision@3 0.06\n",
      "f1_score@3 0.09\n",
      "ndcg@3 0.14\n",
      "recall@4 0.21\n",
      "precision@4 0.05\n",
      "f1_score@4 0.08\n",
      "ndcg@4 0.15\n",
      "recall@5 0.23\n",
      "precision@5 0.05\n",
      "f1_score@5 0.08\n",
      "ndcg@5 0.16\n",
      "recall@6 0.25\n",
      "precision@6 0.04\n",
      "f1_score@6 0.07\n",
      "ndcg@6 0.17\n",
      "recall@7 0.26\n",
      "precision@7 0.04\n",
      "f1_score@7 0.07\n",
      "ndcg@7 0.18\n",
      "recall@8 0.28\n",
      "precision@8 0.03\n",
      "f1_score@8 0.06\n",
      "ndcg@8 0.18\n",
      "recall@9 0.29\n",
      "precision@9 0.03\n",
      "f1_score@9 0.06\n",
      "ndcg@9 0.19\n",
      "recall@10 0.31\n",
      "precision@10 0.03\n",
      "f1_score@10 0.06\n",
      "ndcg@10 0.19\n",
      "recall@11 0.32\n",
      "precision@11 0.03\n",
      "f1_score@11 0.05\n",
      "ndcg@11 0.19\n",
      "recall@12 0.33\n",
      "precision@12 0.03\n",
      "f1_score@12 0.05\n",
      "ndcg@12 0.2\n",
      "recall@13 0.34\n",
      "precision@13 0.03\n",
      "f1_score@13 0.05\n",
      "ndcg@13 0.2\n",
      "recall@14 0.35\n",
      "precision@14 0.02\n",
      "f1_score@14 0.05\n",
      "ndcg@14 0.2\n",
      "recall@15 0.36\n",
      "precision@15 0.02\n",
      "f1_score@15 0.05\n",
      "ndcg@15 0.2\n",
      "recall@16 0.37\n",
      "precision@16 0.02\n",
      "f1_score@16 0.04\n",
      "ndcg@16 0.21\n",
      "recall@17 0.37\n",
      "precision@17 0.02\n",
      "f1_score@17 0.04\n",
      "ndcg@17 0.21\n",
      "recall@18 0.38\n",
      "precision@18 0.02\n",
      "f1_score@18 0.04\n",
      "ndcg@18 0.21\n",
      "recall@19 0.39\n",
      "precision@19 0.02\n",
      "f1_score@19 0.04\n",
      "ndcg@19 0.21\n",
      "recall@20 0.39\n",
      "precision@20 0.02\n",
      "f1_score@20 0.04\n",
      "ndcg@20 0.21\n"
     ]
    }
   ],
   "source": [
    "for metric, score in cf_global_metrics.items():\r\n",
    "    if(metric == \"modelName\"):\r\n",
    "        print(metric, score)\r\n",
    "    else:\r\n",
    "        print(metric, round(score, 2))"
   ]
  },
  {
   "cell_type": "code",
   "execution_count": null,
   "metadata": {},
   "outputs": [],
   "source": [
    "global_df = pd.DataFrame().from_dict(cf_global_metrics.items())[1:].rename({0: \"metric\", 1: \"score\"}, axis =1)\r\n",
    "splitted = global_df[\"metric\"].str.split(\"@\", expand=True)\r\n",
    "global_df[\"metric\"] = splitted[0]\r\n",
    "global_df[\"k\"] = splitted[1]\r\n",
    "\r\n",
    "global_df[\"score\"] = global_df[\"score\"].astype(\"float64\")\r\n",
    "global_df[\"k\"] = global_df[\"k\"].astype(\"int64\")"
   ]
  },
  {
   "cell_type": "code",
   "execution_count": null,
   "metadata": {},
   "outputs": [],
   "source": [
    "import altair as alt\r\n",
    "\r\n",
    "metrics_chart = alt.Chart(global_df).mark_line().encode(\r\n",
    "    x=\"k:Q\",\r\n",
    "    y=\"score:Q\",\r\n",
    "    color=\"metric:N\"\r\n",
    ")\r\n",
    "metrics_chart.save(\"../output/metrics_chart.html\")"
   ]
  },
  {
   "cell_type": "code",
   "execution_count": null,
   "metadata": {},
   "outputs": [],
   "source": [
    "pivoted = global_df.pivot(index=\"k\", columns=\"metric\", values=\"score\").reset_index()\r\n",
    "\r\n",
    "precision_recall_curve = alt.Chart(pivoted).mark_line().encode(\r\n",
    "    x=\"recall:Q\",\r\n",
    "    y=\"precision:Q\"\r\n",
    ")\r\n",
    "precision_recall_curve.save(\"../output/precision_recall_curve.html\")"
   ]
  },
  {
   "cell_type": "code",
   "execution_count": null,
   "metadata": {},
   "outputs": [
    {
     "name": "stdout",
     "output_type": "stream",
     "text": [
      "0.03684176001138091\n",
      "0.2918602405247813\n",
      "0.1806010562490465\n",
      "0.05968966771760357\n"
     ]
    }
   ],
   "source": [
    "print(pivoted[\"precision\"].mean())\r\n",
    "print(pivoted[\"recall\"].mean())\r\n",
    "print(pivoted[\"ndcg\"].mean())\r\n",
    "print(pivoted[\"f1_score\"].mean())"
   ]
  },
  {
   "cell_type": "code",
   "execution_count": null,
   "metadata": {},
   "outputs": [
    {
     "data": {
      "text/html": "<div>\n<style scoped>\n    .dataframe tbody tr th:only-of-type {\n        vertical-align: middle;\n    }\n\n    .dataframe tbody tr th {\n        vertical-align: top;\n    }\n\n    .dataframe thead th {\n        text-align: right;\n    }\n</style>\n<table border=\"1\" class=\"dataframe\">\n  <thead>\n    <tr style=\"text-align: right;\">\n      <th></th>\n      <th>nzz_id</th>\n      <th>recommendation_strength</th>\n    </tr>\n  </thead>\n  <tbody>\n    <tr>\n      <th>0</th>\n      <td>ld.150557</td>\n      <td>0.978685</td>\n    </tr>\n    <tr>\n      <th>1</th>\n      <td>ld.141732</td>\n      <td>0.978677</td>\n    </tr>\n    <tr>\n      <th>2</th>\n      <td>ld.147794</td>\n      <td>0.977957</td>\n    </tr>\n    <tr>\n      <th>3</th>\n      <td>ld.152926</td>\n      <td>0.975086</td>\n    </tr>\n    <tr>\n      <th>4</th>\n      <td>ld.1293241</td>\n      <td>0.958722</td>\n    </tr>\n    <tr>\n      <th>5</th>\n      <td>ld.142670</td>\n      <td>0.951331</td>\n    </tr>\n    <tr>\n      <th>6</th>\n      <td>1.18179552</td>\n      <td>0.951331</td>\n    </tr>\n    <tr>\n      <th>7</th>\n      <td>ld.821045</td>\n      <td>0.946769</td>\n    </tr>\n    <tr>\n      <th>8</th>\n      <td>ld.153885</td>\n      <td>0.942052</td>\n    </tr>\n    <tr>\n      <th>9</th>\n      <td>ld.1085571</td>\n      <td>0.941433</td>\n    </tr>\n  </tbody>\n</table>\n</div>",
      "text/plain": "       nzz_id  recommendation_strength\n0   ld.150557                 0.978685\n1   ld.141732                 0.978677\n2   ld.147794                 0.977957\n3   ld.152926                 0.975086\n4  ld.1293241                 0.958722\n5   ld.142670                 0.951331\n6  1.18179552                 0.951331\n7   ld.821045                 0.946769\n8   ld.153885                 0.942052\n9  ld.1085571                 0.941433"
     },
     "execution_count": 7,
     "metadata": {},
     "output_type": "execute_result"
    }
   ],
   "source": [
    "cf_recommender_model.recommend(1)"
   ]
  },
  {
   "cell_type": "code",
   "execution_count": null,
   "metadata": {},
   "outputs": [
    {
     "ename": "KeyboardInterrupt",
     "evalue": "",
     "output_type": "error",
     "traceback": [
      "\u001b[1;31m---------------------------------------------------------------------------\u001b[0m",
      "\u001b[1;31mKeyboardInterrupt\u001b[0m                         Traceback (most recent call last)",
      "\u001b[1;32m<ipython-input-8-4d3e9e0a7dd4>\u001b[0m in \u001b[0;36m<module>\u001b[1;34m\u001b[0m\n\u001b[0;32m      6\u001b[0m     )\n\u001b[0;32m      7\u001b[0m \u001b[1;33m\u001b[0m\u001b[0m\n\u001b[1;32m----> 8\u001b[1;33m     \u001b[0mcf_recommender_model\u001b[0m\u001b[1;33m.\u001b[0m\u001b[0mfit\u001b[0m\u001b[1;33m(\u001b[0m\u001b[0mreaders_train\u001b[0m\u001b[1;33m)\u001b[0m\u001b[1;33m\u001b[0m\u001b[1;33m\u001b[0m\u001b[0m\n\u001b[0m\u001b[0;32m      9\u001b[0m \u001b[1;33m\u001b[0m\u001b[0m\n\u001b[0;32m     10\u001b[0m     \u001b[0mcf_global_metrics\u001b[0m\u001b[1;33m,\u001b[0m \u001b[0mcf_detailed_results_df\u001b[0m \u001b[1;33m=\u001b[0m \u001b[0mmodel_evaluator\u001b[0m\u001b[1;33m.\u001b[0m\u001b[0mevaluate_model\u001b[0m\u001b[1;33m(\u001b[0m\u001b[0mcf_recommender_model\u001b[0m\u001b[1;33m,\u001b[0m \u001b[0mreaders\u001b[0m\u001b[1;33m,\u001b[0m \u001b[0mreaders_train\u001b[0m\u001b[1;33m,\u001b[0m \u001b[0mreaders_test\u001b[0m\u001b[1;33m)\u001b[0m\u001b[1;33m\u001b[0m\u001b[1;33m\u001b[0m\u001b[0m\n",
      "\u001b[1;32mc:\\Users\\a814809\\code-projects\\python\\WPy64-3880\\projects\\RecommenderSystem\\Kamil\\code\\cf_model.py\u001b[0m in \u001b[0;36mfit\u001b[1;34m(self, users, articles)\u001b[0m\n\u001b[0;32m     25\u001b[0m         \u001b[0mreader_article_csr_matrix\u001b[0m \u001b[1;33m=\u001b[0m \u001b[0mcsr_matrix\u001b[0m\u001b[1;33m(\u001b[0m\u001b[0mreader_article_matrix\u001b[0m\u001b[1;33m)\u001b[0m\u001b[1;33m.\u001b[0m\u001b[0masfptype\u001b[0m\u001b[1;33m(\u001b[0m\u001b[1;33m)\u001b[0m\u001b[1;33m\u001b[0m\u001b[1;33m\u001b[0m\u001b[0m\n\u001b[0;32m     26\u001b[0m \u001b[1;33m\u001b[0m\u001b[0m\n\u001b[1;32m---> 27\u001b[1;33m         \u001b[0mU\u001b[0m\u001b[1;33m,\u001b[0m \u001b[0msigma\u001b[0m\u001b[1;33m,\u001b[0m \u001b[0mVt\u001b[0m \u001b[1;33m=\u001b[0m \u001b[0msvds\u001b[0m\u001b[1;33m(\u001b[0m\u001b[0mreader_article_csr_matrix\u001b[0m\u001b[1;33m,\u001b[0m \u001b[0mk\u001b[0m\u001b[1;33m=\u001b[0m\u001b[0mself\u001b[0m\u001b[1;33m.\u001b[0m\u001b[0mn_latent_factors\u001b[0m\u001b[1;33m)\u001b[0m\u001b[1;33m\u001b[0m\u001b[1;33m\u001b[0m\u001b[0m\n\u001b[0m\u001b[0;32m     28\u001b[0m         \u001b[0msigma\u001b[0m \u001b[1;33m=\u001b[0m \u001b[0mnp\u001b[0m\u001b[1;33m.\u001b[0m\u001b[0mdiag\u001b[0m\u001b[1;33m(\u001b[0m\u001b[0msigma\u001b[0m\u001b[1;33m)\u001b[0m\u001b[1;33m\u001b[0m\u001b[1;33m\u001b[0m\u001b[0m\n\u001b[0;32m     29\u001b[0m \u001b[1;33m\u001b[0m\u001b[0m\n",
      "\u001b[1;32mc:\\Users\\a814809\\code-projects\\python\\WPy64-3880\\python-3.8.8.amd64\\lib\\site-packages\\scipy\\sparse\\linalg\\eigen\\arpack\\arpack.py\u001b[0m in \u001b[0;36msvds\u001b[1;34m(A, k, ncv, tol, which, v0, maxiter, return_singular_vectors, solver)\u001b[0m\n\u001b[0;32m   1867\u001b[0m \u001b[1;33m\u001b[0m\u001b[0m\n\u001b[0;32m   1868\u001b[0m     \u001b[1;32melif\u001b[0m \u001b[0msolver\u001b[0m \u001b[1;33m==\u001b[0m \u001b[1;34m'arpack'\u001b[0m \u001b[1;32mor\u001b[0m \u001b[0msolver\u001b[0m \u001b[1;32mis\u001b[0m \u001b[1;32mNone\u001b[0m\u001b[1;33m:\u001b[0m\u001b[1;33m\u001b[0m\u001b[1;33m\u001b[0m\u001b[0m\n\u001b[1;32m-> 1869\u001b[1;33m         eigvals, eigvec = eigsh(XH_X, k=k, tol=tol ** 2, maxiter=maxiter,\n\u001b[0m\u001b[0;32m   1870\u001b[0m                                 ncv=ncv, which=which, v0=v0)\n\u001b[0;32m   1871\u001b[0m \u001b[1;33m\u001b[0m\u001b[0m\n",
      "\u001b[1;32mc:\\Users\\a814809\\code-projects\\python\\WPy64-3880\\python-3.8.8.amd64\\lib\\site-packages\\scipy\\sparse\\linalg\\eigen\\arpack\\arpack.py\u001b[0m in \u001b[0;36meigsh\u001b[1;34m(A, k, M, sigma, which, v0, ncv, maxiter, tol, return_eigenvectors, Minv, OPinv, mode)\u001b[0m\n\u001b[0;32m   1690\u001b[0m             \u001b[0mparams\u001b[0m\u001b[1;33m.\u001b[0m\u001b[0miterate\u001b[0m\u001b[1;33m(\u001b[0m\u001b[1;33m)\u001b[0m\u001b[1;33m\u001b[0m\u001b[1;33m\u001b[0m\u001b[0m\n\u001b[0;32m   1691\u001b[0m \u001b[1;33m\u001b[0m\u001b[0m\n\u001b[1;32m-> 1692\u001b[1;33m         \u001b[1;32mreturn\u001b[0m \u001b[0mparams\u001b[0m\u001b[1;33m.\u001b[0m\u001b[0mextract\u001b[0m\u001b[1;33m(\u001b[0m\u001b[0mreturn_eigenvectors\u001b[0m\u001b[1;33m)\u001b[0m\u001b[1;33m\u001b[0m\u001b[1;33m\u001b[0m\u001b[0m\n\u001b[0m\u001b[0;32m   1693\u001b[0m \u001b[1;33m\u001b[0m\u001b[0m\n\u001b[0;32m   1694\u001b[0m \u001b[1;33m\u001b[0m\u001b[0m\n",
      "\u001b[1;32mc:\\Users\\a814809\\code-projects\\python\\WPy64-3880\\python-3.8.8.amd64\\lib\\site-packages\\scipy\\sparse\\linalg\\eigen\\arpack\\arpack.py\u001b[0m in \u001b[0;36mextract\u001b[1;34m(self, return_eigenvectors)\u001b[0m\n\u001b[0;32m    577\u001b[0m         \u001b[0mhowmny\u001b[0m \u001b[1;33m=\u001b[0m \u001b[1;34m'A'\u001b[0m  \u001b[1;31m# return all eigenvectors\u001b[0m\u001b[1;33m\u001b[0m\u001b[1;33m\u001b[0m\u001b[0m\n\u001b[0;32m    578\u001b[0m         \u001b[0msselect\u001b[0m \u001b[1;33m=\u001b[0m \u001b[0mnp\u001b[0m\u001b[1;33m.\u001b[0m\u001b[0mzeros\u001b[0m\u001b[1;33m(\u001b[0m\u001b[0mself\u001b[0m\u001b[1;33m.\u001b[0m\u001b[0mncv\u001b[0m\u001b[1;33m,\u001b[0m \u001b[1;34m'int'\u001b[0m\u001b[1;33m)\u001b[0m  \u001b[1;31m# unused\u001b[0m\u001b[1;33m\u001b[0m\u001b[1;33m\u001b[0m\u001b[0m\n\u001b[1;32m--> 579\u001b[1;33m         d, z, ierr = self._arpack_extract(rvec, howmny, sselect, self.sigma,\n\u001b[0m\u001b[0;32m    580\u001b[0m                                           \u001b[0mself\u001b[0m\u001b[1;33m.\u001b[0m\u001b[0mbmat\u001b[0m\u001b[1;33m,\u001b[0m \u001b[0mself\u001b[0m\u001b[1;33m.\u001b[0m\u001b[0mwhich\u001b[0m\u001b[1;33m,\u001b[0m \u001b[0mself\u001b[0m\u001b[1;33m.\u001b[0m\u001b[0mk\u001b[0m\u001b[1;33m,\u001b[0m\u001b[1;33m\u001b[0m\u001b[1;33m\u001b[0m\u001b[0m\n\u001b[0;32m    581\u001b[0m                                           \u001b[0mself\u001b[0m\u001b[1;33m.\u001b[0m\u001b[0mtol\u001b[0m\u001b[1;33m,\u001b[0m \u001b[0mself\u001b[0m\u001b[1;33m.\u001b[0m\u001b[0mresid\u001b[0m\u001b[1;33m,\u001b[0m \u001b[0mself\u001b[0m\u001b[1;33m.\u001b[0m\u001b[0mv\u001b[0m\u001b[1;33m,\u001b[0m\u001b[1;33m\u001b[0m\u001b[1;33m\u001b[0m\u001b[0m\n",
      "\u001b[1;31mKeyboardInterrupt\u001b[0m: "
     ]
    }
   ],
   "source": [
    "cf_recommender_model = CFModel(n_latent_factors=200)\r\n",
    "bootstrap_results = []\r\n",
    "for i in range(0, 500):\r\n",
    "    readers_train, readers_test = train_test_split(\r\n",
    "        readers, stratify=readers[\"user_id\"], test_size=0.20\r\n",
    "    )\r\n",
    "\r\n",
    "    cf_recommender_model.fit(readers_train)\r\n",
    "\r\n",
    "    cf_global_metrics, cf_detailed_results_df = model_evaluator.evaluate_model(cf_recommender_model, readers, readers_train, readers_test)\r\n",
    "    bootstrap_results.append(cf_global_metrics)\r\n",
    "    print('\\nGlobal metrics:\\n%s' % cf_global_metrics)\r\n",
    "    print(f\"{i} Iteration\", end=\"\\r\", flush=True)"
   ]
  },
  {
   "cell_type": "code",
   "execution_count": null,
   "metadata": {},
   "outputs": [],
   "source": []
  },
  {
   "cell_type": "code",
   "execution_count": 6,
   "metadata": {},
   "outputs": [
    {
     "name": "stdout",
     "output_type": "stream",
     "text": [
      "999 users processed\n",
      "\n",
      "Global metrics:\n",
      "{'modelName': 'CF_model', 'recall@5': 0.23083826961048287, 'recall@10': 0.30820319511757316, 'coverage@5': 16.75, 'coverage@10': 24.86, 'personalization@5': 0.9953633633633634, 'personalization@10': 0.9925331331331332}\n"
     ]
    }
   ],
   "source": [
    "cf_recommender_model = CFModel(n_latent_factors=200)\r\n",
    "\r\n",
    "cf_recommender_model.fit(readers_train)\r\n",
    "\r\n",
    "cf_global_metrics, cf_detailed_results_df = model_evaluator.evaluate_model(cf_recommender_model, readers, readers_train, readers_test)\r\n",
    "print('\\nGlobal metrics:\\n%s' % cf_global_metrics)"
   ]
  },
  {
   "cell_type": "code",
   "execution_count": 13,
   "metadata": {},
   "outputs": [],
   "source": [
    "bootstrap_results_df = pd.DataFrame(bootstrap_results)\r\n",
    "bootstrap_results_df.head()\r\n",
    "bootstrap_results_df.to_csv(\"../data/bootstra_results.csv\", encoding=\"utf-8\", index=False)"
   ]
  },
  {
   "cell_type": "code",
   "execution_count": 12,
   "metadata": {},
   "outputs": [
    {
     "data": {
      "text/html": "<div>\n<style scoped>\n    .dataframe tbody tr th:only-of-type {\n        vertical-align: middle;\n    }\n\n    .dataframe tbody tr th {\n        vertical-align: top;\n    }\n\n    .dataframe thead th {\n        text-align: right;\n    }\n</style>\n<table border=\"1\" class=\"dataframe\">\n  <thead>\n    <tr style=\"text-align: right;\">\n      <th></th>\n      <th>modelName</th>\n      <th>k</th>\n      <th>recall@k</th>\n    </tr>\n  </thead>\n  <tbody>\n    <tr>\n      <th>0</th>\n      <td>CF_model</td>\n      <td>5</td>\n      <td>0.215940</td>\n    </tr>\n    <tr>\n      <th>1</th>\n      <td>CF_model</td>\n      <td>5</td>\n      <td>0.221325</td>\n    </tr>\n    <tr>\n      <th>2</th>\n      <td>CF_model</td>\n      <td>5</td>\n      <td>0.226530</td>\n    </tr>\n    <tr>\n      <th>3</th>\n      <td>CF_model</td>\n      <td>5</td>\n      <td>0.214324</td>\n    </tr>\n    <tr>\n      <th>4</th>\n      <td>CF_model</td>\n      <td>5</td>\n      <td>0.226351</td>\n    </tr>\n  </tbody>\n</table>\n</div>",
      "text/plain": "  modelName  k  recall@k\n0  CF_model  5  0.215940\n1  CF_model  5  0.221325\n2  CF_model  5  0.226530\n3  CF_model  5  0.214324\n4  CF_model  5  0.226351"
     },
     "execution_count": 12,
     "metadata": {},
     "output_type": "execute_result"
    }
   ],
   "source": [
    "unpivot_results = bootstrap_results_df.melt(id_vars=[\"modelName\"], var_name=\"k\", value_name=\"recall@k\")\r\n",
    "unpivot_results[\"k\"] = unpivot_results[\"k\"].str.replace(\"recall@\", \"\")\r\n",
    "unpivot_results.head()"
   ]
  },
  {
   "cell_type": "code",
   "execution_count": 11,
   "metadata": {},
   "outputs": [
    {
     "name": "stdout",
     "output_type": "stream",
     "text": [
      "recall@5| mean: 0.22 stdev: 0.0048\n",
      "recall@10| mean: 0.31 stdev: 0.0053\n"
     ]
    },
    {
     "data": {
      "image/png": "[encoded data removed]",
      "text/plain": "<Figure size 720x576 with 1 Axes>"
     },
     "metadata": {},
     "output_type": "display_data"
    }
   ],
   "source": [
    "import seaborn as sns\r\n",
    "import matplotlib.pyplot as plt\r\n",
    "sns.set_theme()\r\n",
    "\r\n",
    "plt.figure(figsize=(10, 8))\r\n",
    "ax = plt.axes()\r\n",
    "\r\n",
    "sns.histplot(unpivot_results, x=\"recall@k\", hue=\"k\", binwidth=0.002, ax=ax)\r\n",
    "ax.set_title(\"Bootstrap recall results\")\r\n",
    "\r\n",
    "mean_recall_at_5 = unpivot_results[unpivot_results[\"k\"] == \"5\"][\"recall@k\"].mean()\r\n",
    "mean_recall_at_10 = unpivot_results[unpivot_results[\"k\"] == \"10\"][\"recall@k\"].mean()\r\n",
    "\r\n",
    "stdev_recall_at_5 = unpivot_results[unpivot_results[\"k\"] == \"5\"][\"recall@k\"].std()\r\n",
    "stdev_recall_at_10 = unpivot_results[unpivot_results[\"k\"] == \"10\"][\"recall@k\"].std()\r\n",
    "\r\n",
    "print(f\"recall@5| mean: {mean_recall_at_5:.2f} stdev: {stdev_recall_at_5:.4f}\")\r\n",
    "print(f\"recall@10| mean: {mean_recall_at_10:.2f} stdev: {stdev_recall_at_10:.4f}\")"
   ]
  },
  {
   "cell_type": "code",
   "execution_count": null,
   "metadata": {},
   "outputs": [
    {
     "name": "stdout",
     "output_type": "stream",
     "text": [
      "Evaluating Collaborative Filtering (SVD Matrix Factorization) model...\n",
      "999 users processed\n",
      "\n",
      "Global metrics:\n",
      "{'modelName': 'CF_model', 'recall@5': 0.22724824986537426, 'recall@10': 0.3132292227607252}\n"
     ]
    }
   ],
   "source": [
    "\r\n",
    "cf_recommender_model = CFModel(n_latent_factors=200)\r\n",
    "cf_recommender_model.fit(readers_train)\r\n",
    "\r\n",
    "print('Evaluating Collaborative Filtering (SVD Matrix Factorization) model...')\r\n",
    "\r\n",
    "cf_global_metrics, cf_detailed_results_df = model_evaluator.evaluate_model(cf_recommender_model, readers, readers_train, readers_test)\r\n",
    "print('\\nGlobal metrics:\\n%s' % cf_global_metrics)\r\n",
    "#cf_detailed_results_df.head(10)"
   ]
  },
  {
   "cell_type": "code",
   "execution_count": 7,
   "metadata": {},
   "outputs": [
    {
     "name": "stdout",
     "output_type": "stream",
     "text": [
      "Evaluating Collaborative Filtering (SVD Matrix Factorization) model...\n",
      "999 users processed\n",
      "\n",
      "Global metrics:\n",
      "{'modelName': 'random_model', 'recall@5': 0.04900376952073236, 'recall@10': 0.09746903607969844, 'coverage@5': 44.58, 'coverage@10': 79.93, 'personalization@5': 0.9997721721721722, 'personalization@10': 0.9995373373373373}\n"
     ]
    }
   ],
   "source": [
    "articles = pd.read_csv(\"../data/articles_cleaned.csv\")\r\n",
    "random_model = RandomModel()\r\n",
    "random_model.fit(articles)\r\n",
    "\r\n",
    "print('Evaluating Collaborative Filtering (SVD Matrix Factorization) model...')\r\n",
    "cf_global_metrics, cf_detailed_results_df = model_evaluator.evaluate_model(random_model, readers, readers_train, readers_test)\r\n",
    "print('\\nGlobal metrics:\\n%s' % cf_global_metrics)\r\n",
    "#cf_detailed_results_df.head(10)"
   ]
  },
  {
   "cell_type": "code",
   "execution_count": null,
   "metadata": {},
   "outputs": [
    {
     "data": {
      "text/html": "<div>\n<style scoped>\n    .dataframe tbody tr th:only-of-type {\n        vertical-align: middle;\n    }\n\n    .dataframe tbody tr th {\n        vertical-align: top;\n    }\n\n    .dataframe thead th {\n        text-align: right;\n    }\n</style>\n<table border=\"1\" class=\"dataframe\">\n  <thead>\n    <tr style=\"text-align: right;\">\n      <th></th>\n      <th>nzz_id</th>\n      <th>recommendation_strength</th>\n    </tr>\n  </thead>\n  <tbody>\n    <tr>\n      <th>0</th>\n      <td>ld.138721</td>\n      <td>0.476928</td>\n    </tr>\n    <tr>\n      <th>1</th>\n      <td>ld.154622</td>\n      <td>0.269609</td>\n    </tr>\n    <tr>\n      <th>2</th>\n      <td>1.18219961</td>\n      <td>0.221701</td>\n    </tr>\n    <tr>\n      <th>3</th>\n      <td>ld.142462</td>\n      <td>0.215890</td>\n    </tr>\n    <tr>\n      <th>4</th>\n      <td>ld.151075</td>\n      <td>0.211742</td>\n    </tr>\n  </tbody>\n</table>\n</div>",
      "text/plain": "       nzz_id  recommendation_strength\n0   ld.138721                 0.476928\n1   ld.154622                 0.269609\n2  1.18219961                 0.221701\n3   ld.142462                 0.215890\n4   ld.151075                 0.211742"
     },
     "execution_count": 9,
     "metadata": {},
     "output_type": "execute_result"
    }
   ],
   "source": [
    "cf_recommender_model.recommend(221, topn=5).sort_values(by=[\"recommendation_strength\"], ascending=False)"
   ]
  },
  {
   "cell_type": "code",
   "execution_count": null,
   "metadata": {},
   "outputs": [
    {
     "data": {
      "text/html": "<div>\n<style scoped>\n    .dataframe tbody tr th:only-of-type {\n        vertical-align: middle;\n    }\n\n    .dataframe tbody tr th {\n        vertical-align: top;\n    }\n\n    .dataframe thead th {\n        text-align: right;\n    }\n</style>\n<table border=\"1\" class=\"dataframe\">\n  <thead>\n    <tr style=\"text-align: right;\">\n      <th></th>\n      <th>hits@5_count</th>\n      <th>hits@10_count</th>\n      <th>interacted_count</th>\n      <th>recall@5</th>\n      <th>recall@10</th>\n      <th>_person_id</th>\n    </tr>\n  </thead>\n  <tbody>\n    <tr>\n      <th>958</th>\n      <td>1</td>\n      <td>1</td>\n      <td>1</td>\n      <td>1.000000</td>\n      <td>1.0</td>\n      <td>896</td>\n    </tr>\n    <tr>\n      <th>951</th>\n      <td>1</td>\n      <td>1</td>\n      <td>1</td>\n      <td>1.000000</td>\n      <td>1.0</td>\n      <td>685</td>\n    </tr>\n    <tr>\n      <th>919</th>\n      <td>1</td>\n      <td>1</td>\n      <td>1</td>\n      <td>1.000000</td>\n      <td>1.0</td>\n      <td>167</td>\n    </tr>\n    <tr>\n      <th>902</th>\n      <td>2</td>\n      <td>3</td>\n      <td>3</td>\n      <td>0.666667</td>\n      <td>1.0</td>\n      <td>720</td>\n    </tr>\n    <tr>\n      <th>390</th>\n      <td>1</td>\n      <td>1</td>\n      <td>2</td>\n      <td>0.500000</td>\n      <td>0.5</td>\n      <td>528</td>\n    </tr>\n    <tr>\n      <th>385</th>\n      <td>1</td>\n      <td>1</td>\n      <td>2</td>\n      <td>0.500000</td>\n      <td>0.5</td>\n      <td>687</td>\n    </tr>\n    <tr>\n      <th>886</th>\n      <td>1</td>\n      <td>2</td>\n      <td>2</td>\n      <td>0.500000</td>\n      <td>1.0</td>\n      <td>321</td>\n    </tr>\n    <tr>\n      <th>967</th>\n      <td>1</td>\n      <td>1</td>\n      <td>2</td>\n      <td>0.500000</td>\n      <td>0.5</td>\n      <td>277</td>\n    </tr>\n    <tr>\n      <th>932</th>\n      <td>1</td>\n      <td>1</td>\n      <td>2</td>\n      <td>0.500000</td>\n      <td>0.5</td>\n      <td>229</td>\n    </tr>\n    <tr>\n      <th>981</th>\n      <td>1</td>\n      <td>2</td>\n      <td>2</td>\n      <td>0.500000</td>\n      <td>1.0</td>\n      <td>237</td>\n    </tr>\n    <tr>\n      <th>722</th>\n      <td>1</td>\n      <td>1</td>\n      <td>2</td>\n      <td>0.500000</td>\n      <td>0.5</td>\n      <td>694</td>\n    </tr>\n    <tr>\n      <th>984</th>\n      <td>1</td>\n      <td>1</td>\n      <td>2</td>\n      <td>0.500000</td>\n      <td>0.5</td>\n      <td>755</td>\n    </tr>\n    <tr>\n      <th>337</th>\n      <td>1</td>\n      <td>1</td>\n      <td>2</td>\n      <td>0.500000</td>\n      <td>0.5</td>\n      <td>224</td>\n    </tr>\n    <tr>\n      <th>420</th>\n      <td>2</td>\n      <td>2</td>\n      <td>4</td>\n      <td>0.500000</td>\n      <td>0.5</td>\n      <td>378</td>\n    </tr>\n    <tr>\n      <th>53</th>\n      <td>2</td>\n      <td>2</td>\n      <td>4</td>\n      <td>0.500000</td>\n      <td>0.5</td>\n      <td>286</td>\n    </tr>\n    <tr>\n      <th>694</th>\n      <td>2</td>\n      <td>2</td>\n      <td>4</td>\n      <td>0.500000</td>\n      <td>0.5</td>\n      <td>221</td>\n    </tr>\n    <tr>\n      <th>735</th>\n      <td>2</td>\n      <td>2</td>\n      <td>4</td>\n      <td>0.500000</td>\n      <td>0.5</td>\n      <td>994</td>\n    </tr>\n    <tr>\n      <th>994</th>\n      <td>1</td>\n      <td>1</td>\n      <td>2</td>\n      <td>0.500000</td>\n      <td>0.5</td>\n      <td>341</td>\n    </tr>\n    <tr>\n      <th>885</th>\n      <td>2</td>\n      <td>2</td>\n      <td>5</td>\n      <td>0.400000</td>\n      <td>0.4</td>\n      <td>981</td>\n    </tr>\n    <tr>\n      <th>24</th>\n      <td>2</td>\n      <td>2</td>\n      <td>5</td>\n      <td>0.400000</td>\n      <td>0.4</td>\n      <td>485</td>\n    </tr>\n  </tbody>\n</table>\n</div>",
      "text/plain": "     hits@5_count  hits@10_count  interacted_count  recall@5  recall@10  \\\n958             1              1                 1  1.000000        1.0   \n951             1              1                 1  1.000000        1.0   \n919             1              1                 1  1.000000        1.0   \n902             2              3                 3  0.666667        1.0   \n390             1              1                 2  0.500000        0.5   \n385             1              1                 2  0.500000        0.5   \n886             1              2                 2  0.500000        1.0   \n967             1              1                 2  0.500000        0.5   \n932             1              1                 2  0.500000        0.5   \n981             1              2                 2  0.500000        1.0   \n722             1              1                 2  0.500000        0.5   \n984             1              1                 2  0.500000        0.5   \n337             1              1                 2  0.500000        0.5   \n420             2              2                 4  0.500000        0.5   \n53              2              2                 4  0.500000        0.5   \n694             2              2                 4  0.500000        0.5   \n735             2              2                 4  0.500000        0.5   \n994             1              1                 2  0.500000        0.5   \n885             2              2                 5  0.400000        0.4   \n24              2              2                 5  0.400000        0.4   \n\n     _person_id  \n958         896  \n951         685  \n919         167  \n902         720  \n390         528  \n385         687  \n886         321  \n967         277  \n932         229  \n981         237  \n722         694  \n984         755  \n337         224  \n420         378  \n53          286  \n694         221  \n735         994  \n994         341  \n885         981  \n24          485  "
     },
     "execution_count": 10,
     "metadata": {},
     "output_type": "execute_result"
    }
   ],
   "source": [
    "cf_detailed_results_df.sort_values(by=[\"recall@5\"], ascending=False).head(20)"
   ]
  },
  {
   "cell_type": "code",
   "execution_count": null,
   "metadata": {},
   "outputs": [
    {
     "data": {
      "text/html": "<div>\n<style scoped>\n    .dataframe tbody tr th:only-of-type {\n        vertical-align: middle;\n    }\n\n    .dataframe tbody tr th {\n        vertical-align: top;\n    }\n\n    .dataframe thead th {\n        text-align: right;\n    }\n</style>\n<table border=\"1\" class=\"dataframe\">\n  <thead>\n    <tr style=\"text-align: right;\">\n      <th></th>\n      <th>nzz_id</th>\n      <th>recommendation_strength</th>\n    </tr>\n  </thead>\n  <tbody>\n    <tr>\n      <th>0</th>\n      <td>1.18108994</td>\n      <td>0.749262</td>\n    </tr>\n    <tr>\n      <th>1</th>\n      <td>ld.137200</td>\n      <td>0.504214</td>\n    </tr>\n    <tr>\n      <th>2</th>\n      <td>1.18097718</td>\n      <td>0.224044</td>\n    </tr>\n  </tbody>\n</table>\n</div>",
      "text/plain": "       nzz_id  recommendation_strength\n0  1.18108994                 0.749262\n1   ld.137200                 0.504214\n2  1.18097718                 0.224044"
     },
     "execution_count": 11,
     "metadata": {},
     "output_type": "execute_result"
    }
   ],
   "source": [
    "recommended_items = cf_recommender_model.recommend(17)\n",
    "\n",
    "recommended_items.head(3)"
   ]
  },
  {
   "cell_type": "code",
   "execution_count": null,
   "metadata": {},
   "outputs": [
    {
     "data": {
      "text/html": "<div>\n<style scoped>\n    .dataframe tbody tr th:only-of-type {\n        vertical-align: middle;\n    }\n\n    .dataframe tbody tr th {\n        vertical-align: top;\n    }\n\n    .dataframe thead th {\n        text-align: right;\n    }\n</style>\n<table border=\"1\" class=\"dataframe\">\n  <thead>\n    <tr style=\"text-align: right;\">\n      <th></th>\n      <th>nzz_id</th>\n      <th>author</th>\n      <th>catchline</th>\n      <th>department</th>\n      <th>lead_text</th>\n      <th>pub_date</th>\n      <th>title</th>\n      <th>paragraph</th>\n    </tr>\n  </thead>\n  <tbody>\n    <tr>\n      <th>1232</th>\n      <td>1.17334814</td>\n      <td>Unknown</td>\n      <td>100 Jahre Jungfraubahn</td>\n      <td>Mobilität</td>\n      <td>Am 1. August 1912 wurde die Jungfraubahn in Be...</td>\n      <td>2017-04-11 13:57:27.958</td>\n      <td>100 Jahre Jungfraubahn</td>\n      <td>NaN</td>\n    </tr>\n    <tr>\n      <th>2098</th>\n      <td>ld.150839</td>\n      <td>Franziska Engelhardt</td>\n      <td>Was heute wichtig ist</td>\n      <td>Briefing</td>\n      <td>Türkei kritisiert den «Blick» / Einigungskonfe...</td>\n      <td>2017-03-13 19:15:00.0</td>\n      <td>Was heute wichtig ist</td>\n      <td>Türkei kritisiert den «Blick» / Einigungskonfe...</td>\n    </tr>\n    <tr>\n      <th>2820</th>\n      <td>1.18097718</td>\n      <td>Unknown</td>\n      <td>«Overdrive: L. A. Constructs the Future»</td>\n      <td>Feuilleton</td>\n      <td>Los Angeles ist ein gerne zitiertes Beispiel i...</td>\n      <td>2017-04-11 13:59:41.131</td>\n      <td>«Overdrive: L. A. Constructs the Future»</td>\n      <td>NaN</td>\n    </tr>\n    <tr>\n      <th>3047</th>\n      <td>ld.143506</td>\n      <td>Valerie Zaslawski, Bern</td>\n      <td>Tages-Massentourismus</td>\n      <td>Schweiz</td>\n      <td>Nicht alle haben ihre Freude an den flüchtigen...</td>\n      <td>2017-02-08 09:00:00.0</td>\n      <td>Er kam, sah –xa0und verschwand</td>\n      <td>Nicht alle haben ihre Freude an den flüchtigen...</td>\n    </tr>\n    <tr>\n      <th>4129</th>\n      <td>ld.150490</td>\n      <td>Unknown</td>\n      <td>Ölpreis erholt sich</td>\n      <td>Finanzen</td>\n      <td>Der Ölpreis zeigt sich derzeit sehr volatil un...</td>\n      <td>2017-05-15 06:50:00.0</td>\n      <td>Saudiarabien und Russland kämpfen gemeinsam ge...</td>\n      <td>cts./tsf.  (dpa/Reuters) · Der Erdölmarkt sche...</td>\n    </tr>\n    <tr>\n      <th>5249</th>\n      <td>ld.150923</td>\n      <td>Peter Keller</td>\n      <td>Die Frage der Woche</td>\n      <td>Gesellschaft</td>\n      <td>T. Z. aus R. hat kürzlich zwei Weine aus dem A...</td>\n      <td>2017-03-14 04:30:00.0</td>\n      <td>Werden die Weine aus der Region St. Gallen unt...</td>\n      <td>T. Z. aus R. hat kürzlich zwei Weine aus dem A...</td>\n    </tr>\n    <tr>\n      <th>7440</th>\n      <td>1.18108994</td>\n      <td>Unknown</td>\n      <td>Impressionen aus Tessin und Graubünden</td>\n      <td>Tessin</td>\n      <td>Die Kantone Graubünden und Tessin (Gastkanton ...</td>\n      <td>2017-04-11 13:59:48.182</td>\n      <td>Impressionen aus Tessin und Graubünden</td>\n      <td>NaN</td>\n    </tr>\n    <tr>\n      <th>9719</th>\n      <td>ld.147305</td>\n      <td>Unknown</td>\n      <td>Arbeitspendler</td>\n      <td>Schweiz</td>\n      <td>Die Schweiz bleibt ein Magnet für Arbeitspendl...</td>\n      <td>2017-02-23 10:29:45.0</td>\n      <td>Fast 320'000 Grenzgänger arbeiten in der Schweiz</td>\n      <td>Die Schweiz bleibt ein Magnet für Arbeitspendl...</td>\n    </tr>\n    <tr>\n      <th>15027</th>\n      <td>ld.138132</td>\n      <td>Nina Fargahi</td>\n      <td>Was heute wichtig ist</td>\n      <td>Briefing</td>\n      <td>Tote nach Explosion in Izmir / Serbien will Ha...</td>\n      <td>2017-01-05 05:01:52.0</td>\n      <td>Was heute wichtig ist</td>\n      <td>Tote nach Explosion in Izmir / Serbien will Ha...</td>\n    </tr>\n    <tr>\n      <th>18907</th>\n      <td>ld.137200</td>\n      <td>Unknown</td>\n      <td>Ein letzter Blick zurück</td>\n      <td>Jahresrückblick 2016</td>\n      <td>Die grossen Themen in der Bilanz, die besten G...</td>\n      <td>2017-01-02 04:30:00.0</td>\n      <td>Der grosse NZZ-Jahresrückblick</td>\n      <td>NaN</td>\n    </tr>\n  </tbody>\n</table>\n</div>",
      "text/plain": "           nzz_id                   author  \\\n1232   1.17334814                  Unknown   \n2098    ld.150839     Franziska Engelhardt   \n2820   1.18097718                  Unknown   \n3047    ld.143506  Valerie Zaslawski, Bern   \n4129    ld.150490                  Unknown   \n5249    ld.150923             Peter Keller   \n7440   1.18108994                  Unknown   \n9719    ld.147305                  Unknown   \n15027   ld.138132             Nina Fargahi   \n18907   ld.137200                  Unknown   \n\n                                      catchline            department  \\\n1232                     100 Jahre Jungfraubahn             Mobilität   \n2098                      Was heute wichtig ist              Briefing   \n2820   «Overdrive: L. A. Constructs the Future»            Feuilleton   \n3047                      Tages-Massentourismus               Schweiz   \n4129                        Ölpreis erholt sich              Finanzen   \n5249                        Die Frage der Woche          Gesellschaft   \n7440     Impressionen aus Tessin und Graubünden                Tessin   \n9719                             Arbeitspendler               Schweiz   \n15027                     Was heute wichtig ist              Briefing   \n18907                  Ein letzter Blick zurück  Jahresrückblick 2016   \n\n                                               lead_text  \\\n1232   Am 1. August 1912 wurde die Jungfraubahn in Be...   \n2098   Türkei kritisiert den «Blick» / Einigungskonfe...   \n2820   Los Angeles ist ein gerne zitiertes Beispiel i...   \n3047   Nicht alle haben ihre Freude an den flüchtigen...   \n4129   Der Ölpreis zeigt sich derzeit sehr volatil un...   \n5249   T. Z. aus R. hat kürzlich zwei Weine aus dem A...   \n7440   Die Kantone Graubünden und Tessin (Gastkanton ...   \n9719   Die Schweiz bleibt ein Magnet für Arbeitspendl...   \n15027  Tote nach Explosion in Izmir / Serbien will Ha...   \n18907  Die grossen Themen in der Bilanz, die besten G...   \n\n                      pub_date  \\\n1232   2017-04-11 13:57:27.958   \n2098     2017-03-13 19:15:00.0   \n2820   2017-04-11 13:59:41.131   \n3047     2017-02-08 09:00:00.0   \n4129     2017-05-15 06:50:00.0   \n5249     2017-03-14 04:30:00.0   \n7440   2017-04-11 13:59:48.182   \n9719     2017-02-23 10:29:45.0   \n15027    2017-01-05 05:01:52.0   \n18907    2017-01-02 04:30:00.0   \n\n                                                   title  \\\n1232                              100 Jahre Jungfraubahn   \n2098                               Was heute wichtig ist   \n2820            «Overdrive: L. A. Constructs the Future»   \n3047                      Er kam, sah –xa0und verschwand   \n4129   Saudiarabien und Russland kämpfen gemeinsam ge...   \n5249   Werden die Weine aus der Region St. Gallen unt...   \n7440              Impressionen aus Tessin und Graubünden   \n9719    Fast 320'000 Grenzgänger arbeiten in der Schweiz   \n15027                              Was heute wichtig ist   \n18907                     Der grosse NZZ-Jahresrückblick   \n\n                                               paragraph  \n1232                                                 NaN  \n2098   Türkei kritisiert den «Blick» / Einigungskonfe...  \n2820                                                 NaN  \n3047   Nicht alle haben ihre Freude an den flüchtigen...  \n4129   cts./tsf.  (dpa/Reuters) · Der Erdölmarkt sche...  \n5249   T. Z. aus R. hat kürzlich zwei Weine aus dem A...  \n7440                                                 NaN  \n9719   Die Schweiz bleibt ein Magnet für Arbeitspendl...  \n15027  Tote nach Explosion in Izmir / Serbien will Ha...  \n18907                                                NaN  "
     },
     "execution_count": 12,
     "metadata": {},
     "output_type": "execute_result"
    }
   ],
   "source": [
    "articles = pd.read_csv(\"../data/articles_cleaned.csv\")\n",
    "articles = articles[articles[\"nzz_id\"].isin(recommended_items[\"nzz_id\"])]\n",
    "articles"
   ]
  },
  {
   "cell_type": "markdown",
   "metadata": {},
   "source": [
    "## Parameter tuning"
   ]
  },
  {
   "cell_type": "code",
   "execution_count": null,
   "metadata": {},
   "outputs": [],
   "source": [
    "#n_latent_factors_list = range(5, 100, 5)\n",
    "#metrics = []\n",
    "#\n",
    "#for n_latent_factors in n_latent_factors_list:\n",
    "#    recommender = CFModel(n_latent_factors=n_latent_factors)\n",
    "#    recommender.fit(readers_train)\n",
    "#    cf_global_metrics, cf_detailed_results_df = model_evaluator.evaluate_model(recommender)\n",
    "#    metrics.append({\"n_latent_factors\": n_latent_factors, \"metrics\": cf_global_metrics})"
   ]
  },
  {
   "cell_type": "code",
   "execution_count": null,
   "metadata": {},
   "outputs": [],
   "source": [
    "#for metric in metrics:\r\n",
    "#    print(metric[\"n_latent_factors\"], metric[\"metrics\"])"
   ]
  },
  {
   "cell_type": "code",
   "execution_count": null,
   "metadata": {},
   "outputs": [],
   "source": [
    "def get_coverage(predicted, catalog):\n",
    "    predicted_flattened = [p for sublist in predicted for p in sublist]\n",
    "    unique_predictions = len(set(predicted_flattened))\n",
    "    prediction_coverage = round(unique_predictions/(len(catalog)* 1.0)*100,2)\n",
    "    return prediction_coverage"
   ]
  },
  {
   "cell_type": "code",
   "execution_count": null,
   "metadata": {},
   "outputs": [],
   "source": [
    "import scipy.sparse as sp\n",
    "from sklearn.metrics.pairwise import cosine_similarity\n",
    "def personalization(predicted):\n",
    "    \"\"\"\n",
    "    Personalization measures recommendation similarity across users.\n",
    "    A high score indicates good personalization (user's lists of recommendations are different).\n",
    "    A low score indicates poor personalization (user's lists of recommendations are very similar).\n",
    "    A model is \"personalizing\" well if the set of recommendations for each user is different.\n",
    "    Parameters:\n",
    "    ----------\n",
    "    predicted : a list of lists\n",
    "        Ordered predictions\n",
    "        example: [['X', 'Y', 'Z'], ['X', 'Y', 'Z']]\n",
    "    Returns:\n",
    "    -------\n",
    "        The personalization score for all recommendations.\n",
    "    \"\"\"\n",
    "\n",
    "    def make_rec_matrix(predicted):\n",
    "        df = pd.DataFrame(data=predicted).reset_index().melt(\n",
    "            id_vars='index', value_name='item',\n",
    "        )\n",
    "        df = df[['index', 'item']].pivot(index='index', columns='item', values='item')\n",
    "        df = pd.notna(df)*1\n",
    "        rec_matrix = sp.csr_matrix(df.values)\n",
    "        return rec_matrix\n",
    "\n",
    "    #create matrix for recommendations\n",
    "    predicted = np.array(predicted)\n",
    "    rec_matrix_sparse = make_rec_matrix(predicted)\n",
    "\n",
    "    #calculate similarity for every user's recommendation list\n",
    "    similarity = cosine_similarity(X=rec_matrix_sparse, dense_output=False)\n",
    "\n",
    "    #get indicies for upper right triangle w/o diagonal\n",
    "    upper_right = np.triu_indices(similarity.shape[0], k=1)\n",
    "\n",
    "    #calculate average similarity\n",
    "    personalization = np.mean(similarity[upper_right])\n",
    "    return 1-personalization"
   ]
  },
  {
   "cell_type": "code",
   "execution_count": null,
   "metadata": {},
   "outputs": [],
   "source": [
    "def get_items_interacted(person_id, interactions_df):\r\n",
    "    # Get the user's data and merge in the movie information.\r\n",
    "    interacted_items = interactions_df.loc[person_id][\"nzz_id\"]\r\n",
    "    return set(\r\n",
    "        interacted_items\r\n",
    "        if type(interacted_items) == pd.Series\r\n",
    "        else [interacted_items]\r\n",
    "    )"
   ]
  },
  {
   "cell_type": "code",
   "execution_count": null,
   "metadata": {},
   "outputs": [],
   "source": [
    "interactions_full_indexed_df = readers.set_index(\"user_id\")\r\n",
    "interactions_train_indexed_df = readers_train.set_index(\"user_id\")\r\n",
    "interactions_test_indexed_df = readers_test.set_index(\"user_id\")"
   ]
  },
  {
   "cell_type": "code",
   "execution_count": null,
   "metadata": {},
   "outputs": [],
   "source": [
    "\r\n",
    "# Coverage evaluation\r\n",
    "#TODO: Przenieść coverage i personalization do model evaluator\r\n",
    "def evaluate_coverage_personalization(model, topn=5):\r\n",
    "    all_recs = []\r\n",
    "    for idx, person_id in enumerate(list(readers_train[\"user_id\"].unique().tolist())):\r\n",
    "            person_recs_df = model.recommend(person_id, articles_to_ignore=get_items_interacted(person_id, interactions_train_indexed_df), topn=topn)\r\n",
    "            all_recs.append(person_recs_df[\"nzz_id\"].values)\r\n",
    "\r\n",
    "    coverage_result = get_coverage(all_recs, interactions_train_indexed_df[\"nzz_id\"].unique())\r\n",
    "    personalization_result = personalization(all_recs)\r\n",
    "    \r\n",
    "    \r\n",
    "\r\n",
    "    return coverage_result, personalization_result\r\n",
    "\r\n"
   ]
  },
  {
   "cell_type": "code",
   "execution_count": null,
   "metadata": {},
   "outputs": [
    {
     "name": "stdout",
     "output_type": "stream",
     "text": [
      "Model: CF_model pokrywa: 16.58% artykułów\n",
      "Model: CF_model personalizacja: 0.995352952952953\n"
     ]
    }
   ],
   "source": [
    "evaluate_coverage(cf_recommender_model, topn=5)\r\n"
   ]
  },
  {
   "cell_type": "code",
   "execution_count": null,
   "metadata": {},
   "outputs": [],
   "source": []
  }
 ],
 "metadata": {
  "kernelspec": {
   "display_name": "Python 3.8.8 64-bit ('recomm-env': conda)",
   "name": "python388jvsc74a57bd0ac47599decf7b54cae2bcc78531a5e0ce46143db05e872c37551ade81ca42687"
  },
  "language_info": {
   "codemirror_mode": {
    "name": "ipython",
    "version": 3
   },
   "file_extension": ".py",
   "mimetype": "text/x-python",
   "name": "python",
   "nbconvert_exporter": "python",
   "pygments_lexer": "ipython3",
   "version": "3.8.8"
  },
  "orig_nbformat": 2
 },
 "nbformat": 4,
 "nbformat_minor": 2
}