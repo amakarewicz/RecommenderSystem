{
 "metadata": {
  "language_info": {
   "codemirror_mode": {
    "name": "ipython",
    "version": 3
   },
   "file_extension": ".py",
   "mimetype": "text/x-python",
   "name": "python",
   "nbconvert_exporter": "python",
   "pygments_lexer": "ipython3",
   "version": "3.8.8"
  },
  "orig_nbformat": 2,
  "kernelspec": {
   "name": "python388jvsc74a57bd0686f23405e2a4ac53f16a9301bfd24c8a524f3e91072c4c8e17ee124502b094e",
   "display_name": "Python 3.8.8 64-bit"
  }
 },
 "nbformat": 4,
 "nbformat_minor": 2,
 "cells": [
  {
   "cell_type": "code",
   "execution_count": 1,
   "metadata": {},
   "outputs": [],
   "source": [
    "import pandas as pd\n",
    "import numpy as np\n",
    "import random\n"
   ]
  },
  {
   "cell_type": "code",
   "execution_count": 2,
   "metadata": {},
   "outputs": [
    {
     "output_type": "execute_result",
     "data": {
      "text/plain": [
       "   user_id      nzz_id\n",
       "0        1   ld.154103\n",
       "1        1   ld.142559\n",
       "2        1  1.18331199\n",
       "3        1   ld.144819\n",
       "4        1  ld.1293110"
      ],
      "text/html": "<div>\n<style scoped>\n    .dataframe tbody tr th:only-of-type {\n        vertical-align: middle;\n    }\n\n    .dataframe tbody tr th {\n        vertical-align: top;\n    }\n\n    .dataframe thead th {\n        text-align: right;\n    }\n</style>\n<table border=\"1\" class=\"dataframe\">\n  <thead>\n    <tr style=\"text-align: right;\">\n      <th></th>\n      <th>user_id</th>\n      <th>nzz_id</th>\n    </tr>\n  </thead>\n  <tbody>\n    <tr>\n      <th>0</th>\n      <td>1</td>\n      <td>ld.154103</td>\n    </tr>\n    <tr>\n      <th>1</th>\n      <td>1</td>\n      <td>ld.142559</td>\n    </tr>\n    <tr>\n      <th>2</th>\n      <td>1</td>\n      <td>1.18331199</td>\n    </tr>\n    <tr>\n      <th>3</th>\n      <td>1</td>\n      <td>ld.144819</td>\n    </tr>\n    <tr>\n      <th>4</th>\n      <td>1</td>\n      <td>ld.1293110</td>\n    </tr>\n  </tbody>\n</table>\n</div>"
     },
     "metadata": {},
     "execution_count": 2
    }
   ],
   "source": [
    "readers = pd.read_csv(\"../data/readers.csv\")\n",
    "readers = readers.rename(columns={\"id\":\"user_id\", \"art_id\":\"nzz_id\"})\n",
    "readers.head()"
   ]
  },
  {
   "cell_type": "code",
   "execution_count": 3,
   "metadata": {},
   "outputs": [],
   "source": [
    "read_counts = readers[\"user_id\"].value_counts(sort=True)\n",
    "read_counts = read_counts.rename_axis(\"user_id\").reset_index(name=\"read_count\")\n",
    "\n",
    "# Biorę pod uwagę tylko użytkowników, którzy przeczytali minimum 5 artykułów\n",
    "min_read_count = 3\n",
    "read_counts = read_counts[read_counts[\"read_count\"] > min_read_count]\n",
    "\n",
    "readers = readers[readers[\"user_id\"].isin(read_counts[\"user_id\"])]"
   ]
  },
  {
   "cell_type": "code",
   "execution_count": 4,
   "metadata": {},
   "outputs": [
    {
     "output_type": "stream",
     "name": "stdout",
     "text": [
      "Train set size 22284\nTest set size 5571\n"
     ]
    }
   ],
   "source": [
    "# Train/Test split\n",
    "from sklearn.model_selection import train_test_split\n",
    "\n",
    "readers_train, readers_test = train_test_split(readers,\n",
    "                                   stratify=readers[\"user_id\"], \n",
    "                                   test_size=0.20,\n",
    "                                   random_state=123)\n",
    "\n",
    "print(f\"Train set size {len(readers_train)}\")\n",
    "print(f\"Test set size {len(readers_test)}\")"
   ]
  },
  {
   "cell_type": "code",
   "execution_count": 5,
   "metadata": {},
   "outputs": [],
   "source": [
    "import sys\n",
    "sys.path.append('../code')\n",
    "from cf_model import CFModel\n"
   ]
  },
  {
   "cell_type": "code",
   "execution_count": 9,
   "metadata": {},
   "outputs": [],
   "source": [
    "from model_evaluator import ModelEvaluator\n",
    "model_evaluator = ModelEvaluator()"
   ]
  },
  {
   "cell_type": "code",
   "execution_count": 7,
   "metadata": {},
   "outputs": [],
   "source": [
    "from random_model import RandomModel"
   ]
  },
  {
   "cell_type": "code",
   "execution_count": 10,
   "metadata": {},
   "outputs": [],
   "source": [
    "\n",
    "cf_recommender_model = CFModel(n_latent_factors=100)\n",
    "cf_recommender_model.fit(readers_train)"
   ]
  },
  {
   "cell_type": "code",
   "execution_count": 11,
   "metadata": {},
   "outputs": [
    {
     "output_type": "stream",
     "name": "stdout",
     "text": [
      "Evaluating Collaborative Filtering (SVD Matrix Factorization) model...\n",
      "999 users processed\n",
      "eval time 0:00:26.820241\n",
      "\n",
      "Global metrics:\n",
      "{'modelName': 'CF_model', 'recall@5': 0.21881170346436907, 'recall@10': 0.29204810626458444}\n"
     ]
    },
    {
     "output_type": "execute_result",
     "data": {
      "text/plain": [
       "     hits@5_count  hits@10_count  interacted_count  recall@5  recall@10  \\\n",
       "358             1              1                10       0.1        0.1   \n",
       "721             2              2                10       0.2        0.2   \n",
       "510             0              2                10       0.0        0.2   \n",
       "86              0              1                10       0.0        0.1   \n",
       "484             0              0                10       0.0        0.0   \n",
       "472             1              2                10       0.1        0.2   \n",
       "259             1              2                10       0.1        0.2   \n",
       "264             1              3                10       0.1        0.3   \n",
       "797             1              2                10       0.1        0.2   \n",
       "276             0              1                10       0.0        0.1   \n",
       "\n",
       "     _person_id  \n",
       "358         907  \n",
       "721         938  \n",
       "510          64  \n",
       "86          887  \n",
       "484         397  \n",
       "472         218  \n",
       "259         273  \n",
       "264         803  \n",
       "797         865  \n",
       "276         443  "
      ],
      "text/html": "<div>\n<style scoped>\n    .dataframe tbody tr th:only-of-type {\n        vertical-align: middle;\n    }\n\n    .dataframe tbody tr th {\n        vertical-align: top;\n    }\n\n    .dataframe thead th {\n        text-align: right;\n    }\n</style>\n<table border=\"1\" class=\"dataframe\">\n  <thead>\n    <tr style=\"text-align: right;\">\n      <th></th>\n      <th>hits@5_count</th>\n      <th>hits@10_count</th>\n      <th>interacted_count</th>\n      <th>recall@5</th>\n      <th>recall@10</th>\n      <th>_person_id</th>\n    </tr>\n  </thead>\n  <tbody>\n    <tr>\n      <th>358</th>\n      <td>1</td>\n      <td>1</td>\n      <td>10</td>\n      <td>0.1</td>\n      <td>0.1</td>\n      <td>907</td>\n    </tr>\n    <tr>\n      <th>721</th>\n      <td>2</td>\n      <td>2</td>\n      <td>10</td>\n      <td>0.2</td>\n      <td>0.2</td>\n      <td>938</td>\n    </tr>\n    <tr>\n      <th>510</th>\n      <td>0</td>\n      <td>2</td>\n      <td>10</td>\n      <td>0.0</td>\n      <td>0.2</td>\n      <td>64</td>\n    </tr>\n    <tr>\n      <th>86</th>\n      <td>0</td>\n      <td>1</td>\n      <td>10</td>\n      <td>0.0</td>\n      <td>0.1</td>\n      <td>887</td>\n    </tr>\n    <tr>\n      <th>484</th>\n      <td>0</td>\n      <td>0</td>\n      <td>10</td>\n      <td>0.0</td>\n      <td>0.0</td>\n      <td>397</td>\n    </tr>\n    <tr>\n      <th>472</th>\n      <td>1</td>\n      <td>2</td>\n      <td>10</td>\n      <td>0.1</td>\n      <td>0.2</td>\n      <td>218</td>\n    </tr>\n    <tr>\n      <th>259</th>\n      <td>1</td>\n      <td>2</td>\n      <td>10</td>\n      <td>0.1</td>\n      <td>0.2</td>\n      <td>273</td>\n    </tr>\n    <tr>\n      <th>264</th>\n      <td>1</td>\n      <td>3</td>\n      <td>10</td>\n      <td>0.1</td>\n      <td>0.3</td>\n      <td>803</td>\n    </tr>\n    <tr>\n      <th>797</th>\n      <td>1</td>\n      <td>2</td>\n      <td>10</td>\n      <td>0.1</td>\n      <td>0.2</td>\n      <td>865</td>\n    </tr>\n    <tr>\n      <th>276</th>\n      <td>0</td>\n      <td>1</td>\n      <td>10</td>\n      <td>0.0</td>\n      <td>0.1</td>\n      <td>443</td>\n    </tr>\n  </tbody>\n</table>\n</div>"
     },
     "metadata": {},
     "execution_count": 11
    }
   ],
   "source": [
    "\n",
    "from datetime import datetime\n",
    "print('Evaluating Collaborative Filtering (SVD Matrix Factorization) model...')\n",
    "start = datetime.now()\n",
    "cf_global_metrics, cf_detailed_results_df = model_evaluator.evaluate_model(cf_recommender_model, readers, readers_train, readers_test)\n",
    "end = datetime.now()\n",
    "print(f\"eval time {end - start}\")\n",
    "print('\\nGlobal metrics:\\n%s' % cf_global_metrics)\n",
    "cf_detailed_results_df.head(10)"
   ]
  },
  {
   "cell_type": "code",
   "execution_count": 16,
   "metadata": {},
   "outputs": [
    {
     "output_type": "stream",
     "name": "stdout",
     "text": [
      "Evaluating Collaborative Filtering (SVD Matrix Factorization) model...\n",
      "999 users processed\n",
      "eval time 0:01:00.230484\n",
      "\n",
      "Global metrics:\n",
      "{'modelName': 'random_model', 'recall@5': 0.04792676359719979, 'recall@10': 0.09262250942380183}\n"
     ]
    },
    {
     "output_type": "execute_result",
     "data": {
      "text/plain": [
       "     hits@5_count  hits@10_count  interacted_count  recall@5  recall@10  \\\n",
       "358             0              0                10       0.0        0.0   \n",
       "721             0              1                10       0.0        0.1   \n",
       "510             0              2                10       0.0        0.2   \n",
       "86              0              0                10       0.0        0.0   \n",
       "484             0              0                10       0.0        0.0   \n",
       "472             0              0                10       0.0        0.0   \n",
       "259             0              0                10       0.0        0.0   \n",
       "264             0              1                10       0.0        0.1   \n",
       "797             0              0                10       0.0        0.0   \n",
       "276             0              0                10       0.0        0.0   \n",
       "\n",
       "     _person_id  \n",
       "358         907  \n",
       "721         938  \n",
       "510          64  \n",
       "86          887  \n",
       "484         397  \n",
       "472         218  \n",
       "259         273  \n",
       "264         803  \n",
       "797         865  \n",
       "276         443  "
      ],
      "text/html": "<div>\n<style scoped>\n    .dataframe tbody tr th:only-of-type {\n        vertical-align: middle;\n    }\n\n    .dataframe tbody tr th {\n        vertical-align: top;\n    }\n\n    .dataframe thead th {\n        text-align: right;\n    }\n</style>\n<table border=\"1\" class=\"dataframe\">\n  <thead>\n    <tr style=\"text-align: right;\">\n      <th></th>\n      <th>hits@5_count</th>\n      <th>hits@10_count</th>\n      <th>interacted_count</th>\n      <th>recall@5</th>\n      <th>recall@10</th>\n      <th>_person_id</th>\n    </tr>\n  </thead>\n  <tbody>\n    <tr>\n      <th>358</th>\n      <td>0</td>\n      <td>0</td>\n      <td>10</td>\n      <td>0.0</td>\n      <td>0.0</td>\n      <td>907</td>\n    </tr>\n    <tr>\n      <th>721</th>\n      <td>0</td>\n      <td>1</td>\n      <td>10</td>\n      <td>0.0</td>\n      <td>0.1</td>\n      <td>938</td>\n    </tr>\n    <tr>\n      <th>510</th>\n      <td>0</td>\n      <td>2</td>\n      <td>10</td>\n      <td>0.0</td>\n      <td>0.2</td>\n      <td>64</td>\n    </tr>\n    <tr>\n      <th>86</th>\n      <td>0</td>\n      <td>0</td>\n      <td>10</td>\n      <td>0.0</td>\n      <td>0.0</td>\n      <td>887</td>\n    </tr>\n    <tr>\n      <th>484</th>\n      <td>0</td>\n      <td>0</td>\n      <td>10</td>\n      <td>0.0</td>\n      <td>0.0</td>\n      <td>397</td>\n    </tr>\n    <tr>\n      <th>472</th>\n      <td>0</td>\n      <td>0</td>\n      <td>10</td>\n      <td>0.0</td>\n      <td>0.0</td>\n      <td>218</td>\n    </tr>\n    <tr>\n      <th>259</th>\n      <td>0</td>\n      <td>0</td>\n      <td>10</td>\n      <td>0.0</td>\n      <td>0.0</td>\n      <td>273</td>\n    </tr>\n    <tr>\n      <th>264</th>\n      <td>0</td>\n      <td>1</td>\n      <td>10</td>\n      <td>0.0</td>\n      <td>0.1</td>\n      <td>803</td>\n    </tr>\n    <tr>\n      <th>797</th>\n      <td>0</td>\n      <td>0</td>\n      <td>10</td>\n      <td>0.0</td>\n      <td>0.0</td>\n      <td>865</td>\n    </tr>\n    <tr>\n      <th>276</th>\n      <td>0</td>\n      <td>0</td>\n      <td>10</td>\n      <td>0.0</td>\n      <td>0.0</td>\n      <td>443</td>\n    </tr>\n  </tbody>\n</table>\n</div>"
     },
     "metadata": {},
     "execution_count": 16
    }
   ],
   "source": [
    "articles = pd.read_csv(\"../data/articles_cleaned.csv\")\n",
    "random_model = RandomModel()\n",
    "random_model.fit(articles)\n",
    "\n",
    "from datetime import datetime\n",
    "print('Evaluating Collaborative Filtering (SVD Matrix Factorization) model...')\n",
    "start = datetime.now()\n",
    "cf_global_metrics, cf_detailed_results_df = model_evaluator.evaluate_model(random_model)\n",
    "end = datetime.now()\n",
    "print(f\"eval time {end - start}\")\n",
    "print('\\nGlobal metrics:\\n%s' % cf_global_metrics)\n",
    "cf_detailed_results_df.head(10)"
   ]
  },
  {
   "cell_type": "code",
   "execution_count": 17,
   "metadata": {},
   "outputs": [
    {
     "output_type": "execute_result",
     "data": {
      "text/plain": [
       "      nzz_id  recommendation_strength\n",
       "0  ld.138721                 0.329429\n",
       "1  ld.152339                 0.194284\n",
       "2  ld.153813                 0.192678\n",
       "3  ld.150619                 0.190750\n",
       "4  ld.149510                 0.190037"
      ],
      "text/html": "<div>\n<style scoped>\n    .dataframe tbody tr th:only-of-type {\n        vertical-align: middle;\n    }\n\n    .dataframe tbody tr th {\n        vertical-align: top;\n    }\n\n    .dataframe thead th {\n        text-align: right;\n    }\n</style>\n<table border=\"1\" class=\"dataframe\">\n  <thead>\n    <tr style=\"text-align: right;\">\n      <th></th>\n      <th>nzz_id</th>\n      <th>recommendation_strength</th>\n    </tr>\n  </thead>\n  <tbody>\n    <tr>\n      <th>0</th>\n      <td>ld.138721</td>\n      <td>0.329429</td>\n    </tr>\n    <tr>\n      <th>1</th>\n      <td>ld.152339</td>\n      <td>0.194284</td>\n    </tr>\n    <tr>\n      <th>2</th>\n      <td>ld.153813</td>\n      <td>0.192678</td>\n    </tr>\n    <tr>\n      <th>3</th>\n      <td>ld.150619</td>\n      <td>0.190750</td>\n    </tr>\n    <tr>\n      <th>4</th>\n      <td>ld.149510</td>\n      <td>0.190037</td>\n    </tr>\n  </tbody>\n</table>\n</div>"
     },
     "metadata": {},
     "execution_count": 17
    }
   ],
   "source": [
    "cf_recommender_model.recommend(221, topn=5).sort_values(by=[\"recommendation_strength\"], ascending=False)"
   ]
  },
  {
   "cell_type": "code",
   "execution_count": 18,
   "metadata": {},
   "outputs": [
    {
     "output_type": "execute_result",
     "data": {
      "text/plain": [
       "     hits@5_count  hits@10_count  interacted_count  recall@5  recall@10  \\\n",
       "845             1              1                 1  1.000000   1.000000   \n",
       "791             1              1                 2  0.500000   0.500000   \n",
       "663             1              1                 2  0.500000   0.500000   \n",
       "378             1              1                 2  0.500000   0.500000   \n",
       "994             1              1                 2  0.500000   0.500000   \n",
       "741             1              1                 2  0.500000   0.500000   \n",
       "64              1              1                 2  0.500000   0.500000   \n",
       "836             1              1                 2  0.500000   0.500000   \n",
       "293             1              1                 2  0.500000   0.500000   \n",
       "223             1              1                 2  0.500000   0.500000   \n",
       "903             2              3                 5  0.400000   0.600000   \n",
       "176             3              3                 8  0.375000   0.375000   \n",
       "438             3              3                 8  0.375000   0.375000   \n",
       "40              3              3                 8  0.375000   0.375000   \n",
       "668             1              1                 3  0.333333   0.333333   \n",
       "891             1              1                 3  0.333333   0.333333   \n",
       "444             1              1                 3  0.333333   0.333333   \n",
       "120             1              1                 3  0.333333   0.333333   \n",
       "738             1              1                 3  0.333333   0.333333   \n",
       "590             2              2                 6  0.333333   0.333333   \n",
       "\n",
       "     _person_id  \n",
       "845         474  \n",
       "791         183  \n",
       "663         604  \n",
       "378         590  \n",
       "994         128  \n",
       "741         539  \n",
       "64          672  \n",
       "836         120  \n",
       "293         747  \n",
       "223         152  \n",
       "903         326  \n",
       "176         163  \n",
       "438         841  \n",
       "40          162  \n",
       "668         105  \n",
       "891         763  \n",
       "444         122  \n",
       "120         133  \n",
       "738          89  \n",
       "590         404  "
      ],
      "text/html": "<div>\n<style scoped>\n    .dataframe tbody tr th:only-of-type {\n        vertical-align: middle;\n    }\n\n    .dataframe tbody tr th {\n        vertical-align: top;\n    }\n\n    .dataframe thead th {\n        text-align: right;\n    }\n</style>\n<table border=\"1\" class=\"dataframe\">\n  <thead>\n    <tr style=\"text-align: right;\">\n      <th></th>\n      <th>hits@5_count</th>\n      <th>hits@10_count</th>\n      <th>interacted_count</th>\n      <th>recall@5</th>\n      <th>recall@10</th>\n      <th>_person_id</th>\n    </tr>\n  </thead>\n  <tbody>\n    <tr>\n      <th>845</th>\n      <td>1</td>\n      <td>1</td>\n      <td>1</td>\n      <td>1.000000</td>\n      <td>1.000000</td>\n      <td>474</td>\n    </tr>\n    <tr>\n      <th>791</th>\n      <td>1</td>\n      <td>1</td>\n      <td>2</td>\n      <td>0.500000</td>\n      <td>0.500000</td>\n      <td>183</td>\n    </tr>\n    <tr>\n      <th>663</th>\n      <td>1</td>\n      <td>1</td>\n      <td>2</td>\n      <td>0.500000</td>\n      <td>0.500000</td>\n      <td>604</td>\n    </tr>\n    <tr>\n      <th>378</th>\n      <td>1</td>\n      <td>1</td>\n      <td>2</td>\n      <td>0.500000</td>\n      <td>0.500000</td>\n      <td>590</td>\n    </tr>\n    <tr>\n      <th>994</th>\n      <td>1</td>\n      <td>1</td>\n      <td>2</td>\n      <td>0.500000</td>\n      <td>0.500000</td>\n      <td>128</td>\n    </tr>\n    <tr>\n      <th>741</th>\n      <td>1</td>\n      <td>1</td>\n      <td>2</td>\n      <td>0.500000</td>\n      <td>0.500000</td>\n      <td>539</td>\n    </tr>\n    <tr>\n      <th>64</th>\n      <td>1</td>\n      <td>1</td>\n      <td>2</td>\n      <td>0.500000</td>\n      <td>0.500000</td>\n      <td>672</td>\n    </tr>\n    <tr>\n      <th>836</th>\n      <td>1</td>\n      <td>1</td>\n      <td>2</td>\n      <td>0.500000</td>\n      <td>0.500000</td>\n      <td>120</td>\n    </tr>\n    <tr>\n      <th>293</th>\n      <td>1</td>\n      <td>1</td>\n      <td>2</td>\n      <td>0.500000</td>\n      <td>0.500000</td>\n      <td>747</td>\n    </tr>\n    <tr>\n      <th>223</th>\n      <td>1</td>\n      <td>1</td>\n      <td>2</td>\n      <td>0.500000</td>\n      <td>0.500000</td>\n      <td>152</td>\n    </tr>\n    <tr>\n      <th>903</th>\n      <td>2</td>\n      <td>3</td>\n      <td>5</td>\n      <td>0.400000</td>\n      <td>0.600000</td>\n      <td>326</td>\n    </tr>\n    <tr>\n      <th>176</th>\n      <td>3</td>\n      <td>3</td>\n      <td>8</td>\n      <td>0.375000</td>\n      <td>0.375000</td>\n      <td>163</td>\n    </tr>\n    <tr>\n      <th>438</th>\n      <td>3</td>\n      <td>3</td>\n      <td>8</td>\n      <td>0.375000</td>\n      <td>0.375000</td>\n      <td>841</td>\n    </tr>\n    <tr>\n      <th>40</th>\n      <td>3</td>\n      <td>3</td>\n      <td>8</td>\n      <td>0.375000</td>\n      <td>0.375000</td>\n      <td>162</td>\n    </tr>\n    <tr>\n      <th>668</th>\n      <td>1</td>\n      <td>1</td>\n      <td>3</td>\n      <td>0.333333</td>\n      <td>0.333333</td>\n      <td>105</td>\n    </tr>\n    <tr>\n      <th>891</th>\n      <td>1</td>\n      <td>1</td>\n      <td>3</td>\n      <td>0.333333</td>\n      <td>0.333333</td>\n      <td>763</td>\n    </tr>\n    <tr>\n      <th>444</th>\n      <td>1</td>\n      <td>1</td>\n      <td>3</td>\n      <td>0.333333</td>\n      <td>0.333333</td>\n      <td>122</td>\n    </tr>\n    <tr>\n      <th>120</th>\n      <td>1</td>\n      <td>1</td>\n      <td>3</td>\n      <td>0.333333</td>\n      <td>0.333333</td>\n      <td>133</td>\n    </tr>\n    <tr>\n      <th>738</th>\n      <td>1</td>\n      <td>1</td>\n      <td>3</td>\n      <td>0.333333</td>\n      <td>0.333333</td>\n      <td>89</td>\n    </tr>\n    <tr>\n      <th>590</th>\n      <td>2</td>\n      <td>2</td>\n      <td>6</td>\n      <td>0.333333</td>\n      <td>0.333333</td>\n      <td>404</td>\n    </tr>\n  </tbody>\n</table>\n</div>"
     },
     "metadata": {},
     "execution_count": 18
    }
   ],
   "source": [
    "cf_detailed_results_df.sort_values(by=[\"recall@5\"], ascending=False).head(20)"
   ]
  },
  {
   "cell_type": "code",
   "execution_count": 19,
   "metadata": {},
   "outputs": [
    {
     "output_type": "execute_result",
     "data": {
      "text/plain": [
       "       nzz_id  recommendation_strength\n",
       "0  1.18108994                 0.710432\n",
       "1   ld.137200                 0.447095\n",
       "2   ld.146967                 0.207135"
      ],
      "text/html": "<div>\n<style scoped>\n    .dataframe tbody tr th:only-of-type {\n        vertical-align: middle;\n    }\n\n    .dataframe tbody tr th {\n        vertical-align: top;\n    }\n\n    .dataframe thead th {\n        text-align: right;\n    }\n</style>\n<table border=\"1\" class=\"dataframe\">\n  <thead>\n    <tr style=\"text-align: right;\">\n      <th></th>\n      <th>nzz_id</th>\n      <th>recommendation_strength</th>\n    </tr>\n  </thead>\n  <tbody>\n    <tr>\n      <th>0</th>\n      <td>1.18108994</td>\n      <td>0.710432</td>\n    </tr>\n    <tr>\n      <th>1</th>\n      <td>ld.137200</td>\n      <td>0.447095</td>\n    </tr>\n    <tr>\n      <th>2</th>\n      <td>ld.146967</td>\n      <td>0.207135</td>\n    </tr>\n  </tbody>\n</table>\n</div>"
     },
     "metadata": {},
     "execution_count": 19
    }
   ],
   "source": [
    "recommended_items = cf_recommender_model.recommend(17)\n",
    "\n",
    "recommended_items.head(3)"
   ]
  },
  {
   "cell_type": "code",
   "execution_count": 20,
   "metadata": {},
   "outputs": [
    {
     "output_type": "execute_result",
     "data": {
      "text/plain": [
       "           nzz_id                author  \\\n",
       "199    ld.1295009    Daniele Muscionico   \n",
       "2048    ld.154109          Fabian Urech   \n",
       "7440   1.18108994               Unknown   \n",
       "10617   ld.146967  Franziska Engelhardt   \n",
       "12586   ld.140699     Christian Berzins   \n",
       "15027   ld.138132          Nina Fargahi   \n",
       "15951   ld.146001         Eduard Kaeser   \n",
       "16637   ld.154221         Jochen Siegle   \n",
       "17802   ld.144423         Jochen Siegle   \n",
       "18907   ld.137200               Unknown   \n",
       "\n",
       "                                           catchline            department  \\\n",
       "199    «Die Schwarze Spinne» als Freilichtaufführung            Feuilleton   \n",
       "2048                                     US-Kongress               Digital   \n",
       "7440          Impressionen aus Tessin und Graubünden                Tessin   \n",
       "10617                          Was heute wichtig ist              Briefing   \n",
       "12586                      Hamburger Elbphilharmonie                 NZZaS   \n",
       "15027                          Was heute wichtig ist              Briefing   \n",
       "15951          Für das gepflegte Spiel der Argumente               Meinung   \n",
       "16637                                   Social Media               Digital   \n",
       "17802                                Virtual Reality               Digital   \n",
       "18907                       Ein letzter Blick zurück  Jahresrückblick 2016   \n",
       "\n",
       "                                               lead_text  \\\n",
       "199    Das hätte man nicht gedacht: Jeremias Gotthelf...   \n",
       "2048   Die USA weichen den Datenschutz von Internet-N...   \n",
       "7440   Die Kantone Graubünden und Tessin (Gastkanton ...   \n",
       "10617  Bayrou gibt seine Stimmen Macron / Anti-Terror...   \n",
       "12586  Die Elbphilharmonie in Hamburg ist bereits ein...   \n",
       "15027  Tote nach Explosion in Izmir / Serbien will Ha...   \n",
       "15951  Von der postmodernen Theorie haben wir gelernt...   \n",
       "16637  Die populäre «Stories»-Funktion von Vorreiter ...   \n",
       "17802  Ein japanisches Startup will mit einem kleinen...   \n",
       "18907  Die grossen Themen in der Bilanz, die besten G...   \n",
       "\n",
       "                      pub_date                                          title  \\\n",
       "199    2017-05-19 16:28:29.844                           Chillen mit Gotthelf   \n",
       "2048     2017-03-29 06:10:00.0  Vorschriften zum Internet-Datenschutz gekippt   \n",
       "7440   2017-04-11 13:59:48.182         Impressionen aus Tessin und Graubünden   \n",
       "10617    2017-02-22 20:15:00.0                          Was heute wichtig ist   \n",
       "12586    2017-01-15 08:55:00.0                          Sie kann nicht singen   \n",
       "15027    2017-01-05 05:01:52.0                          Was heute wichtig ist   \n",
       "15951    2017-02-17 07:30:00.0                  Vorwärts zu den Fakten zurück   \n",
       "16637  2017-03-29 13:22:30.981                    Facebook macht auf Snapchat   \n",
       "17802    2017-02-08 15:52:02.0                   Der Duft der virtuellen Welt   \n",
       "18907    2017-01-02 04:30:00.0                 Der grosse NZZ-Jahresrückblick   \n",
       "\n",
       "                                               paragraph  \n",
       "199    Ein Schrei, entsetzt und jäh. Der Himmel ist k...  \n",
       "2048                                                 NaN  \n",
       "7440                                                 NaN  \n",
       "10617  Bayrou gibt seine Stimmen Macron / Anti-Terror...  \n",
       "12586  Die Elbphilharmonie in Hamburg ist bereits ein...  \n",
       "15027  Tote nach Explosion in Izmir / Serbien will Ha...  \n",
       "15951  Von der postmodernen Theorie haben wir gelernt...  \n",
       "16637                                                NaN  \n",
       "17802  Ein japanisches Startup will mit einem kleinen...  \n",
       "18907                                                NaN  "
      ],
      "text/html": "<div>\n<style scoped>\n    .dataframe tbody tr th:only-of-type {\n        vertical-align: middle;\n    }\n\n    .dataframe tbody tr th {\n        vertical-align: top;\n    }\n\n    .dataframe thead th {\n        text-align: right;\n    }\n</style>\n<table border=\"1\" class=\"dataframe\">\n  <thead>\n    <tr style=\"text-align: right;\">\n      <th></th>\n      <th>nzz_id</th>\n      <th>author</th>\n      <th>catchline</th>\n      <th>department</th>\n      <th>lead_text</th>\n      <th>pub_date</th>\n      <th>title</th>\n      <th>paragraph</th>\n    </tr>\n  </thead>\n  <tbody>\n    <tr>\n      <th>199</th>\n      <td>ld.1295009</td>\n      <td>Daniele Muscionico</td>\n      <td>«Die Schwarze Spinne» als Freilichtaufführung</td>\n      <td>Feuilleton</td>\n      <td>Das hätte man nicht gedacht: Jeremias Gotthelf...</td>\n      <td>2017-05-19 16:28:29.844</td>\n      <td>Chillen mit Gotthelf</td>\n      <td>Ein Schrei, entsetzt und jäh. Der Himmel ist k...</td>\n    </tr>\n    <tr>\n      <th>2048</th>\n      <td>ld.154109</td>\n      <td>Fabian Urech</td>\n      <td>US-Kongress</td>\n      <td>Digital</td>\n      <td>Die USA weichen den Datenschutz von Internet-N...</td>\n      <td>2017-03-29 06:10:00.0</td>\n      <td>Vorschriften zum Internet-Datenschutz gekippt</td>\n      <td>NaN</td>\n    </tr>\n    <tr>\n      <th>7440</th>\n      <td>1.18108994</td>\n      <td>Unknown</td>\n      <td>Impressionen aus Tessin und Graubünden</td>\n      <td>Tessin</td>\n      <td>Die Kantone Graubünden und Tessin (Gastkanton ...</td>\n      <td>2017-04-11 13:59:48.182</td>\n      <td>Impressionen aus Tessin und Graubünden</td>\n      <td>NaN</td>\n    </tr>\n    <tr>\n      <th>10617</th>\n      <td>ld.146967</td>\n      <td>Franziska Engelhardt</td>\n      <td>Was heute wichtig ist</td>\n      <td>Briefing</td>\n      <td>Bayrou gibt seine Stimmen Macron / Anti-Terror...</td>\n      <td>2017-02-22 20:15:00.0</td>\n      <td>Was heute wichtig ist</td>\n      <td>Bayrou gibt seine Stimmen Macron / Anti-Terror...</td>\n    </tr>\n    <tr>\n      <th>12586</th>\n      <td>ld.140699</td>\n      <td>Christian Berzins</td>\n      <td>Hamburger Elbphilharmonie</td>\n      <td>NZZaS</td>\n      <td>Die Elbphilharmonie in Hamburg ist bereits ein...</td>\n      <td>2017-01-15 08:55:00.0</td>\n      <td>Sie kann nicht singen</td>\n      <td>Die Elbphilharmonie in Hamburg ist bereits ein...</td>\n    </tr>\n    <tr>\n      <th>15027</th>\n      <td>ld.138132</td>\n      <td>Nina Fargahi</td>\n      <td>Was heute wichtig ist</td>\n      <td>Briefing</td>\n      <td>Tote nach Explosion in Izmir / Serbien will Ha...</td>\n      <td>2017-01-05 05:01:52.0</td>\n      <td>Was heute wichtig ist</td>\n      <td>Tote nach Explosion in Izmir / Serbien will Ha...</td>\n    </tr>\n    <tr>\n      <th>15951</th>\n      <td>ld.146001</td>\n      <td>Eduard Kaeser</td>\n      <td>Für das gepflegte Spiel der Argumente</td>\n      <td>Meinung</td>\n      <td>Von der postmodernen Theorie haben wir gelernt...</td>\n      <td>2017-02-17 07:30:00.0</td>\n      <td>Vorwärts zu den Fakten zurück</td>\n      <td>Von der postmodernen Theorie haben wir gelernt...</td>\n    </tr>\n    <tr>\n      <th>16637</th>\n      <td>ld.154221</td>\n      <td>Jochen Siegle</td>\n      <td>Social Media</td>\n      <td>Digital</td>\n      <td>Die populäre «Stories»-Funktion von Vorreiter ...</td>\n      <td>2017-03-29 13:22:30.981</td>\n      <td>Facebook macht auf Snapchat</td>\n      <td>NaN</td>\n    </tr>\n    <tr>\n      <th>17802</th>\n      <td>ld.144423</td>\n      <td>Jochen Siegle</td>\n      <td>Virtual Reality</td>\n      <td>Digital</td>\n      <td>Ein japanisches Startup will mit einem kleinen...</td>\n      <td>2017-02-08 15:52:02.0</td>\n      <td>Der Duft der virtuellen Welt</td>\n      <td>Ein japanisches Startup will mit einem kleinen...</td>\n    </tr>\n    <tr>\n      <th>18907</th>\n      <td>ld.137200</td>\n      <td>Unknown</td>\n      <td>Ein letzter Blick zurück</td>\n      <td>Jahresrückblick 2016</td>\n      <td>Die grossen Themen in der Bilanz, die besten G...</td>\n      <td>2017-01-02 04:30:00.0</td>\n      <td>Der grosse NZZ-Jahresrückblick</td>\n      <td>NaN</td>\n    </tr>\n  </tbody>\n</table>\n</div>"
     },
     "metadata": {},
     "execution_count": 20
    }
   ],
   "source": [
    "articles = pd.read_csv(\"../data/articles_cleaned.csv\")\n",
    "articles = articles[articles[\"nzz_id\"].isin(recommended_items[\"nzz_id\"])]\n",
    "articles"
   ]
  },
  {
   "source": [
    "## Parameter tuning"
   ],
   "cell_type": "markdown",
   "metadata": {}
  },
  {
   "cell_type": "code",
   "execution_count": 21,
   "metadata": {},
   "outputs": [
    {
     "output_type": "stream",
     "name": "stdout",
     "text": [
      "999 users processed\n",
      "999 users processed\n",
      "999 users processed\n",
      "999 users processed\n",
      "999 users processed\n",
      "999 users processed\n"
     ]
    },
    {
     "output_type": "error",
     "ename": "KeyboardInterrupt",
     "evalue": "",
     "traceback": [
      "\u001b[1;31m---------------------------------------------------------------------------\u001b[0m",
      "\u001b[1;31mKeyboardInterrupt\u001b[0m                         Traceback (most recent call last)",
      "\u001b[1;32m<ipython-input-21-a2256d71740b>\u001b[0m in \u001b[0;36m<module>\u001b[1;34m\u001b[0m\n\u001b[0;32m      5\u001b[0m     \u001b[0mrecommender\u001b[0m \u001b[1;33m=\u001b[0m \u001b[0mCFModel\u001b[0m\u001b[1;33m(\u001b[0m\u001b[0mn_latent_factors\u001b[0m\u001b[1;33m=\u001b[0m\u001b[0mn_latent_factors\u001b[0m\u001b[1;33m)\u001b[0m\u001b[1;33m\u001b[0m\u001b[1;33m\u001b[0m\u001b[0m\n\u001b[0;32m      6\u001b[0m     \u001b[0mrecommender\u001b[0m\u001b[1;33m.\u001b[0m\u001b[0mfit\u001b[0m\u001b[1;33m(\u001b[0m\u001b[0mreaders_train\u001b[0m\u001b[1;33m)\u001b[0m\u001b[1;33m\u001b[0m\u001b[1;33m\u001b[0m\u001b[0m\n\u001b[1;32m----> 7\u001b[1;33m     \u001b[0mcf_global_metrics\u001b[0m\u001b[1;33m,\u001b[0m \u001b[0mcf_detailed_results_df\u001b[0m \u001b[1;33m=\u001b[0m \u001b[0mmodel_evaluator\u001b[0m\u001b[1;33m.\u001b[0m\u001b[0mevaluate_model\u001b[0m\u001b[1;33m(\u001b[0m\u001b[0mrecommender\u001b[0m\u001b[1;33m)\u001b[0m\u001b[1;33m\u001b[0m\u001b[1;33m\u001b[0m\u001b[0m\n\u001b[0m\u001b[0;32m      8\u001b[0m     \u001b[0mmetrics\u001b[0m\u001b[1;33m.\u001b[0m\u001b[0mappend\u001b[0m\u001b[1;33m(\u001b[0m\u001b[1;33m{\u001b[0m\u001b[1;34m\"n_latent_factors\"\u001b[0m\u001b[1;33m:\u001b[0m \u001b[0mn_latent_factors\u001b[0m\u001b[1;33m,\u001b[0m \u001b[1;34m\"metrics\"\u001b[0m\u001b[1;33m:\u001b[0m \u001b[0mcf_global_metrics\u001b[0m\u001b[1;33m}\u001b[0m\u001b[1;33m)\u001b[0m\u001b[1;33m\u001b[0m\u001b[1;33m\u001b[0m\u001b[0m\n",
      "\u001b[1;32m<ipython-input-11-90f5c414f884>\u001b[0m in \u001b[0;36mevaluate_model\u001b[1;34m(self, model)\u001b[0m\n\u001b[0;32m     77\u001b[0m             \u001b[1;31m#if idx % 100 == 0 and idx > 0:\u001b[0m\u001b[1;33m\u001b[0m\u001b[1;33m\u001b[0m\u001b[1;33m\u001b[0m\u001b[0m\n\u001b[0;32m     78\u001b[0m             \u001b[1;31m#    print('%d users processed' % idx)\u001b[0m\u001b[1;33m\u001b[0m\u001b[1;33m\u001b[0m\u001b[1;33m\u001b[0m\u001b[0m\n\u001b[1;32m---> 79\u001b[1;33m             \u001b[0mperson_metrics\u001b[0m \u001b[1;33m=\u001b[0m \u001b[0mself\u001b[0m\u001b[1;33m.\u001b[0m\u001b[0mevaluate_model_for_user\u001b[0m\u001b[1;33m(\u001b[0m\u001b[0mmodel\u001b[0m\u001b[1;33m,\u001b[0m \u001b[0mperson_id\u001b[0m\u001b[1;33m)\u001b[0m\u001b[1;33m\u001b[0m\u001b[1;33m\u001b[0m\u001b[0m\n\u001b[0m\u001b[0;32m     80\u001b[0m             \u001b[0mperson_metrics\u001b[0m\u001b[1;33m[\u001b[0m\u001b[1;34m'_person_id'\u001b[0m\u001b[1;33m]\u001b[0m \u001b[1;33m=\u001b[0m \u001b[0mperson_id\u001b[0m\u001b[1;33m\u001b[0m\u001b[1;33m\u001b[0m\u001b[0m\n\u001b[0;32m     81\u001b[0m             \u001b[0mpeople_metrics\u001b[0m\u001b[1;33m.\u001b[0m\u001b[0mappend\u001b[0m\u001b[1;33m(\u001b[0m\u001b[0mperson_metrics\u001b[0m\u001b[1;33m)\u001b[0m\u001b[1;33m\u001b[0m\u001b[1;33m\u001b[0m\u001b[0m\n",
      "\u001b[1;32m<ipython-input-11-90f5c414f884>\u001b[0m in \u001b[0;36mevaluate_model_for_user\u001b[1;34m(self, model, person_id)\u001b[0m\n\u001b[0;32m     51\u001b[0m \u001b[1;33m\u001b[0m\u001b[0m\n\u001b[0;32m     52\u001b[0m             \u001b[1;31m#Filtering only recommendations that are either the interacted item or from a random sample of 100 non-interacted items\u001b[0m\u001b[1;33m\u001b[0m\u001b[1;33m\u001b[0m\u001b[1;33m\u001b[0m\u001b[0m\n\u001b[1;32m---> 53\u001b[1;33m             \u001b[0mvalid_recs_df\u001b[0m \u001b[1;33m=\u001b[0m \u001b[0mperson_recs_df\u001b[0m\u001b[1;33m[\u001b[0m\u001b[0mperson_recs_df\u001b[0m\u001b[1;33m[\u001b[0m\u001b[1;34m'nzz_id'\u001b[0m\u001b[1;33m]\u001b[0m\u001b[1;33m.\u001b[0m\u001b[0misin\u001b[0m\u001b[1;33m(\u001b[0m\u001b[0mitems_to_filter_recs\u001b[0m\u001b[1;33m)\u001b[0m\u001b[1;33m]\u001b[0m\u001b[1;33m\u001b[0m\u001b[1;33m\u001b[0m\u001b[0m\n\u001b[0m\u001b[0;32m     54\u001b[0m             \u001b[0mvalid_recs\u001b[0m \u001b[1;33m=\u001b[0m \u001b[0mvalid_recs_df\u001b[0m\u001b[1;33m[\u001b[0m\u001b[1;34m'nzz_id'\u001b[0m\u001b[1;33m]\u001b[0m\u001b[1;33m.\u001b[0m\u001b[0mvalues\u001b[0m\u001b[1;33m\u001b[0m\u001b[1;33m\u001b[0m\u001b[0m\n\u001b[0;32m     55\u001b[0m             \u001b[1;31m#Verifying if the current interacted item is among the Top-N recommended items\u001b[0m\u001b[1;33m\u001b[0m\u001b[1;33m\u001b[0m\u001b[1;33m\u001b[0m\u001b[0m\n",
      "\u001b[1;32m~\\code-projects\\python\\WPy64-3880\\python-3.8.8.amd64\\lib\\site-packages\\pandas\\core\\frame.py\u001b[0m in \u001b[0;36m__getitem__\u001b[1;34m(self, key)\u001b[0m\n\u001b[0;32m   3013\u001b[0m         \u001b[1;31m# Do we have a (boolean) 1d indexer?\u001b[0m\u001b[1;33m\u001b[0m\u001b[1;33m\u001b[0m\u001b[1;33m\u001b[0m\u001b[0m\n\u001b[0;32m   3014\u001b[0m         \u001b[1;32mif\u001b[0m \u001b[0mcom\u001b[0m\u001b[1;33m.\u001b[0m\u001b[0mis_bool_indexer\u001b[0m\u001b[1;33m(\u001b[0m\u001b[0mkey\u001b[0m\u001b[1;33m)\u001b[0m\u001b[1;33m:\u001b[0m\u001b[1;33m\u001b[0m\u001b[1;33m\u001b[0m\u001b[0m\n\u001b[1;32m-> 3015\u001b[1;33m             \u001b[1;32mreturn\u001b[0m \u001b[0mself\u001b[0m\u001b[1;33m.\u001b[0m\u001b[0m_getitem_bool_array\u001b[0m\u001b[1;33m(\u001b[0m\u001b[0mkey\u001b[0m\u001b[1;33m)\u001b[0m\u001b[1;33m\u001b[0m\u001b[1;33m\u001b[0m\u001b[0m\n\u001b[0m\u001b[0;32m   3016\u001b[0m \u001b[1;33m\u001b[0m\u001b[0m\n\u001b[0;32m   3017\u001b[0m         \u001b[1;31m# We are left with two options: a single key, and a collection of keys,\u001b[0m\u001b[1;33m\u001b[0m\u001b[1;33m\u001b[0m\u001b[1;33m\u001b[0m\u001b[0m\n",
      "\u001b[1;32m~\\code-projects\\python\\WPy64-3880\\python-3.8.8.amd64\\lib\\site-packages\\pandas\\core\\frame.py\u001b[0m in \u001b[0;36m_getitem_bool_array\u001b[1;34m(self, key)\u001b[0m\n\u001b[0;32m   3067\u001b[0m         \u001b[1;31m# be reindexed to match DataFrame rows\u001b[0m\u001b[1;33m\u001b[0m\u001b[1;33m\u001b[0m\u001b[1;33m\u001b[0m\u001b[0m\n\u001b[0;32m   3068\u001b[0m         \u001b[0mkey\u001b[0m \u001b[1;33m=\u001b[0m \u001b[0mcheck_bool_indexer\u001b[0m\u001b[1;33m(\u001b[0m\u001b[0mself\u001b[0m\u001b[1;33m.\u001b[0m\u001b[0mindex\u001b[0m\u001b[1;33m,\u001b[0m \u001b[0mkey\u001b[0m\u001b[1;33m)\u001b[0m\u001b[1;33m\u001b[0m\u001b[1;33m\u001b[0m\u001b[0m\n\u001b[1;32m-> 3069\u001b[1;33m         \u001b[0mindexer\u001b[0m \u001b[1;33m=\u001b[0m \u001b[0mkey\u001b[0m\u001b[1;33m.\u001b[0m\u001b[0mnonzero\u001b[0m\u001b[1;33m(\u001b[0m\u001b[1;33m)\u001b[0m\u001b[1;33m[\u001b[0m\u001b[1;36m0\u001b[0m\u001b[1;33m]\u001b[0m\u001b[1;33m\u001b[0m\u001b[1;33m\u001b[0m\u001b[0m\n\u001b[0m\u001b[0;32m   3070\u001b[0m         \u001b[1;32mreturn\u001b[0m \u001b[0mself\u001b[0m\u001b[1;33m.\u001b[0m\u001b[0m_take_with_is_copy\u001b[0m\u001b[1;33m(\u001b[0m\u001b[0mindexer\u001b[0m\u001b[1;33m,\u001b[0m \u001b[0maxis\u001b[0m\u001b[1;33m=\u001b[0m\u001b[1;36m0\u001b[0m\u001b[1;33m)\u001b[0m\u001b[1;33m\u001b[0m\u001b[1;33m\u001b[0m\u001b[0m\n\u001b[0;32m   3071\u001b[0m \u001b[1;33m\u001b[0m\u001b[0m\n",
      "\u001b[1;31mKeyboardInterrupt\u001b[0m: "
     ]
    }
   ],
   "source": [
    "n_latent_factors_list = range(5, 100, 5)\n",
    "metrics = []\n",
    "\n",
    "for n_latent_factors in n_latent_factors_list:\n",
    "    recommender = CFModel(n_latent_factors=n_latent_factors)\n",
    "    recommender.fit(readers_train)\n",
    "    cf_global_metrics, cf_detailed_results_df = model_evaluator.evaluate_model(recommender)\n",
    "    metrics.append({\"n_latent_factors\": n_latent_factors, \"metrics\": cf_global_metrics})"
   ]
  },
  {
   "cell_type": "code",
   "execution_count": 47,
   "metadata": {},
   "outputs": [
    {
     "output_type": "stream",
     "name": "stdout",
     "text": [
      "5 {'modelName': 'CF_model', 'recall@5': 0.16837192604559326, 'recall@10': 0.23981331897325436}\n10 {'modelName': 'CF_model', 'recall@5': 0.17985998922994076, 'recall@10': 0.24699335846347156}\n15 {'modelName': 'CF_model', 'recall@5': 0.1981690899299946, 'recall@10': 0.2642254532399928}\n20 {'modelName': 'CF_model', 'recall@5': 0.1985280919045055, 'recall@10': 0.272661999640998}\n25 {'modelName': 'CF_model', 'recall@5': 0.2022976126368695, 'recall@10': 0.2785855322204272}\n30 {'modelName': 'CF_model', 'recall@5': 0.20319511757314665, 'recall@10': 0.2769700233351283}\n35 {'modelName': 'CF_model', 'recall@5': 0.20714413929276612, 'recall@10': 0.28109854604200324}\n40 {'modelName': 'CF_model', 'recall@5': 0.2084006462035541, 'recall@10': 0.28235505295279123}\n45 {'modelName': 'CF_model', 'recall@5': 0.21145216298689642, 'recall@10': 0.28917609046849757}\n50 {'modelName': 'CF_model', 'recall@5': 0.20445162448393467, 'recall@10': 0.2882785855322204}\n55 {'modelName': 'CF_model', 'recall@5': 0.20804164422904325, 'recall@10': 0.286842577634177}\n60 {'modelName': 'CF_model', 'recall@5': 0.20750314126727698, 'recall@10': 0.28845808651947585}\n65 {'modelName': 'CF_model', 'recall@5': 0.21145216298689642, 'recall@10': 0.28666307664692153}\n70 {'modelName': 'CF_model', 'recall@5': 0.2155806856937713, 'recall@10': 0.29545862502243764}\n75 {'modelName': 'CF_model', 'recall@5': 0.2130676718721953, 'recall@10': 0.29689463292048107}\n80 {'modelName': 'CF_model', 'recall@5': 0.2154011847065159, 'recall@10': 0.2963561299587148}\n85 {'modelName': 'CF_model', 'recall@5': 0.21504218273200504, 'recall@10': 0.29312511218811704}\n90 {'modelName': 'CF_model', 'recall@5': 0.21324717285945072, 'recall@10': 0.2990486447675462}\n95 {'modelName': 'CF_model', 'recall@5': 0.21234966792317359, 'recall@10': 0.29671513193322563}\n"
     ]
    }
   ],
   "source": [
    "for metric in metrics:\n",
    "    print(metric[\"n_latent_factors\"], metric[\"metrics\"])"
   ]
  },
  {
   "cell_type": "code",
   "execution_count": 211,
   "metadata": {},
   "outputs": [],
   "source": [
    "def get_coverage(predicted, catalog):\n",
    "    predicted_flattened = [p for sublist in predicted for p in sublist]\n",
    "    unique_predictions = len(set(predicted_flattened))\n",
    "    prediction_coverage = round(unique_predictions/(len(catalog)* 1.0)*100,2)\n",
    "    return prediction_coverage"
   ]
  },
  {
   "cell_type": "code",
   "execution_count": 236,
   "metadata": {},
   "outputs": [],
   "source": [
    "import scipy.sparse as sp\n",
    "from sklearn.metrics.pairwise import cosine_similarity\n",
    "def personalization(predicted):\n",
    "    \"\"\"\n",
    "    Personalization measures recommendation similarity across users.\n",
    "    A high score indicates good personalization (user's lists of recommendations are different).\n",
    "    A low score indicates poor personalization (user's lists of recommendations are very similar).\n",
    "    A model is \"personalizing\" well if the set of recommendations for each user is different.\n",
    "    Parameters:\n",
    "    ----------\n",
    "    predicted : a list of lists\n",
    "        Ordered predictions\n",
    "        example: [['X', 'Y', 'Z'], ['X', 'Y', 'Z']]\n",
    "    Returns:\n",
    "    -------\n",
    "        The personalization score for all recommendations.\n",
    "    \"\"\"\n",
    "\n",
    "    def make_rec_matrix(predicted):\n",
    "        df = pd.DataFrame(data=predicted).reset_index().melt(\n",
    "            id_vars='index', value_name='item',\n",
    "        )\n",
    "        df = df[['index', 'item']].pivot(index='index', columns='item', values='item')\n",
    "        df = pd.notna(df)*1\n",
    "        rec_matrix = sp.csr_matrix(df.values)\n",
    "        return rec_matrix\n",
    "\n",
    "    #create matrix for recommendations\n",
    "    predicted = np.array(predicted)\n",
    "    rec_matrix_sparse = make_rec_matrix(predicted)\n",
    "\n",
    "    #calculate similarity for every user's recommendation list\n",
    "    similarity = cosine_similarity(X=rec_matrix_sparse, dense_output=False)\n",
    "\n",
    "    #get indicies for upper right triangle w/o diagonal\n",
    "    upper_right = np.triu_indices(similarity.shape[0], k=1)\n",
    "\n",
    "    #calculate average similarity\n",
    "    personalization = np.mean(similarity[upper_right])\n",
    "    return 1-personalization"
   ]
  },
  {
   "cell_type": "code",
   "execution_count": 233,
   "metadata": {},
   "outputs": [],
   "source": [
    "# Coverage evaluation\n",
    "def evaluate_coverage(model, topn=5):\n",
    "    all_recs = []\n",
    "    for idx, person_id in enumerate(list(interactions_test_indexed_df.index.unique().values)):\n",
    "            person_recs_df = model.recommend(person_id, articles_to_ignore=get_items_interacted(person_id, interactions_train_indexed_df), topn=topn)\n",
    "            all_recs.append(person_recs_df[\"nzz_id\"].values)\n",
    "\n",
    "    coverage_result = get_coverage(all_recs, interactions_train_indexed_df[\"nzz_id\"].unique())\n",
    "    personalization_result = personalization(all_recs)\n",
    "    print(f\"Model: {model.get_model_name()} pokrywa: {coverage_result}% artykułów\")\n",
    "    print(f\"Model: {model.get_model_name()} personalizacja: {personalization_result}\")\n",
    "\n"
   ]
  },
  {
   "cell_type": "code",
   "execution_count": 237,
   "metadata": {},
   "outputs": [
    {
     "output_type": "error",
     "ename": "NameError",
     "evalue": "name 'cosine_similarity' is not defined",
     "traceback": [
      "\u001b[1;31m---------------------------------------------------------------------------\u001b[0m",
      "\u001b[1;31mNameError\u001b[0m                                 Traceback (most recent call last)",
      "\u001b[1;32m<ipython-input-237-e3ccf770179e>\u001b[0m in \u001b[0;36m<module>\u001b[1;34m\u001b[0m\n\u001b[1;32m----> 1\u001b[1;33m \u001b[0mevaluate_coverage\u001b[0m\u001b[1;33m(\u001b[0m\u001b[0mcf_recommender_model\u001b[0m\u001b[1;33m,\u001b[0m \u001b[0mtopn\u001b[0m\u001b[1;33m=\u001b[0m\u001b[1;36m10\u001b[0m\u001b[1;33m)\u001b[0m\u001b[1;33m\u001b[0m\u001b[1;33m\u001b[0m\u001b[0m\n\u001b[0m",
      "\u001b[1;32m<ipython-input-233-0f07b2d77df4>\u001b[0m in \u001b[0;36mevaluate_coverage\u001b[1;34m(model, topn)\u001b[0m\n\u001b[0;32m      7\u001b[0m \u001b[1;33m\u001b[0m\u001b[0m\n\u001b[0;32m      8\u001b[0m     \u001b[0mcoverage_result\u001b[0m \u001b[1;33m=\u001b[0m \u001b[0mget_coverage\u001b[0m\u001b[1;33m(\u001b[0m\u001b[0mall_recs\u001b[0m\u001b[1;33m,\u001b[0m \u001b[0minteractions_train_indexed_df\u001b[0m\u001b[1;33m[\u001b[0m\u001b[1;34m\"nzz_id\"\u001b[0m\u001b[1;33m]\u001b[0m\u001b[1;33m.\u001b[0m\u001b[0munique\u001b[0m\u001b[1;33m(\u001b[0m\u001b[1;33m)\u001b[0m\u001b[1;33m)\u001b[0m\u001b[1;33m\u001b[0m\u001b[1;33m\u001b[0m\u001b[0m\n\u001b[1;32m----> 9\u001b[1;33m     \u001b[0mpersonalization_result\u001b[0m \u001b[1;33m=\u001b[0m \u001b[0mpersonalization\u001b[0m\u001b[1;33m(\u001b[0m\u001b[0mall_recs\u001b[0m\u001b[1;33m)\u001b[0m\u001b[1;33m\u001b[0m\u001b[1;33m\u001b[0m\u001b[0m\n\u001b[0m\u001b[0;32m     10\u001b[0m     \u001b[0mprint\u001b[0m\u001b[1;33m(\u001b[0m\u001b[1;34mf\"Model: {model.get_model_name()} pokrywa: {coverage_result}% artykułów\"\u001b[0m\u001b[1;33m)\u001b[0m\u001b[1;33m\u001b[0m\u001b[1;33m\u001b[0m\u001b[0m\n\u001b[0;32m     11\u001b[0m     \u001b[0mprint\u001b[0m\u001b[1;33m(\u001b[0m\u001b[1;34mf\"Model: {model.get_model_name()} personalizacja: {coverage_result}\"\u001b[0m\u001b[1;33m)\u001b[0m\u001b[1;33m\u001b[0m\u001b[1;33m\u001b[0m\u001b[0m\n",
      "\u001b[1;32m<ipython-input-236-02784b9598a5>\u001b[0m in \u001b[0;36mpersonalization\u001b[1;34m(predicted)\u001b[0m\n\u001b[0;32m     30\u001b[0m \u001b[1;33m\u001b[0m\u001b[0m\n\u001b[0;32m     31\u001b[0m     \u001b[1;31m#calculate similarity for every user's recommendation list\u001b[0m\u001b[1;33m\u001b[0m\u001b[1;33m\u001b[0m\u001b[1;33m\u001b[0m\u001b[0m\n\u001b[1;32m---> 32\u001b[1;33m     \u001b[0msimilarity\u001b[0m \u001b[1;33m=\u001b[0m \u001b[0mcosine_similarity\u001b[0m\u001b[1;33m(\u001b[0m\u001b[0mX\u001b[0m\u001b[1;33m=\u001b[0m\u001b[0mrec_matrix_sparse\u001b[0m\u001b[1;33m,\u001b[0m \u001b[0mdense_output\u001b[0m\u001b[1;33m=\u001b[0m\u001b[1;32mFalse\u001b[0m\u001b[1;33m)\u001b[0m\u001b[1;33m\u001b[0m\u001b[1;33m\u001b[0m\u001b[0m\n\u001b[0m\u001b[0;32m     33\u001b[0m \u001b[1;33m\u001b[0m\u001b[0m\n\u001b[0;32m     34\u001b[0m     \u001b[1;31m#get indicies for upper right triangle w/o diagonal\u001b[0m\u001b[1;33m\u001b[0m\u001b[1;33m\u001b[0m\u001b[1;33m\u001b[0m\u001b[0m\n",
      "\u001b[1;31mNameError\u001b[0m: name 'cosine_similarity' is not defined"
     ]
    }
   ],
   "source": [
    "evaluate_coverage(cf_recommender_model, topn=10)\n"
   ]
  },
  {
   "cell_type": "code",
   "execution_count": null,
   "metadata": {},
   "outputs": [],
   "source": []
  }
 ]
}