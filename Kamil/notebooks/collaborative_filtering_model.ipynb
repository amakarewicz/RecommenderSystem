{
 "metadata": {
  "language_info": {
   "codemirror_mode": {
    "name": "ipython",
    "version": 3
   },
   "file_extension": ".py",
   "mimetype": "text/x-python",
   "name": "python",
   "nbconvert_exporter": "python",
   "pygments_lexer": "ipython3",
   "version": "3.8.8"
  },
  "orig_nbformat": 2,
  "kernelspec": {
   "name": "python388jvsc74a57bd0686f23405e2a4ac53f16a9301bfd24c8a524f3e91072c4c8e17ee124502b094e",
   "display_name": "Python 3.8.8 64-bit"
  }
 },
 "nbformat": 4,
 "nbformat_minor": 2,
 "cells": [
  {
   "cell_type": "code",
   "execution_count": 89,
   "metadata": {},
   "outputs": [],
   "source": [
    "import pandas as pd\n",
    "import numpy as np\n",
    "import random"
   ]
  },
  {
   "cell_type": "code",
   "execution_count": 90,
   "metadata": {},
   "outputs": [
    {
     "output_type": "execute_result",
     "data": {
      "text/plain": [
       "   user_id      art_id\n",
       "0        1   ld.154103\n",
       "1        1   ld.142559\n",
       "2        1  1.18331199\n",
       "3        1   ld.144819\n",
       "4        1  ld.1293110"
      ],
      "text/html": "<div>\n<style scoped>\n    .dataframe tbody tr th:only-of-type {\n        vertical-align: middle;\n    }\n\n    .dataframe tbody tr th {\n        vertical-align: top;\n    }\n\n    .dataframe thead th {\n        text-align: right;\n    }\n</style>\n<table border=\"1\" class=\"dataframe\">\n  <thead>\n    <tr style=\"text-align: right;\">\n      <th></th>\n      <th>user_id</th>\n      <th>art_id</th>\n    </tr>\n  </thead>\n  <tbody>\n    <tr>\n      <th>0</th>\n      <td>1</td>\n      <td>ld.154103</td>\n    </tr>\n    <tr>\n      <th>1</th>\n      <td>1</td>\n      <td>ld.142559</td>\n    </tr>\n    <tr>\n      <th>2</th>\n      <td>1</td>\n      <td>1.18331199</td>\n    </tr>\n    <tr>\n      <th>3</th>\n      <td>1</td>\n      <td>ld.144819</td>\n    </tr>\n    <tr>\n      <th>4</th>\n      <td>1</td>\n      <td>ld.1293110</td>\n    </tr>\n  </tbody>\n</table>\n</div>"
     },
     "metadata": {},
     "execution_count": 90
    }
   ],
   "source": [
    "readers = pd.read_csv(\"../data/readers.csv\")\n",
    "readers = readers.rename(columns={\"id\":\"user_id\"})\n",
    "readers.head()"
   ]
  },
  {
   "cell_type": "code",
   "execution_count": 91,
   "metadata": {},
   "outputs": [],
   "source": [
    "read_counts = readers[\"user_id\"].value_counts(sort=True)\n",
    "read_counts = read_counts.rename_axis(\"user_id\").reset_index(name=\"read_count\")\n",
    "\n",
    "# Biorę pod uwagę tylko użytkowników, którzy przeczytali minimum 5 artykułów\n",
    "min_read_count = 10\n",
    "read_counts = read_counts[read_counts[\"read_count\"] > min_read_count]\n",
    "\n",
    "readers = readers[readers[\"user_id\"].isin(read_counts[\"user_id\"])]"
   ]
  },
  {
   "cell_type": "code",
   "execution_count": 92,
   "metadata": {},
   "outputs": [
    {
     "output_type": "stream",
     "name": "stdout",
     "text": [
      "Train set size 21507\nTest set size 5377\n"
     ]
    }
   ],
   "source": [
    "# Train/Test split\n",
    "from sklearn.model_selection import train_test_split\n",
    "\n",
    "readers_train, readers_test = train_test_split(readers,\n",
    "                                   stratify=readers[\"user_id\"], \n",
    "                                   test_size=0.20,\n",
    "                                   random_state=123)\n",
    "\n",
    "print(f\"Train set size {len(readers_train)}\")\n",
    "print(f\"Test set size {len(readers_test)}\")"
   ]
  },
  {
   "cell_type": "code",
   "execution_count": 93,
   "metadata": {},
   "outputs": [
    {
     "output_type": "execute_result",
     "data": {
      "text/plain": [
       "art_id   1.10001800  1.10142798  1.10474932  1.10858409  1.10985668  \\\n",
       "user_id                                                               \n",
       "3                 0           0           0           0           0   \n",
       "4                 0           0           0           0           0   \n",
       "5                 0           0           0           0           0   \n",
       "6                 0           0           0           0           0   \n",
       "7                 0           0           0           0           0   \n",
       "8                 0           0           0           0           0   \n",
       "9                 0           0           0           0           0   \n",
       "10                0           0           0           0           0   \n",
       "12                0           0           0           0           0   \n",
       "13                0           0           0           0           0   \n",
       "\n",
       "art_id   1.11025867  1.11137056  1.11221430  1.11316388  1.11563462  ...  \\\n",
       "user_id                                                              ...   \n",
       "3                 0           0           0           0           0  ...   \n",
       "4                 0           0           0           0           0  ...   \n",
       "5                 0           0           0           0           0  ...   \n",
       "6                 0           0           0           0           0  ...   \n",
       "7                 0           0           0           0           0  ...   \n",
       "8                 0           0           0           0           0  ...   \n",
       "9                 0           0           0           0           0  ...   \n",
       "10                0           0           0           0           0  ...   \n",
       "12                0           0           0           0           0  ...   \n",
       "13                0           0           0           0           0  ...   \n",
       "\n",
       "art_id   ld.855114  ld.887983  ld.904757  ld.907977  ld.911838  ld.944195  \\\n",
       "user_id                                                                     \n",
       "3                0          0          0          0          0          0   \n",
       "4                0          0          0          0          0          0   \n",
       "5                0          0          0          0          0          0   \n",
       "6                0          0          0          0          0          0   \n",
       "7                0          0          0          0          0          0   \n",
       "8                0          0          0          0          0          0   \n",
       "9                0          0          0          0          0          0   \n",
       "10               0          0          0          0          0          0   \n",
       "12               0          0          0          0          0          0   \n",
       "13               0          0          0          0          0          0   \n",
       "\n",
       "art_id   ld.953156  ld.987818  ld.9951  ld.995338  \n",
       "user_id                                            \n",
       "3                0          0        0          0  \n",
       "4                0          0        0          0  \n",
       "5                0          0        0          0  \n",
       "6                0          0        0          0  \n",
       "7                0          0        0          0  \n",
       "8                0          0        0          0  \n",
       "9                0          0        0          0  \n",
       "10               0          0        0          0  \n",
       "12               0          0        0          0  \n",
       "13               0          0        0          0  \n",
       "\n",
       "[10 rows x 9857 columns]"
      ],
      "text/html": "<div>\n<style scoped>\n    .dataframe tbody tr th:only-of-type {\n        vertical-align: middle;\n    }\n\n    .dataframe tbody tr th {\n        vertical-align: top;\n    }\n\n    .dataframe thead th {\n        text-align: right;\n    }\n</style>\n<table border=\"1\" class=\"dataframe\">\n  <thead>\n    <tr style=\"text-align: right;\">\n      <th>art_id</th>\n      <th>1.10001800</th>\n      <th>1.10142798</th>\n      <th>1.10474932</th>\n      <th>1.10858409</th>\n      <th>1.10985668</th>\n      <th>1.11025867</th>\n      <th>1.11137056</th>\n      <th>1.11221430</th>\n      <th>1.11316388</th>\n      <th>1.11563462</th>\n      <th>...</th>\n      <th>ld.855114</th>\n      <th>ld.887983</th>\n      <th>ld.904757</th>\n      <th>ld.907977</th>\n      <th>ld.911838</th>\n      <th>ld.944195</th>\n      <th>ld.953156</th>\n      <th>ld.987818</th>\n      <th>ld.9951</th>\n      <th>ld.995338</th>\n    </tr>\n    <tr>\n      <th>user_id</th>\n      <th></th>\n      <th></th>\n      <th></th>\n      <th></th>\n      <th></th>\n      <th></th>\n      <th></th>\n      <th></th>\n      <th></th>\n      <th></th>\n      <th></th>\n      <th></th>\n      <th></th>\n      <th></th>\n      <th></th>\n      <th></th>\n      <th></th>\n      <th></th>\n      <th></th>\n      <th></th>\n      <th></th>\n    </tr>\n  </thead>\n  <tbody>\n    <tr>\n      <th>3</th>\n      <td>0</td>\n      <td>0</td>\n      <td>0</td>\n      <td>0</td>\n      <td>0</td>\n      <td>0</td>\n      <td>0</td>\n      <td>0</td>\n      <td>0</td>\n      <td>0</td>\n      <td>...</td>\n      <td>0</td>\n      <td>0</td>\n      <td>0</td>\n      <td>0</td>\n      <td>0</td>\n      <td>0</td>\n      <td>0</td>\n      <td>0</td>\n      <td>0</td>\n      <td>0</td>\n    </tr>\n    <tr>\n      <th>4</th>\n      <td>0</td>\n      <td>0</td>\n      <td>0</td>\n      <td>0</td>\n      <td>0</td>\n      <td>0</td>\n      <td>0</td>\n      <td>0</td>\n      <td>0</td>\n      <td>0</td>\n      <td>...</td>\n      <td>0</td>\n      <td>0</td>\n      <td>0</td>\n      <td>0</td>\n      <td>0</td>\n      <td>0</td>\n      <td>0</td>\n      <td>0</td>\n      <td>0</td>\n      <td>0</td>\n    </tr>\n    <tr>\n      <th>5</th>\n      <td>0</td>\n      <td>0</td>\n      <td>0</td>\n      <td>0</td>\n      <td>0</td>\n      <td>0</td>\n      <td>0</td>\n      <td>0</td>\n      <td>0</td>\n      <td>0</td>\n      <td>...</td>\n      <td>0</td>\n      <td>0</td>\n      <td>0</td>\n      <td>0</td>\n      <td>0</td>\n      <td>0</td>\n      <td>0</td>\n      <td>0</td>\n      <td>0</td>\n      <td>0</td>\n    </tr>\n    <tr>\n      <th>6</th>\n      <td>0</td>\n      <td>0</td>\n      <td>0</td>\n      <td>0</td>\n      <td>0</td>\n      <td>0</td>\n      <td>0</td>\n      <td>0</td>\n      <td>0</td>\n      <td>0</td>\n      <td>...</td>\n      <td>0</td>\n      <td>0</td>\n      <td>0</td>\n      <td>0</td>\n      <td>0</td>\n      <td>0</td>\n      <td>0</td>\n      <td>0</td>\n      <td>0</td>\n      <td>0</td>\n    </tr>\n    <tr>\n      <th>7</th>\n      <td>0</td>\n      <td>0</td>\n      <td>0</td>\n      <td>0</td>\n      <td>0</td>\n      <td>0</td>\n      <td>0</td>\n      <td>0</td>\n      <td>0</td>\n      <td>0</td>\n      <td>...</td>\n      <td>0</td>\n      <td>0</td>\n      <td>0</td>\n      <td>0</td>\n      <td>0</td>\n      <td>0</td>\n      <td>0</td>\n      <td>0</td>\n      <td>0</td>\n      <td>0</td>\n    </tr>\n    <tr>\n      <th>8</th>\n      <td>0</td>\n      <td>0</td>\n      <td>0</td>\n      <td>0</td>\n      <td>0</td>\n      <td>0</td>\n      <td>0</td>\n      <td>0</td>\n      <td>0</td>\n      <td>0</td>\n      <td>...</td>\n      <td>0</td>\n      <td>0</td>\n      <td>0</td>\n      <td>0</td>\n      <td>0</td>\n      <td>0</td>\n      <td>0</td>\n      <td>0</td>\n      <td>0</td>\n      <td>0</td>\n    </tr>\n    <tr>\n      <th>9</th>\n      <td>0</td>\n      <td>0</td>\n      <td>0</td>\n      <td>0</td>\n      <td>0</td>\n      <td>0</td>\n      <td>0</td>\n      <td>0</td>\n      <td>0</td>\n      <td>0</td>\n      <td>...</td>\n      <td>0</td>\n      <td>0</td>\n      <td>0</td>\n      <td>0</td>\n      <td>0</td>\n      <td>0</td>\n      <td>0</td>\n      <td>0</td>\n      <td>0</td>\n      <td>0</td>\n    </tr>\n    <tr>\n      <th>10</th>\n      <td>0</td>\n      <td>0</td>\n      <td>0</td>\n      <td>0</td>\n      <td>0</td>\n      <td>0</td>\n      <td>0</td>\n      <td>0</td>\n      <td>0</td>\n      <td>0</td>\n      <td>...</td>\n      <td>0</td>\n      <td>0</td>\n      <td>0</td>\n      <td>0</td>\n      <td>0</td>\n      <td>0</td>\n      <td>0</td>\n      <td>0</td>\n      <td>0</td>\n      <td>0</td>\n    </tr>\n    <tr>\n      <th>12</th>\n      <td>0</td>\n      <td>0</td>\n      <td>0</td>\n      <td>0</td>\n      <td>0</td>\n      <td>0</td>\n      <td>0</td>\n      <td>0</td>\n      <td>0</td>\n      <td>0</td>\n      <td>...</td>\n      <td>0</td>\n      <td>0</td>\n      <td>0</td>\n      <td>0</td>\n      <td>0</td>\n      <td>0</td>\n      <td>0</td>\n      <td>0</td>\n      <td>0</td>\n      <td>0</td>\n    </tr>\n    <tr>\n      <th>13</th>\n      <td>0</td>\n      <td>0</td>\n      <td>0</td>\n      <td>0</td>\n      <td>0</td>\n      <td>0</td>\n      <td>0</td>\n      <td>0</td>\n      <td>0</td>\n      <td>0</td>\n      <td>...</td>\n      <td>0</td>\n      <td>0</td>\n      <td>0</td>\n      <td>0</td>\n      <td>0</td>\n      <td>0</td>\n      <td>0</td>\n      <td>0</td>\n      <td>0</td>\n      <td>0</td>\n    </tr>\n  </tbody>\n</table>\n<p>10 rows × 9857 columns</p>\n</div>"
     },
     "metadata": {},
     "execution_count": 93
    }
   ],
   "source": [
    "reader_article_matrix_df = pd.crosstab(readers_train[\"user_id\"], readers_train[\"art_id\"]).fillna(0)\n",
    "reader_article_matrix_df.head(10)"
   ]
  },
  {
   "cell_type": "code",
   "execution_count": 94,
   "metadata": {},
   "outputs": [
    {
     "output_type": "execute_result",
     "data": {
      "text/plain": [
       "array([[0, 0, 0, ..., 0, 0, 0],\n",
       "       [0, 0, 0, ..., 0, 0, 0],\n",
       "       [0, 0, 0, ..., 0, 0, 0],\n",
       "       ...,\n",
       "       [0, 0, 0, ..., 0, 0, 0],\n",
       "       [0, 0, 0, ..., 0, 0, 0],\n",
       "       [0, 0, 0, ..., 0, 0, 0]], dtype=int64)"
      ]
     },
     "metadata": {},
     "execution_count": 94
    }
   ],
   "source": [
    "reader_article_matrix = reader_article_matrix_df.to_numpy()\n",
    "reader_article_matrix[:10]"
   ]
  },
  {
   "cell_type": "code",
   "execution_count": 95,
   "metadata": {},
   "outputs": [
    {
     "output_type": "execute_result",
     "data": {
      "text/plain": [
       "[3, 4, 5, 6, 7, 8, 9, 10, 12, 13]"
      ]
     },
     "metadata": {},
     "execution_count": 95
    }
   ],
   "source": [
    "reader_ids = list(reader_article_matrix_df.index)\n",
    "reader_ids[:10]"
   ]
  },
  {
   "cell_type": "code",
   "execution_count": 96,
   "metadata": {},
   "outputs": [
    {
     "output_type": "execute_result",
     "data": {
      "text/plain": [
       "<871x9857 sparse matrix of type '<class 'numpy.float64'>'\n",
       "\twith 21507 stored elements in Compressed Sparse Row format>"
      ]
     },
     "metadata": {},
     "execution_count": 96
    }
   ],
   "source": [
    "from scipy.sparse import csr_matrix\n",
    "\n",
    "reader_article_csr_matrix = csr_matrix(reader_article_matrix)\n",
    "\n",
    "# Type cast do float bo inczej metoda nie obsługuje\n",
    "reader_article_csr_matrix = reader_article_csr_matrix.asfptype()\n",
    "reader_article_csr_matrix"
   ]
  },
  {
   "cell_type": "code",
   "execution_count": 97,
   "metadata": {},
   "outputs": [],
   "source": [
    "from scipy.sparse.linalg import svds\n",
    "\n",
    "# The number of factors to factor the user-item matrix.\n",
    "NUMBER_OF_FACTORS_MF = 15\n",
    "#Performs matrix factorization of the original user item matrix\n",
    "#U, sigma, Vt = svds(users_items_pivot_matrix, k = NUMBER_OF_FACTORS_MF)\n",
    "U, sigma, Vt = svds(reader_article_csr_matrix, k = NUMBER_OF_FACTORS_MF)"
   ]
  },
  {
   "cell_type": "code",
   "execution_count": 98,
   "metadata": {},
   "outputs": [
    {
     "output_type": "stream",
     "name": "stdout",
     "text": [
      "(871, 15)\n(15, 9857)\n(15, 15)\n"
     ]
    }
   ],
   "source": [
    "sigma = np.diag(sigma)\n",
    "\n",
    "print(f\"{U.shape}\")\n",
    "print(f\"{Vt.shape}\")\n",
    "print(f\"{sigma.shape}\")"
   ]
  },
  {
   "cell_type": "code",
   "execution_count": 99,
   "metadata": {},
   "outputs": [
    {
     "output_type": "execute_result",
     "data": {
      "text/plain": [
       "array([[ 9.05510630e-05,  6.94367426e-04, -5.60644823e-04, ...,\n",
       "        -2.41197935e-03, -5.60961662e-03,  3.76247665e-04],\n",
       "       [ 2.17622407e-03, -1.97701753e-03, -1.91399387e-03, ...,\n",
       "        -3.29539631e-03, -1.11596766e-02,  9.37267847e-04],\n",
       "       [-1.42382915e-03,  1.40906157e-04, -2.33309465e-04, ...,\n",
       "        -2.11714603e-04,  1.16920981e-02,  7.96918011e-05],\n",
       "       ...,\n",
       "       [-3.72358537e-03, -2.72681695e-03, -2.49241667e-03, ...,\n",
       "         1.63179078e-03, -1.31633809e-02, -3.38607318e-05],\n",
       "       [ 3.95467047e-03, -1.57992507e-03,  1.42194758e-05, ...,\n",
       "         1.09610559e-03,  2.71770116e-03,  7.09056443e-04],\n",
       "       [ 1.17838175e-02,  2.54173834e-02, -8.55325967e-04, ...,\n",
       "         7.22323618e-03, -1.02951214e-02,  6.84647007e-04]])"
      ]
     },
     "metadata": {},
     "execution_count": 99
    }
   ],
   "source": [
    "reader_predictions = np.dot(np.dot(U, sigma), Vt) \n",
    "reader_predictions"
   ]
  },
  {
   "cell_type": "code",
   "execution_count": 100,
   "metadata": {},
   "outputs": [],
   "source": [
    "reader_predictions_norm = (reader_predictions - reader_predictions.min()) / (reader_predictions.max() - reader_predictions.min())"
   ]
  },
  {
   "cell_type": "code",
   "execution_count": 101,
   "metadata": {},
   "outputs": [
    {
     "output_type": "execute_result",
     "data": {
      "text/plain": [
       "                3         4         5         6         7         8     \\\n",
       "art_id                                                                   \n",
       "1.10001800  0.236763  0.238054  0.235825  0.237426  0.236774  0.234032   \n",
       "1.10142798  0.237137  0.235483  0.236794  0.236771  0.236845  0.233594   \n",
       "1.10474932  0.236360  0.235522  0.236562  0.236464  0.236613  0.235608   \n",
       "1.10858409  0.239359  0.230131  0.235719  0.235763  0.237012  0.238736   \n",
       "1.10985668  0.236339  0.238134  0.235851  0.236884  0.236743  0.232579   \n",
       "1.11025867  0.239148  0.233046  0.237255  0.235980  0.236792  0.247689   \n",
       "1.11137056  0.237042  0.240535  0.237124  0.236980  0.236800  0.237617   \n",
       "1.11221430  0.236190  0.233386  0.235297  0.237324  0.236734  0.235895   \n",
       "1.11316388  0.236909  0.233720  0.236932  0.236300  0.236371  0.241752   \n",
       "1.11563462  0.236387  0.243424  0.236421  0.236656  0.236836  0.239803   \n",
       "\n",
       "                9         10        12        13    ...      990       991   \\\n",
       "art_id                                              ...                       \n",
       "1.10001800  0.236250  0.237596  0.235172  0.238656  ...  0.238574  0.236502   \n",
       "1.10142798  0.236883  0.235526  0.234151  0.238967  ...  0.240413  0.233718   \n",
       "1.10474932  0.236419  0.236170  0.234812  0.236274  ...  0.235916  0.236438   \n",
       "1.10858409  0.236967  0.229987  0.234127  0.237462  ...  0.236393  0.238894   \n",
       "1.10985668  0.236100  0.236299  0.237118  0.236732  ...  0.236247  0.235576   \n",
       "1.11025867  0.237670  0.232994  0.238199  0.237322  ...  0.240765  0.237827   \n",
       "1.11137056  0.236954  0.238924  0.236802  0.236994  ...  0.238086  0.237279   \n",
       "1.11221430  0.236585  0.234849  0.249842  0.237820  ...  0.236154  0.241633   \n",
       "1.11316388  0.236936  0.235697  0.234670  0.235961  ...  0.237491  0.245387   \n",
       "1.11563462  0.236865  0.235665  0.243724  0.236796  ...  0.235935  0.235927   \n",
       "\n",
       "                992       993       994       996       997       998   \\\n",
       "art_id                                                                   \n",
       "1.10001800  0.235653  0.239970  0.235735  0.235331  0.236558  0.234401   \n",
       "1.10142798  0.236072  0.236048  0.236108  0.236865  0.235164  0.235018   \n",
       "1.10474932  0.236328  0.236435  0.236537  0.236510  0.242101  0.235164   \n",
       "1.10858409  0.236776  0.236496  0.238405  0.240850  0.235329  0.226863   \n",
       "1.10985668  0.236061  0.236075  0.236805  0.235724  0.242713  0.235038   \n",
       "1.11025867  0.236083  0.236206  0.236748  0.240096  0.235774  0.237553   \n",
       "1.11137056  0.236710  0.236591  0.237051  0.237256  0.239540  0.237347   \n",
       "1.11221430  0.236529  0.235574  0.235098  0.236460  0.235514  0.233594   \n",
       "1.11316388  0.236039  0.236291  0.236169  0.237488  0.237188  0.236279   \n",
       "1.11563462  0.236805  0.240392  0.239559  0.236715  0.234892  0.237299   \n",
       "\n",
       "                999       1000  \n",
       "art_id                          \n",
       "1.10001800  0.239155  0.244003  \n",
       "1.10142798  0.235729  0.252444  \n",
       "1.10474932  0.236716  0.236177  \n",
       "1.10858409  0.235154  0.234554  \n",
       "1.10985668  0.236906  0.236328  \n",
       "1.11025867  0.239096  0.238862  \n",
       "1.11137056  0.236513  0.238808  \n",
       "1.11221430  0.236857  0.242602  \n",
       "1.11316388  0.238741  0.235173  \n",
       "1.11563462  0.243030  0.236653  \n",
       "\n",
       "[10 rows x 871 columns]"
      ],
      "text/html": "<div>\n<style scoped>\n    .dataframe tbody tr th:only-of-type {\n        vertical-align: middle;\n    }\n\n    .dataframe tbody tr th {\n        vertical-align: top;\n    }\n\n    .dataframe thead th {\n        text-align: right;\n    }\n</style>\n<table border=\"1\" class=\"dataframe\">\n  <thead>\n    <tr style=\"text-align: right;\">\n      <th></th>\n      <th>3</th>\n      <th>4</th>\n      <th>5</th>\n      <th>6</th>\n      <th>7</th>\n      <th>8</th>\n      <th>9</th>\n      <th>10</th>\n      <th>12</th>\n      <th>13</th>\n      <th>...</th>\n      <th>990</th>\n      <th>991</th>\n      <th>992</th>\n      <th>993</th>\n      <th>994</th>\n      <th>996</th>\n      <th>997</th>\n      <th>998</th>\n      <th>999</th>\n      <th>1000</th>\n    </tr>\n    <tr>\n      <th>art_id</th>\n      <th></th>\n      <th></th>\n      <th></th>\n      <th></th>\n      <th></th>\n      <th></th>\n      <th></th>\n      <th></th>\n      <th></th>\n      <th></th>\n      <th></th>\n      <th></th>\n      <th></th>\n      <th></th>\n      <th></th>\n      <th></th>\n      <th></th>\n      <th></th>\n      <th></th>\n      <th></th>\n      <th></th>\n    </tr>\n  </thead>\n  <tbody>\n    <tr>\n      <th>1.10001800</th>\n      <td>0.236763</td>\n      <td>0.238054</td>\n      <td>0.235825</td>\n      <td>0.237426</td>\n      <td>0.236774</td>\n      <td>0.234032</td>\n      <td>0.236250</td>\n      <td>0.237596</td>\n      <td>0.235172</td>\n      <td>0.238656</td>\n      <td>...</td>\n      <td>0.238574</td>\n      <td>0.236502</td>\n      <td>0.235653</td>\n      <td>0.239970</td>\n      <td>0.235735</td>\n      <td>0.235331</td>\n      <td>0.236558</td>\n      <td>0.234401</td>\n      <td>0.239155</td>\n      <td>0.244003</td>\n    </tr>\n    <tr>\n      <th>1.10142798</th>\n      <td>0.237137</td>\n      <td>0.235483</td>\n      <td>0.236794</td>\n      <td>0.236771</td>\n      <td>0.236845</td>\n      <td>0.233594</td>\n      <td>0.236883</td>\n      <td>0.235526</td>\n      <td>0.234151</td>\n      <td>0.238967</td>\n      <td>...</td>\n      <td>0.240413</td>\n      <td>0.233718</td>\n      <td>0.236072</td>\n      <td>0.236048</td>\n      <td>0.236108</td>\n      <td>0.236865</td>\n      <td>0.235164</td>\n      <td>0.235018</td>\n      <td>0.235729</td>\n      <td>0.252444</td>\n    </tr>\n    <tr>\n      <th>1.10474932</th>\n      <td>0.236360</td>\n      <td>0.235522</td>\n      <td>0.236562</td>\n      <td>0.236464</td>\n      <td>0.236613</td>\n      <td>0.235608</td>\n      <td>0.236419</td>\n      <td>0.236170</td>\n      <td>0.234812</td>\n      <td>0.236274</td>\n      <td>...</td>\n      <td>0.235916</td>\n      <td>0.236438</td>\n      <td>0.236328</td>\n      <td>0.236435</td>\n      <td>0.236537</td>\n      <td>0.236510</td>\n      <td>0.242101</td>\n      <td>0.235164</td>\n      <td>0.236716</td>\n      <td>0.236177</td>\n    </tr>\n    <tr>\n      <th>1.10858409</th>\n      <td>0.239359</td>\n      <td>0.230131</td>\n      <td>0.235719</td>\n      <td>0.235763</td>\n      <td>0.237012</td>\n      <td>0.238736</td>\n      <td>0.236967</td>\n      <td>0.229987</td>\n      <td>0.234127</td>\n      <td>0.237462</td>\n      <td>...</td>\n      <td>0.236393</td>\n      <td>0.238894</td>\n      <td>0.236776</td>\n      <td>0.236496</td>\n      <td>0.238405</td>\n      <td>0.240850</td>\n      <td>0.235329</td>\n      <td>0.226863</td>\n      <td>0.235154</td>\n      <td>0.234554</td>\n    </tr>\n    <tr>\n      <th>1.10985668</th>\n      <td>0.236339</td>\n      <td>0.238134</td>\n      <td>0.235851</td>\n      <td>0.236884</td>\n      <td>0.236743</td>\n      <td>0.232579</td>\n      <td>0.236100</td>\n      <td>0.236299</td>\n      <td>0.237118</td>\n      <td>0.236732</td>\n      <td>...</td>\n      <td>0.236247</td>\n      <td>0.235576</td>\n      <td>0.236061</td>\n      <td>0.236075</td>\n      <td>0.236805</td>\n      <td>0.235724</td>\n      <td>0.242713</td>\n      <td>0.235038</td>\n      <td>0.236906</td>\n      <td>0.236328</td>\n    </tr>\n    <tr>\n      <th>1.11025867</th>\n      <td>0.239148</td>\n      <td>0.233046</td>\n      <td>0.237255</td>\n      <td>0.235980</td>\n      <td>0.236792</td>\n      <td>0.247689</td>\n      <td>0.237670</td>\n      <td>0.232994</td>\n      <td>0.238199</td>\n      <td>0.237322</td>\n      <td>...</td>\n      <td>0.240765</td>\n      <td>0.237827</td>\n      <td>0.236083</td>\n      <td>0.236206</td>\n      <td>0.236748</td>\n      <td>0.240096</td>\n      <td>0.235774</td>\n      <td>0.237553</td>\n      <td>0.239096</td>\n      <td>0.238862</td>\n    </tr>\n    <tr>\n      <th>1.11137056</th>\n      <td>0.237042</td>\n      <td>0.240535</td>\n      <td>0.237124</td>\n      <td>0.236980</td>\n      <td>0.236800</td>\n      <td>0.237617</td>\n      <td>0.236954</td>\n      <td>0.238924</td>\n      <td>0.236802</td>\n      <td>0.236994</td>\n      <td>...</td>\n      <td>0.238086</td>\n      <td>0.237279</td>\n      <td>0.236710</td>\n      <td>0.236591</td>\n      <td>0.237051</td>\n      <td>0.237256</td>\n      <td>0.239540</td>\n      <td>0.237347</td>\n      <td>0.236513</td>\n      <td>0.238808</td>\n    </tr>\n    <tr>\n      <th>1.11221430</th>\n      <td>0.236190</td>\n      <td>0.233386</td>\n      <td>0.235297</td>\n      <td>0.237324</td>\n      <td>0.236734</td>\n      <td>0.235895</td>\n      <td>0.236585</td>\n      <td>0.234849</td>\n      <td>0.249842</td>\n      <td>0.237820</td>\n      <td>...</td>\n      <td>0.236154</td>\n      <td>0.241633</td>\n      <td>0.236529</td>\n      <td>0.235574</td>\n      <td>0.235098</td>\n      <td>0.236460</td>\n      <td>0.235514</td>\n      <td>0.233594</td>\n      <td>0.236857</td>\n      <td>0.242602</td>\n    </tr>\n    <tr>\n      <th>1.11316388</th>\n      <td>0.236909</td>\n      <td>0.233720</td>\n      <td>0.236932</td>\n      <td>0.236300</td>\n      <td>0.236371</td>\n      <td>0.241752</td>\n      <td>0.236936</td>\n      <td>0.235697</td>\n      <td>0.234670</td>\n      <td>0.235961</td>\n      <td>...</td>\n      <td>0.237491</td>\n      <td>0.245387</td>\n      <td>0.236039</td>\n      <td>0.236291</td>\n      <td>0.236169</td>\n      <td>0.237488</td>\n      <td>0.237188</td>\n      <td>0.236279</td>\n      <td>0.238741</td>\n      <td>0.235173</td>\n    </tr>\n    <tr>\n      <th>1.11563462</th>\n      <td>0.236387</td>\n      <td>0.243424</td>\n      <td>0.236421</td>\n      <td>0.236656</td>\n      <td>0.236836</td>\n      <td>0.239803</td>\n      <td>0.236865</td>\n      <td>0.235665</td>\n      <td>0.243724</td>\n      <td>0.236796</td>\n      <td>...</td>\n      <td>0.235935</td>\n      <td>0.235927</td>\n      <td>0.236805</td>\n      <td>0.240392</td>\n      <td>0.239559</td>\n      <td>0.236715</td>\n      <td>0.234892</td>\n      <td>0.237299</td>\n      <td>0.243030</td>\n      <td>0.236653</td>\n    </tr>\n  </tbody>\n</table>\n<p>10 rows × 871 columns</p>\n</div>"
     },
     "metadata": {},
     "execution_count": 101
    }
   ],
   "source": [
    "#Converting the reconstructed matrix back to a Pandas dataframe\n",
    "cf_preds_df = pd.DataFrame(reader_predictions_norm, columns = reader_article_matrix_df.columns, index=reader_ids).transpose()\n",
    "cf_preds_df.head(10)"
   ]
  },
  {
   "cell_type": "code",
   "execution_count": 102,
   "metadata": {},
   "outputs": [],
   "source": [
    "#Indexing by personId to speed up the searches during evaluation\n",
    "interactions_full_indexed_df = readers.set_index('user_id')\n",
    "interactions_train_indexed_df = readers_train.set_index('user_id')\n",
    "interactions_test_indexed_df = readers_test.set_index('user_id')"
   ]
  },
  {
   "cell_type": "code",
   "execution_count": 103,
   "metadata": {},
   "outputs": [],
   "source": [
    "def get_items_interacted(person_id, interactions_df):\n",
    "    # Get the user's data and merge in the movie information.\n",
    "    interacted_items = interactions_df.loc[person_id]['art_id']\n",
    "    return set(interacted_items if type(interacted_items) == pd.Series else [interacted_items])"
   ]
  },
  {
   "cell_type": "code",
   "execution_count": 150,
   "metadata": {},
   "outputs": [],
   "source": [
    "#Top-N accuracy metrics consts\n",
    "EVAL_RANDOM_SAMPLE_NON_INTERACTED_ITEMS = 100\n",
    "\n",
    "class ModelEvaluator:\n",
    "\n",
    "\n",
    "    def get_not_interacted_items_sample(self, person_id, sample_size, seed=42):\n",
    "        interacted_items = get_items_interacted(person_id, interactions_full_indexed_df)\n",
    "        all_items = set(readers['art_id'])\n",
    "        non_interacted_items = all_items - interacted_items\n",
    "\n",
    "        random.seed(seed)\n",
    "        non_interacted_items_sample = random.sample(non_interacted_items, sample_size)\n",
    "        return set(non_interacted_items_sample)\n",
    "\n",
    "    def _verify_hit_top_n(self, item_id, recommended_items, topn):        \n",
    "            try:\n",
    "                index = next(i for i, c in enumerate(recommended_items) if c == item_id)\n",
    "            except:\n",
    "                index = -1\n",
    "            hit = int(index in range(0, topn))\n",
    "            return hit, index\n",
    "\n",
    "    def evaluate_model_for_user(self, model, person_id):\n",
    "        #Getting the items in test set\n",
    "        interacted_values_testset = interactions_test_indexed_df.loc[person_id]\n",
    "        if type(interacted_values_testset['art_id']) == pd.Series:\n",
    "            person_interacted_items_testset = set(interacted_values_testset['art_id'])\n",
    "        else:\n",
    "            person_interacted_items_testset = set([interacted_values_testset['art_id']])  \n",
    "        interacted_items_count_testset = len(person_interacted_items_testset) \n",
    "\n",
    "        #Getting a ranked recommendation list from a model for a given user\n",
    "        person_recs_df = model.recommend_items(person_id, \n",
    "                                               items_to_ignore=get_items_interacted(person_id,interactions_train_indexed_df),\n",
    "                                               topn=10000000000)\n",
    "\n",
    "        hits_at_5_count = 0\n",
    "        hits_at_10_count = 0\n",
    "        #For each item the user has interacted in test set\n",
    "        for item_id in person_interacted_items_testset:\n",
    "            #Getting a random sample (100) items the user has not interacted \n",
    "            #(to represent items that are assumed to be no relevant to the user)\n",
    "            seed = int.from_bytes(item_id.encode('utf-8'), 'little')\n",
    "            non_interacted_items_sample = self.get_not_interacted_items_sample(person_id, \n",
    "                                                                          sample_size=EVAL_RANDOM_SAMPLE_NON_INTERACTED_ITEMS, \n",
    "                                                                          seed=seed)\n",
    "\n",
    "            #Combining the current interacted item with the 100 random items\n",
    "            items_to_filter_recs = non_interacted_items_sample.union(set([item_id]))\n",
    "\n",
    "            #Filtering only recommendations that are either the interacted item or from a random sample of 100 non-interacted items\n",
    "            valid_recs_df = person_recs_df[person_recs_df['art_id'].isin(items_to_filter_recs)]                    \n",
    "            valid_recs = valid_recs_df['art_id'].values\n",
    "            #Verifying if the current interacted item is among the Top-N recommended items\n",
    "            hit_at_5, index_at_5 = self._verify_hit_top_n(item_id, valid_recs, 5)\n",
    "            hits_at_5_count += hit_at_5\n",
    "            hit_at_10, index_at_10 = self._verify_hit_top_n(item_id, valid_recs, 10)\n",
    "            hits_at_10_count += hit_at_10\n",
    "\n",
    "        #Recall is the rate of the interacted items that are ranked among the Top-N recommended items, \n",
    "        #when mixed with a set of non-relevant items\n",
    "        recall_at_5 = hits_at_5_count / float(interacted_items_count_testset)\n",
    "        recall_at_10 = hits_at_10_count / float(interacted_items_count_testset)\n",
    "\n",
    "        person_metrics = {'hits@5_count':hits_at_5_count, \n",
    "                          'hits@10_count':hits_at_10_count, \n",
    "                          'interacted_count': interacted_items_count_testset,\n",
    "                          'recall@5': recall_at_5,\n",
    "                          'recall@10': recall_at_10}\n",
    "        return person_metrics\n",
    "\n",
    "    def evaluate_model(self, model):\n",
    "        #print('Running evaluation for users')\n",
    "        people_metrics = []\n",
    "        for idx, person_id in enumerate(list(interactions_test_indexed_df.index.unique().values)):\n",
    "            #if idx % 100 == 0 and idx > 0:\n",
    "            #    print('%d users processed' % idx)\n",
    "            person_metrics = self.evaluate_model_for_user(model, person_id)  \n",
    "            person_metrics['_person_id'] = person_id\n",
    "            people_metrics.append(person_metrics)\n",
    "        print('%d users processed' % idx)\n",
    "\n",
    "        detailed_results_df = pd.DataFrame(people_metrics) \\\n",
    "                            .sort_values('interacted_count', ascending=False)\n",
    "        \n",
    "        global_recall_at_5 = detailed_results_df['hits@5_count'].sum() / float(detailed_results_df['interacted_count'].sum())\n",
    "        global_recall_at_10 = detailed_results_df['hits@10_count'].sum() / float(detailed_results_df['interacted_count'].sum())\n",
    "        \n",
    "        global_metrics = {'modelName': model.get_model_name(),\n",
    "                          'recall@5': global_recall_at_5,\n",
    "                          'recall@10': global_recall_at_10}    \n",
    "        return global_metrics, detailed_results_df\n",
    "    \n",
    "model_evaluator = ModelEvaluator() "
   ]
  },
  {
   "cell_type": "code",
   "execution_count": 140,
   "metadata": {},
   "outputs": [],
   "source": [
    "class CFRecommender:\n",
    "    \n",
    "    MODEL_NAME = 'CF_model'\n",
    "    \n",
    "    def __init__(self, cf_predictions_df, items_df=None):\n",
    "        self.cf_predictions_df = cf_predictions_df\n",
    "        self.items_df = items_df\n",
    "        \n",
    "    def get_model_name(self):\n",
    "        return self.MODEL_NAME\n",
    "\n",
    "    def persist(self, path):\n",
    "        with open(f\"{path}/{self.MODEL_NAME}.pickle\", mode=\"wb+\") as model_file:\n",
    "            pickle.dump(self, model_file)\n",
    "\n",
    "    @classmethod\n",
    "    def from_file(cls, path):\n",
    "        try:\n",
    "            with open(path, mode=\"rb\") as model_file:\n",
    "                model = pickle.load(model_file)\n",
    "\n",
    "            cf_predictions_df = model.cf_predictions_df\n",
    "            items_df = model.items_df\n",
    "\n",
    "            return cls(model.cf_predictions_df, model.items_df)\n",
    "        except:\n",
    "            print(\"Couldn't load model\")\n",
    "\n",
    "\n",
    "    def recommend_items(self, user_id, items_to_ignore=[], topn=10, verbose=False):\n",
    "        # Get and sort the user's predictions\n",
    "        sorted_user_predictions = self.cf_predictions_df[user_id].sort_values(ascending=False) \\\n",
    "                                    .reset_index().rename(columns={user_id: 'recStrength'})\n",
    "\n",
    "        # Recommend the highest predicted rating movies that the user hasn't seen yet.\n",
    "        recommendations_df = sorted_user_predictions[~sorted_user_predictions['art_id'].isin(items_to_ignore)] \\\n",
    "                               .sort_values('recStrength', ascending = False) \\\n",
    "                               .head(topn)\n",
    "\n",
    "        if verbose:\n",
    "            if self.items_df is None:\n",
    "                raise Exception('\"items_df\" is required in verbose mode')\n",
    "\n",
    "            recommendations_df = recommendations_df.merge(self.items_df, how = 'left', \n",
    "                                                          left_on = 'art_id', \n",
    "                                                          right_on = 'art_id')[['recStrength', 'art_id', 'title', 'url', 'lang']]\n",
    "\n",
    "\n",
    "        return recommendations_df\n",
    "    \n",
    "cf_recommender_model = CFRecommender(cf_preds_df, readers)"
   ]
  },
  {
   "cell_type": "code",
   "execution_count": 126,
   "metadata": {},
   "outputs": [],
   "source": [
    "cf_recommender_model.persist(\"../data\")"
   ]
  },
  {
   "cell_type": "code",
   "execution_count": 134,
   "metadata": {},
   "outputs": [],
   "source": [
    "loaded_model = CFRecommender.from_file(\"../data/CF_model.pickle\")"
   ]
  },
  {
   "cell_type": "code",
   "execution_count": 151,
   "metadata": {},
   "outputs": [
    {
     "output_type": "stream",
     "name": "stdout",
     "text": [
      "Evaluating Collaborative Filtering (SVD Matrix Factorization) model...\n",
      "870 users processed\n",
      "\n",
      "Global metrics:\n",
      "{'modelName': 'CF_model', 'recall@5': 0.18709317463269481, 'recall@10': 0.25850846196763994}\n"
     ]
    },
    {
     "output_type": "execute_result",
     "data": {
      "text/plain": [
       "     hits@5_count  hits@10_count  interacted_count  recall@5  recall@10  \\\n",
       "672             4              4                10       0.4        0.4   \n",
       "350             1              1                10       0.1        0.1   \n",
       "449             1              2                10       0.1        0.2   \n",
       "279             1              1                10       0.1        0.1   \n",
       "336             2              2                10       0.2        0.2   \n",
       "622             1              2                10       0.1        0.2   \n",
       "433             0              2                10       0.0        0.2   \n",
       "432             0              0                10       0.0        0.0   \n",
       "42              3              3                10       0.3        0.3   \n",
       "87              0              1                10       0.0        0.1   \n",
       "\n",
       "     _person_id  \n",
       "672           8  \n",
       "350          73  \n",
       "449         153  \n",
       "279         598  \n",
       "336         908  \n",
       "622         858  \n",
       "433         376  \n",
       "432         451  \n",
       "42          526  \n",
       "87          443  "
      ],
      "text/html": "<div>\n<style scoped>\n    .dataframe tbody tr th:only-of-type {\n        vertical-align: middle;\n    }\n\n    .dataframe tbody tr th {\n        vertical-align: top;\n    }\n\n    .dataframe thead th {\n        text-align: right;\n    }\n</style>\n<table border=\"1\" class=\"dataframe\">\n  <thead>\n    <tr style=\"text-align: right;\">\n      <th></th>\n      <th>hits@5_count</th>\n      <th>hits@10_count</th>\n      <th>interacted_count</th>\n      <th>recall@5</th>\n      <th>recall@10</th>\n      <th>_person_id</th>\n    </tr>\n  </thead>\n  <tbody>\n    <tr>\n      <th>672</th>\n      <td>4</td>\n      <td>4</td>\n      <td>10</td>\n      <td>0.4</td>\n      <td>0.4</td>\n      <td>8</td>\n    </tr>\n    <tr>\n      <th>350</th>\n      <td>1</td>\n      <td>1</td>\n      <td>10</td>\n      <td>0.1</td>\n      <td>0.1</td>\n      <td>73</td>\n    </tr>\n    <tr>\n      <th>449</th>\n      <td>1</td>\n      <td>2</td>\n      <td>10</td>\n      <td>0.1</td>\n      <td>0.2</td>\n      <td>153</td>\n    </tr>\n    <tr>\n      <th>279</th>\n      <td>1</td>\n      <td>1</td>\n      <td>10</td>\n      <td>0.1</td>\n      <td>0.1</td>\n      <td>598</td>\n    </tr>\n    <tr>\n      <th>336</th>\n      <td>2</td>\n      <td>2</td>\n      <td>10</td>\n      <td>0.2</td>\n      <td>0.2</td>\n      <td>908</td>\n    </tr>\n    <tr>\n      <th>622</th>\n      <td>1</td>\n      <td>2</td>\n      <td>10</td>\n      <td>0.1</td>\n      <td>0.2</td>\n      <td>858</td>\n    </tr>\n    <tr>\n      <th>433</th>\n      <td>0</td>\n      <td>2</td>\n      <td>10</td>\n      <td>0.0</td>\n      <td>0.2</td>\n      <td>376</td>\n    </tr>\n    <tr>\n      <th>432</th>\n      <td>0</td>\n      <td>0</td>\n      <td>10</td>\n      <td>0.0</td>\n      <td>0.0</td>\n      <td>451</td>\n    </tr>\n    <tr>\n      <th>42</th>\n      <td>3</td>\n      <td>3</td>\n      <td>10</td>\n      <td>0.3</td>\n      <td>0.3</td>\n      <td>526</td>\n    </tr>\n    <tr>\n      <th>87</th>\n      <td>0</td>\n      <td>1</td>\n      <td>10</td>\n      <td>0.0</td>\n      <td>0.1</td>\n      <td>443</td>\n    </tr>\n  </tbody>\n</table>\n</div>"
     },
     "metadata": {},
     "execution_count": 151
    }
   ],
   "source": [
    "print('Evaluating Collaborative Filtering (SVD Matrix Factorization) model...')\n",
    "cf_global_metrics, cf_detailed_results_df = model_evaluator.evaluate_model(cf_recommender_model)\n",
    "print('\\nGlobal metrics:\\n%s' % cf_global_metrics)\n",
    "cf_detailed_results_df.head(10)"
   ]
  },
  {
   "cell_type": "code",
   "execution_count": 79,
   "metadata": {},
   "outputs": [
    {
     "output_type": "execute_result",
     "data": {
      "text/plain": [
       "     hits@5_count  hits@10_count  interacted_count  recall@5  recall@10  \\\n",
       "543             4              4                 4  1.000000   1.000000   \n",
       "794             2              2                 2  1.000000   1.000000   \n",
       "623             3              3                 3  1.000000   1.000000   \n",
       "344             4              4                 5  0.800000   0.800000   \n",
       "144             3              3                 4  0.750000   0.750000   \n",
       "501             6              6                 8  0.750000   0.750000   \n",
       "637             6              6                 8  0.750000   0.750000   \n",
       "737             3              4                 4  0.750000   1.000000   \n",
       "203             3              3                 4  0.750000   0.750000   \n",
       "72              3              3                 4  0.750000   0.750000   \n",
       "137             3              3                 4  0.750000   0.750000   \n",
       "627             3              3                 4  0.750000   0.750000   \n",
       "525             5              5                 7  0.714286   0.714286   \n",
       "863             2              2                 3  0.666667   0.666667   \n",
       "477             6              7                 9  0.666667   0.777778   \n",
       "837             2              2                 3  0.666667   0.666667   \n",
       "442             2              2                 3  0.666667   0.666667   \n",
       "824             2              2                 3  0.666667   0.666667   \n",
       "502             2              2                 3  0.666667   0.666667   \n",
       "765             2              2                 3  0.666667   0.666667   \n",
       "\n",
       "     _person_id  \n",
       "543         853  \n",
       "794         575  \n",
       "623         954  \n",
       "344         798  \n",
       "144          95  \n",
       "501         465  \n",
       "637         649  \n",
       "737         673  \n",
       "203         851  \n",
       "72           87  \n",
       "137         286  \n",
       "627         452  \n",
       "525         523  \n",
       "863         662  \n",
       "477         106  \n",
       "837         105  \n",
       "442          17  \n",
       "824         715  \n",
       "502         710  \n",
       "765         466  "
      ],
      "text/html": "<div>\n<style scoped>\n    .dataframe tbody tr th:only-of-type {\n        vertical-align: middle;\n    }\n\n    .dataframe tbody tr th {\n        vertical-align: top;\n    }\n\n    .dataframe thead th {\n        text-align: right;\n    }\n</style>\n<table border=\"1\" class=\"dataframe\">\n  <thead>\n    <tr style=\"text-align: right;\">\n      <th></th>\n      <th>hits@5_count</th>\n      <th>hits@10_count</th>\n      <th>interacted_count</th>\n      <th>recall@5</th>\n      <th>recall@10</th>\n      <th>_person_id</th>\n    </tr>\n  </thead>\n  <tbody>\n    <tr>\n      <th>543</th>\n      <td>4</td>\n      <td>4</td>\n      <td>4</td>\n      <td>1.000000</td>\n      <td>1.000000</td>\n      <td>853</td>\n    </tr>\n    <tr>\n      <th>794</th>\n      <td>2</td>\n      <td>2</td>\n      <td>2</td>\n      <td>1.000000</td>\n      <td>1.000000</td>\n      <td>575</td>\n    </tr>\n    <tr>\n      <th>623</th>\n      <td>3</td>\n      <td>3</td>\n      <td>3</td>\n      <td>1.000000</td>\n      <td>1.000000</td>\n      <td>954</td>\n    </tr>\n    <tr>\n      <th>344</th>\n      <td>4</td>\n      <td>4</td>\n      <td>5</td>\n      <td>0.800000</td>\n      <td>0.800000</td>\n      <td>798</td>\n    </tr>\n    <tr>\n      <th>144</th>\n      <td>3</td>\n      <td>3</td>\n      <td>4</td>\n      <td>0.750000</td>\n      <td>0.750000</td>\n      <td>95</td>\n    </tr>\n    <tr>\n      <th>501</th>\n      <td>6</td>\n      <td>6</td>\n      <td>8</td>\n      <td>0.750000</td>\n      <td>0.750000</td>\n      <td>465</td>\n    </tr>\n    <tr>\n      <th>637</th>\n      <td>6</td>\n      <td>6</td>\n      <td>8</td>\n      <td>0.750000</td>\n      <td>0.750000</td>\n      <td>649</td>\n    </tr>\n    <tr>\n      <th>737</th>\n      <td>3</td>\n      <td>4</td>\n      <td>4</td>\n      <td>0.750000</td>\n      <td>1.000000</td>\n      <td>673</td>\n    </tr>\n    <tr>\n      <th>203</th>\n      <td>3</td>\n      <td>3</td>\n      <td>4</td>\n      <td>0.750000</td>\n      <td>0.750000</td>\n      <td>851</td>\n    </tr>\n    <tr>\n      <th>72</th>\n      <td>3</td>\n      <td>3</td>\n      <td>4</td>\n      <td>0.750000</td>\n      <td>0.750000</td>\n      <td>87</td>\n    </tr>\n    <tr>\n      <th>137</th>\n      <td>3</td>\n      <td>3</td>\n      <td>4</td>\n      <td>0.750000</td>\n      <td>0.750000</td>\n      <td>286</td>\n    </tr>\n    <tr>\n      <th>627</th>\n      <td>3</td>\n      <td>3</td>\n      <td>4</td>\n      <td>0.750000</td>\n      <td>0.750000</td>\n      <td>452</td>\n    </tr>\n    <tr>\n      <th>525</th>\n      <td>5</td>\n      <td>5</td>\n      <td>7</td>\n      <td>0.714286</td>\n      <td>0.714286</td>\n      <td>523</td>\n    </tr>\n    <tr>\n      <th>863</th>\n      <td>2</td>\n      <td>2</td>\n      <td>3</td>\n      <td>0.666667</td>\n      <td>0.666667</td>\n      <td>662</td>\n    </tr>\n    <tr>\n      <th>477</th>\n      <td>6</td>\n      <td>7</td>\n      <td>9</td>\n      <td>0.666667</td>\n      <td>0.777778</td>\n      <td>106</td>\n    </tr>\n    <tr>\n      <th>837</th>\n      <td>2</td>\n      <td>2</td>\n      <td>3</td>\n      <td>0.666667</td>\n      <td>0.666667</td>\n      <td>105</td>\n    </tr>\n    <tr>\n      <th>442</th>\n      <td>2</td>\n      <td>2</td>\n      <td>3</td>\n      <td>0.666667</td>\n      <td>0.666667</td>\n      <td>17</td>\n    </tr>\n    <tr>\n      <th>824</th>\n      <td>2</td>\n      <td>2</td>\n      <td>3</td>\n      <td>0.666667</td>\n      <td>0.666667</td>\n      <td>715</td>\n    </tr>\n    <tr>\n      <th>502</th>\n      <td>2</td>\n      <td>2</td>\n      <td>3</td>\n      <td>0.666667</td>\n      <td>0.666667</td>\n      <td>710</td>\n    </tr>\n    <tr>\n      <th>765</th>\n      <td>2</td>\n      <td>2</td>\n      <td>3</td>\n      <td>0.666667</td>\n      <td>0.666667</td>\n      <td>466</td>\n    </tr>\n  </tbody>\n</table>\n</div>"
     },
     "metadata": {},
     "execution_count": 79
    }
   ],
   "source": [
    "cf_detailed_results_df.sort_values(by=[\"recall@5\"], ascending=False).head(20)"
   ]
  },
  {
   "cell_type": "code",
   "execution_count": 136,
   "metadata": {},
   "outputs": [],
   "source": [
    "recommended_items = cf_recommender_model.recommend_items(17)\n",
    "recommended_items = recommended_items.head(3)"
   ]
  },
  {
   "cell_type": "code",
   "execution_count": 137,
   "metadata": {},
   "outputs": [
    {
     "output_type": "execute_result",
     "data": {
      "text/plain": [
       "          nzz_id                              author  \\\n",
       "7197   ld.142634  Marie-José Kolly, Alexandra Kohler   \n",
       "13555  ld.150497                             Unknown   \n",
       "18907  ld.137200                             Unknown   \n",
       "\n",
       "                      catchline            department  \\\n",
       "7197             Analysemethode          Storytelling   \n",
       "13555      Schiesserei in Basel                 Video   \n",
       "18907  Ein letzter Blick zurück  Jahresrückblick 2016   \n",
       "\n",
       "                                               lead_text  \\\n",
       "7197   Die NZZ hat zu den Ski-Weltmeisterschaften in ...   \n",
       "13555  Nach tödlichen Schüssen in einer Bar in Basel ...   \n",
       "18907  Die grossen Themen in der Bilanz, die besten G...   \n",
       "\n",
       "                    pub_date                                     title  \\\n",
       "7197   2017-02-06 04:30:00.0  Wie aus Datenbergen Karrieretypen wurden   \n",
       "13555  2017-03-10 10:47:40.0           Zwei Tote, ein Schwerverletzter   \n",
       "18907  2017-01-02 04:30:00.0            Der grosse NZZ-Jahresrückblick   \n",
       "\n",
       "                                               paragraph  \n",
       "7197   Die NZZ hat zu den Ski-Weltmeisterschaften in ...  \n",
       "13555  Nach tödlichen Schüssen in einer Bar in Basel ...  \n",
       "18907                                                NaN  "
      ],
      "text/html": "<div>\n<style scoped>\n    .dataframe tbody tr th:only-of-type {\n        vertical-align: middle;\n    }\n\n    .dataframe tbody tr th {\n        vertical-align: top;\n    }\n\n    .dataframe thead th {\n        text-align: right;\n    }\n</style>\n<table border=\"1\" class=\"dataframe\">\n  <thead>\n    <tr style=\"text-align: right;\">\n      <th></th>\n      <th>nzz_id</th>\n      <th>author</th>\n      <th>catchline</th>\n      <th>department</th>\n      <th>lead_text</th>\n      <th>pub_date</th>\n      <th>title</th>\n      <th>paragraph</th>\n    </tr>\n  </thead>\n  <tbody>\n    <tr>\n      <th>7197</th>\n      <td>ld.142634</td>\n      <td>Marie-José Kolly, Alexandra Kohler</td>\n      <td>Analysemethode</td>\n      <td>Storytelling</td>\n      <td>Die NZZ hat zu den Ski-Weltmeisterschaften in ...</td>\n      <td>2017-02-06 04:30:00.0</td>\n      <td>Wie aus Datenbergen Karrieretypen wurden</td>\n      <td>Die NZZ hat zu den Ski-Weltmeisterschaften in ...</td>\n    </tr>\n    <tr>\n      <th>13555</th>\n      <td>ld.150497</td>\n      <td>Unknown</td>\n      <td>Schiesserei in Basel</td>\n      <td>Video</td>\n      <td>Nach tödlichen Schüssen in einer Bar in Basel ...</td>\n      <td>2017-03-10 10:47:40.0</td>\n      <td>Zwei Tote, ein Schwerverletzter</td>\n      <td>Nach tödlichen Schüssen in einer Bar in Basel ...</td>\n    </tr>\n    <tr>\n      <th>18907</th>\n      <td>ld.137200</td>\n      <td>Unknown</td>\n      <td>Ein letzter Blick zurück</td>\n      <td>Jahresrückblick 2016</td>\n      <td>Die grossen Themen in der Bilanz, die besten G...</td>\n      <td>2017-01-02 04:30:00.0</td>\n      <td>Der grosse NZZ-Jahresrückblick</td>\n      <td>NaN</td>\n    </tr>\n  </tbody>\n</table>\n</div>"
     },
     "metadata": {},
     "execution_count": 137
    }
   ],
   "source": [
    "articles = pd.read_csv(\"../data/articles_cleaned.csv\")\n",
    "articles = articles[articles[\"nzz_id\"].isin(recommended_items[\"art_id\"])]\n",
    "articles"
   ]
  }
 ]
}