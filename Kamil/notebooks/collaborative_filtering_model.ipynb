{
 "metadata": {
  "language_info": {
   "codemirror_mode": {
    "name": "ipython",
    "version": 3
   },
   "file_extension": ".py",
   "mimetype": "text/x-python",
   "name": "python",
   "nbconvert_exporter": "python",
   "pygments_lexer": "ipython3",
   "version": "3.8.8"
  },
  "orig_nbformat": 2,
  "kernelspec": {
   "name": "python388jvsc74a57bd0686f23405e2a4ac53f16a9301bfd24c8a524f3e91072c4c8e17ee124502b094e",
   "display_name": "Python 3.8.8 64-bit"
  }
 },
 "nbformat": 4,
 "nbformat_minor": 2,
 "cells": [
  {
   "cell_type": "code",
   "execution_count": 1,
   "metadata": {},
   "outputs": [],
   "source": [
    "import pandas as pd\n",
    "import numpy as np\n",
    "import random\n"
   ]
  },
  {
   "cell_type": "code",
   "execution_count": 2,
   "metadata": {},
   "outputs": [
    {
     "output_type": "execute_result",
     "data": {
      "text/plain": [
       "   user_id      nzz_id\n",
       "0        1   ld.154103\n",
       "1        1   ld.142559\n",
       "2        1  1.18331199\n",
       "3        1   ld.144819\n",
       "4        1  ld.1293110"
      ],
      "text/html": "<div>\n<style scoped>\n    .dataframe tbody tr th:only-of-type {\n        vertical-align: middle;\n    }\n\n    .dataframe tbody tr th {\n        vertical-align: top;\n    }\n\n    .dataframe thead th {\n        text-align: right;\n    }\n</style>\n<table border=\"1\" class=\"dataframe\">\n  <thead>\n    <tr style=\"text-align: right;\">\n      <th></th>\n      <th>user_id</th>\n      <th>nzz_id</th>\n    </tr>\n  </thead>\n  <tbody>\n    <tr>\n      <th>0</th>\n      <td>1</td>\n      <td>ld.154103</td>\n    </tr>\n    <tr>\n      <th>1</th>\n      <td>1</td>\n      <td>ld.142559</td>\n    </tr>\n    <tr>\n      <th>2</th>\n      <td>1</td>\n      <td>1.18331199</td>\n    </tr>\n    <tr>\n      <th>3</th>\n      <td>1</td>\n      <td>ld.144819</td>\n    </tr>\n    <tr>\n      <th>4</th>\n      <td>1</td>\n      <td>ld.1293110</td>\n    </tr>\n  </tbody>\n</table>\n</div>"
     },
     "metadata": {},
     "execution_count": 2
    }
   ],
   "source": [
    "readers = pd.read_csv(\"../data/readers.csv\")\n",
    "readers = readers.rename(columns={\"id\":\"user_id\", \"art_id\":\"nzz_id\"})\n",
    "readers.head()"
   ]
  },
  {
   "cell_type": "code",
   "execution_count": 3,
   "metadata": {},
   "outputs": [],
   "source": [
    "read_counts = readers[\"user_id\"].value_counts(sort=True)\n",
    "read_counts = read_counts.rename_axis(\"user_id\").reset_index(name=\"read_count\")\n",
    "\n",
    "# Biorę pod uwagę tylko użytkowników, którzy przeczytali minimum 5 artykułów\n",
    "min_read_count = 3\n",
    "read_counts = read_counts[read_counts[\"read_count\"] > min_read_count]\n",
    "\n",
    "readers = readers[readers[\"user_id\"].isin(read_counts[\"user_id\"])]"
   ]
  },
  {
   "cell_type": "code",
   "execution_count": 4,
   "metadata": {},
   "outputs": [
    {
     "output_type": "stream",
     "name": "stdout",
     "text": [
      "Train set size 22284\nTest set size 5571\n"
     ]
    }
   ],
   "source": [
    "# Train/Test split\n",
    "from sklearn.model_selection import train_test_split\n",
    "\n",
    "readers_train, readers_test = train_test_split(readers,\n",
    "                                   stratify=readers[\"user_id\"], \n",
    "                                   test_size=0.20,\n",
    "                                   random_state=123)\n",
    "\n",
    "print(f\"Train set size {len(readers_train)}\")\n",
    "print(f\"Test set size {len(readers_test)}\")"
   ]
  },
  {
   "cell_type": "code",
   "execution_count": 5,
   "metadata": {},
   "outputs": [
    {
     "output_type": "execute_result",
     "data": {
      "text/plain": [
       "nzz_id   1.10001800  1.10142798  1.10474932  1.10676585  1.10985668  \\\n",
       "user_id                                                               \n",
       "1                 0           0           0           0           0   \n",
       "2                 0           0           0           0           0   \n",
       "3                 0           0           0           0           0   \n",
       "4                 0           0           0           0           0   \n",
       "5                 0           0           0           0           0   \n",
       "6                 0           0           0           0           0   \n",
       "7                 0           0           0           0           0   \n",
       "8                 0           0           0           0           0   \n",
       "9                 0           0           0           0           0   \n",
       "10                0           0           0           0           0   \n",
       "\n",
       "nzz_id   1.11025867  1.11137056  1.11221430  1.11316388  1.11563462  ...  \\\n",
       "user_id                                                              ...   \n",
       "1                 0           0           0           0           0  ...   \n",
       "2                 0           0           0           0           0  ...   \n",
       "3                 0           0           0           0           0  ...   \n",
       "4                 0           0           0           0           0  ...   \n",
       "5                 0           0           0           0           0  ...   \n",
       "6                 0           0           0           0           0  ...   \n",
       "7                 0           0           0           0           0  ...   \n",
       "8                 0           0           0           0           0  ...   \n",
       "9                 0           0           0           0           0  ...   \n",
       "10                0           0           0           0           0  ...   \n",
       "\n",
       "nzz_id   ld.887983  ld.904757  ld.907977  ld.911838  ld.944195  ld.953156  \\\n",
       "user_id                                                                     \n",
       "1                0          0          0          0          0          0   \n",
       "2                0          0          0          0          0          0   \n",
       "3                0          0          0          0          0          0   \n",
       "4                0          0          0          0          0          0   \n",
       "5                0          0          0          0          0          0   \n",
       "6                0          0          0          0          0          0   \n",
       "7                0          0          0          0          0          0   \n",
       "8                0          0          0          0          0          0   \n",
       "9                0          0          0          0          0          0   \n",
       "10               0          0          0          0          0          0   \n",
       "\n",
       "nzz_id   ld.959496  ld.987818  ld.9951  ld.995338  \n",
       "user_id                                            \n",
       "1                0          0        0          0  \n",
       "2                0          0        0          0  \n",
       "3                0          0        0          0  \n",
       "4                0          0        0          0  \n",
       "5                0          0        0          0  \n",
       "6                0          0        0          0  \n",
       "7                0          0        0          0  \n",
       "8                0          0        0          0  \n",
       "9                0          0        0          0  \n",
       "10               0          0        0          0  \n",
       "\n",
       "[10 rows x 10057 columns]"
      ],
      "text/html": "<div>\n<style scoped>\n    .dataframe tbody tr th:only-of-type {\n        vertical-align: middle;\n    }\n\n    .dataframe tbody tr th {\n        vertical-align: top;\n    }\n\n    .dataframe thead th {\n        text-align: right;\n    }\n</style>\n<table border=\"1\" class=\"dataframe\">\n  <thead>\n    <tr style=\"text-align: right;\">\n      <th>nzz_id</th>\n      <th>1.10001800</th>\n      <th>1.10142798</th>\n      <th>1.10474932</th>\n      <th>1.10676585</th>\n      <th>1.10985668</th>\n      <th>1.11025867</th>\n      <th>1.11137056</th>\n      <th>1.11221430</th>\n      <th>1.11316388</th>\n      <th>1.11563462</th>\n      <th>...</th>\n      <th>ld.887983</th>\n      <th>ld.904757</th>\n      <th>ld.907977</th>\n      <th>ld.911838</th>\n      <th>ld.944195</th>\n      <th>ld.953156</th>\n      <th>ld.959496</th>\n      <th>ld.987818</th>\n      <th>ld.9951</th>\n      <th>ld.995338</th>\n    </tr>\n    <tr>\n      <th>user_id</th>\n      <th></th>\n      <th></th>\n      <th></th>\n      <th></th>\n      <th></th>\n      <th></th>\n      <th></th>\n      <th></th>\n      <th></th>\n      <th></th>\n      <th></th>\n      <th></th>\n      <th></th>\n      <th></th>\n      <th></th>\n      <th></th>\n      <th></th>\n      <th></th>\n      <th></th>\n      <th></th>\n      <th></th>\n    </tr>\n  </thead>\n  <tbody>\n    <tr>\n      <th>1</th>\n      <td>0</td>\n      <td>0</td>\n      <td>0</td>\n      <td>0</td>\n      <td>0</td>\n      <td>0</td>\n      <td>0</td>\n      <td>0</td>\n      <td>0</td>\n      <td>0</td>\n      <td>...</td>\n      <td>0</td>\n      <td>0</td>\n      <td>0</td>\n      <td>0</td>\n      <td>0</td>\n      <td>0</td>\n      <td>0</td>\n      <td>0</td>\n      <td>0</td>\n      <td>0</td>\n    </tr>\n    <tr>\n      <th>2</th>\n      <td>0</td>\n      <td>0</td>\n      <td>0</td>\n      <td>0</td>\n      <td>0</td>\n      <td>0</td>\n      <td>0</td>\n      <td>0</td>\n      <td>0</td>\n      <td>0</td>\n      <td>...</td>\n      <td>0</td>\n      <td>0</td>\n      <td>0</td>\n      <td>0</td>\n      <td>0</td>\n      <td>0</td>\n      <td>0</td>\n      <td>0</td>\n      <td>0</td>\n      <td>0</td>\n    </tr>\n    <tr>\n      <th>3</th>\n      <td>0</td>\n      <td>0</td>\n      <td>0</td>\n      <td>0</td>\n      <td>0</td>\n      <td>0</td>\n      <td>0</td>\n      <td>0</td>\n      <td>0</td>\n      <td>0</td>\n      <td>...</td>\n      <td>0</td>\n      <td>0</td>\n      <td>0</td>\n      <td>0</td>\n      <td>0</td>\n      <td>0</td>\n      <td>0</td>\n      <td>0</td>\n      <td>0</td>\n      <td>0</td>\n    </tr>\n    <tr>\n      <th>4</th>\n      <td>0</td>\n      <td>0</td>\n      <td>0</td>\n      <td>0</td>\n      <td>0</td>\n      <td>0</td>\n      <td>0</td>\n      <td>0</td>\n      <td>0</td>\n      <td>0</td>\n      <td>...</td>\n      <td>0</td>\n      <td>0</td>\n      <td>0</td>\n      <td>0</td>\n      <td>0</td>\n      <td>0</td>\n      <td>0</td>\n      <td>0</td>\n      <td>0</td>\n      <td>0</td>\n    </tr>\n    <tr>\n      <th>5</th>\n      <td>0</td>\n      <td>0</td>\n      <td>0</td>\n      <td>0</td>\n      <td>0</td>\n      <td>0</td>\n      <td>0</td>\n      <td>0</td>\n      <td>0</td>\n      <td>0</td>\n      <td>...</td>\n      <td>0</td>\n      <td>0</td>\n      <td>0</td>\n      <td>0</td>\n      <td>0</td>\n      <td>0</td>\n      <td>0</td>\n      <td>0</td>\n      <td>0</td>\n      <td>0</td>\n    </tr>\n    <tr>\n      <th>6</th>\n      <td>0</td>\n      <td>0</td>\n      <td>0</td>\n      <td>0</td>\n      <td>0</td>\n      <td>0</td>\n      <td>0</td>\n      <td>0</td>\n      <td>0</td>\n      <td>0</td>\n      <td>...</td>\n      <td>0</td>\n      <td>0</td>\n      <td>0</td>\n      <td>0</td>\n      <td>0</td>\n      <td>0</td>\n      <td>0</td>\n      <td>0</td>\n      <td>0</td>\n      <td>0</td>\n    </tr>\n    <tr>\n      <th>7</th>\n      <td>0</td>\n      <td>0</td>\n      <td>0</td>\n      <td>0</td>\n      <td>0</td>\n      <td>0</td>\n      <td>0</td>\n      <td>0</td>\n      <td>0</td>\n      <td>0</td>\n      <td>...</td>\n      <td>0</td>\n      <td>0</td>\n      <td>0</td>\n      <td>0</td>\n      <td>0</td>\n      <td>0</td>\n      <td>0</td>\n      <td>0</td>\n      <td>0</td>\n      <td>0</td>\n    </tr>\n    <tr>\n      <th>8</th>\n      <td>0</td>\n      <td>0</td>\n      <td>0</td>\n      <td>0</td>\n      <td>0</td>\n      <td>0</td>\n      <td>0</td>\n      <td>0</td>\n      <td>0</td>\n      <td>0</td>\n      <td>...</td>\n      <td>0</td>\n      <td>0</td>\n      <td>0</td>\n      <td>0</td>\n      <td>0</td>\n      <td>0</td>\n      <td>0</td>\n      <td>0</td>\n      <td>0</td>\n      <td>0</td>\n    </tr>\n    <tr>\n      <th>9</th>\n      <td>0</td>\n      <td>0</td>\n      <td>0</td>\n      <td>0</td>\n      <td>0</td>\n      <td>0</td>\n      <td>0</td>\n      <td>0</td>\n      <td>0</td>\n      <td>0</td>\n      <td>...</td>\n      <td>0</td>\n      <td>0</td>\n      <td>0</td>\n      <td>0</td>\n      <td>0</td>\n      <td>0</td>\n      <td>0</td>\n      <td>0</td>\n      <td>0</td>\n      <td>0</td>\n    </tr>\n    <tr>\n      <th>10</th>\n      <td>0</td>\n      <td>0</td>\n      <td>0</td>\n      <td>0</td>\n      <td>0</td>\n      <td>0</td>\n      <td>0</td>\n      <td>0</td>\n      <td>0</td>\n      <td>0</td>\n      <td>...</td>\n      <td>0</td>\n      <td>0</td>\n      <td>0</td>\n      <td>0</td>\n      <td>0</td>\n      <td>0</td>\n      <td>0</td>\n      <td>0</td>\n      <td>0</td>\n      <td>0</td>\n    </tr>\n  </tbody>\n</table>\n<p>10 rows × 10057 columns</p>\n</div>"
     },
     "metadata": {},
     "execution_count": 5
    }
   ],
   "source": [
    "reader_article_matrix_df = pd.crosstab(readers_train[\"user_id\"], readers_train[\"nzz_id\"]).fillna(0)\n",
    "reader_article_matrix_df.head(10)"
   ]
  },
  {
   "cell_type": "code",
   "execution_count": 6,
   "metadata": {},
   "outputs": [
    {
     "output_type": "execute_result",
     "data": {
      "text/plain": [
       "          user_id      nzz_id  0\n",
       "0               1  1.10001800  0\n",
       "1               1  1.10142798  0\n",
       "2               1  1.10474932  0\n",
       "3               1  1.10676585  0\n",
       "4               1  1.10985668  0\n",
       "...           ...         ... ..\n",
       "10056995     1000   ld.953156  0\n",
       "10056996     1000   ld.959496  0\n",
       "10056997     1000   ld.987818  0\n",
       "10056998     1000     ld.9951  0\n",
       "10056999     1000   ld.995338  0\n",
       "\n",
       "[10057000 rows x 3 columns]"
      ],
      "text/html": "<div>\n<style scoped>\n    .dataframe tbody tr th:only-of-type {\n        vertical-align: middle;\n    }\n\n    .dataframe tbody tr th {\n        vertical-align: top;\n    }\n\n    .dataframe thead th {\n        text-align: right;\n    }\n</style>\n<table border=\"1\" class=\"dataframe\">\n  <thead>\n    <tr style=\"text-align: right;\">\n      <th></th>\n      <th>user_id</th>\n      <th>nzz_id</th>\n      <th>0</th>\n    </tr>\n  </thead>\n  <tbody>\n    <tr>\n      <th>0</th>\n      <td>1</td>\n      <td>1.10001800</td>\n      <td>0</td>\n    </tr>\n    <tr>\n      <th>1</th>\n      <td>1</td>\n      <td>1.10142798</td>\n      <td>0</td>\n    </tr>\n    <tr>\n      <th>2</th>\n      <td>1</td>\n      <td>1.10474932</td>\n      <td>0</td>\n    </tr>\n    <tr>\n      <th>3</th>\n      <td>1</td>\n      <td>1.10676585</td>\n      <td>0</td>\n    </tr>\n    <tr>\n      <th>4</th>\n      <td>1</td>\n      <td>1.10985668</td>\n      <td>0</td>\n    </tr>\n    <tr>\n      <th>...</th>\n      <td>...</td>\n      <td>...</td>\n      <td>...</td>\n    </tr>\n    <tr>\n      <th>10056995</th>\n      <td>1000</td>\n      <td>ld.953156</td>\n      <td>0</td>\n    </tr>\n    <tr>\n      <th>10056996</th>\n      <td>1000</td>\n      <td>ld.959496</td>\n      <td>0</td>\n    </tr>\n    <tr>\n      <th>10056997</th>\n      <td>1000</td>\n      <td>ld.987818</td>\n      <td>0</td>\n    </tr>\n    <tr>\n      <th>10056998</th>\n      <td>1000</td>\n      <td>ld.9951</td>\n      <td>0</td>\n    </tr>\n    <tr>\n      <th>10056999</th>\n      <td>1000</td>\n      <td>ld.995338</td>\n      <td>0</td>\n    </tr>\n  </tbody>\n</table>\n<p>10057000 rows × 3 columns</p>\n</div>"
     },
     "metadata": {},
     "execution_count": 6
    }
   ],
   "source": [
    "unpivot_test = reader_article_matrix_df.stack().to_frame()\n",
    "unpivot_test.reset_index()"
   ]
  },
  {
   "cell_type": "code",
   "execution_count": 7,
   "metadata": {},
   "outputs": [],
   "source": [
    "unpivot_test.to_csv(\"../data/readers_all.csv\", encoding=\"utf-8\", index=False)"
   ]
  },
  {
   "cell_type": "code",
   "execution_count": 8,
   "metadata": {},
   "outputs": [
    {
     "output_type": "execute_result",
     "data": {
      "text/plain": [
       "array([[0, 0, 0, ..., 0, 0, 0],\n",
       "       [0, 0, 0, ..., 0, 0, 0],\n",
       "       [0, 0, 0, ..., 0, 0, 0],\n",
       "       ...,\n",
       "       [0, 0, 0, ..., 0, 0, 0],\n",
       "       [0, 0, 0, ..., 0, 0, 0],\n",
       "       [0, 0, 0, ..., 0, 0, 0]], dtype=int64)"
      ]
     },
     "metadata": {},
     "execution_count": 8
    }
   ],
   "source": [
    "reader_article_matrix = reader_article_matrix_df.to_numpy()\n",
    "reader_article_matrix[:10]"
   ]
  },
  {
   "cell_type": "code",
   "execution_count": 9,
   "metadata": {},
   "outputs": [],
   "source": [
    "#Indexing by personId to speed up the searches during evaluation\n",
    "interactions_full_indexed_df = readers.set_index('user_id')\n",
    "interactions_train_indexed_df = readers_train.set_index('user_id')\n",
    "interactions_test_indexed_df = readers_test.set_index('user_id')"
   ]
  },
  {
   "cell_type": "code",
   "execution_count": 10,
   "metadata": {},
   "outputs": [],
   "source": [
    "def get_items_interacted(person_id, interactions_df):\n",
    "    # Get the user's data and merge in the movie information.\n",
    "    interacted_items = interactions_df.loc[person_id]['nzz_id']\n",
    "    return set(interacted_items if type(interacted_items) == pd.Series else [interacted_items])"
   ]
  },
  {
   "cell_type": "code",
   "execution_count": 43,
   "metadata": {},
   "outputs": [],
   "source": [
    "#Top-N accuracy metrics consts\n",
    "EVAL_RANDOM_SAMPLE_NON_INTERACTED_ITEMS = 100\n",
    "\n",
    "class ModelEvaluator:\n",
    "\n",
    "\n",
    "    def get_not_interacted_items_sample(self, person_id, sample_size, seed=42):\n",
    "        interacted_items = get_items_interacted(person_id, interactions_full_indexed_df)\n",
    "        all_items = set(readers['nzz_id'])\n",
    "        non_interacted_items = all_items - interacted_items\n",
    "\n",
    "        random.seed(seed)\n",
    "        non_interacted_items_sample = random.sample(non_interacted_items, sample_size)\n",
    "        return set(non_interacted_items_sample)\n",
    "\n",
    "    def _verify_hit_top_n(self, item_id, recommended_items, topn):     \n",
    "            try:\n",
    "                index = next(i for i, c in enumerate(recommended_items) if c == item_id)\n",
    "            except:\n",
    "                index = -1\n",
    "            hit = int(index in range(0, topn))\n",
    "            return hit, index\n",
    "\n",
    "    def evaluate_model_for_user(self, model, person_id):\n",
    "        #Getting the items in test set\n",
    "        interacted_values_testset = interactions_test_indexed_df.loc[person_id]\n",
    "        if type(interacted_values_testset['nzz_id']) == pd.Series:\n",
    "            person_interacted_items_testset = set(interacted_values_testset['nzz_id'])\n",
    "        else:\n",
    "            person_interacted_items_testset = set([interacted_values_testset['nzz_id']])  \n",
    "        interacted_items_count_testset = len(person_interacted_items_testset) \n",
    "\n",
    "        #Getting a ranked recommendation list from a model for a given user\n",
    "        person_recs_df = model.recommend(person_id, \n",
    "                                               articles_to_ignore=get_items_interacted(person_id, interactions_train_indexed_df),\n",
    "                                               topn=1000000)\n",
    "\n",
    "        hits_at_5_count = 0\n",
    "        hits_at_10_count = 0\n",
    "        #For each item the user has interacted in test set\n",
    "        for item_id in person_interacted_items_testset:\n",
    "            #Getting a random sample (100) items the user has not interacted \n",
    "            #(to represent items that are assumed to be no relevant to the user)\n",
    "            #seed = int.from_bytes(item_id.encode('utf-8'), 'little')\n",
    "            non_interacted_items_sample = self.get_not_interacted_items_sample(person_id, \n",
    "                                                                          sample_size=EVAL_RANDOM_SAMPLE_NON_INTERACTED_ITEMS, \n",
    "                                                                          seed=12)\n",
    "\n",
    "            #Combining the current interacted item with the 100 random items\n",
    "            items_to_filter_recs = non_interacted_items_sample.union(set([item_id]))\n",
    "\n",
    "            #Filtering only recommendations that are either the interacted item or from a random sample of 100 non-interacted items\n",
    "            valid_recs_df = person_recs_df[person_recs_df['nzz_id'].isin(items_to_filter_recs)]                    \n",
    "            valid_recs = valid_recs_df['nzz_id'].values\n",
    "            #Verifying if the current interacted item is among the Top-N recommended items\n",
    "            hit_at_5, index_at_5 = self._verify_hit_top_n(item_id, valid_recs, 5)\n",
    "            hits_at_5_count += hit_at_5\n",
    "            hit_at_10, index_at_10 = self._verify_hit_top_n(item_id, valid_recs, 10)\n",
    "            hits_at_10_count += hit_at_10\n",
    "\n",
    "        #Recall is the rate of the interacted items that are ranked among the Top-N recommended items, \n",
    "        #when mixed with a set of non-relevant items\n",
    "        recall_at_5 = hits_at_5_count / float(interacted_items_count_testset)\n",
    "        recall_at_10 = hits_at_10_count / float(interacted_items_count_testset)\n",
    "\n",
    "        person_metrics = {'hits@5_count':hits_at_5_count, \n",
    "                          'hits@10_count':hits_at_10_count, \n",
    "                          'interacted_count': interacted_items_count_testset,\n",
    "                          'recall@5': recall_at_5,\n",
    "                          'recall@10': recall_at_10}\n",
    "        return person_metrics\n",
    "\n",
    "    def evaluate_model(self, model):\n",
    "        #print('Running evaluation for users')\n",
    "        people_metrics = []\n",
    "        for idx, person_id in enumerate(list(interactions_test_indexed_df.index.unique().values)):\n",
    "            #if idx % 100 == 0 and idx > 0:\n",
    "            #    print('%d users processed' % idx)\n",
    "            person_metrics = self.evaluate_model_for_user(model, person_id)  \n",
    "            person_metrics['_person_id'] = person_id\n",
    "            people_metrics.append(person_metrics)\n",
    "        print('%d users processed' % idx)\n",
    "\n",
    "        detailed_results_df = pd.DataFrame(people_metrics) \\\n",
    "                            .sort_values('interacted_count', ascending=False)\n",
    "        \n",
    "        global_recall_at_5 = detailed_results_df['hits@5_count'].sum() / float(detailed_results_df['interacted_count'].sum())\n",
    "        global_recall_at_10 = detailed_results_df['hits@10_count'].sum() / float(detailed_results_df['interacted_count'].sum())\n",
    "        \n",
    "        global_metrics = {'modelName': model.get_model_name(),\n",
    "                          'recall@5': global_recall_at_5,\n",
    "                          'recall@10': global_recall_at_10}    \n",
    "        return global_metrics, detailed_results_df\n",
    "    \n",
    "model_evaluator = ModelEvaluator() "
   ]
  },
  {
   "cell_type": "code",
   "execution_count": 12,
   "metadata": {},
   "outputs": [],
   "source": [
    "import sys\n",
    "sys.path.append('../code')\n",
    "from cf_model import CFModel\n"
   ]
  },
  {
   "cell_type": "code",
   "execution_count": 13,
   "metadata": {},
   "outputs": [],
   "source": [
    "from random_model import RandomModel"
   ]
  },
  {
   "cell_type": "code",
   "execution_count": null,
   "metadata": {},
   "outputs": [],
   "source": []
  },
  {
   "cell_type": "code",
   "execution_count": 14,
   "metadata": {},
   "outputs": [],
   "source": [
    "\n",
    "cf_recommender_model = CFModel(n_latent_factors=100)\n",
    "cf_recommender_model.fit(readers_train)"
   ]
  },
  {
   "cell_type": "code",
   "execution_count": 15,
   "metadata": {},
   "outputs": [
    {
     "output_type": "stream",
     "name": "stdout",
     "text": [
      "Evaluating Collaborative Filtering (SVD Matrix Factorization) model...\n",
      "999 users processed\n",
      "eval time 0:00:32.437028\n",
      "\n",
      "Global metrics:\n",
      "{'modelName': 'CF_model', 'recall@5': 0.21468318075749418, 'recall@10': 0.2942021181116496}\n"
     ]
    },
    {
     "output_type": "execute_result",
     "data": {
      "text/plain": [
       "     hits@5_count  hits@10_count  interacted_count  recall@5  recall@10  \\\n",
       "358             1              3                10       0.1        0.3   \n",
       "721             2              2                10       0.2        0.2   \n",
       "510             0              0                10       0.0        0.0   \n",
       "86              1              1                10       0.1        0.1   \n",
       "484             0              0                10       0.0        0.0   \n",
       "472             2              2                10       0.2        0.2   \n",
       "259             1              1                10       0.1        0.1   \n",
       "264             3              4                10       0.3        0.4   \n",
       "797             1              1                10       0.1        0.1   \n",
       "276             0              0                10       0.0        0.0   \n",
       "\n",
       "     _person_id  \n",
       "358         907  \n",
       "721         938  \n",
       "510          64  \n",
       "86          887  \n",
       "484         397  \n",
       "472         218  \n",
       "259         273  \n",
       "264         803  \n",
       "797         865  \n",
       "276         443  "
      ],
      "text/html": "<div>\n<style scoped>\n    .dataframe tbody tr th:only-of-type {\n        vertical-align: middle;\n    }\n\n    .dataframe tbody tr th {\n        vertical-align: top;\n    }\n\n    .dataframe thead th {\n        text-align: right;\n    }\n</style>\n<table border=\"1\" class=\"dataframe\">\n  <thead>\n    <tr style=\"text-align: right;\">\n      <th></th>\n      <th>hits@5_count</th>\n      <th>hits@10_count</th>\n      <th>interacted_count</th>\n      <th>recall@5</th>\n      <th>recall@10</th>\n      <th>_person_id</th>\n    </tr>\n  </thead>\n  <tbody>\n    <tr>\n      <th>358</th>\n      <td>1</td>\n      <td>3</td>\n      <td>10</td>\n      <td>0.1</td>\n      <td>0.3</td>\n      <td>907</td>\n    </tr>\n    <tr>\n      <th>721</th>\n      <td>2</td>\n      <td>2</td>\n      <td>10</td>\n      <td>0.2</td>\n      <td>0.2</td>\n      <td>938</td>\n    </tr>\n    <tr>\n      <th>510</th>\n      <td>0</td>\n      <td>0</td>\n      <td>10</td>\n      <td>0.0</td>\n      <td>0.0</td>\n      <td>64</td>\n    </tr>\n    <tr>\n      <th>86</th>\n      <td>1</td>\n      <td>1</td>\n      <td>10</td>\n      <td>0.1</td>\n      <td>0.1</td>\n      <td>887</td>\n    </tr>\n    <tr>\n      <th>484</th>\n      <td>0</td>\n      <td>0</td>\n      <td>10</td>\n      <td>0.0</td>\n      <td>0.0</td>\n      <td>397</td>\n    </tr>\n    <tr>\n      <th>472</th>\n      <td>2</td>\n      <td>2</td>\n      <td>10</td>\n      <td>0.2</td>\n      <td>0.2</td>\n      <td>218</td>\n    </tr>\n    <tr>\n      <th>259</th>\n      <td>1</td>\n      <td>1</td>\n      <td>10</td>\n      <td>0.1</td>\n      <td>0.1</td>\n      <td>273</td>\n    </tr>\n    <tr>\n      <th>264</th>\n      <td>3</td>\n      <td>4</td>\n      <td>10</td>\n      <td>0.3</td>\n      <td>0.4</td>\n      <td>803</td>\n    </tr>\n    <tr>\n      <th>797</th>\n      <td>1</td>\n      <td>1</td>\n      <td>10</td>\n      <td>0.1</td>\n      <td>0.1</td>\n      <td>865</td>\n    </tr>\n    <tr>\n      <th>276</th>\n      <td>0</td>\n      <td>0</td>\n      <td>10</td>\n      <td>0.0</td>\n      <td>0.0</td>\n      <td>443</td>\n    </tr>\n  </tbody>\n</table>\n</div>"
     },
     "metadata": {},
     "execution_count": 15
    }
   ],
   "source": [
    "\n",
    "from datetime import datetime\n",
    "print('Evaluating Collaborative Filtering (SVD Matrix Factorization) model...')\n",
    "start = datetime.now()\n",
    "cf_global_metrics, cf_detailed_results_df = model_evaluator.evaluate_model(cf_recommender_model)\n",
    "end = datetime.now()\n",
    "print(f\"eval time {end - start}\")\n",
    "print('\\nGlobal metrics:\\n%s' % cf_global_metrics)\n",
    "cf_detailed_results_df.head(10)"
   ]
  },
  {
   "cell_type": "code",
   "execution_count": 34,
   "metadata": {},
   "outputs": [
    {
     "output_type": "stream",
     "name": "stdout",
     "text": [
      "Evaluating Collaborative Filtering (SVD Matrix Factorization) model...\n",
      "999 users processed\n",
      "eval time 0:00:28.491800\n",
      "\n",
      "Global metrics:\n",
      "{'modelName': 'random_model', 'recall@5': 0.004667025668641177, 'recall@10': 0.004667025668641177}\n"
     ]
    },
    {
     "output_type": "execute_result",
     "data": {
      "text/plain": [
       "     hits@5_count  hits@10_count  interacted_count  recall@5  recall@10  \\\n",
       "358             0              0                10       0.0        0.0   \n",
       "721             0              0                10       0.0        0.0   \n",
       "510             0              0                10       0.0        0.0   \n",
       "86              0              0                10       0.0        0.0   \n",
       "484             1              1                10       0.1        0.1   \n",
       "472             0              0                10       0.0        0.0   \n",
       "259             0              0                10       0.0        0.0   \n",
       "264             0              0                10       0.0        0.0   \n",
       "797             0              0                10       0.0        0.0   \n",
       "276             0              0                10       0.0        0.0   \n",
       "\n",
       "     _person_id  \n",
       "358         907  \n",
       "721         938  \n",
       "510          64  \n",
       "86          887  \n",
       "484         397  \n",
       "472         218  \n",
       "259         273  \n",
       "264         803  \n",
       "797         865  \n",
       "276         443  "
      ],
      "text/html": "<div>\n<style scoped>\n    .dataframe tbody tr th:only-of-type {\n        vertical-align: middle;\n    }\n\n    .dataframe tbody tr th {\n        vertical-align: top;\n    }\n\n    .dataframe thead th {\n        text-align: right;\n    }\n</style>\n<table border=\"1\" class=\"dataframe\">\n  <thead>\n    <tr style=\"text-align: right;\">\n      <th></th>\n      <th>hits@5_count</th>\n      <th>hits@10_count</th>\n      <th>interacted_count</th>\n      <th>recall@5</th>\n      <th>recall@10</th>\n      <th>_person_id</th>\n    </tr>\n  </thead>\n  <tbody>\n    <tr>\n      <th>358</th>\n      <td>0</td>\n      <td>0</td>\n      <td>10</td>\n      <td>0.0</td>\n      <td>0.0</td>\n      <td>907</td>\n    </tr>\n    <tr>\n      <th>721</th>\n      <td>0</td>\n      <td>0</td>\n      <td>10</td>\n      <td>0.0</td>\n      <td>0.0</td>\n      <td>938</td>\n    </tr>\n    <tr>\n      <th>510</th>\n      <td>0</td>\n      <td>0</td>\n      <td>10</td>\n      <td>0.0</td>\n      <td>0.0</td>\n      <td>64</td>\n    </tr>\n    <tr>\n      <th>86</th>\n      <td>0</td>\n      <td>0</td>\n      <td>10</td>\n      <td>0.0</td>\n      <td>0.0</td>\n      <td>887</td>\n    </tr>\n    <tr>\n      <th>484</th>\n      <td>1</td>\n      <td>1</td>\n      <td>10</td>\n      <td>0.1</td>\n      <td>0.1</td>\n      <td>397</td>\n    </tr>\n    <tr>\n      <th>472</th>\n      <td>0</td>\n      <td>0</td>\n      <td>10</td>\n      <td>0.0</td>\n      <td>0.0</td>\n      <td>218</td>\n    </tr>\n    <tr>\n      <th>259</th>\n      <td>0</td>\n      <td>0</td>\n      <td>10</td>\n      <td>0.0</td>\n      <td>0.0</td>\n      <td>273</td>\n    </tr>\n    <tr>\n      <th>264</th>\n      <td>0</td>\n      <td>0</td>\n      <td>10</td>\n      <td>0.0</td>\n      <td>0.0</td>\n      <td>803</td>\n    </tr>\n    <tr>\n      <th>797</th>\n      <td>0</td>\n      <td>0</td>\n      <td>10</td>\n      <td>0.0</td>\n      <td>0.0</td>\n      <td>865</td>\n    </tr>\n    <tr>\n      <th>276</th>\n      <td>0</td>\n      <td>0</td>\n      <td>10</td>\n      <td>0.0</td>\n      <td>0.0</td>\n      <td>443</td>\n    </tr>\n  </tbody>\n</table>\n</div>"
     },
     "metadata": {},
     "execution_count": 34
    }
   ],
   "source": [
    "articles = pd.read_csv(\"../data/articles_cleaned.csv\")\n",
    "random_model = RandomModel()\n",
    "random_model.fit(articles)\n",
    "\n",
    "from datetime import datetime\n",
    "print('Evaluating Collaborative Filtering (SVD Matrix Factorization) model...')\n",
    "start = datetime.now()\n",
    "cf_global_metrics, cf_detailed_results_df = model_evaluator.evaluate_model(random_model)\n",
    "end = datetime.now()\n",
    "print(f\"eval time {end - start}\")\n",
    "print('\\nGlobal metrics:\\n%s' % cf_global_metrics)\n",
    "cf_detailed_results_df.head(10)"
   ]
  },
  {
   "cell_type": "code",
   "execution_count": 16,
   "metadata": {},
   "outputs": [
    {
     "output_type": "execute_result",
     "data": {
      "text/plain": [
       "      nzz_id  recommendation_strength\n",
       "0  ld.138721                 0.329429\n",
       "1  ld.152339                 0.194284\n",
       "2  ld.153813                 0.192678\n",
       "3  ld.150619                 0.190750\n",
       "4  ld.149510                 0.190037"
      ],
      "text/html": "<div>\n<style scoped>\n    .dataframe tbody tr th:only-of-type {\n        vertical-align: middle;\n    }\n\n    .dataframe tbody tr th {\n        vertical-align: top;\n    }\n\n    .dataframe thead th {\n        text-align: right;\n    }\n</style>\n<table border=\"1\" class=\"dataframe\">\n  <thead>\n    <tr style=\"text-align: right;\">\n      <th></th>\n      <th>nzz_id</th>\n      <th>recommendation_strength</th>\n    </tr>\n  </thead>\n  <tbody>\n    <tr>\n      <th>0</th>\n      <td>ld.138721</td>\n      <td>0.329429</td>\n    </tr>\n    <tr>\n      <th>1</th>\n      <td>ld.152339</td>\n      <td>0.194284</td>\n    </tr>\n    <tr>\n      <th>2</th>\n      <td>ld.153813</td>\n      <td>0.192678</td>\n    </tr>\n    <tr>\n      <th>3</th>\n      <td>ld.150619</td>\n      <td>0.190750</td>\n    </tr>\n    <tr>\n      <th>4</th>\n      <td>ld.149510</td>\n      <td>0.190037</td>\n    </tr>\n  </tbody>\n</table>\n</div>"
     },
     "metadata": {},
     "execution_count": 16
    }
   ],
   "source": [
    "cf_recommender_model.recommend(221, topn=5).sort_values(by=[\"recommendation_strength\"], ascending=False)"
   ]
  },
  {
   "cell_type": "code",
   "execution_count": 17,
   "metadata": {},
   "outputs": [
    {
     "output_type": "execute_result",
     "data": {
      "text/plain": [
       "     hits@5_count  hits@10_count  interacted_count  recall@5  recall@10  \\\n",
       "999             1              1                 1       1.0        1.0   \n",
       "995             1              1                 1       1.0        1.0   \n",
       "949             4              4                 4       1.0        1.0   \n",
       "34              4              4                 4       1.0        1.0   \n",
       "414             2              2                 2       1.0        1.0   \n",
       "885             2              2                 2       1.0        1.0   \n",
       "771             2              2                 2       1.0        1.0   \n",
       "64              2              2                 2       1.0        1.0   \n",
       "741             2              2                 2       1.0        1.0   \n",
       "946             3              3                 3       1.0        1.0   \n",
       "998             1              1                 1       1.0        1.0   \n",
       "976             1              1                 1       1.0        1.0   \n",
       "968             1              1                 1       1.0        1.0   \n",
       "347             1              1                 1       1.0        1.0   \n",
       "983             1              1                 1       1.0        1.0   \n",
       "607             1              1                 1       1.0        1.0   \n",
       "423             1              1                 1       1.0        1.0   \n",
       "894             1              1                 1       1.0        1.0   \n",
       "984             1              1                 1       1.0        1.0   \n",
       "938             1              1                 1       1.0        1.0   \n",
       "\n",
       "     _person_id  \n",
       "999         891  \n",
       "995         751  \n",
       "949         378  \n",
       "34          212  \n",
       "414         666  \n",
       "885         569  \n",
       "771         224  \n",
       "64          672  \n",
       "741         539  \n",
       "946         608  \n",
       "998         167  \n",
       "976         833  \n",
       "968         639  \n",
       "347         854  \n",
       "983         369  \n",
       "607         350  \n",
       "423         319  \n",
       "894         721  \n",
       "984         357  \n",
       "938         705  "
      ],
      "text/html": "<div>\n<style scoped>\n    .dataframe tbody tr th:only-of-type {\n        vertical-align: middle;\n    }\n\n    .dataframe tbody tr th {\n        vertical-align: top;\n    }\n\n    .dataframe thead th {\n        text-align: right;\n    }\n</style>\n<table border=\"1\" class=\"dataframe\">\n  <thead>\n    <tr style=\"text-align: right;\">\n      <th></th>\n      <th>hits@5_count</th>\n      <th>hits@10_count</th>\n      <th>interacted_count</th>\n      <th>recall@5</th>\n      <th>recall@10</th>\n      <th>_person_id</th>\n    </tr>\n  </thead>\n  <tbody>\n    <tr>\n      <th>999</th>\n      <td>1</td>\n      <td>1</td>\n      <td>1</td>\n      <td>1.0</td>\n      <td>1.0</td>\n      <td>891</td>\n    </tr>\n    <tr>\n      <th>995</th>\n      <td>1</td>\n      <td>1</td>\n      <td>1</td>\n      <td>1.0</td>\n      <td>1.0</td>\n      <td>751</td>\n    </tr>\n    <tr>\n      <th>949</th>\n      <td>4</td>\n      <td>4</td>\n      <td>4</td>\n      <td>1.0</td>\n      <td>1.0</td>\n      <td>378</td>\n    </tr>\n    <tr>\n      <th>34</th>\n      <td>4</td>\n      <td>4</td>\n      <td>4</td>\n      <td>1.0</td>\n      <td>1.0</td>\n      <td>212</td>\n    </tr>\n    <tr>\n      <th>414</th>\n      <td>2</td>\n      <td>2</td>\n      <td>2</td>\n      <td>1.0</td>\n      <td>1.0</td>\n      <td>666</td>\n    </tr>\n    <tr>\n      <th>885</th>\n      <td>2</td>\n      <td>2</td>\n      <td>2</td>\n      <td>1.0</td>\n      <td>1.0</td>\n      <td>569</td>\n    </tr>\n    <tr>\n      <th>771</th>\n      <td>2</td>\n      <td>2</td>\n      <td>2</td>\n      <td>1.0</td>\n      <td>1.0</td>\n      <td>224</td>\n    </tr>\n    <tr>\n      <th>64</th>\n      <td>2</td>\n      <td>2</td>\n      <td>2</td>\n      <td>1.0</td>\n      <td>1.0</td>\n      <td>672</td>\n    </tr>\n    <tr>\n      <th>741</th>\n      <td>2</td>\n      <td>2</td>\n      <td>2</td>\n      <td>1.0</td>\n      <td>1.0</td>\n      <td>539</td>\n    </tr>\n    <tr>\n      <th>946</th>\n      <td>3</td>\n      <td>3</td>\n      <td>3</td>\n      <td>1.0</td>\n      <td>1.0</td>\n      <td>608</td>\n    </tr>\n    <tr>\n      <th>998</th>\n      <td>1</td>\n      <td>1</td>\n      <td>1</td>\n      <td>1.0</td>\n      <td>1.0</td>\n      <td>167</td>\n    </tr>\n    <tr>\n      <th>976</th>\n      <td>1</td>\n      <td>1</td>\n      <td>1</td>\n      <td>1.0</td>\n      <td>1.0</td>\n      <td>833</td>\n    </tr>\n    <tr>\n      <th>968</th>\n      <td>1</td>\n      <td>1</td>\n      <td>1</td>\n      <td>1.0</td>\n      <td>1.0</td>\n      <td>639</td>\n    </tr>\n    <tr>\n      <th>347</th>\n      <td>1</td>\n      <td>1</td>\n      <td>1</td>\n      <td>1.0</td>\n      <td>1.0</td>\n      <td>854</td>\n    </tr>\n    <tr>\n      <th>983</th>\n      <td>1</td>\n      <td>1</td>\n      <td>1</td>\n      <td>1.0</td>\n      <td>1.0</td>\n      <td>369</td>\n    </tr>\n    <tr>\n      <th>607</th>\n      <td>1</td>\n      <td>1</td>\n      <td>1</td>\n      <td>1.0</td>\n      <td>1.0</td>\n      <td>350</td>\n    </tr>\n    <tr>\n      <th>423</th>\n      <td>1</td>\n      <td>1</td>\n      <td>1</td>\n      <td>1.0</td>\n      <td>1.0</td>\n      <td>319</td>\n    </tr>\n    <tr>\n      <th>894</th>\n      <td>1</td>\n      <td>1</td>\n      <td>1</td>\n      <td>1.0</td>\n      <td>1.0</td>\n      <td>721</td>\n    </tr>\n    <tr>\n      <th>984</th>\n      <td>1</td>\n      <td>1</td>\n      <td>1</td>\n      <td>1.0</td>\n      <td>1.0</td>\n      <td>357</td>\n    </tr>\n    <tr>\n      <th>938</th>\n      <td>1</td>\n      <td>1</td>\n      <td>1</td>\n      <td>1.0</td>\n      <td>1.0</td>\n      <td>705</td>\n    </tr>\n  </tbody>\n</table>\n</div>"
     },
     "metadata": {},
     "execution_count": 17
    }
   ],
   "source": [
    "cf_detailed_results_df.sort_values(by=[\"recall@5\"], ascending=False).head(20)"
   ]
  },
  {
   "cell_type": "code",
   "execution_count": 30,
   "metadata": {},
   "outputs": [
    {
     "output_type": "execute_result",
     "data": {
      "text/plain": [
       "       nzz_id  recommendation_strength\n",
       "0  1.18108994                 0.710432\n",
       "1   ld.137200                 0.447095\n",
       "2   ld.146967                 0.207135"
      ],
      "text/html": "<div>\n<style scoped>\n    .dataframe tbody tr th:only-of-type {\n        vertical-align: middle;\n    }\n\n    .dataframe tbody tr th {\n        vertical-align: top;\n    }\n\n    .dataframe thead th {\n        text-align: right;\n    }\n</style>\n<table border=\"1\" class=\"dataframe\">\n  <thead>\n    <tr style=\"text-align: right;\">\n      <th></th>\n      <th>nzz_id</th>\n      <th>recommendation_strength</th>\n    </tr>\n  </thead>\n  <tbody>\n    <tr>\n      <th>0</th>\n      <td>1.18108994</td>\n      <td>0.710432</td>\n    </tr>\n    <tr>\n      <th>1</th>\n      <td>ld.137200</td>\n      <td>0.447095</td>\n    </tr>\n    <tr>\n      <th>2</th>\n      <td>ld.146967</td>\n      <td>0.207135</td>\n    </tr>\n  </tbody>\n</table>\n</div>"
     },
     "metadata": {},
     "execution_count": 30
    }
   ],
   "source": [
    "recommended_items = cf_recommender_model.recommend(17)\n",
    "\n",
    "recommended_items.head(3)"
   ]
  },
  {
   "cell_type": "code",
   "execution_count": 19,
   "metadata": {},
   "outputs": [
    {
     "output_type": "execute_result",
     "data": {
      "text/plain": [
       "           nzz_id                author  \\\n",
       "199    ld.1295009    Daniele Muscionico   \n",
       "2048    ld.154109          Fabian Urech   \n",
       "7440   1.18108994               Unknown   \n",
       "10617   ld.146967  Franziska Engelhardt   \n",
       "12586   ld.140699     Christian Berzins   \n",
       "15027   ld.138132          Nina Fargahi   \n",
       "15951   ld.146001         Eduard Kaeser   \n",
       "16637   ld.154221         Jochen Siegle   \n",
       "17802   ld.144423         Jochen Siegle   \n",
       "18907   ld.137200               Unknown   \n",
       "\n",
       "                                           catchline            department  \\\n",
       "199    «Die Schwarze Spinne» als Freilichtaufführung            Feuilleton   \n",
       "2048                                     US-Kongress               Digital   \n",
       "7440          Impressionen aus Tessin und Graubünden                Tessin   \n",
       "10617                          Was heute wichtig ist              Briefing   \n",
       "12586                      Hamburger Elbphilharmonie                 NZZaS   \n",
       "15027                          Was heute wichtig ist              Briefing   \n",
       "15951          Für das gepflegte Spiel der Argumente               Meinung   \n",
       "16637                                   Social Media               Digital   \n",
       "17802                                Virtual Reality               Digital   \n",
       "18907                       Ein letzter Blick zurück  Jahresrückblick 2016   \n",
       "\n",
       "                                               lead_text  \\\n",
       "199    Das hätte man nicht gedacht: Jeremias Gotthelf...   \n",
       "2048   Die USA weichen den Datenschutz von Internet-N...   \n",
       "7440   Die Kantone Graubünden und Tessin (Gastkanton ...   \n",
       "10617  Bayrou gibt seine Stimmen Macron / Anti-Terror...   \n",
       "12586  Die Elbphilharmonie in Hamburg ist bereits ein...   \n",
       "15027  Tote nach Explosion in Izmir / Serbien will Ha...   \n",
       "15951  Von der postmodernen Theorie haben wir gelernt...   \n",
       "16637  Die populäre «Stories»-Funktion von Vorreiter ...   \n",
       "17802  Ein japanisches Startup will mit einem kleinen...   \n",
       "18907  Die grossen Themen in der Bilanz, die besten G...   \n",
       "\n",
       "                      pub_date                                          title  \\\n",
       "199    2017-05-19 16:28:29.844                           Chillen mit Gotthelf   \n",
       "2048     2017-03-29 06:10:00.0  Vorschriften zum Internet-Datenschutz gekippt   \n",
       "7440   2017-04-11 13:59:48.182         Impressionen aus Tessin und Graubünden   \n",
       "10617    2017-02-22 20:15:00.0                          Was heute wichtig ist   \n",
       "12586    2017-01-15 08:55:00.0                          Sie kann nicht singen   \n",
       "15027    2017-01-05 05:01:52.0                          Was heute wichtig ist   \n",
       "15951    2017-02-17 07:30:00.0                  Vorwärts zu den Fakten zurück   \n",
       "16637  2017-03-29 13:22:30.981                    Facebook macht auf Snapchat   \n",
       "17802    2017-02-08 15:52:02.0                   Der Duft der virtuellen Welt   \n",
       "18907    2017-01-02 04:30:00.0                 Der grosse NZZ-Jahresrückblick   \n",
       "\n",
       "                                               paragraph  \n",
       "199    Ein Schrei, entsetzt und jäh. Der Himmel ist k...  \n",
       "2048                                                 NaN  \n",
       "7440                                                 NaN  \n",
       "10617  Bayrou gibt seine Stimmen Macron / Anti-Terror...  \n",
       "12586  Die Elbphilharmonie in Hamburg ist bereits ein...  \n",
       "15027  Tote nach Explosion in Izmir / Serbien will Ha...  \n",
       "15951  Von der postmodernen Theorie haben wir gelernt...  \n",
       "16637                                                NaN  \n",
       "17802  Ein japanisches Startup will mit einem kleinen...  \n",
       "18907                                                NaN  "
      ],
      "text/html": "<div>\n<style scoped>\n    .dataframe tbody tr th:only-of-type {\n        vertical-align: middle;\n    }\n\n    .dataframe tbody tr th {\n        vertical-align: top;\n    }\n\n    .dataframe thead th {\n        text-align: right;\n    }\n</style>\n<table border=\"1\" class=\"dataframe\">\n  <thead>\n    <tr style=\"text-align: right;\">\n      <th></th>\n      <th>nzz_id</th>\n      <th>author</th>\n      <th>catchline</th>\n      <th>department</th>\n      <th>lead_text</th>\n      <th>pub_date</th>\n      <th>title</th>\n      <th>paragraph</th>\n    </tr>\n  </thead>\n  <tbody>\n    <tr>\n      <th>199</th>\n      <td>ld.1295009</td>\n      <td>Daniele Muscionico</td>\n      <td>«Die Schwarze Spinne» als Freilichtaufführung</td>\n      <td>Feuilleton</td>\n      <td>Das hätte man nicht gedacht: Jeremias Gotthelf...</td>\n      <td>2017-05-19 16:28:29.844</td>\n      <td>Chillen mit Gotthelf</td>\n      <td>Ein Schrei, entsetzt und jäh. Der Himmel ist k...</td>\n    </tr>\n    <tr>\n      <th>2048</th>\n      <td>ld.154109</td>\n      <td>Fabian Urech</td>\n      <td>US-Kongress</td>\n      <td>Digital</td>\n      <td>Die USA weichen den Datenschutz von Internet-N...</td>\n      <td>2017-03-29 06:10:00.0</td>\n      <td>Vorschriften zum Internet-Datenschutz gekippt</td>\n      <td>NaN</td>\n    </tr>\n    <tr>\n      <th>7440</th>\n      <td>1.18108994</td>\n      <td>Unknown</td>\n      <td>Impressionen aus Tessin und Graubünden</td>\n      <td>Tessin</td>\n      <td>Die Kantone Graubünden und Tessin (Gastkanton ...</td>\n      <td>2017-04-11 13:59:48.182</td>\n      <td>Impressionen aus Tessin und Graubünden</td>\n      <td>NaN</td>\n    </tr>\n    <tr>\n      <th>10617</th>\n      <td>ld.146967</td>\n      <td>Franziska Engelhardt</td>\n      <td>Was heute wichtig ist</td>\n      <td>Briefing</td>\n      <td>Bayrou gibt seine Stimmen Macron / Anti-Terror...</td>\n      <td>2017-02-22 20:15:00.0</td>\n      <td>Was heute wichtig ist</td>\n      <td>Bayrou gibt seine Stimmen Macron / Anti-Terror...</td>\n    </tr>\n    <tr>\n      <th>12586</th>\n      <td>ld.140699</td>\n      <td>Christian Berzins</td>\n      <td>Hamburger Elbphilharmonie</td>\n      <td>NZZaS</td>\n      <td>Die Elbphilharmonie in Hamburg ist bereits ein...</td>\n      <td>2017-01-15 08:55:00.0</td>\n      <td>Sie kann nicht singen</td>\n      <td>Die Elbphilharmonie in Hamburg ist bereits ein...</td>\n    </tr>\n    <tr>\n      <th>15027</th>\n      <td>ld.138132</td>\n      <td>Nina Fargahi</td>\n      <td>Was heute wichtig ist</td>\n      <td>Briefing</td>\n      <td>Tote nach Explosion in Izmir / Serbien will Ha...</td>\n      <td>2017-01-05 05:01:52.0</td>\n      <td>Was heute wichtig ist</td>\n      <td>Tote nach Explosion in Izmir / Serbien will Ha...</td>\n    </tr>\n    <tr>\n      <th>15951</th>\n      <td>ld.146001</td>\n      <td>Eduard Kaeser</td>\n      <td>Für das gepflegte Spiel der Argumente</td>\n      <td>Meinung</td>\n      <td>Von der postmodernen Theorie haben wir gelernt...</td>\n      <td>2017-02-17 07:30:00.0</td>\n      <td>Vorwärts zu den Fakten zurück</td>\n      <td>Von der postmodernen Theorie haben wir gelernt...</td>\n    </tr>\n    <tr>\n      <th>16637</th>\n      <td>ld.154221</td>\n      <td>Jochen Siegle</td>\n      <td>Social Media</td>\n      <td>Digital</td>\n      <td>Die populäre «Stories»-Funktion von Vorreiter ...</td>\n      <td>2017-03-29 13:22:30.981</td>\n      <td>Facebook macht auf Snapchat</td>\n      <td>NaN</td>\n    </tr>\n    <tr>\n      <th>17802</th>\n      <td>ld.144423</td>\n      <td>Jochen Siegle</td>\n      <td>Virtual Reality</td>\n      <td>Digital</td>\n      <td>Ein japanisches Startup will mit einem kleinen...</td>\n      <td>2017-02-08 15:52:02.0</td>\n      <td>Der Duft der virtuellen Welt</td>\n      <td>Ein japanisches Startup will mit einem kleinen...</td>\n    </tr>\n    <tr>\n      <th>18907</th>\n      <td>ld.137200</td>\n      <td>Unknown</td>\n      <td>Ein letzter Blick zurück</td>\n      <td>Jahresrückblick 2016</td>\n      <td>Die grossen Themen in der Bilanz, die besten G...</td>\n      <td>2017-01-02 04:30:00.0</td>\n      <td>Der grosse NZZ-Jahresrückblick</td>\n      <td>NaN</td>\n    </tr>\n  </tbody>\n</table>\n</div>"
     },
     "metadata": {},
     "execution_count": 19
    }
   ],
   "source": [
    "articles = pd.read_csv(\"../data/articles_cleaned.csv\")\n",
    "articles = articles[articles[\"nzz_id\"].isin(recommended_items[\"nzz_id\"])]\n",
    "articles"
   ]
  },
  {
   "source": [
    "## Parameter tuning"
   ],
   "cell_type": "markdown",
   "metadata": {}
  },
  {
   "cell_type": "code",
   "execution_count": 46,
   "metadata": {},
   "outputs": [
    {
     "output_type": "stream",
     "name": "stdout",
     "text": [
      "999 users processed\n",
      "999 users processed\n",
      "999 users processed\n",
      "999 users processed\n",
      "999 users processed\n",
      "999 users processed\n",
      "999 users processed\n",
      "999 users processed\n",
      "999 users processed\n",
      "999 users processed\n",
      "999 users processed\n",
      "999 users processed\n",
      "999 users processed\n",
      "999 users processed\n",
      "999 users processed\n",
      "999 users processed\n",
      "999 users processed\n",
      "999 users processed\n",
      "999 users processed\n"
     ]
    }
   ],
   "source": [
    "n_latent_factors_list = range(5, 100, 5)\n",
    "metrics = []\n",
    "\n",
    "for n_latent_factors in n_latent_factors_list:\n",
    "    recommender = CFModel(n_latent_factors=n_latent_factors)\n",
    "    recommender.fit(readers_train)\n",
    "    cf_global_metrics, cf_detailed_results_df = model_evaluator.evaluate_model(recommender)\n",
    "    metrics.append({\"n_latent_factors\": n_latent_factors, \"metrics\": cf_global_metrics})"
   ]
  },
  {
   "cell_type": "code",
   "execution_count": 47,
   "metadata": {},
   "outputs": [
    {
     "output_type": "stream",
     "name": "stdout",
     "text": [
      "5 {'modelName': 'CF_model', 'recall@5': 0.16837192604559326, 'recall@10': 0.23981331897325436}\n10 {'modelName': 'CF_model', 'recall@5': 0.17985998922994076, 'recall@10': 0.24699335846347156}\n15 {'modelName': 'CF_model', 'recall@5': 0.1981690899299946, 'recall@10': 0.2642254532399928}\n20 {'modelName': 'CF_model', 'recall@5': 0.1985280919045055, 'recall@10': 0.272661999640998}\n25 {'modelName': 'CF_model', 'recall@5': 0.2022976126368695, 'recall@10': 0.2785855322204272}\n30 {'modelName': 'CF_model', 'recall@5': 0.20319511757314665, 'recall@10': 0.2769700233351283}\n35 {'modelName': 'CF_model', 'recall@5': 0.20714413929276612, 'recall@10': 0.28109854604200324}\n40 {'modelName': 'CF_model', 'recall@5': 0.2084006462035541, 'recall@10': 0.28235505295279123}\n45 {'modelName': 'CF_model', 'recall@5': 0.21145216298689642, 'recall@10': 0.28917609046849757}\n50 {'modelName': 'CF_model', 'recall@5': 0.20445162448393467, 'recall@10': 0.2882785855322204}\n55 {'modelName': 'CF_model', 'recall@5': 0.20804164422904325, 'recall@10': 0.286842577634177}\n60 {'modelName': 'CF_model', 'recall@5': 0.20750314126727698, 'recall@10': 0.28845808651947585}\n65 {'modelName': 'CF_model', 'recall@5': 0.21145216298689642, 'recall@10': 0.28666307664692153}\n70 {'modelName': 'CF_model', 'recall@5': 0.2155806856937713, 'recall@10': 0.29545862502243764}\n75 {'modelName': 'CF_model', 'recall@5': 0.2130676718721953, 'recall@10': 0.29689463292048107}\n80 {'modelName': 'CF_model', 'recall@5': 0.2154011847065159, 'recall@10': 0.2963561299587148}\n85 {'modelName': 'CF_model', 'recall@5': 0.21504218273200504, 'recall@10': 0.29312511218811704}\n90 {'modelName': 'CF_model', 'recall@5': 0.21324717285945072, 'recall@10': 0.2990486447675462}\n95 {'modelName': 'CF_model', 'recall@5': 0.21234966792317359, 'recall@10': 0.29671513193322563}\n"
     ]
    }
   ],
   "source": [
    "for metric in metrics:\n",
    "    print(metric[\"n_latent_factors\"], metric[\"metrics\"])"
   ]
  },
  {
   "cell_type": "code",
   "execution_count": 211,
   "metadata": {},
   "outputs": [],
   "source": [
    "def get_coverage(predicted, catalog):\n",
    "    predicted_flattened = [p for sublist in predicted for p in sublist]\n",
    "    unique_predictions = len(set(predicted_flattened))\n",
    "    prediction_coverage = round(unique_predictions/(len(catalog)* 1.0)*100,2)\n",
    "    return prediction_coverage"
   ]
  },
  {
   "cell_type": "code",
   "execution_count": 236,
   "metadata": {},
   "outputs": [],
   "source": [
    "import scipy.sparse as sp\n",
    "from sklearn.metrics.pairwise import cosine_similarity\n",
    "def personalization(predicted):\n",
    "    \"\"\"\n",
    "    Personalization measures recommendation similarity across users.\n",
    "    A high score indicates good personalization (user's lists of recommendations are different).\n",
    "    A low score indicates poor personalization (user's lists of recommendations are very similar).\n",
    "    A model is \"personalizing\" well if the set of recommendations for each user is different.\n",
    "    Parameters:\n",
    "    ----------\n",
    "    predicted : a list of lists\n",
    "        Ordered predictions\n",
    "        example: [['X', 'Y', 'Z'], ['X', 'Y', 'Z']]\n",
    "    Returns:\n",
    "    -------\n",
    "        The personalization score for all recommendations.\n",
    "    \"\"\"\n",
    "\n",
    "    def make_rec_matrix(predicted):\n",
    "        df = pd.DataFrame(data=predicted).reset_index().melt(\n",
    "            id_vars='index', value_name='item',\n",
    "        )\n",
    "        df = df[['index', 'item']].pivot(index='index', columns='item', values='item')\n",
    "        df = pd.notna(df)*1\n",
    "        rec_matrix = sp.csr_matrix(df.values)\n",
    "        return rec_matrix\n",
    "\n",
    "    #create matrix for recommendations\n",
    "    predicted = np.array(predicted)\n",
    "    rec_matrix_sparse = make_rec_matrix(predicted)\n",
    "\n",
    "    #calculate similarity for every user's recommendation list\n",
    "    similarity = cosine_similarity(X=rec_matrix_sparse, dense_output=False)\n",
    "\n",
    "    #get indicies for upper right triangle w/o diagonal\n",
    "    upper_right = np.triu_indices(similarity.shape[0], k=1)\n",
    "\n",
    "    #calculate average similarity\n",
    "    personalization = np.mean(similarity[upper_right])\n",
    "    return 1-personalization"
   ]
  },
  {
   "cell_type": "code",
   "execution_count": 233,
   "metadata": {},
   "outputs": [],
   "source": [
    "# Coverage evaluation\n",
    "def evaluate_coverage(model, topn=5):\n",
    "    all_recs = []\n",
    "    for idx, person_id in enumerate(list(interactions_test_indexed_df.index.unique().values)):\n",
    "            person_recs_df = model.recommend(person_id, articles_to_ignore=get_items_interacted(person_id, interactions_train_indexed_df), topn=topn)\n",
    "            all_recs.append(person_recs_df[\"nzz_id\"].values)\n",
    "\n",
    "    coverage_result = get_coverage(all_recs, interactions_train_indexed_df[\"nzz_id\"].unique())\n",
    "    personalization_result = personalization(all_recs)\n",
    "    print(f\"Model: {model.get_model_name()} pokrywa: {coverage_result}% artykułów\")\n",
    "    print(f\"Model: {model.get_model_name()} personalizacja: {coverage_result}\")\n",
    "\n"
   ]
  },
  {
   "cell_type": "code",
   "execution_count": 237,
   "metadata": {},
   "outputs": [
    {
     "output_type": "error",
     "ename": "NameError",
     "evalue": "name 'cosine_similarity' is not defined",
     "traceback": [
      "\u001b[1;31m---------------------------------------------------------------------------\u001b[0m",
      "\u001b[1;31mNameError\u001b[0m                                 Traceback (most recent call last)",
      "\u001b[1;32m<ipython-input-237-e3ccf770179e>\u001b[0m in \u001b[0;36m<module>\u001b[1;34m\u001b[0m\n\u001b[1;32m----> 1\u001b[1;33m \u001b[0mevaluate_coverage\u001b[0m\u001b[1;33m(\u001b[0m\u001b[0mcf_recommender_model\u001b[0m\u001b[1;33m,\u001b[0m \u001b[0mtopn\u001b[0m\u001b[1;33m=\u001b[0m\u001b[1;36m10\u001b[0m\u001b[1;33m)\u001b[0m\u001b[1;33m\u001b[0m\u001b[1;33m\u001b[0m\u001b[0m\n\u001b[0m",
      "\u001b[1;32m<ipython-input-233-0f07b2d77df4>\u001b[0m in \u001b[0;36mevaluate_coverage\u001b[1;34m(model, topn)\u001b[0m\n\u001b[0;32m      7\u001b[0m \u001b[1;33m\u001b[0m\u001b[0m\n\u001b[0;32m      8\u001b[0m     \u001b[0mcoverage_result\u001b[0m \u001b[1;33m=\u001b[0m \u001b[0mget_coverage\u001b[0m\u001b[1;33m(\u001b[0m\u001b[0mall_recs\u001b[0m\u001b[1;33m,\u001b[0m \u001b[0minteractions_train_indexed_df\u001b[0m\u001b[1;33m[\u001b[0m\u001b[1;34m\"nzz_id\"\u001b[0m\u001b[1;33m]\u001b[0m\u001b[1;33m.\u001b[0m\u001b[0munique\u001b[0m\u001b[1;33m(\u001b[0m\u001b[1;33m)\u001b[0m\u001b[1;33m)\u001b[0m\u001b[1;33m\u001b[0m\u001b[1;33m\u001b[0m\u001b[0m\n\u001b[1;32m----> 9\u001b[1;33m     \u001b[0mpersonalization_result\u001b[0m \u001b[1;33m=\u001b[0m \u001b[0mpersonalization\u001b[0m\u001b[1;33m(\u001b[0m\u001b[0mall_recs\u001b[0m\u001b[1;33m)\u001b[0m\u001b[1;33m\u001b[0m\u001b[1;33m\u001b[0m\u001b[0m\n\u001b[0m\u001b[0;32m     10\u001b[0m     \u001b[0mprint\u001b[0m\u001b[1;33m(\u001b[0m\u001b[1;34mf\"Model: {model.get_model_name()} pokrywa: {coverage_result}% artykułów\"\u001b[0m\u001b[1;33m)\u001b[0m\u001b[1;33m\u001b[0m\u001b[1;33m\u001b[0m\u001b[0m\n\u001b[0;32m     11\u001b[0m     \u001b[0mprint\u001b[0m\u001b[1;33m(\u001b[0m\u001b[1;34mf\"Model: {model.get_model_name()} personalizacja: {coverage_result}\"\u001b[0m\u001b[1;33m)\u001b[0m\u001b[1;33m\u001b[0m\u001b[1;33m\u001b[0m\u001b[0m\n",
      "\u001b[1;32m<ipython-input-236-02784b9598a5>\u001b[0m in \u001b[0;36mpersonalization\u001b[1;34m(predicted)\u001b[0m\n\u001b[0;32m     30\u001b[0m \u001b[1;33m\u001b[0m\u001b[0m\n\u001b[0;32m     31\u001b[0m     \u001b[1;31m#calculate similarity for every user's recommendation list\u001b[0m\u001b[1;33m\u001b[0m\u001b[1;33m\u001b[0m\u001b[1;33m\u001b[0m\u001b[0m\n\u001b[1;32m---> 32\u001b[1;33m     \u001b[0msimilarity\u001b[0m \u001b[1;33m=\u001b[0m \u001b[0mcosine_similarity\u001b[0m\u001b[1;33m(\u001b[0m\u001b[0mX\u001b[0m\u001b[1;33m=\u001b[0m\u001b[0mrec_matrix_sparse\u001b[0m\u001b[1;33m,\u001b[0m \u001b[0mdense_output\u001b[0m\u001b[1;33m=\u001b[0m\u001b[1;32mFalse\u001b[0m\u001b[1;33m)\u001b[0m\u001b[1;33m\u001b[0m\u001b[1;33m\u001b[0m\u001b[0m\n\u001b[0m\u001b[0;32m     33\u001b[0m \u001b[1;33m\u001b[0m\u001b[0m\n\u001b[0;32m     34\u001b[0m     \u001b[1;31m#get indicies for upper right triangle w/o diagonal\u001b[0m\u001b[1;33m\u001b[0m\u001b[1;33m\u001b[0m\u001b[1;33m\u001b[0m\u001b[0m\n",
      "\u001b[1;31mNameError\u001b[0m: name 'cosine_similarity' is not defined"
     ]
    }
   ],
   "source": [
    "evaluate_coverage(cf_recommender_model, topn=10)\n"
   ]
  },
  {
   "cell_type": "code",
   "execution_count": null,
   "metadata": {},
   "outputs": [],
   "source": []
  }
 ]
}