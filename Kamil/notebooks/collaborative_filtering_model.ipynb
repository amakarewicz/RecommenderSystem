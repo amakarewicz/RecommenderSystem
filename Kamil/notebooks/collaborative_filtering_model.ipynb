{
 "metadata": {
  "language_info": {
   "codemirror_mode": {
    "name": "ipython",
    "version": 3
   },
   "file_extension": ".py",
   "mimetype": "text/x-python",
   "name": "python",
   "nbconvert_exporter": "python",
   "pygments_lexer": "ipython3",
   "version": "3.8.8"
  },
  "orig_nbformat": 2,
  "kernelspec": {
   "name": "python388jvsc74a57bd0686f23405e2a4ac53f16a9301bfd24c8a524f3e91072c4c8e17ee124502b094e",
   "display_name": "Python 3.8.8 64-bit"
  }
 },
 "nbformat": 4,
 "nbformat_minor": 2,
 "cells": [
  {
   "cell_type": "code",
   "execution_count": 255,
   "metadata": {},
   "outputs": [],
   "source": [
    "import pandas as pd\n",
    "import numpy as np\n",
    "import random\n",
    "import pickle"
   ]
  },
  {
   "cell_type": "code",
   "execution_count": 256,
   "metadata": {},
   "outputs": [
    {
     "output_type": "execute_result",
     "data": {
      "text/plain": [
       "   user_id      art_id\n",
       "0        1   ld.154103\n",
       "1        1   ld.142559\n",
       "2        1  1.18331199\n",
       "3        1   ld.144819\n",
       "4        1  ld.1293110"
      ],
      "text/html": "<div>\n<style scoped>\n    .dataframe tbody tr th:only-of-type {\n        vertical-align: middle;\n    }\n\n    .dataframe tbody tr th {\n        vertical-align: top;\n    }\n\n    .dataframe thead th {\n        text-align: right;\n    }\n</style>\n<table border=\"1\" class=\"dataframe\">\n  <thead>\n    <tr style=\"text-align: right;\">\n      <th></th>\n      <th>user_id</th>\n      <th>art_id</th>\n    </tr>\n  </thead>\n  <tbody>\n    <tr>\n      <th>0</th>\n      <td>1</td>\n      <td>ld.154103</td>\n    </tr>\n    <tr>\n      <th>1</th>\n      <td>1</td>\n      <td>ld.142559</td>\n    </tr>\n    <tr>\n      <th>2</th>\n      <td>1</td>\n      <td>1.18331199</td>\n    </tr>\n    <tr>\n      <th>3</th>\n      <td>1</td>\n      <td>ld.144819</td>\n    </tr>\n    <tr>\n      <th>4</th>\n      <td>1</td>\n      <td>ld.1293110</td>\n    </tr>\n  </tbody>\n</table>\n</div>"
     },
     "metadata": {},
     "execution_count": 256
    }
   ],
   "source": [
    "readers = pd.read_csv(\"../data/readers.csv\")\n",
    "readers = readers.rename(columns={\"id\":\"user_id\"})\n",
    "readers.head()"
   ]
  },
  {
   "cell_type": "code",
   "execution_count": 257,
   "metadata": {},
   "outputs": [],
   "source": [
    "read_counts = readers[\"user_id\"].value_counts(sort=True)\n",
    "read_counts = read_counts.rename_axis(\"user_id\").reset_index(name=\"read_count\")\n",
    "\n",
    "# Biorę pod uwagę tylko użytkowników, którzy przeczytali minimum 3 artykułów\n",
    "min_read_count = 3\n",
    "read_counts = read_counts[read_counts[\"read_count\"] > min_read_count]\n",
    "\n",
    "readers = readers[readers[\"user_id\"].isin(read_counts[\"user_id\"])]"
   ]
  },
  {
   "cell_type": "code",
   "execution_count": 258,
   "metadata": {},
   "outputs": [
    {
     "output_type": "stream",
     "name": "stdout",
     "text": [
      "Train set size 22284\nTest set size 5571\n"
     ]
    }
   ],
   "source": [
    "# Train/Test split\n",
    "from sklearn.model_selection import train_test_split\n",
    "\n",
    "readers_train, readers_test = train_test_split(readers,\n",
    "                                   stratify=readers[\"user_id\"], \n",
    "                                   test_size=0.20,\n",
    "                                   random_state=123)\n",
    "\n",
    "print(f\"Train set size {len(readers_train)}\")\n",
    "print(f\"Test set size {len(readers_test)}\")"
   ]
  },
  {
   "cell_type": "code",
   "execution_count": 259,
   "metadata": {},
   "outputs": [
    {
     "output_type": "execute_result",
     "data": {
      "text/plain": [
       "art_id   1.10001800  1.10142798  1.10474932  1.10676585  1.10985668  \\\n",
       "user_id                                                               \n",
       "1                 0           0           0           0           0   \n",
       "2                 0           0           0           0           0   \n",
       "3                 0           0           0           0           0   \n",
       "4                 0           0           0           0           0   \n",
       "5                 0           0           0           0           0   \n",
       "6                 0           0           0           0           0   \n",
       "7                 0           0           0           0           0   \n",
       "8                 0           0           0           0           0   \n",
       "9                 0           0           0           0           0   \n",
       "10                0           0           0           0           0   \n",
       "\n",
       "art_id   1.11025867  1.11137056  1.11221430  1.11316388  1.11563462  ...  \\\n",
       "user_id                                                              ...   \n",
       "1                 0           0           0           0           0  ...   \n",
       "2                 0           0           0           0           0  ...   \n",
       "3                 0           0           0           0           0  ...   \n",
       "4                 0           0           0           0           0  ...   \n",
       "5                 0           0           0           0           0  ...   \n",
       "6                 0           0           0           0           0  ...   \n",
       "7                 0           0           0           0           0  ...   \n",
       "8                 0           0           0           0           0  ...   \n",
       "9                 0           0           0           0           0  ...   \n",
       "10                0           0           0           0           0  ...   \n",
       "\n",
       "art_id   ld.887983  ld.904757  ld.907977  ld.911838  ld.944195  ld.953156  \\\n",
       "user_id                                                                     \n",
       "1                0          0          0          0          0          0   \n",
       "2                0          0          0          0          0          0   \n",
       "3                0          0          0          0          0          0   \n",
       "4                0          0          0          0          0          0   \n",
       "5                0          0          0          0          0          0   \n",
       "6                0          0          0          0          0          0   \n",
       "7                0          0          0          0          0          0   \n",
       "8                0          0          0          0          0          0   \n",
       "9                0          0          0          0          0          0   \n",
       "10               0          0          0          0          0          0   \n",
       "\n",
       "art_id   ld.959496  ld.987818  ld.9951  ld.995338  \n",
       "user_id                                            \n",
       "1                0          0        0          0  \n",
       "2                0          0        0          0  \n",
       "3                0          0        0          0  \n",
       "4                0          0        0          0  \n",
       "5                0          0        0          0  \n",
       "6                0          0        0          0  \n",
       "7                0          0        0          0  \n",
       "8                0          0        0          0  \n",
       "9                0          0        0          0  \n",
       "10               0          0        0          0  \n",
       "\n",
       "[10 rows x 10057 columns]"
      ],
      "text/html": "<div>\n<style scoped>\n    .dataframe tbody tr th:only-of-type {\n        vertical-align: middle;\n    }\n\n    .dataframe tbody tr th {\n        vertical-align: top;\n    }\n\n    .dataframe thead th {\n        text-align: right;\n    }\n</style>\n<table border=\"1\" class=\"dataframe\">\n  <thead>\n    <tr style=\"text-align: right;\">\n      <th>art_id</th>\n      <th>1.10001800</th>\n      <th>1.10142798</th>\n      <th>1.10474932</th>\n      <th>1.10676585</th>\n      <th>1.10985668</th>\n      <th>1.11025867</th>\n      <th>1.11137056</th>\n      <th>1.11221430</th>\n      <th>1.11316388</th>\n      <th>1.11563462</th>\n      <th>...</th>\n      <th>ld.887983</th>\n      <th>ld.904757</th>\n      <th>ld.907977</th>\n      <th>ld.911838</th>\n      <th>ld.944195</th>\n      <th>ld.953156</th>\n      <th>ld.959496</th>\n      <th>ld.987818</th>\n      <th>ld.9951</th>\n      <th>ld.995338</th>\n    </tr>\n    <tr>\n      <th>user_id</th>\n      <th></th>\n      <th></th>\n      <th></th>\n      <th></th>\n      <th></th>\n      <th></th>\n      <th></th>\n      <th></th>\n      <th></th>\n      <th></th>\n      <th></th>\n      <th></th>\n      <th></th>\n      <th></th>\n      <th></th>\n      <th></th>\n      <th></th>\n      <th></th>\n      <th></th>\n      <th></th>\n      <th></th>\n    </tr>\n  </thead>\n  <tbody>\n    <tr>\n      <th>1</th>\n      <td>0</td>\n      <td>0</td>\n      <td>0</td>\n      <td>0</td>\n      <td>0</td>\n      <td>0</td>\n      <td>0</td>\n      <td>0</td>\n      <td>0</td>\n      <td>0</td>\n      <td>...</td>\n      <td>0</td>\n      <td>0</td>\n      <td>0</td>\n      <td>0</td>\n      <td>0</td>\n      <td>0</td>\n      <td>0</td>\n      <td>0</td>\n      <td>0</td>\n      <td>0</td>\n    </tr>\n    <tr>\n      <th>2</th>\n      <td>0</td>\n      <td>0</td>\n      <td>0</td>\n      <td>0</td>\n      <td>0</td>\n      <td>0</td>\n      <td>0</td>\n      <td>0</td>\n      <td>0</td>\n      <td>0</td>\n      <td>...</td>\n      <td>0</td>\n      <td>0</td>\n      <td>0</td>\n      <td>0</td>\n      <td>0</td>\n      <td>0</td>\n      <td>0</td>\n      <td>0</td>\n      <td>0</td>\n      <td>0</td>\n    </tr>\n    <tr>\n      <th>3</th>\n      <td>0</td>\n      <td>0</td>\n      <td>0</td>\n      <td>0</td>\n      <td>0</td>\n      <td>0</td>\n      <td>0</td>\n      <td>0</td>\n      <td>0</td>\n      <td>0</td>\n      <td>...</td>\n      <td>0</td>\n      <td>0</td>\n      <td>0</td>\n      <td>0</td>\n      <td>0</td>\n      <td>0</td>\n      <td>0</td>\n      <td>0</td>\n      <td>0</td>\n      <td>0</td>\n    </tr>\n    <tr>\n      <th>4</th>\n      <td>0</td>\n      <td>0</td>\n      <td>0</td>\n      <td>0</td>\n      <td>0</td>\n      <td>0</td>\n      <td>0</td>\n      <td>0</td>\n      <td>0</td>\n      <td>0</td>\n      <td>...</td>\n      <td>0</td>\n      <td>0</td>\n      <td>0</td>\n      <td>0</td>\n      <td>0</td>\n      <td>0</td>\n      <td>0</td>\n      <td>0</td>\n      <td>0</td>\n      <td>0</td>\n    </tr>\n    <tr>\n      <th>5</th>\n      <td>0</td>\n      <td>0</td>\n      <td>0</td>\n      <td>0</td>\n      <td>0</td>\n      <td>0</td>\n      <td>0</td>\n      <td>0</td>\n      <td>0</td>\n      <td>0</td>\n      <td>...</td>\n      <td>0</td>\n      <td>0</td>\n      <td>0</td>\n      <td>0</td>\n      <td>0</td>\n      <td>0</td>\n      <td>0</td>\n      <td>0</td>\n      <td>0</td>\n      <td>0</td>\n    </tr>\n    <tr>\n      <th>6</th>\n      <td>0</td>\n      <td>0</td>\n      <td>0</td>\n      <td>0</td>\n      <td>0</td>\n      <td>0</td>\n      <td>0</td>\n      <td>0</td>\n      <td>0</td>\n      <td>0</td>\n      <td>...</td>\n      <td>0</td>\n      <td>0</td>\n      <td>0</td>\n      <td>0</td>\n      <td>0</td>\n      <td>0</td>\n      <td>0</td>\n      <td>0</td>\n      <td>0</td>\n      <td>0</td>\n    </tr>\n    <tr>\n      <th>7</th>\n      <td>0</td>\n      <td>0</td>\n      <td>0</td>\n      <td>0</td>\n      <td>0</td>\n      <td>0</td>\n      <td>0</td>\n      <td>0</td>\n      <td>0</td>\n      <td>0</td>\n      <td>...</td>\n      <td>0</td>\n      <td>0</td>\n      <td>0</td>\n      <td>0</td>\n      <td>0</td>\n      <td>0</td>\n      <td>0</td>\n      <td>0</td>\n      <td>0</td>\n      <td>0</td>\n    </tr>\n    <tr>\n      <th>8</th>\n      <td>0</td>\n      <td>0</td>\n      <td>0</td>\n      <td>0</td>\n      <td>0</td>\n      <td>0</td>\n      <td>0</td>\n      <td>0</td>\n      <td>0</td>\n      <td>0</td>\n      <td>...</td>\n      <td>0</td>\n      <td>0</td>\n      <td>0</td>\n      <td>0</td>\n      <td>0</td>\n      <td>0</td>\n      <td>0</td>\n      <td>0</td>\n      <td>0</td>\n      <td>0</td>\n    </tr>\n    <tr>\n      <th>9</th>\n      <td>0</td>\n      <td>0</td>\n      <td>0</td>\n      <td>0</td>\n      <td>0</td>\n      <td>0</td>\n      <td>0</td>\n      <td>0</td>\n      <td>0</td>\n      <td>0</td>\n      <td>...</td>\n      <td>0</td>\n      <td>0</td>\n      <td>0</td>\n      <td>0</td>\n      <td>0</td>\n      <td>0</td>\n      <td>0</td>\n      <td>0</td>\n      <td>0</td>\n      <td>0</td>\n    </tr>\n    <tr>\n      <th>10</th>\n      <td>0</td>\n      <td>0</td>\n      <td>0</td>\n      <td>0</td>\n      <td>0</td>\n      <td>0</td>\n      <td>0</td>\n      <td>0</td>\n      <td>0</td>\n      <td>0</td>\n      <td>...</td>\n      <td>0</td>\n      <td>0</td>\n      <td>0</td>\n      <td>0</td>\n      <td>0</td>\n      <td>0</td>\n      <td>0</td>\n      <td>0</td>\n      <td>0</td>\n      <td>0</td>\n    </tr>\n  </tbody>\n</table>\n<p>10 rows × 10057 columns</p>\n</div>"
     },
     "metadata": {},
     "execution_count": 259
    }
   ],
   "source": [
    "reader_article_matrix_df = pd.crosstab(readers_train[\"user_id\"], readers_train[\"art_id\"]).fillna(0)\n",
    "reader_article_matrix_df.head(10)"
   ]
  },
  {
   "cell_type": "code",
   "execution_count": 260,
   "metadata": {},
   "outputs": [
    {
     "output_type": "execute_result",
     "data": {
      "text/plain": [
       "array([[0, 0, 0, ..., 0, 0, 0],\n",
       "       [0, 0, 0, ..., 0, 0, 0],\n",
       "       [0, 0, 0, ..., 0, 0, 0],\n",
       "       ...,\n",
       "       [0, 0, 0, ..., 0, 0, 0],\n",
       "       [0, 0, 0, ..., 0, 0, 0],\n",
       "       [0, 0, 0, ..., 0, 0, 0]], dtype=int64)"
      ]
     },
     "metadata": {},
     "execution_count": 260
    }
   ],
   "source": [
    "reader_article_matrix = reader_article_matrix_df.to_numpy()\n",
    "reader_article_matrix[:10]"
   ]
  },
  {
   "cell_type": "code",
   "execution_count": 261,
   "metadata": {},
   "outputs": [
    {
     "output_type": "execute_result",
     "data": {
      "text/plain": [
       "[1, 2, 3, 4, 5, 6, 7, 8, 9, 10]"
      ]
     },
     "metadata": {},
     "execution_count": 261
    }
   ],
   "source": [
    "reader_ids = list(reader_article_matrix_df.index)\n",
    "reader_ids[:10]"
   ]
  },
  {
   "cell_type": "code",
   "execution_count": 262,
   "metadata": {},
   "outputs": [
    {
     "output_type": "execute_result",
     "data": {
      "text/plain": [
       "<1000x10057 sparse matrix of type '<class 'numpy.float64'>'\n",
       "\twith 22284 stored elements in Compressed Sparse Row format>"
      ]
     },
     "metadata": {},
     "execution_count": 262
    }
   ],
   "source": [
    "from scipy.sparse import csr_matrix\n",
    "\n",
    "reader_article_csr_matrix = csr_matrix(reader_article_matrix)\n",
    "\n",
    "# Type cast do float bo inczej metoda nie obsługuje\n",
    "reader_article_csr_matrix = reader_article_csr_matrix.asfptype()\n",
    "reader_article_csr_matrix"
   ]
  },
  {
   "cell_type": "code",
   "execution_count": 263,
   "metadata": {},
   "outputs": [],
   "source": [
    "from scipy.sparse.linalg import svds\n",
    "\n",
    "# The number of factors to factor the user-item matrix.\n",
    "NUMBER_OF_FACTORS_MF = 100\n",
    "#Performs matrix factorization of the original user item matrix\n",
    "#U, sigma, Vt = svds(users_items_pivot_matrix, k = NUMBER_OF_FACTORS_MF)\n",
    "U, sigma, Vt = svds(reader_article_csr_matrix, k = NUMBER_OF_FACTORS_MF)"
   ]
  },
  {
   "cell_type": "code",
   "execution_count": 264,
   "metadata": {},
   "outputs": [
    {
     "output_type": "stream",
     "name": "stdout",
     "text": [
      "(1000, 100)\n(100, 10057)\n(100, 100)\n"
     ]
    }
   ],
   "source": [
    "sigma = np.diag(sigma)\n",
    "\n",
    "print(f\"{U.shape}\")\n",
    "print(f\"{Vt.shape}\")\n",
    "print(f\"{sigma.shape}\")"
   ]
  },
  {
   "cell_type": "code",
   "execution_count": 265,
   "metadata": {},
   "outputs": [
    {
     "output_type": "execute_result",
     "data": {
      "text/plain": [
       "array([[ 0.00126406, -0.00091568,  0.00087472, ...,  0.001089  ,\n",
       "        -0.00252528, -0.00011383],\n",
       "       [ 0.00489697, -0.00028578, -0.00028638, ..., -0.00141694,\n",
       "         0.00766448, -0.00062164],\n",
       "       [ 0.00249037, -0.004516  , -0.00107365, ...,  0.00052246,\n",
       "        -0.00929867, -0.00222214],\n",
       "       ...,\n",
       "       [ 0.00764014,  0.00712054, -0.0025289 , ..., -0.00333712,\n",
       "        -0.00148746, -0.00503753],\n",
       "       [-0.00141353,  0.01089344,  0.00083585, ..., -0.01226793,\n",
       "        -0.00465555,  0.00402787],\n",
       "       [ 0.02535716,  0.06575882, -0.00062212, ...,  0.00664736,\n",
       "        -0.01153612, -0.00167098]])"
      ]
     },
     "metadata": {},
     "execution_count": 265
    }
   ],
   "source": [
    "reader_predictions = np.dot(np.dot(U, sigma), Vt) \n",
    "reader_predictions"
   ]
  },
  {
   "cell_type": "code",
   "execution_count": 266,
   "metadata": {},
   "outputs": [],
   "source": [
    "reader_predictions_norm = (reader_predictions - reader_predictions.min()) / (reader_predictions.max() - reader_predictions.min())"
   ]
  },
  {
   "cell_type": "code",
   "execution_count": 267,
   "metadata": {},
   "outputs": [
    {
     "output_type": "execute_result",
     "data": {
      "text/plain": [
       "                1         2         3         4         5         6     \\\n",
       "art_id                                                                   \n",
       "1.10001800  0.155031  0.157202  0.155764  0.152544  0.151067  0.154852   \n",
       "1.10142798  0.153729  0.154105  0.151577  0.154000  0.152468  0.151892   \n",
       "1.10474932  0.154798  0.154105  0.153634  0.150024  0.152808  0.153540   \n",
       "1.10676585  0.154429  0.154125  0.154621  0.153085  0.153789  0.154459   \n",
       "1.10985668  0.154212  0.153436  0.155743  0.159602  0.153573  0.156171   \n",
       "1.11025867  0.153873  0.154666  0.152210  0.149027  0.149645  0.152840   \n",
       "1.11137056  0.153542  0.154178  0.152860  0.158088  0.148194  0.155891   \n",
       "1.11221430  0.154822  0.153749  0.151285  0.162751  0.146612  0.157971   \n",
       "1.11316388  0.154283  0.153875  0.152956  0.151883  0.153611  0.152083   \n",
       "1.11563462  0.154952  0.156572  0.149081  0.150446  0.143799  0.157476   \n",
       "\n",
       "                7         8         9         10    ...      991       992   \\\n",
       "art_id                                              ...                       \n",
       "1.10001800  0.154421  0.157366  0.152505  0.156557  ...  0.144291  0.152610   \n",
       "1.10142798  0.154588  0.146476  0.156938  0.152234  ...  0.158054  0.154811   \n",
       "1.10474932  0.154091  0.159051  0.154650  0.151893  ...  0.152349  0.153134   \n",
       "1.10676585  0.153918  0.154076  0.154283  0.153878  ...  0.153476  0.153732   \n",
       "1.10985668  0.152458  0.142140  0.155193  0.152243  ...  0.144013  0.153342   \n",
       "1.11025867  0.155252  0.145017  0.161488  0.150731  ...  0.151762  0.156620   \n",
       "1.11137056  0.154046  0.148904  0.151333  0.152096  ...  0.157321  0.165998   \n",
       "1.11221430  0.155282  0.148743  0.154801  0.146098  ...  0.150109  0.155595   \n",
       "1.11316388  0.153092  0.157184  0.156168  0.155618  ...  0.169237  0.150574   \n",
       "1.11563462  0.154559  0.148681  0.159401  0.153240  ...  0.137339  0.154453   \n",
       "\n",
       "                993       994       995       996       997       998   \\\n",
       "art_id                                                                   \n",
       "1.10001800  0.156810  0.154032  0.153707  0.151264  0.150056  0.158841   \n",
       "1.10142798  0.158317  0.160552  0.153252  0.153446  0.157603  0.158530   \n",
       "1.10474932  0.153666  0.154598  0.154150  0.154169  0.153468  0.152765   \n",
       "1.10676585  0.154086  0.154586  0.154172  0.153762  0.154512  0.155140   \n",
       "1.10985668  0.156260  0.156750  0.153520  0.154776  0.151464  0.159906   \n",
       "1.11025867  0.154664  0.155555  0.153320  0.149985  0.152119  0.145978   \n",
       "1.11137056  0.153665  0.153763  0.157521  0.152489  0.154665  0.170847   \n",
       "1.11221430  0.154437  0.151315  0.153598  0.149800  0.153610  0.161904   \n",
       "1.11316388  0.153476  0.154173  0.154229  0.156551  0.155888  0.150692   \n",
       "1.11563462  0.169701  0.153626  0.154138  0.146474  0.151907  0.169562   \n",
       "\n",
       "                999       1000  \n",
       "art_id                          \n",
       "1.10001800  0.153431  0.169427  \n",
       "1.10142798  0.160785  0.193568  \n",
       "1.10474932  0.154775  0.153904  \n",
       "1.10676585  0.152658  0.154457  \n",
       "1.10985668  0.158664  0.161918  \n",
       "1.11025867  0.143745  0.147066  \n",
       "1.11137056  0.162028  0.154056  \n",
       "1.11221430  0.154760  0.157647  \n",
       "1.11316388  0.150115  0.148969  \n",
       "1.11563462  0.159415  0.151572  \n",
       "\n",
       "[10 rows x 1000 columns]"
      ],
      "text/html": "<div>\n<style scoped>\n    .dataframe tbody tr th:only-of-type {\n        vertical-align: middle;\n    }\n\n    .dataframe tbody tr th {\n        vertical-align: top;\n    }\n\n    .dataframe thead th {\n        text-align: right;\n    }\n</style>\n<table border=\"1\" class=\"dataframe\">\n  <thead>\n    <tr style=\"text-align: right;\">\n      <th></th>\n      <th>1</th>\n      <th>2</th>\n      <th>3</th>\n      <th>4</th>\n      <th>5</th>\n      <th>6</th>\n      <th>7</th>\n      <th>8</th>\n      <th>9</th>\n      <th>10</th>\n      <th>...</th>\n      <th>991</th>\n      <th>992</th>\n      <th>993</th>\n      <th>994</th>\n      <th>995</th>\n      <th>996</th>\n      <th>997</th>\n      <th>998</th>\n      <th>999</th>\n      <th>1000</th>\n    </tr>\n    <tr>\n      <th>art_id</th>\n      <th></th>\n      <th></th>\n      <th></th>\n      <th></th>\n      <th></th>\n      <th></th>\n      <th></th>\n      <th></th>\n      <th></th>\n      <th></th>\n      <th></th>\n      <th></th>\n      <th></th>\n      <th></th>\n      <th></th>\n      <th></th>\n      <th></th>\n      <th></th>\n      <th></th>\n      <th></th>\n      <th></th>\n    </tr>\n  </thead>\n  <tbody>\n    <tr>\n      <th>1.10001800</th>\n      <td>0.155031</td>\n      <td>0.157202</td>\n      <td>0.155764</td>\n      <td>0.152544</td>\n      <td>0.151067</td>\n      <td>0.154852</td>\n      <td>0.154421</td>\n      <td>0.157366</td>\n      <td>0.152505</td>\n      <td>0.156557</td>\n      <td>...</td>\n      <td>0.144291</td>\n      <td>0.152610</td>\n      <td>0.156810</td>\n      <td>0.154032</td>\n      <td>0.153707</td>\n      <td>0.151264</td>\n      <td>0.150056</td>\n      <td>0.158841</td>\n      <td>0.153431</td>\n      <td>0.169427</td>\n    </tr>\n    <tr>\n      <th>1.10142798</th>\n      <td>0.153729</td>\n      <td>0.154105</td>\n      <td>0.151577</td>\n      <td>0.154000</td>\n      <td>0.152468</td>\n      <td>0.151892</td>\n      <td>0.154588</td>\n      <td>0.146476</td>\n      <td>0.156938</td>\n      <td>0.152234</td>\n      <td>...</td>\n      <td>0.158054</td>\n      <td>0.154811</td>\n      <td>0.158317</td>\n      <td>0.160552</td>\n      <td>0.153252</td>\n      <td>0.153446</td>\n      <td>0.157603</td>\n      <td>0.158530</td>\n      <td>0.160785</td>\n      <td>0.193568</td>\n    </tr>\n    <tr>\n      <th>1.10474932</th>\n      <td>0.154798</td>\n      <td>0.154105</td>\n      <td>0.153634</td>\n      <td>0.150024</td>\n      <td>0.152808</td>\n      <td>0.153540</td>\n      <td>0.154091</td>\n      <td>0.159051</td>\n      <td>0.154650</td>\n      <td>0.151893</td>\n      <td>...</td>\n      <td>0.152349</td>\n      <td>0.153134</td>\n      <td>0.153666</td>\n      <td>0.154598</td>\n      <td>0.154150</td>\n      <td>0.154169</td>\n      <td>0.153468</td>\n      <td>0.152765</td>\n      <td>0.154775</td>\n      <td>0.153904</td>\n    </tr>\n    <tr>\n      <th>1.10676585</th>\n      <td>0.154429</td>\n      <td>0.154125</td>\n      <td>0.154621</td>\n      <td>0.153085</td>\n      <td>0.153789</td>\n      <td>0.154459</td>\n      <td>0.153918</td>\n      <td>0.154076</td>\n      <td>0.154283</td>\n      <td>0.153878</td>\n      <td>...</td>\n      <td>0.153476</td>\n      <td>0.153732</td>\n      <td>0.154086</td>\n      <td>0.154586</td>\n      <td>0.154172</td>\n      <td>0.153762</td>\n      <td>0.154512</td>\n      <td>0.155140</td>\n      <td>0.152658</td>\n      <td>0.154457</td>\n    </tr>\n    <tr>\n      <th>1.10985668</th>\n      <td>0.154212</td>\n      <td>0.153436</td>\n      <td>0.155743</td>\n      <td>0.159602</td>\n      <td>0.153573</td>\n      <td>0.156171</td>\n      <td>0.152458</td>\n      <td>0.142140</td>\n      <td>0.155193</td>\n      <td>0.152243</td>\n      <td>...</td>\n      <td>0.144013</td>\n      <td>0.153342</td>\n      <td>0.156260</td>\n      <td>0.156750</td>\n      <td>0.153520</td>\n      <td>0.154776</td>\n      <td>0.151464</td>\n      <td>0.159906</td>\n      <td>0.158664</td>\n      <td>0.161918</td>\n    </tr>\n    <tr>\n      <th>1.11025867</th>\n      <td>0.153873</td>\n      <td>0.154666</td>\n      <td>0.152210</td>\n      <td>0.149027</td>\n      <td>0.149645</td>\n      <td>0.152840</td>\n      <td>0.155252</td>\n      <td>0.145017</td>\n      <td>0.161488</td>\n      <td>0.150731</td>\n      <td>...</td>\n      <td>0.151762</td>\n      <td>0.156620</td>\n      <td>0.154664</td>\n      <td>0.155555</td>\n      <td>0.153320</td>\n      <td>0.149985</td>\n      <td>0.152119</td>\n      <td>0.145978</td>\n      <td>0.143745</td>\n      <td>0.147066</td>\n    </tr>\n    <tr>\n      <th>1.11137056</th>\n      <td>0.153542</td>\n      <td>0.154178</td>\n      <td>0.152860</td>\n      <td>0.158088</td>\n      <td>0.148194</td>\n      <td>0.155891</td>\n      <td>0.154046</td>\n      <td>0.148904</td>\n      <td>0.151333</td>\n      <td>0.152096</td>\n      <td>...</td>\n      <td>0.157321</td>\n      <td>0.165998</td>\n      <td>0.153665</td>\n      <td>0.153763</td>\n      <td>0.157521</td>\n      <td>0.152489</td>\n      <td>0.154665</td>\n      <td>0.170847</td>\n      <td>0.162028</td>\n      <td>0.154056</td>\n    </tr>\n    <tr>\n      <th>1.11221430</th>\n      <td>0.154822</td>\n      <td>0.153749</td>\n      <td>0.151285</td>\n      <td>0.162751</td>\n      <td>0.146612</td>\n      <td>0.157971</td>\n      <td>0.155282</td>\n      <td>0.148743</td>\n      <td>0.154801</td>\n      <td>0.146098</td>\n      <td>...</td>\n      <td>0.150109</td>\n      <td>0.155595</td>\n      <td>0.154437</td>\n      <td>0.151315</td>\n      <td>0.153598</td>\n      <td>0.149800</td>\n      <td>0.153610</td>\n      <td>0.161904</td>\n      <td>0.154760</td>\n      <td>0.157647</td>\n    </tr>\n    <tr>\n      <th>1.11316388</th>\n      <td>0.154283</td>\n      <td>0.153875</td>\n      <td>0.152956</td>\n      <td>0.151883</td>\n      <td>0.153611</td>\n      <td>0.152083</td>\n      <td>0.153092</td>\n      <td>0.157184</td>\n      <td>0.156168</td>\n      <td>0.155618</td>\n      <td>...</td>\n      <td>0.169237</td>\n      <td>0.150574</td>\n      <td>0.153476</td>\n      <td>0.154173</td>\n      <td>0.154229</td>\n      <td>0.156551</td>\n      <td>0.155888</td>\n      <td>0.150692</td>\n      <td>0.150115</td>\n      <td>0.148969</td>\n    </tr>\n    <tr>\n      <th>1.11563462</th>\n      <td>0.154952</td>\n      <td>0.156572</td>\n      <td>0.149081</td>\n      <td>0.150446</td>\n      <td>0.143799</td>\n      <td>0.157476</td>\n      <td>0.154559</td>\n      <td>0.148681</td>\n      <td>0.159401</td>\n      <td>0.153240</td>\n      <td>...</td>\n      <td>0.137339</td>\n      <td>0.154453</td>\n      <td>0.169701</td>\n      <td>0.153626</td>\n      <td>0.154138</td>\n      <td>0.146474</td>\n      <td>0.151907</td>\n      <td>0.169562</td>\n      <td>0.159415</td>\n      <td>0.151572</td>\n    </tr>\n  </tbody>\n</table>\n<p>10 rows × 1000 columns</p>\n</div>"
     },
     "metadata": {},
     "execution_count": 267
    }
   ],
   "source": [
    "#Converting the reconstructed matrix back to a Pandas dataframe\n",
    "cf_preds_df = pd.DataFrame(reader_predictions_norm, columns = reader_article_matrix_df.columns, index=reader_ids).transpose()\n",
    "cf_preds_df.head(10)"
   ]
  },
  {
   "cell_type": "code",
   "execution_count": 268,
   "metadata": {},
   "outputs": [],
   "source": [
    "#Indexing by personId to speed up the searches during evaluation\n",
    "interactions_full_indexed_df = readers.set_index('user_id')\n",
    "interactions_train_indexed_df = readers_train.set_index('user_id')\n",
    "interactions_test_indexed_df = readers_test.set_index('user_id')"
   ]
  },
  {
   "cell_type": "code",
   "execution_count": 269,
   "metadata": {},
   "outputs": [],
   "source": [
    "def get_items_interacted(person_id, interactions_df):\n",
    "    # Get the user's data and merge in the movie information.\n",
    "    interacted_items = interactions_df.loc[person_id]['art_id']\n",
    "    return set(interacted_items if type(interacted_items) == pd.Series else [interacted_items])"
   ]
  },
  {
   "cell_type": "code",
   "execution_count": 270,
   "metadata": {},
   "outputs": [],
   "source": [
    "#Top-N accuracy metrics consts\n",
    "EVAL_RANDOM_SAMPLE_NON_INTERACTED_ITEMS = 100\n",
    "\n",
    "class ModelEvaluator:\n",
    "\n",
    "\n",
    "    def get_not_interacted_items_sample(self, person_id, sample_size, seed=42):\n",
    "        interacted_items = get_items_interacted(person_id, interactions_full_indexed_df)\n",
    "        all_items = set(readers['art_id'])\n",
    "        non_interacted_items = all_items - interacted_items\n",
    "\n",
    "        random.seed(seed)\n",
    "        non_interacted_items_sample = random.sample(non_interacted_items, sample_size)\n",
    "        return set(non_interacted_items_sample)\n",
    "\n",
    "    def _verify_hit_top_n(self, item_id, recommended_items, topn):        \n",
    "            try:\n",
    "                index = next(i for i, c in enumerate(recommended_items) if c == item_id)\n",
    "            except:\n",
    "                index = -1\n",
    "            hit = int(index in range(0, topn))\n",
    "            return hit, index\n",
    "\n",
    "    def evaluate_model_for_user(self, model, person_id):\n",
    "        #Getting the items in test set\n",
    "        interacted_values_testset = interactions_test_indexed_df.loc[person_id]\n",
    "        if type(interacted_values_testset['art_id']) == pd.Series:\n",
    "            person_interacted_items_testset = set(interacted_values_testset['art_id'])\n",
    "        else:\n",
    "            person_interacted_items_testset = set([interacted_values_testset['art_id']])  \n",
    "        interacted_items_count_testset = len(person_interacted_items_testset) \n",
    "\n",
    "        #Getting a ranked recommendation list from a model for a given user\n",
    "        person_recs_df = model.recommend_items(person_id, \n",
    "                                               items_to_ignore=get_items_interacted(person_id,interactions_train_indexed_df),\n",
    "                                               topn=10000000000)\n",
    "\n",
    "        hits_at_5_count = 0\n",
    "        hits_at_10_count = 0\n",
    "        #For each item the user has interacted in test set\n",
    "        for item_id in person_interacted_items_testset:\n",
    "            #Getting a random sample (100) items the user has not interacted \n",
    "            #(to represent items that are assumed to be no relevant to the user)\n",
    "            seed = int.from_bytes(item_id.encode('utf-8'), 'little')\n",
    "            non_interacted_items_sample = self.get_not_interacted_items_sample(person_id, \n",
    "                                                                          sample_size=EVAL_RANDOM_SAMPLE_NON_INTERACTED_ITEMS, \n",
    "                                                                          seed=seed)\n",
    "\n",
    "            #Combining the current interacted item with the 100 random items\n",
    "            items_to_filter_recs = non_interacted_items_sample.union(set([item_id]))\n",
    "\n",
    "            #Filtering only recommendations that are either the interacted item or from a random sample of 100 non-interacted items\n",
    "            valid_recs_df = person_recs_df[person_recs_df['art_id'].isin(items_to_filter_recs)]                    \n",
    "            valid_recs = valid_recs_df['art_id'].values\n",
    "            #Verifying if the current interacted item is among the Top-N recommended items\n",
    "            hit_at_5, index_at_5 = self._verify_hit_top_n(item_id, valid_recs, 5)\n",
    "            hits_at_5_count += hit_at_5\n",
    "            hit_at_10, index_at_10 = self._verify_hit_top_n(item_id, valid_recs, 10)\n",
    "            hits_at_10_count += hit_at_10\n",
    "\n",
    "        #Recall is the rate of the interacted items that are ranked among the Top-N recommended items, \n",
    "        #when mixed with a set of non-relevant items\n",
    "        recall_at_5 = hits_at_5_count / float(interacted_items_count_testset)\n",
    "        recall_at_10 = hits_at_10_count / float(interacted_items_count_testset)\n",
    "\n",
    "        person_metrics = {'hits@5_count':hits_at_5_count, \n",
    "                          'hits@10_count':hits_at_10_count, \n",
    "                          'interacted_count': interacted_items_count_testset,\n",
    "                          'recall@5': recall_at_5,\n",
    "                          'recall@10': recall_at_10}\n",
    "        return person_metrics\n",
    "\n",
    "    def evaluate_model(self, model):\n",
    "        #print('Running evaluation for users')\n",
    "        people_metrics = []\n",
    "        for idx, person_id in enumerate(list(interactions_test_indexed_df.index.unique().values)):\n",
    "            #if idx % 100 == 0 and idx > 0:\n",
    "            #    print('%d users processed' % idx)\n",
    "            person_metrics = self.evaluate_model_for_user(model, person_id)  \n",
    "            person_metrics['_person_id'] = person_id\n",
    "            people_metrics.append(person_metrics)\n",
    "        print('%d users processed' % idx)\n",
    "\n",
    "        detailed_results_df = pd.DataFrame(people_metrics) \\\n",
    "                            .sort_values('interacted_count', ascending=False)\n",
    "        \n",
    "        global_recall_at_5 = detailed_results_df['hits@5_count'].sum() / float(detailed_results_df['interacted_count'].sum())\n",
    "        global_recall_at_10 = detailed_results_df['hits@10_count'].sum() / float(detailed_results_df['interacted_count'].sum())\n",
    "        \n",
    "        global_metrics = {'modelName': model.get_model_name(),\n",
    "                          'recall@5': global_recall_at_5,\n",
    "                          'recall@10': global_recall_at_10}    \n",
    "        return global_metrics, detailed_results_df\n",
    "    \n",
    "model_evaluator = ModelEvaluator() "
   ]
  },
  {
   "cell_type": "code",
   "execution_count": 271,
   "metadata": {},
   "outputs": [],
   "source": [
    "class CFRecommender:\n",
    "    \n",
    "    MODEL_NAME = 'CF_model'\n",
    "    \n",
    "    def __init__(self, cf_predictions_df, items_df=None):\n",
    "        self.cf_predictions_df = cf_predictions_df\n",
    "        self.items_df = items_df\n",
    "        \n",
    "    def get_model_name(self):\n",
    "        return self.MODEL_NAME\n",
    "\n",
    "    def persist(self, path):\n",
    "        with open(f\"{path}/{self.MODEL_NAME}.pickle\", mode=\"wb+\") as model_file:\n",
    "            pickle.dump(self, model_file)\n",
    "\n",
    "    @classmethod\n",
    "    def from_file(cls, path):\n",
    "        try:\n",
    "            with open(path, mode=\"rb\") as model_file:\n",
    "                model = pickle.load(model_file)\n",
    "\n",
    "            cf_predictions_df = model.cf_predictions_df\n",
    "            items_df = model.items_df\n",
    "\n",
    "            return cls(model.cf_predictions_df, model.items_df)\n",
    "        except:\n",
    "            print(\"Couldn't load model\")\n",
    "\n",
    "\n",
    "    def recommend_items(self, user_id, items_to_ignore=[], topn=10, verbose=False):\n",
    "        # Get and sort the user's predictions\n",
    "        sorted_user_predictions = self.cf_predictions_df[user_id].sort_values(ascending=False) \\\n",
    "                                    .reset_index().rename(columns={user_id: 'recStrength'})\n",
    "        # Recommend the highest predicted rating movies that the user hasn't seen yet.\n",
    "        recommendations_df = sorted_user_predictions[~sorted_user_predictions['art_id'].isin(items_to_ignore)] \\\n",
    "                               .sort_values('recStrength', ascending = False) \\\n",
    "                               .head(topn)\n",
    "\n",
    "        if verbose:\n",
    "            if self.items_df is None:\n",
    "                raise Exception('\"items_df\" is required in verbose mode')\n",
    "\n",
    "            recommendations_df = recommendations_df.merge(self.items_df, how = 'left', \n",
    "                                                          left_on = 'art_id', \n",
    "                                                          right_on = 'art_id')[['recStrength', 'art_id', 'title', 'url', 'lang']]\n",
    "\n",
    "\n",
    "        return recommendations_df\n",
    "    \n",
    "cf_recommender_model = CFRecommender(cf_preds_df, readers)"
   ]
  },
  {
   "cell_type": "code",
   "execution_count": 272,
   "metadata": {},
   "outputs": [],
   "source": [
    "cf_recommender_model.persist(\"../data\")"
   ]
  },
  {
   "cell_type": "code",
   "execution_count": 273,
   "metadata": {},
   "outputs": [],
   "source": [
    "loaded_model = CFRecommender.from_file(\"../data/CF_model.pickle\")"
   ]
  },
  {
   "cell_type": "code",
   "execution_count": 274,
   "metadata": {
    "tags": []
   },
   "outputs": [
    {
     "output_type": "stream",
     "name": "stdout",
     "text": [
      "Evaluating Collaborative Filtering (SVD Matrix Factorization) model...\n",
      "999 users processed\n",
      "\n",
      "Global metrics:\n",
      "{'modelName': 'CF_model', 'recall@5': 0.21647819063004847, 'recall@10': 0.3019206605636331}\n"
     ]
    },
    {
     "output_type": "execute_result",
     "data": {
      "text/plain": [
       "     hits@5_count  hits@10_count  interacted_count  recall@5  recall@10  \\\n",
       "358             2              2                10       0.2        0.2   \n",
       "721             2              2                10       0.2        0.2   \n",
       "510             0              0                10       0.0        0.0   \n",
       "86              1              1                10       0.1        0.1   \n",
       "484             0              0                10       0.0        0.0   \n",
       "472             1              2                10       0.1        0.2   \n",
       "259             1              1                10       0.1        0.1   \n",
       "264             2              4                10       0.2        0.4   \n",
       "797             1              2                10       0.1        0.2   \n",
       "276             0              1                10       0.0        0.1   \n",
       "\n",
       "     _person_id  \n",
       "358         907  \n",
       "721         938  \n",
       "510          64  \n",
       "86          887  \n",
       "484         397  \n",
       "472         218  \n",
       "259         273  \n",
       "264         803  \n",
       "797         865  \n",
       "276         443  "
      ],
      "text/html": "<div>\n<style scoped>\n    .dataframe tbody tr th:only-of-type {\n        vertical-align: middle;\n    }\n\n    .dataframe tbody tr th {\n        vertical-align: top;\n    }\n\n    .dataframe thead th {\n        text-align: right;\n    }\n</style>\n<table border=\"1\" class=\"dataframe\">\n  <thead>\n    <tr style=\"text-align: right;\">\n      <th></th>\n      <th>hits@5_count</th>\n      <th>hits@10_count</th>\n      <th>interacted_count</th>\n      <th>recall@5</th>\n      <th>recall@10</th>\n      <th>_person_id</th>\n    </tr>\n  </thead>\n  <tbody>\n    <tr>\n      <th>358</th>\n      <td>2</td>\n      <td>2</td>\n      <td>10</td>\n      <td>0.2</td>\n      <td>0.2</td>\n      <td>907</td>\n    </tr>\n    <tr>\n      <th>721</th>\n      <td>2</td>\n      <td>2</td>\n      <td>10</td>\n      <td>0.2</td>\n      <td>0.2</td>\n      <td>938</td>\n    </tr>\n    <tr>\n      <th>510</th>\n      <td>0</td>\n      <td>0</td>\n      <td>10</td>\n      <td>0.0</td>\n      <td>0.0</td>\n      <td>64</td>\n    </tr>\n    <tr>\n      <th>86</th>\n      <td>1</td>\n      <td>1</td>\n      <td>10</td>\n      <td>0.1</td>\n      <td>0.1</td>\n      <td>887</td>\n    </tr>\n    <tr>\n      <th>484</th>\n      <td>0</td>\n      <td>0</td>\n      <td>10</td>\n      <td>0.0</td>\n      <td>0.0</td>\n      <td>397</td>\n    </tr>\n    <tr>\n      <th>472</th>\n      <td>1</td>\n      <td>2</td>\n      <td>10</td>\n      <td>0.1</td>\n      <td>0.2</td>\n      <td>218</td>\n    </tr>\n    <tr>\n      <th>259</th>\n      <td>1</td>\n      <td>1</td>\n      <td>10</td>\n      <td>0.1</td>\n      <td>0.1</td>\n      <td>273</td>\n    </tr>\n    <tr>\n      <th>264</th>\n      <td>2</td>\n      <td>4</td>\n      <td>10</td>\n      <td>0.2</td>\n      <td>0.4</td>\n      <td>803</td>\n    </tr>\n    <tr>\n      <th>797</th>\n      <td>1</td>\n      <td>2</td>\n      <td>10</td>\n      <td>0.1</td>\n      <td>0.2</td>\n      <td>865</td>\n    </tr>\n    <tr>\n      <th>276</th>\n      <td>0</td>\n      <td>1</td>\n      <td>10</td>\n      <td>0.0</td>\n      <td>0.1</td>\n      <td>443</td>\n    </tr>\n  </tbody>\n</table>\n</div>"
     },
     "metadata": {},
     "execution_count": 274
    }
   ],
   "source": [
    "print(\"Evaluating Collaborative Filtering (SVD Matrix Factorization) model...\")\n",
    "cf_global_metrics, cf_detailed_results_df = model_evaluator.evaluate_model(cf_recommender_model)\n",
    "print(f\"\\nGlobal metrics:\\n{cf_global_metrics}\")\n",
    "cf_detailed_results_df.head(10)"
   ]
  },
  {
   "cell_type": "code",
   "execution_count": 275,
   "metadata": {},
   "outputs": [
    {
     "output_type": "execute_result",
     "data": {
      "text/plain": [
       "     hits@5_count  hits@10_count  interacted_count  recall@5  recall@10  \\\n",
       "771             2              2                 2       1.0        1.0   \n",
       "845             1              1                 1       1.0        1.0   \n",
       "741             2              2                 2       1.0        1.0   \n",
       "531             4              4                 4       1.0        1.0   \n",
       "64              2              2                 2       1.0        1.0   \n",
       "347             1              1                 1       1.0        1.0   \n",
       "998             1              1                 1       1.0        1.0   \n",
       "414             2              2                 2       1.0        1.0   \n",
       "937             2              2                 2       1.0        1.0   \n",
       "976             1              1                 1       1.0        1.0   \n",
       "968             1              1                 1       1.0        1.0   \n",
       "995             1              1                 1       1.0        1.0   \n",
       "682             1              1                 1       1.0        1.0   \n",
       "984             1              1                 1       1.0        1.0   \n",
       "518             1              1                 1       1.0        1.0   \n",
       "689             1              1                 1       1.0        1.0   \n",
       "878             1              1                 1       1.0        1.0   \n",
       "423             1              1                 1       1.0        1.0   \n",
       "894             1              1                 1       1.0        1.0   \n",
       "938             1              1                 1       1.0        1.0   \n",
       "\n",
       "     _person_id  \n",
       "771         224  \n",
       "845         474  \n",
       "741         539  \n",
       "531         642  \n",
       "64          672  \n",
       "347         854  \n",
       "998         167  \n",
       "414         666  \n",
       "937         575  \n",
       "976         833  \n",
       "968         639  \n",
       "995         751  \n",
       "682         278  \n",
       "984         357  \n",
       "518         881  \n",
       "689         445  \n",
       "878         589  \n",
       "423         319  \n",
       "894         721  \n",
       "938         705  "
      ],
      "text/html": "<div>\n<style scoped>\n    .dataframe tbody tr th:only-of-type {\n        vertical-align: middle;\n    }\n\n    .dataframe tbody tr th {\n        vertical-align: top;\n    }\n\n    .dataframe thead th {\n        text-align: right;\n    }\n</style>\n<table border=\"1\" class=\"dataframe\">\n  <thead>\n    <tr style=\"text-align: right;\">\n      <th></th>\n      <th>hits@5_count</th>\n      <th>hits@10_count</th>\n      <th>interacted_count</th>\n      <th>recall@5</th>\n      <th>recall@10</th>\n      <th>_person_id</th>\n    </tr>\n  </thead>\n  <tbody>\n    <tr>\n      <th>771</th>\n      <td>2</td>\n      <td>2</td>\n      <td>2</td>\n      <td>1.0</td>\n      <td>1.0</td>\n      <td>224</td>\n    </tr>\n    <tr>\n      <th>845</th>\n      <td>1</td>\n      <td>1</td>\n      <td>1</td>\n      <td>1.0</td>\n      <td>1.0</td>\n      <td>474</td>\n    </tr>\n    <tr>\n      <th>741</th>\n      <td>2</td>\n      <td>2</td>\n      <td>2</td>\n      <td>1.0</td>\n      <td>1.0</td>\n      <td>539</td>\n    </tr>\n    <tr>\n      <th>531</th>\n      <td>4</td>\n      <td>4</td>\n      <td>4</td>\n      <td>1.0</td>\n      <td>1.0</td>\n      <td>642</td>\n    </tr>\n    <tr>\n      <th>64</th>\n      <td>2</td>\n      <td>2</td>\n      <td>2</td>\n      <td>1.0</td>\n      <td>1.0</td>\n      <td>672</td>\n    </tr>\n    <tr>\n      <th>347</th>\n      <td>1</td>\n      <td>1</td>\n      <td>1</td>\n      <td>1.0</td>\n      <td>1.0</td>\n      <td>854</td>\n    </tr>\n    <tr>\n      <th>998</th>\n      <td>1</td>\n      <td>1</td>\n      <td>1</td>\n      <td>1.0</td>\n      <td>1.0</td>\n      <td>167</td>\n    </tr>\n    <tr>\n      <th>414</th>\n      <td>2</td>\n      <td>2</td>\n      <td>2</td>\n      <td>1.0</td>\n      <td>1.0</td>\n      <td>666</td>\n    </tr>\n    <tr>\n      <th>937</th>\n      <td>2</td>\n      <td>2</td>\n      <td>2</td>\n      <td>1.0</td>\n      <td>1.0</td>\n      <td>575</td>\n    </tr>\n    <tr>\n      <th>976</th>\n      <td>1</td>\n      <td>1</td>\n      <td>1</td>\n      <td>1.0</td>\n      <td>1.0</td>\n      <td>833</td>\n    </tr>\n    <tr>\n      <th>968</th>\n      <td>1</td>\n      <td>1</td>\n      <td>1</td>\n      <td>1.0</td>\n      <td>1.0</td>\n      <td>639</td>\n    </tr>\n    <tr>\n      <th>995</th>\n      <td>1</td>\n      <td>1</td>\n      <td>1</td>\n      <td>1.0</td>\n      <td>1.0</td>\n      <td>751</td>\n    </tr>\n    <tr>\n      <th>682</th>\n      <td>1</td>\n      <td>1</td>\n      <td>1</td>\n      <td>1.0</td>\n      <td>1.0</td>\n      <td>278</td>\n    </tr>\n    <tr>\n      <th>984</th>\n      <td>1</td>\n      <td>1</td>\n      <td>1</td>\n      <td>1.0</td>\n      <td>1.0</td>\n      <td>357</td>\n    </tr>\n    <tr>\n      <th>518</th>\n      <td>1</td>\n      <td>1</td>\n      <td>1</td>\n      <td>1.0</td>\n      <td>1.0</td>\n      <td>881</td>\n    </tr>\n    <tr>\n      <th>689</th>\n      <td>1</td>\n      <td>1</td>\n      <td>1</td>\n      <td>1.0</td>\n      <td>1.0</td>\n      <td>445</td>\n    </tr>\n    <tr>\n      <th>878</th>\n      <td>1</td>\n      <td>1</td>\n      <td>1</td>\n      <td>1.0</td>\n      <td>1.0</td>\n      <td>589</td>\n    </tr>\n    <tr>\n      <th>423</th>\n      <td>1</td>\n      <td>1</td>\n      <td>1</td>\n      <td>1.0</td>\n      <td>1.0</td>\n      <td>319</td>\n    </tr>\n    <tr>\n      <th>894</th>\n      <td>1</td>\n      <td>1</td>\n      <td>1</td>\n      <td>1.0</td>\n      <td>1.0</td>\n      <td>721</td>\n    </tr>\n    <tr>\n      <th>938</th>\n      <td>1</td>\n      <td>1</td>\n      <td>1</td>\n      <td>1.0</td>\n      <td>1.0</td>\n      <td>705</td>\n    </tr>\n  </tbody>\n</table>\n</div>"
     },
     "metadata": {},
     "execution_count": 275
    }
   ],
   "source": [
    "cf_detailed_results_df.sort_values(by=[\"recall@5\"], ascending=False).head(20)"
   ]
  },
  {
   "cell_type": "code",
   "execution_count": 276,
   "metadata": {},
   "outputs": [],
   "source": [
    "recommended_items = cf_recommender_model.recommend_items(17)\n",
    "recommended_items = recommended_items.head(3)"
   ]
  },
  {
   "cell_type": "code",
   "execution_count": 277,
   "metadata": {},
   "outputs": [
    {
     "output_type": "execute_result",
     "data": {
      "text/plain": [
       "           nzz_id                author  \\\n",
       "7440   1.18108994               Unknown   \n",
       "10617   ld.146967  Franziska Engelhardt   \n",
       "18907   ld.137200               Unknown   \n",
       "\n",
       "                                    catchline            department  \\\n",
       "7440   Impressionen aus Tessin und Graubünden                Tessin   \n",
       "10617                   Was heute wichtig ist              Briefing   \n",
       "18907                Ein letzter Blick zurück  Jahresrückblick 2016   \n",
       "\n",
       "                                               lead_text  \\\n",
       "7440   Die Kantone Graubünden und Tessin (Gastkanton ...   \n",
       "10617  Bayrou gibt seine Stimmen Macron / Anti-Terror...   \n",
       "18907  Die grossen Themen in der Bilanz, die besten G...   \n",
       "\n",
       "                      pub_date                                   title  \\\n",
       "7440   2017-04-11 13:59:48.182  Impressionen aus Tessin und Graubünden   \n",
       "10617    2017-02-22 20:15:00.0                   Was heute wichtig ist   \n",
       "18907    2017-01-02 04:30:00.0          Der grosse NZZ-Jahresrückblick   \n",
       "\n",
       "                                               paragraph  \n",
       "7440                                                 NaN  \n",
       "10617  Bayrou gibt seine Stimmen Macron / Anti-Terror...  \n",
       "18907                                                NaN  "
      ],
      "text/html": "<div>\n<style scoped>\n    .dataframe tbody tr th:only-of-type {\n        vertical-align: middle;\n    }\n\n    .dataframe tbody tr th {\n        vertical-align: top;\n    }\n\n    .dataframe thead th {\n        text-align: right;\n    }\n</style>\n<table border=\"1\" class=\"dataframe\">\n  <thead>\n    <tr style=\"text-align: right;\">\n      <th></th>\n      <th>nzz_id</th>\n      <th>author</th>\n      <th>catchline</th>\n      <th>department</th>\n      <th>lead_text</th>\n      <th>pub_date</th>\n      <th>title</th>\n      <th>paragraph</th>\n    </tr>\n  </thead>\n  <tbody>\n    <tr>\n      <th>7440</th>\n      <td>1.18108994</td>\n      <td>Unknown</td>\n      <td>Impressionen aus Tessin und Graubünden</td>\n      <td>Tessin</td>\n      <td>Die Kantone Graubünden und Tessin (Gastkanton ...</td>\n      <td>2017-04-11 13:59:48.182</td>\n      <td>Impressionen aus Tessin und Graubünden</td>\n      <td>NaN</td>\n    </tr>\n    <tr>\n      <th>10617</th>\n      <td>ld.146967</td>\n      <td>Franziska Engelhardt</td>\n      <td>Was heute wichtig ist</td>\n      <td>Briefing</td>\n      <td>Bayrou gibt seine Stimmen Macron / Anti-Terror...</td>\n      <td>2017-02-22 20:15:00.0</td>\n      <td>Was heute wichtig ist</td>\n      <td>Bayrou gibt seine Stimmen Macron / Anti-Terror...</td>\n    </tr>\n    <tr>\n      <th>18907</th>\n      <td>ld.137200</td>\n      <td>Unknown</td>\n      <td>Ein letzter Blick zurück</td>\n      <td>Jahresrückblick 2016</td>\n      <td>Die grossen Themen in der Bilanz, die besten G...</td>\n      <td>2017-01-02 04:30:00.0</td>\n      <td>Der grosse NZZ-Jahresrückblick</td>\n      <td>NaN</td>\n    </tr>\n  </tbody>\n</table>\n</div>"
     },
     "metadata": {},
     "execution_count": 277
    }
   ],
   "source": [
    "articles = pd.read_csv(\"../data/articles_cleaned.csv\")\n",
    "articles = articles[articles[\"nzz_id\"].isin(recommended_items[\"art_id\"])]\n",
    "articles"
   ]
  }
 ]
}