{
 "cells": [
  {
   "cell_type": "code",
   "execution_count": 5,
   "metadata": {},
   "outputs": [
    {
     "name": "stderr",
     "output_type": "stream",
     "text": [
      "c:\\Users\\a814809\\code-projects\\python\\WPy64-3880\\python-3.8.8.amd64\\lib\\site-packages\\lightfm\\_lightfm_fast.py:9: UserWarning: LightFM was compiled without OpenMP support. Only a single thread will be used.\n",
      "  warnings.warn(\n"
     ]
    }
   ],
   "source": [
    "import pandas as pd\r\n",
    "import numpy as np\r\n",
    "from lightfm import LightFM\r\n",
    "from lightfm.evaluation import precision_at_k\r\n",
    "from lightfm.evaluation import auc_score\r\n",
    "from lightfm.evaluation import recall_at_k\r\n",
    "from lightfm.cross_validation import random_train_test_split\r\n",
    "from lightfm.data import Dataset\r\n",
    "from scipy.sparse import csr_matrix\r\n"
   ]
  },
  {
   "cell_type": "code",
   "execution_count": 6,
   "metadata": {},
   "outputs": [
    {
     "data": {
      "text/html": "<div>\n<style scoped>\n    .dataframe tbody tr th:only-of-type {\n        vertical-align: middle;\n    }\n\n    .dataframe tbody tr th {\n        vertical-align: top;\n    }\n\n    .dataframe thead th {\n        text-align: right;\n    }\n</style>\n<table border=\"1\" class=\"dataframe\">\n  <thead>\n    <tr style=\"text-align: right;\">\n      <th></th>\n      <th>user_id</th>\n      <th>nzz_id</th>\n    </tr>\n  </thead>\n  <tbody>\n    <tr>\n      <th>0</th>\n      <td>1</td>\n      <td>ld.154103</td>\n    </tr>\n    <tr>\n      <th>1</th>\n      <td>1</td>\n      <td>ld.142559</td>\n    </tr>\n    <tr>\n      <th>2</th>\n      <td>1</td>\n      <td>1.18331199</td>\n    </tr>\n    <tr>\n      <th>3</th>\n      <td>1</td>\n      <td>ld.144819</td>\n    </tr>\n    <tr>\n      <th>4</th>\n      <td>1</td>\n      <td>ld.1293110</td>\n    </tr>\n  </tbody>\n</table>\n</div>",
      "text/plain": "   user_id      nzz_id\n0        1   ld.154103\n1        1   ld.142559\n2        1  1.18331199\n3        1   ld.144819\n4        1  ld.1293110"
     },
     "execution_count": 6,
     "metadata": {},
     "output_type": "execute_result"
    }
   ],
   "source": [
    "readers = pd.read_csv(\"../data/readers.csv\")\r\n",
    "readers = readers.rename(columns={\"id\":\"user_id\", \"art_id\":\"nzz_id\"})\r\n",
    "readers.head()"
   ]
  },
  {
   "cell_type": "code",
   "execution_count": 7,
   "metadata": {},
   "outputs": [
    {
     "name": "stdout",
     "output_type": "stream",
     "text": [
      "(27855, 2)\n",
      "(27855, 2)\n"
     ]
    }
   ],
   "source": [
    "print(readers.shape)\r\n",
    "readers = readers.drop_duplicates()\r\n",
    "print(readers.shape)"
   ]
  },
  {
   "cell_type": "code",
   "execution_count": null,
   "metadata": {},
   "outputs": [],
   "source": []
  },
  {
   "cell_type": "code",
   "execution_count": 8,
   "metadata": {},
   "outputs": [
    {
     "data": {
      "text/html": "<div>\n<style scoped>\n    .dataframe tbody tr th:only-of-type {\n        vertical-align: middle;\n    }\n\n    .dataframe tbody tr th {\n        vertical-align: top;\n    }\n\n    .dataframe thead th {\n        text-align: right;\n    }\n</style>\n<table border=\"1\" class=\"dataframe\">\n  <thead>\n    <tr style=\"text-align: right;\">\n      <th></th>\n      <th>user_id</th>\n      <th>nzz_id</th>\n    </tr>\n  </thead>\n  <tbody>\n    <tr>\n      <th>10</th>\n      <td>3</td>\n      <td>1.18306956</td>\n    </tr>\n    <tr>\n      <th>11</th>\n      <td>3</td>\n      <td>ld.140509</td>\n    </tr>\n    <tr>\n      <th>12</th>\n      <td>3</td>\n      <td>ld.151615</td>\n    </tr>\n    <tr>\n      <th>13</th>\n      <td>3</td>\n      <td>ld.152374</td>\n    </tr>\n    <tr>\n      <th>14</th>\n      <td>3</td>\n      <td>ld.148811</td>\n    </tr>\n    <tr>\n      <th>...</th>\n      <td>...</td>\n      <td>...</td>\n    </tr>\n    <tr>\n      <th>27850</th>\n      <td>1000</td>\n      <td>ld.153608</td>\n    </tr>\n    <tr>\n      <th>27851</th>\n      <td>1000</td>\n      <td>ld.137667</td>\n    </tr>\n    <tr>\n      <th>27852</th>\n      <td>1000</td>\n      <td>ld.1289804</td>\n    </tr>\n    <tr>\n      <th>27853</th>\n      <td>1000</td>\n      <td>ld.154369</td>\n    </tr>\n    <tr>\n      <th>27854</th>\n      <td>1000</td>\n      <td>ld.153813</td>\n    </tr>\n  </tbody>\n</table>\n<p>27755 rows × 2 columns</p>\n</div>",
      "text/plain": "       user_id      nzz_id\n10           3  1.18306956\n11           3   ld.140509\n12           3   ld.151615\n13           3   ld.152374\n14           3   ld.148811\n...        ...         ...\n27850     1000   ld.153608\n27851     1000   ld.137667\n27852     1000  ld.1289804\n27853     1000   ld.154369\n27854     1000   ld.153813\n\n[27755 rows x 2 columns]"
     },
     "execution_count": 8,
     "metadata": {},
     "output_type": "execute_result"
    }
   ],
   "source": [
    "read_counts = readers[\"user_id\"].value_counts(sort=True)\r\n",
    "read_counts = read_counts.rename_axis(\"user_id\").reset_index(name=\"read_count\")\r\n",
    "# Biorę pod uwagę tylko użytkowników, którzy przeczytali minimum 5 artykułów\r\n",
    "min_read_count = 5\r\n",
    "read_counts = read_counts[read_counts[\"read_count\"] > min_read_count]\r\n",
    "\r\n",
    "readers = readers[readers[\"user_id\"].isin(read_counts[\"user_id\"])]\r\n",
    "readers"
   ]
  },
  {
   "cell_type": "code",
   "execution_count": 9,
   "metadata": {},
   "outputs": [],
   "source": [
    "dataset = Dataset()\r\n",
    "dataset.fit(readers[\"user_id\"].to_numpy(), readers[\"nzz_id\"].to_numpy())\r\n",
    "\r\n",
    "matrix_interactions, matrix_weights = dataset.build_interactions(readers.to_numpy())"
   ]
  },
  {
   "cell_type": "code",
   "execution_count": 20,
   "metadata": {},
   "outputs": [
    {
     "data": {
      "text/plain": "scipy.sparse.coo.coo_matrix"
     },
     "execution_count": 20,
     "metadata": {},
     "output_type": "execute_result"
    }
   ],
   "source": [
    "type(matrix_interactions)"
   ]
  },
  {
   "cell_type": "code",
   "execution_count": null,
   "metadata": {},
   "outputs": [],
   "source": []
  },
  {
   "cell_type": "code",
   "execution_count": 10,
   "metadata": {},
   "outputs": [],
   "source": [
    "train, test = random_train_test_split(matrix_interactions)"
   ]
  },
  {
   "cell_type": "code",
   "execution_count": 11,
   "metadata": {},
   "outputs": [
    {
     "data": {
      "text/plain": "<lightfm.lightfm.LightFM at 0x184d2ba8760>"
     },
     "execution_count": 11,
     "metadata": {},
     "output_type": "execute_result"
    }
   ],
   "source": [
    "model = LightFM(learning_rate=0.05, loss='warp')\r\n",
    "model.fit(train, epochs=1000)"
   ]
  },
  {
   "cell_type": "code",
   "execution_count": 12,
   "metadata": {},
   "outputs": [
    {
     "name": "stdout",
     "output_type": "stream",
     "text": [
      "Precision: train 0.09, test 0.01.\n",
      "Recall: train 0.02, test 0.01.\n",
      "AUC: train 1.00, test 0.60.\n"
     ]
    }
   ],
   "source": [
    "train_precision = precision_at_k(model, train, k=5).mean()\r\n",
    "test_precision = precision_at_k(model, test, k=5).mean()\r\n",
    "\r\n",
    "train_recall = recall_at_k(model, train, k=5).mean()\r\n",
    "test_recall = recall_at_k(model, test, k=5).mean()\r\n",
    "\r\n",
    "train_auc = auc_score(model, train).mean()\r\n",
    "test_auc = auc_score(model, test).mean()\r\n",
    "\r\n",
    "print('Precision: train %.2f, test %.2f.' % (train_precision, test_precision))\r\n",
    "print('Recall: train %.2f, test %.2f.' % (train_recall, test_recall))\r\n",
    "print('AUC: train %.2f, test %.2f.' % (train_auc, test_auc))"
   ]
  },
  {
   "cell_type": "code",
   "execution_count": 13,
   "metadata": {},
   "outputs": [
    {
     "data": {
      "text/plain": "array([-6.752632 , -7.953919 , -7.7626963, -6.402547 , -7.9321218,\n       -9.509697 , -7.598825 , -9.399061 ], dtype=float32)"
     },
     "execution_count": 13,
     "metadata": {},
     "output_type": "execute_result"
    }
   ],
   "source": [
    "model.predict(1, [1,2,3,4,5,6,7,8])"
   ]
  },
  {
   "cell_type": "code",
   "execution_count": 14,
   "metadata": {},
   "outputs": [],
   "source": [
    "import implicit"
   ]
  },
  {
   "cell_type": "code",
   "execution_count": 15,
   "metadata": {},
   "outputs": [
    {
     "name": "stderr",
     "output_type": "stream",
     "text": [
      "WARNING:root:OpenBLAS detected. Its highly recommend to set the environment variable 'export OPENBLAS_NUM_THREADS=1' to disable its internal multithreading\n",
      "100%|██████████| 15/15 [00:03<00:00,  4.36it/s]\n"
     ]
    }
   ],
   "source": [
    "base_model = implicit.als.AlternatingLeastSquares()\r\n",
    "base_model.fit(train)"
   ]
  },
  {
   "cell_type": "code",
   "execution_count": 16,
   "metadata": {},
   "outputs": [
    {
     "ename": "TypeError",
     "evalue": "'coo_matrix' object is not subscriptable",
     "output_type": "error",
     "traceback": [
      "\u001b[1;31m---------------------------------------------------------------------------\u001b[0m",
      "\u001b[1;31mTypeError\u001b[0m                                 Traceback (most recent call last)",
      "\u001b[1;32m<ipython-input-16-421249cb7ecf>\u001b[0m in \u001b[0;36m<module>\u001b[1;34m\u001b[0m\n\u001b[1;32m----> 1\u001b[1;33m \u001b[0mbase_model\u001b[0m\u001b[1;33m.\u001b[0m\u001b[0mrecommend\u001b[0m\u001b[1;33m(\u001b[0m\u001b[1;36m1\u001b[0m\u001b[1;33m,\u001b[0m \u001b[0mtest\u001b[0m\u001b[1;33m)\u001b[0m\u001b[1;33m\u001b[0m\u001b[1;33m\u001b[0m\u001b[0m\n\u001b[0m",
      "\u001b[1;32mimplicit/recommender_base.pyx\u001b[0m in \u001b[0;36mimplicit.recommender_base.MatrixFactorizationBase.recommend\u001b[1;34m()\u001b[0m\n",
      "\u001b[1;31mTypeError\u001b[0m: 'coo_matrix' object is not subscriptable"
     ]
    }
   ],
   "source": [
    "base_model.recommend(1, test)"
   ]
  }
 ],
 "metadata": {
  "kernelspec": {
   "display_name": "Python 3.8.8 64-bit ('python-3.8.8.amd64')",
   "language": "python",
   "name": "python388jvsc74a57bd0fa40d802589a21bf16ea36e6cbe213719a0e5ddda597750d0ec239eff626732c"
  },
  "language_info": {
   "codemirror_mode": {
    "name": "ipython",
    "version": 3
   },
   "file_extension": ".py",
   "mimetype": "text/x-python",
   "name": "python",
   "nbconvert_exporter": "python",
   "pygments_lexer": "ipython3",
   "version": "3.8.8"
  },
  "orig_nbformat": 2
 },
 "nbformat": 4,
 "nbformat_minor": 2
}