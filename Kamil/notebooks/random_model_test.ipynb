{
 "metadata": {
  "language_info": {
   "codemirror_mode": {
    "name": "ipython",
    "version": 3
   },
   "file_extension": ".py",
   "mimetype": "text/x-python",
   "name": "python",
   "nbconvert_exporter": "python",
   "pygments_lexer": "ipython3",
   "version": "3.8.8"
  },
  "orig_nbformat": 2,
  "kernelspec": {
   "name": "python388jvsc74a57bd0686f23405e2a4ac53f16a9301bfd24c8a524f3e91072c4c8e17ee124502b094e",
   "display_name": "Python 3.8.8 64-bit"
  }
 },
 "nbformat": 4,
 "nbformat_minor": 2,
 "cells": [
  {
   "cell_type": "code",
   "execution_count": 2,
   "metadata": {},
   "outputs": [],
   "source": [
    "import sys\n",
    "import pandas as pd\n",
    "sys.path.append('../code')\n",
    "from random_model import RandomModel"
   ]
  },
  {
   "cell_type": "code",
   "execution_count": 3,
   "metadata": {},
   "outputs": [
    {
     "output_type": "execute_result",
     "data": {
      "text/plain": [
       "       nzz_id           author                             catchline  \\\n",
       "0   ld.149648  Claudia Gabriel  Obligationenfonds mit fixer Laufzeit   \n",
       "1  1.18145900          Unknown                 Fashion Week New York   \n",
       "2   ld.138769          Unknown                     E-Banking-Ausfall   \n",
       "3   ld.143700          Unknown                  Terror in Frankreich   \n",
       "4   ld.149385          Unknown                     Unglück in Panama   \n",
       "\n",
       "      department                                          lead_text  \\\n",
       "0       Finanzen  Die Idee ist gut: Statt einer einzigen Obligat...   \n",
       "1       Panorama  Zum Auftakt der Fashion Week in New York zeige...   \n",
       "2       Finanzen  Seit Sonntag funktioniert das E-Banking der Po...   \n",
       "3  International  Einen Tag nach dem Angriff auf Soldaten beim P...   \n",
       "4       Panorama  Bei einem Busunglück in Panama sind 17 Persone...   \n",
       "\n",
       "                  pub_date                                            title  \\\n",
       "0    2017-03-09 08:01:21.0              Es gibt noch interessante Varianten   \n",
       "1  2017-04-11 14:00:29.473                            Fashion Week New York   \n",
       "2    2017-01-09 13:55:00.0                Postfinance kämpft mit dem System   \n",
       "3    2017-02-04 12:50:25.0     Louvre nach Macheten-Angriff wieder geöffnet   \n",
       "4    2017-03-06 07:31:21.0  Bus prallt gegen eine Mauer und stürzt in Fluss   \n",
       "\n",
       "                                           paragraph  \n",
       "0  Die Idee ist gut: Statt einer einzigen Obligat...  \n",
       "1                                                NaN  \n",
       "2  Seit Sonntag funktioniert das E-Banking der Po...  \n",
       "3  Einen Tag nach dem Angriff auf Soldaten beim P...  \n",
       "4  Bei einem Busunglück in Panama sind 17 Persone...  "
      ],
      "text/html": "<div>\n<style scoped>\n    .dataframe tbody tr th:only-of-type {\n        vertical-align: middle;\n    }\n\n    .dataframe tbody tr th {\n        vertical-align: top;\n    }\n\n    .dataframe thead th {\n        text-align: right;\n    }\n</style>\n<table border=\"1\" class=\"dataframe\">\n  <thead>\n    <tr style=\"text-align: right;\">\n      <th></th>\n      <th>nzz_id</th>\n      <th>author</th>\n      <th>catchline</th>\n      <th>department</th>\n      <th>lead_text</th>\n      <th>pub_date</th>\n      <th>title</th>\n      <th>paragraph</th>\n    </tr>\n  </thead>\n  <tbody>\n    <tr>\n      <th>0</th>\n      <td>ld.149648</td>\n      <td>Claudia Gabriel</td>\n      <td>Obligationenfonds mit fixer Laufzeit</td>\n      <td>Finanzen</td>\n      <td>Die Idee ist gut: Statt einer einzigen Obligat...</td>\n      <td>2017-03-09 08:01:21.0</td>\n      <td>Es gibt noch interessante Varianten</td>\n      <td>Die Idee ist gut: Statt einer einzigen Obligat...</td>\n    </tr>\n    <tr>\n      <th>1</th>\n      <td>1.18145900</td>\n      <td>Unknown</td>\n      <td>Fashion Week New York</td>\n      <td>Panorama</td>\n      <td>Zum Auftakt der Fashion Week in New York zeige...</td>\n      <td>2017-04-11 14:00:29.473</td>\n      <td>Fashion Week New York</td>\n      <td>NaN</td>\n    </tr>\n    <tr>\n      <th>2</th>\n      <td>ld.138769</td>\n      <td>Unknown</td>\n      <td>E-Banking-Ausfall</td>\n      <td>Finanzen</td>\n      <td>Seit Sonntag funktioniert das E-Banking der Po...</td>\n      <td>2017-01-09 13:55:00.0</td>\n      <td>Postfinance kämpft mit dem System</td>\n      <td>Seit Sonntag funktioniert das E-Banking der Po...</td>\n    </tr>\n    <tr>\n      <th>3</th>\n      <td>ld.143700</td>\n      <td>Unknown</td>\n      <td>Terror in Frankreich</td>\n      <td>International</td>\n      <td>Einen Tag nach dem Angriff auf Soldaten beim P...</td>\n      <td>2017-02-04 12:50:25.0</td>\n      <td>Louvre nach Macheten-Angriff wieder geöffnet</td>\n      <td>Einen Tag nach dem Angriff auf Soldaten beim P...</td>\n    </tr>\n    <tr>\n      <th>4</th>\n      <td>ld.149385</td>\n      <td>Unknown</td>\n      <td>Unglück in Panama</td>\n      <td>Panorama</td>\n      <td>Bei einem Busunglück in Panama sind 17 Persone...</td>\n      <td>2017-03-06 07:31:21.0</td>\n      <td>Bus prallt gegen eine Mauer und stürzt in Fluss</td>\n      <td>Bei einem Busunglück in Panama sind 17 Persone...</td>\n    </tr>\n  </tbody>\n</table>\n</div>"
     },
     "metadata": {},
     "execution_count": 3
    }
   ],
   "source": [
    "articles = pd.read_csv(\"../data/articles_cleaned.csv\")\n",
    "articles.head()"
   ]
  },
  {
   "cell_type": "code",
   "execution_count": 61,
   "metadata": {},
   "outputs": [],
   "source": [
    "random_model = RandomModel()\n",
    "random_model.fit(articles)"
   ]
  },
  {
   "cell_type": "code",
   "execution_count": 74,
   "metadata": {},
   "outputs": [
    {
     "output_type": "execute_result",
     "data": {
      "text/plain": [
       "           nzz_id\n",
       "15513  ld.1289779\n",
       "16750  1.17895457\n",
       "13397   ld.146113\n",
       "1925   ld.1289869\n",
       "10035  1.18210903\n",
       "2231    ld.154957\n",
       "3041    ld.155094\n",
       "14698   ld.152075\n",
       "11942   ld.148866\n",
       "21190  ld.1288880"
      ],
      "text/html": "<div>\n<style scoped>\n    .dataframe tbody tr th:only-of-type {\n        vertical-align: middle;\n    }\n\n    .dataframe tbody tr th {\n        vertical-align: top;\n    }\n\n    .dataframe thead th {\n        text-align: right;\n    }\n</style>\n<table border=\"1\" class=\"dataframe\">\n  <thead>\n    <tr style=\"text-align: right;\">\n      <th></th>\n      <th>nzz_id</th>\n    </tr>\n  </thead>\n  <tbody>\n    <tr>\n      <th>15513</th>\n      <td>ld.1289779</td>\n    </tr>\n    <tr>\n      <th>16750</th>\n      <td>1.17895457</td>\n    </tr>\n    <tr>\n      <th>13397</th>\n      <td>ld.146113</td>\n    </tr>\n    <tr>\n      <th>1925</th>\n      <td>ld.1289869</td>\n    </tr>\n    <tr>\n      <th>10035</th>\n      <td>1.18210903</td>\n    </tr>\n    <tr>\n      <th>2231</th>\n      <td>ld.154957</td>\n    </tr>\n    <tr>\n      <th>3041</th>\n      <td>ld.155094</td>\n    </tr>\n    <tr>\n      <th>14698</th>\n      <td>ld.152075</td>\n    </tr>\n    <tr>\n      <th>11942</th>\n      <td>ld.148866</td>\n    </tr>\n    <tr>\n      <th>21190</th>\n      <td>ld.1288880</td>\n    </tr>\n  </tbody>\n</table>\n</div>"
     },
     "metadata": {},
     "execution_count": 74
    }
   ],
   "source": [
    "random_model.recommend(topn=10)"
   ]
  }
 ]
}