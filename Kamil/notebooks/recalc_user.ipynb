{
 "cells": [
  {
   "cell_type": "code",
   "execution_count": null,
   "metadata": {},
   "outputs": [],
   "source": []
  }
 ],
 "metadata": {
  "interpreter": {
   "hash": "fa40d802589a21bf16ea36e6cbe213719a0e5ddda597750d0ec239eff626732c"
  },
  "kernelspec": {
   "display_name": "Python 3.8.8 64-bit ('python-3.8.8.amd64')",
   "name": "python3"
  },
  "language_info": {
   "name": "python",
   "version": ""
  },
  "orig_nbformat": 2
 },
 "nbformat": 4,
 "nbformat_minor": 2
}