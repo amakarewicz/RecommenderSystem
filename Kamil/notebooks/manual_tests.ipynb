{
 "cells": [
  {
   "cell_type": "code",
   "execution_count": 58,
   "metadata": {},
   "outputs": [],
   "source": [
    "import pandas as pd\r\n",
    "import numpy as np"
   ]
  },
  {
   "cell_type": "code",
   "execution_count": 59,
   "metadata": {},
   "outputs": [
    {
     "data": {
      "text/html": "<div>\n<style scoped>\n    .dataframe tbody tr th:only-of-type {\n        vertical-align: middle;\n    }\n\n    .dataframe tbody tr th {\n        vertical-align: top;\n    }\n\n    .dataframe thead th {\n        text-align: right;\n    }\n</style>\n<table border=\"1\" class=\"dataframe\">\n  <thead>\n    <tr style=\"text-align: right;\">\n      <th></th>\n      <th>user_id</th>\n      <th>nzz_id</th>\n    </tr>\n  </thead>\n  <tbody>\n    <tr>\n      <th>0</th>\n      <td>1</td>\n      <td>ld.154103</td>\n    </tr>\n    <tr>\n      <th>1</th>\n      <td>1</td>\n      <td>ld.142559</td>\n    </tr>\n    <tr>\n      <th>2</th>\n      <td>1</td>\n      <td>1.18331199</td>\n    </tr>\n    <tr>\n      <th>3</th>\n      <td>1</td>\n      <td>ld.144819</td>\n    </tr>\n    <tr>\n      <th>4</th>\n      <td>1</td>\n      <td>ld.1293110</td>\n    </tr>\n  </tbody>\n</table>\n</div>",
      "text/plain": "   user_id      nzz_id\n0        1   ld.154103\n1        1   ld.142559\n2        1  1.18331199\n3        1   ld.144819\n4        1  ld.1293110"
     },
     "execution_count": 59,
     "metadata": {},
     "output_type": "execute_result"
    }
   ],
   "source": [
    "readers = pd.read_csv(\"../data/readers.csv\")\r\n",
    "readers = readers.rename(columns={\"id\":\"user_id\", \"art_id\":\"nzz_id\"})\r\n",
    "readers.head()"
   ]
  },
  {
   "cell_type": "code",
   "execution_count": 60,
   "metadata": {},
   "outputs": [
    {
     "data": {
      "text/html": "<div>\n<style scoped>\n    .dataframe tbody tr th:only-of-type {\n        vertical-align: middle;\n    }\n\n    .dataframe tbody tr th {\n        vertical-align: top;\n    }\n\n    .dataframe thead th {\n        text-align: right;\n    }\n</style>\n<table border=\"1\" class=\"dataframe\">\n  <thead>\n    <tr style=\"text-align: right;\">\n      <th></th>\n      <th>nzz_id</th>\n      <th>author</th>\n      <th>catchline</th>\n      <th>department</th>\n      <th>lead_text</th>\n      <th>pub_date</th>\n      <th>title</th>\n      <th>paragraph</th>\n    </tr>\n  </thead>\n  <tbody>\n    <tr>\n      <th>0</th>\n      <td>ld.149648</td>\n      <td>Claudia Gabriel</td>\n      <td>Obligationenfonds mit fixer Laufzeit</td>\n      <td>Finanzen</td>\n      <td>Die Idee ist gut: Statt einer einzigen Obligat...</td>\n      <td>2017-03-09 08:01:21.0</td>\n      <td>Es gibt noch interessante Varianten</td>\n      <td>Die Idee ist gut: Statt einer einzigen Obligat...</td>\n    </tr>\n    <tr>\n      <th>1</th>\n      <td>1.18145900</td>\n      <td>Unknown</td>\n      <td>Fashion Week New York</td>\n      <td>Panorama</td>\n      <td>Zum Auftakt der Fashion Week in New York zeige...</td>\n      <td>2017-04-11 14:00:29.473</td>\n      <td>Fashion Week New York</td>\n      <td>NaN</td>\n    </tr>\n    <tr>\n      <th>2</th>\n      <td>ld.138769</td>\n      <td>Unknown</td>\n      <td>E-Banking-Ausfall</td>\n      <td>Finanzen</td>\n      <td>Seit Sonntag funktioniert das E-Banking der Po...</td>\n      <td>2017-01-09 13:55:00.0</td>\n      <td>Postfinance kämpft mit dem System</td>\n      <td>Seit Sonntag funktioniert das E-Banking der Po...</td>\n    </tr>\n    <tr>\n      <th>3</th>\n      <td>ld.143700</td>\n      <td>Unknown</td>\n      <td>Terror in Frankreich</td>\n      <td>International</td>\n      <td>Einen Tag nach dem Angriff auf Soldaten beim P...</td>\n      <td>2017-02-04 12:50:25.0</td>\n      <td>Louvre nach Macheten-Angriff wieder geöffnet</td>\n      <td>Einen Tag nach dem Angriff auf Soldaten beim P...</td>\n    </tr>\n    <tr>\n      <th>4</th>\n      <td>ld.149385</td>\n      <td>Unknown</td>\n      <td>Unglück in Panama</td>\n      <td>Panorama</td>\n      <td>Bei einem Busunglück in Panama sind 17 Persone...</td>\n      <td>2017-03-06 07:31:21.0</td>\n      <td>Bus prallt gegen eine Mauer und stürzt in Fluss</td>\n      <td>Bei einem Busunglück in Panama sind 17 Persone...</td>\n    </tr>\n  </tbody>\n</table>\n</div>",
      "text/plain": "       nzz_id           author                             catchline  \\\n0   ld.149648  Claudia Gabriel  Obligationenfonds mit fixer Laufzeit   \n1  1.18145900          Unknown                 Fashion Week New York   \n2   ld.138769          Unknown                     E-Banking-Ausfall   \n3   ld.143700          Unknown                  Terror in Frankreich   \n4   ld.149385          Unknown                     Unglück in Panama   \n\n      department                                          lead_text  \\\n0       Finanzen  Die Idee ist gut: Statt einer einzigen Obligat...   \n1       Panorama  Zum Auftakt der Fashion Week in New York zeige...   \n2       Finanzen  Seit Sonntag funktioniert das E-Banking der Po...   \n3  International  Einen Tag nach dem Angriff auf Soldaten beim P...   \n4       Panorama  Bei einem Busunglück in Panama sind 17 Persone...   \n\n                  pub_date                                            title  \\\n0    2017-03-09 08:01:21.0              Es gibt noch interessante Varianten   \n1  2017-04-11 14:00:29.473                            Fashion Week New York   \n2    2017-01-09 13:55:00.0                Postfinance kämpft mit dem System   \n3    2017-02-04 12:50:25.0     Louvre nach Macheten-Angriff wieder geöffnet   \n4    2017-03-06 07:31:21.0  Bus prallt gegen eine Mauer und stürzt in Fluss   \n\n                                           paragraph  \n0  Die Idee ist gut: Statt einer einzigen Obligat...  \n1                                                NaN  \n2  Seit Sonntag funktioniert das E-Banking der Po...  \n3  Einen Tag nach dem Angriff auf Soldaten beim P...  \n4  Bei einem Busunglück in Panama sind 17 Persone...  "
     },
     "execution_count": 60,
     "metadata": {},
     "output_type": "execute_result"
    }
   ],
   "source": [
    "articles = pd.read_csv(\"../data/articles_cleaned.csv\", encoding=\"utf-8\")\r\n",
    "articles.head()"
   ]
  },
  {
   "cell_type": "code",
   "execution_count": 61,
   "metadata": {},
   "outputs": [],
   "source": [
    "read_counts = readers[\"user_id\"].value_counts(sort=True)\r\n",
    "read_counts = read_counts.rename_axis(\"user_id\").reset_index(name=\"read_count\")\r\n",
    "\r\n",
    "# Biorę pod uwagę tylko użytkowników, którzy przeczytali minimum 5 artykułów\r\n",
    "min_read_count = 3\r\n",
    "read_counts = read_counts[read_counts[\"read_count\"] > min_read_count]\r\n",
    "\r\n",
    "readers = readers[readers[\"user_id\"].isin(read_counts[\"user_id\"])]"
   ]
  },
  {
   "cell_type": "code",
   "execution_count": 62,
   "metadata": {},
   "outputs": [
    {
     "name": "stdout",
     "output_type": "stream",
     "text": [
      "Train set size 22284\n",
      "test set size 5571\n",
      "n users in test 3995\n",
      "n users in train 10046\n"
     ]
    }
   ],
   "source": [
    "# Train/Test split\r\n",
    "from sklearn.model_selection import train_test_split\r\n",
    "\r\n",
    "random_state = None\r\n",
    "readers_train, readers_test = train_test_split(readers,\r\n",
    "                                   stratify=readers[\"user_id\"], \r\n",
    "                                   test_size=0.20,\r\n",
    "                                   random_state=12)\r\n",
    "                                   \r\n",
    "print(f\"Train set size {len(readers_train)}\")\r\n",
    "print(f\"test set size {len(readers_test)}\")\r\n",
    "unique_train = readers_train[\"nzz_id\"].unique()\r\n",
    "unique_test = readers_test[\"nzz_id\"].unique()\r\n",
    "print(f\"n users in test {len(unique_test)}\")\r\n",
    "print(f\"n users in train {len(unique_train)}\")\r\n"
   ]
  },
  {
   "cell_type": "code",
   "execution_count": 63,
   "metadata": {},
   "outputs": [],
   "source": [
    "import sys\r\n",
    "sys.path.append('../code')\r\n",
    "from cf_model import CFModel\r\n",
    "from model_evaluator import ModelEvaluator\r\n",
    "from random_model import RandomModel\r\n",
    "from implicit_model import ImplicitModel\r\n",
    "model_evaluator = ModelEvaluator(k_list = [10])"
   ]
  },
  {
   "cell_type": "code",
   "execution_count": 64,
   "metadata": {},
   "outputs": [
    {
     "name": "stdout",
     "output_type": "stream",
     "text": [
      "999 users processed\n",
      "\n",
      "Global metrics:\n",
      "{'modelName': 'implicit_model', 'recall@10': 0.4243654761904762, 'precision@10': 0.04243654761904762, 'f1_score@10': 0.07715735930735931, 'ndcg@10': 0.27505183093866165, 'personalization@10': 0.9978148148148148}\n"
     ]
    }
   ],
   "source": [
    "#cf_recommender_model = CFModel(n_latent_factors=200)\r\n",
    "cf_recommender_model = ImplicitModel(n_latent_factors=500, regularization=150, alpha=50, iterations=10)\r\n",
    "cf_recommender_model.fit(readers_train, articles=articles)\r\n",
    "cf_global_metrics, cf_detailed_results_df = model_evaluator.evaluate_model(cf_recommender_model, readers, readers_train, readers_test, interactions=0)\r\n",
    "print('\\nGlobal metrics:\\n%s' % cf_global_metrics)"
   ]
  },
  {
   "cell_type": "code",
   "execution_count": 65,
   "metadata": {},
   "outputs": [
    {
     "data": {
      "text/html": "<div>\n<style scoped>\n    .dataframe tbody tr th:only-of-type {\n        vertical-align: middle;\n    }\n\n    .dataframe tbody tr th {\n        vertical-align: top;\n    }\n\n    .dataframe thead th {\n        text-align: right;\n    }\n</style>\n<table border=\"1\" class=\"dataframe\">\n  <thead>\n    <tr style=\"text-align: right;\">\n      <th></th>\n      <th>recommendation_strength</th>\n      <th>nzz_id</th>\n      <th>catchline</th>\n      <th>paragraph</th>\n      <th>department</th>\n      <th>lead_text</th>\n      <th>pub_date</th>\n    </tr>\n  </thead>\n  <tbody>\n    <tr>\n      <th>0</th>\n      <td>0.737799</td>\n      <td>ld.147049</td>\n      <td>Die Indigenen Nordskandinaviens</td>\n      <td>nZwischen Rentierzucht und Klimakonferenz: In ...</td>\n      <td>Gesellschaft</td>\n      <td>Zwischenxa0Rentierzucht und Klimakonferenz:xa0...</td>\n      <td>2017-02-24 04:30:00.0</td>\n    </tr>\n    <tr>\n      <th>1</th>\n      <td>0.687492</td>\n      <td>ld.141732</td>\n      <td>«Digitalwährung»xa0Giracoin</td>\n      <td>Die Schweizer Gira Financial Group wirbt für G...</td>\n      <td>Digital</td>\n      <td>Die Schweizer Gira Financial Group wirbt für G...</td>\n      <td>2017-01-27 09:10:22.0</td>\n    </tr>\n    <tr>\n      <th>2</th>\n      <td>0.681919</td>\n      <td>ld.1293241</td>\n      <td>Forschung</td>\n      <td>Am Anfang war das Bankivahuhn. Sämtliche rund ...</td>\n      <td>Archiv</td>\n      <td>Das Huhn: Augenweide und Gaumenfreude.</td>\n      <td>2017-05-17 04:00:00.0</td>\n    </tr>\n    <tr>\n      <th>3</th>\n      <td>0.681379</td>\n      <td>ld.152926</td>\n      <td>Computersicherheit</td>\n      <td>NaN</td>\n      <td>Digital</td>\n      <td>Apple wird erpresst. Die Firma soll 100'000 Do...</td>\n      <td>2017-03-22 15:47:24.917</td>\n    </tr>\n    <tr>\n      <th>4</th>\n      <td>0.655398</td>\n      <td>ld.141745</td>\n      <td>Neue Gegenkultur</td>\n      <td>Was zum Teufel ist mit der Rockmusik los? Sie ...</td>\n      <td>NZZaS</td>\n      <td>Was zum Teufel ist mit der Rockmusik los? Sie ...</td>\n      <td>2017-01-25 11:43:00.0</td>\n    </tr>\n    <tr>\n      <th>5</th>\n      <td>0.638573</td>\n      <td>ld.138548</td>\n      <td>Nationalsymbol</td>\n      <td>Der inflationäre Gebrauch nationaler Symbole i...</td>\n      <td>Meinung</td>\n      <td>Der inflationäre Gebrauch nationaler Symbole i...</td>\n      <td>2017-01-08 06:00:00.0</td>\n    </tr>\n    <tr>\n      <th>6</th>\n      <td>0.632273</td>\n      <td>ld.152940</td>\n      <td>Verbot von Auftritten ausländischer Politiker</td>\n      <td>NaN</td>\n      <td>International</td>\n      <td>In Österreich steht kein Auftritt eines türkis...</td>\n      <td>2017-03-22 18:26:11.283</td>\n    </tr>\n    <tr>\n      <th>7</th>\n      <td>0.632273</td>\n      <td>ld.821045</td>\n      <td>Eigenmittelverordnung</td>\n      <td>NaN</td>\n      <td>Wirtschaft</td>\n      <td>NaN</td>\n      <td>2017-04-07 15:54:47.663</td>\n    </tr>\n    <tr>\n      <th>8</th>\n      <td>0.629567</td>\n      <td>ld.1085571</td>\n      <td>Venezuela in der Krise</td>\n      <td>NaN</td>\n      <td>International</td>\n      <td>Bei Protesten gegen die sozialistische Regieru...</td>\n      <td>2017-04-11 03:44:42.192</td>\n    </tr>\n    <tr>\n      <th>9</th>\n      <td>0.629469</td>\n      <td>1.18179552</td>\n      <td>ATP World Tour Finals</td>\n      <td>NaN</td>\n      <td>Sport</td>\n      <td>Novak Djokovic verteidigt den Titel in London ...</td>\n      <td>2017-04-11 14:01:02.003</td>\n    </tr>\n  </tbody>\n</table>\n</div>",
      "text/plain": "   recommendation_strength      nzz_id  \\\n0                 0.737799   ld.147049   \n1                 0.687492   ld.141732   \n2                 0.681919  ld.1293241   \n3                 0.681379   ld.152926   \n4                 0.655398   ld.141745   \n5                 0.638573   ld.138548   \n6                 0.632273   ld.152940   \n7                 0.632273   ld.821045   \n8                 0.629567  ld.1085571   \n9                 0.629469  1.18179552   \n\n                                       catchline  \\\n0                Die Indigenen Nordskandinaviens   \n1                    «Digitalwährung»xa0Giracoin   \n2                                      Forschung   \n3                             Computersicherheit   \n4                               Neue Gegenkultur   \n5                                 Nationalsymbol   \n6  Verbot von Auftritten ausländischer Politiker   \n7                          Eigenmittelverordnung   \n8                         Venezuela in der Krise   \n9                          ATP World Tour Finals   \n\n                                           paragraph     department  \\\n0  nZwischen Rentierzucht und Klimakonferenz: In ...   Gesellschaft   \n1  Die Schweizer Gira Financial Group wirbt für G...        Digital   \n2  Am Anfang war das Bankivahuhn. Sämtliche rund ...         Archiv   \n3                                                NaN        Digital   \n4  Was zum Teufel ist mit der Rockmusik los? Sie ...          NZZaS   \n5  Der inflationäre Gebrauch nationaler Symbole i...        Meinung   \n6                                                NaN  International   \n7                                                NaN     Wirtschaft   \n8                                                NaN  International   \n9                                                NaN          Sport   \n\n                                           lead_text                 pub_date  \n0  Zwischenxa0Rentierzucht und Klimakonferenz:xa0...    2017-02-24 04:30:00.0  \n1  Die Schweizer Gira Financial Group wirbt für G...    2017-01-27 09:10:22.0  \n2             Das Huhn: Augenweide und Gaumenfreude.    2017-05-17 04:00:00.0  \n3  Apple wird erpresst. Die Firma soll 100'000 Do...  2017-03-22 15:47:24.917  \n4  Was zum Teufel ist mit der Rockmusik los? Sie ...    2017-01-25 11:43:00.0  \n5  Der inflationäre Gebrauch nationaler Symbole i...    2017-01-08 06:00:00.0  \n6  In Österreich steht kein Auftritt eines türkis...  2017-03-22 18:26:11.283  \n7                                                NaN  2017-04-07 15:54:47.663  \n8  Bei Protesten gegen die sozialistische Regieru...  2017-04-11 03:44:42.192  \n9  Novak Djokovic verteidigt den Titel in London ...  2017-04-11 14:01:02.003  "
     },
     "execution_count": 65,
     "metadata": {},
     "output_type": "execute_result"
    }
   ],
   "source": [
    "read_articles = articles[articles[\"nzz_id\"].isin(readers[readers[\"user_id\"] == 5][\"nzz_id\"])][\"nzz_id\"].values.tolist()\r\n",
    "cf_recommender_model.recommend(4,topn=100000, articles_to_ignore=read_articles, verbose=True).head(10)"
   ]
  },
  {
   "cell_type": "code",
   "execution_count": 66,
   "metadata": {},
   "outputs": [
    {
     "data": {
      "text/html": "<div>\n<style scoped>\n    .dataframe tbody tr th:only-of-type {\n        vertical-align: middle;\n    }\n\n    .dataframe tbody tr th {\n        vertical-align: top;\n    }\n\n    .dataframe thead th {\n        text-align: right;\n    }\n</style>\n<table border=\"1\" class=\"dataframe\">\n  <thead>\n    <tr style=\"text-align: right;\">\n      <th></th>\n      <th>nzz_id</th>\n      <th>author</th>\n      <th>catchline</th>\n      <th>department</th>\n      <th>lead_text</th>\n      <th>pub_date</th>\n      <th>title</th>\n      <th>paragraph</th>\n    </tr>\n  </thead>\n  <tbody>\n    <tr>\n      <th>881</th>\n      <td>ld.151297</td>\n      <td>Unknown</td>\n      <td>Liechtensteinische Landesbank</td>\n      <td>Finanzen</td>\n      <td>Die Liechtensteinische Landesbank (LLB) hat im...</td>\n      <td>2017-03-14 19:42:30.0</td>\n      <td>Der LLB wachsen Flügel</td>\n      <td>Die Liechtensteinische Landesbank (LLB) hat im...</td>\n    </tr>\n    <tr>\n      <th>1576</th>\n      <td>ld.154306</td>\n      <td>Werner Grundlehner</td>\n      <td>Die Zukunft der Börse</td>\n      <td>Finanzen</td>\n      <td>Die traditionellen Börsen kämpfen gegen global...</td>\n      <td>2017-03-30 04:30:00.0</td>\n      <td>Der Aktienhandel wird zum Nebenschauplatz</td>\n      <td>NaN</td>\n    </tr>\n    <tr>\n      <th>3096</th>\n      <td>ld.152567</td>\n      <td>Unknown</td>\n      <td>Challenge League</td>\n      <td>Sport</td>\n      <td>Neuchâtel Xamax verhindert gegen Le Mont mit z...</td>\n      <td>2017-03-20 21:11:54.0</td>\n      <td>Neuenburg bezwingt Le Mont knapp</td>\n      <td>Neuchâtel Xamax verhindert gegen Le Mont mit z...</td>\n    </tr>\n    <tr>\n      <th>4807</th>\n      <td>ld.139578</td>\n      <td>Unknown</td>\n      <td>VW-Abgas-Skandal</td>\n      <td>Wirtschaft</td>\n      <td>Ein am Wochenende in Florida wegen mutmasslich...</td>\n      <td>2017-01-13 04:11:10.0</td>\n      <td>Kaution für verhafteten Manager abgelehnt</td>\n      <td>Ein am Wochenende in Florida wegen mutmasslich...</td>\n    </tr>\n    <tr>\n      <th>5475</th>\n      <td>ld.143485</td>\n      <td>Anja Burri</td>\n      <td>Internet-Zensur für Online-Kasinos</td>\n      <td>NZZaS</td>\n      <td>Die Schweiz ist auf bestem Weg, eine Internet-...</td>\n      <td>2017-02-03 09:29:44.0</td>\n      <td>Das Spiel ist aus</td>\n      <td>Die Schweiz ist auf bestem Weg, eine Internet-...</td>\n    </tr>\n    <tr>\n      <th>6075</th>\n      <td>ld.151690</td>\n      <td>Joana Kelen, Simon Wimmer, Michael Radunski</td>\n      <td>Atommacht Nordkorea</td>\n      <td>International</td>\n      <td>Die Raketentests der vergangenen Jahre zeigen:...</td>\n      <td>2017-04-05 15:44:33.323</td>\n      <td>Nordkoreas Raketen im Überblick</td>\n      <td>NaN</td>\n    </tr>\n    <tr>\n      <th>6322</th>\n      <td>ld.147885</td>\n      <td>Unknown</td>\n      <td>Super League</td>\n      <td>Sport</td>\n      <td>St. Gallen gegen Lugano ist, wenn die Heimmann...</td>\n      <td>2017-02-26 17:14:00.0</td>\n      <td>Lugano siegt dank Sadiku</td>\n      <td>St. Gallen gegen Lugano ist, wenn die Heimmann...</td>\n    </tr>\n    <tr>\n      <th>6500</th>\n      <td>ld.1294366</td>\n      <td>Joseph Croitoru</td>\n      <td>Hamas und Muslimbruderschaft</td>\n      <td>Meinung</td>\n      <td>Die palästinensische Hamas hat jüngst ein neue...</td>\n      <td>2017-05-18 03:30:00.0</td>\n      <td>Die Nabelschnur zu Ägypten ist gekappt</td>\n      <td>Die Muslimbruderschaft wurde 1928 mit dem Ziel...</td>\n    </tr>\n    <tr>\n      <th>6530</th>\n      <td>ld.141814</td>\n      <td>Jochen Siegle</td>\n      <td>TV-Technik</td>\n      <td>Digital</td>\n      <td>Es war absehbar: Nach Samsung verabschieden si...</td>\n      <td>2017-01-25 15:18:57.0</td>\n      <td>3D macht sich dünn</td>\n      <td>Es war absehbar: Nach Samsung verabschieden si...</td>\n    </tr>\n    <tr>\n      <th>6822</th>\n      <td>ld.155220</td>\n      <td>Christof Leisinger</td>\n      <td>DAX knapp unter Rekordniveau</td>\n      <td>Finanzen</td>\n      <td>Gewagte Strategien zahlen sich an den Finanzmä...</td>\n      <td>2017-04-04 05:00:00.0</td>\n      <td>Lateinamerikas und Europas Märkte «ziehen»</td>\n      <td>NaN</td>\n    </tr>\n    <tr>\n      <th>7368</th>\n      <td>ld.145441</td>\n      <td>Giorgio V. Müller</td>\n      <td>Vor Übernahme durch Johnson &amp; Johnson</td>\n      <td>Wirtschaft</td>\n      <td>Das letzte Geschäftsjahr als eigenständiges Un...</td>\n      <td>2017-02-14 10:13:37.0</td>\n      <td>Letztes Spitzenjahr für Actelion</td>\n      <td>Das letzte Geschäftsjahr als eigenständiges Un...</td>\n    </tr>\n    <tr>\n      <th>8974</th>\n      <td>ld.1085748</td>\n      <td>Daniel Imwinkelried</td>\n      <td>Samih Sawiris' Ferienresort</td>\n      <td>Wirtschaft</td>\n      <td>Die Andermatt Swiss Alps hat 2016 einen Verlus...</td>\n      <td>2017-04-11 16:58:43.608</td>\n      <td>Andermatt braucht noch viel Zeit</td>\n      <td>NaN</td>\n    </tr>\n    <tr>\n      <th>9181</th>\n      <td>ld.137340</td>\n      <td>Christof Leisinger</td>\n      <td>Angeber sind schlechte Anlageberater</td>\n      <td>Finanzen</td>\n      <td>In Zeiten sich häufender Skandale und der Zwei...</td>\n      <td>2016-12-30 06:08:06.0</td>\n      <td>Vorsicht, der Fondsmanager fährt Ferrari!</td>\n      <td>In Zeiten sich häufender Skandale und der Zwei...</td>\n    </tr>\n    <tr>\n      <th>9820</th>\n      <td>ld.1295497</td>\n      <td>Samuel Burgener</td>\n      <td>FC Sion</td>\n      <td>Sport</td>\n      <td>Lew Jaschin und Real Madrid: Der junge FC-Sion...</td>\n      <td>2017-05-22 07:00:00.0</td>\n      <td>Mitryuschkin, schön und toll</td>\n      <td>«Ich bin so schön, ich bin so toll, ich bin de...</td>\n    </tr>\n    <tr>\n      <th>10069</th>\n      <td>ld.137929</td>\n      <td>Herbie Schmidt</td>\n      <td>Tesla Gigafactory</td>\n      <td>Mobilität</td>\n      <td>Elektroautohersteller Tesla bietet geladenen G...</td>\n      <td>2017-01-04 08:35:27.0</td>\n      <td>Batteriewerk kurz vor dem Start</td>\n      <td>Elektroautohersteller Tesla bietet geladenen G...</td>\n    </tr>\n    <tr>\n      <th>11209</th>\n      <td>ld.147965</td>\n      <td>Unknown</td>\n      <td>Finanzplätze London und Frankfurt</td>\n      <td>Finanzen</td>\n      <td>Die Fusion der Frankfurter und der Londoner Bö...</td>\n      <td>2017-02-27 12:46:23.0</td>\n      <td>Wieder dürfte eine Börsenhochzeitxa0platzen</td>\n      <td>Die Fusion der Frankfurter und der Londoner Bö...</td>\n    </tr>\n    <tr>\n      <th>11809</th>\n      <td>ld.143720</td>\n      <td>Martin Lindner</td>\n      <td>Computerkriminalität</td>\n      <td>NZZaS</td>\n      <td>Computer und medizinische Geräte von Kliniken ...</td>\n      <td>2017-02-06 07:46:00.0</td>\n      <td>Hacker im Spital</td>\n      <td>Computer und medizinische Geräte von Kliniken ...</td>\n    </tr>\n    <tr>\n      <th>12046</th>\n      <td>ld.141238</td>\n      <td>Unknown</td>\n      <td>Australian Open</td>\n      <td>Sport</td>\n      <td>Rekordsiegerin Serena Williams ist in den Vier...</td>\n      <td>2017-01-23 04:06:19.0</td>\n      <td>Serena Williams erreicht Viertelfinal</td>\n      <td>Rekordsiegerin Serena Williams ist in den Vier...</td>\n    </tr>\n    <tr>\n      <th>13797</th>\n      <td>ld.137891</td>\n      <td>Claude Settele</td>\n      <td>Consumer Electronics Show</td>\n      <td>Digital</td>\n      <td>An der Consumer Electronics Show 2017 in Las V...</td>\n      <td>2017-01-03 22:07:14.0</td>\n      <td>Smarte Lautsprecher verstellen die Stube</td>\n      <td>An der Consumer Electronics Show 2017 in Las V...</td>\n    </tr>\n    <tr>\n      <th>14628</th>\n      <td>ld.1290625</td>\n      <td>Unknown</td>\n      <td>E-Auto-Subventionen in der Schweiz</td>\n      <td>Mobilität</td>\n      <td>Tausend Franken pro Auto und zwei tausend Fran...</td>\n      <td>2017-05-05 09:00:00.0</td>\n      <td>Klimastiftung Schweiz will KMU zum Umstieg auf...</td>\n      <td>hdt. KMU, die auf Elektromobilität umsteigen, ...</td>\n    </tr>\n    <tr>\n      <th>15254</th>\n      <td>ld.1289822</td>\n      <td>Jochen Siegle</td>\n      <td>Social Media</td>\n      <td>Digital</td>\n      <td>Laut Medienberichten wertet Facebook die Gefüh...</td>\n      <td>2017-05-02 12:37:14.404</td>\n      <td>Facebook analysiert Emotionen der Anwender</td>\n      <td>Der australischen Tageszeitung «The Australian...</td>\n    </tr>\n    <tr>\n      <th>15829</th>\n      <td>ld.138307</td>\n      <td>Birgit Schmid</td>\n      <td>Trump-Persiflage</td>\n      <td>Gesellschaft</td>\n      <td>Der Komiker Alec Baldwin hat für die nächsten ...</td>\n      <td>2017-01-08 04:30:00.0</td>\n      <td>Da haben sich die Richtigen gefunden</td>\n      <td>Der Komiker Alec Baldwin hat für die nächsten ...</td>\n    </tr>\n    <tr>\n      <th>17643</th>\n      <td>ld.151880</td>\n      <td>Unknown</td>\n      <td>15 Jahre «NZZ am Sonntag»</td>\n      <td>NZZaS</td>\n      <td>Vor 15 Jahren erschien die erste Ausgabe der «...</td>\n      <td>2017-03-17 08:34:38.0</td>\n      <td>Die «NZZ am Sonntag» lanciert eine eigene Website</td>\n      <td>NaN</td>\n    </tr>\n    <tr>\n      <th>17937</th>\n      <td>ld.149014</td>\n      <td>Walter Bernet</td>\n      <td>Gymiprüfungen im Kanton Zürich</td>\n      <td>Zürich</td>\n      <td>Rund 6000 Schüler treten ab heute zu den Aufna...</td>\n      <td>2017-03-06 04:30:00.0</td>\n      <td>«Es geht nicht nur um Intelligenz»</td>\n      <td>Rund 6000 Schüler treten ab heute zu den Aufna...</td>\n    </tr>\n    <tr>\n      <th>19155</th>\n      <td>ld.138725</td>\n      <td>Susanne Ostwald</td>\n      <td>Golden Globe Awards</td>\n      <td>Startseite</td>\n      <td>Das Musical «La La Land» setzt bei der Verleih...</td>\n      <td>2017-01-09 08:51:00.0</td>\n      <td>Tanzend alle Preise abräumen</td>\n      <td>Das Musical «La La Land» setzt bei der Verleih...</td>\n    </tr>\n    <tr>\n      <th>19755</th>\n      <td>ld.1292222</td>\n      <td>Jochen Siegle</td>\n      <td>Open Source Software</td>\n      <td>Digital</td>\n      <td>Die Non-Profit-Organisation Mozilla hat beschl...</td>\n      <td>2017-05-11 07:43:58.889</td>\n      <td>E-Mail Client Thunderbird bleibt bei Mozilla -...</td>\n      <td>Der E-Mail Client Thunderbird wird schon lange...</td>\n    </tr>\n    <tr>\n      <th>20106</th>\n      <td>ld.137916</td>\n      <td>Christof Leisinger</td>\n      <td>Investment-Performance</td>\n      <td>Finanzen</td>\n      <td>Das Jahr 2016 hat sich für gut positionierte A...</td>\n      <td>2017-01-04 07:17:36.0</td>\n      <td>Die Anlageformen zum Durchklicken</td>\n      <td>Das Jahr 2016 hat sich für gut positionierte A...</td>\n    </tr>\n    <tr>\n      <th>20246</th>\n      <td>ld.137607</td>\n      <td>Thomas Isler</td>\n      <td>Neujahrs-Gespräch mit Christoph Gerhard</td>\n      <td>NZZaS</td>\n      <td>Pater Christoph Gerhard ist Benediktinermönch ...</td>\n      <td>2017-01-02 11:56:25.0</td>\n      <td>«Ich würde Ausserirdische taufen»</td>\n      <td>Pater Christoph Gerhard ist Benediktinermönch ...</td>\n    </tr>\n    <tr>\n      <th>20515</th>\n      <td>ld.153477</td>\n      <td>Nino Maspoli</td>\n      <td>Asus Zenbook 3 im Test</td>\n      <td>Euro 2016</td>\n      <td>Asus verbaut in seinem neusten Zenbook leistun...</td>\n      <td>2017-03-26 05:02:00.0</td>\n      <td>Es fehlt die Liebe zum Detail</td>\n      <td>NaN</td>\n    </tr>\n    <tr>\n      <th>20695</th>\n      <td>ld.141278</td>\n      <td>Jochen Siegle</td>\n      <td>Mobil-Telefonie</td>\n      <td>Digital</td>\n      <td>Japan testet die Einführung von USB-Steckdosen...</td>\n      <td>2017-01-23 15:22:25.0</td>\n      <td>Smartphone laden im Bus</td>\n      <td>Japan testet die Einführung von USB-Steckdosen...</td>\n    </tr>\n  </tbody>\n</table>\n</div>",
      "text/plain": "           nzz_id                                       author  \\\n881     ld.151297                                      Unknown   \n1576    ld.154306                           Werner Grundlehner   \n3096    ld.152567                                      Unknown   \n4807    ld.139578                                      Unknown   \n5475    ld.143485                                   Anja Burri   \n6075    ld.151690  Joana Kelen, Simon Wimmer, Michael Radunski   \n6322    ld.147885                                      Unknown   \n6500   ld.1294366                              Joseph Croitoru   \n6530    ld.141814                                Jochen Siegle   \n6822    ld.155220                           Christof Leisinger   \n7368    ld.145441                            Giorgio V. Müller   \n8974   ld.1085748                          Daniel Imwinkelried   \n9181    ld.137340                           Christof Leisinger   \n9820   ld.1295497                              Samuel Burgener   \n10069   ld.137929                               Herbie Schmidt   \n11209   ld.147965                                      Unknown   \n11809   ld.143720                               Martin Lindner   \n12046   ld.141238                                      Unknown   \n13797   ld.137891                               Claude Settele   \n14628  ld.1290625                                      Unknown   \n15254  ld.1289822                                Jochen Siegle   \n15829   ld.138307                                Birgit Schmid   \n17643   ld.151880                                      Unknown   \n17937   ld.149014                                Walter Bernet   \n19155   ld.138725                              Susanne Ostwald   \n19755  ld.1292222                                Jochen Siegle   \n20106   ld.137916                           Christof Leisinger   \n20246   ld.137607                                 Thomas Isler   \n20515   ld.153477                                 Nino Maspoli   \n20695   ld.141278                                Jochen Siegle   \n\n                                     catchline     department  \\\n881              Liechtensteinische Landesbank       Finanzen   \n1576                     Die Zukunft der Börse       Finanzen   \n3096                          Challenge League          Sport   \n4807                          VW-Abgas-Skandal     Wirtschaft   \n5475        Internet-Zensur für Online-Kasinos          NZZaS   \n6075                       Atommacht Nordkorea  International   \n6322                              Super League          Sport   \n6500              Hamas und Muslimbruderschaft        Meinung   \n6530                                TV-Technik        Digital   \n6822              DAX knapp unter Rekordniveau       Finanzen   \n7368     Vor Übernahme durch Johnson & Johnson     Wirtschaft   \n8974               Samih Sawiris' Ferienresort     Wirtschaft   \n9181      Angeber sind schlechte Anlageberater       Finanzen   \n9820                                   FC Sion          Sport   \n10069                        Tesla Gigafactory      Mobilität   \n11209        Finanzplätze London und Frankfurt       Finanzen   \n11809                     Computerkriminalität          NZZaS   \n12046                          Australian Open          Sport   \n13797                Consumer Electronics Show        Digital   \n14628       E-Auto-Subventionen in der Schweiz      Mobilität   \n15254                             Social Media        Digital   \n15829                         Trump-Persiflage   Gesellschaft   \n17643                15 Jahre «NZZ am Sonntag»          NZZaS   \n17937           Gymiprüfungen im Kanton Zürich         Zürich   \n19155                      Golden Globe Awards     Startseite   \n19755                     Open Source Software        Digital   \n20106                   Investment-Performance       Finanzen   \n20246  Neujahrs-Gespräch mit Christoph Gerhard          NZZaS   \n20515                   Asus Zenbook 3 im Test      Euro 2016   \n20695                          Mobil-Telefonie        Digital   \n\n                                               lead_text  \\\n881    Die Liechtensteinische Landesbank (LLB) hat im...   \n1576   Die traditionellen Börsen kämpfen gegen global...   \n3096   Neuchâtel Xamax verhindert gegen Le Mont mit z...   \n4807   Ein am Wochenende in Florida wegen mutmasslich...   \n5475   Die Schweiz ist auf bestem Weg, eine Internet-...   \n6075   Die Raketentests der vergangenen Jahre zeigen:...   \n6322   St. Gallen gegen Lugano ist, wenn die Heimmann...   \n6500   Die palästinensische Hamas hat jüngst ein neue...   \n6530   Es war absehbar: Nach Samsung verabschieden si...   \n6822   Gewagte Strategien zahlen sich an den Finanzmä...   \n7368   Das letzte Geschäftsjahr als eigenständiges Un...   \n8974   Die Andermatt Swiss Alps hat 2016 einen Verlus...   \n9181   In Zeiten sich häufender Skandale und der Zwei...   \n9820   Lew Jaschin und Real Madrid: Der junge FC-Sion...   \n10069  Elektroautohersteller Tesla bietet geladenen G...   \n11209  Die Fusion der Frankfurter und der Londoner Bö...   \n11809  Computer und medizinische Geräte von Kliniken ...   \n12046  Rekordsiegerin Serena Williams ist in den Vier...   \n13797  An der Consumer Electronics Show 2017 in Las V...   \n14628  Tausend Franken pro Auto und zwei tausend Fran...   \n15254  Laut Medienberichten wertet Facebook die Gefüh...   \n15829  Der Komiker Alec Baldwin hat für die nächsten ...   \n17643  Vor 15 Jahren erschien die erste Ausgabe der «...   \n17937  Rund 6000 Schüler treten ab heute zu den Aufna...   \n19155  Das Musical «La La Land» setzt bei der Verleih...   \n19755  Die Non-Profit-Organisation Mozilla hat beschl...   \n20106  Das Jahr 2016 hat sich für gut positionierte A...   \n20246  Pater Christoph Gerhard ist Benediktinermönch ...   \n20515  Asus verbaut in seinem neusten Zenbook leistun...   \n20695  Japan testet die Einführung von USB-Steckdosen...   \n\n                      pub_date  \\\n881      2017-03-14 19:42:30.0   \n1576     2017-03-30 04:30:00.0   \n3096     2017-03-20 21:11:54.0   \n4807     2017-01-13 04:11:10.0   \n5475     2017-02-03 09:29:44.0   \n6075   2017-04-05 15:44:33.323   \n6322     2017-02-26 17:14:00.0   \n6500     2017-05-18 03:30:00.0   \n6530     2017-01-25 15:18:57.0   \n6822     2017-04-04 05:00:00.0   \n7368     2017-02-14 10:13:37.0   \n8974   2017-04-11 16:58:43.608   \n9181     2016-12-30 06:08:06.0   \n9820     2017-05-22 07:00:00.0   \n10069    2017-01-04 08:35:27.0   \n11209    2017-02-27 12:46:23.0   \n11809    2017-02-06 07:46:00.0   \n12046    2017-01-23 04:06:19.0   \n13797    2017-01-03 22:07:14.0   \n14628    2017-05-05 09:00:00.0   \n15254  2017-05-02 12:37:14.404   \n15829    2017-01-08 04:30:00.0   \n17643    2017-03-17 08:34:38.0   \n17937    2017-03-06 04:30:00.0   \n19155    2017-01-09 08:51:00.0   \n19755  2017-05-11 07:43:58.889   \n20106    2017-01-04 07:17:36.0   \n20246    2017-01-02 11:56:25.0   \n20515    2017-03-26 05:02:00.0   \n20695    2017-01-23 15:22:25.0   \n\n                                                   title  \\\n881                               Der LLB wachsen Flügel   \n1576           Der Aktienhandel wird zum Nebenschauplatz   \n3096                    Neuenburg bezwingt Le Mont knapp   \n4807           Kaution für verhafteten Manager abgelehnt   \n5475                                   Das Spiel ist aus   \n6075                     Nordkoreas Raketen im Überblick   \n6322                            Lugano siegt dank Sadiku   \n6500              Die Nabelschnur zu Ägypten ist gekappt   \n6530                                  3D macht sich dünn   \n6822          Lateinamerikas und Europas Märkte «ziehen»   \n7368                    Letztes Spitzenjahr für Actelion   \n8974                    Andermatt braucht noch viel Zeit   \n9181           Vorsicht, der Fondsmanager fährt Ferrari!   \n9820                        Mitryuschkin, schön und toll   \n10069                    Batteriewerk kurz vor dem Start   \n11209        Wieder dürfte eine Börsenhochzeitxa0platzen   \n11809                                   Hacker im Spital   \n12046              Serena Williams erreicht Viertelfinal   \n13797           Smarte Lautsprecher verstellen die Stube   \n14628  Klimastiftung Schweiz will KMU zum Umstieg auf...   \n15254         Facebook analysiert Emotionen der Anwender   \n15829               Da haben sich die Richtigen gefunden   \n17643  Die «NZZ am Sonntag» lanciert eine eigene Website   \n17937                 «Es geht nicht nur um Intelligenz»   \n19155                       Tanzend alle Preise abräumen   \n19755  E-Mail Client Thunderbird bleibt bei Mozilla -...   \n20106                  Die Anlageformen zum Durchklicken   \n20246                  «Ich würde Ausserirdische taufen»   \n20515                      Es fehlt die Liebe zum Detail   \n20695                            Smartphone laden im Bus   \n\n                                               paragraph  \n881    Die Liechtensteinische Landesbank (LLB) hat im...  \n1576                                                 NaN  \n3096   Neuchâtel Xamax verhindert gegen Le Mont mit z...  \n4807   Ein am Wochenende in Florida wegen mutmasslich...  \n5475   Die Schweiz ist auf bestem Weg, eine Internet-...  \n6075                                                 NaN  \n6322   St. Gallen gegen Lugano ist, wenn die Heimmann...  \n6500   Die Muslimbruderschaft wurde 1928 mit dem Ziel...  \n6530   Es war absehbar: Nach Samsung verabschieden si...  \n6822                                                 NaN  \n7368   Das letzte Geschäftsjahr als eigenständiges Un...  \n8974                                                 NaN  \n9181   In Zeiten sich häufender Skandale und der Zwei...  \n9820   «Ich bin so schön, ich bin so toll, ich bin de...  \n10069  Elektroautohersteller Tesla bietet geladenen G...  \n11209  Die Fusion der Frankfurter und der Londoner Bö...  \n11809  Computer und medizinische Geräte von Kliniken ...  \n12046  Rekordsiegerin Serena Williams ist in den Vier...  \n13797  An der Consumer Electronics Show 2017 in Las V...  \n14628  hdt. KMU, die auf Elektromobilität umsteigen, ...  \n15254  Der australischen Tageszeitung «The Australian...  \n15829  Der Komiker Alec Baldwin hat für die nächsten ...  \n17643                                                NaN  \n17937  Rund 6000 Schüler treten ab heute zu den Aufna...  \n19155  Das Musical «La La Land» setzt bei der Verleih...  \n19755  Der E-Mail Client Thunderbird wird schon lange...  \n20106  Das Jahr 2016 hat sich für gut positionierte A...  \n20246  Pater Christoph Gerhard ist Benediktinermönch ...  \n20515                                                NaN  \n20695  Japan testet die Einführung von USB-Steckdosen...  "
     },
     "execution_count": 66,
     "metadata": {},
     "output_type": "execute_result"
    }
   ],
   "source": [
    "articles[articles[\"nzz_id\"].isin(readers[readers[\"user_id\"] == 5][\"nzz_id\"])]\r\n"
   ]
  },
  {
   "cell_type": "code",
   "execution_count": null,
   "metadata": {},
   "outputs": [],
   "source": []
  }
 ],
 "metadata": {
  "kernelspec": {
   "display_name": "Python 3.8.8 64-bit ('python-3.8.8.amd64')",
   "name": "python388jvsc74a57bd0fa40d802589a21bf16ea36e6cbe213719a0e5ddda597750d0ec239eff626732c"
  },
  "language_info": {
   "codemirror_mode": {
    "name": "ipython",
    "version": 3
   },
   "file_extension": ".py",
   "mimetype": "text/x-python",
   "name": "python",
   "nbconvert_exporter": "python",
   "pygments_lexer": "ipython3",
   "version": "3.8.8"
  },
  "orig_nbformat": 2
 },
 "nbformat": 4,
 "nbformat_minor": 2
}