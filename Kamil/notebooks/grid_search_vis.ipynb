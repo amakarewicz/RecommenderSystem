{
 "cells": [
  {
   "cell_type": "code",
   "execution_count": 1,
   "metadata": {},
   "outputs": [],
   "source": [
    "import pandas as pd\r\n",
    "import plotly\r\n",
    "import plotly.express as px\r\n",
    "import json"
   ]
  },
  {
   "cell_type": "code",
   "execution_count": 2,
   "metadata": {},
   "outputs": [],
   "source": [
    "with open(\"../output/grid_search.json\", \"r\", encoding=\"utf-8\") as file:\r\n",
    "    grid_search = json.load(file)"
   ]
  },
  {
   "cell_type": "code",
   "execution_count": 3,
   "metadata": {},
   "outputs": [],
   "source": [
    "grid_search_recall = [{**element[\"parameters\"], **element[\"results\"]} for element in grid_search]"
   ]
  },
  {
   "cell_type": "code",
   "execution_count": 4,
   "metadata": {},
   "outputs": [
    {
     "data": {
      "text/html": "<div>\n<style scoped>\n    .dataframe tbody tr th:only-of-type {\n        vertical-align: middle;\n    }\n\n    .dataframe tbody tr th {\n        vertical-align: top;\n    }\n\n    .dataframe thead th {\n        text-align: right;\n    }\n</style>\n<table border=\"1\" class=\"dataframe\">\n  <thead>\n    <tr style=\"text-align: right;\">\n      <th></th>\n      <th>num_factors</th>\n      <th>regularization</th>\n      <th>alpha</th>\n      <th>modelName</th>\n      <th>recall@5</th>\n      <th>precision@5</th>\n      <th>f1_score@5</th>\n      <th>ndcg@5</th>\n    </tr>\n  </thead>\n  <tbody>\n    <tr>\n      <th>0</th>\n      <td>10</td>\n      <td>0.0</td>\n      <td>1</td>\n      <td>implicit_model</td>\n      <td>0.179782</td>\n      <td>0.035956</td>\n      <td>0.059927</td>\n      <td>0.128621</td>\n    </tr>\n    <tr>\n      <th>1</th>\n      <td>10</td>\n      <td>0.0</td>\n      <td>10</td>\n      <td>implicit_model</td>\n      <td>0.231825</td>\n      <td>0.046365</td>\n      <td>0.077275</td>\n      <td>0.166917</td>\n    </tr>\n    <tr>\n      <th>2</th>\n      <td>10</td>\n      <td>0.0</td>\n      <td>50</td>\n      <td>implicit_model</td>\n      <td>0.229321</td>\n      <td>0.045864</td>\n      <td>0.076440</td>\n      <td>0.164060</td>\n    </tr>\n    <tr>\n      <th>3</th>\n      <td>10</td>\n      <td>0.0</td>\n      <td>100</td>\n      <td>implicit_model</td>\n      <td>0.214088</td>\n      <td>0.042818</td>\n      <td>0.071363</td>\n      <td>0.145310</td>\n    </tr>\n    <tr>\n      <th>4</th>\n      <td>10</td>\n      <td>0.0</td>\n      <td>500</td>\n      <td>implicit_model</td>\n      <td>0.170232</td>\n      <td>0.034046</td>\n      <td>0.056744</td>\n      <td>0.112666</td>\n    </tr>\n  </tbody>\n</table>\n</div>",
      "text/plain": "   num_factors  regularization  alpha       modelName  recall@5  precision@5  \\\n0           10             0.0      1  implicit_model  0.179782     0.035956   \n1           10             0.0     10  implicit_model  0.231825     0.046365   \n2           10             0.0     50  implicit_model  0.229321     0.045864   \n3           10             0.0    100  implicit_model  0.214088     0.042818   \n4           10             0.0    500  implicit_model  0.170232     0.034046   \n\n   f1_score@5    ndcg@5  \n0    0.059927  0.128621  \n1    0.077275  0.166917  \n2    0.076440  0.164060  \n3    0.071363  0.145310  \n4    0.056744  0.112666  "
     },
     "execution_count": 4,
     "metadata": {},
     "output_type": "execute_result"
    }
   ],
   "source": [
    "df = pd.DataFrame.from_dict(grid_search_recall)\r\n",
    "df.head()"
   ]
  },
  {
   "cell_type": "code",
   "execution_count": 7,
   "metadata": {},
   "outputs": [
    {
     "data": {
      "text/plain": "array([0.e+00, 1.e-05, 1.e-03, 1.e-01, 1.e+01, 1.e+02])"
     },
     "execution_count": 7,
     "metadata": {},
     "output_type": "execute_result"
    }
   ],
   "source": [
    "df[\"regularization\"].unique()"
   ]
  },
  {
   "cell_type": "code",
   "execution_count": 25,
   "metadata": {},
   "outputs": [
    {
     "data": {
      "application/vnd.plotly.v1+json": {
       "config": {
        "plotlyServerURL": "https://plot.ly"
       },
       "data": [
        {
         "hovertemplate": "num_factors=%{x}<br>regularization=%{y}<br>alpha=%{z}<br>f1_score@5=%{marker.color}<extra></extra>",
         "legendgroup": "",
         "marker": {
          "color": [
           0.059927248677248676,
           0.07727486232588274,
           0.0764401792463017,
           0.07136256883705863,
           0.05674400712666018,
           0.048828690206241226,
           0.059456862109923334,
           0.08024457402008423,
           0.07320173307418207,
           0.06903790087463557,
           0.056431540870316384,
           0.05479024943310658,
           0.05840824425008099,
           0.08008840837922471,
           0.07594887161213691,
           0.07065138753914264,
           0.05613689126444229,
           0.05231360004319188,
           0.06118750674873124,
           0.07944201490119858,
           0.07697940287226002,
           0.07015684051398337,
           0.05863743116294137,
           0.05003900766655869,
           0.06166990605766116,
           0.07955552856063061,
           0.07330917287549941,
           0.06852904653925061,
           0.054439720332577476,
           0.053005479969765686,
           0.01015684051398337,
           0.060044946550048585,
           0.08133300939423388,
           0.07456227729186914,
           0.05797133138969873,
           0.0537674117265954,
           0.06587045135514523,
           0.08358290141453407,
           0.08191178058524998,
           0.07967673577367457,
           0.06445038332793435,
           0.06104497354497355,
           0.06660835762876578,
           0.08404100529100529,
           0.08200086383759854,
           0.07311831875607386,
           0.06767816650469712,
           0.056153763092538604,
           0.06551236367562899,
           0.08335317460317461,
           0.08036240686750892,
           0.07943378144908757,
           0.06515792031098153,
           0.0614727081308714,
           0.06406219630709427,
           0.08382369614512472,
           0.08112109923334412,
           0.07397162833387323,
           0.06993548212935968,
           0.06190948601662888,
           0.05893639995680812,
           0.08201368642695173,
           0.0823804124824533,
           0.07805434078393261,
           0.06970373069862866,
           0.06066987906273621,
           0.01255169528128712,
           0.06042611489040061,
           0.08622691933916424,
           0.08323304718712882,
           0.06898418097397688,
           0.06025955620343376,
           0.0667897635244574,
           0.08849125364431487,
           0.08696739013065545,
           0.08425966418313358,
           0.07357480293704784,
           0.0645174657164453,
           0.0662555339596156,
           0.08600016196954971,
           0.08772878198898608,
           0.08156246625634381,
           0.07084305150631683,
           0.06384326746571645,
           0.0682473544973545,
           0.08649794838570349,
           0.08322656840513984,
           0.08388348990389807,
           0.07186291977108304,
           0.061787064031961984,
           0.06602337760501026,
           0.08805312601230969,
           0.0891954162617428,
           0.08431176438829499,
           0.0799317028398661,
           0.07485490227837166,
           0.06043853255587949,
           0.08840567973221033,
           0.08838259907137458,
           0.08575666774646368,
           0.07762984558902926,
           0.06793475326638593,
           0.010978161105712125,
           0.060428409459021705,
           0.09398337112622827,
           0.0916655868696685,
           0.0827937047835007,
           0.07550278047727027,
           0.0717342889536767,
           0.09214528668610301,
           0.08649727351257964,
           0.08579567541302235,
           0.07543137890076666,
           0.06462058632977,
           0.07050102580714827,
           0.09227094806176439,
           0.09007383111974947,
           0.0875998812223302,
           0.07378725299643667,
           0.06343712881978188,
           0.06976460425440018,
           0.0932908163265306,
           0.08736839974084872,
           0.08544177194687398,
           0.07333157866321131,
           0.06420526940935103,
           0.073275294244682,
           0.09241577583414318,
           0.08671039844509233,
           0.0871060090702948,
           0.0827978889968686,
           0.07711491739552966,
           0.0602332361516035,
           0.09296296296296296,
           0.09375080984774861,
           0.08885703487744305,
           0.08246328690206242,
           0.07195200302343159,
           0.010841296836194794,
           0.06244789979483857,
           0.10122044055717526,
           0.09806527372853903,
           0.09384097289709535,
           0.08836923658352229,
           0.0716527642803153,
           0.08849962207105065,
           0.0854622880898391,
           0.08513659432026778,
           0.07269692797754022,
           0.05890927005722925,
           0.07441475002699491,
           0.08879008746355686,
           0.08771447467876041,
           0.08589758125472412,
           0.07183322535363351,
           0.06032150955620343,
           0.07429799697656841,
           0.09057391210452435,
           0.08746274700356334,
           0.08679772702731886,
           0.07240646258503403,
           0.06368467228161107,
           0.07291261742792356,
           0.0905878144908757,
           0.08665627362055935,
           0.08564909297052153,
           0.07952569916855631,
           0.07860031314112947,
           0.0593787118021812,
           0.09296174819134002,
           0.09010460533419717,
           0.08875728862973761,
           0.07943864053557931,
           0.07490605766115971,
           0.010112298887809092,
           0.06230415181945794,
           0.10405139833711263,
           0.09951220170607925,
           0.09563222114242523,
           0.09040721844293272
          ],
          "coloraxis": "coloraxis",
          "symbol": "circle"
         },
         "mode": "markers",
         "name": "",
         "scene": "scene",
         "showlegend": false,
         "type": "scatter3d",
         "x": [
          10,
          10,
          10,
          10,
          10,
          10,
          10,
          10,
          10,
          10,
          10,
          10,
          10,
          10,
          10,
          10,
          10,
          10,
          10,
          10,
          10,
          10,
          10,
          10,
          10,
          10,
          10,
          10,
          10,
          10,
          10,
          10,
          10,
          10,
          10,
          10,
          20,
          20,
          20,
          20,
          20,
          20,
          20,
          20,
          20,
          20,
          20,
          20,
          20,
          20,
          20,
          20,
          20,
          20,
          20,
          20,
          20,
          20,
          20,
          20,
          20,
          20,
          20,
          20,
          20,
          20,
          20,
          20,
          20,
          20,
          20,
          20,
          40,
          40,
          40,
          40,
          40,
          40,
          40,
          40,
          40,
          40,
          40,
          40,
          40,
          40,
          40,
          40,
          40,
          40,
          40,
          40,
          40,
          40,
          40,
          40,
          40,
          40,
          40,
          40,
          40,
          40,
          40,
          40,
          40,
          40,
          40,
          40,
          80,
          80,
          80,
          80,
          80,
          80,
          80,
          80,
          80,
          80,
          80,
          80,
          80,
          80,
          80,
          80,
          80,
          80,
          80,
          80,
          80,
          80,
          80,
          80,
          80,
          80,
          80,
          80,
          80,
          80,
          80,
          80,
          80,
          80,
          80,
          80,
          120,
          120,
          120,
          120,
          120,
          120,
          120,
          120,
          120,
          120,
          120,
          120,
          120,
          120,
          120,
          120,
          120,
          120,
          120,
          120,
          120,
          120,
          120,
          120,
          120,
          120,
          120,
          120,
          120,
          120,
          120,
          120,
          120,
          120,
          120,
          120
         ],
         "y": [
          0,
          0,
          0,
          0,
          0,
          0,
          0.00001,
          0.00001,
          0.00001,
          0.00001,
          0.00001,
          0.00001,
          0.001,
          0.001,
          0.001,
          0.001,
          0.001,
          0.001,
          0.1,
          0.1,
          0.1,
          0.1,
          0.1,
          0.1,
          10,
          10,
          10,
          10,
          10,
          10,
          100,
          100,
          100,
          100,
          100,
          100,
          0,
          0,
          0,
          0,
          0,
          0,
          0.00001,
          0.00001,
          0.00001,
          0.00001,
          0.00001,
          0.00001,
          0.001,
          0.001,
          0.001,
          0.001,
          0.001,
          0.001,
          0.1,
          0.1,
          0.1,
          0.1,
          0.1,
          0.1,
          10,
          10,
          10,
          10,
          10,
          10,
          100,
          100,
          100,
          100,
          100,
          100,
          0,
          0,
          0,
          0,
          0,
          0,
          0.00001,
          0.00001,
          0.00001,
          0.00001,
          0.00001,
          0.00001,
          0.001,
          0.001,
          0.001,
          0.001,
          0.001,
          0.001,
          0.1,
          0.1,
          0.1,
          0.1,
          0.1,
          0.1,
          10,
          10,
          10,
          10,
          10,
          10,
          100,
          100,
          100,
          100,
          100,
          100,
          0,
          0,
          0,
          0,
          0,
          0,
          0.00001,
          0.00001,
          0.00001,
          0.00001,
          0.00001,
          0.00001,
          0.001,
          0.001,
          0.001,
          0.001,
          0.001,
          0.001,
          0.1,
          0.1,
          0.1,
          0.1,
          0.1,
          0.1,
          10,
          10,
          10,
          10,
          10,
          10,
          100,
          100,
          100,
          100,
          100,
          100,
          0,
          0,
          0,
          0,
          0,
          0,
          0.00001,
          0.00001,
          0.00001,
          0.00001,
          0.00001,
          0.00001,
          0.001,
          0.001,
          0.001,
          0.001,
          0.001,
          0.001,
          0.1,
          0.1,
          0.1,
          0.1,
          0.1,
          0.1,
          10,
          10,
          10,
          10,
          10,
          10,
          100,
          100,
          100,
          100,
          100,
          100
         ],
         "z": [
          1,
          10,
          50,
          100,
          500,
          1000,
          1,
          10,
          50,
          100,
          500,
          1000,
          1,
          10,
          50,
          100,
          500,
          1000,
          1,
          10,
          50,
          100,
          500,
          1000,
          1,
          10,
          50,
          100,
          500,
          1000,
          1,
          10,
          50,
          100,
          500,
          1000,
          1,
          10,
          50,
          100,
          500,
          1000,
          1,
          10,
          50,
          100,
          500,
          1000,
          1,
          10,
          50,
          100,
          500,
          1000,
          1,
          10,
          50,
          100,
          500,
          1000,
          1,
          10,
          50,
          100,
          500,
          1000,
          1,
          10,
          50,
          100,
          500,
          1000,
          1,
          10,
          50,
          100,
          500,
          1000,
          1,
          10,
          50,
          100,
          500,
          1000,
          1,
          10,
          50,
          100,
          500,
          1000,
          1,
          10,
          50,
          100,
          500,
          1000,
          1,
          10,
          50,
          100,
          500,
          1000,
          1,
          10,
          50,
          100,
          500,
          1000,
          1,
          10,
          50,
          100,
          500,
          1000,
          1,
          10,
          50,
          100,
          500,
          1000,
          1,
          10,
          50,
          100,
          500,
          1000,
          1,
          10,
          50,
          100,
          500,
          1000,
          1,
          10,
          50,
          100,
          500,
          1000,
          1,
          10,
          50,
          100,
          500,
          1000,
          1,
          10,
          50,
          100,
          500,
          1000,
          1,
          10,
          50,
          100,
          500,
          1000,
          1,
          10,
          50,
          100,
          500,
          1000,
          1,
          10,
          50,
          100,
          500,
          1000,
          1,
          10,
          50,
          100,
          500,
          1000,
          1,
          10,
          50,
          100,
          500,
          1000
         ]
        }
       ],
       "layout": {
        "coloraxis": {
         "colorbar": {
          "title": {
           "text": "f1_score@5"
          }
         },
         "colorscale": [
          [
           0,
           "rgb(243, 231, 155)"
          ],
          [
           0.16666666666666666,
           "rgb(250, 196, 132)"
          ],
          [
           0.3333333333333333,
           "rgb(248, 160, 126)"
          ],
          [
           0.5,
           "rgb(235, 127, 134)"
          ],
          [
           0.6666666666666666,
           "rgb(206, 102, 147)"
          ],
          [
           0.8333333333333334,
           "rgb(160, 89, 160)"
          ],
          [
           1,
           "rgb(92, 83, 165)"
          ]
         ]
        },
        "height": 900,
        "legend": {
         "tracegroupgap": 0
        },
        "margin": {
         "t": 60
        },
        "scene": {
         "domain": {
          "x": [
           0,
           1
          ],
          "y": [
           0,
           1
          ]
         },
         "xaxis": {
          "title": {
           "text": "num_factors"
          },
          "type": "log"
         },
         "yaxis": {
          "title": {
           "text": "regularization"
          },
          "type": "log"
         },
         "zaxis": {
          "title": {
           "text": "alpha"
          },
          "type": "log"
         }
        },
        "template": {
         "data": {
          "bar": [
           {
            "error_x": {
             "color": "#2a3f5f"
            },
            "error_y": {
             "color": "#2a3f5f"
            },
            "marker": {
             "line": {
              "color": "#E5ECF6",
              "width": 0.5
             }
            },
            "type": "bar"
           }
          ],
          "barpolar": [
           {
            "marker": {
             "line": {
              "color": "#E5ECF6",
              "width": 0.5
             }
            },
            "type": "barpolar"
           }
          ],
          "carpet": [
           {
            "aaxis": {
             "endlinecolor": "#2a3f5f",
             "gridcolor": "white",
             "linecolor": "white",
             "minorgridcolor": "white",
             "startlinecolor": "#2a3f5f"
            },
            "baxis": {
             "endlinecolor": "#2a3f5f",
             "gridcolor": "white",
             "linecolor": "white",
             "minorgridcolor": "white",
             "startlinecolor": "#2a3f5f"
            },
            "type": "carpet"
           }
          ],
          "choropleth": [
           {
            "colorbar": {
             "outlinewidth": 0,
             "ticks": ""
            },
            "type": "choropleth"
           }
          ],
          "contour": [
           {
            "colorbar": {
             "outlinewidth": 0,
             "ticks": ""
            },
            "colorscale": [
             [
              0,
              "#0d0887"
             ],
             [
              0.1111111111111111,
              "#46039f"
             ],
             [
              0.2222222222222222,
              "#7201a8"
             ],
             [
              0.3333333333333333,
              "#9c179e"
             ],
             [
              0.4444444444444444,
              "#bd3786"
             ],
             [
              0.5555555555555556,
              "#d8576b"
             ],
             [
              0.6666666666666666,
              "#ed7953"
             ],
             [
              0.7777777777777778,
              "#fb9f3a"
             ],
             [
              0.8888888888888888,
              "#fdca26"
             ],
             [
              1,
              "#f0f921"
             ]
            ],
            "type": "contour"
           }
          ],
          "contourcarpet": [
           {
            "colorbar": {
             "outlinewidth": 0,
             "ticks": ""
            },
            "type": "contourcarpet"
           }
          ],
          "heatmap": [
           {
            "colorbar": {
             "outlinewidth": 0,
             "ticks": ""
            },
            "colorscale": [
             [
              0,
              "#0d0887"
             ],
             [
              0.1111111111111111,
              "#46039f"
             ],
             [
              0.2222222222222222,
              "#7201a8"
             ],
             [
              0.3333333333333333,
              "#9c179e"
             ],
             [
              0.4444444444444444,
              "#bd3786"
             ],
             [
              0.5555555555555556,
              "#d8576b"
             ],
             [
              0.6666666666666666,
              "#ed7953"
             ],
             [
              0.7777777777777778,
              "#fb9f3a"
             ],
             [
              0.8888888888888888,
              "#fdca26"
             ],
             [
              1,
              "#f0f921"
             ]
            ],
            "type": "heatmap"
           }
          ],
          "heatmapgl": [
           {
            "colorbar": {
             "outlinewidth": 0,
             "ticks": ""
            },
            "colorscale": [
             [
              0,
              "#0d0887"
             ],
             [
              0.1111111111111111,
              "#46039f"
             ],
             [
              0.2222222222222222,
              "#7201a8"
             ],
             [
              0.3333333333333333,
              "#9c179e"
             ],
             [
              0.4444444444444444,
              "#bd3786"
             ],
             [
              0.5555555555555556,
              "#d8576b"
             ],
             [
              0.6666666666666666,
              "#ed7953"
             ],
             [
              0.7777777777777778,
              "#fb9f3a"
             ],
             [
              0.8888888888888888,
              "#fdca26"
             ],
             [
              1,
              "#f0f921"
             ]
            ],
            "type": "heatmapgl"
           }
          ],
          "histogram": [
           {
            "marker": {
             "colorbar": {
              "outlinewidth": 0,
              "ticks": ""
             }
            },
            "type": "histogram"
           }
          ],
          "histogram2d": [
           {
            "colorbar": {
             "outlinewidth": 0,
             "ticks": ""
            },
            "colorscale": [
             [
              0,
              "#0d0887"
             ],
             [
              0.1111111111111111,
              "#46039f"
             ],
             [
              0.2222222222222222,
              "#7201a8"
             ],
             [
              0.3333333333333333,
              "#9c179e"
             ],
             [
              0.4444444444444444,
              "#bd3786"
             ],
             [
              0.5555555555555556,
              "#d8576b"
             ],
             [
              0.6666666666666666,
              "#ed7953"
             ],
             [
              0.7777777777777778,
              "#fb9f3a"
             ],
             [
              0.8888888888888888,
              "#fdca26"
             ],
             [
              1,
              "#f0f921"
             ]
            ],
            "type": "histogram2d"
           }
          ],
          "histogram2dcontour": [
           {
            "colorbar": {
             "outlinewidth": 0,
             "ticks": ""
            },
            "colorscale": [
             [
              0,
              "#0d0887"
             ],
             [
              0.1111111111111111,
              "#46039f"
             ],
             [
              0.2222222222222222,
              "#7201a8"
             ],
             [
              0.3333333333333333,
              "#9c179e"
             ],
             [
              0.4444444444444444,
              "#bd3786"
             ],
             [
              0.5555555555555556,
              "#d8576b"
             ],
             [
              0.6666666666666666,
              "#ed7953"
             ],
             [
              0.7777777777777778,
              "#fb9f3a"
             ],
             [
              0.8888888888888888,
              "#fdca26"
             ],
             [
              1,
              "#f0f921"
             ]
            ],
            "type": "histogram2dcontour"
           }
          ],
          "mesh3d": [
           {
            "colorbar": {
             "outlinewidth": 0,
             "ticks": ""
            },
            "type": "mesh3d"
           }
          ],
          "parcoords": [
           {
            "line": {
             "colorbar": {
              "outlinewidth": 0,
              "ticks": ""
             }
            },
            "type": "parcoords"
           }
          ],
          "pie": [
           {
            "automargin": true,
            "type": "pie"
           }
          ],
          "scatter": [
           {
            "marker": {
             "colorbar": {
              "outlinewidth": 0,
              "ticks": ""
             }
            },
            "type": "scatter"
           }
          ],
          "scatter3d": [
           {
            "line": {
             "colorbar": {
              "outlinewidth": 0,
              "ticks": ""
             }
            },
            "marker": {
             "colorbar": {
              "outlinewidth": 0,
              "ticks": ""
             }
            },
            "type": "scatter3d"
           }
          ],
          "scattercarpet": [
           {
            "marker": {
             "colorbar": {
              "outlinewidth": 0,
              "ticks": ""
             }
            },
            "type": "scattercarpet"
           }
          ],
          "scattergeo": [
           {
            "marker": {
             "colorbar": {
              "outlinewidth": 0,
              "ticks": ""
             }
            },
            "type": "scattergeo"
           }
          ],
          "scattergl": [
           {
            "marker": {
             "colorbar": {
              "outlinewidth": 0,
              "ticks": ""
             }
            },
            "type": "scattergl"
           }
          ],
          "scattermapbox": [
           {
            "marker": {
             "colorbar": {
              "outlinewidth": 0,
              "ticks": ""
             }
            },
            "type": "scattermapbox"
           }
          ],
          "scatterpolar": [
           {
            "marker": {
             "colorbar": {
              "outlinewidth": 0,
              "ticks": ""
             }
            },
            "type": "scatterpolar"
           }
          ],
          "scatterpolargl": [
           {
            "marker": {
             "colorbar": {
              "outlinewidth": 0,
              "ticks": ""
             }
            },
            "type": "scatterpolargl"
           }
          ],
          "scatterternary": [
           {
            "marker": {
             "colorbar": {
              "outlinewidth": 0,
              "ticks": ""
             }
            },
            "type": "scatterternary"
           }
          ],
          "surface": [
           {
            "colorbar": {
             "outlinewidth": 0,
             "ticks": ""
            },
            "colorscale": [
             [
              0,
              "#0d0887"
             ],
             [
              0.1111111111111111,
              "#46039f"
             ],
             [
              0.2222222222222222,
              "#7201a8"
             ],
             [
              0.3333333333333333,
              "#9c179e"
             ],
             [
              0.4444444444444444,
              "#bd3786"
             ],
             [
              0.5555555555555556,
              "#d8576b"
             ],
             [
              0.6666666666666666,
              "#ed7953"
             ],
             [
              0.7777777777777778,
              "#fb9f3a"
             ],
             [
              0.8888888888888888,
              "#fdca26"
             ],
             [
              1,
              "#f0f921"
             ]
            ],
            "type": "surface"
           }
          ],
          "table": [
           {
            "cells": {
             "fill": {
              "color": "#EBF0F8"
             },
             "line": {
              "color": "white"
             }
            },
            "header": {
             "fill": {
              "color": "#C8D4E3"
             },
             "line": {
              "color": "white"
             }
            },
            "type": "table"
           }
          ]
         },
         "layout": {
          "annotationdefaults": {
           "arrowcolor": "#2a3f5f",
           "arrowhead": 0,
           "arrowwidth": 1
          },
          "autotypenumbers": "strict",
          "coloraxis": {
           "colorbar": {
            "outlinewidth": 0,
            "ticks": ""
           }
          },
          "colorscale": {
           "diverging": [
            [
             0,
             "#8e0152"
            ],
            [
             0.1,
             "#c51b7d"
            ],
            [
             0.2,
             "#de77ae"
            ],
            [
             0.3,
             "#f1b6da"
            ],
            [
             0.4,
             "#fde0ef"
            ],
            [
             0.5,
             "#f7f7f7"
            ],
            [
             0.6,
             "#e6f5d0"
            ],
            [
             0.7,
             "#b8e186"
            ],
            [
             0.8,
             "#7fbc41"
            ],
            [
             0.9,
             "#4d9221"
            ],
            [
             1,
             "#276419"
            ]
           ],
           "sequential": [
            [
             0,
             "#0d0887"
            ],
            [
             0.1111111111111111,
             "#46039f"
            ],
            [
             0.2222222222222222,
             "#7201a8"
            ],
            [
             0.3333333333333333,
             "#9c179e"
            ],
            [
             0.4444444444444444,
             "#bd3786"
            ],
            [
             0.5555555555555556,
             "#d8576b"
            ],
            [
             0.6666666666666666,
             "#ed7953"
            ],
            [
             0.7777777777777778,
             "#fb9f3a"
            ],
            [
             0.8888888888888888,
             "#fdca26"
            ],
            [
             1,
             "#f0f921"
            ]
           ],
           "sequentialminus": [
            [
             0,
             "#0d0887"
            ],
            [
             0.1111111111111111,
             "#46039f"
            ],
            [
             0.2222222222222222,
             "#7201a8"
            ],
            [
             0.3333333333333333,
             "#9c179e"
            ],
            [
             0.4444444444444444,
             "#bd3786"
            ],
            [
             0.5555555555555556,
             "#d8576b"
            ],
            [
             0.6666666666666666,
             "#ed7953"
            ],
            [
             0.7777777777777778,
             "#fb9f3a"
            ],
            [
             0.8888888888888888,
             "#fdca26"
            ],
            [
             1,
             "#f0f921"
            ]
           ]
          },
          "colorway": [
           "#636efa",
           "#EF553B",
           "#00cc96",
           "#ab63fa",
           "#FFA15A",
           "#19d3f3",
           "#FF6692",
           "#B6E880",
           "#FF97FF",
           "#FECB52"
          ],
          "font": {
           "color": "#2a3f5f"
          },
          "geo": {
           "bgcolor": "white",
           "lakecolor": "white",
           "landcolor": "#E5ECF6",
           "showlakes": true,
           "showland": true,
           "subunitcolor": "white"
          },
          "hoverlabel": {
           "align": "left"
          },
          "hovermode": "closest",
          "mapbox": {
           "style": "light"
          },
          "paper_bgcolor": "white",
          "plot_bgcolor": "#E5ECF6",
          "polar": {
           "angularaxis": {
            "gridcolor": "white",
            "linecolor": "white",
            "ticks": ""
           },
           "bgcolor": "#E5ECF6",
           "radialaxis": {
            "gridcolor": "white",
            "linecolor": "white",
            "ticks": ""
           }
          },
          "scene": {
           "xaxis": {
            "backgroundcolor": "#E5ECF6",
            "gridcolor": "white",
            "gridwidth": 2,
            "linecolor": "white",
            "showbackground": true,
            "ticks": "",
            "zerolinecolor": "white"
           },
           "yaxis": {
            "backgroundcolor": "#E5ECF6",
            "gridcolor": "white",
            "gridwidth": 2,
            "linecolor": "white",
            "showbackground": true,
            "ticks": "",
            "zerolinecolor": "white"
           },
           "zaxis": {
            "backgroundcolor": "#E5ECF6",
            "gridcolor": "white",
            "gridwidth": 2,
            "linecolor": "white",
            "showbackground": true,
            "ticks": "",
            "zerolinecolor": "white"
           }
          },
          "shapedefaults": {
           "line": {
            "color": "#2a3f5f"
           }
          },
          "ternary": {
           "aaxis": {
            "gridcolor": "white",
            "linecolor": "white",
            "ticks": ""
           },
           "baxis": {
            "gridcolor": "white",
            "linecolor": "white",
            "ticks": ""
           },
           "bgcolor": "#E5ECF6",
           "caxis": {
            "gridcolor": "white",
            "linecolor": "white",
            "ticks": ""
           }
          },
          "title": {
           "x": 0.05
          },
          "xaxis": {
           "automargin": true,
           "gridcolor": "white",
           "linecolor": "white",
           "ticks": "",
           "title": {
            "standoff": 15
           },
           "zerolinecolor": "white",
           "zerolinewidth": 2
          },
          "yaxis": {
           "automargin": true,
           "gridcolor": "white",
           "linecolor": "white",
           "ticks": "",
           "title": {
            "standoff": 15
           },
           "zerolinecolor": "white",
           "zerolinewidth": 2
          }
         }
        },
        "width": 900
       }
      }
     },
     "metadata": {},
     "output_type": "display_data"
    }
   ],
   "source": [
    "\r\n",
    "fig = px.scatter_3d(df, x='num_factors', y='regularization', z='alpha',\r\n",
    "              color='f1_score@5', log_x=True, log_y=True, log_z=True, height=900, width=900, color_continuous_scale=px.colors.sequential.Sunset)\r\n",
    "fig.show()"
   ]
  },
  {
   "cell_type": "code",
   "execution_count": 21,
   "metadata": {},
   "outputs": [],
   "source": [
    "fig.write_html(\"../output/grid_search_f1_score.html\")"
   ]
  },
  {
   "cell_type": "code",
   "execution_count": null,
   "metadata": {},
   "outputs": [],
   "source": []
  }
 ],
 "metadata": {
  "kernelspec": {
   "display_name": "Python 3.8.8 64-bit ('python-3.8.8.amd64')",
   "name": "python388jvsc74a57bd0fa40d802589a21bf16ea36e6cbe213719a0e5ddda597750d0ec239eff626732c"
  },
  "language_info": {
   "codemirror_mode": {
    "name": "ipython",
    "version": 3
   },
   "file_extension": ".py",
   "mimetype": "text/x-python",
   "name": "python",
   "nbconvert_exporter": "python",
   "pygments_lexer": "ipython3",
   "version": "3.8.8"
  },
  "orig_nbformat": 2
 },
 "nbformat": 4,
 "nbformat_minor": 2
}